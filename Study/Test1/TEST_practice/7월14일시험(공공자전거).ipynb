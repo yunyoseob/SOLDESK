{
  "nbformat": 4,
  "nbformat_minor": 0,
  "metadata": {
    "colab": {
      "name": "7월14일시험(공공자전거).ipynb",
      "provenance": [],
      "collapsed_sections": [
        "nx-FHAMEgz7S",
        "7AHwMecppdWc"
      ],
      "machine_shape": "hm"
    },
    "kernelspec": {
      "name": "python3",
      "display_name": "Python 3"
    },
    "language_info": {
      "name": "python"
    },
    "accelerator": "GPU"
  },
  "cells": [
    {
      "cell_type": "markdown",
      "metadata": {
        "id": "U7W2eV6aRtTC"
      },
      "source": [
        "<빅데이터 플랫폼 요구사항 분석>\n",
        "--\n",
        "\n",
        "Bike Sharing Demand\n",
        "--"
      ]
    },
    {
      "cell_type": "code",
      "metadata": {
        "id": "Cy6oq26AR3LP"
      },
      "source": [
        "from google.colab import files\n",
        "files.upload()"
      ],
      "execution_count": null,
      "outputs": []
    },
    {
      "cell_type": "code",
      "metadata": {
        "id": "dXheatx0SEBQ"
      },
      "source": [
        "import pandas as pd\n",
        "\n",
        "train=pd.read_csv('train.csv', parse_dates=['datetime'])\n",
        "test=pd.read_csv('test.csv', parse_dates=['datetime'])\n",
        "sub=pd.read_csv('sampleSubmission.csv')"
      ],
      "execution_count": 7,
      "outputs": []
    },
    {
      "cell_type": "code",
      "metadata": {
        "id": "8uiewLDFS2Xu"
      },
      "source": [
        "import warnings\n",
        "warnings.filterwarnings('ignore')"
      ],
      "execution_count": 8,
      "outputs": []
    },
    {
      "cell_type": "code",
      "metadata": {
        "id": "JDMe__JkS7ha"
      },
      "source": [
        "from sklearn.linear_model import LinearRegression\n",
        "from sklearn import metrics\n",
        "from sklearn.metrics import mean_squared_error\n",
        "from sklearn.linear_model import Ridge\n",
        "from sklearn.linear_model import Lasso, ElasticNet\n",
        "from sklearn.model_selection import cross_val_score\n",
        "from sklearn.metrics import mean_squared_error , r2_score\n",
        "import numpy as np\n",
        "import matplotlib.pyplot as plt\n",
        "import seaborn as sns\n",
        "import statsmodels.api as sm\n",
        "from sklearn.model_selection import train_test_split\n",
        "import xgboost\n",
        "import lightgbm\n",
        "import scipy\n",
        "from statsmodels.stats.outliers_influence import variance_inflation_factor\n",
        "from sklearn.preprocessing import StandardScaler\n",
        "from sklearn.preprocessing import MinMaxScaler\n",
        "from sklearn.model_selection import GridSearchCV"
      ],
      "execution_count": 9,
      "outputs": []
    },
    {
      "cell_type": "code",
      "metadata": {
        "id": "AwDnQwDsS8s2"
      },
      "source": [
        "from sklearn.preprocessing import LabelEncoder"
      ],
      "execution_count": 10,
      "outputs": []
    },
    {
      "cell_type": "code",
      "metadata": {
        "id": "YF-BgArYhsfx"
      },
      "source": [
        "#!pip install catboost"
      ],
      "execution_count": 12,
      "outputs": []
    },
    {
      "cell_type": "code",
      "metadata": {
        "id": "H4i-6Zqdhsia"
      },
      "source": [
        "import catboost"
      ],
      "execution_count": 13,
      "outputs": []
    },
    {
      "cell_type": "markdown",
      "metadata": {
        "id": "RGAzW1AtTFHK"
      },
      "source": [
        "1번 문제: [하] datetime의 속성을 slicing이 가능하게 바꾸시오.\n",
        "--"
      ]
    },
    {
      "cell_type": "code",
      "metadata": {
        "colab": {
          "base_uri": "https://localhost:8080/"
        },
        "id": "zuPFSG90TfI6",
        "outputId": "69bee463-b3ef-4893-bf64-ad6de151bb7b"
      },
      "source": [
        "train.head(3), train.tail(3)"
      ],
      "execution_count": 14,
      "outputs": [
        {
          "output_type": "execute_result",
          "data": {
            "text/plain": [
              "(             datetime  season  holiday  ...  casual  registered  count\n",
              " 0 2011-01-01 00:00:00       1        0  ...       3          13     16\n",
              " 1 2011-01-01 01:00:00       1        0  ...       8          32     40\n",
              " 2 2011-01-01 02:00:00       1        0  ...       5          27     32\n",
              " \n",
              " [3 rows x 12 columns],\n",
              "                  datetime  season  holiday  ...  casual  registered  count\n",
              " 10883 2012-12-19 21:00:00       4        0  ...       4         164    168\n",
              " 10884 2012-12-19 22:00:00       4        0  ...      12         117    129\n",
              " 10885 2012-12-19 23:00:00       4        0  ...       4          84     88\n",
              " \n",
              " [3 rows x 12 columns])"
            ]
          },
          "metadata": {
            "tags": []
          },
          "execution_count": 14
        }
      ]
    },
    {
      "cell_type": "code",
      "metadata": {
        "colab": {
          "base_uri": "https://localhost:8080/"
        },
        "id": "I1TL2MNqTg4B",
        "outputId": "924d402f-44e6-43a8-e863-bb4863a98b21"
      },
      "source": [
        "test.head(3), test.tail(3)"
      ],
      "execution_count": 15,
      "outputs": [
        {
          "output_type": "execute_result",
          "data": {
            "text/plain": [
              "(             datetime  season  holiday  ...   atemp  humidity  windspeed\n",
              " 0 2011-01-20 00:00:00       1        0  ...  11.365        56    26.0027\n",
              " 1 2011-01-20 01:00:00       1        0  ...  13.635        56     0.0000\n",
              " 2 2011-01-20 02:00:00       1        0  ...  13.635        56     0.0000\n",
              " \n",
              " [3 rows x 9 columns],\n",
              "                 datetime  season  holiday  ...   atemp  humidity  windspeed\n",
              " 6490 2012-12-31 21:00:00       1        0  ...  12.880        60    11.0014\n",
              " 6491 2012-12-31 22:00:00       1        0  ...  13.635        56     8.9981\n",
              " 6492 2012-12-31 23:00:00       1        0  ...  13.635        65     8.9981\n",
              " \n",
              " [3 rows x 9 columns])"
            ]
          },
          "metadata": {
            "tags": []
          },
          "execution_count": 15
        }
      ]
    },
    {
      "cell_type": "code",
      "metadata": {
        "id": "POMMjym1TABM"
      },
      "source": [
        "train['time'] = train['datetime'].dt.strftime('%Y%m%d')\n",
        "train['year_month'] = train['datetime'].dt.strftime('%Y%m')\n",
        "train['month_day'] = train['datetime'].dt.strftime('%m%d')\n",
        "train['year']=train['datetime'].dt.strftime('%Y')\n",
        "train['month']=train['datetime'].dt.strftime('%m')\n",
        "train['date']=train['datetime'].dt.strftime('%d')\n",
        "train['hour']=train['datetime'].dt.strftime('%H')\n",
        "train['day']=train['datetime'].dt.strftime('%A')\n",
        "\n",
        "test['time'] = test['datetime'].dt.strftime('%Y%m%d')\n",
        "test['year_month'] = test['datetime'].dt.strftime('%Y%m')\n",
        "test['month_day'] = test['datetime'].dt.strftime('%m%d')\n",
        "test['year']=test['datetime'].dt.strftime('%Y')\n",
        "test['month']=test['datetime'].dt.strftime('%m')\n",
        "test['date']=test['datetime'].dt.strftime('%d')\n",
        "test['hour']=test['datetime'].dt.strftime('%H')\n",
        "test['day']=test['datetime'].dt.strftime('%A')"
      ],
      "execution_count": 16,
      "outputs": []
    },
    {
      "cell_type": "code",
      "metadata": {
        "id": "8go3hTiMUX25"
      },
      "source": [
        "train['time'] =train['time'].astype(int)\n",
        "train['year_month'] = train['year_month'].astype(int)\n",
        "train['month_day'] = train['month_day'].astype(int)\n",
        "train['year']=train['year'].astype(int)\n",
        "train['month']=train['month'].astype(int)\n",
        "train['date']=train['date'].astype(int)\n",
        "train['hour']=train['hour'].astype(int)\n",
        "\n",
        "test['time'] =test['time'].astype(int)\n",
        "test['year_month'] = test['year_month'].astype(int)\n",
        "test['month_day'] = test['month_day'].astype(int)\n",
        "test['year']=test['year'].astype(int)\n",
        "test['month']=test['month'].astype(int)\n",
        "test['date']=test['date'].astype(int)\n",
        "test['hour']=test['hour'].astype(int)"
      ],
      "execution_count": 17,
      "outputs": []
    },
    {
      "cell_type": "code",
      "metadata": {
        "colab": {
          "base_uri": "https://localhost:8080/",
          "height": 264
        },
        "id": "np-oAz24UqDu",
        "outputId": "3584ac32-4261-410c-e0fd-f8bbdce7ae3c"
      },
      "source": [
        "train.head(3)"
      ],
      "execution_count": 18,
      "outputs": [
        {
          "output_type": "execute_result",
          "data": {
            "text/html": [
              "<div>\n",
              "<style scoped>\n",
              "    .dataframe tbody tr th:only-of-type {\n",
              "        vertical-align: middle;\n",
              "    }\n",
              "\n",
              "    .dataframe tbody tr th {\n",
              "        vertical-align: top;\n",
              "    }\n",
              "\n",
              "    .dataframe thead th {\n",
              "        text-align: right;\n",
              "    }\n",
              "</style>\n",
              "<table border=\"1\" class=\"dataframe\">\n",
              "  <thead>\n",
              "    <tr style=\"text-align: right;\">\n",
              "      <th></th>\n",
              "      <th>datetime</th>\n",
              "      <th>season</th>\n",
              "      <th>holiday</th>\n",
              "      <th>workingday</th>\n",
              "      <th>weather</th>\n",
              "      <th>temp</th>\n",
              "      <th>atemp</th>\n",
              "      <th>humidity</th>\n",
              "      <th>windspeed</th>\n",
              "      <th>casual</th>\n",
              "      <th>registered</th>\n",
              "      <th>count</th>\n",
              "      <th>time</th>\n",
              "      <th>year_month</th>\n",
              "      <th>month_day</th>\n",
              "      <th>year</th>\n",
              "      <th>month</th>\n",
              "      <th>date</th>\n",
              "      <th>hour</th>\n",
              "      <th>day</th>\n",
              "    </tr>\n",
              "  </thead>\n",
              "  <tbody>\n",
              "    <tr>\n",
              "      <th>0</th>\n",
              "      <td>2011-01-01 00:00:00</td>\n",
              "      <td>1</td>\n",
              "      <td>0</td>\n",
              "      <td>0</td>\n",
              "      <td>1</td>\n",
              "      <td>9.84</td>\n",
              "      <td>14.395</td>\n",
              "      <td>81</td>\n",
              "      <td>0.0</td>\n",
              "      <td>3</td>\n",
              "      <td>13</td>\n",
              "      <td>16</td>\n",
              "      <td>20110101</td>\n",
              "      <td>201101</td>\n",
              "      <td>101</td>\n",
              "      <td>2011</td>\n",
              "      <td>1</td>\n",
              "      <td>1</td>\n",
              "      <td>0</td>\n",
              "      <td>Saturday</td>\n",
              "    </tr>\n",
              "    <tr>\n",
              "      <th>1</th>\n",
              "      <td>2011-01-01 01:00:00</td>\n",
              "      <td>1</td>\n",
              "      <td>0</td>\n",
              "      <td>0</td>\n",
              "      <td>1</td>\n",
              "      <td>9.02</td>\n",
              "      <td>13.635</td>\n",
              "      <td>80</td>\n",
              "      <td>0.0</td>\n",
              "      <td>8</td>\n",
              "      <td>32</td>\n",
              "      <td>40</td>\n",
              "      <td>20110101</td>\n",
              "      <td>201101</td>\n",
              "      <td>101</td>\n",
              "      <td>2011</td>\n",
              "      <td>1</td>\n",
              "      <td>1</td>\n",
              "      <td>1</td>\n",
              "      <td>Saturday</td>\n",
              "    </tr>\n",
              "    <tr>\n",
              "      <th>2</th>\n",
              "      <td>2011-01-01 02:00:00</td>\n",
              "      <td>1</td>\n",
              "      <td>0</td>\n",
              "      <td>0</td>\n",
              "      <td>1</td>\n",
              "      <td>9.02</td>\n",
              "      <td>13.635</td>\n",
              "      <td>80</td>\n",
              "      <td>0.0</td>\n",
              "      <td>5</td>\n",
              "      <td>27</td>\n",
              "      <td>32</td>\n",
              "      <td>20110101</td>\n",
              "      <td>201101</td>\n",
              "      <td>101</td>\n",
              "      <td>2011</td>\n",
              "      <td>1</td>\n",
              "      <td>1</td>\n",
              "      <td>2</td>\n",
              "      <td>Saturday</td>\n",
              "    </tr>\n",
              "  </tbody>\n",
              "</table>\n",
              "</div>"
            ],
            "text/plain": [
              "             datetime  season  holiday  workingday  ...  month  date  hour       day\n",
              "0 2011-01-01 00:00:00       1        0           0  ...      1     1     0  Saturday\n",
              "1 2011-01-01 01:00:00       1        0           0  ...      1     1     1  Saturday\n",
              "2 2011-01-01 02:00:00       1        0           0  ...      1     1     2  Saturday\n",
              "\n",
              "[3 rows x 20 columns]"
            ]
          },
          "metadata": {
            "tags": []
          },
          "execution_count": 18
        }
      ]
    },
    {
      "cell_type": "code",
      "metadata": {
        "colab": {
          "base_uri": "https://localhost:8080/",
          "height": 264
        },
        "id": "oXIWUyaxVK9R",
        "outputId": "49a63566-8c73-4acc-f877-5690a9d7b01f"
      },
      "source": [
        "test.head(3)"
      ],
      "execution_count": 19,
      "outputs": [
        {
          "output_type": "execute_result",
          "data": {
            "text/html": [
              "<div>\n",
              "<style scoped>\n",
              "    .dataframe tbody tr th:only-of-type {\n",
              "        vertical-align: middle;\n",
              "    }\n",
              "\n",
              "    .dataframe tbody tr th {\n",
              "        vertical-align: top;\n",
              "    }\n",
              "\n",
              "    .dataframe thead th {\n",
              "        text-align: right;\n",
              "    }\n",
              "</style>\n",
              "<table border=\"1\" class=\"dataframe\">\n",
              "  <thead>\n",
              "    <tr style=\"text-align: right;\">\n",
              "      <th></th>\n",
              "      <th>datetime</th>\n",
              "      <th>season</th>\n",
              "      <th>holiday</th>\n",
              "      <th>workingday</th>\n",
              "      <th>weather</th>\n",
              "      <th>temp</th>\n",
              "      <th>atemp</th>\n",
              "      <th>humidity</th>\n",
              "      <th>windspeed</th>\n",
              "      <th>time</th>\n",
              "      <th>year_month</th>\n",
              "      <th>month_day</th>\n",
              "      <th>year</th>\n",
              "      <th>month</th>\n",
              "      <th>date</th>\n",
              "      <th>hour</th>\n",
              "      <th>day</th>\n",
              "    </tr>\n",
              "  </thead>\n",
              "  <tbody>\n",
              "    <tr>\n",
              "      <th>0</th>\n",
              "      <td>2011-01-20 00:00:00</td>\n",
              "      <td>1</td>\n",
              "      <td>0</td>\n",
              "      <td>1</td>\n",
              "      <td>1</td>\n",
              "      <td>10.66</td>\n",
              "      <td>11.365</td>\n",
              "      <td>56</td>\n",
              "      <td>26.0027</td>\n",
              "      <td>20110120</td>\n",
              "      <td>201101</td>\n",
              "      <td>120</td>\n",
              "      <td>2011</td>\n",
              "      <td>1</td>\n",
              "      <td>20</td>\n",
              "      <td>0</td>\n",
              "      <td>Thursday</td>\n",
              "    </tr>\n",
              "    <tr>\n",
              "      <th>1</th>\n",
              "      <td>2011-01-20 01:00:00</td>\n",
              "      <td>1</td>\n",
              "      <td>0</td>\n",
              "      <td>1</td>\n",
              "      <td>1</td>\n",
              "      <td>10.66</td>\n",
              "      <td>13.635</td>\n",
              "      <td>56</td>\n",
              "      <td>0.0000</td>\n",
              "      <td>20110120</td>\n",
              "      <td>201101</td>\n",
              "      <td>120</td>\n",
              "      <td>2011</td>\n",
              "      <td>1</td>\n",
              "      <td>20</td>\n",
              "      <td>1</td>\n",
              "      <td>Thursday</td>\n",
              "    </tr>\n",
              "    <tr>\n",
              "      <th>2</th>\n",
              "      <td>2011-01-20 02:00:00</td>\n",
              "      <td>1</td>\n",
              "      <td>0</td>\n",
              "      <td>1</td>\n",
              "      <td>1</td>\n",
              "      <td>10.66</td>\n",
              "      <td>13.635</td>\n",
              "      <td>56</td>\n",
              "      <td>0.0000</td>\n",
              "      <td>20110120</td>\n",
              "      <td>201101</td>\n",
              "      <td>120</td>\n",
              "      <td>2011</td>\n",
              "      <td>1</td>\n",
              "      <td>20</td>\n",
              "      <td>2</td>\n",
              "      <td>Thursday</td>\n",
              "    </tr>\n",
              "  </tbody>\n",
              "</table>\n",
              "</div>"
            ],
            "text/plain": [
              "             datetime  season  holiday  workingday  ...  month  date  hour       day\n",
              "0 2011-01-20 00:00:00       1        0           1  ...      1    20     0  Thursday\n",
              "1 2011-01-20 01:00:00       1        0           1  ...      1    20     1  Thursday\n",
              "2 2011-01-20 02:00:00       1        0           1  ...      1    20     2  Thursday\n",
              "\n",
              "[3 rows x 17 columns]"
            ]
          },
          "metadata": {
            "tags": []
          },
          "execution_count": 19
        }
      ]
    },
    {
      "cell_type": "code",
      "metadata": {
        "colab": {
          "base_uri": "https://localhost:8080/"
        },
        "id": "se4iyPEKVOIO",
        "outputId": "410d012a-ba72-439b-9a66-27daa5e68b3d"
      },
      "source": [
        "train.info()"
      ],
      "execution_count": 20,
      "outputs": [
        {
          "output_type": "stream",
          "text": [
            "<class 'pandas.core.frame.DataFrame'>\n",
            "RangeIndex: 10886 entries, 0 to 10885\n",
            "Data columns (total 20 columns):\n",
            " #   Column      Non-Null Count  Dtype         \n",
            "---  ------      --------------  -----         \n",
            " 0   datetime    10886 non-null  datetime64[ns]\n",
            " 1   season      10886 non-null  int64         \n",
            " 2   holiday     10886 non-null  int64         \n",
            " 3   workingday  10886 non-null  int64         \n",
            " 4   weather     10886 non-null  int64         \n",
            " 5   temp        10886 non-null  float64       \n",
            " 6   atemp       10886 non-null  float64       \n",
            " 7   humidity    10886 non-null  int64         \n",
            " 8   windspeed   10886 non-null  float64       \n",
            " 9   casual      10886 non-null  int64         \n",
            " 10  registered  10886 non-null  int64         \n",
            " 11  count       10886 non-null  int64         \n",
            " 12  time        10886 non-null  int64         \n",
            " 13  year_month  10886 non-null  int64         \n",
            " 14  month_day   10886 non-null  int64         \n",
            " 15  year        10886 non-null  int64         \n",
            " 16  month       10886 non-null  int64         \n",
            " 17  date        10886 non-null  int64         \n",
            " 18  hour        10886 non-null  int64         \n",
            " 19  day         10886 non-null  object        \n",
            "dtypes: datetime64[ns](1), float64(3), int64(15), object(1)\n",
            "memory usage: 1.7+ MB\n"
          ],
          "name": "stdout"
        }
      ]
    },
    {
      "cell_type": "code",
      "metadata": {
        "colab": {
          "base_uri": "https://localhost:8080/"
        },
        "id": "Ud3Jx7woVPfZ",
        "outputId": "c395afa5-cfe0-417e-ba3b-f057977843f9"
      },
      "source": [
        "test.info()"
      ],
      "execution_count": 21,
      "outputs": [
        {
          "output_type": "stream",
          "text": [
            "<class 'pandas.core.frame.DataFrame'>\n",
            "RangeIndex: 6493 entries, 0 to 6492\n",
            "Data columns (total 17 columns):\n",
            " #   Column      Non-Null Count  Dtype         \n",
            "---  ------      --------------  -----         \n",
            " 0   datetime    6493 non-null   datetime64[ns]\n",
            " 1   season      6493 non-null   int64         \n",
            " 2   holiday     6493 non-null   int64         \n",
            " 3   workingday  6493 non-null   int64         \n",
            " 4   weather     6493 non-null   int64         \n",
            " 5   temp        6493 non-null   float64       \n",
            " 6   atemp       6493 non-null   float64       \n",
            " 7   humidity    6493 non-null   int64         \n",
            " 8   windspeed   6493 non-null   float64       \n",
            " 9   time        6493 non-null   int64         \n",
            " 10  year_month  6493 non-null   int64         \n",
            " 11  month_day   6493 non-null   int64         \n",
            " 12  year        6493 non-null   int64         \n",
            " 13  month       6493 non-null   int64         \n",
            " 14  date        6493 non-null   int64         \n",
            " 15  hour        6493 non-null   int64         \n",
            " 16  day         6493 non-null   object        \n",
            "dtypes: datetime64[ns](1), float64(3), int64(12), object(1)\n",
            "memory usage: 862.5+ KB\n"
          ],
          "name": "stdout"
        }
      ]
    },
    {
      "cell_type": "markdown",
      "metadata": {
        "id": "SUcL41vPVYuK"
      },
      "source": [
        "2번 문제 [하] barplot을 사용하여 일/월/년과 시간대 별로 count 수를 그려보시오.\n",
        "--"
      ]
    },
    {
      "cell_type": "code",
      "metadata": {
        "colab": {
          "base_uri": "https://localhost:8080/",
          "height": 467
        },
        "id": "om2sGu4XVUPl",
        "outputId": "43bc423b-3b34-438f-d432-f9b6832beb53"
      },
      "source": [
        "figure, ((ax1), (ax2), (ax3), (ax4)) =plt.subplots(nrows=4,ncols=1)\n",
        "figure.set_size_inches(20,10)\n",
        "\n",
        "sns.barplot(data=train, x=\"date\", y=\"count\", ax=ax1)\n",
        "sns.barplot(data=train, x=\"month\", y=\"count\", ax=ax2)\n",
        "sns.barplot(data=train, x=\"year\", y=\"count\", ax=ax3)\n",
        "sns.barplot(data=train, x=\"hour\", y=\"count\", ax=ax4)\n",
        "\n",
        "sns.set_style(\"darkgrid\")\n",
        "ax1.set(ylabel='count', title =\"date\")\n",
        "ax2.set(ylabel='count', title =\"month\")\n",
        "ax3.set(ylabel='count', title =\"year\")\n",
        "ax4.set(ylabel='count', title =\"hour\")"
      ],
      "execution_count": 22,
      "outputs": [
        {
          "output_type": "execute_result",
          "data": {
            "text/plain": [
              "[Text(0, 0.5, 'count'), Text(0.5, 1.0, 'hour')]"
            ]
          },
          "metadata": {
            "tags": []
          },
          "execution_count": 22
        },
        {
          "output_type": "display_data",
          "data": {
            "image/png": "[encoded data removed]",
            "text/plain": [
              "<Figure size 1440x720 with 4 Axes>"
            ]
          },
          "metadata": {
            "tags": [],
            "needs_background": "light"
          }
        }
      ]
    },
    {
      "cell_type": "markdown",
      "metadata": {
        "id": "edrmah1yWN-x"
      },
      "source": [
        "3번 문제: [중] 상관점수를 봐서 상관이 없어 보이는 것의 속성은 무엇인지 검증하시오.\n",
        "--"
      ]
    },
    {
      "cell_type": "code",
      "metadata": {
        "id": "ivTKvZJ8XA9B"
      },
      "source": [
        "train=train[['datetime', 'time', 'year_month', 'month_day',\n",
        "             'year', 'month', 'date', 'hour',\n",
        "       'day', 'season', 'holiday', 'workingday', 'weather', 'temp',\n",
        "       'atemp', 'humidity', 'windspeed', 'casual', 'registered', \n",
        "       'count']]"
      ],
      "execution_count": 23,
      "outputs": []
    },
    {
      "cell_type": "code",
      "metadata": {
        "id": "5uE7eFm4XNgb"
      },
      "source": [
        "test=test[['datetime', 'time', 'year_month', 'month_day',\n",
        "       'year', 'month', 'date', 'hour', 'day',\n",
        "       'season', 'holiday', 'workingday', 'weather', 'temp',\n",
        "       'atemp', 'humidity', 'windspeed']]"
      ],
      "execution_count": 24,
      "outputs": []
    },
    {
      "cell_type": "code",
      "metadata": {
        "id": "F-rR4P3ObfVj"
      },
      "source": [
        "le=LabelEncoder()\n",
        "le.fit(train.day)\n",
        "train['day']=le.transform(train.day)"
      ],
      "execution_count": 25,
      "outputs": []
    },
    {
      "cell_type": "code",
      "metadata": {
        "id": "eFX45XLEbfZL"
      },
      "source": [
        "le=LabelEncoder()\n",
        "le.fit(test.day)\n",
        "test['day']=le.transform(test.day)"
      ],
      "execution_count": 26,
      "outputs": []
    },
    {
      "cell_type": "code",
      "metadata": {
        "colab": {
          "base_uri": "https://localhost:8080/",
          "height": 893
        },
        "id": "PTMOCHU8V5Pt",
        "outputId": "95d9d108-00e5-4e04-b2fb-faafd04a4ed2"
      },
      "source": [
        "import numpy as np\n",
        "plt.figure(figsize=(20,20))\n",
        "mask = np.zeros_like(train.corr(), dtype = np.bool)\n",
        "mask[np.triu_indices_from(mask)] = True\n",
        "sns.heatmap(data=train.corr(), mask=mask, annot=True, fmt ='.2f', linewidths=.5, cmap='Pastel1')\n",
        "plt.show()"
      ],
      "execution_count": 27,
      "outputs": [
        {
          "output_type": "display_data",
          "data": {
            "image/png": "[encoded data removed]",
            "text/plain": [
              "<Figure size 1440x1440 with 2 Axes>"
            ]
          },
          "metadata": {
            "tags": []
          }
        }
      ]
    },
    {
      "cell_type": "markdown",
      "metadata": {
        "id": "j14KCvWwY29s"
      },
      "source": [
        "- 상관관계를 보면 상관이 없어보이는 칼럼은 date(일), day(요일), holiday, workingday 으로 보여진다."
      ]
    },
    {
      "cell_type": "code",
      "metadata": {
        "colab": {
          "base_uri": "https://localhost:8080/",
          "height": 871
        },
        "id": "shtEOhZUWxhm",
        "outputId": "3b9d5495-89d6-4292-970f-5ce940ca3eaf"
      },
      "source": [
        "pair_1=train[['date','day','holiday', 'workingday', 'count']]\n",
        "sns.pairplot(data=pair_1)"
      ],
      "execution_count": 28,
      "outputs": [
        {
          "output_type": "execute_result",
          "data": {
            "text/plain": [
              "<seaborn.axisgrid.PairGrid at 0x7fb223829550>"
            ]
          },
          "metadata": {
            "tags": []
          },
          "execution_count": 28
        },
        {
          "output_type": "display_data",
          "data": {
            "image/png": "[encoded data removed]",
            "text/plain": [
              "<Figure size 900x900 with 30 Axes>"
            ]
          },
          "metadata": {
            "tags": []
          }
        }
      ]
    },
    {
      "cell_type": "markdown",
      "metadata": {
        "id": "X1w-1SZBaWTb"
      },
      "source": [
        "- pairplot으로 봐도 타겟인 count와 뚜렷한 상관관계가 없는 것으로 보여진다."
      ]
    },
    {
      "cell_type": "code",
      "metadata": {
        "id": "dNerAWdyal-Y"
      },
      "source": [
        "x=train.drop(['datetime','registered','count'], axis=1)\n",
        "y=train['count']"
      ],
      "execution_count": 29,
      "outputs": []
    },
    {
      "cell_type": "code",
      "metadata": {
        "colab": {
          "base_uri": "https://localhost:8080/",
          "height": 814
        },
        "id": "gaXFXFRubUNS",
        "outputId": "16c7732e-4d9e-4d17-e790-1cc201bfa6c4"
      },
      "source": [
        "import statsmodels.api as sm\n",
        "\n",
        "# 변수들에 상수항을 추가함\n",
        "x_constant=sm.add_constant(x)\n",
        "\n",
        "model_1=sm.OLS(y,x_constant)\n",
        "lin_reg=model_1.fit()\n",
        "lin_reg.summary()"
      ],
      "execution_count": 30,
      "outputs": [
        {
          "output_type": "execute_result",
          "data": {
            "text/html": [
              "<table class=\"simpletable\">\n",
              "<caption>OLS Regression Results</caption>\n",
              "<tr>\n",
              "  <th>Dep. Variable:</th>          <td>count</td>      <th>  R-squared:         </th> <td>   0.609</td> \n",
              "</tr>\n",
              "<tr>\n",
              "  <th>Model:</th>                   <td>OLS</td>       <th>  Adj. R-squared:    </th> <td>   0.608</td> \n",
              "</tr>\n",
              "<tr>\n",
              "  <th>Method:</th>             <td>Least Squares</td>  <th>  F-statistic:       </th> <td>   1209.</td> \n",
              "</tr>\n",
              "<tr>\n",
              "  <th>Date:</th>             <td>Mon, 12 Jul 2021</td> <th>  Prob (F-statistic):</th>  <td>  0.00</td>  \n",
              "</tr>\n",
              "<tr>\n",
              "  <th>Time:</th>                 <td>05:20:06</td>     <th>  Log-Likelihood:    </th> <td> -66936.</td> \n",
              "</tr>\n",
              "<tr>\n",
              "  <th>No. Observations:</th>      <td> 10886</td>      <th>  AIC:               </th> <td>1.339e+05</td>\n",
              "</tr>\n",
              "<tr>\n",
              "  <th>Df Residuals:</th>          <td> 10871</td>      <th>  BIC:               </th> <td>1.340e+05</td>\n",
              "</tr>\n",
              "<tr>\n",
              "  <th>Df Model:</th>              <td>    14</td>      <th>                     </th>     <td> </td>    \n",
              "</tr>\n",
              "<tr>\n",
              "  <th>Covariance Type:</th>      <td>nonrobust</td>    <th>                     </th>     <td> </td>    \n",
              "</tr>\n",
              "</table>\n",
              "<table class=\"simpletable\">\n",
              "<tr>\n",
              "       <td></td>         <th>coef</th>     <th>std err</th>      <th>t</th>      <th>P>|t|</th>  <th>[0.025</th>    <th>0.975]</th>  \n",
              "</tr>\n",
              "<tr>\n",
              "  <th>const</th>      <td>-1.202e+05</td> <td> 4441.005</td> <td>  -27.075</td> <td> 0.000</td> <td>-1.29e+05</td> <td>-1.12e+05</td>\n",
              "</tr>\n",
              "<tr>\n",
              "  <th>time</th>       <td>    0.0060</td> <td>    0.000</td> <td>   27.018</td> <td> 0.000</td> <td>    0.006</td> <td>    0.006</td>\n",
              "</tr>\n",
              "<tr>\n",
              "  <th>year_month</th> <td>   -0.0020</td> <td>    0.002</td> <td>   -1.026</td> <td> 0.305</td> <td>   -0.006</td> <td>    0.002</td>\n",
              "</tr>\n",
              "<tr>\n",
              "  <th>month_day</th>  <td>    0.0833</td> <td>    0.013</td> <td>    6.178</td> <td> 0.000</td> <td>    0.057</td> <td>    0.110</td>\n",
              "</tr>\n",
              "<tr>\n",
              "  <th>year</th>       <td>-1.071e-05</td> <td> 1.35e-06</td> <td>   -7.942</td> <td> 0.000</td> <td>-1.34e-05</td> <td>-8.07e-06</td>\n",
              "</tr>\n",
              "<tr>\n",
              "  <th>month</th>      <td>   -0.0005</td> <td>    0.002</td> <td>   -0.256</td> <td> 0.798</td> <td>   -0.004</td> <td>    0.003</td>\n",
              "</tr>\n",
              "<tr>\n",
              "  <th>date</th>       <td>    0.1347</td> <td>    0.199</td> <td>    0.677</td> <td> 0.499</td> <td>   -0.255</td> <td>    0.525</td>\n",
              "</tr>\n",
              "<tr>\n",
              "  <th>hour</th>       <td>    5.0358</td> <td>    0.170</td> <td>   29.590</td> <td> 0.000</td> <td>    4.702</td> <td>    5.369</td>\n",
              "</tr>\n",
              "<tr>\n",
              "  <th>day</th>        <td>    2.0067</td> <td>    0.565</td> <td>    3.550</td> <td> 0.000</td> <td>    0.899</td> <td>    3.115</td>\n",
              "</tr>\n",
              "<tr>\n",
              "  <th>season</th>     <td>   -9.0822</td> <td>    4.147</td> <td>   -2.190</td> <td> 0.029</td> <td>  -17.210</td> <td>   -0.954</td>\n",
              "</tr>\n",
              "<tr>\n",
              "  <th>holiday</th>    <td>   26.2926</td> <td>    6.842</td> <td>    3.843</td> <td> 0.000</td> <td>   12.880</td> <td>   39.705</td>\n",
              "</tr>\n",
              "<tr>\n",
              "  <th>workingday</th> <td>   85.1992</td> <td>    2.680</td> <td>   31.785</td> <td> 0.000</td> <td>   79.945</td> <td>   90.453</td>\n",
              "</tr>\n",
              "<tr>\n",
              "  <th>weather</th>    <td>   -9.2496</td> <td>    1.920</td> <td>   -4.818</td> <td> 0.000</td> <td>  -13.012</td> <td>   -5.487</td>\n",
              "</tr>\n",
              "<tr>\n",
              "  <th>temp</th>       <td>   -1.3093</td> <td>    0.833</td> <td>   -1.572</td> <td> 0.116</td> <td>   -2.942</td> <td>    0.323</td>\n",
              "</tr>\n",
              "<tr>\n",
              "  <th>atemp</th>      <td>    1.5563</td> <td>    0.767</td> <td>    2.029</td> <td> 0.042</td> <td>    0.053</td> <td>    3.059</td>\n",
              "</tr>\n",
              "<tr>\n",
              "  <th>humidity</th>   <td>   -0.2690</td> <td>    0.074</td> <td>   -3.639</td> <td> 0.000</td> <td>   -0.414</td> <td>   -0.124</td>\n",
              "</tr>\n",
              "<tr>\n",
              "  <th>windspeed</th>  <td>    0.5308</td> <td>    0.146</td> <td>    3.633</td> <td> 0.000</td> <td>    0.244</td> <td>    0.817</td>\n",
              "</tr>\n",
              "<tr>\n",
              "  <th>casual</th>     <td>    2.3404</td> <td>    0.030</td> <td>   78.121</td> <td> 0.000</td> <td>    2.282</td> <td>    2.399</td>\n",
              "</tr>\n",
              "</table>\n",
              "<table class=\"simpletable\">\n",
              "<tr>\n",
              "  <th>Omnibus:</th>       <td>3783.528</td> <th>  Durbin-Watson:     </th> <td>   0.688</td> \n",
              "</tr>\n",
              "<tr>\n",
              "  <th>Prob(Omnibus):</th>  <td> 0.000</td>  <th>  Jarque-Bera (JB):  </th> <td>13147.727</td>\n",
              "</tr>\n",
              "<tr>\n",
              "  <th>Skew:</th>           <td> 1.760</td>  <th>  Prob(JB):          </th> <td>    0.00</td> \n",
              "</tr>\n",
              "<tr>\n",
              "  <th>Kurtosis:</th>       <td> 7.075</td>  <th>  Cond. No.          </th> <td>6.89e+22</td> \n",
              "</tr>\n",
              "</table><br/><br/>Warnings:<br/>[1] Standard Errors assume that the covariance matrix of the errors is correctly specified.<br/>[2] The smallest eigenvalue is 9.27e-28. This might indicate that there are<br/>strong multicollinearity problems or that the design matrix is singular."
            ],
            "text/plain": [
              "<class 'statsmodels.iolib.summary.Summary'>\n",
              "\"\"\"\n",
              "                            OLS Regression Results                            \n",
              "==============================================================================\n",
              "Dep. Variable:                  count   R-squared:                       0.609\n",
              "Model:                            OLS   Adj. R-squared:                  0.608\n",
              "Method:                 Least Squares   F-statistic:                     1209.\n",
              "Date:                Mon, 12 Jul 2021   Prob (F-statistic):               0.00\n",
              "Time:                        05:20:06   Log-Likelihood:                -66936.\n",
              "No. Observations:               10886   AIC:                         1.339e+05\n",
              "Df Residuals:                   10871   BIC:                         1.340e+05\n",
              "Df Model:                          14                                         \n",
              "Covariance Type:            nonrobust                                         \n",
              "==============================================================================\n",
              "                 coef    std err          t      P>|t|      [0.025      0.975]\n",
              "------------------------------------------------------------------------------\n",
              "const      -1.202e+05   4441.005    -27.075      0.000   -1.29e+05   -1.12e+05\n",
              "time           0.0060      0.000     27.018      0.000       0.006       0.006\n",
              "year_month    -0.0020      0.002     -1.026      0.305      -0.006       0.002\n",
              "month_day      0.0833      0.013      6.178      0.000       0.057       0.110\n",
              "year       -1.071e-05   1.35e-06     -7.942      0.000   -1.34e-05   -8.07e-06\n",
              "month         -0.0005      0.002     -0.256      0.798      -0.004       0.003\n",
              "date           0.1347      0.199      0.677      0.499      -0.255       0.525\n",
              "hour           5.0358      0.170     29.590      0.000       4.702       5.369\n",
              "day            2.0067      0.565      3.550      0.000       0.899       3.115\n",
              "season        -9.0822      4.147     -2.190      0.029     -17.210      -0.954\n",
              "holiday       26.2926      6.842      3.843      0.000      12.880      39.705\n",
              "workingday    85.1992      2.680     31.785      0.000      79.945      90.453\n",
              "weather       -9.2496      1.920     -4.818      0.000     -13.012      -5.487\n",
              "temp          -1.3093      0.833     -1.572      0.116      -2.942       0.323\n",
              "atemp          1.5563      0.767      2.029      0.042       0.053       3.059\n",
              "humidity      -0.2690      0.074     -3.639      0.000      -0.414      -0.124\n",
              "windspeed      0.5308      0.146      3.633      0.000       0.244       0.817\n",
              "casual         2.3404      0.030     78.121      0.000       2.282       2.399\n",
              "==============================================================================\n",
              "Omnibus:                     3783.528   Durbin-Watson:                   0.688\n",
              "Prob(Omnibus):                  0.000   Jarque-Bera (JB):            13147.727\n",
              "Skew:                           1.760   Prob(JB):                         0.00\n",
              "Kurtosis:                       7.075   Cond. No.                     6.89e+22\n",
              "==============================================================================\n",
              "\n",
              "Warnings:\n",
              "[1] Standard Errors assume that the covariance matrix of the errors is correctly specified.\n",
              "[2] The smallest eigenvalue is 9.27e-28. This might indicate that there are\n",
              "strong multicollinearity problems or that the design matrix is singular.\n",
              "\"\"\""
            ]
          },
          "metadata": {
            "tags": []
          },
          "execution_count": 30
        }
      ]
    },
    {
      "cell_type": "markdown",
      "metadata": {
        "id": "GbJwQK4VdDb6"
      },
      "source": [
        "date, day, holiday, workingday의 p-value를 보면 0.499, 0.000, 0.000, 0.000이다. p-value가 0.05~0.005 사이가 검증하고자 하는 가설의 신뢰도가 높다라고 했을 때, date는 너무 높으며, day, holiday, workingday는 상관관계가 없다라고 볼 수 있다."
      ]
    },
    {
      "cell_type": "markdown",
      "metadata": {
        "id": "8nGOpA2Ed_Kq"
      },
      "source": [
        "4번 문제: [상] 이상치 처리 방법을 2가지 이상 적용해보고 검증하시오.\n",
        "--"
      ]
    },
    {
      "cell_type": "code",
      "metadata": {
        "colab": {
          "base_uri": "https://localhost:8080/",
          "height": 1000
        },
        "id": "2Bd3FCohe868",
        "outputId": "765d66c1-fdae-4a62-e3cf-82c6024ead43"
      },
      "source": [
        "for i in range(1,20):\n",
        "    sns.boxplot(x = train.iloc[:, i], orient = \"v\", data = train)\n",
        "    sns.set_style(\"darkgrid\")\n",
        "    plt.show() "
      ],
      "execution_count": 31,
      "outputs": [
        {
          "output_type": "display_data",
          "data": {
            "image/png": "[encoded data removed]",
            "text/plain": [
              "<Figure size 432x288 with 1 Axes>"
            ]
          },
          "metadata": {
            "tags": []
          }
        },
        {
          "output_type": "display_data",
          "data": {
            "image/png": "[encoded data removed]",
            "text/plain": [
              "<Figure size 432x288 with 1 Axes>"
            ]
          },
          "metadata": {
            "tags": []
          }
        },
        {
          "output_type": "display_data",
          "data": {
            "image/png": "[encoded data removed]",
            "text/plain": [
              "<Figure size 432x288 with 1 Axes>"
            ]
          },
          "metadata": {
            "tags": []
          }
        },
        {
          "output_type": "display_data",
          "data": {
            "image/png": "[encoded data removed]",
            "text/plain": [
              "<Figure size 432x288 with 1 Axes>"
            ]
          },
          "metadata": {
            "tags": []
          }
        },
        {
          "output_type": "display_data",
          "data": {
            "image/png": "[encoded data removed]",
            "text/plain": [
              "<Figure size 432x288 with 1 Axes>"
            ]
          },
          "metadata": {
            "tags": []
          }
        },
        {
          "output_type": "display_data",
          "data": {
            "image/png": "[encoded data removed]",
            "text/plain": [
              "<Figure size 432x288 with 1 Axes>"
            ]
          },
          "metadata": {
            "tags": []
          }
        },
        {
          "output_type": "display_data",
          "data": {
            "image/png": "[encoded data removed]",
            "text/plain": [
              "<Figure size 432x288 with 1 Axes>"
            ]
          },
          "metadata": {
            "tags": []
          }
        },
        {
          "output_type": "display_data",
          "data": {
            "image/png": "[encoded data removed]",
            "text/plain": [
              "<Figure size 432x288 with 1 Axes>"
            ]
          },
          "metadata": {
            "tags": []
          }
        },
        {
          "output_type": "display_data",
          "data": {
            "image/png": "[encoded data removed]",
            "text/plain": [
              "<Figure size 432x288 with 1 Axes>"
            ]
          },
          "metadata": {
            "tags": []
          }
        },
        {
          "output_type": "display_data",
          "data": {
            "image/png": "[encoded data removed]",
            "text/plain": [
              "<Figure size 432x288 with 1 Axes>"
            ]
          },
          "metadata": {
            "tags": []
          }
        },
        {
          "output_type": "display_data",
          "data": {
            "image/png": "[encoded data removed]",
            "text/plain": [
              "<Figure size 432x288 with 1 Axes>"
            ]
          },
          "metadata": {
            "tags": []
          }
        },
        {
          "output_type": "display_data",
          "data": {
            "image/png": "[encoded data removed]",
            "text/plain": [
              "<Figure size 432x288 with 1 Axes>"
            ]
          },
          "metadata": {
            "tags": []
          }
        },
        {
          "output_type": "display_data",
          "data": {
            "image/png": "[encoded data removed]",
            "text/plain": [
              "<Figure size 432x288 with 1 Axes>"
            ]
          },
          "metadata": {
            "tags": []
          }
        },
        {
          "output_type": "display_data",
          "data": {
            "image/png": "[encoded data removed]",
            "text/plain": [
              "<Figure size 432x288 with 1 Axes>"
            ]
          },
          "metadata": {
            "tags": []
          }
        },
        {
          "output_type": "display_data",
          "data": {
            "image/png": "[encoded data removed]",
            "text/plain": [
              "<Figure size 432x288 with 1 Axes>"
            ]
          },
          "metadata": {
            "tags": []
          }
        },
        {
          "output_type": "display_data",
          "data": {
            "image/png": "[encoded data removed]",
            "text/plain": [
              "<Figure size 432x288 with 1 Axes>"
            ]
          },
          "metadata": {
            "tags": []
          }
        },
        {
          "output_type": "display_data",
          "data": {
            "image/png": "[encoded data removed]",
            "text/plain": [
              "<Figure size 432x288 with 1 Axes>"
            ]
          },
          "metadata": {
            "tags": []
          }
        },
        {
          "output_type": "display_data",
          "data": {
            "image/png": "[encoded data removed]",
            "text/plain": [
              "<Figure size 432x288 with 1 Axes>"
            ]
          },
          "metadata": {
            "tags": []
          }
        },
        {
          "output_type": "display_data",
          "data": {
            "image/png": "[encoded data removed]",
            "text/plain": [
              "<Figure size 432x288 with 1 Axes>"
            ]
          },
          "metadata": {
            "tags": []
          }
        }
      ]
    },
    {
      "cell_type": "markdown",
      "metadata": {
        "id": "20sScK-Vghwa"
      },
      "source": [
        "holiday, weather, humidity, windspeed, casual, registered, count에서 이상치가 탐지됐다."
      ]
    },
    {
      "cell_type": "markdown",
      "metadata": {
        "id": "nx-FHAMEgz7S"
      },
      "source": [
        "방법[1] IQR로 이상치 제거 전과 후로 모델 돌려보기\n",
        "--"
      ]
    },
    {
      "cell_type": "code",
      "metadata": {
        "id": "Szmg5aUfhKQx"
      },
      "source": [
        "# 이상치 제거 함수\n",
        "# IQR\n",
        "def remove_outlier_test(d_cp, column):\n",
        "    fraud_column_data=d_cp[column]\n",
        "    quan_25=np.percentile(fraud_column_data.values, 25)\n",
        "    quan_75=np.percentile(fraud_column_data.values, 75)\n",
        "\n",
        "    iqr=quan_75-quan_25\n",
        "    iqr=iqr*1.5\n",
        "    lowest=quan_25-iqr\n",
        "    highest=quan_75+iqr\n",
        "    outlier_index=fraud_column_data[(fraud_column_data<lowest)|(fraud_column_data>highest)].index\n",
        "    print(len(outlier_index))\n",
        "    d_cp.drop(outlier_index, axis=0, inplace=True)\n",
        "    print(d_cp.shape)\n",
        "    return d_cp"
      ],
      "execution_count": 32,
      "outputs": []
    },
    {
      "cell_type": "markdown",
      "metadata": {
        "id": "Q7GbLmszg395"
      },
      "source": [
        "이상치 제거 전"
      ]
    },
    {
      "cell_type": "code",
      "metadata": {
        "id": "RjmZVYBOg6Bm"
      },
      "source": [
        "x=train[['time', 'year_month', 'month_day', 'year', 'month', 'date',\n",
        "       'hour', 'day', 'season', 'holiday', 'workingday', 'weather', 'temp',\n",
        "       'atemp', 'humidity', 'windspeed', 'casual']]\n",
        "y=train['count']"
      ],
      "execution_count": 33,
      "outputs": []
    },
    {
      "cell_type": "code",
      "metadata": {
        "id": "sC1IDQbLhhJu"
      },
      "source": [
        "class regression_select:\n",
        "    def linear(x,y):\n",
        "        x_train, x_test, y_train, y_test=train_test_split(x, y, test_size=0.2, random_state=42)\n",
        "        lr=LinearRegression()\n",
        "        lr.fit(x_train, y_train)\n",
        "        y_pred=lr.predict(x_test)\n",
        "        train_score=lr.score(x_train, y_train)\n",
        "        test_score=lr.score(x_test, y_test)\n",
        "        mse=mean_squared_error(y_test, y_pred)\n",
        "        rmse=np.sqrt(mse)\n",
        "        return rmse, train_score, test_score\n",
        "\n",
        "    def ridge(x,y):\n",
        "        x_train, x_test, y_train, y_test=train_test_split(x, y, test_size=0.2, random_state=42)\n",
        "        ridge = Ridge()\n",
        "        ridge.fit(x_train, y_train)\n",
        "        y_pred=ridge.predict(x_test)\n",
        "        train_score=ridge.score(x_train, y_train)\n",
        "        test_score=ridge.score(x_test, y_test)\n",
        "        mse=mean_squared_error(y_test, y_pred)\n",
        "        rmse=np.sqrt(mse)\n",
        "        return rmse, train_score, test_score\n",
        "\n",
        "    def lasso(x,y):\n",
        "        x_train, x_test, y_train, y_test=train_test_split(x, y, test_size=0.2, random_state=42)\n",
        "        lasso = Lasso()\n",
        "        lasso.fit(x_train, y_train)\n",
        "        y_pred=lasso.predict(x_test)\n",
        "        train_score=lasso.score(x_train, y_train)\n",
        "        test_score=lasso.score(x_test, y_test)\n",
        "        mse=mean_squared_error(y_test, y_pred)\n",
        "        rmse=np.sqrt(mse)\n",
        "        return rmse, train_score, test_score\n",
        "\n",
        "    def elasticnet(x,y):\n",
        "        x_train, x_test, y_train, y_test=train_test_split(x, y, test_size=0.2, random_state=42)\n",
        "        en = ElasticNet()\n",
        "        en.fit(x_train, y_train)\n",
        "        y_pred=en.predict(x_test)\n",
        "        train_score=en.score(x_train, y_train)\n",
        "        test_score=en.score(x_test, y_test)\n",
        "        mse=mean_squared_error(y_test, y_pred)\n",
        "        rmse=np.sqrt(mse)\n",
        "        return rmse, train_score, test_score\n",
        "\n",
        "    def xgboost(x,y):\n",
        "        x_train, x_test, y_train, y_test=train_test_split(x, y, test_size=0.2, random_state=42)\n",
        "        xgb = xgboost.XGBRegressor()\n",
        "        xgb.fit(x_train, y_train)\n",
        "        y_pred=xgb.predict(x_test)\n",
        "        train_score=xgb.score(x_train, y_train)\n",
        "        test_score=xgb.score(x_test, y_test)\n",
        "        mse=mean_squared_error(y_test, y_pred)\n",
        "        rmse=np.sqrt(mse)\n",
        "        return rmse, train_score, test_score\n",
        "\n",
        "    def lgbm(x,y):\n",
        "         x_train, x_test, y_train, y_test=train_test_split(x, y, test_size=0.2, random_state=42)\n",
        "         lgbm = lightgbm.LGBMRegressor()\n",
        "         lgbm.fit(x_train, y_train)\n",
        "         y_pred=lgbm.predict(x_test)\n",
        "         train_score=lgbm.score(x_train, y_train)\n",
        "         test_score=lgbm.score(x_test, y_test)\n",
        "         mse=mean_squared_error(y_test, y_pred)\n",
        "         rmse=np.sqrt(mse)\n",
        "         return rmse, train_score, test_score\n",
        "\n",
        "    def catboost(x,y):\n",
        "         x_train, x_test, y_train, y_test=train_test_split(x, y, test_size=0.2, random_state=42)\n",
        "         cb = catboost.CatBoostRegressor()\n",
        "         cb.fit(x_train, y_train)\n",
        "         y_pred=cb.predict(x_test)\n",
        "         train_score=cb.score(x_train, y_train)\n",
        "         test_score=cb.score(x_test, y_test)\n",
        "         mse=mean_squared_error(y_test, y_pred)\n",
        "         rmse=np.sqrt(mse)\n",
        "         return rmse, train_score, test_score"
      ],
      "execution_count": 34,
      "outputs": []
    },
    {
      "cell_type": "code",
      "metadata": {
        "id": "DgYosIHpkCz5"
      },
      "source": [
        "class regression_model:\n",
        "    def model_choice(x,y):\n",
        "        model=pd.DataFrame(columns=['모델','rmse','train_score','test_score'])\n",
        "        linear_rmse=regression_select.linear(x,y)[0]\n",
        "        linear_train_score=regression_select.linear(x,y)[1]\n",
        "        linear_test_score=regression_select.linear(x,y)[2]\n",
        "\n",
        "        model=model.append({'모델':'linear', 'rmse':linear_rmse,\n",
        "                            'train_score':linear_train_score,\n",
        "                            'test_score':linear_test_score}, ignore_index=True)\n",
        "    \n",
        "\n",
        "        ridge_rmse=regression_select.ridge(x,y)[0]\n",
        "        ridge_train_score=regression_select.ridge(x,y)[1]\n",
        "        ridge_test_score=regression_select.ridge(x,y)[2]\n",
        "\n",
        "        model=model.append({'모델':'ridge', 'rmse':ridge_rmse,\n",
        "                            'train_score':ridge_train_score,\n",
        "                            'test_score':ridge_test_score}, ignore_index=True)\n",
        "        \n",
        "\n",
        "        lasso_rmse=regression_select.lasso(x,y)[0]\n",
        "        lasso_train_score=regression_select.lasso(x,y)[1]\n",
        "        lasso_test_score=regression_select.lasso(x,y)[2]\n",
        "\n",
        "        model=model.append({'모델':'lasso', 'rmse':lasso_rmse,\n",
        "                            'train_score':lasso_train_score,\n",
        "                            'test_score':lasso_test_score}, ignore_index=True)\n",
        "        \n",
        "\n",
        "        elasticnet_rmse=regression_select.elasticnet(x,y)[0]\n",
        "        elasticnet_train_score=regression_select.elasticnet(x,y)[1]\n",
        "        elasticnet_test_score=regression_select.elasticnet(x,y)[2]\n",
        "\n",
        "        model=model.append({'모델':'elasticnet', 'rmse':elasticnet_rmse,\n",
        "                            'train_score':elasticnet_train_score,\n",
        "                            'test_score':elasticnet_test_score}, ignore_index=True)\n",
        "        \n",
        "\n",
        "        xgboost_rmse=regression_select.xgboost(x,y)[0]\n",
        "        xgboost_train_score=regression_select.xgboost(x,y)[1]\n",
        "        xgboost_test_score=regression_select.xgboost(x,y)[2]\n",
        "\n",
        "        model=model.append({'모델':'xgboost', 'rmse':xgboost_rmse,\n",
        "                            'train_score':xgboost_train_score,\n",
        "                            'test_score':xgboost_test_score}, ignore_index=True)\n",
        "        \n",
        "\n",
        "        lgbm_rmse=regression_select.lgbm(x,y)[0]\n",
        "        lgbm_train_score=regression_select.lgbm(x,y)[1]\n",
        "        lgbm_test_score=regression_select.lgbm(x,y)[2]\n",
        "\n",
        "        model=model.append({'모델':'lightgbm', 'rmse':lgbm_rmse,\n",
        "                            'train_score':lgbm_train_score,\n",
        "                            'test_score':lgbm_test_score}, ignore_index=True)\n",
        "        \n",
        "\n",
        "        catboost_rmse=regression_select.catboost(x,y)[0]\n",
        "        catboost_train_score=regression_select.catboost(x,y)[1]\n",
        "        catboost_test_score=regression_select.catboost(x,y)[2]\n",
        "\n",
        "        model=model.append({'모델':'catboost', 'rmse':catboost_rmse,\n",
        "                            'train_score':catboost_train_score,\n",
        "                            'test_score':catboost_test_score}, ignore_index=True)\n",
        "              \n",
        "        model=model.sort_values('test_score', ascending=False)\n",
        "\n",
        "        return model"
      ],
      "execution_count": 35,
      "outputs": []
    },
    {
      "cell_type": "code",
      "metadata": {
        "id": "96OynCjenE1D"
      },
      "source": [
        "best=regression_model.model_choice(x,y)"
      ],
      "execution_count": null,
      "outputs": []
    },
    {
      "cell_type": "code",
      "metadata": {
        "colab": {
          "base_uri": "https://localhost:8080/",
          "height": 266
        },
        "id": "CxTe1VJSnJ7M",
        "outputId": "7015cf18-d5c5-40da-cf92-13b9da81c967"
      },
      "source": [
        "best"
      ],
      "execution_count": 37,
      "outputs": [
        {
          "output_type": "execute_result",
          "data": {
            "text/html": [
              "<div>\n",
              "<style scoped>\n",
              "    .dataframe tbody tr th:only-of-type {\n",
              "        vertical-align: middle;\n",
              "    }\n",
              "\n",
              "    .dataframe tbody tr th {\n",
              "        vertical-align: top;\n",
              "    }\n",
              "\n",
              "    .dataframe thead th {\n",
              "        text-align: right;\n",
              "    }\n",
              "</style>\n",
              "<table border=\"1\" class=\"dataframe\">\n",
              "  <thead>\n",
              "    <tr style=\"text-align: right;\">\n",
              "      <th></th>\n",
              "      <th>모델</th>\n",
              "      <th>rmse</th>\n",
              "      <th>train_score</th>\n",
              "      <th>test_score</th>\n",
              "    </tr>\n",
              "  </thead>\n",
              "  <tbody>\n",
              "    <tr>\n",
              "      <th>6</th>\n",
              "      <td>catboost</td>\n",
              "      <td>26.445344</td>\n",
              "      <td>0.988115</td>\n",
              "      <td>0.978812</td>\n",
              "    </tr>\n",
              "    <tr>\n",
              "      <th>5</th>\n",
              "      <td>lightgbm</td>\n",
              "      <td>29.628746</td>\n",
              "      <td>0.983013</td>\n",
              "      <td>0.973404</td>\n",
              "    </tr>\n",
              "    <tr>\n",
              "      <th>4</th>\n",
              "      <td>xgboost</td>\n",
              "      <td>50.214547</td>\n",
              "      <td>0.922174</td>\n",
              "      <td>0.923607</td>\n",
              "    </tr>\n",
              "    <tr>\n",
              "      <th>1</th>\n",
              "      <td>ridge</td>\n",
              "      <td>111.407956</td>\n",
              "      <td>0.605031</td>\n",
              "      <td>0.623966</td>\n",
              "    </tr>\n",
              "    <tr>\n",
              "      <th>0</th>\n",
              "      <td>linear</td>\n",
              "      <td>111.408032</td>\n",
              "      <td>0.605031</td>\n",
              "      <td>0.623965</td>\n",
              "    </tr>\n",
              "    <tr>\n",
              "      <th>2</th>\n",
              "      <td>lasso</td>\n",
              "      <td>111.476503</td>\n",
              "      <td>0.604121</td>\n",
              "      <td>0.623503</td>\n",
              "    </tr>\n",
              "    <tr>\n",
              "      <th>3</th>\n",
              "      <td>elasticnet</td>\n",
              "      <td>114.112983</td>\n",
              "      <td>0.583065</td>\n",
              "      <td>0.605484</td>\n",
              "    </tr>\n",
              "  </tbody>\n",
              "</table>\n",
              "</div>"
            ],
            "text/plain": [
              "           모델        rmse  train_score  test_score\n",
              "6    catboost   26.445344     0.988115    0.978812\n",
              "5    lightgbm   29.628746     0.983013    0.973404\n",
              "4     xgboost   50.214547     0.922174    0.923607\n",
              "1       ridge  111.407956     0.605031    0.623966\n",
              "0      linear  111.408032     0.605031    0.623965\n",
              "2       lasso  111.476503     0.604121    0.623503\n",
              "3  elasticnet  114.112983     0.583065    0.605484"
            ]
          },
          "metadata": {
            "tags": []
          },
          "execution_count": 37
        }
      ]
    },
    {
      "cell_type": "markdown",
      "metadata": {
        "id": "7AHwMecppdWc"
      },
      "source": [
        "IQR 제거 이후 다시 시도해보기\n",
        "--"
      ]
    },
    {
      "cell_type": "code",
      "metadata": {
        "id": "3dGEFUnKntlJ"
      },
      "source": [
        "iqr_train=train[['time', 'year_month', 'month_day', 'year', 'month', 'date',\n",
        "       'hour', 'day', 'season', 'holiday', 'workingday', 'weather', 'temp',\n",
        "       'atemp', 'humidity', 'windspeed', 'casual','count']]"
      ],
      "execution_count": 38,
      "outputs": []
    },
    {
      "cell_type": "code",
      "metadata": {
        "colab": {
          "base_uri": "https://localhost:8080/",
          "height": 439
        },
        "id": "BN0ouKLFseoU",
        "outputId": "f37293d2-6a76-4b38-f8c0-ccf46fd1bd80"
      },
      "source": [
        "iqr_train"
      ],
      "execution_count": 39,
      "outputs": [
        {
          "output_type": "execute_result",
          "data": {
            "text/html": [
              "<div>\n",
              "<style scoped>\n",
              "    .dataframe tbody tr th:only-of-type {\n",
              "        vertical-align: middle;\n",
              "    }\n",
              "\n",
              "    .dataframe tbody tr th {\n",
              "        vertical-align: top;\n",
              "    }\n",
              "\n",
              "    .dataframe thead th {\n",
              "        text-align: right;\n",
              "    }\n",
              "</style>\n",
              "<table border=\"1\" class=\"dataframe\">\n",
              "  <thead>\n",
              "    <tr style=\"text-align: right;\">\n",
              "      <th></th>\n",
              "      <th>time</th>\n",
              "      <th>year_month</th>\n",
              "      <th>month_day</th>\n",
              "      <th>year</th>\n",
              "      <th>month</th>\n",
              "      <th>date</th>\n",
              "      <th>hour</th>\n",
              "      <th>day</th>\n",
              "      <th>season</th>\n",
              "      <th>holiday</th>\n",
              "      <th>workingday</th>\n",
              "      <th>weather</th>\n",
              "      <th>temp</th>\n",
              "      <th>atemp</th>\n",
              "      <th>humidity</th>\n",
              "      <th>windspeed</th>\n",
              "      <th>casual</th>\n",
              "      <th>count</th>\n",
              "    </tr>\n",
              "  </thead>\n",
              "  <tbody>\n",
              "    <tr>\n",
              "      <th>0</th>\n",
              "      <td>20110101</td>\n",
              "      <td>201101</td>\n",
              "      <td>101</td>\n",
              "      <td>2011</td>\n",
              "      <td>1</td>\n",
              "      <td>1</td>\n",
              "      <td>0</td>\n",
              "      <td>2</td>\n",
              "      <td>1</td>\n",
              "      <td>0</td>\n",
              "      <td>0</td>\n",
              "      <td>1</td>\n",
              "      <td>9.84</td>\n",
              "      <td>14.395</td>\n",
              "      <td>81</td>\n",
              "      <td>0.0000</td>\n",
              "      <td>3</td>\n",
              "      <td>16</td>\n",
              "    </tr>\n",
              "    <tr>\n",
              "      <th>1</th>\n",
              "      <td>20110101</td>\n",
              "      <td>201101</td>\n",
              "      <td>101</td>\n",
              "      <td>2011</td>\n",
              "      <td>1</td>\n",
              "      <td>1</td>\n",
              "      <td>1</td>\n",
              "      <td>2</td>\n",
              "      <td>1</td>\n",
              "      <td>0</td>\n",
              "      <td>0</td>\n",
              "      <td>1</td>\n",
              "      <td>9.02</td>\n",
              "      <td>13.635</td>\n",
              "      <td>80</td>\n",
              "      <td>0.0000</td>\n",
              "      <td>8</td>\n",
              "      <td>40</td>\n",
              "    </tr>\n",
              "    <tr>\n",
              "      <th>2</th>\n",
              "      <td>20110101</td>\n",
              "      <td>201101</td>\n",
              "      <td>101</td>\n",
              "      <td>2011</td>\n",
              "      <td>1</td>\n",
              "      <td>1</td>\n",
              "      <td>2</td>\n",
              "      <td>2</td>\n",
              "      <td>1</td>\n",
              "      <td>0</td>\n",
              "      <td>0</td>\n",
              "      <td>1</td>\n",
              "      <td>9.02</td>\n",
              "      <td>13.635</td>\n",
              "      <td>80</td>\n",
              "      <td>0.0000</td>\n",
              "      <td>5</td>\n",
              "      <td>32</td>\n",
              "    </tr>\n",
              "    <tr>\n",
              "      <th>3</th>\n",
              "      <td>20110101</td>\n",
              "      <td>201101</td>\n",
              "      <td>101</td>\n",
              "      <td>2011</td>\n",
              "      <td>1</td>\n",
              "      <td>1</td>\n",
              "      <td>3</td>\n",
              "      <td>2</td>\n",
              "      <td>1</td>\n",
              "      <td>0</td>\n",
              "      <td>0</td>\n",
              "      <td>1</td>\n",
              "      <td>9.84</td>\n",
              "      <td>14.395</td>\n",
              "      <td>75</td>\n",
              "      <td>0.0000</td>\n",
              "      <td>3</td>\n",
              "      <td>13</td>\n",
              "    </tr>\n",
              "    <tr>\n",
              "      <th>4</th>\n",
              "      <td>20110101</td>\n",
              "      <td>201101</td>\n",
              "      <td>101</td>\n",
              "      <td>2011</td>\n",
              "      <td>1</td>\n",
              "      <td>1</td>\n",
              "      <td>4</td>\n",
              "      <td>2</td>\n",
              "      <td>1</td>\n",
              "      <td>0</td>\n",
              "      <td>0</td>\n",
              "      <td>1</td>\n",
              "      <td>9.84</td>\n",
              "      <td>14.395</td>\n",
              "      <td>75</td>\n",
              "      <td>0.0000</td>\n",
              "      <td>0</td>\n",
              "      <td>1</td>\n",
              "    </tr>\n",
              "    <tr>\n",
              "      <th>...</th>\n",
              "      <td>...</td>\n",
              "      <td>...</td>\n",
              "      <td>...</td>\n",
              "      <td>...</td>\n",
              "      <td>...</td>\n",
              "      <td>...</td>\n",
              "      <td>...</td>\n",
              "      <td>...</td>\n",
              "      <td>...</td>\n",
              "      <td>...</td>\n",
              "      <td>...</td>\n",
              "      <td>...</td>\n",
              "      <td>...</td>\n",
              "      <td>...</td>\n",
              "      <td>...</td>\n",
              "      <td>...</td>\n",
              "      <td>...</td>\n",
              "      <td>...</td>\n",
              "    </tr>\n",
              "    <tr>\n",
              "      <th>10881</th>\n",
              "      <td>20121219</td>\n",
              "      <td>201212</td>\n",
              "      <td>1219</td>\n",
              "      <td>2012</td>\n",
              "      <td>12</td>\n",
              "      <td>19</td>\n",
              "      <td>19</td>\n",
              "      <td>6</td>\n",
              "      <td>4</td>\n",
              "      <td>0</td>\n",
              "      <td>1</td>\n",
              "      <td>1</td>\n",
              "      <td>15.58</td>\n",
              "      <td>19.695</td>\n",
              "      <td>50</td>\n",
              "      <td>26.0027</td>\n",
              "      <td>7</td>\n",
              "      <td>336</td>\n",
              "    </tr>\n",
              "    <tr>\n",
              "      <th>10882</th>\n",
              "      <td>20121219</td>\n",
              "      <td>201212</td>\n",
              "      <td>1219</td>\n",
              "      <td>2012</td>\n",
              "      <td>12</td>\n",
              "      <td>19</td>\n",
              "      <td>20</td>\n",
              "      <td>6</td>\n",
              "      <td>4</td>\n",
              "      <td>0</td>\n",
              "      <td>1</td>\n",
              "      <td>1</td>\n",
              "      <td>14.76</td>\n",
              "      <td>17.425</td>\n",
              "      <td>57</td>\n",
              "      <td>15.0013</td>\n",
              "      <td>10</td>\n",
              "      <td>241</td>\n",
              "    </tr>\n",
              "    <tr>\n",
              "      <th>10883</th>\n",
              "      <td>20121219</td>\n",
              "      <td>201212</td>\n",
              "      <td>1219</td>\n",
              "      <td>2012</td>\n",
              "      <td>12</td>\n",
              "      <td>19</td>\n",
              "      <td>21</td>\n",
              "      <td>6</td>\n",
              "      <td>4</td>\n",
              "      <td>0</td>\n",
              "      <td>1</td>\n",
              "      <td>1</td>\n",
              "      <td>13.94</td>\n",
              "      <td>15.910</td>\n",
              "      <td>61</td>\n",
              "      <td>15.0013</td>\n",
              "      <td>4</td>\n",
              "      <td>168</td>\n",
              "    </tr>\n",
              "    <tr>\n",
              "      <th>10884</th>\n",
              "      <td>20121219</td>\n",
              "      <td>201212</td>\n",
              "      <td>1219</td>\n",
              "      <td>2012</td>\n",
              "      <td>12</td>\n",
              "      <td>19</td>\n",
              "      <td>22</td>\n",
              "      <td>6</td>\n",
              "      <td>4</td>\n",
              "      <td>0</td>\n",
              "      <td>1</td>\n",
              "      <td>1</td>\n",
              "      <td>13.94</td>\n",
              "      <td>17.425</td>\n",
              "      <td>61</td>\n",
              "      <td>6.0032</td>\n",
              "      <td>12</td>\n",
              "      <td>129</td>\n",
              "    </tr>\n",
              "    <tr>\n",
              "      <th>10885</th>\n",
              "      <td>20121219</td>\n",
              "      <td>201212</td>\n",
              "      <td>1219</td>\n",
              "      <td>2012</td>\n",
              "      <td>12</td>\n",
              "      <td>19</td>\n",
              "      <td>23</td>\n",
              "      <td>6</td>\n",
              "      <td>4</td>\n",
              "      <td>0</td>\n",
              "      <td>1</td>\n",
              "      <td>1</td>\n",
              "      <td>13.12</td>\n",
              "      <td>16.665</td>\n",
              "      <td>66</td>\n",
              "      <td>8.9981</td>\n",
              "      <td>4</td>\n",
              "      <td>88</td>\n",
              "    </tr>\n",
              "  </tbody>\n",
              "</table>\n",
              "<p>10886 rows × 18 columns</p>\n",
              "</div>"
            ],
            "text/plain": [
              "           time  year_month  month_day  ...  windspeed  casual  count\n",
              "0      20110101      201101        101  ...     0.0000       3     16\n",
              "1      20110101      201101        101  ...     0.0000       8     40\n",
              "2      20110101      201101        101  ...     0.0000       5     32\n",
              "3      20110101      201101        101  ...     0.0000       3     13\n",
              "4      20110101      201101        101  ...     0.0000       0      1\n",
              "...         ...         ...        ...  ...        ...     ...    ...\n",
              "10881  20121219      201212       1219  ...    26.0027       7    336\n",
              "10882  20121219      201212       1219  ...    15.0013      10    241\n",
              "10883  20121219      201212       1219  ...    15.0013       4    168\n",
              "10884  20121219      201212       1219  ...     6.0032      12    129\n",
              "10885  20121219      201212       1219  ...     8.9981       4     88\n",
              "\n",
              "[10886 rows x 18 columns]"
            ]
          },
          "metadata": {
            "tags": []
          },
          "execution_count": 39
        }
      ]
    },
    {
      "cell_type": "code",
      "metadata": {
        "colab": {
          "base_uri": "https://localhost:8080/"
        },
        "id": "oLsDGFmzpfmX",
        "outputId": "ea718c65-537b-46ec-a133-9ef50d81b1a4"
      },
      "source": [
        "for i in range(0,17):\n",
        "    iqr_train=remove_outlier_test(iqr_train, iqr_train.columns[i])"
      ],
      "execution_count": 40,
      "outputs": [
        {
          "output_type": "stream",
          "text": [
            "0\n",
            "(10886, 18)\n",
            "0\n",
            "(10886, 18)\n",
            "0\n",
            "(10886, 18)\n",
            "0\n",
            "(10886, 18)\n",
            "0\n",
            "(10886, 18)\n",
            "0\n",
            "(10886, 18)\n",
            "0\n",
            "(10886, 18)\n",
            "0\n",
            "(10886, 18)\n",
            "0\n",
            "(10886, 18)\n",
            "311\n",
            "(10575, 18)\n",
            "0\n",
            "(10575, 18)\n",
            "1\n",
            "(10574, 18)\n",
            "0\n",
            "(10574, 18)\n",
            "0\n",
            "(10574, 18)\n",
            "22\n",
            "(10552, 18)\n",
            "220\n",
            "(10332, 18)\n",
            "709\n",
            "(9623, 18)\n"
          ],
          "name": "stdout"
        }
      ]
    },
    {
      "cell_type": "code",
      "metadata": {
        "id": "TWzgEl2XsvMs"
      },
      "source": [
        "x=iqr_train.drop(['count'], axis=1)\n",
        "y=iqr_train['count']"
      ],
      "execution_count": 41,
      "outputs": []
    },
    {
      "cell_type": "code",
      "metadata": {
        "id": "m3Ku8vLMtACj"
      },
      "source": [
        "best=regression_model.model_choice(x,y)"
      ],
      "execution_count": null,
      "outputs": []
    },
    {
      "cell_type": "code",
      "metadata": {
        "colab": {
          "base_uri": "https://localhost:8080/",
          "height": 266
        },
        "id": "TWxEAhkEtBu5",
        "outputId": "65428c4b-bdc5-4873-980a-7bfc0932df85"
      },
      "source": [
        "best"
      ],
      "execution_count": 43,
      "outputs": [
        {
          "output_type": "execute_result",
          "data": {
            "text/html": [
              "<div>\n",
              "<style scoped>\n",
              "    .dataframe tbody tr th:only-of-type {\n",
              "        vertical-align: middle;\n",
              "    }\n",
              "\n",
              "    .dataframe tbody tr th {\n",
              "        vertical-align: top;\n",
              "    }\n",
              "\n",
              "    .dataframe thead th {\n",
              "        text-align: right;\n",
              "    }\n",
              "</style>\n",
              "<table border=\"1\" class=\"dataframe\">\n",
              "  <thead>\n",
              "    <tr style=\"text-align: right;\">\n",
              "      <th></th>\n",
              "      <th>모델</th>\n",
              "      <th>rmse</th>\n",
              "      <th>train_score</th>\n",
              "      <th>test_score</th>\n",
              "    </tr>\n",
              "  </thead>\n",
              "  <tbody>\n",
              "    <tr>\n",
              "      <th>6</th>\n",
              "      <td>catboost</td>\n",
              "      <td>25.758490</td>\n",
              "      <td>0.988293</td>\n",
              "      <td>0.976716</td>\n",
              "    </tr>\n",
              "    <tr>\n",
              "      <th>5</th>\n",
              "      <td>lightgbm</td>\n",
              "      <td>27.820148</td>\n",
              "      <td>0.982943</td>\n",
              "      <td>0.972840</td>\n",
              "    </tr>\n",
              "    <tr>\n",
              "      <th>4</th>\n",
              "      <td>xgboost</td>\n",
              "      <td>50.459704</td>\n",
              "      <td>0.923019</td>\n",
              "      <td>0.910648</td>\n",
              "    </tr>\n",
              "    <tr>\n",
              "      <th>0</th>\n",
              "      <td>linear</td>\n",
              "      <td>112.441234</td>\n",
              "      <td>0.567323</td>\n",
              "      <td>0.556326</td>\n",
              "    </tr>\n",
              "    <tr>\n",
              "      <th>1</th>\n",
              "      <td>ridge</td>\n",
              "      <td>112.441617</td>\n",
              "      <td>0.567323</td>\n",
              "      <td>0.556323</td>\n",
              "    </tr>\n",
              "    <tr>\n",
              "      <th>2</th>\n",
              "      <td>lasso</td>\n",
              "      <td>112.713464</td>\n",
              "      <td>0.566776</td>\n",
              "      <td>0.554175</td>\n",
              "    </tr>\n",
              "    <tr>\n",
              "      <th>3</th>\n",
              "      <td>elasticnet</td>\n",
              "      <td>115.976672</td>\n",
              "      <td>0.541933</td>\n",
              "      <td>0.527987</td>\n",
              "    </tr>\n",
              "  </tbody>\n",
              "</table>\n",
              "</div>"
            ],
            "text/plain": [
              "           모델        rmse  train_score  test_score\n",
              "6    catboost   25.758490     0.988293    0.976716\n",
              "5    lightgbm   27.820148     0.982943    0.972840\n",
              "4     xgboost   50.459704     0.923019    0.910648\n",
              "0      linear  112.441234     0.567323    0.556326\n",
              "1       ridge  112.441617     0.567323    0.556323\n",
              "2       lasso  112.713464     0.566776    0.554175\n",
              "3  elasticnet  115.976672     0.541933    0.527987"
            ]
          },
          "metadata": {
            "tags": []
          },
          "execution_count": 43
        }
      ]
    },
    {
      "cell_type": "markdown",
      "metadata": {
        "id": "WkWYF6f4teaE"
      },
      "source": [
        "- IQR로 이상치를 제거 했을 때 최고점수(test_score)가 0.978812에서 0.976716로 감소한 것을 알 수 있다."
      ]
    },
    {
      "cell_type": "markdown",
      "metadata": {
        "id": "0ECZSWTkt-H1"
      },
      "source": [
        "방법[2] 3-sigma 로 이상치 제거 전과 후로 모델 돌려보기\n",
        "--"
      ]
    },
    {
      "cell_type": "code",
      "metadata": {
        "id": "VKdOy8_jtEcV"
      },
      "source": [
        "sigma_train=train[['time', 'year_month', 'month_day', 'year', 'month', 'date',\n",
        "       'hour', 'day', 'season', 'holiday', 'workingday', 'weather', 'temp',\n",
        "       'atemp', 'humidity', 'windspeed', 'casual','count']]"
      ],
      "execution_count": 44,
      "outputs": []
    },
    {
      "cell_type": "code",
      "metadata": {
        "id": "4T1fNgfPu8FN"
      },
      "source": [
        "for i in range(0,17):\n",
        "    sigma_train = sigma_train[np.abs(sigma_train.iloc[:, i] - sigma_train.iloc[:, i].mean()) <= (3*sigma_train.iloc[:, i].std())]\n"
      ],
      "execution_count": 45,
      "outputs": []
    },
    {
      "cell_type": "code",
      "metadata": {
        "id": "J1uFkFhavYuX"
      },
      "source": [
        "x=sigma_train.drop(['count'], axis=1)\n",
        "y=sigma_train['count']"
      ],
      "execution_count": 46,
      "outputs": []
    },
    {
      "cell_type": "code",
      "metadata": {
        "id": "FfplDA-BvzGb"
      },
      "source": [
        "best=regression_model.model_choice(x,y)"
      ],
      "execution_count": null,
      "outputs": []
    },
    {
      "cell_type": "code",
      "metadata": {
        "colab": {
          "base_uri": "https://localhost:8080/",
          "height": 266
        },
        "id": "1j6TEmYLv7SK",
        "outputId": "6ad3fa2c-a713-4901-e8a3-200891da9110"
      },
      "source": [
        "best"
      ],
      "execution_count": 48,
      "outputs": [
        {
          "output_type": "execute_result",
          "data": {
            "text/html": [
              "<div>\n",
              "<style scoped>\n",
              "    .dataframe tbody tr th:only-of-type {\n",
              "        vertical-align: middle;\n",
              "    }\n",
              "\n",
              "    .dataframe tbody tr th {\n",
              "        vertical-align: top;\n",
              "    }\n",
              "\n",
              "    .dataframe thead th {\n",
              "        text-align: right;\n",
              "    }\n",
              "</style>\n",
              "<table border=\"1\" class=\"dataframe\">\n",
              "  <thead>\n",
              "    <tr style=\"text-align: right;\">\n",
              "      <th></th>\n",
              "      <th>모델</th>\n",
              "      <th>rmse</th>\n",
              "      <th>train_score</th>\n",
              "      <th>test_score</th>\n",
              "    </tr>\n",
              "  </thead>\n",
              "  <tbody>\n",
              "    <tr>\n",
              "      <th>6</th>\n",
              "      <td>catboost</td>\n",
              "      <td>25.725008</td>\n",
              "      <td>0.988469</td>\n",
              "      <td>0.978241</td>\n",
              "    </tr>\n",
              "    <tr>\n",
              "      <th>5</th>\n",
              "      <td>lightgbm</td>\n",
              "      <td>28.643688</td>\n",
              "      <td>0.983925</td>\n",
              "      <td>0.973023</td>\n",
              "    </tr>\n",
              "    <tr>\n",
              "      <th>4</th>\n",
              "      <td>xgboost</td>\n",
              "      <td>49.423445</td>\n",
              "      <td>0.923161</td>\n",
              "      <td>0.919684</td>\n",
              "    </tr>\n",
              "    <tr>\n",
              "      <th>0</th>\n",
              "      <td>linear</td>\n",
              "      <td>111.175712</td>\n",
              "      <td>0.577971</td>\n",
              "      <td>0.593598</td>\n",
              "    </tr>\n",
              "    <tr>\n",
              "      <th>1</th>\n",
              "      <td>ridge</td>\n",
              "      <td>111.176066</td>\n",
              "      <td>0.577971</td>\n",
              "      <td>0.593596</td>\n",
              "    </tr>\n",
              "    <tr>\n",
              "      <th>2</th>\n",
              "      <td>lasso</td>\n",
              "      <td>111.277475</td>\n",
              "      <td>0.577138</td>\n",
              "      <td>0.592854</td>\n",
              "    </tr>\n",
              "    <tr>\n",
              "      <th>3</th>\n",
              "      <td>elasticnet</td>\n",
              "      <td>115.213115</td>\n",
              "      <td>0.551244</td>\n",
              "      <td>0.563545</td>\n",
              "    </tr>\n",
              "  </tbody>\n",
              "</table>\n",
              "</div>"
            ],
            "text/plain": [
              "           모델        rmse  train_score  test_score\n",
              "6    catboost   25.725008     0.988469    0.978241\n",
              "5    lightgbm   28.643688     0.983925    0.973023\n",
              "4     xgboost   49.423445     0.923161    0.919684\n",
              "0      linear  111.175712     0.577971    0.593598\n",
              "1       ridge  111.176066     0.577971    0.593596\n",
              "2       lasso  111.277475     0.577138    0.592854\n",
              "3  elasticnet  115.213115     0.551244    0.563545"
            ]
          },
          "metadata": {
            "tags": []
          },
          "execution_count": 48
        }
      ]
    },
    {
      "cell_type": "markdown",
      "metadata": {
        "id": "BKkZHsZ-wA-7"
      },
      "source": [
        "3-sigma로 이상치를 제거 했을 때 최고점수(test_score)가 0.978812에서 0.978241로 감소했지만,\n",
        "\n",
        "IQR에 비해서는 0.976716에서 0.978241로 증가한 것을 알 수 있다."
      ]
    },
    {
      "cell_type": "markdown",
      "metadata": {
        "id": "CS9T-uEcwOCj"
      },
      "source": [
        "5번 문제[상] 모델을 적용하고 가설을 검증하시오.\n",
        "--"
      ]
    },
    {
      "cell_type": "markdown",
      "metadata": {
        "id": "U1W9dbXJzg-q"
      },
      "source": [
        "귀무 가설: 타겟(count)에 로그변환을 적용하면 test_score가 떨어질 것이다.\n",
        "\n",
        "대립 가설: 타겟(count)에 로그변환을 적용하면 test_score가 올라갈 것이다."
      ]
    },
    {
      "cell_type": "code",
      "metadata": {
        "colab": {
          "base_uri": "https://localhost:8080/",
          "height": 297
        },
        "id": "3t-52a2Cv81x",
        "outputId": "22454d16-0331-4148-bd6f-d2f8fd0191e9"
      },
      "source": [
        "sns.distplot(train['count'])"
      ],
      "execution_count": 49,
      "outputs": [
        {
          "output_type": "execute_result",
          "data": {
            "text/plain": [
              "<matplotlib.axes._subplots.AxesSubplot at 0x7fb1e8f9e690>"
            ]
          },
          "metadata": {
            "tags": []
          },
          "execution_count": 49
        },
        {
          "output_type": "display_data",
          "data": {
            "image/png": "[encoded data removed]",
            "text/plain": [
              "<Figure size 432x288 with 1 Axes>"
            ]
          },
          "metadata": {
            "tags": []
          }
        }
      ]
    },
    {
      "cell_type": "code",
      "metadata": {
        "colab": {
          "base_uri": "https://localhost:8080/",
          "height": 297
        },
        "id": "XcfqDAwhzbgc",
        "outputId": "b6d49788-45ff-4d3c-ab3c-c49418f730ce"
      },
      "source": [
        "sns.distplot(train['count'])"
      ],
      "execution_count": 50,
      "outputs": [
        {
          "output_type": "execute_result",
          "data": {
            "text/plain": [
              "<matplotlib.axes._subplots.AxesSubplot at 0x7fb1dc161dd0>"
            ]
          },
          "metadata": {
            "tags": []
          },
          "execution_count": 50
        },
        {
          "output_type": "display_data",
          "data": {
            "image/png": "[encoded data removed]",
            "text/plain": [
              "<Figure size 432x288 with 1 Axes>"
            ]
          },
          "metadata": {
            "tags": []
          }
        }
      ]
    },
    {
      "cell_type": "code",
      "metadata": {
        "id": "1DcqUOvxzgKZ"
      },
      "source": [
        "x=train[['time', 'year_month', 'month_day', 'year', 'month', 'date',\n",
        "       'hour', 'day', 'season', 'holiday', 'workingday', 'weather', 'temp',\n",
        "       'atemp', 'humidity', 'windspeed', 'casual','count']]\n",
        "y=train['count']"
      ],
      "execution_count": 51,
      "outputs": []
    },
    {
      "cell_type": "code",
      "metadata": {
        "id": "HE3UCVks6g3B"
      },
      "source": [
        "y=np.log(y)"
      ],
      "execution_count": 52,
      "outputs": []
    },
    {
      "cell_type": "code",
      "metadata": {
        "id": "9Y1sni5AK1SE"
      },
      "source": [
        "class log_regression_select:\n",
        "    def linear(x,y):\n",
        "        x_train, x_test, y_train, y_test=train_test_split(x, y, test_size=0.2, random_state=42)\n",
        "        lr=LinearRegression()\n",
        "        lr.fit(x_train, y_train)\n",
        "        y_pred=lr.predict(x_test)\n",
        "        y_pred=pd.DataFrame(y_pred, columns=['y_pred'])\n",
        "        y_pred=y_pred['y_pred'].apply(lambda x: np.exp(x))\n",
        "        y_test_1=y_test.apply(lambda x: np.exp(x))\n",
        "\n",
        "        train_score=lr.score(x_train, y_train)\n",
        "        test_score=lr.score(x_test, y_test)\n",
        "        mse=mean_squared_error(y_test_1, y_pred)\n",
        "        rmse=np.sqrt(mse)\n",
        "        return rmse, train_score, test_score\n",
        "\n",
        "    def ridge(x,y):\n",
        "        x_train, x_test, y_train, y_test=train_test_split(x, y, test_size=0.2, random_state=42)\n",
        "        ridge = Ridge()\n",
        "        ridge.fit(x_train, y_train)\n",
        "        y_pred=ridge.predict(x_test)\n",
        "        y_pred=pd.DataFrame(y_pred, columns=['y_pred'])\n",
        "        y_pred=y_pred['y_pred'].apply(lambda x: np.exp(x))\n",
        "        y_test_1=y_test.apply(lambda x: np.exp(x))\n",
        "\n",
        "        train_score=ridge.score(x_train, y_train)\n",
        "        test_score=ridge.score(x_test, y_test)\n",
        "        mse=mean_squared_error(y_test_1, y_pred)\n",
        "        rmse=np.sqrt(mse)\n",
        "        return rmse, train_score, test_score\n",
        "\n",
        "    def lasso(x,y):\n",
        "        x_train, x_test, y_train, y_test=train_test_split(x, y, test_size=0.2, random_state=42)\n",
        "        lasso = Lasso()\n",
        "        lasso.fit(x_train, y_train)\n",
        "        y_pred=lasso.predict(x_test)\n",
        "        y_pred=pd.DataFrame(y_pred, columns=['y_pred'])\n",
        "        y_pred=y_pred['y_pred'].apply(lambda x: np.exp(x))\n",
        "        y_test_1=y_test.apply(lambda x: np.exp(x))\n",
        "\n",
        "\n",
        "        train_score=lasso.score(x_train, y_train)\n",
        "        test_score=lasso.score(x_test, y_test)\n",
        "        mse=mean_squared_error(y_test_1, y_pred)\n",
        "        rmse=np.sqrt(mse)\n",
        "        return rmse, train_score, test_score\n",
        "\n",
        "    def elasticnet(x,y):\n",
        "        x_train, x_test, y_train, y_test=train_test_split(x, y, test_size=0.2, random_state=42)\n",
        "        en = ElasticNet()\n",
        "        en.fit(x_train, y_train)\n",
        "        y_pred=en.predict(x_test)\n",
        "        y_pred=pd.DataFrame(y_pred, columns=['y_pred'])\n",
        "        y_pred=y_pred['y_pred'].apply(lambda x: np.exp(x))\n",
        "        y_test_1=y_test.apply(lambda x: np.exp(x))\n",
        "\n",
        "        train_score=en.score(x_train, y_train)\n",
        "        test_score=en.score(x_test, y_test)\n",
        "        mse=mean_squared_error(y_test_1, y_pred)\n",
        "        rmse=np.sqrt(mse)\n",
        "        return rmse, train_score, test_score\n",
        "\n",
        "    def xgboost(x,y):\n",
        "        x_train, x_test, y_train, y_test=train_test_split(x, y, test_size=0.2, random_state=42)\n",
        "        xgb = xgboost.XGBRegressor()\n",
        "        xgb.fit(x_train, y_train)\n",
        "        y_pred=xgb.predict(x_test)\n",
        "        y_pred=pd.DataFrame(y_pred, columns=['y_pred'])\n",
        "        y_pred=y_pred['y_pred'].apply(lambda x: np.exp(x))\n",
        "        y_test_1=y_test.apply(lambda x: np.exp(x))\n",
        "\n",
        "\n",
        "        train_score=xgb.score(x_train, y_train)\n",
        "        test_score=xgb.score(x_test, y_test)\n",
        "        mse=mean_squared_error(y_test_1, y_pred)\n",
        "        rmse=np.sqrt(mse)\n",
        "        return rmse, train_score, test_score\n",
        "\n",
        "    def lgbm(x,y):\n",
        "         x_train, x_test, y_train, y_test=train_test_split(x, y, test_size=0.2, random_state=42)\n",
        "         lgbm = lightgbm.LGBMRegressor()\n",
        "         lgbm.fit(x_train, y_train)\n",
        "         y_pred=lgbm.predict(x_test)\n",
        "         y_pred=pd.DataFrame(y_pred, columns=['y_pred'])\n",
        "         y_pred=y_pred['y_pred'].apply(lambda x: np.exp(x))\n",
        "         y_test_1=y_test.apply(lambda x: np.exp(x))\n",
        "\n",
        "         train_score=lgbm.score(x_train, y_train)\n",
        "         test_score=lgbm.score(x_test, y_test)\n",
        "         mse=mean_squared_error(y_test_1, y_pred)\n",
        "         rmse=np.sqrt(mse)\n",
        "         return rmse, train_score, test_score\n",
        "\n",
        "    def catboost(x,y):\n",
        "         x_train, x_test, y_train, y_test=train_test_split(x, y, test_size=0.2, random_state=42)\n",
        "         cb = catboost.CatBoostRegressor()\n",
        "         cb.fit(x_train, y_train)\n",
        "         y_pred=cb.predict(x_test)\n",
        "         y_pred=pd.DataFrame(y_pred, columns=['y_pred'])\n",
        "         y_pred=y_pred['y_pred'].apply(lambda x: np.exp(x))\n",
        "         y_test_1=y_test.apply(lambda x: np.exp(x))\n",
        "\n",
        "         train_score=cb.score(x_train, y_train)\n",
        "         test_score=cb.score(x_test, y_test)\n",
        "         mse=mean_squared_error(y_test_1, y_pred)\n",
        "         rmse=np.sqrt(mse)\n",
        "         return rmse, train_score, test_score"
      ],
      "execution_count": 55,
      "outputs": []
    },
    {
      "cell_type": "code",
      "metadata": {
        "id": "lVpP5xfeLrQ6"
      },
      "source": [
        "class log_regression_model:\n",
        "    def model_choice(x,y):\n",
        "        model=pd.DataFrame(columns=['모델','rmse','train_score','test_score'])\n",
        "        linear_rmse=log_regression_select.linear(x,y)[0]\n",
        "        linear_train_score=log_regression_select.linear(x,y)[1]\n",
        "        linear_test_score=log_regression_select.linear(x,y)[2]\n",
        "\n",
        "        model=model.append({'모델':'linear', 'rmse':linear_rmse,\n",
        "                            'train_score':linear_train_score,\n",
        "                            'test_score':linear_test_score}, ignore_index=True)\n",
        "    \n",
        "\n",
        "        ridge_rmse=log_regression_select.ridge(x,y)[0]\n",
        "        ridge_train_score=log_regression_select.ridge(x,y)[1]\n",
        "        ridge_test_score=log_regression_select.ridge(x,y)[2]\n",
        "\n",
        "        model=model.append({'모델':'ridge', 'rmse':ridge_rmse,\n",
        "                            'train_score':ridge_train_score,\n",
        "                            'test_score':ridge_test_score}, ignore_index=True)\n",
        "        \n",
        "\n",
        "        lasso_rmse=log_regression_select.lasso(x,y)[0]\n",
        "        lasso_train_score=log_regression_select.lasso(x,y)[1]\n",
        "        lasso_test_score=log_regression_select.lasso(x,y)[2]\n",
        "\n",
        "        model=model.append({'모델':'lasso', 'rmse':lasso_rmse,\n",
        "                            'train_score':lasso_train_score,\n",
        "                            'test_score':lasso_test_score}, ignore_index=True)\n",
        "        \n",
        "\n",
        "        elasticnet_rmse=log_regression_select.elasticnet(x,y)[0]\n",
        "        elasticnet_train_score=log_regression_select.elasticnet(x,y)[1]\n",
        "        elasticnet_test_score=log_regression_select.elasticnet(x,y)[2]\n",
        "\n",
        "        model=model.append({'모델':'elasticnet', 'rmse':elasticnet_rmse,\n",
        "                            'train_score':elasticnet_train_score,\n",
        "                            'test_score':elasticnet_test_score}, ignore_index=True)\n",
        "        \n",
        "\n",
        "        xgboost_rmse=log_regression_select.xgboost(x,y)[0]\n",
        "        xgboost_train_score=log_regression_select.xgboost(x,y)[1]\n",
        "        xgboost_test_score=log_regression_select.xgboost(x,y)[2]\n",
        "\n",
        "        model=model.append({'모델':'xgboost', 'rmse':xgboost_rmse,\n",
        "                            'train_score':xgboost_train_score,\n",
        "                            'test_score':xgboost_test_score}, ignore_index=True)\n",
        "        \n",
        "\n",
        "        lgbm_rmse=log_regression_select.lgbm(x,y)[0]\n",
        "        lgbm_train_score=log_regression_select.lgbm(x,y)[1]\n",
        "        lgbm_test_score=log_regression_select.lgbm(x,y)[2]\n",
        "\n",
        "        model=model.append({'모델':'lightgbm', 'rmse':lgbm_rmse,\n",
        "                            'train_score':lgbm_train_score,\n",
        "                            'test_score':lgbm_test_score}, ignore_index=True)\n",
        "        \n",
        "\n",
        "        catboost_rmse=log_regression_select.catboost(x,y)[0]\n",
        "        catboost_train_score=log_regression_select.catboost(x,y)[1]\n",
        "        catboost_test_score=log_regression_select.catboost(x,y)[2]\n",
        "\n",
        "        model=model.append({'모델':'catboost', 'rmse':catboost_rmse,\n",
        "                            'train_score':catboost_train_score,\n",
        "                            'test_score':catboost_test_score}, ignore_index=True)\n",
        "              \n",
        "        model=model.sort_values('test_score', ascending=False)\n",
        "\n",
        "        return model"
      ],
      "execution_count": 56,
      "outputs": []
    },
    {
      "cell_type": "code",
      "metadata": {
        "id": "jGpYp7Zs6hHB"
      },
      "source": [
        "best=log_regression_model.model_choice(x,y)"
      ],
      "execution_count": null,
      "outputs": []
    },
    {
      "cell_type": "code",
      "metadata": {
        "colab": {
          "base_uri": "https://localhost:8080/",
          "height": 266
        },
        "id": "MPha9aIiBYT0",
        "outputId": "53d3abad-81c3-4cc8-9ccd-bd607d986204"
      },
      "source": [
        "best"
      ],
      "execution_count": 58,
      "outputs": [
        {
          "output_type": "execute_result",
          "data": {
            "text/html": [
              "<div>\n",
              "<style scoped>\n",
              "    .dataframe tbody tr th:only-of-type {\n",
              "        vertical-align: middle;\n",
              "    }\n",
              "\n",
              "    .dataframe tbody tr th {\n",
              "        vertical-align: top;\n",
              "    }\n",
              "\n",
              "    .dataframe thead th {\n",
              "        text-align: right;\n",
              "    }\n",
              "</style>\n",
              "<table border=\"1\" class=\"dataframe\">\n",
              "  <thead>\n",
              "    <tr style=\"text-align: right;\">\n",
              "      <th></th>\n",
              "      <th>모델</th>\n",
              "      <th>rmse</th>\n",
              "      <th>train_score</th>\n",
              "      <th>test_score</th>\n",
              "    </tr>\n",
              "  </thead>\n",
              "  <tbody>\n",
              "    <tr>\n",
              "      <th>5</th>\n",
              "      <td>lightgbm</td>\n",
              "      <td>2.946955</td>\n",
              "      <td>0.999992</td>\n",
              "      <td>0.999987</td>\n",
              "    </tr>\n",
              "    <tr>\n",
              "      <th>6</th>\n",
              "      <td>catboost</td>\n",
              "      <td>4.246841</td>\n",
              "      <td>0.999976</td>\n",
              "      <td>0.999961</td>\n",
              "    </tr>\n",
              "    <tr>\n",
              "      <th>4</th>\n",
              "      <td>xgboost</td>\n",
              "      <td>2.460625</td>\n",
              "      <td>0.999961</td>\n",
              "      <td>0.999960</td>\n",
              "    </tr>\n",
              "    <tr>\n",
              "      <th>1</th>\n",
              "      <td>ridge</td>\n",
              "      <td>577.006679</td>\n",
              "      <td>0.732961</td>\n",
              "      <td>0.731161</td>\n",
              "    </tr>\n",
              "    <tr>\n",
              "      <th>0</th>\n",
              "      <td>linear</td>\n",
              "      <td>577.040975</td>\n",
              "      <td>0.732961</td>\n",
              "      <td>0.731161</td>\n",
              "    </tr>\n",
              "    <tr>\n",
              "      <th>3</th>\n",
              "      <td>elasticnet</td>\n",
              "      <td>614.769461</td>\n",
              "      <td>0.724743</td>\n",
              "      <td>0.720762</td>\n",
              "    </tr>\n",
              "    <tr>\n",
              "      <th>2</th>\n",
              "      <td>lasso</td>\n",
              "      <td>658.374450</td>\n",
              "      <td>0.715350</td>\n",
              "      <td>0.710949</td>\n",
              "    </tr>\n",
              "  </tbody>\n",
              "</table>\n",
              "</div>"
            ],
            "text/plain": [
              "           모델        rmse  train_score  test_score\n",
              "5    lightgbm    2.946955     0.999992    0.999987\n",
              "6    catboost    4.246841     0.999976    0.999961\n",
              "4     xgboost    2.460625     0.999961    0.999960\n",
              "1       ridge  577.006679     0.732961    0.731161\n",
              "0      linear  577.040975     0.732961    0.731161\n",
              "3  elasticnet  614.769461     0.724743    0.720762\n",
              "2       lasso  658.374450     0.715350    0.710949"
            ]
          },
          "metadata": {
            "tags": []
          },
          "execution_count": 58
        }
      ]
    },
    {
      "cell_type": "markdown",
      "metadata": {
        "id": "QuKl5ftRKaY0"
      },
      "source": [
        "test_score가 0.978812에서 0.999987까지 높아진 것을 확인 할 수 있다.\n",
        "\n",
        "rmse의 경우에도 26.445344에서 2.946955까지 떨어진 것을 확인 할 수 있다."
      ]
    }
  ]
}