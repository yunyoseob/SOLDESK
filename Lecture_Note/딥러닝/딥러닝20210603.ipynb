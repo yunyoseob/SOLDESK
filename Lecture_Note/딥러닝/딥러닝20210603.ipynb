{
  "nbformat": 4,
  "nbformat_minor": 0,
  "metadata": {
    "accelerator": "GPU",
    "colab": {
      "name": "딥러닝20210603.ipynb",
      "provenance": [],
      "collapsed_sections": [
        "rQll5yK7R0wv",
        "h56Z1BIqFyT9",
        "EOX4-a5RNkv9"
      ]
    },
    "kernelspec": {
      "display_name": "Python 3",
      "name": "python3"
    },
    "language_info": {
      "name": "python"
    }
  },
  "cells": [
    {
      "cell_type": "code",
      "metadata": {
        "colab": {
          "base_uri": "https://localhost:8080/"
        },
        "id": "UBewkpGbHDl6",
        "outputId": "d445572e-4db9-4698-bf3d-4653ad971359"
      },
      "source": [
        "import tensorflow as tf\n",
        "print(tf.__version__)"
      ],
      "execution_count": null,
      "outputs": [
        {
          "output_type": "stream",
          "text": [
            "2.5.0\n"
          ],
          "name": "stdout"
        }
      ]
    },
    {
      "cell_type": "code",
      "metadata": {
        "id": "cKeArVtHHIa8"
      },
      "source": [
        "!nvidia-smi"
      ],
      "execution_count": null,
      "outputs": []
    },
    {
      "cell_type": "code",
      "metadata": {
        "colab": {
          "base_uri": "https://localhost:8080/"
        },
        "id": "lO0v0kOJHWfc",
        "outputId": "c52f1d26-2f81-425c-c0f5-155a94c819ca"
      },
      "source": [
        "# tf.function을 사용하지 않는 경우\n",
        "def square_pos(x):\n",
        "    if x>0:\n",
        "        x=x*x\n",
        "    else:\n",
        "        x=x*(-1)\n",
        "    return x\n",
        "square_pos"
      ],
      "execution_count": null,
      "outputs": [
        {
          "output_type": "execute_result",
          "data": {
            "text/plain": [
              "<function __main__.square_pos>"
            ]
          },
          "metadata": {
            "tags": []
          },
          "execution_count": 3
        }
      ]
    },
    {
      "cell_type": "code",
      "metadata": {
        "colab": {
          "base_uri": "https://localhost:8080/"
        },
        "id": "0RKDY8siLBAG",
        "outputId": "6bcf1a69-4286-45b8-955b-7605f72a8f78"
      },
      "source": [
        "# tensorflow로 작동\n",
        "# @tf.function # class -> def __init__(self,a,b) /  def __del__(self, a, b) -> public\n",
        "# def __init__(self,a,b) 외부에서 코드는 보이지만 접근이 불가(절대로 하지 마세요.)\n",
        "# 골뱅이classmethod \n",
        "# 골뱅이staticmethod\n",
        "\n",
        "@tf.function # function -> tensorflow로 작동해주세요.\n",
        "\n",
        "def square_pos(x):\n",
        "    if x>0:\n",
        "        x=x*x\n",
        "    else:\n",
        "        x=x*(-1)\n",
        "    return x\n",
        "square_pos"
      ],
      "execution_count": null,
      "outputs": [
        {
          "output_type": "execute_result",
          "data": {
            "text/plain": [
              "<tensorflow.python.eager.def_function.Function at 0x7f761b9859d0>"
            ]
          },
          "metadata": {
            "tags": []
          },
          "execution_count": 4
        }
      ]
    },
    {
      "cell_type": "code",
      "metadata": {
        "id": "Bhcg8ps_LBHk"
      },
      "source": [
        "import tensorflow as tf\n",
        "# seed: 재현가능성 때문에 실시\n",
        "\n",
        "tf.random.set_seed(777)\n",
        "\n",
        "import numpy as np\n",
        "from tensorflow.keras.models import Sequential # 텐서플로우에 있는 것을 layer(층)을 하나하나 쌓겠다(Sequential).\n",
        "from tensorflow.keras.layers import Dense \n",
        "from tensorflow.keras.optimizers import SGD\n",
        "from tensorflow.keras.losses import mse"
      ],
      "execution_count": null,
      "outputs": []
    },
    {
      "cell_type": "code",
      "metadata": {
        "id": "gaDCPmVmM-Yv"
      },
      "source": [
        "# 데이터 준비하기\n",
        "# OR 문제\n",
        "X=np.array([[0,0],[1,0],[0,1],[1,1]])\n",
        "y=np.array([[0],[1],[1],[1]])"
      ],
      "execution_count": null,
      "outputs": []
    },
    {
      "cell_type": "code",
      "metadata": {
        "id": "vrYiUxPCM-bF"
      },
      "source": [
        "# 모델 구성하기\n",
        "model=Sequential()\n",
        "\n",
        "# 단일 퍼셉트론을 구성\n",
        "model.add(Dense(1,input_shape=(2,), activation='linear'))\n",
        "\n",
        "# 다중 퍼셉트론을 구성하고 싶다면?\n",
        "# model.add(Dense(32, input_shape= (2,), activation='linear' ))\n",
        "\n",
        "# 모델 준비 -> 평가(평가지표도 넣고 loss_\n",
        "model.compile(optimizer = 'SGD', loss=mse, metrics=['acc'])"
      ],
      "execution_count": null,
      "outputs": []
    },
    {
      "cell_type": "markdown",
      "metadata": {
        "id": "wmpXWnrXPpTX"
      },
      "source": [
        "- overfitting에 빠짐"
      ]
    },
    {
      "cell_type": "code",
      "metadata": {
        "id": "3Z730KzfM-dm"
      },
      "source": [
        "# 학습시키기\n",
        "# 머신러닝에서의 fit과 같음\n",
        "\n",
        "model.fit(X,y, epochs=500)"
      ],
      "execution_count": null,
      "outputs": []
    },
    {
      "cell_type": "code",
      "metadata": {
        "colab": {
          "base_uri": "https://localhost:8080/"
        },
        "id": "oo3vIsJcM-gF",
        "outputId": "5923873b-81fb-46e3-d222-d6f953f34e75"
      },
      "source": [
        "model.summary()"
      ],
      "execution_count": null,
      "outputs": [
        {
          "output_type": "stream",
          "text": [
            "Model: \"sequential\"\n",
            "_________________________________________________________________\n",
            "Layer (type)                 Output Shape              Param #   \n",
            "=================================================================\n",
            "dense (Dense)                (None, 1)                 3         \n",
            "=================================================================\n",
            "Total params: 3\n",
            "Trainable params: 3\n",
            "Non-trainable params: 0\n",
            "_________________________________________________________________\n"
          ],
          "name": "stdout"
        }
      ]
    },
    {
      "cell_type": "code",
      "metadata": {
        "colab": {
          "base_uri": "https://localhost:8080/"
        },
        "id": "UyBZkXXgM-iu",
        "outputId": "1501f227-4fcf-4d44-dc93-39a89a561864"
      },
      "source": [
        "model.get_weights()"
      ],
      "execution_count": null,
      "outputs": [
        {
          "output_type": "execute_result",
          "data": {
            "text/plain": [
              "[array([[0.49431452],\n",
              "        [0.37552655]], dtype=float32), array([0.3271933], dtype=float32)]"
            ]
          },
          "metadata": {
            "tags": []
          },
          "execution_count": 10
        }
      ]
    },
    {
      "cell_type": "markdown",
      "metadata": {
        "id": "fgpl8YWOQWy8"
      },
      "source": [
        "- 다중 퍼셉트론으로 overfitting에서 나오기"
      ]
    },
    {
      "cell_type": "code",
      "metadata": {
        "id": "Z8W83x5GM-lN"
      },
      "source": [
        "# 모델 구성하기\n",
        "model=Sequential()\n",
        "\n",
        "# 단일 퍼셉트론을 구성\n",
        "#model.add(Dense(1,input_shape=(2,), activation='linear'))\n",
        "\n",
        "# 다중 퍼셉트론을 구성하고 싶다면?\n",
        "model.add(Dense(32, input_shape= (2,), activation='linear' ))\n",
        "\n",
        "# 모델 준비 -> 평가(평가지표도 넣고 loss_\n",
        "model.compile(optimizer = 'SGD', loss=mse, metrics=['acc'])"
      ],
      "execution_count": null,
      "outputs": []
    },
    {
      "cell_type": "code",
      "metadata": {
        "id": "Lua3Kv5NQCFp"
      },
      "source": [
        "model.fit(X,y, epochs=500)"
      ],
      "execution_count": null,
      "outputs": []
    },
    {
      "cell_type": "code",
      "metadata": {
        "colab": {
          "base_uri": "https://localhost:8080/"
        },
        "id": "i_okXFplQCH_",
        "outputId": "84ccf20c-4745-422a-f3c0-3db6e5748cb8"
      },
      "source": [
        "model.summary()"
      ],
      "execution_count": null,
      "outputs": [
        {
          "output_type": "stream",
          "text": [
            "Model: \"sequential_1\"\n",
            "_________________________________________________________________\n",
            "Layer (type)                 Output Shape              Param #   \n",
            "=================================================================\n",
            "dense_1 (Dense)              (None, 32)                96        \n",
            "=================================================================\n",
            "Total params: 96\n",
            "Trainable params: 96\n",
            "Non-trainable params: 0\n",
            "_________________________________________________________________\n"
          ],
          "name": "stdout"
        }
      ]
    },
    {
      "cell_type": "code",
      "metadata": {
        "colab": {
          "base_uri": "https://localhost:8080/"
        },
        "id": "iv8HCn-qQCPG",
        "outputId": "90ce6488-912a-4428-a367-9964f8e3915f"
      },
      "source": [
        "model.get_weights()"
      ],
      "execution_count": null,
      "outputs": [
        {
          "output_type": "execute_result",
          "data": {
            "text/plain": [
              "[array([[ 0.08123325,  0.30389872,  0.24679478, -0.14164759,  0.28630447,\n",
              "         -0.15828423,  0.0299254 ,  0.04210912, -0.19632214,  0.2521813 ,\n",
              "          0.07444475, -0.14096588, -0.19682857, -0.04683502, -0.20901853,\n",
              "          0.2116418 ,  0.39599252,  0.00189971, -0.09785528,  0.02549364,\n",
              "          0.4686057 ,  0.17816263,  0.18119322, -0.18102086,  0.23965536,\n",
              "          0.37659866,  0.22412664, -0.02069837,  0.24929483,  0.2930168 ,\n",
              "         -0.19856828,  0.41364226],\n",
              "        [-0.07518003, -0.01295003,  0.3582184 , -0.11722757,  0.28415087,\n",
              "         -0.1702844 ,  0.10868735,  0.01031877, -0.01068234, -0.00801004,\n",
              "          0.1309964 , -0.11060582, -0.11042546,  0.43687144,  0.5073709 ,\n",
              "          0.33435637,  0.19593652, -0.12418193, -0.01775091,  0.20956878,\n",
              "          0.2008836 ,  0.28940824,  0.3978716 ,  0.21557856,  0.36493596,\n",
              "         -0.06256573,  0.42474613,  0.2596911 , -0.00982242, -0.21440764,\n",
              "          0.2526135 , -0.07609937]], dtype=float32),\n",
              " array([0.21856631, 0.17638224, 0.12987906, 0.25779384, 0.134996  ,\n",
              "        0.26811337, 0.1989384 , 0.21169975, 0.25011346, 0.18330853,\n",
              "        0.18904327, 0.25671244, 0.26495728, 0.1617104 , 0.17528595,\n",
              "        0.1386174 , 0.13181642, 0.23756877, 0.23658034, 0.18465716,\n",
              "        0.12033213, 0.15022996, 0.13372119, 0.2143456 , 0.12994163,\n",
              "        0.17296422, 0.12338494, 0.18407528, 0.18400426, 0.2078231 ,\n",
              "        0.21146019, 0.169483  ], dtype=float32)]"
            ]
          },
          "metadata": {
            "tags": []
          },
          "execution_count": 14
        }
      ]
    },
    {
      "cell_type": "markdown",
      "metadata": {
        "id": "HYTWvEIURO85"
      },
      "source": [
        "Activation 그려보기 (함수 그려보기)\n",
        "--"
      ]
    },
    {
      "cell_type": "code",
      "metadata": {
        "id": "P-bQEt9FQCRO"
      },
      "source": [
        "def sigmoid(z):\n",
        "    return 1/(1+np.exp(-z))\n",
        "\n",
        "def relu(z):\n",
        "    return np.maximum(0,z)\n",
        "\n",
        "def derivative(f, z, eps=0.00001):\n",
        "    return (f(z+eps)-f(z-eps))/(2*eps)"
      ],
      "execution_count": null,
      "outputs": []
    },
    {
      "cell_type": "code",
      "metadata": {
        "colab": {
          "base_uri": "https://localhost:8080/",
          "height": 276
        },
        "id": "1ljuonk5Ikfu",
        "outputId": "fa8987cc-4c58-4329-a4e6-40e8cad1ba2a"
      },
      "source": [
        "import matplotlib.pyplot as plt\n",
        "\n",
        "\n",
        "z = np.linspace(-5, 5, 200)\n",
        "\n",
        "plt.figure(figsize=(11,4))\n",
        "\n",
        "plt.subplot(121)\n",
        "plt.plot(z, np.sign(z), \"r-\", linewidth=1, label=\"Step\")\n",
        "plt.plot(z, sigmoid(z), \"g--\", linewidth=2, label=\"Sigmoid\")\n",
        "plt.plot(z, np.tanh(z), \"b-\", linewidth=2, label=\"Tanh\")\n",
        "plt.plot(z, relu(z), \"m-.\", linewidth=2, label=\"ReLU\")\n",
        "plt.grid(True)\n",
        "plt.legend(loc=\"center right\", fontsize=14)\n",
        "plt.title(\"Activation functions\", fontsize=14)\n",
        "plt.axis([-5, 5, -1.2, 1.2])\n",
        "\n",
        "plt.subplot(122)\n",
        "plt.plot(z, derivative(np.sign, z), \"r-\", linewidth=1, label=\"Step\")\n",
        "plt.plot(0, 0, \"ro\", markersize=5)\n",
        "plt.plot(0, 0, \"rx\", markersize=10)\n",
        "plt.plot(z, derivative(sigmoid, z), \"g--\", linewidth=2, label=\"Sigmoid\")\n",
        "plt.plot(z, derivative(np.tanh, z), \"b-\", linewidth=2, label=\"Tanh\")\n",
        "plt.plot(z, derivative(relu, z), \"m-.\", linewidth=2, label=\"ReLU\")\n",
        "plt.grid(True)\n",
        "#plt.legend(loc=\"center right\", fontsize=14)\n",
        "plt.title(\"Derivatives\", fontsize=14)\n",
        "plt.axis([-5, 5, -0.2, 1.2])\n",
        "\n",
        "plt.show()"
      ],
      "execution_count": null,
      "outputs": [
        {
          "output_type": "display_data",
          "data": {
            "image/png": "[encoded data removed]",
            "text/plain": [
              "<Figure size 792x288 with 2 Axes>"
            ]
          },
          "metadata": {
            "tags": [],
            "needs_background": "light"
          }
        }
      ]
    },
    {
      "cell_type": "markdown",
      "metadata": {
        "id": "cylaFdeX7OCd"
      },
      "source": [
        "2021/06/01\n",
        "--"
      ]
    },
    {
      "cell_type": "code",
      "metadata": {
        "id": "8_9V_vuJQCWj"
      },
      "source": [
        "tf.random.set_seed(777)\n",
        "\n",
        "import numpy as np\n",
        "from tensorflow.keras.models import Sequential\n",
        "from tensorflow.keras.layers import Dense\n",
        "from tensorflow.keras.optimizers import SGD\n",
        "from tensorflow.keras.losses import mse\n",
        "\n",
        "# 데이터 준비하기\n",
        "# OR문제\n",
        "\n",
        "x=np.array([[0,0],[1,0],[0,1],[1,1]])\n",
        "y=np.array([[0],[1],[1],[1]])"
      ],
      "execution_count": null,
      "outputs": []
    },
    {
      "cell_type": "code",
      "metadata": {
        "id": "MavcE5IHM-nV"
      },
      "source": [
        "# 모델 구성하기\n",
        "model=Sequential()\n",
        "\n",
        "#단일 퍼셉트론 구성\n",
        "model.add(Dense(1, input_shape=(2,), activation='linear'))\n",
        "\n",
        "# loss function, 평가지표를 정함\n",
        "model.compile(optimizer='SGD', loss=mse, metrics=['acc'])\n",
        "\n",
        "model.fit(x,y,epochs=100)"
      ],
      "execution_count": null,
      "outputs": []
    },
    {
      "cell_type": "code",
      "metadata": {
        "colab": {
          "base_uri": "https://localhost:8080/"
        },
        "id": "z5HGKx2eLBKW",
        "outputId": "78d01cfb-75f6-4d1a-d1e5-709caec092f4"
      },
      "source": [
        "model.summary()"
      ],
      "execution_count": null,
      "outputs": [
        {
          "output_type": "stream",
          "text": [
            "Model: \"sequential_2\"\n",
            "_________________________________________________________________\n",
            "Layer (type)                 Output Shape              Param #   \n",
            "=================================================================\n",
            "dense_2 (Dense)              (None, 1)                 3         \n",
            "=================================================================\n",
            "Total params: 3\n",
            "Trainable params: 3\n",
            "Non-trainable params: 0\n",
            "_________________________________________________________________\n"
          ],
          "name": "stdout"
        }
      ]
    },
    {
      "cell_type": "code",
      "metadata": {
        "colab": {
          "base_uri": "https://localhost:8080/"
        },
        "id": "scqkGBl7LBQW",
        "outputId": "ec7bb704-eaa0-499a-9b30-e4a300f37e21"
      },
      "source": [
        "model.get_weights()"
      ],
      "execution_count": null,
      "outputs": [
        {
          "output_type": "execute_result",
          "data": {
            "text/plain": [
              "[array([[ 0.69776404],\n",
              "        [-0.18438019]], dtype=float32), array([0.49703857], dtype=float32)]"
            ]
          },
          "metadata": {
            "tags": []
          },
          "execution_count": 20
        }
      ]
    },
    {
      "cell_type": "code",
      "metadata": {
        "colab": {
          "base_uri": "https://localhost:8080/"
        },
        "id": "l3mfWjyVK1u4",
        "outputId": "2adf8a13-e1a2-4562-e4a9-f6664dfd97e9"
      },
      "source": [
        "x_data=[[0.,0.],[0.,1.],[1.,0.],[1.,1.]]\n",
        "y_data=[[1.],[0.],[0.],[0.]]\n",
        "\n",
        "# tf.keras를 활용한 perceptron 모델 구현\n",
        "input_Layer=tf.keras.layers.Input(shape =(2,))\n",
        "x=tf.keras.layers.Dense(2,activation='sigmoid')(input_Layer)\n",
        "Output_Layer=tf.keras.layers.Dense(1,activation='sigmoid')(x)\n",
        "model=tf.keras.Model(inputs=[input_Layer],outputs=[Output_Layer])\n",
        "model.summary()\n",
        "\n",
        "# 모델 loss, 학습방법 결정\n",
        "optimizer=tf.keras.optimizers.SGD(lr=0.7)\n",
        "loss=tf.keras.losses.binary_crossentropy\n",
        "metrics=tf.keras.metrics.binary_crossentropy"
      ],
      "execution_count": null,
      "outputs": [
        {
          "output_type": "stream",
          "text": [
            "Model: \"model\"\n",
            "_________________________________________________________________\n",
            "Layer (type)                 Output Shape              Param #   \n",
            "=================================================================\n",
            "input_1 (InputLayer)         [(None, 2)]               0         \n",
            "_________________________________________________________________\n",
            "dense_3 (Dense)              (None, 2)                 6         \n",
            "_________________________________________________________________\n",
            "dense_4 (Dense)              (None, 1)                 3         \n",
            "=================================================================\n",
            "Total params: 9\n",
            "Trainable params: 9\n",
            "Non-trainable params: 0\n",
            "_________________________________________________________________\n"
          ],
          "name": "stdout"
        },
        {
          "output_type": "stream",
          "text": [
            "/usr/local/lib/python3.7/dist-packages/tensorflow/python/keras/optimizer_v2/optimizer_v2.py:375: UserWarning: The `lr` argument is deprecated, use `learning_rate` instead.\n",
            "  \"The `lr` argument is deprecated, use `learning_rate` instead.\")\n"
          ],
          "name": "stderr"
        }
      ]
    },
    {
      "cell_type": "markdown",
      "metadata": {
        "id": "rQll5yK7R0wv"
      },
      "source": [
        "MNIST dataset with perceptron\n",
        "--"
      ]
    },
    {
      "cell_type": "code",
      "metadata": {
        "id": "mSQ-yi4BQCHY"
      },
      "source": [
        "import tensorflow as tf\n",
        "\n",
        "(X_train,y_train),(X_test,y_test)=tf.keras.datasets.mnist.load_data()"
      ],
      "execution_count": null,
      "outputs": []
    },
    {
      "cell_type": "code",
      "metadata": {
        "colab": {
          "base_uri": "https://localhost:8080/"
        },
        "id": "kbitqz3MSKfW",
        "outputId": "0c0242c5-278c-4e0a-93d9-eaee160cdc6f"
      },
      "source": [
        "print(X_train.shape, y_train.shape, X_test.shape, y_test.shape)"
      ],
      "execution_count": null,
      "outputs": [
        {
          "output_type": "stream",
          "text": [
            "(60000, 28, 28) (60000,) (10000, 28, 28) (10000,)\n"
          ],
          "name": "stdout"
        }
      ]
    },
    {
      "cell_type": "code",
      "metadata": {
        "colab": {
          "base_uri": "https://localhost:8080/",
          "height": 1000
        },
        "id": "Cw_RzEf8SQR_",
        "outputId": "84f3af97-5d6b-4daf-8e86-5a64c3ec1643"
      },
      "source": [
        "import matplotlib.pyplot as plt\n",
        "import numpy as np\n",
        "\n",
        "sample_size=5\n",
        "random_idx=np.random.randint(60000, size=sample_size)\n",
        "\n",
        "for idx in random_idx:\n",
        "    img=X_train[idx,:]\n",
        "    label=y_train[idx]\n",
        "    plt.figure()\n",
        "    plt.imshow(img)\n",
        "    plt.title('%d-th data, label is %d' %(idx,label))"
      ],
      "execution_count": null,
      "outputs": [
        {
          "output_type": "display_data",
          "data": {
            "image/png": "[encoded data removed]",
            "text/plain": [
              "<Figure size 432x288 with 1 Axes>"
            ]
          },
          "metadata": {
            "tags": [],
            "needs_background": "light"
          }
        },
        {
          "output_type": "display_data",
          "data": {
            "image/png": "[encoded data removed]",
            "text/plain": [
              "<Figure size 432x288 with 1 Axes>"
            ]
          },
          "metadata": {
            "tags": [],
            "needs_background": "light"
          }
        },
        {
          "output_type": "display_data",
          "data": {
            "image/png": "[encoded data removed]",
            "text/plain": [
              "<Figure size 432x288 with 1 Axes>"
            ]
          },
          "metadata": {
            "tags": [],
            "needs_background": "light"
          }
        },
        {
          "output_type": "display_data",
          "data": {
            "image/png": "[encoded data removed]",
            "text/plain": [
              "<Figure size 432x288 with 1 Axes>"
            ]
          },
          "metadata": {
            "tags": [],
            "needs_background": "light"
          }
        },
        {
          "output_type": "display_data",
          "data": {
            "image/png": "[encoded data removed]",
            "text/plain": [
              "<Figure size 432x288 with 1 Axes>"
            ]
          },
          "metadata": {
            "tags": [],
            "needs_background": "light"
          }
        }
      ]
    },
    {
      "cell_type": "code",
      "metadata": {
        "colab": {
          "base_uri": "https://localhost:8080/"
        },
        "id": "MCX3bSCFSwhs",
        "outputId": "b8420c21-ab21-44ae-8914-aca100088494"
      },
      "source": [
        "# 검증 데이터 만들기\n",
        "from sklearn.model_selection import train_test_split\n",
        "\n",
        "# 훈련/검증 데이터 8:2의 비율로 분리\n",
        "X_train, X_val, y_train, y_val=train_test_split(X_train, y_train, test_size=0.2, random_state=777)\n",
        "\n",
        "print(f'훈련 데이터 {X_train.shape} 레이블 {y_train.shape}')\n",
        "print(f'검증 데이터 {X_val.shape} 레이블 {y_val.shape}')"
      ],
      "execution_count": null,
      "outputs": [
        {
          "output_type": "stream",
          "text": [
            "훈련 데이터 (48000, 28, 28) 레이블 (48000,)\n",
            "검증 데이터 (12000, 28, 28) 레이블 (12000,)\n"
          ],
          "name": "stdout"
        }
      ]
    },
    {
      "cell_type": "code",
      "metadata": {
        "id": "AaAN8vbVT11R"
      },
      "source": [
        "num_X_train=X_train.shape[0] #48000\n",
        "num_X_val=X_val.shape[0] #12000\n",
        "num_X_test=X_test.shape[0] #12000\n",
        "\n",
        "# 머신러닝 전처리 할 때, scaler 안 씀 -> 영향이 없기 때문에\n",
        "# 딥러닝에서는 전처리 할 떄 scaler를 안 쓰면 안 됨 -> 이미지 -~255 -> normalization\n",
        "\n",
        "X_train=(X_train.reshape((num_X_train,28*28)))/255\n",
        "X_val=(X_val.reshape((num_X_val, 28*28)))/255\n",
        "X_test=(X_test.reshape((num_X_test,28*28)))/255"
      ],
      "execution_count": null,
      "outputs": []
    },
    {
      "cell_type": "code",
      "metadata": {
        "colab": {
          "base_uri": "https://localhost:8080/"
        },
        "id": "SKc8da6AUm5Q",
        "outputId": "09ab6232-7afe-4168-b72a-8a36b5c82b77"
      },
      "source": [
        "print(X_train.shape)"
      ],
      "execution_count": null,
      "outputs": [
        {
          "output_type": "stream",
          "text": [
            "(48000, 784)\n"
          ],
          "name": "stdout"
        }
      ]
    },
    {
      "cell_type": "code",
      "metadata": {
        "colab": {
          "base_uri": "https://localhost:8080/"
        },
        "id": "vYPOFhMQUqh1",
        "outputId": "2ccf216e-3ca6-453c-b298-6bd3b50bda9e"
      },
      "source": [
        "y_train # label encoder -> one-hot encoding으로 바꿔줌"
      ],
      "execution_count": null,
      "outputs": [
        {
          "output_type": "execute_result",
          "data": {
            "text/plain": [
              "array([4, 0, 8, ..., 3, 4, 5], dtype=uint8)"
            ]
          },
          "metadata": {
            "tags": []
          },
          "execution_count": 29
        }
      ]
    },
    {
      "cell_type": "code",
      "metadata": {
        "id": "qIFbA17dVQIv"
      },
      "source": [
        "from tensorflow.keras.utils import to_categorical\n",
        "\n",
        "# 각 데이터의 레이블을 범주형 형태로 변경\n",
        "# 수치형이 아님 X 위에 데이터는 범주형(문자형)\n",
        "\n",
        "y_train=to_categorical(y_train) # == Onehot encoding\n",
        "y_val=to_categorical(y_val)\n",
        "y_test=to_categorical(y_test)"
      ],
      "execution_count": null,
      "outputs": []
    },
    {
      "cell_type": "code",
      "metadata": {
        "colab": {
          "base_uri": "https://localhost:8080/"
        },
        "id": "eH8bDx0RVtqB",
        "outputId": "3f2883a2-95d0-46a3-d891-2a692a587f38"
      },
      "source": [
        "y_train"
      ],
      "execution_count": null,
      "outputs": [
        {
          "output_type": "execute_result",
          "data": {
            "text/plain": [
              "array([[0., 0., 0., ..., 0., 0., 0.],\n",
              "       [1., 0., 0., ..., 0., 0., 0.],\n",
              "       [0., 0., 0., ..., 0., 1., 0.],\n",
              "       ...,\n",
              "       [0., 0., 0., ..., 0., 0., 0.],\n",
              "       [0., 0., 0., ..., 0., 0., 0.],\n",
              "       [0., 0., 0., ..., 0., 0., 0.]], dtype=float32)"
            ]
          },
          "metadata": {
            "tags": []
          },
          "execution_count": 31
        }
      ]
    },
    {
      "cell_type": "code",
      "metadata": {
        "colab": {
          "base_uri": "https://localhost:8080/"
        },
        "id": "SFGeEim2XMxv",
        "outputId": "3b0ef759-4bf1-4288-aa28-37a8bb3630f2"
      },
      "source": [
        "y_train.shape"
      ],
      "execution_count": null,
      "outputs": [
        {
          "output_type": "execute_result",
          "data": {
            "text/plain": [
              "(48000, 10)"
            ]
          },
          "metadata": {
            "tags": []
          },
          "execution_count": 32
        }
      ]
    },
    {
      "cell_type": "code",
      "metadata": {
        "id": "vDrhB2OXVyW2"
      },
      "source": [
        "# 모델 구성하기\n",
        "from tensorflow.keras.models import Sequential\n",
        "from tensorflow.keras.layers import Dense\n",
        "\n",
        "model=Sequential()\n",
        "# 입력 데이터를 명시해야 됨.\n",
        "# 784 차원의 데이터를 입력을 받고, 64개의 출력을 가지는 첫번째 Dense층\n",
        "\n",
        "model.add(Dense(64, activation='relu', input_shape=(784,)))\n",
        "model.add(Dense(32, activation='relu'))\n",
        "model.add(Dense(10, activation='softmax'))"
      ],
      "execution_count": null,
      "outputs": []
    },
    {
      "cell_type": "code",
      "metadata": {
        "colab": {
          "base_uri": "https://localhost:8080/"
        },
        "id": "m6NdgJj_W5kb",
        "outputId": "30bf290b-56cb-4c21-cd3a-bf59ddcf773b"
      },
      "source": [
        "def softmax(arr):\n",
        "  m = np.max(arr)\n",
        "  arr = arr - m # 분모가 0이 되는 것을 방지 하기 위해 - m을 함\n",
        "  arr = np.exp(arr)\n",
        "  return arr/ np.sum(arr)\n",
        "\n",
        "def sigmoid(x):\n",
        "  return 1/(1+np.exp(-x))\n",
        "\n",
        "case_1 = np.array([3.1, 3.0, 2.9])\n",
        "case_2 = np.array([2.0, 1.0, 0.7])\n",
        "\n",
        "np.set_printoptions(precision=3)\n",
        "print(f'sigmoid {sigmoid(case_1)}, softmax {softmax(case_1)}')\n",
        "print(f'sigmoid {sigmoid(case_2)}, softmax {softmax(case_2)}')"
      ],
      "execution_count": null,
      "outputs": [
        {
          "output_type": "stream",
          "text": [
            "sigmoid [0.957 0.953 0.948], softmax [0.367 0.332 0.301]\n",
            "sigmoid [0.881 0.731 0.668], softmax [0.61  0.224 0.166]\n"
          ],
          "name": "stdout"
        }
      ]
    },
    {
      "cell_type": "code",
      "metadata": {
        "id": "UtxsrSKvZgLP"
      },
      "source": [
        "model.compile(optimizer='adam', loss=tf.keras.losses.CategoricalCrossentropy(), metrics=['acc'])\n",
        "# 모델 버전이 업그레이드 되면서 tf.keras.losses.CategoricalCrossentropy() 이걸로 써야함"
      ],
      "execution_count": null,
      "outputs": []
    },
    {
      "cell_type": "code",
      "metadata": {
        "id": "0NCpfq0ZZoQh"
      },
      "source": [
        "# 모델 학습하기\n",
        "history = model.fit(X_train, y_train,\n",
        "                    epochs = 30,\n",
        "                    batch_size = 1,\n",
        "                    validation_data = (X_val,y_val))"
      ],
      "execution_count": null,
      "outputs": []
    },
    {
      "cell_type": "code",
      "metadata": {
        "id": "D_tY-DF2ZbQh"
      },
      "source": [
        "\n",
        "# 학습과정 설정하기.\n",
        "model.compile(optimizer = 'adam', #옵티마이저 : Adam\n",
        "              #손실함수 : categorical_crossentropy\n",
        "              loss = 'categorical_crossentropy',\n",
        "              # 모니터링 할 평가지표 : acc\n",
        "              metrics = ['acc'])"
      ],
      "execution_count": null,
      "outputs": []
    },
    {
      "cell_type": "code",
      "metadata": {
        "colab": {
          "base_uri": "https://localhost:8080/",
          "height": 350
        },
        "id": "WI13c39XBbdw",
        "outputId": "6875e8e3-93ed-44e7-d2b8-caff4e4cfe4c"
      },
      "source": [
        "#학습결과 그려보기\n",
        "import matplotlib.pyplot as plt\n",
        "\n",
        "his_dict = history.history\n",
        "loss = his_dict['loss']\n",
        "val_loss = his_dict['val_loss'] # 검증 데이터가 있는 경우 val_ 수식어가 붙는다.\n",
        "\n",
        "epochs = range(1,len(loss)+1 )\n",
        "fig = plt.figure(figsize= (10,5) )\n",
        "\n",
        "# 학습 및 검증 손실 그리기\n",
        "\n",
        "ax1 = fig.add_subplot(1,2,1)\n",
        "ax1.plot(epochs, loss, color = 'blue', label = 'train_loss')\n",
        "ax1.plot(epochs, val_loss, color = 'orange', label = 'val_loss')\n",
        "ax1.set_title('train and val loss')\n",
        "ax1.set_xlabel('epochs')\n",
        "ax1.set_ylabel('loss')\n",
        "ax1.legend()\n",
        "\n",
        "acc = his_dict['acc']\n",
        "val_acc = his_dict['val_acc']\n",
        "\n",
        "# 학습 및 검증 정확도 그리기\n",
        "ax2 = fig.add_subplot(1,2,2)\n",
        "ax2.plot(epochs, acc, color = 'blue', label = 'train_loss')\n",
        "ax2.plot(epochs, val_acc, color = 'orange', label = 'val_loss')\n",
        "ax2.set_title('train and val loss')\n",
        "ax2.set_xlabel('epochs')\n",
        "ax2.set_ylabel('loss')\n",
        "ax2.legend()\n",
        "\n",
        "\n",
        "plt.show()"
      ],
      "execution_count": null,
      "outputs": [
        {
          "output_type": "display_data",
          "data": {
            "image/png": "[encoded data removed]",
            "text/plain": [
              "<Figure size 720x360 with 2 Axes>"
            ]
          },
          "metadata": {
            "tags": [],
            "needs_background": "light"
          }
        }
      ]
    },
    {
      "cell_type": "markdown",
      "metadata": {
        "id": "h56Z1BIqFyT9"
      },
      "source": [
        "모델 평가하기\n",
        "--"
      ]
    },
    {
      "cell_type": "code",
      "metadata": {
        "colab": {
          "base_uri": "https://localhost:8080/"
        },
        "id": "3vwi3EuwFxpO",
        "outputId": "ac22cb06-f0d4-4169-ebc4-cd5b9806c55b"
      },
      "source": [
        "model.evaluate(X_test, y_test) # 앞에가 loss, 뒤에가 accuracy"
      ],
      "execution_count": null,
      "outputs": [
        {
          "output_type": "stream",
          "text": [
            "313/313 [==============================] - 1s 2ms/step - loss: 0.5159 - acc: 0.9654\n"
          ],
          "name": "stdout"
        },
        {
          "output_type": "execute_result",
          "data": {
            "text/plain": [
              "[0.5159446001052856, 0.965399980545044]"
            ]
          },
          "metadata": {
            "tags": []
          },
          "execution_count": 41
        }
      ]
    },
    {
      "cell_type": "code",
      "metadata": {
        "colab": {
          "base_uri": "https://localhost:8080/"
        },
        "id": "rnmj6J_nFxxI",
        "outputId": "c3c3ca9d-a780-49db-ce92-833587aa555d"
      },
      "source": [
        "import numpy as np\n",
        "\n",
        "results = model.predict(X_test)\n",
        "print(results.shape)\n",
        "np.set_printoptions(precision=7)\n",
        "print(f'각 클래스에 속할 확률 :  {results[0]}')"
      ],
      "execution_count": null,
      "outputs": [
        {
          "output_type": "stream",
          "text": [
            "(10000, 10)\n",
            "각 클래스에 속할 확률 :  [0. 0. 0. 0. 0. 0. 0. 1. 0. 0.]\n"
          ],
          "name": "stdout"
        }
      ]
    },
    {
      "cell_type": "code",
      "metadata": {
        "colab": {
          "base_uri": "https://localhost:8080/",
          "height": 281
        },
        "id": "j3dLJiDvFxzx",
        "outputId": "b52c3c67-1b68-48a3-c0a8-628981747275"
      },
      "source": [
        "import matplotlib.pyplot as plt\n",
        "\n",
        "arg_results = np.argmax(results, axis = -1) #  가장 큰 값의 인덱스를 가져옴\n",
        "plt.imshow(X_test[0].reshape(28, 28))\n",
        "plt.title('Predicted value of the first image : ' +str(arg_results[0]))\n",
        "plt.show()"
      ],
      "execution_count": null,
      "outputs": [
        {
          "output_type": "display_data",
          "data": {
            "image/png": "[encoded data removed]",
            "text/plain": [
              "<Figure size 432x288 with 1 Axes>"
            ]
          },
          "metadata": {
            "tags": [],
            "needs_background": "light"
          }
        }
      ]
    },
    {
      "cell_type": "code",
      "metadata": {
        "colab": {
          "base_uri": "https://localhost:8080/",
          "height": 442
        },
        "id": "WOSzpCrDFx2X",
        "outputId": "7beefbe0-ac44-4e7b-bfee-d3a6bb3938e3"
      },
      "source": [
        "#모델 평가 방법 1 -> 혼동행렬\n",
        "\n",
        "#sklearn.metrics 모듈을 여러 가지 평가지표에 관한 기능을 제공함.\n",
        "\n",
        "from sklearn.metrics import classification_report, confusion_matrix\n",
        "import matplotlib.pyplot as plt\n",
        "import seaborn as sns\n",
        "\n",
        "#혼동행렬을 만듬.\n",
        "plt.figure(figsize = (7,7))\n",
        "cm = confusion_matrix(np.argmax(y_test, axis = -1), np.argmax(results, axis = -1))\n",
        "sns.heatmap(cm, annot = True, fmt = 'd', cmap = 'Blues')\n",
        "plt.xlabel('predicted label')\n",
        "plt.ylabel('true label')\n",
        "plt.show()"
      ],
      "execution_count": null,
      "outputs": [
        {
          "output_type": "display_data",
          "data": {
            "image/png": "[encoded data removed]",
            "text/plain": [
              "<Figure size 504x504 with 2 Axes>"
            ]
          },
          "metadata": {
            "tags": [],
            "needs_background": "light"
          }
        }
      ]
    },
    {
      "cell_type": "code",
      "metadata": {
        "colab": {
          "base_uri": "https://localhost:8080/"
        },
        "id": "8MICsICsFx49",
        "outputId": "8cc82b5e-187c-4cd8-b4b0-98031995b94f"
      },
      "source": [
        "#분류 보고서\n",
        "print('\\n', classification_report(np.argmax(y_test, axis = -1), np.argmax(results, axis = -1)))"
      ],
      "execution_count": null,
      "outputs": [
        {
          "output_type": "stream",
          "text": [
            "\n",
            "               precision    recall  f1-score   support\n",
            "\n",
            "           0       0.99      0.98      0.98       980\n",
            "           1       0.98      0.98      0.98      1135\n",
            "           2       0.94      0.99      0.96      1032\n",
            "           3       0.98      0.95      0.97      1010\n",
            "           4       0.99      0.96      0.97       982\n",
            "           5       0.96      0.95      0.95       892\n",
            "           6       0.98      0.96      0.97       958\n",
            "           7       0.98      0.95      0.96      1028\n",
            "           8       0.91      0.98      0.94       974\n",
            "           9       0.95      0.96      0.96      1009\n",
            "\n",
            "    accuracy                           0.97     10000\n",
            "   macro avg       0.97      0.96      0.97     10000\n",
            "weighted avg       0.97      0.97      0.97     10000\n",
            "\n"
          ],
          "name": "stdout"
        }
      ]
    },
    {
      "cell_type": "markdown",
      "metadata": {
        "id": "eOQTnT4SLGF2"
      },
      "source": [
        "HW) Fashion MNIST에서도 동일하게 해보자\n",
        "--\n",
        "\n",
        "10개의 범주(category)와 70,000개의 흑백 이미지로 구성된 패션 MNIST 데이터셋을 사용하겠습니다. 이미지는 해상도(28x28 픽셀)가 낮고 다음처럼 개별 옷 품목을 나타냅니다:\n",
        "\n",
        "패션 MNIST는 컴퓨터 비전 분야의 \"Hello, World\" 프로그램격인 고전 MNIST 데이터셋을 대신해서 자주 사용됩니다. MNIST 데이터셋은 손글씨 숫자(0, 1, 2 등)의 이미지로 이루어져 있습니다. 여기서 사용하려는 옷 이미지와 동일한 포맷입니다.\n",
        "\n",
        "패션 MNIST는 일반적인 MNIST 보다 조금 더 어려운 문제이고 다양한 예제를 만들기 위해 선택했습니다. 두 데이터셋은 비교적 작기 때문에 알고리즘의 작동 여부를 확인하기 위해 사용되곤 합니다. 코드를 테스트하고 디버깅하는 용도로 좋습니다.\n",
        "\n",
        "네트워크를 훈련하는데 60,000개의 이미지를 사용합니다. 그다음 네트워크가 얼마나 정확하게 이미지를 분류하는지 10,000개의 이미지로 평가하겠습니다. 패션 MNIST 데이터셋은 텐서플로에서 바로 임포트하여 적재할 수 있습니다:"
      ]
    },
    {
      "cell_type": "code",
      "metadata": {
        "id": "LnJoK17AFx7U"
      },
      "source": [
        "import tensorflow as tf\n",
        "import numpy as np\n",
        "import matplotlib.pyplot as plt\n",
        "from tensorflow import keras"
      ],
      "execution_count": null,
      "outputs": []
    },
    {
      "cell_type": "code",
      "metadata": {
        "id": "lKmqWj0PLNSd"
      },
      "source": [
        "fashion_mnist = keras.datasets.fashion_mnist\n",
        "\n",
        "(train_images, train_labels), (test_images, test_labels) = fashion_mnist.load_data()"
      ],
      "execution_count": null,
      "outputs": []
    },
    {
      "cell_type": "code",
      "metadata": {
        "id": "gdnPyYROLNVw"
      },
      "source": [
        "class_names = ['T-shirt/top', 'Trouser', 'Pullover', 'Dress', 'Coat',\n",
        "               'Sandal', 'Shirt', 'Sneaker', 'Bag', 'Ankle boot']"
      ],
      "execution_count": null,
      "outputs": []
    },
    {
      "cell_type": "code",
      "metadata": {
        "colab": {
          "base_uri": "https://localhost:8080/"
        },
        "id": "g50PRoc5LNct",
        "outputId": "f012a6d0-5c5e-40d3-c9fa-c208d9527ed2"
      },
      "source": [
        "print(train_images.shape, train_labels.shape, test_images.shape, test_labels.shape)"
      ],
      "execution_count": null,
      "outputs": [
        {
          "output_type": "stream",
          "text": [
            "(60000, 28, 28) (60000,) (10000, 28, 28) (10000,)\n"
          ],
          "name": "stdout"
        }
      ]
    },
    {
      "cell_type": "code",
      "metadata": {
        "colab": {
          "base_uri": "https://localhost:8080/",
          "height": 1000
        },
        "id": "59PuHLP9LNff",
        "outputId": "7652ee04-71db-43d5-bb07-e8df51263a7e"
      },
      "source": [
        "import matplotlib.pyplot as plt\n",
        "import numpy as np\n",
        "\n",
        "sample_size = 5 \n",
        "# 0~59999이 범위에서 세 개의 정수를 뽑는다.\n",
        "random_idx = np.random.randint(60000, size = sample_size)\n",
        "\n",
        "for idx in random_idx:\n",
        "  img = train_images[idx, :]\n",
        "  label = train_labels[idx]\n",
        "  plt.figure()\n",
        "  plt.imshow(img)\n",
        "  plt.title('%d-th data, label is %d' %(idx, label))"
      ],
      "execution_count": null,
      "outputs": [
        {
          "output_type": "display_data",
          "data": {
            "image/png": "[encoded data removed]",
            "text/plain": [
              "<Figure size 432x288 with 1 Axes>"
            ]
          },
          "metadata": {
            "tags": [],
            "needs_background": "light"
          }
        },
        {
          "output_type": "display_data",
          "data": {
            "image/png": "[encoded data removed]",
            "text/plain": [
              "<Figure size 432x288 with 1 Axes>"
            ]
          },
          "metadata": {
            "tags": [],
            "needs_background": "light"
          }
        },
        {
          "output_type": "display_data",
          "data": {
            "image/png": "[encoded data removed]",
            "text/plain": [
              "<Figure size 432x288 with 1 Axes>"
            ]
          },
          "metadata": {
            "tags": [],
            "needs_background": "light"
          }
        },
        {
          "output_type": "display_data",
          "data": {
            "image/png": "[encoded data removed]",
            "text/plain": [
              "<Figure size 432x288 with 1 Axes>"
            ]
          },
          "metadata": {
            "tags": [],
            "needs_background": "light"
          }
        },
        {
          "output_type": "display_data",
          "data": {
            "image/png": "[encoded data removed]",
            "text/plain": [
              "<Figure size 432x288 with 1 Axes>"
            ]
          },
          "metadata": {
            "tags": [],
            "needs_background": "light"
          }
        }
      ]
    },
    {
      "cell_type": "code",
      "metadata": {
        "id": "s4uaT0NsOVD-"
      },
      "source": [
        "# train, test 데이터 설정해주기\n",
        "x_train=train_images\n",
        "y_train=train_labels\n",
        "x_test=test_images\n",
        "y_test=test_labels"
      ],
      "execution_count": null,
      "outputs": []
    },
    {
      "cell_type": "code",
      "metadata": {
        "colab": {
          "base_uri": "https://localhost:8080/"
        },
        "id": "cPdzWzSWLNiU",
        "outputId": "81e94358-2176-45a6-c53d-56ac293000b2"
      },
      "source": [
        "# 검증 데이터 만들기\n",
        "\n",
        "import numpy as np\n",
        "np.random.seed(777)\n",
        "\n",
        "class_names = ['T-shirt/top', 'Trouser', 'Pullover', 'Dress', 'Coat',\n",
        "               'Sandal', 'Shirt', 'Sneaker', 'Bag', 'Ankle boot']\n",
        "\n",
        "sample_size = 9\n",
        "# 0 ~ 59999의 범위에서 무작위로 3개의 정수를 뽑습니다.\n",
        "random_idx = np.random.randint(60000, size=sample_size) \n",
        "\n",
        "# 0 ~ 1 범위로 만듭니다.\n",
        "x_train = np.reshape(x_train / 255, (-1, 28, 28, 1))\n",
        "x_test = np.reshape(x_test / 255, (-1, 28, 28, 1))\n",
        "\n",
        "from tensorflow.keras.utils import to_categorical\n",
        "# 각 데이터의 레이블을 범주형 형태로 변경합니다.\n",
        "y_train = to_categorical(y_train)\n",
        "y_test = to_categorical(y_test)\n",
        "\n",
        "from sklearn.model_selection import train_test_split\n",
        "\n",
        "#훈련/테스트 데이터를 0.8/0.2 의 비율로 분리\n",
        "\n",
        "x_train,x_val,y_train,y_val = train_test_split(x_train,y_train, test_size = 0.3, random_state =42) # test size는 테스트셋의 비율 의미. random_state는 재산성을 위해 사용(random_seed와 동일)\n",
        "\n",
        "print(f'훈련 데이터 {x_train.shape} 레이블 {y_train.shape}')\n",
        "print(f'검증 데이터 {x_val.shape} 레이블 {y_val.shape}')"
      ],
      "execution_count": null,
      "outputs": [
        {
          "output_type": "stream",
          "text": [
            "훈련 데이터 (33600, 28, 28, 1) 레이블 (33600, 10, 2)\n",
            "검증 데이터 (14400, 28, 28, 1) 레이블 (14400, 10, 2)\n"
          ],
          "name": "stdout"
        }
      ]
    },
    {
      "cell_type": "code",
      "metadata": {
        "colab": {
          "base_uri": "https://localhost:8080/"
        },
        "id": "-Fb8IPnzJCY6",
        "outputId": "8ac8239b-12ef-4c33-e301-624030499005"
      },
      "source": [
        "x_train.shape"
      ],
      "execution_count": null,
      "outputs": [
        {
          "output_type": "execute_result",
          "data": {
            "text/plain": [
              "(33600, 28, 28, 1)"
            ]
          },
          "metadata": {
            "tags": []
          },
          "execution_count": 153
        }
      ]
    },
    {
      "cell_type": "code",
      "metadata": {
        "colab": {
          "base_uri": "https://localhost:8080/"
        },
        "id": "m2EKJRdnJCbM",
        "outputId": "b2171fac-b316-4656-b93f-1cb16ba7169b"
      },
      "source": [
        "x_test.shape"
      ],
      "execution_count": null,
      "outputs": [
        {
          "output_type": "execute_result",
          "data": {
            "text/plain": [
              "(10000, 28, 28, 1)"
            ]
          },
          "metadata": {
            "tags": []
          },
          "execution_count": 154
        }
      ]
    },
    {
      "cell_type": "code",
      "metadata": {
        "colab": {
          "base_uri": "https://localhost:8080/"
        },
        "id": "Uuts6R-4JCdv",
        "outputId": "f36281be-0159-452a-95c6-e4feb4e6cf3e"
      },
      "source": [
        "y_train.shape"
      ],
      "execution_count": null,
      "outputs": [
        {
          "output_type": "execute_result",
          "data": {
            "text/plain": [
              "(33600, 10, 2)"
            ]
          },
          "metadata": {
            "tags": []
          },
          "execution_count": 155
        }
      ]
    },
    {
      "cell_type": "code",
      "metadata": {
        "colab": {
          "base_uri": "https://localhost:8080/"
        },
        "id": "_-CKfX33JCiW",
        "outputId": "9dcceb1d-a33d-48d2-852e-1aae75f7b418"
      },
      "source": [
        "y_test.shape"
      ],
      "execution_count": null,
      "outputs": [
        {
          "output_type": "execute_result",
          "data": {
            "text/plain": [
              "(10000, 10, 2)"
            ]
          },
          "metadata": {
            "tags": []
          },
          "execution_count": 156
        }
      ]
    },
    {
      "cell_type": "code",
      "metadata": {
        "colab": {
          "base_uri": "https://localhost:8080/"
        },
        "id": "dN_kMS3bKnQP",
        "outputId": "d637855f-a411-4a6d-8e3b-3aae5b95ff8e"
      },
      "source": [
        "x_val.shape"
      ],
      "execution_count": null,
      "outputs": [
        {
          "output_type": "execute_result",
          "data": {
            "text/plain": [
              "(14400, 28, 28, 1)"
            ]
          },
          "metadata": {
            "tags": []
          },
          "execution_count": 157
        }
      ]
    },
    {
      "cell_type": "code",
      "metadata": {
        "colab": {
          "base_uri": "https://localhost:8080/"
        },
        "id": "M0X4U7zXKnSp",
        "outputId": "ceac8e18-d6ba-4c07-d6ac-e27eb85d8fdd"
      },
      "source": [
        "y_val.shape"
      ],
      "execution_count": null,
      "outputs": [
        {
          "output_type": "execute_result",
          "data": {
            "text/plain": [
              "(14400, 10, 2)"
            ]
          },
          "metadata": {
            "tags": []
          },
          "execution_count": 158
        }
      ]
    },
    {
      "cell_type": "code",
      "metadata": {
        "colab": {
          "base_uri": "https://localhost:8080/"
        },
        "id": "qn3hPUdyMMVA",
        "outputId": "a742be95-721a-47e9-cc4b-2c2dcfff5bfa"
      },
      "source": [
        "def softmax(arr):\n",
        "  m = np.max(arr)\n",
        "  arr = arr - m \n",
        "  arr = np.exp(arr)\n",
        "  return arr/ np.sum(arr)\n",
        "\n",
        "def sigmoid(x):\n",
        "  return 1/(1+np.exp(-x))\n",
        "\n",
        "def relu(x):\n",
        "    return np.maximum(0, x)\n",
        "\n",
        "\n",
        "np.set_printoptions(precision=3)\n",
        "print(f'sigmoid {(sigmoid(x_train)).shape}, softmax {(softmax(y_train)).shape}')\n",
        "print('\\n')\n",
        "print(f'sigmoid {(sigmoid(x_val)).shape}, softmax {(softmax(y_val)).shape}')\n",
        "print('\\n')\n",
        "print(f'sigmoid {(sigmoid(x_test)).shape}, softmax {(softmax(y_test)).shape}')\n",
        "\n",
        "\n",
        "np.set_printoptions(precision=3)\n",
        "print((f'relu {(relu(x_train)).shape}, softmax {(softmax(y_train)).shape}'))\n",
        "print('\\n')\n",
        "print(f'relu {(relu(x_val)).shape}, softmax {(softmax(y_val)).shape}')\n",
        "print('\\n')\n",
        "print((f'relu {(relu(x_test)).shape}, softmax {(softmax(y_test)).shape}'))"
      ],
      "execution_count": null,
      "outputs": [
        {
          "output_type": "stream",
          "text": [
            "sigmoid (33600, 28, 28, 1), softmax (33600, 10, 2)\n",
            "\n",
            "\n",
            "sigmoid (14400, 28, 28, 1), softmax (14400, 10, 2)\n",
            "\n",
            "\n",
            "sigmoid (10000, 28, 28, 1), softmax (10000, 10, 2)\n",
            "relu (33600, 28, 28, 1), softmax (33600, 10, 2)\n",
            "\n",
            "\n",
            "relu (14400, 28, 28, 1), softmax (14400, 10, 2)\n",
            "\n",
            "\n",
            "relu (10000, 28, 28, 1), softmax (10000, 10, 2)\n"
          ],
          "name": "stdout"
        }
      ]
    },
    {
      "cell_type": "markdown",
      "metadata": {
        "id": "wd8159g_y7iQ"
      },
      "source": [
        "모델 학습시키기\n",
        "--\n",
        "\n",
        " 콜백(Callback) 사용하기\n",
        " \n",
        "\n",
        " tf.keras.callbacks 모듈의 Callback 클래스를 사용하면,\n",
        "\n",
        "훈련 중에 손실 값이 특정 기준 미만이 되었을 때 훈련을 중단할 수 있습니다.\n",
        "\n",
        "\n",
        " 출처1: https://github.com/KerasKorea/KEKOxTutorial/blob/master/10_Fashion-MNIST%20with%20tf.Keras/10_%EB%94%A5%EB%9F%AC%EB%8B%9D%EC%9D%98%20Hello%20World%2C%20Fashion-MNIST.md\n",
        "\n",
        "\n",
        "ModelChceckpoint API (오류로 실패)\n",
        "\n",
        " ModelCheckpoint API를 사용하여 에폭(epoch)마다 모델을 저장할 수 있습니다. 검증 정확도(validation accuracy)가 향상되었을 때 저장하려면 save_best_only = True로 설정하면 됩니다.\n",
        "\n",
        " 출처2: https://codetorial.net/tensorflow/fashion_mnist_classification.html\n",
        "\n",
        "\n",
        " class 오류때문에 포기:\n",
        "\n",
        "NotImplementedError: Layer ModuleWrapper has arguments in `__init__` and therefore must override `get_config`. \n",
        "\n",
        "https://lsjsj92.tistory.com/598"
      ]
    },
    {
      "cell_type": "code",
      "metadata": {
        "id": "yxyMRCTAGWmZ"
      },
      "source": [
        "clss myCallback(tf.keras.callbacks.Callback):\n",
        "    def on_epoch_end(self, epoch, logs={}):\n",
        "            if logs.get('loss')<0.3:\n",
        "                print('\\n훈련을 중지합니다.')\n",
        "                self.model.stop_training=True"
      ],
      "execution_count": null,
      "outputs": []
    },
    {
      "cell_type": "code",
      "metadata": {
        "id": "woDlV8NoGZ6j"
      },
      "source": [
        "callbacks=myCallback()"
      ],
      "execution_count": null,
      "outputs": []
    },
    {
      "cell_type": "markdown",
      "metadata": {
        "id": "aLYL-WH3Iog_"
      },
      "source": [
        "선생님 풀이방식\n",
        "\n",
        "model= keras.Sequential([ keras.layers.Flatten(input_shape=Flatten(28,28))\n",
        "\n",
        "Flatten으로 1차원으로 펼쳐줘서 계산하기 편하기 만들어줌으로써 결과값을 높임"
      ]
    },
    {
      "cell_type": "markdown",
      "metadata": {
        "id": "LSii0cQJH-ez"
      },
      "source": [
        "모델 정확도 평가"
      ]
    },
    {
      "cell_type": "markdown",
      "metadata": {
        "id": "afg6BTw9AGaN"
      },
      "source": [
        "2021/06/02 수업\n",
        "--"
      ]
    },
    {
      "cell_type": "markdown",
      "metadata": {
        "id": "MBJvkKzKLDD3"
      },
      "source": [
        "오버피팅 빠지면 batch-normalization이나 dropout을 쓴다.\n",
        "\n",
        "이 때, 절대로 batch-normalization이랑 dropout을 같이 쓰면 안 되는데, 이유는 같이 쓰면 정규분포의 오른쪽과 왼쪽꼬리를 임의로 전부 드랍시켜버리기 때문이다."
      ]
    },
    {
      "cell_type": "code",
      "metadata": {
        "id": "O3V6Ac3dEhyN"
      },
      "source": [
        "from tensorflow.keras.datasets import fashion_mnist\n",
        "\n",
        "# 데이터를 다운받습니다.\n",
        "(x_train, y_train), (x_test, y_test) = fashion_mnist.load_data()"
      ],
      "execution_count": null,
      "outputs": []
    },
    {
      "cell_type": "code",
      "metadata": {
        "colab": {
          "base_uri": "https://localhost:8080/"
        },
        "id": "5BJU_bz4El4h",
        "outputId": "e6f7a0c6-28a2-4d90-d28c-02227e0fb149"
      },
      "source": [
        "x_train.shape"
      ],
      "execution_count": null,
      "outputs": [
        {
          "output_type": "execute_result",
          "data": {
            "text/plain": [
              "(60000, 28, 28)"
            ]
          },
          "metadata": {
            "tags": []
          },
          "execution_count": 244
        }
      ]
    },
    {
      "cell_type": "code",
      "metadata": {
        "colab": {
          "base_uri": "https://localhost:8080/"
        },
        "id": "VjasKKPDGy51",
        "outputId": "a48c58bf-e1de-4d45-ff4e-9c0c96cd5563"
      },
      "source": [
        "x_test.shape"
      ],
      "execution_count": null,
      "outputs": [
        {
          "output_type": "execute_result",
          "data": {
            "text/plain": [
              "(10000, 28, 28)"
            ]
          },
          "metadata": {
            "tags": []
          },
          "execution_count": 245
        }
      ]
    },
    {
      "cell_type": "code",
      "metadata": {
        "colab": {
          "base_uri": "https://localhost:8080/"
        },
        "id": "271ea6nnGy7g",
        "outputId": "efa4b00c-e686-401a-b549-b2aeb1e08552"
      },
      "source": [
        "y_train.shape"
      ],
      "execution_count": null,
      "outputs": [
        {
          "output_type": "execute_result",
          "data": {
            "text/plain": [
              "(60000,)"
            ]
          },
          "metadata": {
            "tags": []
          },
          "execution_count": 246
        }
      ]
    },
    {
      "cell_type": "code",
      "metadata": {
        "colab": {
          "base_uri": "https://localhost:8080/"
        },
        "id": "Yx5c1XvVGy9j",
        "outputId": "29eedacf-988b-4153-f3e8-ec410f872977"
      },
      "source": [
        "y_test.shape"
      ],
      "execution_count": null,
      "outputs": [
        {
          "output_type": "execute_result",
          "data": {
            "text/plain": [
              "(10000,)"
            ]
          },
          "metadata": {
            "tags": []
          },
          "execution_count": 247
        }
      ]
    },
    {
      "cell_type": "code",
      "metadata": {
        "colab": {
          "base_uri": "https://localhost:8080/"
        },
        "id": "aodwsX6bG5Sk",
        "outputId": "f816384a-baa7-4343-87fe-d217d2496a9c"
      },
      "source": [
        "import numpy as np\n",
        "\n",
        "def softmax(arr):\n",
        "  m = np.max(arr)\n",
        "  arr = arr - m \n",
        "  arr = np.exp(arr)\n",
        "  return arr/ np.sum(arr)\n",
        "\n",
        "def sigmoid(x):\n",
        "  return 1/(1+np.exp(-x))\n",
        "\n",
        "def relu(x):\n",
        "    return np.maximum(0, x)\n",
        "\n",
        "np.set_printoptions(precision=3)\n",
        "print(f'sigmoid {sigmoid(x_train)}, softmax {softmax(x_train)}')\n",
        "print(f'sigmoid {sigmoid(x_test)}, softmax {softmax(x_test)}')\n",
        "\n",
        "np.set_printoptions(precision=3)\n",
        "print(f'relu {relu(x_train)}, softmax {softmax(x_train)}')\n",
        "print(f'relu {relu(x_test)}, softmax {softmax(x_test)}')"
      ],
      "execution_count": null,
      "outputs": [
        {
          "output_type": "stream",
          "text": [
            "/usr/local/lib/python3.7/dist-packages/ipykernel_launcher.py:10: RuntimeWarning: overflow encountered in exp\n",
            "  # Remove the CWD from sys.path while we load stuff.\n",
            "/usr/local/lib/python3.7/dist-packages/ipykernel_launcher.py:6: RuntimeWarning: overflow encountered in exp\n",
            "  \n",
            "/usr/local/lib/python3.7/dist-packages/ipykernel_launcher.py:7: RuntimeWarning: invalid value encountered in true_divide\n",
            "  import sys\n"
          ],
          "name": "stderr"
        },
        {
          "output_type": "stream",
          "text": [
            "sigmoid [[[0.5 0.5 0.5 ... 0.5 0.5 0.5]\n",
            "  [0.5 0.5 0.5 ... 0.5 0.5 0.5]\n",
            "  [0.5 0.5 0.5 ... 0.5 0.5 0.5]\n",
            "  ...\n",
            "  [0.5 0.5 0.5 ... 0.5 0.5 0.5]\n",
            "  [0.5 0.5 0.5 ... 0.5 0.5 0.5]\n",
            "  [0.5 0.5 0.5 ... 0.5 0.5 0.5]]\n",
            "\n",
            " [[0.5 0.5 0.5 ... 0.5 0.5 0.5]\n",
            "  [0.5 0.5 0.5 ... 0.5 0.5 0.5]\n",
            "  [0.5 0.5 0.5 ... 0.5 0.5 0.5]\n",
            "  ...\n",
            "  [0.5 0.5 0.5 ... 0.5 0.5 0.5]\n",
            "  [0.5 0.5 0.5 ... 0.5 0.5 0.5]\n",
            "  [0.5 0.5 0.5 ... 0.5 0.5 0.5]]\n",
            "\n",
            " [[0.5 0.5 0.5 ... 0.5 0.5 0.5]\n",
            "  [0.5 0.5 0.5 ... 0.5 0.5 0.5]\n",
            "  [0.5 0.5 0.5 ... 0.5 0.5 0.5]\n",
            "  ...\n",
            "  [0.5 0.5 0.5 ... 0.5 0.5 0.5]\n",
            "  [0.5 0.5 0.5 ... 0.5 0.5 0.5]\n",
            "  [0.5 0.5 0.5 ... 0.5 0.5 0.5]]\n",
            "\n",
            " ...\n",
            "\n",
            " [[0.5 0.5 0.5 ... 0.5 0.5 0.5]\n",
            "  [0.5 0.5 0.5 ... 0.5 0.5 0.5]\n",
            "  [0.5 0.5 0.5 ... 0.5 0.5 0.5]\n",
            "  ...\n",
            "  [0.5 0.5 0.5 ... 0.5 0.5 0.5]\n",
            "  [0.5 0.5 0.5 ... 0.5 0.5 0.5]\n",
            "  [0.5 0.5 0.5 ... 0.5 0.5 0.5]]\n",
            "\n",
            " [[0.5 0.5 0.5 ... 0.5 0.5 0.5]\n",
            "  [0.5 0.5 0.5 ... 0.5 0.5 0.5]\n",
            "  [0.5 0.5 0.5 ... 0.5 0.5 0.5]\n",
            "  ...\n",
            "  [0.5 0.5 0.5 ... 0.5 0.5 0.5]\n",
            "  [0.5 0.5 0.5 ... 0.5 0.5 0.5]\n",
            "  [0.5 0.5 0.5 ... 0.5 0.5 0.5]]\n",
            "\n",
            " [[0.5 0.5 0.5 ... 0.5 0.5 0.5]\n",
            "  [0.5 0.5 0.5 ... 0.5 0.5 0.5]\n",
            "  [0.5 0.5 0.5 ... 0.5 0.5 0.5]\n",
            "  ...\n",
            "  [0.5 0.5 0.5 ... 0.5 0.5 0.5]\n",
            "  [0.5 0.5 0.5 ... 0.5 0.5 0.5]\n",
            "  [0.5 0.5 0.5 ... 0.5 0.5 0.5]]], softmax [[[0. 0. 0. ... 0. 0. 0.]\n",
            "  [0. 0. 0. ... 0. 0. 0.]\n",
            "  [0. 0. 0. ... 0. 0. 0.]\n",
            "  ...\n",
            "  [0. 0. 0. ... 0. 0. 0.]\n",
            "  [0. 0. 0. ... 0. 0. 0.]\n",
            "  [0. 0. 0. ... 0. 0. 0.]]\n",
            "\n",
            " [[0. 0. 0. ... 0. 0. 0.]\n",
            "  [0. 0. 0. ... 0. 0. 0.]\n",
            "  [0. 0. 0. ... 0. 0. 0.]\n",
            "  ...\n",
            "  [0. 0. 0. ... 0. 0. 0.]\n",
            "  [0. 0. 0. ... 0. 0. 0.]\n",
            "  [0. 0. 0. ... 0. 0. 0.]]\n",
            "\n",
            " [[0. 0. 0. ... 0. 0. 0.]\n",
            "  [0. 0. 0. ... 0. 0. 0.]\n",
            "  [0. 0. 0. ... 0. 0. 0.]\n",
            "  ...\n",
            "  [0. 0. 0. ... 0. 0. 0.]\n",
            "  [0. 0. 0. ... 0. 0. 0.]\n",
            "  [0. 0. 0. ... 0. 0. 0.]]\n",
            "\n",
            " ...\n",
            "\n",
            " [[0. 0. 0. ... 0. 0. 0.]\n",
            "  [0. 0. 0. ... 0. 0. 0.]\n",
            "  [0. 0. 0. ... 0. 0. 0.]\n",
            "  ...\n",
            "  [0. 0. 0. ... 0. 0. 0.]\n",
            "  [0. 0. 0. ... 0. 0. 0.]\n",
            "  [0. 0. 0. ... 0. 0. 0.]]\n",
            "\n",
            " [[0. 0. 0. ... 0. 0. 0.]\n",
            "  [0. 0. 0. ... 0. 0. 0.]\n",
            "  [0. 0. 0. ... 0. 0. 0.]\n",
            "  ...\n",
            "  [0. 0. 0. ... 0. 0. 0.]\n",
            "  [0. 0. 0. ... 0. 0. 0.]\n",
            "  [0. 0. 0. ... 0. 0. 0.]]\n",
            "\n",
            " [[0. 0. 0. ... 0. 0. 0.]\n",
            "  [0. 0. 0. ... 0. 0. 0.]\n",
            "  [0. 0. 0. ... 0. 0. 0.]\n",
            "  ...\n",
            "  [0. 0. 0. ... 0. 0. 0.]\n",
            "  [0. 0. 0. ... 0. 0. 0.]\n",
            "  [0. 0. 0. ... 0. 0. 0.]]]\n",
            "sigmoid [[[0.5 0.5 0.5 ... 0.5 0.5 0.5]\n",
            "  [0.5 0.5 0.5 ... 0.5 0.5 0.5]\n",
            "  [0.5 0.5 0.5 ... 0.5 0.5 0.5]\n",
            "  ...\n",
            "  [0.5 0.5 0.5 ... 0.5 0.5 0.5]\n",
            "  [0.5 0.5 0.5 ... 0.5 0.5 0.5]\n",
            "  [0.5 0.5 0.5 ... 0.5 0.5 0.5]]\n",
            "\n",
            " [[0.5 0.5 0.5 ... 0.5 0.5 0.5]\n",
            "  [0.5 0.5 0.5 ... 0.5 0.5 0.5]\n",
            "  [0.5 0.5 0.5 ... 0.5 0.5 0.5]\n",
            "  ...\n",
            "  [0.5 0.5 0.5 ... 0.5 0.5 0.5]\n",
            "  [0.5 0.5 0.5 ... 0.5 0.5 0.5]\n",
            "  [0.5 0.5 0.5 ... 0.5 0.5 0.5]]\n",
            "\n",
            " [[0.5 0.5 0.5 ... 0.5 0.5 0.5]\n",
            "  [0.5 0.5 0.5 ... 0.5 0.5 0.5]\n",
            "  [0.5 0.5 0.5 ... 0.5 0.5 0.5]\n",
            "  ...\n",
            "  [0.5 0.5 0.5 ... 0.5 0.5 0.5]\n",
            "  [0.5 0.5 0.5 ... 0.5 0.5 0.5]\n",
            "  [0.5 0.5 0.5 ... 0.5 0.5 0.5]]\n",
            "\n",
            " ...\n",
            "\n",
            " [[0.5 0.5 0.5 ... 0.5 0.5 0.5]\n",
            "  [0.5 0.5 0.5 ... 0.5 0.5 0.5]\n",
            "  [0.5 0.5 0.5 ... 0.5 0.5 0.5]\n",
            "  ...\n",
            "  [0.5 0.5 0.5 ... 0.5 0.5 0.5]\n",
            "  [0.5 0.5 0.5 ... 0.5 0.5 0.5]\n",
            "  [0.5 0.5 0.5 ... 0.5 0.5 0.5]]\n",
            "\n",
            " [[0.5 0.5 0.5 ... 0.5 0.5 0.5]\n",
            "  [0.5 0.5 0.5 ... 0.5 0.5 0.5]\n",
            "  [0.5 0.5 0.5 ... 0.5 0.5 0.5]\n",
            "  ...\n",
            "  [0.5 0.5 0.5 ... 0.5 0.5 0.5]\n",
            "  [0.5 0.5 0.5 ... 0.5 0.5 0.5]\n",
            "  [0.5 0.5 0.5 ... 0.5 0.5 0.5]]\n",
            "\n",
            " [[0.5 0.5 0.5 ... 0.5 0.5 0.5]\n",
            "  [0.5 0.5 0.5 ... 0.5 0.5 0.5]\n",
            "  [0.5 0.5 0.5 ... 0.5 0.5 0.5]\n",
            "  ...\n",
            "  [0.5 0.5 0.5 ... 0.5 0.5 0.5]\n",
            "  [0.5 0.5 0.5 ... 0.5 0.5 0.5]\n",
            "  [0.5 0.5 0.5 ... 0.5 0.5 0.5]]], softmax [[[0. 0. 0. ... 0. 0. 0.]\n",
            "  [0. 0. 0. ... 0. 0. 0.]\n",
            "  [0. 0. 0. ... 0. 0. 0.]\n",
            "  ...\n",
            "  [0. 0. 0. ... 0. 0. 0.]\n",
            "  [0. 0. 0. ... 0. 0. 0.]\n",
            "  [0. 0. 0. ... 0. 0. 0.]]\n",
            "\n",
            " [[0. 0. 0. ... 0. 0. 0.]\n",
            "  [0. 0. 0. ... 0. 0. 0.]\n",
            "  [0. 0. 0. ... 0. 0. 0.]\n",
            "  ...\n",
            "  [0. 0. 0. ... 0. 0. 0.]\n",
            "  [0. 0. 0. ... 0. 0. 0.]\n",
            "  [0. 0. 0. ... 0. 0. 0.]]\n",
            "\n",
            " [[0. 0. 0. ... 0. 0. 0.]\n",
            "  [0. 0. 0. ... 0. 0. 0.]\n",
            "  [0. 0. 0. ... 0. 0. 0.]\n",
            "  ...\n",
            "  [0. 0. 0. ... 0. 0. 0.]\n",
            "  [0. 0. 0. ... 0. 0. 0.]\n",
            "  [0. 0. 0. ... 0. 0. 0.]]\n",
            "\n",
            " ...\n",
            "\n",
            " [[0. 0. 0. ... 0. 0. 0.]\n",
            "  [0. 0. 0. ... 0. 0. 0.]\n",
            "  [0. 0. 0. ... 0. 0. 0.]\n",
            "  ...\n",
            "  [0. 0. 0. ... 0. 0. 0.]\n",
            "  [0. 0. 0. ... 0. 0. 0.]\n",
            "  [0. 0. 0. ... 0. 0. 0.]]\n",
            "\n",
            " [[0. 0. 0. ... 0. 0. 0.]\n",
            "  [0. 0. 0. ... 0. 0. 0.]\n",
            "  [0. 0. 0. ... 0. 0. 0.]\n",
            "  ...\n",
            "  [0. 0. 0. ... 0. 0. 0.]\n",
            "  [0. 0. 0. ... 0. 0. 0.]\n",
            "  [0. 0. 0. ... 0. 0. 0.]]\n",
            "\n",
            " [[0. 0. 0. ... 0. 0. 0.]\n",
            "  [0. 0. 0. ... 0. 0. 0.]\n",
            "  [0. 0. 0. ... 0. 0. 0.]\n",
            "  ...\n",
            "  [0. 0. 0. ... 0. 0. 0.]\n",
            "  [0. 0. 0. ... 0. 0. 0.]\n",
            "  [0. 0. 0. ... 0. 0. 0.]]]\n",
            "relu [[[0 0 0 ... 0 0 0]\n",
            "  [0 0 0 ... 0 0 0]\n",
            "  [0 0 0 ... 0 0 0]\n",
            "  ...\n",
            "  [0 0 0 ... 0 0 0]\n",
            "  [0 0 0 ... 0 0 0]\n",
            "  [0 0 0 ... 0 0 0]]\n",
            "\n",
            " [[0 0 0 ... 0 0 0]\n",
            "  [0 0 0 ... 0 0 0]\n",
            "  [0 0 0 ... 0 0 0]\n",
            "  ...\n",
            "  [0 0 0 ... 0 0 0]\n",
            "  [0 0 0 ... 0 0 0]\n",
            "  [0 0 0 ... 0 0 0]]\n",
            "\n",
            " [[0 0 0 ... 0 0 0]\n",
            "  [0 0 0 ... 0 0 0]\n",
            "  [0 0 0 ... 0 0 0]\n",
            "  ...\n",
            "  [0 0 0 ... 0 0 0]\n",
            "  [0 0 0 ... 0 0 0]\n",
            "  [0 0 0 ... 0 0 0]]\n",
            "\n",
            " ...\n",
            "\n",
            " [[0 0 0 ... 0 0 0]\n",
            "  [0 0 0 ... 0 0 0]\n",
            "  [0 0 0 ... 0 0 0]\n",
            "  ...\n",
            "  [0 0 0 ... 0 0 0]\n",
            "  [0 0 0 ... 0 0 0]\n",
            "  [0 0 0 ... 0 0 0]]\n",
            "\n",
            " [[0 0 0 ... 0 0 0]\n",
            "  [0 0 0 ... 0 0 0]\n",
            "  [0 0 0 ... 0 0 0]\n",
            "  ...\n",
            "  [0 0 0 ... 0 0 0]\n",
            "  [0 0 0 ... 0 0 0]\n",
            "  [0 0 0 ... 0 0 0]]\n",
            "\n",
            " [[0 0 0 ... 0 0 0]\n",
            "  [0 0 0 ... 0 0 0]\n",
            "  [0 0 0 ... 0 0 0]\n",
            "  ...\n",
            "  [0 0 0 ... 0 0 0]\n",
            "  [0 0 0 ... 0 0 0]\n",
            "  [0 0 0 ... 0 0 0]]], softmax [[[0. 0. 0. ... 0. 0. 0.]\n",
            "  [0. 0. 0. ... 0. 0. 0.]\n",
            "  [0. 0. 0. ... 0. 0. 0.]\n",
            "  ...\n",
            "  [0. 0. 0. ... 0. 0. 0.]\n",
            "  [0. 0. 0. ... 0. 0. 0.]\n",
            "  [0. 0. 0. ... 0. 0. 0.]]\n",
            "\n",
            " [[0. 0. 0. ... 0. 0. 0.]\n",
            "  [0. 0. 0. ... 0. 0. 0.]\n",
            "  [0. 0. 0. ... 0. 0. 0.]\n",
            "  ...\n",
            "  [0. 0. 0. ... 0. 0. 0.]\n",
            "  [0. 0. 0. ... 0. 0. 0.]\n",
            "  [0. 0. 0. ... 0. 0. 0.]]\n",
            "\n",
            " [[0. 0. 0. ... 0. 0. 0.]\n",
            "  [0. 0. 0. ... 0. 0. 0.]\n",
            "  [0. 0. 0. ... 0. 0. 0.]\n",
            "  ...\n",
            "  [0. 0. 0. ... 0. 0. 0.]\n",
            "  [0. 0. 0. ... 0. 0. 0.]\n",
            "  [0. 0. 0. ... 0. 0. 0.]]\n",
            "\n",
            " ...\n",
            "\n",
            " [[0. 0. 0. ... 0. 0. 0.]\n",
            "  [0. 0. 0. ... 0. 0. 0.]\n",
            "  [0. 0. 0. ... 0. 0. 0.]\n",
            "  ...\n",
            "  [0. 0. 0. ... 0. 0. 0.]\n",
            "  [0. 0. 0. ... 0. 0. 0.]\n",
            "  [0. 0. 0. ... 0. 0. 0.]]\n",
            "\n",
            " [[0. 0. 0. ... 0. 0. 0.]\n",
            "  [0. 0. 0. ... 0. 0. 0.]\n",
            "  [0. 0. 0. ... 0. 0. 0.]\n",
            "  ...\n",
            "  [0. 0. 0. ... 0. 0. 0.]\n",
            "  [0. 0. 0. ... 0. 0. 0.]\n",
            "  [0. 0. 0. ... 0. 0. 0.]]\n",
            "\n",
            " [[0. 0. 0. ... 0. 0. 0.]\n",
            "  [0. 0. 0. ... 0. 0. 0.]\n",
            "  [0. 0. 0. ... 0. 0. 0.]\n",
            "  ...\n",
            "  [0. 0. 0. ... 0. 0. 0.]\n",
            "  [0. 0. 0. ... 0. 0. 0.]\n",
            "  [0. 0. 0. ... 0. 0. 0.]]]\n",
            "relu [[[0 0 0 ... 0 0 0]\n",
            "  [0 0 0 ... 0 0 0]\n",
            "  [0 0 0 ... 0 0 0]\n",
            "  ...\n",
            "  [0 0 0 ... 0 0 0]\n",
            "  [0 0 0 ... 0 0 0]\n",
            "  [0 0 0 ... 0 0 0]]\n",
            "\n",
            " [[0 0 0 ... 0 0 0]\n",
            "  [0 0 0 ... 0 0 0]\n",
            "  [0 0 0 ... 0 0 0]\n",
            "  ...\n",
            "  [0 0 0 ... 0 0 0]\n",
            "  [0 0 0 ... 0 0 0]\n",
            "  [0 0 0 ... 0 0 0]]\n",
            "\n",
            " [[0 0 0 ... 0 0 0]\n",
            "  [0 0 0 ... 0 0 0]\n",
            "  [0 0 0 ... 0 0 0]\n",
            "  ...\n",
            "  [0 0 0 ... 0 0 0]\n",
            "  [0 0 0 ... 0 0 0]\n",
            "  [0 0 0 ... 0 0 0]]\n",
            "\n",
            " ...\n",
            "\n",
            " [[0 0 0 ... 0 0 0]\n",
            "  [0 0 0 ... 0 0 0]\n",
            "  [0 0 0 ... 0 0 0]\n",
            "  ...\n",
            "  [0 0 0 ... 0 0 0]\n",
            "  [0 0 0 ... 0 0 0]\n",
            "  [0 0 0 ... 0 0 0]]\n",
            "\n",
            " [[0 0 0 ... 0 0 0]\n",
            "  [0 0 0 ... 0 0 0]\n",
            "  [0 0 0 ... 0 0 0]\n",
            "  ...\n",
            "  [0 0 0 ... 0 0 0]\n",
            "  [0 0 0 ... 0 0 0]\n",
            "  [0 0 0 ... 0 0 0]]\n",
            "\n",
            " [[0 0 0 ... 0 0 0]\n",
            "  [0 0 0 ... 0 0 0]\n",
            "  [0 0 0 ... 0 0 0]\n",
            "  ...\n",
            "  [0 0 0 ... 0 0 0]\n",
            "  [0 0 0 ... 0 0 0]\n",
            "  [0 0 0 ... 0 0 0]]], softmax [[[0. 0. 0. ... 0. 0. 0.]\n",
            "  [0. 0. 0. ... 0. 0. 0.]\n",
            "  [0. 0. 0. ... 0. 0. 0.]\n",
            "  ...\n",
            "  [0. 0. 0. ... 0. 0. 0.]\n",
            "  [0. 0. 0. ... 0. 0. 0.]\n",
            "  [0. 0. 0. ... 0. 0. 0.]]\n",
            "\n",
            " [[0. 0. 0. ... 0. 0. 0.]\n",
            "  [0. 0. 0. ... 0. 0. 0.]\n",
            "  [0. 0. 0. ... 0. 0. 0.]\n",
            "  ...\n",
            "  [0. 0. 0. ... 0. 0. 0.]\n",
            "  [0. 0. 0. ... 0. 0. 0.]\n",
            "  [0. 0. 0. ... 0. 0. 0.]]\n",
            "\n",
            " [[0. 0. 0. ... 0. 0. 0.]\n",
            "  [0. 0. 0. ... 0. 0. 0.]\n",
            "  [0. 0. 0. ... 0. 0. 0.]\n",
            "  ...\n",
            "  [0. 0. 0. ... 0. 0. 0.]\n",
            "  [0. 0. 0. ... 0. 0. 0.]\n",
            "  [0. 0. 0. ... 0. 0. 0.]]\n",
            "\n",
            " ...\n",
            "\n",
            " [[0. 0. 0. ... 0. 0. 0.]\n",
            "  [0. 0. 0. ... 0. 0. 0.]\n",
            "  [0. 0. 0. ... 0. 0. 0.]\n",
            "  ...\n",
            "  [0. 0. 0. ... 0. 0. 0.]\n",
            "  [0. 0. 0. ... 0. 0. 0.]\n",
            "  [0. 0. 0. ... 0. 0. 0.]]\n",
            "\n",
            " [[0. 0. 0. ... 0. 0. 0.]\n",
            "  [0. 0. 0. ... 0. 0. 0.]\n",
            "  [0. 0. 0. ... 0. 0. 0.]\n",
            "  ...\n",
            "  [0. 0. 0. ... 0. 0. 0.]\n",
            "  [0. 0. 0. ... 0. 0. 0.]\n",
            "  [0. 0. 0. ... 0. 0. 0.]]\n",
            "\n",
            " [[0. 0. 0. ... 0. 0. 0.]\n",
            "  [0. 0. 0. ... 0. 0. 0.]\n",
            "  [0. 0. 0. ... 0. 0. 0.]\n",
            "  ...\n",
            "  [0. 0. 0. ... 0. 0. 0.]\n",
            "  [0. 0. 0. ... 0. 0. 0.]\n",
            "  [0. 0. 0. ... 0. 0. 0.]]]\n"
          ],
          "name": "stdout"
        }
      ]
    },
    {
      "cell_type": "code",
      "metadata": {
        "id": "EopuEyDhG5VU"
      },
      "source": [
        "# 0과 1의 범위로 만들기\n",
        "x_train = np.reshape(x_train / 255, (-1, 28, 28, 1))\n",
        "x_test = np.reshape(x_test / 255, (-1, 28, 28, 1))\n",
        "\n",
        "# (-1.28,28,1) 입력 이미지 크기 배열 차원"
      ],
      "execution_count": null,
      "outputs": []
    },
    {
      "cell_type": "code",
      "metadata": {
        "id": "2DkMY2h7G5YK"
      },
      "source": [
        "from tensorflow.keras.utils import to_categorical\n",
        "# 각 데이터의 레이블을 범주형 형태로 변경합니다.\n",
        "# one-hot encoding\n",
        "y_train = to_categorical(y_train)\n",
        "y_test = to_categorical(y_test)"
      ],
      "execution_count": null,
      "outputs": []
    },
    {
      "cell_type": "code",
      "metadata": {
        "colab": {
          "base_uri": "https://localhost:8080/"
        },
        "id": "Y_Y1aSl9J6c3",
        "outputId": "033ade52-111f-4934-abb1-5ec14519cfb6"
      },
      "source": [
        "print(x_train.shape)\n",
        "print(x_test.shape)"
      ],
      "execution_count": null,
      "outputs": [
        {
          "output_type": "stream",
          "text": [
            "(60000, 28, 28, 1)\n",
            "(10000, 28, 28, 1)\n"
          ],
          "name": "stdout"
        }
      ]
    },
    {
      "cell_type": "code",
      "metadata": {
        "id": "XRTXnnyVIWXU"
      },
      "source": [
        "# 훈련/테스트 데이터를 0.7/0.3의 비율로 분리합니다.\n",
        "# val도 추가요\n",
        "\n",
        "x_train, x_val, y_train, y_val = train_test_split(x_train, y_train, \n",
        "                                                  test_size = 0.3, random_state = 777)"
      ],
      "execution_count": null,
      "outputs": []
    },
    {
      "cell_type": "code",
      "metadata": {
        "id": "xtHzBzNZcxcx"
      },
      "source": [
        "from tensorflow.keras.models import Sequential\n",
        "from tensorflow.keras.layers import Conv2D, MaxPool2D, Dense, Flatten\n",
        "# 신경망의 레이어에서 입력 데이터 크기 정의\n",
        "\n",
        "#  리스트 형태의 층 구성\n",
        "model = Sequential([\n",
        "    # 항상 모델의 첫 번째 층은 입력의 형태를 명시해주어야 합니다.\n",
        "    Conv2D(filters = 16, kernel_size = 3, strides = (1, 1), padding = 'same', activation = 'relu', input_shape = (28, 28, 1)),\n",
        "    MaxPool2D(pool_size = (2, 2), strides = 2, padding = 'same'), #maxpooing에서 반절이 줄어듬  \n",
        "    Conv2D(filters = 32, kernel_size = 3, strides = (1, 1), padding = 'same', activation = 'relu'), #Depth를 늘림.\n",
        "    MaxPool2D(pool_size = (2, 2), strides = 2, padding = 'same'), \n",
        "    Conv2D(filters = 64, kernel_size = 3, strides = (1, 1), padding = 'same', activation = 'relu'),\n",
        "    MaxPool2D(pool_size = (2, 2), strides = 2, padding = 'same'), \n",
        "    Flatten(), # Dense 층에 입력하기 위해 데이터를 펼쳐줍니다.\n",
        "    Dense(64, activation = 'relu'),\n",
        "    Dense(10, activation = 'softmax') # 10개의 출력을 가지는 신경망\n",
        "])\n"
      ],
      "execution_count": null,
      "outputs": []
    },
    {
      "cell_type": "code",
      "metadata": {
        "id": "rGsgmtSKgBxy",
        "colab": {
          "base_uri": "https://localhost:8080/"
        },
        "outputId": "b48984c1-a34a-4a23-871a-fdb50a635734"
      },
      "source": [
        "model.summary()"
      ],
      "execution_count": null,
      "outputs": [
        {
          "output_type": "stream",
          "text": [
            "Model: \"sequential_13\"\n",
            "_________________________________________________________________\n",
            "Layer (type)                 Output Shape              Param #   \n",
            "=================================================================\n",
            "conv2d_24 (Conv2D)           (None, 28, 28, 16)        160       \n",
            "_________________________________________________________________\n",
            "max_pooling2d_24 (MaxPooling (None, 14, 14, 16)        0         \n",
            "_________________________________________________________________\n",
            "conv2d_25 (Conv2D)           (None, 14, 14, 32)        4640      \n",
            "_________________________________________________________________\n",
            "max_pooling2d_25 (MaxPooling (None, 7, 7, 32)          0         \n",
            "_________________________________________________________________\n",
            "conv2d_26 (Conv2D)           (None, 7, 7, 64)          18496     \n",
            "_________________________________________________________________\n",
            "max_pooling2d_26 (MaxPooling (None, 4, 4, 64)          0         \n",
            "_________________________________________________________________\n",
            "flatten_25 (Flatten)         (None, 1024)              0         \n",
            "_________________________________________________________________\n",
            "dense_53 (Dense)             (None, 64)                65600     \n",
            "_________________________________________________________________\n",
            "dense_54 (Dense)             (None, 10)                650       \n",
            "=================================================================\n",
            "Total params: 89,546\n",
            "Trainable params: 89,546\n",
            "Non-trainable params: 0\n",
            "_________________________________________________________________\n"
          ],
          "name": "stdout"
        }
      ]
    },
    {
      "cell_type": "markdown",
      "metadata": {
        "id": "_0p0amhLOo6-"
      },
      "source": [
        "콜백(Callback) 사용하기\n",
        "\n",
        "tf.keras.callbacks 모듈의 Callback 클래스를 사용하면,\n",
        "\n",
        "훈련 중에 손실 값이 특정 기준 미만이 되었을 때 훈련을 중단할 수 있습니다.\n",
        "\n",
        "출처1: https://github.com/KerasKorea/KEKOxTutorial/blob/master/10_Fashion-MNIST%20with%20tf.Keras/10_%EB%94%A5%EB%9F%AC%EB%8B%9D%EC%9D%98%20Hello%20World%2C%20Fashion-MNIST.md\n"
      ]
    },
    {
      "cell_type": "code",
      "metadata": {
        "id": "ppLOExL-ONPJ"
      },
      "source": [
        "class myCallback(tf.keras.callbacks.Callback):\n",
        "    def on_epoch_end(self, epoch, logs={}):\n",
        "            if logs.get('loss')<0.01:\n",
        "                print('\\n훈련을 중지합니다.')\n",
        "                self.model.stop_training=True"
      ],
      "execution_count": null,
      "outputs": []
    },
    {
      "cell_type": "code",
      "metadata": {
        "id": "vzDY5oTAONTD"
      },
      "source": [
        "callbacks=myCallback()"
      ],
      "execution_count": null,
      "outputs": []
    },
    {
      "cell_type": "code",
      "metadata": {
        "id": "2ThGixnLm5O0"
      },
      "source": [
        "model.compile(optimizer = 'adam', \n",
        "              loss = 'categorical_crossentropy', \n",
        "              metrics = ['acc'])\n",
        "\n",
        "history=model.fit(x_train, y_train, \n",
        "          epochs = 100, \n",
        "          batch_size = 10, \n",
        "          validation_data = (x_val, y_val), callbacks=[callbacks])"
      ],
      "execution_count": null,
      "outputs": []
    },
    {
      "cell_type": "code",
      "metadata": {
        "colab": {
          "base_uri": "https://localhost:8080/"
        },
        "id": "v32pBo5pMPDN",
        "outputId": "70bf8b77-13d9-4d7c-9f75-152e2fc2b510"
      },
      "source": [
        "history.history.keys()"
      ],
      "execution_count": null,
      "outputs": [
        {
          "output_type": "execute_result",
          "data": {
            "text/plain": [
              "dict_keys(['loss', 'acc', 'val_loss', 'val_acc'])"
            ]
          },
          "metadata": {
            "tags": []
          },
          "execution_count": 272
        }
      ]
    },
    {
      "cell_type": "code",
      "metadata": {
        "colab": {
          "base_uri": "https://localhost:8080/",
          "height": 350
        },
        "id": "W-M8YXa_Mg-U",
        "outputId": "0825965e-2661-4b1f-86a0-258e75c6f02b"
      },
      "source": [
        "#학습결과 그려보기\n",
        "import matplotlib.pyplot as plt\n",
        "\n",
        "his_dict = history.history\n",
        "loss = his_dict['loss']\n",
        "val_loss = his_dict['val_loss'] # 검증 데이터가 있는 경우 val_ 수식어가 붙는다.\n",
        "\n",
        "epochs = range(1,len(loss)+1 )\n",
        "fig = plt.figure(figsize= (10,5) )\n",
        "\n",
        "# 학습 및 검증 손실 그리기\n",
        "\n",
        "ax1 = fig.add_subplot(1,2,1)\n",
        "ax1.plot(epochs, loss, color = 'blue', label = 'train_loss')\n",
        "ax1.plot(epochs, val_loss, color = 'orange', label = 'val_loss')\n",
        "ax1.set_title('train and val loss')\n",
        "ax1.set_xlabel('epochs')\n",
        "ax1.set_ylabel('loss')\n",
        "ax1.legend()\n",
        "\n",
        "acc = his_dict['acc']\n",
        "val_acc = his_dict['val_acc']\n",
        "\n",
        "# 학습 및 검증 정확도 그리기\n",
        "ax2 = fig.add_subplot(1,2,2)\n",
        "ax2.plot(epochs, acc, color = 'blue', label = 'train_loss')\n",
        "ax2.plot(epochs, val_acc, color = 'orange', label = 'val_loss')\n",
        "ax2.set_title('train and val loss')\n",
        "ax2.set_xlabel('epochs')\n",
        "ax2.set_ylabel('loss')\n",
        "ax2.legend()\n",
        "\n",
        "\n",
        "plt.show()"
      ],
      "execution_count": null,
      "outputs": [
        {
          "output_type": "display_data",
          "data": {
            "image/png": "[encoded data removed]",
            "text/plain": [
              "<Figure size 720x360 with 2 Axes>"
            ]
          },
          "metadata": {
            "tags": [],
            "needs_background": "light"
          }
        }
      ]
    },
    {
      "cell_type": "code",
      "metadata": {
        "colab": {
          "base_uri": "https://localhost:8080/"
        },
        "id": "-HUQd8xIMhBE",
        "outputId": "06ce3f8d-2b0c-4c05-8799-594616a3f5b8"
      },
      "source": [
        "# 모델 평가하기\n",
        "\n",
        "# 테스트 셋으로 모델 평가\n",
        "score = model.evaluate(x_test, y_test)\n",
        "\n",
        "# 테스트 정확도\n",
        "print('\\n', 'Test accuracy:', score[1])"
      ],
      "execution_count": null,
      "outputs": [
        {
          "output_type": "stream",
          "text": [
            "313/313 [==============================] - 1s 3ms/step - loss: 1.9483 - acc: 0.9026\n",
            "\n",
            " Test accuracy: 0.9025999903678894\n"
          ],
          "name": "stdout"
        }
      ]
    },
    {
      "cell_type": "code",
      "metadata": {
        "colab": {
          "base_uri": "https://localhost:8080/"
        },
        "id": "j-l6p7MRMhD5",
        "outputId": "813b95a4-3a24-45a6-b3c7-ca34c4659862"
      },
      "source": [
        "predictions = model.predict(x_test)\n",
        "print(predictions[0])\n",
        "print(np.argmax(predictions[0]))"
      ],
      "execution_count": null,
      "outputs": [
        {
          "output_type": "stream",
          "text": [
            "[0. 0. 0. 0. 0. 0. 0. 0. 0. 1.]\n",
            "9\n"
          ],
          "name": "stdout"
        }
      ]
    },
    {
      "cell_type": "markdown",
      "metadata": {
        "id": "BNlkyMP2O5yd"
      },
      "source": [
        "용어 정리\n",
        "--\n",
        "\n",
        "Batch Normalization\n",
        "\n",
        "미니배치의 Statistics를 이용\n",
        "각각의 스칼라 Feature들을 독립적으로 정규화하는 방식으로 진행된다. 각각의 Feature들의 Mean 및 Variance를 0과 1로 정규화를 하는 것이다. \n",
        "\n",
        "이를 사용하면 높은 Learning Rate를 설정가능하여\n",
        "결과적으로 더 빠른 트레이닝이 된다.\n",
        "\n",
        "Loss function\n",
        "\n",
        "Multi-class classification에서 많이 사용되는 softmax -> cross entropy loss\n",
        "\n",
        "레이어 관련 설명\n",
        "--\n",
        "\n",
        "https://tykimos.github.io/2017/01/27/CNN_Layer_Talk/\n",
        "\n"
      ]
    },
    {
      "cell_type": "markdown",
      "metadata": {
        "id": "_S_ktb50OsKZ"
      },
      "source": [
        "sparse_categorical_crossentropy를 쓰려면 원핫 인코딩으로 바꾸면 안 된다. 라벨 인코딩을 바로 받아들여 sparse하게 받아들여 sparse하게 받아들이기 때문에, 에러가 남."
      ]
    },
    {
      "cell_type": "markdown",
      "metadata": {
        "id": "ADzeMuZpThng"
      },
      "source": [
        "class 구현\n",
        "--"
      ]
    },
    {
      "cell_type": "code",
      "metadata": {
        "id": "wai8JX5yUE-r"
      },
      "source": [
        "from tensorflow.keras.datasets import fashion_mnist\n",
        "\n",
        "# 데이터를 다운받습니다.\n",
        "(train_images, train_labels), (test_images, test_labels) = fashion_mnist.load_data()"
      ],
      "execution_count": 216,
      "outputs": []
    },
    {
      "cell_type": "markdown",
      "metadata": {
        "id": "5C4QbS2Tr5l6"
      },
      "source": [
        "첫 번째 모델 전처리"
      ]
    },
    {
      "cell_type": "code",
      "metadata": {
        "id": "_XOctKVumIuK"
      },
      "source": [
        "x_train=train_images\n",
        "y_train=train_labels\n",
        "x_test=test_images\n",
        "y_test=test_labels"
      ],
      "execution_count": 217,
      "outputs": []
    },
    {
      "cell_type": "code",
      "metadata": {
        "id": "qsULMbddnCJ2"
      },
      "source": [
        "x_train,x_val,y_train,y_val = train_test_split(x_train,y_train, test_size = 0.3, random_state =777) # t"
      ],
      "execution_count": 218,
      "outputs": []
    },
    {
      "cell_type": "code",
      "metadata": {
        "id": "XGz6ZaEuU3X6"
      },
      "source": [
        "# 훈련/테스트 데이터를 0.7/0.3의 비율로 분리합니다.\n",
        "# val도 추가요\n",
        "from sklearn.model_selection import train_test_split\n",
        "\n",
        "x_train, x_val, y_train, y_val = train_test_split(x_train, y_train, \n",
        "                                                  test_size = 0.3, random_state = 777)"
      ],
      "execution_count": 219,
      "outputs": []
    },
    {
      "cell_type": "code",
      "metadata": {
        "colab": {
          "base_uri": "https://localhost:8080/"
        },
        "id": "mmC5juVikQ3Z",
        "outputId": "91e90fdd-0149-4783-f294-2343e5066cf1"
      },
      "source": [
        "print(x_train.shape)\n",
        "print(y_train.shape)\n",
        "print(x_test.shape)\n",
        "print(y_test.shape)\n",
        "print(x_val.shape)\n",
        "print(y_val.shape)"
      ],
      "execution_count": 220,
      "outputs": [
        {
          "output_type": "stream",
          "text": [
            "(29400, 28, 28)\n",
            "(29400,)\n",
            "(10000, 28, 28)\n",
            "(10000,)\n",
            "(12600, 28, 28)\n",
            "(12600,)\n"
          ],
          "name": "stdout"
        }
      ]
    },
    {
      "cell_type": "code",
      "metadata": {
        "id": "gnjobmRmohz3"
      },
      "source": [
        "num_x_train = x_train.shape[0]\n",
        "num_x_val = x_val.shape[0]\n",
        "num_x_test = x_test.shape[0]\n",
        "            \n",
        "x_train = (x_train.reshape((num_x_train, 28*28))) / 255\n",
        "x_val = (x_val.reshape((num_x_val, 28*28))) / 255\n",
        "x_test = (x_test.reshape((num_x_test, 28*28)))/ 255\n",
        "            \n",
        "y_train = to_categorical(y_train)\n",
        "y_val = to_categorical(y_val)\n",
        "y_test = to_categorical(y_test)"
      ],
      "execution_count": 231,
      "outputs": []
    },
    {
      "cell_type": "markdown",
      "metadata": {
        "id": "U02cQckqr8b3"
      },
      "source": [
        "두 번째 모델 전처리"
      ]
    },
    {
      "cell_type": "code",
      "metadata": {
        "id": "AtnIlIfIpAH2"
      },
      "source": [
        "a_train=train_images\n",
        "b_train=train_labels\n",
        "a_test=test_images\n",
        "b_test=test_labels"
      ],
      "execution_count": 261,
      "outputs": []
    },
    {
      "cell_type": "code",
      "metadata": {
        "id": "KYBOdV8kpAKQ"
      },
      "source": [
        "a_train = np.reshape(a_train / 255, (-1, 28, 28, 1))\n",
        "a_test = np.reshape(a_test / 255, (-1, 28, 28, 1))"
      ],
      "execution_count": 262,
      "outputs": []
    },
    {
      "cell_type": "code",
      "metadata": {
        "id": "FqAoqxwvpAPm"
      },
      "source": [
        "b_train = to_categorical(b_train)\n",
        "b_test = to_categorical(b_test)"
      ],
      "execution_count": 263,
      "outputs": []
    },
    {
      "cell_type": "code",
      "metadata": {
        "id": "p20FqDXeqxM4"
      },
      "source": [
        "from sklearn.model_selection import train_test_split\n",
        "\n",
        "a_train, a_val, b_train, b_val = train_test_split(a_train, b_train, \n",
        "                                                  test_size = 0.3, random_state = 777)"
      ],
      "execution_count": 265,
      "outputs": []
    },
    {
      "cell_type": "markdown",
      "metadata": {
        "id": "B6-vRO9ir-lg"
      },
      "source": [
        "클래스 할당"
      ]
    },
    {
      "cell_type": "code",
      "metadata": {
        "id": "kTF2oYJvTjlr"
      },
      "source": [
        "from tensorflow.keras.models import Sequential\n",
        "from tensorflow.keras.layers import Conv2D, MaxPool2D, Dense, Flatten\n",
        "from tensorflow.keras.utils import to_categorical\n",
        "import tensorflow as tf\n",
        "import numpy as np\n",
        "\n",
        "class myCallback(tf.keras.callbacks.Callback):\n",
        "    def on_epoch_end(self, epoch, logs={}):\n",
        "            if logs.get('loss')<0.01:\n",
        "                print('\\n훈련을 중지합니다.')\n",
        "                self.model.stop_training=True\n",
        "\n",
        "callbacks=myCallback()\n",
        "\n",
        "class Model1:\n",
        "    def __init__(self, x_train, y_train, x_val, y_val):\n",
        "        self.x_train=x_train\n",
        "        self.y_train=y_train\n",
        "        self.x_val=x_val\n",
        "        self.y_val=y_val\n",
        "       \n",
        "    def prev_model(x_train,y_train,x_val,y_val):\n",
        "        model = Sequential([])\n",
        "        \n",
        "        model.add(Dense(64, activation = 'relu', input_shape = (784,) ) )\n",
        "        model.add(Dense(32, activation = 'relu')) #32개의 출력을 가지는 Dense층\n",
        "        model.add(Dense(10, activation = 'softmax')) # 10개의 출력을 가지는 신경망\n",
        "\n",
        "        return model\n",
        "\n",
        "    def prev_summary(self):\n",
        "        a=Model1.prev_model(x_train,y_train,x_val,y_val)\n",
        "        b=a.summary()\n",
        "\n",
        "        return b\n",
        "    \n",
        "    def prev_fit(self,x_train,y_train,x_val,y_val):           \n",
        "        c=Model1.prev_model(x_train,y_train,x_val,y_val)\n",
        "            \n",
        "        c.compile(optimizer = 'adam', \n",
        "              loss = 'categorical_crossentropy', \n",
        "              metrics = ['acc'])\n",
        "            \n",
        "        history=c.fit(x_train, y_train, \n",
        "                      epochs = 30, \n",
        "                      batch_size = 32, \n",
        "                      validation_data = (x_val, y_val), callbacks=[callbacks])\n",
        "            \n",
        "        return history\n",
        "        \n",
        "        \n",
        "class Model2:\n",
        "    def __init__(self, a_train, b_train, a_val, b_val):\n",
        "        self.a_train=b_train\n",
        "        self.a_train=b_train\n",
        "        self.a_val=b_val\n",
        "        self.a_val=b_val\n",
        "\n",
        "    def pres_model(a_train,b_train,a_val,b_val):\n",
        "        model = Sequential([\n",
        "    # 항상 모델의 첫 번째 층은 입력의 형태를 명시해주어야 합니다.\n",
        "        Conv2D(filters = 16, kernel_size = 3, strides = (1, 1), padding = 'same', activation = 'relu', input_shape = (28, 28, 1)),\n",
        "        MaxPool2D(pool_size = (2, 2), strides = 2, padding = 'same'), #maxpooing에서 반절이 줄어듬  \n",
        "        Conv2D(filters = 32, kernel_size = 3, strides = (1, 1), padding = 'same', activation = 'relu'), #Depth를 늘림.\n",
        "        MaxPool2D(pool_size = (2, 2), strides = 2, padding = 'same'), \n",
        "        Conv2D(filters = 64, kernel_size = 3, strides = (1, 1), padding = 'same', activation = 'relu'),\n",
        "        MaxPool2D(pool_size = (2, 2), strides = 2, padding = 'same'), \n",
        "        Flatten(), # Dense 층에 입력하기 위해 데이터를 펼쳐줍니다.\n",
        "        Dense(64, activation = 'relu'),\n",
        "        Dense(10, activation = 'softmax') # 10개의 출력을 가지는 신경망\n",
        "        ])\n",
        "\n",
        "        return model\n",
        "\n",
        "    def pres_summary(self):\n",
        "        a=Model2.pres_model(a_train,b_train,a_val,b_val)\n",
        "        b=a.summary()\n",
        "\n",
        "        return b\n",
        "    \n",
        "    def pres_fit(self,a_train,b_train,a_val,b_val):\n",
        "        c=Model2.pres_model(a_train,b_train,a_val,b_val)\n",
        "\n",
        "        c.compile(optimizer = 'adam', \n",
        "              loss = 'categorical_crossentropy', \n",
        "              metrics = ['acc'])\n",
        "        \n",
        "        history2=c.fit(a_train, b_train, \n",
        "                      epochs = 30, \n",
        "                      batch_size = 32, \n",
        "                      validation_data = (a_val, b_val), callbacks=[callbacks])\n",
        "        return history2"
      ],
      "execution_count": 290,
      "outputs": []
    },
    {
      "cell_type": "code",
      "metadata": {
        "id": "GqvtzKIXfClt"
      },
      "source": [
        "pey=Model1(x_train,y_train,x_test,y_test)"
      ],
      "execution_count": 291,
      "outputs": []
    },
    {
      "cell_type": "code",
      "metadata": {
        "colab": {
          "base_uri": "https://localhost:8080/"
        },
        "id": "B062PN2DTjoI",
        "outputId": "a8714ffc-3036-4e0b-aebb-b083e043a320"
      },
      "source": [
        "pey.prev_summary()"
      ],
      "execution_count": 292,
      "outputs": [
        {
          "output_type": "stream",
          "text": [
            "Model: \"sequential_72\"\n",
            "_________________________________________________________________\n",
            "Layer (type)                 Output Shape              Param #   \n",
            "=================================================================\n",
            "dense_207 (Dense)            (None, 64)                50240     \n",
            "_________________________________________________________________\n",
            "dense_208 (Dense)            (None, 32)                2080      \n",
            "_________________________________________________________________\n",
            "dense_209 (Dense)            (None, 10)                330       \n",
            "=================================================================\n",
            "Total params: 52,650\n",
            "Trainable params: 52,650\n",
            "Non-trainable params: 0\n",
            "_________________________________________________________________\n"
          ],
          "name": "stdout"
        }
      ]
    },
    {
      "cell_type": "code",
      "metadata": {
        "id": "qRfSvFLWTjr0"
      },
      "source": [
        "pey.prev_fit(x_train,y_train,x_val,y_val)"
      ],
      "execution_count": null,
      "outputs": []
    },
    {
      "cell_type": "code",
      "metadata": {
        "id": "g2fne0HcTjt1"
      },
      "source": [
        "pey2=Model2(a_train,b_train,a_test,b_test)"
      ],
      "execution_count": 293,
      "outputs": []
    },
    {
      "cell_type": "code",
      "metadata": {
        "colab": {
          "base_uri": "https://localhost:8080/"
        },
        "id": "vN8m3-3MqQzW",
        "outputId": "e7a425d2-8893-4161-d816-87b06598d143"
      },
      "source": [
        "pey2.pres_summary()"
      ],
      "execution_count": 294,
      "outputs": [
        {
          "output_type": "stream",
          "text": [
            "Model: \"sequential_73\"\n",
            "_________________________________________________________________\n",
            "Layer (type)                 Output Shape              Param #   \n",
            "=================================================================\n",
            "conv2d_10 (Conv2D)           (None, 28, 28, 16)        160       \n",
            "_________________________________________________________________\n",
            "max_pooling2d_10 (MaxPooling (None, 14, 14, 16)        0         \n",
            "_________________________________________________________________\n",
            "conv2d_11 (Conv2D)           (None, 14, 14, 32)        4640      \n",
            "_________________________________________________________________\n",
            "max_pooling2d_11 (MaxPooling (None, 7, 7, 32)          0         \n",
            "_________________________________________________________________\n",
            "conv2d_12 (Conv2D)           (None, 7, 7, 64)          18496     \n",
            "_________________________________________________________________\n",
            "max_pooling2d_12 (MaxPooling (None, 4, 4, 64)          0         \n",
            "_________________________________________________________________\n",
            "flatten_3 (Flatten)          (None, 1024)              0         \n",
            "_________________________________________________________________\n",
            "dense_210 (Dense)            (None, 64)                65600     \n",
            "_________________________________________________________________\n",
            "dense_211 (Dense)            (None, 10)                650       \n",
            "=================================================================\n",
            "Total params: 89,546\n",
            "Trainable params: 89,546\n",
            "Non-trainable params: 0\n",
            "_________________________________________________________________\n"
          ],
          "name": "stdout"
        }
      ]
    },
    {
      "cell_type": "code",
      "metadata": {
        "id": "_DUJ17dyqQ1z"
      },
      "source": [
        "pey2.pres_fit(a_train,b_train,a_val,b_val)"
      ],
      "execution_count": null,
      "outputs": []
    },
    {
      "cell_type": "markdown",
      "metadata": {
        "id": "EOX4-a5RNkv9"
      },
      "source": [
        "CIFAR\n",
        "--"
      ]
    },
    {
      "cell_type": "code",
      "metadata": {
        "id": "yj6xGKktSGau"
      },
      "source": [
        "# 사용할 라이브러리 불러오기\n",
        "import numpy as np\n",
        "# 숫자 -> One-hot Vector 를 위한 라이브러리\n",
        "from keras.utils import np_utils\n",
        "# CIFAR-10 Dataset을 가져오기 위한 라이브러리\n",
        "from keras.datasets import cifar10, mnist\n",
        "# 순차적인 모델을 만들기 위한 Sequential 함수\n",
        "from keras.models import Sequential\n",
        "# CNN 및 MLP에 필요한 각 층들\n",
        "from keras.layers import Dense, Activation\n",
        "from keras.layers import Conv2D, MaxPooling2D, Flatten\n",
        "# 드롭아웃 적용을 위한 층\n",
        "from keras.layers import Dropout\n",
        "# 배치 정규화 적용을 위한 층\n",
        "from keras.layers import BatchNormalization\n",
        "# L2 정규화를 위한 라이브러리\n",
        "from keras.regularizers import l2\n",
        "# Google Colab에서 이미지를 보기 위한 cv2_imshow 함수\n",
        "from google.colab.patches import cv2_imshow"
      ],
      "execution_count": null,
      "outputs": []
    },
    {
      "cell_type": "code",
      "metadata": {
        "id": "iKYICGzrOIlC",
        "colab": {
          "base_uri": "https://localhost:8080/",
          "height": 407
        },
        "outputId": "ffbac744-d717-4dae-a1f2-6dffb9056a8e"
      },
      "source": [
        "# CIFAR-10 Dataset 가져오기\n",
        "(x_train, y_train), (x_test, y_test) = cifar10.load_data()\n",
        "print('x_train :', np.shape(x_train))\n",
        "print('y_train :', np.shape(y_train))\n",
        "print('x_test :', np.shape(x_test))\n",
        "print('y_test :', np.shape(y_test))\n",
        "# 한 번 Training Dataset의 이미지 10개 정도 봅시다\n",
        "for i in range(10):\n",
        "  cv2_imshow(x_train[i])"
      ],
      "execution_count": null,
      "outputs": [
        {
          "output_type": "stream",
          "text": [
            "x_train : (50000, 32, 32, 3)\n",
            "y_train : (50000, 1)\n",
            "x_test : (10000, 32, 32, 3)\n",
            "y_test : (10000, 1)\n"
          ],
          "name": "stdout"
        },
        {
          "output_type": "display_data",
          "data": {
            "image/png": "[encoded data removed]",
            "text/plain": [
              "<PIL.Image.Image image mode=RGB size=32x32 at 0x7F74D17FCED0>"
            ]
          },
          "metadata": {
            "tags": []
          }
        },
        {
          "output_type": "display_data",
          "data": {
            "image/png": "[encoded data removed]",
            "text/plain": [
              "<PIL.Image.Image image mode=RGB size=32x32 at 0x7F74D17FCF50>"
            ]
          },
          "metadata": {
            "tags": []
          }
        },
        {
          "output_type": "display_data",
          "data": {
            "image/png": "[encoded data removed]",
            "text/plain": [
              "<PIL.Image.Image image mode=RGB size=32x32 at 0x7F74D18158D0>"
            ]
          },
          "metadata": {
            "tags": []
          }
        },
        {
          "output_type": "display_data",
          "data": {
            "image/png": "[encoded data removed]",
            "text/plain": [
              "<PIL.Image.Image image mode=RGB size=32x32 at 0x7F74D17FC190>"
            ]
          },
          "metadata": {
            "tags": []
          }
        },
        {
          "output_type": "display_data",
          "data": {
            "image/png": "[encoded data removed]",
            "text/plain": [
              "<PIL.Image.Image image mode=RGB size=32x32 at 0x7F74D1815DD0>"
            ]
          },
          "metadata": {
            "tags": []
          }
        },
        {
          "output_type": "display_data",
          "data": {
            "image/png": "[encoded data removed]",
            "text/plain": [
              "<PIL.Image.Image image mode=RGB size=32x32 at 0x7F74D1787F10>"
            ]
          },
          "metadata": {
            "tags": []
          }
        },
        {
          "output_type": "display_data",
          "data": {
            "image/png": "[encoded data removed]",
            "text/plain": [
              "<PIL.Image.Image image mode=RGB size=32x32 at 0x7F74D17FCD90>"
            ]
          },
          "metadata": {
            "tags": []
          }
        },
        {
          "output_type": "display_data",
          "data": {
            "image/png": "[encoded data removed]",
            "text/plain": [
              "<PIL.Image.Image image mode=RGB size=32x32 at 0x7F74D17FCE90>"
            ]
          },
          "metadata": {
            "tags": []
          }
        },
        {
          "output_type": "display_data",
          "data": {
            "image/png": "[encoded data removed]",
            "text/plain": [
              "<PIL.Image.Image image mode=RGB size=32x32 at 0x7F74D17FCED0>"
            ]
          },
          "metadata": {
            "tags": []
          }
        },
        {
          "output_type": "display_data",
          "data": {
            "image/png": "[encoded data removed]",
            "text/plain": [
              "<PIL.Image.Image image mode=RGB size=32x32 at 0x7F74D183B710>"
            ]
          },
          "metadata": {
            "tags": []
          }
        }
      ]
    },
    {
      "cell_type": "code",
      "metadata": {
        "id": "xDe-Jkz3M2Ib",
        "colab": {
          "base_uri": "https://localhost:8080/"
        },
        "outputId": "cd6f1a7a-a3d2-4401-98c4-2d016bd2c9a1"
      },
      "source": [
        "# Loss의 스케일 조정을 위해 0 ~ 255 -> 0 ~ 1 범위로 만들어줍니다\n",
        "x_train = x_train.astype('float32') / 255.0\n",
        "x_test = x_test.astype('float32') / 255.0\n",
        "# 이번엔 Test Dataset을 Validation Set으로 써봅니다\n",
        "# One-Hot Encoding (숫자 -> One-Hot Vector) \n",
        "y_train = np_utils.to_categorical(y_train)\n",
        "y_test = np_utils.to_categorical(y_test)\n",
        "print('y_train :', np.shape(y_train))"
      ],
      "execution_count": null,
      "outputs": [
        {
          "output_type": "stream",
          "text": [
            "y_train : (50000, 10)\n"
          ],
          "name": "stdout"
        }
      ]
    },
    {
      "cell_type": "markdown",
      "metadata": {
        "id": "GC9tAJ4PN89e"
      },
      "source": [
        "2021/06/03 수업\n",
        "--"
      ]
    },
    {
      "cell_type": "code",
      "metadata": {
        "id": "NN1ZP3fKM2Kc"
      },
      "source": [
        ""
      ],
      "execution_count": null,
      "outputs": []
    },
    {
      "cell_type": "code",
      "metadata": {
        "id": "YbxW6IG2OAOQ"
      },
      "source": [
        ""
      ],
      "execution_count": null,
      "outputs": []
    },
    {
      "cell_type": "code",
      "metadata": {
        "id": "wuwvlaecOAQ9"
      },
      "source": [
        ""
      ],
      "execution_count": null,
      "outputs": []
    },
    {
      "cell_type": "code",
      "metadata": {
        "id": "v6myLxcFOAWU"
      },
      "source": [
        ""
      ],
      "execution_count": null,
      "outputs": []
    },
    {
      "cell_type": "code",
      "metadata": {
        "id": "wB62ImfyOAaN"
      },
      "source": [
        ""
      ],
      "execution_count": null,
      "outputs": []
    },
    {
      "cell_type": "code",
      "metadata": {
        "id": "K5KM1xnAOAcs"
      },
      "source": [
        ""
      ],
      "execution_count": null,
      "outputs": []
    },
    {
      "cell_type": "code",
      "metadata": {
        "id": "DbCFTW0qOAfG"
      },
      "source": [
        ""
      ],
      "execution_count": null,
      "outputs": []
    },
    {
      "cell_type": "code",
      "metadata": {
        "id": "4g1OHmbVOAiJ"
      },
      "source": [
        ""
      ],
      "execution_count": null,
      "outputs": []
    },
    {
      "cell_type": "code",
      "metadata": {
        "id": "9wEXIZ2tOAkv"
      },
      "source": [
        ""
      ],
      "execution_count": null,
      "outputs": []
    },
    {
      "cell_type": "code",
      "metadata": {
        "id": "itljFQXIOAo1"
      },
      "source": [
        ""
      ],
      "execution_count": null,
      "outputs": []
    },
    {
      "cell_type": "code",
      "metadata": {
        "id": "awntY46tOAwu"
      },
      "source": [
        ""
      ],
      "execution_count": null,
      "outputs": []
    },
    {
      "cell_type": "code",
      "metadata": {
        "id": "jPldYy3COA9r"
      },
      "source": [
        ""
      ],
      "execution_count": null,
      "outputs": []
    },
    {
      "cell_type": "code",
      "metadata": {
        "id": "tlwWJwOuOBAo"
      },
      "source": [
        ""
      ],
      "execution_count": null,
      "outputs": []
    },
    {
      "cell_type": "code",
      "metadata": {
        "id": "-NmaOvxsOBEu"
      },
      "source": [
        ""
      ],
      "execution_count": null,
      "outputs": []
    },
    {
      "cell_type": "code",
      "metadata": {
        "id": "Wa53ipZGOBIH"
      },
      "source": [
        ""
      ],
      "execution_count": null,
      "outputs": []
    },
    {
      "cell_type": "code",
      "metadata": {
        "id": "kAzjlxDLOBLE"
      },
      "source": [
        ""
      ],
      "execution_count": null,
      "outputs": []
    },
    {
      "cell_type": "code",
      "metadata": {
        "id": "b9rEVqxzM2Pm"
      },
      "source": [
        ""
      ],
      "execution_count": null,
      "outputs": []
    }
  ]
}