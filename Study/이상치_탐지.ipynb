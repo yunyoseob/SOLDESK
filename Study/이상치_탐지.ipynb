{
  "nbformat": 4,
  "nbformat_minor": 0,
  "metadata": {
    "colab": {
      "name": "이상치 탐지.ipynb",
      "provenance": [],
      "collapsed_sections": []
    },
    "kernelspec": {
      "name": "python3",
      "display_name": "Python 3"
    },
    "language_info": {
      "name": "python"
    }
  },
  "cells": [
    {
      "cell_type": "markdown",
      "metadata": {
        "id": "uGMGptAy0oHt"
      },
      "source": [
        "이상치 탐지\n",
        "--"
      ]
    },
    {
      "cell_type": "markdown",
      "metadata": {
        "id": "uK6nq-cY0oNk"
      },
      "source": [
        "# 이상치 탐지\n",
        "\n",
        "1. IQR\n",
        "2. 3/6-sigma\n",
        "3. range 조정\n",
        "4. scaling (z-score, standscaler, min/max scaler)\n",
        "5. Isolation Forest\n",
        "6. drop\n",
        "7. binning\n",
        "8. 마할노비스 거리(이상치 탐지 탁월)\n",
        "9. robust sclaer (이상치 탁월)\n",
        "10. Differential(2nd->튀는 지점 잡을수 있음->계산량은 많음)\n",
        " - 시계열 데이터 -> non- station ->staional(Seasonal)\n",
        "\n",
        " etc...\n"
      ]
    }
  ]
}