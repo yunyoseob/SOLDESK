{
  "nbformat": 4,
  "nbformat_minor": 0,
  "metadata": {
    "colab": {
      "name": "딥러닝연습20210607.ipynb",
      "provenance": [],
      "collapsed_sections": [
        "K9x4XFNS5Tms"
      ]
    },
    "kernelspec": {
      "name": "python3",
      "display_name": "Python 3"
    },
    "language_info": {
      "name": "python"
    },
    "accelerator": "GPU"
  },
  "cells": [
    {
      "cell_type": "markdown",
      "metadata": {
        "id": "Vz24KoNI0qEH"
      },
      "source": [
        "20210607 RNN 수업\n",
        "--"
      ]
    },
    {
      "cell_type": "markdown",
      "metadata": {
        "id": "g9vQvW4209cc"
      },
      "source": [
        "딥러닝 복습"
      ]
    },
    {
      "cell_type": "code",
      "metadata": {
        "id": "Qp8zBRcB0rKF"
      },
      "source": [
        "import pandas as pd\n",
        "import tensorflow as tf"
      ],
      "execution_count": 1,
      "outputs": []
    },
    {
      "cell_type": "markdown",
      "metadata": {
        "id": "rBNVucnw19jG"
      },
      "source": [
        "퍼셉트론 복습\n",
        "\n",
        "신호전달을 활성함수로 처리한다.\n",
        "\n",
        "XOR 문제를 선형함수가 아닌 비선형함수로 처리\n",
        "\n",
        "hidden 노드에서는 y-yhat 에서 y값을 알 수 없다.\n",
        "\n",
        "오류 역전파는 다항함수일 때 체인룰을 사용한다.\n",
        "\n",
        "가령 ∂z/∂x = ∂z/∂y*∂y/∂x 가 되는 것이다. (d는 미분을 의미하므로, 여기서는 편미분 기호로 반드시 써야함.)"
      ]
    },
    {
      "cell_type": "markdown",
      "metadata": {
        "id": "_hak32z03y4G"
      },
      "source": [
        "CNN 복습\n",
        "\n",
        "- CNN은 OpenCV로 전처리가 중요하다. 영상쪽은 C가 필수!\n",
        "\n",
        "\n",
        "- MNIST"
      ]
    },
    {
      "cell_type": "code",
      "metadata": {
        "colab": {
          "base_uri": "https://localhost:8080/"
        },
        "id": "VjzhonyB3BBu",
        "outputId": "988a1082-4715-4ff6-ddf3-d8e2b1628130"
      },
      "source": [
        "!nvidia-smi"
      ],
      "execution_count": 2,
      "outputs": [
        {
          "output_type": "stream",
          "text": [
            "Mon Jun  7 05:12:28 2021       \n",
            "+-----------------------------------------------------------------------------+\n",
            "| NVIDIA-SMI 465.27       Driver Version: 460.32.03    CUDA Version: 11.2     |\n",
            "|-------------------------------+----------------------+----------------------+\n",
            "| GPU  Name        Persistence-M| Bus-Id        Disp.A | Volatile Uncorr. ECC |\n",
            "| Fan  Temp  Perf  Pwr:Usage/Cap|         Memory-Usage | GPU-Util  Compute M. |\n",
            "|                               |                      |               MIG M. |\n",
            "|===============================+======================+======================|\n",
            "|   0  Tesla P100-PCIE...  Off  | 00000000:00:04.0 Off |                    0 |\n",
            "| N/A   38C    P0    27W / 250W |      0MiB / 16280MiB |      0%      Default |\n",
            "|                               |                      |                  N/A |\n",
            "+-------------------------------+----------------------+----------------------+\n",
            "                                                                               \n",
            "+-----------------------------------------------------------------------------+\n",
            "| Processes:                                                                  |\n",
            "|  GPU   GI   CI        PID   Type   Process name                  GPU Memory |\n",
            "|        ID   ID                                                   Usage      |\n",
            "|=============================================================================|\n",
            "|  No running processes found                                                 |\n",
            "+-----------------------------------------------------------------------------+\n"
          ],
          "name": "stdout"
        }
      ]
    },
    {
      "cell_type": "markdown",
      "metadata": {
        "id": "jfsT9N77QbQF"
      },
      "source": [
        "Batch Normalization\n",
        "\n",
        "Internal Covariate Shift : 네트워크의 학습 도중에 파라미터의 변화로 인한 네트워크 Activation(출력)들의 분포 변화\n",
        "\n",
        "기존의 여러 연구 결과들은 입력값들이 Whitening된다(zero Mean & Unit Variance)면, 뉴럴넷이 훨씬 빠르게 수렴할 것이라고 말하고 있다.\n",
        "\n",
        "이러한 방법은 Gradient Descent Step의 효과를 줄이는 결과를 초래\n",
        "\n",
        "또한 Backpropagation 방법도 복잡함\n",
        "Mini batch 단위로 다음을 수행.\n",
        "$BN(x;\\gamma,\\beta)=\\beta+\\gamma\\dfrac{x-E(x)}\n",
        "{\\sqrt{Var(x)+\\epsilon}}$\n",
        "\n",
        "BN은 학습 속도를 향상시켜주고 Gradient Vanishing 문제도 완화시켜줌.\n",
        "\n",
        "자세한 내용(https://hcnoh.github.io/2018-11-27-batch-normalization)"
      ]
    },
    {
      "cell_type": "markdown",
      "metadata": {
        "id": "K9x4XFNS5Tms"
      },
      "source": [
        "Keras 보스턴 집값 예측 활용\n",
        "--\n",
        "\n",
        "https://wdprogrammer.tistory.com/30"
      ]
    },
    {
      "cell_type": "code",
      "metadata": {
        "id": "GayQh3TYN_NS"
      },
      "source": [
        "#boston=tf.keras.datasets.boston_housing.load_data(path=\"boston_housing.npz\", test_split=0.2, seed=113)"
      ],
      "execution_count": 12,
      "outputs": []
    },
    {
      "cell_type": "code",
      "metadata": {
        "id": "uMlFnrYS3BQs"
      },
      "source": [
        "from keras.datasets import boston_housing\n",
        "(train_data, train_targets), (test_data, test_targets) = boston_housing.load_data()"
      ],
      "execution_count": 7,
      "outputs": []
    },
    {
      "cell_type": "markdown",
      "metadata": {
        "id": "wO5T-nLW52GZ"
      },
      "source": [
        "데이터 전처리"
      ]
    },
    {
      "cell_type": "code",
      "metadata": {
        "id": "b9nI0cc85Ri9"
      },
      "source": [
        "mean=train_data.mean(axis=0)\n",
        "train_data -= mean\n",
        "std=train_data.std(axis=0)\n",
        "train_data /= std \n",
        "\n",
        "test_data -= mean\n",
        "test_data /=  std"
      ],
      "execution_count": 13,
      "outputs": []
    },
    {
      "cell_type": "markdown",
      "metadata": {
        "id": "dj1ifXDX53jw"
      },
      "source": [
        "모델 구성"
      ]
    },
    {
      "cell_type": "code",
      "metadata": {
        "id": "FCq_egrk5Rlm"
      },
      "source": [
        "from keras import models\n",
        "from keras import layers\n",
        "\n",
        "def build_model():\n",
        "    model = models.Sequential()\n",
        "    model.add(layers.Dense(64, activation='relu', input_shape=(train_data.shape[1],)))\n",
        "    model.add(layers.Dense(64, activation='relu'))\n",
        "    model.add(layers.Dense(1))\n",
        "    model.compile(optimizer='rmsprop', loss='mse', metrics=['mae'])\n",
        "    return model"
      ],
      "execution_count": 20,
      "outputs": []
    },
    {
      "cell_type": "markdown",
      "metadata": {
        "id": "8xPTx-F158in"
      },
      "source": [
        "모델 학습 및 검증"
      ]
    },
    {
      "cell_type": "code",
      "metadata": {
        "id": "HOGscU7L5Rp8",
        "colab": {
          "base_uri": "https://localhost:8080/"
        },
        "outputId": "38da4efa-0396-4b41-e41d-8d50d984cf81"
      },
      "source": [
        "import numpy as np\n",
        "k=4\n",
        "num_val_samples = len(train_data) // k\n",
        "num_epochs = 100\n",
        "all_scores = []\n",
        "all_mae_histories = []\n",
        "for i in  range(k):\n",
        "    print(\"processing fold #\", i)\n",
        "    # 검증 데이터 분리\n",
        "    val_data  = train_data[i * num_val_samples: (i+1) * num_val_samples]\n",
        "    val_targets = train_targets[i * num_val_samples: (i+1) * num_val_samples]\n",
        "\n",
        "    # 훈련 데이터 분리\n",
        "    partial_train_data = np.concatenate([train_data[:i*num_val_samples], train_data[(i + 1) * num_val_samples:]], axis=0)\n",
        "    partial_train_targets = np.concatenate([train_targets[:i*num_val_samples], train_targets[(i + 1) * num_val_samples:]], axis=0)\n",
        "\n",
        "    # 모델 학습\n",
        "    model = build_model()\n",
        "    history = model.fit(partial_train_data, partial_train_targets, validation_data=(val_data, val_targets), epochs=num_epochs, batch_size=1, verbose=0)\n",
        "    \n",
        "    model.compile('sgd', metrics=[tf.keras.metrics.MeanAbsoluteError()])\n",
        "    mae_history = history.history['mae']\n",
        "    #mae_history = history.history['val_mean_absolute_error']\n",
        "    all_mae_histories.append(mae_history)\n",
        "    \n",
        "    val_mse, val_mae = model.evaluate(val_data, val_targets, verbose=0)\n",
        "    all_scores.append(val_mae)"
      ],
      "execution_count": 24,
      "outputs": [
        {
          "output_type": "stream",
          "text": [
            "processing fold # 0\n",
            "processing fold # 1\n",
            "processing fold # 2\n",
            "processing fold # 3\n"
          ],
          "name": "stdout"
        }
      ]
    },
    {
      "cell_type": "markdown",
      "metadata": {
        "id": "MSfv84ua7oYt"
      },
      "source": [
        "MAE 그래프 그리기"
      ]
    },
    {
      "cell_type": "code",
      "metadata": {
        "id": "xQNCwtpX3BTk",
        "colab": {
          "base_uri": "https://localhost:8080/",
          "height": 295
        },
        "outputId": "166192de-2294-4e51-8599-411986820a95"
      },
      "source": [
        "average_mae_history = [np.mean([x[i] for x in all_mae_histories]) for i in range(num_epochs)]\n",
        "\n",
        "import matplotlib.pyplot as plt\n",
        "\n",
        "plt.figure(1)\n",
        "plt.plot(range(1, len(average_mae_history) + 1), average_mae_history, 'r', label='aver_mae')\n",
        "plt.title('MAE')\n",
        "plt.xlabel('Epochs')\n",
        "plt.ylabel('Validation MAE')\n",
        "plt.legend()\n",
        "plt.show()"
      ],
      "execution_count": 27,
      "outputs": [
        {
          "output_type": "display_data",
          "data": {
            "image/png": "[encoded data removed]",
            "text/plain": [
              "<Figure size 432x288 with 1 Axes>"
            ]
          },
          "metadata": {
            "tags": [],
            "needs_background": "light"
          }
        }
      ]
    },
    {
      "cell_type": "code",
      "metadata": {
        "id": "_64OXIs63BWU"
      },
      "source": [
        "average_mae_history = [np.mean([x[i] for x in all_mae_histories]) for i in range(num_epochs)]"
      ],
      "execution_count": 28,
      "outputs": []
    },
    {
      "cell_type": "code",
      "metadata": {
        "id": "zrQHt5FL0rRE",
        "colab": {
          "base_uri": "https://localhost:8080/"
        },
        "outputId": "845805c6-afd8-4599-d4b6-a5a075642008"
      },
      "source": [
        "average_mae_history[:5]"
      ],
      "execution_count": 30,
      "outputs": [
        {
          "output_type": "execute_result",
          "data": {
            "text/plain": [
              "[10.884636640548706,\n",
              " 3.7119559049606323,\n",
              " 3.0463160276412964,\n",
              " 2.761398136615753,\n",
              " 2.6002659797668457]"
            ]
          },
          "metadata": {
            "tags": []
          },
          "execution_count": 30
        }
      ]
    },
    {
      "cell_type": "markdown",
      "metadata": {
        "id": "uyaA0HyUIgkk"
      },
      "source": [
        "폐암 수술환자의 생존율 예측하기 실습\n",
        "--\n",
        "https://twinw.tistory.com/248\n",
        "\n",
        "\n",
        "- activation: 다음 층으로 어떻게 값을 넘길지 결정하는 부분으로, relu, sigmoid 함수 등등이 있다.\n",
        "\n",
        "- loss: 한 번 신경망이 실행될 때마다 오차 값을 추적하는 함수\n",
        "\n",
        "- optimizer: 오차를 어떻게 줄여 나갈지 정하는 함수"
      ]
    },
    {
      "cell_type": "code",
      "metadata": {
        "id": "K4Ix0D7rLGq2"
      },
      "source": [
        "from google.colab import files\n",
        "files.upload()"
      ],
      "execution_count": null,
      "outputs": []
    },
    {
      "cell_type": "code",
      "metadata": {
        "id": "YytqnzNiIoxf"
      },
      "source": [
        "import pandas as pd\n",
        "df_cancer=pd.read_csv('ThoraricSurgery.csv')\n",
        "cancer=numpy.loadtxt('ThoraricSurgery.csv', delimiter=\",\") # pd.read_csv가 아닌 numpy.loadtxt를 활용"
      ],
      "execution_count": 67,
      "outputs": []
    },
    {
      "cell_type": "code",
      "metadata": {
        "colab": {
          "base_uri": "https://localhost:8080/",
          "height": 419
        },
        "id": "91gDj7V7Xsl5",
        "outputId": "e5004b14-f55a-4ffc-f014-e6fcc6511ba6"
      },
      "source": [
        "df_cancer=pd.DataFrame(df_cancer)\n",
        "df_cancer # 18개의 속성을 가지고 있는 것을 알 수 있다."
      ],
      "execution_count": 78,
      "outputs": [
        {
          "output_type": "execute_result",
          "data": {
            "text/html": [
              "<div>\n",
              "<style scoped>\n",
              "    .dataframe tbody tr th:only-of-type {\n",
              "        vertical-align: middle;\n",
              "    }\n",
              "\n",
              "    .dataframe tbody tr th {\n",
              "        vertical-align: top;\n",
              "    }\n",
              "\n",
              "    .dataframe thead th {\n",
              "        text-align: right;\n",
              "    }\n",
              "</style>\n",
              "<table border=\"1\" class=\"dataframe\">\n",
              "  <thead>\n",
              "    <tr style=\"text-align: right;\">\n",
              "      <th></th>\n",
              "      <th>293</th>\n",
              "      <th>1</th>\n",
              "      <th>3.8</th>\n",
              "      <th>2.8</th>\n",
              "      <th>0</th>\n",
              "      <th>0.1</th>\n",
              "      <th>0.2</th>\n",
              "      <th>0.3</th>\n",
              "      <th>0.4</th>\n",
              "      <th>0.5</th>\n",
              "      <th>12</th>\n",
              "      <th>0.6</th>\n",
              "      <th>0.7</th>\n",
              "      <th>0.8</th>\n",
              "      <th>1.1</th>\n",
              "      <th>0.9</th>\n",
              "      <th>62</th>\n",
              "      <th>0.10</th>\n",
              "    </tr>\n",
              "  </thead>\n",
              "  <tbody>\n",
              "    <tr>\n",
              "      <th>0</th>\n",
              "      <td>1</td>\n",
              "      <td>2</td>\n",
              "      <td>2.88</td>\n",
              "      <td>2.16</td>\n",
              "      <td>1</td>\n",
              "      <td>0</td>\n",
              "      <td>0</td>\n",
              "      <td>0</td>\n",
              "      <td>1</td>\n",
              "      <td>1</td>\n",
              "      <td>14</td>\n",
              "      <td>0</td>\n",
              "      <td>0</td>\n",
              "      <td>0</td>\n",
              "      <td>1</td>\n",
              "      <td>0</td>\n",
              "      <td>60</td>\n",
              "      <td>0</td>\n",
              "    </tr>\n",
              "    <tr>\n",
              "      <th>1</th>\n",
              "      <td>8</td>\n",
              "      <td>2</td>\n",
              "      <td>3.19</td>\n",
              "      <td>2.50</td>\n",
              "      <td>1</td>\n",
              "      <td>0</td>\n",
              "      <td>0</td>\n",
              "      <td>0</td>\n",
              "      <td>1</td>\n",
              "      <td>0</td>\n",
              "      <td>11</td>\n",
              "      <td>0</td>\n",
              "      <td>0</td>\n",
              "      <td>1</td>\n",
              "      <td>1</td>\n",
              "      <td>0</td>\n",
              "      <td>66</td>\n",
              "      <td>1</td>\n",
              "    </tr>\n",
              "    <tr>\n",
              "      <th>2</th>\n",
              "      <td>14</td>\n",
              "      <td>2</td>\n",
              "      <td>3.98</td>\n",
              "      <td>3.06</td>\n",
              "      <td>2</td>\n",
              "      <td>0</td>\n",
              "      <td>0</td>\n",
              "      <td>0</td>\n",
              "      <td>1</td>\n",
              "      <td>1</td>\n",
              "      <td>14</td>\n",
              "      <td>0</td>\n",
              "      <td>0</td>\n",
              "      <td>0</td>\n",
              "      <td>1</td>\n",
              "      <td>0</td>\n",
              "      <td>80</td>\n",
              "      <td>1</td>\n",
              "    </tr>\n",
              "    <tr>\n",
              "      <th>3</th>\n",
              "      <td>17</td>\n",
              "      <td>2</td>\n",
              "      <td>2.21</td>\n",
              "      <td>1.88</td>\n",
              "      <td>0</td>\n",
              "      <td>0</td>\n",
              "      <td>1</td>\n",
              "      <td>0</td>\n",
              "      <td>0</td>\n",
              "      <td>0</td>\n",
              "      <td>12</td>\n",
              "      <td>0</td>\n",
              "      <td>0</td>\n",
              "      <td>0</td>\n",
              "      <td>1</td>\n",
              "      <td>0</td>\n",
              "      <td>56</td>\n",
              "      <td>0</td>\n",
              "    </tr>\n",
              "    <tr>\n",
              "      <th>4</th>\n",
              "      <td>18</td>\n",
              "      <td>2</td>\n",
              "      <td>2.96</td>\n",
              "      <td>1.67</td>\n",
              "      <td>0</td>\n",
              "      <td>0</td>\n",
              "      <td>0</td>\n",
              "      <td>0</td>\n",
              "      <td>0</td>\n",
              "      <td>0</td>\n",
              "      <td>12</td>\n",
              "      <td>0</td>\n",
              "      <td>0</td>\n",
              "      <td>0</td>\n",
              "      <td>1</td>\n",
              "      <td>0</td>\n",
              "      <td>61</td>\n",
              "      <td>0</td>\n",
              "    </tr>\n",
              "    <tr>\n",
              "      <th>...</th>\n",
              "      <td>...</td>\n",
              "      <td>...</td>\n",
              "      <td>...</td>\n",
              "      <td>...</td>\n",
              "      <td>...</td>\n",
              "      <td>...</td>\n",
              "      <td>...</td>\n",
              "      <td>...</td>\n",
              "      <td>...</td>\n",
              "      <td>...</td>\n",
              "      <td>...</td>\n",
              "      <td>...</td>\n",
              "      <td>...</td>\n",
              "      <td>...</td>\n",
              "      <td>...</td>\n",
              "      <td>...</td>\n",
              "      <td>...</td>\n",
              "      <td>...</td>\n",
              "    </tr>\n",
              "    <tr>\n",
              "      <th>464</th>\n",
              "      <td>98</td>\n",
              "      <td>6</td>\n",
              "      <td>3.04</td>\n",
              "      <td>2.40</td>\n",
              "      <td>2</td>\n",
              "      <td>0</td>\n",
              "      <td>0</td>\n",
              "      <td>0</td>\n",
              "      <td>1</td>\n",
              "      <td>0</td>\n",
              "      <td>11</td>\n",
              "      <td>0</td>\n",
              "      <td>0</td>\n",
              "      <td>0</td>\n",
              "      <td>1</td>\n",
              "      <td>0</td>\n",
              "      <td>76</td>\n",
              "      <td>0</td>\n",
              "    </tr>\n",
              "    <tr>\n",
              "      <th>465</th>\n",
              "      <td>369</td>\n",
              "      <td>6</td>\n",
              "      <td>3.88</td>\n",
              "      <td>2.72</td>\n",
              "      <td>1</td>\n",
              "      <td>0</td>\n",
              "      <td>0</td>\n",
              "      <td>0</td>\n",
              "      <td>1</td>\n",
              "      <td>0</td>\n",
              "      <td>12</td>\n",
              "      <td>0</td>\n",
              "      <td>0</td>\n",
              "      <td>0</td>\n",
              "      <td>1</td>\n",
              "      <td>0</td>\n",
              "      <td>77</td>\n",
              "      <td>0</td>\n",
              "    </tr>\n",
              "    <tr>\n",
              "      <th>466</th>\n",
              "      <td>406</td>\n",
              "      <td>6</td>\n",
              "      <td>5.36</td>\n",
              "      <td>3.96</td>\n",
              "      <td>1</td>\n",
              "      <td>0</td>\n",
              "      <td>0</td>\n",
              "      <td>0</td>\n",
              "      <td>1</td>\n",
              "      <td>0</td>\n",
              "      <td>12</td>\n",
              "      <td>0</td>\n",
              "      <td>0</td>\n",
              "      <td>0</td>\n",
              "      <td>0</td>\n",
              "      <td>0</td>\n",
              "      <td>62</td>\n",
              "      <td>0</td>\n",
              "    </tr>\n",
              "    <tr>\n",
              "      <th>467</th>\n",
              "      <td>25</td>\n",
              "      <td>8</td>\n",
              "      <td>4.32</td>\n",
              "      <td>3.20</td>\n",
              "      <td>0</td>\n",
              "      <td>0</td>\n",
              "      <td>0</td>\n",
              "      <td>0</td>\n",
              "      <td>0</td>\n",
              "      <td>0</td>\n",
              "      <td>11</td>\n",
              "      <td>0</td>\n",
              "      <td>0</td>\n",
              "      <td>0</td>\n",
              "      <td>0</td>\n",
              "      <td>0</td>\n",
              "      <td>58</td>\n",
              "      <td>1</td>\n",
              "    </tr>\n",
              "    <tr>\n",
              "      <th>468</th>\n",
              "      <td>447</td>\n",
              "      <td>8</td>\n",
              "      <td>5.20</td>\n",
              "      <td>4.10</td>\n",
              "      <td>0</td>\n",
              "      <td>0</td>\n",
              "      <td>0</td>\n",
              "      <td>0</td>\n",
              "      <td>0</td>\n",
              "      <td>0</td>\n",
              "      <td>12</td>\n",
              "      <td>0</td>\n",
              "      <td>0</td>\n",
              "      <td>0</td>\n",
              "      <td>0</td>\n",
              "      <td>0</td>\n",
              "      <td>49</td>\n",
              "      <td>0</td>\n",
              "    </tr>\n",
              "  </tbody>\n",
              "</table>\n",
              "<p>469 rows × 18 columns</p>\n",
              "</div>"
            ],
            "text/plain": [
              "     293  1   3.8   2.8  0  0.1  0.2  ...  0.6  0.7  0.8  1.1  0.9  62  0.10\n",
              "0      1  2  2.88  2.16  1    0    0  ...    0    0    0    1    0  60     0\n",
              "1      8  2  3.19  2.50  1    0    0  ...    0    0    1    1    0  66     1\n",
              "2     14  2  3.98  3.06  2    0    0  ...    0    0    0    1    0  80     1\n",
              "3     17  2  2.21  1.88  0    0    1  ...    0    0    0    1    0  56     0\n",
              "4     18  2  2.96  1.67  0    0    0  ...    0    0    0    1    0  61     0\n",
              "..   ... ..   ...   ... ..  ...  ...  ...  ...  ...  ...  ...  ...  ..   ...\n",
              "464   98  6  3.04  2.40  2    0    0  ...    0    0    0    1    0  76     0\n",
              "465  369  6  3.88  2.72  1    0    0  ...    0    0    0    1    0  77     0\n",
              "466  406  6  5.36  3.96  1    0    0  ...    0    0    0    0    0  62     0\n",
              "467   25  8  4.32  3.20  0    0    0  ...    0    0    0    0    0  58     1\n",
              "468  447  8  5.20  4.10  0    0    0  ...    0    0    0    0    0  49     0\n",
              "\n",
              "[469 rows x 18 columns]"
            ]
          },
          "metadata": {
            "tags": []
          },
          "execution_count": 78
        }
      ]
    },
    {
      "cell_type": "code",
      "metadata": {
        "colab": {
          "base_uri": "https://localhost:8080/"
        },
        "id": "-rcZiLkqIoz8",
        "outputId": "e2dda101-650e-49c8-c6dc-7046036544db"
      },
      "source": [
        "cancer"
      ],
      "execution_count": 69,
      "outputs": [
        {
          "output_type": "execute_result",
          "data": {
            "text/plain": [
              "array([[293.  ,   1.  ,   3.8 , ...,   0.  ,  62.  ,   0.  ],\n",
              "       [  1.  ,   2.  ,   2.88, ...,   0.  ,  60.  ,   0.  ],\n",
              "       [  8.  ,   2.  ,   3.19, ...,   0.  ,  66.  ,   1.  ],\n",
              "       ...,\n",
              "       [406.  ,   6.  ,   5.36, ...,   0.  ,  62.  ,   0.  ],\n",
              "       [ 25.  ,   8.  ,   4.32, ...,   0.  ,  58.  ,   1.  ],\n",
              "       [447.  ,   8.  ,   5.2 , ...,   0.  ,  49.  ,   0.  ]])"
            ]
          },
          "metadata": {
            "tags": []
          },
          "execution_count": 69
        }
      ]
    },
    {
      "cell_type": "code",
      "metadata": {
        "id": "KN1ePNVGIo20"
      },
      "source": [
        "from keras.models import Sequential # 딥러닝을 여행으로 비유한다면, 케라스는 비행기의 이륙 및 정확한 지점까지의 도착을 책잊미는 파일럿\n",
        "from keras.layers import Dense\n",
        "\n",
        "import numpy\n",
        "import tensorflow as tf # 딥러닝을 여행으로 비유한다면, 텐서플로는 목적지까지 빠르게 이동시켜주는 비행기\n",
        "\n",
        "seed=0\n",
        "numpy.random.seed(seed)\n",
        "tf.random.set_seed(seed)"
      ],
      "execution_count": 70,
      "outputs": []
    },
    {
      "cell_type": "code",
      "metadata": {
        "colab": {
          "base_uri": "https://localhost:8080/"
        },
        "id": "jogafModIo5M",
        "outputId": "38fd527b-d9db-4d9a-9d43-827c8300fb74"
      },
      "source": [
        "X=cancer[:, 0:17]\n",
        "X"
      ],
      "execution_count": 74,
      "outputs": [
        {
          "output_type": "execute_result",
          "data": {
            "text/plain": [
              "array([[293.  ,   1.  ,   3.8 , ...,   1.  ,   0.  ,  62.  ],\n",
              "       [  1.  ,   2.  ,   2.88, ...,   1.  ,   0.  ,  60.  ],\n",
              "       [  8.  ,   2.  ,   3.19, ...,   1.  ,   0.  ,  66.  ],\n",
              "       ...,\n",
              "       [406.  ,   6.  ,   5.36, ...,   0.  ,   0.  ,  62.  ],\n",
              "       [ 25.  ,   8.  ,   4.32, ...,   0.  ,   0.  ,  58.  ],\n",
              "       [447.  ,   8.  ,   5.2 , ...,   0.  ,   0.  ,  49.  ]])"
            ]
          },
          "metadata": {
            "tags": []
          },
          "execution_count": 74
        }
      ]
    },
    {
      "cell_type": "code",
      "metadata": {
        "colab": {
          "base_uri": "https://localhost:8080/"
        },
        "id": "qqlELr-dUPnE",
        "outputId": "feb43a43-2c19-41c2-8b40-2a1f85bce563"
      },
      "source": [
        "Y=cancer[:,17] # target\n",
        "Y"
      ],
      "execution_count": 75,
      "outputs": [
        {
          "output_type": "execute_result",
          "data": {
            "text/plain": [
              "array([0., 0., 1., 1., 0., 0., 0., 1., 0., 0., 0., 0., 0., 0., 1., 0., 0.,\n",
              "       0., 0., 0., 0., 0., 0., 0., 0., 0., 1., 0., 0., 1., 1., 0., 0., 0.,\n",
              "       0., 0., 1., 0., 0., 1., 0., 0., 0., 1., 0., 1., 0., 0., 1., 0., 0.,\n",
              "       0., 0., 0., 0., 0., 1., 0., 1., 0., 0., 0., 0., 0., 0., 0., 0., 0.,\n",
              "       0., 0., 0., 0., 1., 0., 1., 0., 0., 0., 0., 0., 0., 0., 0., 0., 0.,\n",
              "       0., 1., 0., 0., 0., 0., 0., 0., 0., 1., 0., 1., 0., 0., 0., 0., 0.,\n",
              "       0., 0., 0., 0., 0., 0., 1., 0., 1., 0., 0., 0., 0., 0., 0., 0., 0.,\n",
              "       0., 0., 0., 0., 1., 0., 0., 0., 0., 1., 0., 0., 0., 0., 0., 0., 0.,\n",
              "       0., 0., 0., 0., 0., 0., 0., 0., 0., 0., 0., 1., 0., 0., 0., 0., 1.,\n",
              "       0., 0., 0., 0., 0., 0., 0., 0., 0., 0., 1., 1., 0., 0., 0., 0., 0.,\n",
              "       0., 0., 0., 0., 0., 0., 0., 0., 1., 0., 1., 0., 1., 0., 0., 0., 0.,\n",
              "       0., 0., 0., 0., 0., 0., 0., 0., 1., 0., 0., 1., 1., 0., 0., 0., 0.,\n",
              "       0., 0., 0., 0., 0., 0., 1., 0., 1., 0., 0., 0., 0., 0., 0., 0., 0.,\n",
              "       1., 0., 1., 0., 0., 0., 0., 0., 0., 0., 1., 0., 0., 0., 0., 0., 0.,\n",
              "       0., 0., 1., 0., 0., 0., 0., 0., 0., 0., 0., 1., 0., 0., 0., 0., 0.,\n",
              "       0., 1., 0., 1., 0., 0., 0., 0., 0., 0., 0., 0., 0., 0., 0., 0., 0.,\n",
              "       0., 0., 0., 0., 0., 1., 1., 0., 0., 0., 0., 1., 0., 0., 1., 0., 0.,\n",
              "       0., 0., 1., 0., 0., 0., 0., 0., 0., 1., 0., 0., 0., 0., 0., 0., 0.,\n",
              "       0., 0., 0., 1., 0., 0., 0., 0., 1., 0., 0., 0., 0., 0., 0., 1., 0.,\n",
              "       0., 0., 1., 0., 0., 0., 0., 0., 0., 0., 0., 0., 0., 0., 0., 0., 0.,\n",
              "       0., 0., 0., 0., 0., 1., 0., 0., 0., 0., 0., 0., 0., 0., 0., 0., 0.,\n",
              "       0., 0., 0., 0., 0., 0., 0., 0., 0., 0., 0., 1., 0., 0., 0., 0., 0.,\n",
              "       0., 0., 0., 0., 0., 0., 0., 0., 0., 0., 0., 0., 1., 0., 0., 0., 0.,\n",
              "       0., 0., 0., 0., 0., 0., 0., 0., 0., 0., 0., 0., 0., 0., 0., 1., 0.,\n",
              "       0., 1., 0., 1., 0., 0., 0., 1., 1., 0., 0., 0., 0., 0., 0., 0., 0.,\n",
              "       0., 0., 0., 0., 0., 0., 0., 0., 0., 0., 0., 0., 0., 0., 0., 0., 0.,\n",
              "       0., 1., 0., 0., 0., 0., 1., 0., 0., 1., 1., 0., 0., 1., 1., 0., 1.,\n",
              "       0., 0., 1., 1., 0., 0., 0., 0., 0., 1., 0.])"
            ]
          },
          "metadata": {
            "tags": []
          },
          "execution_count": 75
        }
      ]
    },
    {
      "cell_type": "code",
      "metadata": {
        "id": "O4q8Tpk3SOM4"
      },
      "source": [
        "# 딥러닝 모델 구성\n",
        "\n",
        "model=Sequential() #모델 불러오기\n",
        "model.add(Dense(30, input_dim=17, activation='relu')) # 모델의 2층 옵션\n",
        "model.add(Dense(1, activation='sigmoid')) # 모델의 1층 옵션"
      ],
      "execution_count": 73,
      "outputs": []
    },
    {
      "cell_type": "code",
      "metadata": {
        "colab": {
          "base_uri": "https://localhost:8080/"
        },
        "id": "cplV9zjxRXwo",
        "outputId": "3101a5f1-dfee-4d85-c6a3-ddaa12226940"
      },
      "source": [
        "model.compile(loss='mean_squared_error', optimizer='adam', metrics=['accuracy']) #모델을 실행시키기 위한 조건\n",
        "model.fit(X,Y, epochs=30, batch_size=10) # 모델 실행"
      ],
      "execution_count": 76,
      "outputs": [
        {
          "output_type": "stream",
          "text": [
            "Epoch 1/30\n",
            "47/47 [==============================] - 1s 2ms/step - loss: 0.6614 - accuracy: 0.3134\n",
            "Epoch 2/30\n",
            "47/47 [==============================] - 0s 2ms/step - loss: 0.1549 - accuracy: 0.8449\n",
            "Epoch 3/30\n",
            "47/47 [==============================] - 0s 2ms/step - loss: 0.1410 - accuracy: 0.8589\n",
            "Epoch 4/30\n",
            "47/47 [==============================] - 0s 2ms/step - loss: 0.1507 - accuracy: 0.8490\n",
            "Epoch 5/30\n",
            "47/47 [==============================] - 0s 2ms/step - loss: 0.1643 - accuracy: 0.8356\n",
            "Epoch 6/30\n",
            "47/47 [==============================] - 0s 2ms/step - loss: 0.1354 - accuracy: 0.8644\n",
            "Epoch 7/30\n",
            "47/47 [==============================] - 0s 2ms/step - loss: 0.1134 - accuracy: 0.8866\n",
            "Epoch 8/30\n",
            "47/47 [==============================] - 0s 2ms/step - loss: 0.1652 - accuracy: 0.8344\n",
            "Epoch 9/30\n",
            "47/47 [==============================] - 0s 2ms/step - loss: 0.1634 - accuracy: 0.8347\n",
            "Epoch 10/30\n",
            "47/47 [==============================] - 0s 2ms/step - loss: 0.1384 - accuracy: 0.8607\n",
            "Epoch 11/30\n",
            "47/47 [==============================] - 0s 2ms/step - loss: 0.1538 - accuracy: 0.8455\n",
            "Epoch 12/30\n",
            "47/47 [==============================] - 0s 2ms/step - loss: 0.1358 - accuracy: 0.8631\n",
            "Epoch 13/30\n",
            "47/47 [==============================] - 0s 2ms/step - loss: 0.1606 - accuracy: 0.8419\n",
            "Epoch 14/30\n",
            "47/47 [==============================] - 0s 2ms/step - loss: 0.1436 - accuracy: 0.8524\n",
            "Epoch 15/30\n",
            "47/47 [==============================] - 0s 2ms/step - loss: 0.1513 - accuracy: 0.8472\n",
            "Epoch 16/30\n",
            "47/47 [==============================] - 0s 2ms/step - loss: 0.1539 - accuracy: 0.8457\n",
            "Epoch 17/30\n",
            "47/47 [==============================] - 0s 2ms/step - loss: 0.1293 - accuracy: 0.8719\n",
            "Epoch 18/30\n",
            "47/47 [==============================] - 0s 2ms/step - loss: 0.1734 - accuracy: 0.8220\n",
            "Epoch 19/30\n",
            "47/47 [==============================] - 0s 2ms/step - loss: 0.1586 - accuracy: 0.8331\n",
            "Epoch 20/30\n",
            "47/47 [==============================] - 0s 2ms/step - loss: 0.1546 - accuracy: 0.8446\n",
            "Epoch 21/30\n",
            "47/47 [==============================] - 0s 2ms/step - loss: 0.1545 - accuracy: 0.8427\n",
            "Epoch 22/30\n",
            "47/47 [==============================] - 0s 2ms/step - loss: 0.1488 - accuracy: 0.8452\n",
            "Epoch 23/30\n",
            "47/47 [==============================] - 0s 2ms/step - loss: 0.1714 - accuracy: 0.8206\n",
            "Epoch 24/30\n",
            "47/47 [==============================] - 0s 2ms/step - loss: 0.1181 - accuracy: 0.8748\n",
            "Epoch 25/30\n",
            "47/47 [==============================] - 0s 2ms/step - loss: 0.1411 - accuracy: 0.8456\n",
            "Epoch 26/30\n",
            "47/47 [==============================] - 0s 2ms/step - loss: 0.1500 - accuracy: 0.8425\n",
            "Epoch 27/30\n",
            "47/47 [==============================] - 0s 2ms/step - loss: 0.1760 - accuracy: 0.8199\n",
            "Epoch 28/30\n",
            "47/47 [==============================] - 0s 2ms/step - loss: 0.1284 - accuracy: 0.8656\n",
            "Epoch 29/30\n",
            "47/47 [==============================] - 0s 2ms/step - loss: 0.1301 - accuracy: 0.8629\n",
            "Epoch 30/30\n",
            "47/47 [==============================] - 0s 2ms/step - loss: 0.1618 - accuracy: 0.8383\n"
          ],
          "name": "stdout"
        },
        {
          "output_type": "execute_result",
          "data": {
            "text/plain": [
              "<keras.callbacks.History at 0x7f528fa81810>"
            ]
          },
          "metadata": {
            "tags": []
          },
          "execution_count": 76
        }
      ]
    },
    {
      "cell_type": "code",
      "metadata": {
        "colab": {
          "base_uri": "https://localhost:8080/"
        },
        "id": "oPjaYljlP9FQ",
        "outputId": "5f0e598b-1523-44c8-9dae-88334cfe682d"
      },
      "source": [
        "# 결과 출력하기\n",
        "print(\"\\n Accuracy: %.4f\" %(model.evaluate(X,Y)[1])) # 딥러닝 모델이 어느 정도 정확하게 예측하는지를 점검"
      ],
      "execution_count": 77,
      "outputs": [
        {
          "output_type": "stream",
          "text": [
            "15/15 [==============================] - 0s 3ms/step - loss: 0.1439 - accuracy: 0.8553\n",
            "\n",
            " Accuracy: 0.8553\n"
          ],
          "name": "stdout"
        }
      ]
    },
    {
      "cell_type": "markdown",
      "metadata": {
        "id": "J5OlG2DSZ54B"
      },
      "source": [
        "피마 인디언 당뇨병 여부 측정 실습\n",
        "--"
      ]
    },
    {
      "cell_type": "code",
      "metadata": {
        "id": "4J7UcHW5NcC2"
      },
      "source": [
        "from google.colab import files\n",
        "files.upload()"
      ],
      "execution_count": null,
      "outputs": []
    },
    {
      "cell_type": "code",
      "metadata": {
        "id": "ZI35SlTbNcFd"
      },
      "source": [
        "diabetes=pd.read_csv('diabetes.csv')"
      ],
      "execution_count": 92,
      "outputs": []
    },
    {
      "cell_type": "code",
      "metadata": {
        "colab": {
          "base_uri": "https://localhost:8080/",
          "height": 439
        },
        "id": "uCS2VZHgNcIP",
        "outputId": "469ad883-045c-4b51-d8c7-2cf14eca2604"
      },
      "source": [
        "diavetes"
      ],
      "execution_count": 93,
      "outputs": [
        {
          "output_type": "execute_result",
          "data": {
            "text/html": [
              "<div>\n",
              "<style scoped>\n",
              "    .dataframe tbody tr th:only-of-type {\n",
              "        vertical-align: middle;\n",
              "    }\n",
              "\n",
              "    .dataframe tbody tr th {\n",
              "        vertical-align: top;\n",
              "    }\n",
              "\n",
              "    .dataframe thead th {\n",
              "        text-align: right;\n",
              "    }\n",
              "</style>\n",
              "<table border=\"1\" class=\"dataframe\">\n",
              "  <thead>\n",
              "    <tr style=\"text-align: right;\">\n",
              "      <th></th>\n",
              "      <th>Pregnancies</th>\n",
              "      <th>Glucose</th>\n",
              "      <th>BloodPressure</th>\n",
              "      <th>SkinThickness</th>\n",
              "      <th>Insulin</th>\n",
              "      <th>BMI</th>\n",
              "      <th>DiabetesPedigreeFunction</th>\n",
              "      <th>Age</th>\n",
              "      <th>Outcome</th>\n",
              "    </tr>\n",
              "  </thead>\n",
              "  <tbody>\n",
              "    <tr>\n",
              "      <th>0</th>\n",
              "      <td>6</td>\n",
              "      <td>148</td>\n",
              "      <td>72</td>\n",
              "      <td>35</td>\n",
              "      <td>0</td>\n",
              "      <td>33.6</td>\n",
              "      <td>0.627</td>\n",
              "      <td>50</td>\n",
              "      <td>1</td>\n",
              "    </tr>\n",
              "    <tr>\n",
              "      <th>1</th>\n",
              "      <td>1</td>\n",
              "      <td>85</td>\n",
              "      <td>66</td>\n",
              "      <td>29</td>\n",
              "      <td>0</td>\n",
              "      <td>26.6</td>\n",
              "      <td>0.351</td>\n",
              "      <td>31</td>\n",
              "      <td>0</td>\n",
              "    </tr>\n",
              "    <tr>\n",
              "      <th>2</th>\n",
              "      <td>8</td>\n",
              "      <td>183</td>\n",
              "      <td>64</td>\n",
              "      <td>0</td>\n",
              "      <td>0</td>\n",
              "      <td>23.3</td>\n",
              "      <td>0.672</td>\n",
              "      <td>32</td>\n",
              "      <td>1</td>\n",
              "    </tr>\n",
              "    <tr>\n",
              "      <th>3</th>\n",
              "      <td>1</td>\n",
              "      <td>89</td>\n",
              "      <td>66</td>\n",
              "      <td>23</td>\n",
              "      <td>94</td>\n",
              "      <td>28.1</td>\n",
              "      <td>0.167</td>\n",
              "      <td>21</td>\n",
              "      <td>0</td>\n",
              "    </tr>\n",
              "    <tr>\n",
              "      <th>4</th>\n",
              "      <td>0</td>\n",
              "      <td>137</td>\n",
              "      <td>40</td>\n",
              "      <td>35</td>\n",
              "      <td>168</td>\n",
              "      <td>43.1</td>\n",
              "      <td>2.288</td>\n",
              "      <td>33</td>\n",
              "      <td>1</td>\n",
              "    </tr>\n",
              "    <tr>\n",
              "      <th>...</th>\n",
              "      <td>...</td>\n",
              "      <td>...</td>\n",
              "      <td>...</td>\n",
              "      <td>...</td>\n",
              "      <td>...</td>\n",
              "      <td>...</td>\n",
              "      <td>...</td>\n",
              "      <td>...</td>\n",
              "      <td>...</td>\n",
              "    </tr>\n",
              "    <tr>\n",
              "      <th>763</th>\n",
              "      <td>10</td>\n",
              "      <td>101</td>\n",
              "      <td>76</td>\n",
              "      <td>48</td>\n",
              "      <td>180</td>\n",
              "      <td>32.9</td>\n",
              "      <td>0.171</td>\n",
              "      <td>63</td>\n",
              "      <td>0</td>\n",
              "    </tr>\n",
              "    <tr>\n",
              "      <th>764</th>\n",
              "      <td>2</td>\n",
              "      <td>122</td>\n",
              "      <td>70</td>\n",
              "      <td>27</td>\n",
              "      <td>0</td>\n",
              "      <td>36.8</td>\n",
              "      <td>0.340</td>\n",
              "      <td>27</td>\n",
              "      <td>0</td>\n",
              "    </tr>\n",
              "    <tr>\n",
              "      <th>765</th>\n",
              "      <td>5</td>\n",
              "      <td>121</td>\n",
              "      <td>72</td>\n",
              "      <td>23</td>\n",
              "      <td>112</td>\n",
              "      <td>26.2</td>\n",
              "      <td>0.245</td>\n",
              "      <td>30</td>\n",
              "      <td>0</td>\n",
              "    </tr>\n",
              "    <tr>\n",
              "      <th>766</th>\n",
              "      <td>1</td>\n",
              "      <td>126</td>\n",
              "      <td>60</td>\n",
              "      <td>0</td>\n",
              "      <td>0</td>\n",
              "      <td>30.1</td>\n",
              "      <td>0.349</td>\n",
              "      <td>47</td>\n",
              "      <td>1</td>\n",
              "    </tr>\n",
              "    <tr>\n",
              "      <th>767</th>\n",
              "      <td>1</td>\n",
              "      <td>93</td>\n",
              "      <td>70</td>\n",
              "      <td>31</td>\n",
              "      <td>0</td>\n",
              "      <td>30.4</td>\n",
              "      <td>0.315</td>\n",
              "      <td>23</td>\n",
              "      <td>0</td>\n",
              "    </tr>\n",
              "  </tbody>\n",
              "</table>\n",
              "<p>768 rows × 9 columns</p>\n",
              "</div>"
            ],
            "text/plain": [
              "     Pregnancies  Glucose  ...  Age  Outcome\n",
              "0              6      148  ...   50        1\n",
              "1              1       85  ...   31        0\n",
              "2              8      183  ...   32        1\n",
              "3              1       89  ...   21        0\n",
              "4              0      137  ...   33        1\n",
              "..           ...      ...  ...  ...      ...\n",
              "763           10      101  ...   63        0\n",
              "764            2      122  ...   27        0\n",
              "765            5      121  ...   30        0\n",
              "766            1      126  ...   47        1\n",
              "767            1       93  ...   23        0\n",
              "\n",
              "[768 rows x 9 columns]"
            ]
          },
          "metadata": {
            "tags": []
          },
          "execution_count": 93
        }
      ]
    },
    {
      "cell_type": "code",
      "metadata": {
        "colab": {
          "base_uri": "https://localhost:8080/",
          "height": 408
        },
        "id": "_EHMm68sNcKt",
        "outputId": "290ea451-de6d-4101-d364-5b3afa3b60bc"
      },
      "source": [
        "import seaborn as sns\n",
        "\n",
        "sns.heatmap(diabetes.corr(), cmap='Greens', annot=True)"
      ],
      "execution_count": 96,
      "outputs": [
        {
          "output_type": "execute_result",
          "data": {
            "text/plain": [
              "<matplotlib.axes._subplots.AxesSubplot at 0x7f5288342c90>"
            ]
          },
          "metadata": {
            "tags": []
          },
          "execution_count": 96
        },
        {
          "output_type": "display_data",
          "data": {
            "image/png": "[encoded data removed]",
            "text/plain": [
              "<Figure size 432x288 with 2 Axes>"
            ]
          },
          "metadata": {
            "tags": [],
            "needs_background": "light"
          }
        }
      ]
    },
    {
      "cell_type": "code",
      "metadata": {
        "colab": {
          "base_uri": "https://localhost:8080/"
        },
        "id": "Aj3_iEionNCw",
        "outputId": "f7d0b27a-508c-4758-acc1-6367973e1318"
      },
      "source": [
        "diabetes.columns"
      ],
      "execution_count": 95,
      "outputs": [
        {
          "output_type": "execute_result",
          "data": {
            "text/plain": [
              "Index(['Pregnancies', 'Glucose', 'BloodPressure', 'SkinThickness', 'Insulin',\n",
              "       'BMI', 'DiabetesPedigreeFunction', 'Age', 'Outcome'],\n",
              "      dtype='object')"
            ]
          },
          "metadata": {
            "tags": []
          },
          "execution_count": 95
        }
      ]
    },
    {
      "cell_type": "code",
      "metadata": {
        "id": "Hj_b9P89n2Uu"
      },
      "source": [
        "Pre=[float(x) for x in diabetes['Pregnancies']]"
      ],
      "execution_count": 105,
      "outputs": []
    },
    {
      "cell_type": "code",
      "metadata": {
        "id": "JJVwreCLoOk1"
      },
      "source": [
        "diabetes['Pregnancies']=Pre"
      ],
      "execution_count": 107,
      "outputs": []
    },
    {
      "cell_type": "code",
      "metadata": {
        "colab": {
          "base_uri": "https://localhost:8080/"
        },
        "id": "761WH7upo0XO",
        "outputId": "9d31f4b0-7c75-4450-8981-1cabec143294"
      },
      "source": [
        "diabetes['Pregnancies']"
      ],
      "execution_count": 108,
      "outputs": [
        {
          "output_type": "execute_result",
          "data": {
            "text/plain": [
              "0       6.0\n",
              "1       1.0\n",
              "2       8.0\n",
              "3       1.0\n",
              "4       0.0\n",
              "       ... \n",
              "763    10.0\n",
              "764     2.0\n",
              "765     5.0\n",
              "766     1.0\n",
              "767     1.0\n",
              "Name: Pregnancies, Length: 768, dtype: float64"
            ]
          },
          "metadata": {
            "tags": []
          },
          "execution_count": 108
        }
      ]
    },
    {
      "cell_type": "code",
      "metadata": {
        "id": "g5BsE8p1pC4F"
      },
      "source": [
        "Glu=[float(x) for x in diabetes['Glucose']]\n",
        "diabetes['Glucose']=Glu\n",
        "\n",
        "BP=[float(x) for x in diabetes['BloodPressure']]\n",
        "diabetes['BloodPressure']=BP\n",
        "\n",
        "\n",
        "ST=[float(x) for x in diabetes['SkinThickness']]\n",
        "diabetes['SkinThickness']=ST\n",
        "\n",
        "IS=[float(x) for x in diabetes['Insulin']]\n",
        "diabetes['Insulin']=IS\n",
        "\n",
        "\n",
        "Age=[float(x) for x in diabetes['Age']]\n",
        "diabetes['Age']=Age"
      ],
      "execution_count": 111,
      "outputs": []
    },
    {
      "cell_type": "code",
      "metadata": {
        "id": "sy_4O2-xps9l"
      },
      "source": [
        "Outcome=[float(x) for x in diabetes['Outcome']]\n",
        "diabetes['Outcome']=Outcome"
      ],
      "execution_count": 114,
      "outputs": []
    },
    {
      "cell_type": "code",
      "metadata": {
        "colab": {
          "base_uri": "https://localhost:8080/",
          "height": 224
        },
        "id": "QennLwrLo7Gt",
        "outputId": "11539d47-6f3b-4645-f7b0-58e818801de3"
      },
      "source": [
        "diabetes.head()"
      ],
      "execution_count": 115,
      "outputs": [
        {
          "output_type": "execute_result",
          "data": {
            "text/html": [
              "<div>\n",
              "<style scoped>\n",
              "    .dataframe tbody tr th:only-of-type {\n",
              "        vertical-align: middle;\n",
              "    }\n",
              "\n",
              "    .dataframe tbody tr th {\n",
              "        vertical-align: top;\n",
              "    }\n",
              "\n",
              "    .dataframe thead th {\n",
              "        text-align: right;\n",
              "    }\n",
              "</style>\n",
              "<table border=\"1\" class=\"dataframe\">\n",
              "  <thead>\n",
              "    <tr style=\"text-align: right;\">\n",
              "      <th></th>\n",
              "      <th>Pregnancies</th>\n",
              "      <th>Glucose</th>\n",
              "      <th>BloodPressure</th>\n",
              "      <th>SkinThickness</th>\n",
              "      <th>Insulin</th>\n",
              "      <th>BMI</th>\n",
              "      <th>DiabetesPedigreeFunction</th>\n",
              "      <th>Age</th>\n",
              "      <th>Outcome</th>\n",
              "    </tr>\n",
              "  </thead>\n",
              "  <tbody>\n",
              "    <tr>\n",
              "      <th>0</th>\n",
              "      <td>6.0</td>\n",
              "      <td>148.0</td>\n",
              "      <td>72.0</td>\n",
              "      <td>35.0</td>\n",
              "      <td>0.0</td>\n",
              "      <td>33.6</td>\n",
              "      <td>0.627</td>\n",
              "      <td>50.0</td>\n",
              "      <td>1.0</td>\n",
              "    </tr>\n",
              "    <tr>\n",
              "      <th>1</th>\n",
              "      <td>1.0</td>\n",
              "      <td>85.0</td>\n",
              "      <td>66.0</td>\n",
              "      <td>29.0</td>\n",
              "      <td>0.0</td>\n",
              "      <td>26.6</td>\n",
              "      <td>0.351</td>\n",
              "      <td>31.0</td>\n",
              "      <td>0.0</td>\n",
              "    </tr>\n",
              "    <tr>\n",
              "      <th>2</th>\n",
              "      <td>8.0</td>\n",
              "      <td>183.0</td>\n",
              "      <td>64.0</td>\n",
              "      <td>0.0</td>\n",
              "      <td>0.0</td>\n",
              "      <td>23.3</td>\n",
              "      <td>0.672</td>\n",
              "      <td>32.0</td>\n",
              "      <td>1.0</td>\n",
              "    </tr>\n",
              "    <tr>\n",
              "      <th>3</th>\n",
              "      <td>1.0</td>\n",
              "      <td>89.0</td>\n",
              "      <td>66.0</td>\n",
              "      <td>23.0</td>\n",
              "      <td>94.0</td>\n",
              "      <td>28.1</td>\n",
              "      <td>0.167</td>\n",
              "      <td>21.0</td>\n",
              "      <td>0.0</td>\n",
              "    </tr>\n",
              "    <tr>\n",
              "      <th>4</th>\n",
              "      <td>0.0</td>\n",
              "      <td>137.0</td>\n",
              "      <td>40.0</td>\n",
              "      <td>35.0</td>\n",
              "      <td>168.0</td>\n",
              "      <td>43.1</td>\n",
              "      <td>2.288</td>\n",
              "      <td>33.0</td>\n",
              "      <td>1.0</td>\n",
              "    </tr>\n",
              "  </tbody>\n",
              "</table>\n",
              "</div>"
            ],
            "text/plain": [
              "   Pregnancies  Glucose  BloodPressure  ...  DiabetesPedigreeFunction   Age  Outcome\n",
              "0          6.0    148.0           72.0  ...                     0.627  50.0      1.0\n",
              "1          1.0     85.0           66.0  ...                     0.351  31.0      0.0\n",
              "2          8.0    183.0           64.0  ...                     0.672  32.0      1.0\n",
              "3          1.0     89.0           66.0  ...                     0.167  21.0      0.0\n",
              "4          0.0    137.0           40.0  ...                     2.288  33.0      1.0\n",
              "\n",
              "[5 rows x 9 columns]"
            ]
          },
          "metadata": {
            "tags": []
          },
          "execution_count": 115
        }
      ]
    },
    {
      "cell_type": "code",
      "metadata": {
        "colab": {
          "base_uri": "https://localhost:8080/"
        },
        "id": "0ca7NAdDp1G1",
        "outputId": "fda65463-dec3-4e05-b9ad-446c78393868"
      },
      "source": [
        "diabetes.info()"
      ],
      "execution_count": 116,
      "outputs": [
        {
          "output_type": "stream",
          "text": [
            "<class 'pandas.core.frame.DataFrame'>\n",
            "RangeIndex: 768 entries, 0 to 767\n",
            "Data columns (total 9 columns):\n",
            " #   Column                    Non-Null Count  Dtype  \n",
            "---  ------                    --------------  -----  \n",
            " 0   Pregnancies               768 non-null    float64\n",
            " 1   Glucose                   768 non-null    float64\n",
            " 2   BloodPressure             768 non-null    float64\n",
            " 3   SkinThickness             768 non-null    float64\n",
            " 4   Insulin                   768 non-null    float64\n",
            " 5   BMI                       768 non-null    float64\n",
            " 6   DiabetesPedigreeFunction  768 non-null    float64\n",
            " 7   Age                       768 non-null    float64\n",
            " 8   Outcome                   768 non-null    float64\n",
            "dtypes: float64(9)\n",
            "memory usage: 54.1 KB\n"
          ],
          "name": "stdout"
        }
      ]
    },
    {
      "cell_type": "code",
      "metadata": {
        "id": "LZ9WH0L3nZHm"
      },
      "source": [
        "X=diabetes.drop(['Outcome'], axis=1)\n",
        "Y=diabetes['Outcome']"
      ],
      "execution_count": 119,
      "outputs": []
    },
    {
      "cell_type": "code",
      "metadata": {
        "id": "q4V2sH_mNcQt"
      },
      "source": [
        "seed=0\n",
        "np.random.seed(seed)\n",
        "tf.random.set_seed(seed)"
      ],
      "execution_count": 120,
      "outputs": []
    },
    {
      "cell_type": "code",
      "metadata": {
        "id": "J1ECs5weNcTf"
      },
      "source": [
        "model=Sequential()\n",
        "model.add(Dense(12, input_dim=8, activation='relu'))\n",
        "model.add(Dense(8, activation='relu'))\n",
        "model.add(Dense(1, activation='sigmoid'))"
      ],
      "execution_count": 121,
      "outputs": []
    },
    {
      "cell_type": "code",
      "metadata": {
        "id": "8g1JaTomIo8H"
      },
      "source": [
        "model.compile(loss='binary_crossentropy', optimizer='adam', metrics=['accuracy'])"
      ],
      "execution_count": 122,
      "outputs": []
    },
    {
      "cell_type": "code",
      "metadata": {
        "id": "H8UUU-RsIo-2"
      },
      "source": [
        "model.fit(X,Y, epochs=200, batch_size=10)"
      ],
      "execution_count": null,
      "outputs": []
    },
    {
      "cell_type": "code",
      "metadata": {
        "colab": {
          "base_uri": "https://localhost:8080/"
        },
        "id": "l7sxI4SeIpGC",
        "outputId": "bfd412e0-fd20-4c68-bbcb-7eb40716cc96"
      },
      "source": [
        "print(\"\\n Accuracy: %.4f\" %(model.evaluate(X,Y)[1]))"
      ],
      "execution_count": 126,
      "outputs": [
        {
          "output_type": "stream",
          "text": [
            "24/24 [==============================] - 0s 2ms/step - loss: 0.4932 - accuracy: 0.7578\n",
            "\n",
            " Accuracy: 0.7578\n"
          ],
          "name": "stdout"
        }
      ]
    },
    {
      "cell_type": "code",
      "metadata": {
        "id": "842WARp3IpIU"
      },
      "source": [
        ""
      ],
      "execution_count": null,
      "outputs": []
    },
    {
      "cell_type": "code",
      "metadata": {
        "id": "a-D1xL8QIpO1"
      },
      "source": [
        ""
      ],
      "execution_count": null,
      "outputs": []
    },
    {
      "cell_type": "markdown",
      "metadata": {
        "id": "yUKvETLd_GHz"
      },
      "source": [
        "RNN & LSTM\n",
        "--"
      ]
    },
    {
      "cell_type": "markdown",
      "metadata": {
        "id": "v4DIdLLlAu8r"
      },
      "source": [
        "LSTM은 gate가 3가지 이다. \n",
        "\n",
        "\n",
        "- input gate (입력 게이트)\n",
        "\n",
        "- forget gate (망각 게이트)\n",
        "\n",
        "- output gate (출력 게이트)\n",
        "\n",
        "input gate, forget gate에 시그모이드 함수를 넣어서 output gate로 출력한다.  (RNN은 forget gate가 없다.)"
      ]
    },
    {
      "cell_type": "code",
      "metadata": {
        "id": "7_3Nv5mC_CgM"
      },
      "source": [
        ""
      ],
      "execution_count": null,
      "outputs": []
    },
    {
      "cell_type": "code",
      "metadata": {
        "id": "dviaG1CuIG1M"
      },
      "source": [
        ""
      ],
      "execution_count": null,
      "outputs": []
    },
    {
      "cell_type": "code",
      "metadata": {
        "id": "ZQlt_lFaFm2k"
      },
      "source": [
        ""
      ],
      "execution_count": null,
      "outputs": []
    },
    {
      "cell_type": "code",
      "metadata": {
        "id": "jt7wRbwNEu0E"
      },
      "source": [
        ""
      ],
      "execution_count": null,
      "outputs": []
    }
  ]
}