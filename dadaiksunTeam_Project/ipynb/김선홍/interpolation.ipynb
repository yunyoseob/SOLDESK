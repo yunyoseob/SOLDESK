{
  "nbformat": 4,
  "nbformat_minor": 0,
  "metadata": {
    "colab": {
      "name": "interpolation.ipynb",
      "provenance": [],
      "collapsed_sections": [],
      "mount_file_id": "1t0Oqkz97CYYYCuKON6UqGvcn8BG6nTe8",
      "authorship_tag": "ABX9TyMxB8tuTfKuGatP5kKUHh5f",
      "include_colab_link": true
    },
    "kernelspec": {
      "name": "python3",
      "display_name": "Python 3"
    },
    "language_info": {
      "name": "python"
    }
  },
  "cells": [
    {
      "cell_type": "markdown",
      "metadata": {
        "id": "view-in-github",
        "colab_type": "text"
      },
      "source": [
        "<a href=\"https://colab.research.google.com/github/seonhong416/dadaiksunTeamProject/blob/main/ipynb/%EA%B9%80%EC%84%A0%ED%99%8D/interpolation.ipynb\" target=\"_parent\"><img src=\"https://colab.research.google.com/assets/colab-badge.svg\" alt=\"Open In Colab\"/></a>"
      ]
    },
    {
      "cell_type": "code",
      "metadata": {
        "colab": {
          "base_uri": "https://localhost:8080/"
        },
        "id": "BSzEB0hFBlXH",
        "outputId": "597175d1-7acc-407a-c545-e105ef938d32"
      },
      "source": [
        "!apt-get update -qq\n",
        "!apt-get install fonts-nanum* -qq\n",
        "import matplotlib.font_manager as fm\n",
        "for fontInfo in fm.fontManager.ttflist :\n",
        "  if 'Nanum' in fontInfo.name :\n",
        "    print(fontInfo.name+ \" = \" + fontInfo.fname)"
      ],
      "execution_count": 1,
      "outputs": [
        {
          "output_type": "stream",
          "text": [
            "Nanum Brush Script = /usr/share/fonts/truetype/nanum/NanumBrush.ttf\n",
            "NanumSquareRound = /usr/share/fonts/truetype/nanum/NanumSquareRoundL.ttf\n",
            "NanumGothic = /usr/share/fonts/truetype/nanum/NanumGothicLight.ttf\n",
            "NanumBarunGothic = /usr/share/fonts/truetype/nanum/NanumBarunGothicUltraLight.ttf\n",
            "NanumMyeongjo Eco = /usr/share/fonts/truetype/nanum/NanumMyeongjoEcoExtraBold.ttf\n",
            "NanumBarunGothic = /usr/share/fonts/truetype/nanum/NanumBarunGothicLight.ttf\n",
            "NanumGothicCoding = /usr/share/fonts/truetype/nanum/NanumGothicCoding-Bold.ttf\n",
            "NanumGothic = /usr/share/fonts/truetype/nanum/NanumGothic.ttf\n",
            "NanumSquare = /usr/share/fonts/truetype/nanum/NanumSquareB.ttf\n",
            "NanumBarunGothic = /usr/share/fonts/truetype/nanum/NanumBarunGothicBold.ttf\n",
            "NanumSquare = /usr/share/fonts/truetype/nanum/NanumSquareR.ttf\n",
            "NanumMyeongjo Eco = /usr/share/fonts/truetype/nanum/NanumMyeongjoEcoBold.ttf\n",
            "Nanum Pen Script = /usr/share/fonts/truetype/nanum/NanumPen.ttf\n",
            "NanumSquareRound = /usr/share/fonts/truetype/nanum/NanumSquareRoundR.ttf\n",
            "NanumMyeongjo = /usr/share/fonts/truetype/nanum/NanumMyeongjo.ttf\n",
            "NanumBarunGothic = /usr/share/fonts/truetype/nanum/NanumBarunGothic.ttf\n",
            "NanumSquare = /usr/share/fonts/truetype/nanum/NanumSquareL.ttf\n",
            "NanumGothic Eco = /usr/share/fonts/truetype/nanum/NanumGothicEcoBold.ttf\n",
            "NanumBarunpen = /usr/share/fonts/truetype/nanum/NanumBarunpenR.ttf\n",
            "NanumMyeongjo Eco = /usr/share/fonts/truetype/nanum/NanumMyeongjoEco.ttf\n",
            "NanumMyeongjo = /usr/share/fonts/truetype/nanum/NanumMyeongjoBold.ttf\n",
            "NanumSquare = /usr/share/fonts/truetype/nanum/NanumSquareEB.ttf\n",
            "NanumGothic Eco = /usr/share/fonts/truetype/nanum/NanumGothicEcoExtraBold.ttf\n",
            "NanumGothic = /usr/share/fonts/truetype/nanum/NanumGothicExtraBold.ttf\n",
            "NanumGothicCoding = /usr/share/fonts/truetype/nanum/NanumGothicCoding.ttf\n",
            "NanumGothic = /usr/share/fonts/truetype/nanum/NanumGothicBold.ttf\n",
            "NanumBarunpen = /usr/share/fonts/truetype/nanum/NanumBarunpenB.ttf\n",
            "NanumSquareRound = /usr/share/fonts/truetype/nanum/NanumSquareRoundEB.ttf\n",
            "NanumSquareRound = /usr/share/fonts/truetype/nanum/NanumSquareRoundB.ttf\n",
            "NanumGothic Eco = /usr/share/fonts/truetype/nanum/NanumGothicEco.ttf\n",
            "NanumMyeongjo = /usr/share/fonts/truetype/nanum/NanumMyeongjoExtraBold.ttf\n"
          ],
          "name": "stdout"
        }
      ]
    },
    {
      "cell_type": "code",
      "metadata": {
        "id": "DtGKCMhQBlPX"
      },
      "source": [
        "import matplotlib.font_manager as fm\n",
        "fm._rebuild()"
      ],
      "execution_count": 2,
      "outputs": []
    },
    {
      "cell_type": "markdown",
      "metadata": {
        "id": "valjwTdoWL6z"
      },
      "source": [
        "# 덕수궁"
      ]
    },
    {
      "cell_type": "code",
      "metadata": {
        "id": "V26lBMRWoSIX"
      },
      "source": [
        "import numpy as np\n",
        "import pandas as pd\n",
        "import matplotlib.pyplot as plt\n",
        "import seaborn as sns"
      ],
      "execution_count": 3,
      "outputs": []
    },
    {
      "cell_type": "code",
      "metadata": {
        "id": "G8j9m9Ymt2-j"
      },
      "source": [
        "덕수궁 = pd.read_csv('/content/drive/MyDrive/Proj_WT/DataSets/Seoul/DuckSooGung.csv')\n"
      ],
      "execution_count": 4,
      "outputs": []
    },
    {
      "cell_type": "code",
      "metadata": {
        "colab": {
          "base_uri": "https://localhost:8080/",
          "height": 48
        },
        "id": "qfZyB0JCDNbA",
        "outputId": "20a47599-3232-472f-d3cf-001f38b06542"
      },
      "source": [
        "덕수궁[덕수궁['최고 기온(°C)']==0] "
      ],
      "execution_count": 5,
      "outputs": [
        {
          "output_type": "execute_result",
          "data": {
            "text/html": [
              "<div>\n",
              "<style scoped>\n",
              "    .dataframe tbody tr th:only-of-type {\n",
              "        vertical-align: middle;\n",
              "    }\n",
              "\n",
              "    .dataframe tbody tr th {\n",
              "        vertical-align: top;\n",
              "    }\n",
              "\n",
              "    .dataframe thead th {\n",
              "        text-align: right;\n",
              "    }\n",
              "</style>\n",
              "<table border=\"1\" class=\"dataframe\">\n",
              "  <thead>\n",
              "    <tr style=\"text-align: right;\">\n",
              "      <th></th>\n",
              "      <th>date</th>\n",
              "      <th>month</th>\n",
              "      <th>최고 기온(°C)</th>\n",
              "      <th>평균 기온(°C)</th>\n",
              "      <th>최소 상대습도(%)</th>\n",
              "      <th>평균 상대습도(%)</th>\n",
              "      <th>일강수량(mm)</th>\n",
              "      <th>평균 풍속(m/s)</th>\n",
              "      <th>합계 일조 시간(hr)</th>\n",
              "      <th>최대 풍속(m/s)</th>\n",
              "      <th>합계 일사량(MJ/m2)</th>\n",
              "      <th>0.5m 지중온도(°C)</th>\n",
              "      <th>덕수궁</th>\n",
              "    </tr>\n",
              "  </thead>\n",
              "  <tbody>\n",
              "  </tbody>\n",
              "</table>\n",
              "</div>"
            ],
            "text/plain": [
              "Empty DataFrame\n",
              "Columns: [date, month, 최고 기온(°C), 평균 기온(°C), 최소 상대습도(%), 평균 상대습도(%), 일강수량(mm), 평균 풍속(m/s), 합계 일조 시간(hr), 최대 풍속(m/s), 합계 일사량(MJ/m2), 0.5m 지중온도(°C), 덕수궁]\n",
              "Index: []"
            ]
          },
          "metadata": {
            "tags": []
          },
          "execution_count": 5
        }
      ]
    },
    {
      "cell_type": "code",
      "metadata": {
        "id": "Xuc1SVZ8QT_r"
      },
      "source": [
        ""
      ],
      "execution_count": 5,
      "outputs": []
    },
    {
      "cell_type": "code",
      "metadata": {
        "colab": {
          "base_uri": "https://localhost:8080/",
          "height": 78
        },
        "id": "8wbkoZffLooh",
        "outputId": "62581efd-11ed-4b27-c2dc-bd860a232725"
      },
      "source": [
        "test_df = pd.DataFrame(columns = 덕수궁.columns)\n",
        "\n",
        "test = 덕수궁.iloc[96, 2 :] - 덕수궁.iloc[95, 2 : ]\n",
        "test['date'] = 덕수궁['date'][95]\n",
        "test['month'] = 덕수궁['month'][95]\n",
        "test = pd.DataFrame(test).T\n",
        "test\n",
        "test_df = pd.concat([test_df, test], axis = 0)\n",
        "test_df"
      ],
      "execution_count": 6,
      "outputs": [
        {
          "output_type": "execute_result",
          "data": {
            "text/html": [
              "<div>\n",
              "<style scoped>\n",
              "    .dataframe tbody tr th:only-of-type {\n",
              "        vertical-align: middle;\n",
              "    }\n",
              "\n",
              "    .dataframe tbody tr th {\n",
              "        vertical-align: top;\n",
              "    }\n",
              "\n",
              "    .dataframe thead th {\n",
              "        text-align: right;\n",
              "    }\n",
              "</style>\n",
              "<table border=\"1\" class=\"dataframe\">\n",
              "  <thead>\n",
              "    <tr style=\"text-align: right;\">\n",
              "      <th></th>\n",
              "      <th>date</th>\n",
              "      <th>month</th>\n",
              "      <th>최고 기온(°C)</th>\n",
              "      <th>평균 기온(°C)</th>\n",
              "      <th>최소 상대습도(%)</th>\n",
              "      <th>평균 상대습도(%)</th>\n",
              "      <th>일강수량(mm)</th>\n",
              "      <th>평균 풍속(m/s)</th>\n",
              "      <th>합계 일조 시간(hr)</th>\n",
              "      <th>최대 풍속(m/s)</th>\n",
              "      <th>합계 일사량(MJ/m2)</th>\n",
              "      <th>0.5m 지중온도(°C)</th>\n",
              "      <th>덕수궁</th>\n",
              "    </tr>\n",
              "  </thead>\n",
              "  <tbody>\n",
              "    <tr>\n",
              "      <th>0</th>\n",
              "      <td>201812.0</td>\n",
              "      <td>12.0</td>\n",
              "      <td>0.0</td>\n",
              "      <td>-0.290323</td>\n",
              "      <td>-0.774194</td>\n",
              "      <td>-0.174194</td>\n",
              "      <td>-2.733333</td>\n",
              "      <td>0.016129</td>\n",
              "      <td>0.487097</td>\n",
              "      <td>0.290323</td>\n",
              "      <td>1.019677</td>\n",
              "      <td>-3.206452</td>\n",
              "      <td>-19283.0</td>\n",
              "    </tr>\n",
              "  </tbody>\n",
              "</table>\n",
              "</div>"
            ],
            "text/plain": [
              "       date  month  최고 기온(°C)  ...  합계 일사량(MJ/m2)  0.5m 지중온도(°C)      덕수궁\n",
              "0  201812.0   12.0        0.0  ...       1.019677      -3.206452 -19283.0\n",
              "\n",
              "[1 rows x 13 columns]"
            ]
          },
          "metadata": {
            "tags": []
          },
          "execution_count": 6
        }
      ]
    },
    {
      "cell_type": "code",
      "metadata": {
        "colab": {
          "base_uri": "https://localhost:8080/",
          "height": 78
        },
        "id": "UTebnuPxQV-w",
        "outputId": "47a5236f-093b-4a43-bfc0-c9e950328046"
      },
      "source": [
        "test_df[test_df.columns[2:]] = test_df[test_df.columns[2:]]*2\n",
        "test_df"
      ],
      "execution_count": 7,
      "outputs": [
        {
          "output_type": "execute_result",
          "data": {
            "text/html": [
              "<div>\n",
              "<style scoped>\n",
              "    .dataframe tbody tr th:only-of-type {\n",
              "        vertical-align: middle;\n",
              "    }\n",
              "\n",
              "    .dataframe tbody tr th {\n",
              "        vertical-align: top;\n",
              "    }\n",
              "\n",
              "    .dataframe thead th {\n",
              "        text-align: right;\n",
              "    }\n",
              "</style>\n",
              "<table border=\"1\" class=\"dataframe\">\n",
              "  <thead>\n",
              "    <tr style=\"text-align: right;\">\n",
              "      <th></th>\n",
              "      <th>date</th>\n",
              "      <th>month</th>\n",
              "      <th>최고 기온(°C)</th>\n",
              "      <th>평균 기온(°C)</th>\n",
              "      <th>최소 상대습도(%)</th>\n",
              "      <th>평균 상대습도(%)</th>\n",
              "      <th>일강수량(mm)</th>\n",
              "      <th>평균 풍속(m/s)</th>\n",
              "      <th>합계 일조 시간(hr)</th>\n",
              "      <th>최대 풍속(m/s)</th>\n",
              "      <th>합계 일사량(MJ/m2)</th>\n",
              "      <th>0.5m 지중온도(°C)</th>\n",
              "      <th>덕수궁</th>\n",
              "    </tr>\n",
              "  </thead>\n",
              "  <tbody>\n",
              "    <tr>\n",
              "      <th>0</th>\n",
              "      <td>201812.0</td>\n",
              "      <td>12.0</td>\n",
              "      <td>0.0</td>\n",
              "      <td>-0.580645</td>\n",
              "      <td>-1.548387</td>\n",
              "      <td>-0.348387</td>\n",
              "      <td>-5.466667</td>\n",
              "      <td>0.032258</td>\n",
              "      <td>0.974194</td>\n",
              "      <td>0.580645</td>\n",
              "      <td>2.039355</td>\n",
              "      <td>-6.412903</td>\n",
              "      <td>-38566.0</td>\n",
              "    </tr>\n",
              "  </tbody>\n",
              "</table>\n",
              "</div>"
            ],
            "text/plain": [
              "       date  month  최고 기온(°C)  ...  합계 일사량(MJ/m2)  0.5m 지중온도(°C)      덕수궁\n",
              "0  201812.0   12.0        0.0  ...       2.039355      -6.412903 -38566.0\n",
              "\n",
              "[1 rows x 13 columns]"
            ]
          },
          "metadata": {
            "tags": []
          },
          "execution_count": 7
        }
      ]
    },
    {
      "cell_type": "code",
      "metadata": {
        "id": "_2aaBnGrHBJw"
      },
      "source": [
        "덕수궁 = 덕수궁.rename(columns = {'덕수궁' : 'target'})\n",
        "train = 덕수궁[덕수궁['date'] < 201901]\n",
        "test = 덕수궁[덕수궁['date'] >= 201901]\n"
      ],
      "execution_count": 8,
      "outputs": []
    },
    {
      "cell_type": "code",
      "metadata": {
        "id": "_YbKv7RgoW39"
      },
      "source": [
        "# def interpolation(data, n_split) :\n",
        "#   split_list = []\n",
        "#   add_data = pd.DataFrame(columns = data.columns)\n",
        "  \n",
        "#   # row 끼리 차를 계산해서 split_list에 추가\n",
        "#   for i in range(len(data) - 1) :\n",
        "#     split_list.append(pd.DataFrame((data.iloc[i+1, 2:]-data.iloc[i, 2:])/n_split).T)\n",
        "\n",
        "#   # 위에서 계산한 차를 원래의 데이터와 더해줘서 add_data와 합쳐줌\n",
        "#   for i in range(n_split) :\n",
        "#     for j in range(len(data) -1) :\n",
        "#       df = pd.DataFrame(data.iloc[j].T + split_list[j] * i) \n",
        "#       add_data = pd.concat([add_data, df], axis = 0)\n",
        "  \n",
        "#   # 마지막 2019년 12월은 없기때문에 합쳐줌\n",
        "#   add_data = pd.concat([add_data, pd.DataFrame(data.iloc[-1]).T], axis = 0)\n",
        "\n",
        "#   return add_data\n"
      ],
      "execution_count": 9,
      "outputs": []
    },
    {
      "cell_type": "code",
      "metadata": {
        "colab": {
          "base_uri": "https://localhost:8080/"
        },
        "id": "8kycL8q0ky3Z",
        "outputId": "b86e3724-e927-4ea1-d8aa-d2ce6f84f523"
      },
      "source": [
        "덕수궁.iloc[1, 2 :]"
      ],
      "execution_count": 10,
      "outputs": [
        {
          "output_type": "execute_result",
          "data": {
            "text/plain": [
              "최고 기온(°C)             5.864286\n",
              "평균 기온(°C)             1.221429\n",
              "최소 상대습도(%)           32.000000\n",
              "평균 상대습도(%)           55.228571\n",
              "일강수량(mm)              9.700000\n",
              "평균 풍속(m/s)            2.553571\n",
              "합계 일조 시간(hr)          5.950000\n",
              "최대 풍속(m/s)            5.239286\n",
              "합계 일사량(MJ/m2)        10.827857\n",
              "0.5m 지중온도(°C)         1.025000\n",
              "target           132920.000000\n",
              "Name: 1, dtype: float64"
            ]
          },
          "metadata": {
            "tags": []
          },
          "execution_count": 10
        }
      ]
    },
    {
      "cell_type": "code",
      "metadata": {
        "id": "wvNlSdyxPRmi"
      },
      "source": [
        "def interpolation(data, n_split) :\n",
        "  split_list = []\n",
        "  add_data = pd.DataFrame(columns = data.columns)\n",
        "  \n",
        "  # row 끼리 차를 계산해서 split_list에 추가\n",
        "  for i in range(len(data) - 1) :\n",
        "    test = (data.iloc[i + 1 , 2: ] - data.iloc[i, 2 :]) / n_split\n",
        "    test['date'] = data['date'][i]\n",
        "    test['month'] = data['month'][i]\n",
        "    test = pd.DataFrame(test).T\n",
        "    split_list.append(test)\n",
        "\n",
        "  # 위에서 계산한 차를 원래의 데이터와 더해줘서 add_data와 합쳐줌\n",
        "\n",
        "  for time in range(n_split) :\n",
        "    for j in range(len(data) -1) :\n",
        "      \n",
        "      dd = split_list[j]\n",
        "      # print(dd)\n",
        "      # dd[dd.columns[ : -2]] = (dd[dd.columns[ : -2]]) * (time)\n",
        "\n",
        "      df = pd.DataFrame(data.iloc[j, 2 : ].T + dd.iloc[ : ,  : -2] * time) \n",
        "      \n",
        "      df['date'] = data['date'][j]\n",
        "\n",
        "      df['month'] = data['month'][j]\n",
        "\n",
        "      add_data = pd.concat([add_data, df], axis = 0)\n",
        "\n",
        "  # 마지막 2019년 12월은 없기때문에 합쳐줌\n",
        "  add_data = pd.concat([add_data, pd.DataFrame(data.iloc[-1]).T], axis = 0)\n",
        "  add_data = add_data.sort_values('date')\n",
        "  add_data.reset_index(drop = True, inplace = True)\n",
        "  add_data['target'] = add_data['target'].astype('int64')\n",
        "  return add_data\n"
      ],
      "execution_count": 11,
      "outputs": []
    },
    {
      "cell_type": "code",
      "metadata": {
        "id": "QBBjPQNeHfWy"
      },
      "source": [
        "# def interpolation(data, n_split) :\n",
        "#   # row 끼리 차를 계산해서 split_list에 추가\n",
        "#   for i in range(len(data) - 1) :\n",
        "#     test = (data.iloc[i+1 ,:] - data.iloc[i,:]) / n_split\n",
        "#     test['date'] = data.loc[i,'date']\n",
        "#     test['month'] = data.loc[i, 'month']\n",
        "#     if i==0:\n",
        "#       split_list = pd.DataFrame(test).T\n",
        "#     else:\n",
        "#       split_list = pd.concat([split_list, pd.DataFrame(test).T])\n",
        "#   for i in range(len(data) - 1) :\n",
        "#     for j in range(1, n_split+1):\n",
        "#       dd = split_list.copy().iloc[i, 2:].apply(lambda x: x*j)\n",
        "#       if (i==0) and (j==1):\n",
        "#         df = pd.DataFrame(pd.concat([data.iloc[i,:2],dd])).T\n",
        "#       else:\n",
        "#         add = pd.DataFrame(pd.concat([data.iloc[i,:2],dd])).T\n",
        "#         df = pd.concat([df, add])\n",
        "#   df = pd.concat([df, pd.DataFrame(data.iloc[-1,:]).T])\n",
        "#   df.reset_index(drop=True, inplace=True)\n",
        "#   df['date'] =   df['date'].astype('int64')\n",
        "#   df['month'] =   df['month'].astype('int64')\n",
        "#   return df"
      ],
      "execution_count": 12,
      "outputs": []
    },
    {
      "cell_type": "code",
      "metadata": {
        "id": "UUt2gOsnvMxx",
        "colab": {
          "base_uri": "https://localhost:8080/",
          "height": 414
        },
        "outputId": "79b775f2-0507-4044-a04c-445eea21b6d1"
      },
      "source": [
        "train_add = interpolation(data = 덕수궁, n_split = 10)\n",
        "train_add = train_add[train_add['date'] < 201901]\n",
        "train_add"
      ],
      "execution_count": 13,
      "outputs": [
        {
          "output_type": "execute_result",
          "data": {
            "text/html": [
              "<div>\n",
              "<style scoped>\n",
              "    .dataframe tbody tr th:only-of-type {\n",
              "        vertical-align: middle;\n",
              "    }\n",
              "\n",
              "    .dataframe tbody tr th {\n",
              "        vertical-align: top;\n",
              "    }\n",
              "\n",
              "    .dataframe thead th {\n",
              "        text-align: right;\n",
              "    }\n",
              "</style>\n",
              "<table border=\"1\" class=\"dataframe\">\n",
              "  <thead>\n",
              "    <tr style=\"text-align: right;\">\n",
              "      <th></th>\n",
              "      <th>date</th>\n",
              "      <th>month</th>\n",
              "      <th>최고 기온(°C)</th>\n",
              "      <th>평균 기온(°C)</th>\n",
              "      <th>최소 상대습도(%)</th>\n",
              "      <th>평균 상대습도(%)</th>\n",
              "      <th>일강수량(mm)</th>\n",
              "      <th>평균 풍속(m/s)</th>\n",
              "      <th>합계 일조 시간(hr)</th>\n",
              "      <th>최대 풍속(m/s)</th>\n",
              "      <th>합계 일사량(MJ/m2)</th>\n",
              "      <th>0.5m 지중온도(°C)</th>\n",
              "      <th>target</th>\n",
              "    </tr>\n",
              "  </thead>\n",
              "  <tbody>\n",
              "    <tr>\n",
              "      <th>0</th>\n",
              "      <td>201101</td>\n",
              "      <td>1</td>\n",
              "      <td>-3.406452</td>\n",
              "      <td>-7.183871</td>\n",
              "      <td>35.129032</td>\n",
              "      <td>53.829032</td>\n",
              "      <td>1.112500</td>\n",
              "      <td>2.796774</td>\n",
              "      <td>7.048387</td>\n",
              "      <td>5.593548</td>\n",
              "      <td>9.951290</td>\n",
              "      <td>1.541935</td>\n",
              "      <td>92135</td>\n",
              "    </tr>\n",
              "    <tr>\n",
              "      <th>1</th>\n",
              "      <td>201101</td>\n",
              "      <td>1</td>\n",
              "      <td>4.937212</td>\n",
              "      <td>0.380899</td>\n",
              "      <td>32.312903</td>\n",
              "      <td>55.088618</td>\n",
              "      <td>8.841250</td>\n",
              "      <td>2.577892</td>\n",
              "      <td>6.059839</td>\n",
              "      <td>5.274712</td>\n",
              "      <td>10.740200</td>\n",
              "      <td>1.076694</td>\n",
              "      <td>128841</td>\n",
              "    </tr>\n",
              "    <tr>\n",
              "      <th>2</th>\n",
              "      <td>201101</td>\n",
              "      <td>1</td>\n",
              "      <td>4.010138</td>\n",
              "      <td>-0.459631</td>\n",
              "      <td>32.625806</td>\n",
              "      <td>54.948664</td>\n",
              "      <td>7.982500</td>\n",
              "      <td>2.602212</td>\n",
              "      <td>6.169677</td>\n",
              "      <td>5.310138</td>\n",
              "      <td>10.652544</td>\n",
              "      <td>1.128387</td>\n",
              "      <td>124763</td>\n",
              "    </tr>\n",
              "    <tr>\n",
              "      <th>3</th>\n",
              "      <td>201101</td>\n",
              "      <td>1</td>\n",
              "      <td>3.083065</td>\n",
              "      <td>-1.300161</td>\n",
              "      <td>32.938710</td>\n",
              "      <td>54.808710</td>\n",
              "      <td>7.123750</td>\n",
              "      <td>2.626532</td>\n",
              "      <td>6.279516</td>\n",
              "      <td>5.345565</td>\n",
              "      <td>10.564887</td>\n",
              "      <td>1.180081</td>\n",
              "      <td>120684</td>\n",
              "    </tr>\n",
              "    <tr>\n",
              "      <th>4</th>\n",
              "      <td>201101</td>\n",
              "      <td>1</td>\n",
              "      <td>2.155991</td>\n",
              "      <td>-2.140691</td>\n",
              "      <td>33.251613</td>\n",
              "      <td>54.668756</td>\n",
              "      <td>6.265000</td>\n",
              "      <td>2.650853</td>\n",
              "      <td>6.389355</td>\n",
              "      <td>5.380991</td>\n",
              "      <td>10.477230</td>\n",
              "      <td>1.231774</td>\n",
              "      <td>116606</td>\n",
              "    </tr>\n",
              "    <tr>\n",
              "      <th>...</th>\n",
              "      <td>...</td>\n",
              "      <td>...</td>\n",
              "      <td>...</td>\n",
              "      <td>...</td>\n",
              "      <td>...</td>\n",
              "      <td>...</td>\n",
              "      <td>...</td>\n",
              "      <td>...</td>\n",
              "      <td>...</td>\n",
              "      <td>...</td>\n",
              "      <td>...</td>\n",
              "      <td>...</td>\n",
              "      <td>...</td>\n",
              "    </tr>\n",
              "    <tr>\n",
              "      <th>955</th>\n",
              "      <td>201812</td>\n",
              "      <td>12</td>\n",
              "      <td>4.087097</td>\n",
              "      <td>-0.664516</td>\n",
              "      <td>26.329032</td>\n",
              "      <td>45.723226</td>\n",
              "      <td>2.186667</td>\n",
              "      <td>1.806452</td>\n",
              "      <td>6.545806</td>\n",
              "      <td>3.958065</td>\n",
              "      <td>8.385871</td>\n",
              "      <td>4.410323</td>\n",
              "      <td>125356</td>\n",
              "    </tr>\n",
              "    <tr>\n",
              "      <th>956</th>\n",
              "      <td>201812</td>\n",
              "      <td>12</td>\n",
              "      <td>4.087097</td>\n",
              "      <td>-0.635484</td>\n",
              "      <td>26.406452</td>\n",
              "      <td>45.740645</td>\n",
              "      <td>2.460000</td>\n",
              "      <td>1.804839</td>\n",
              "      <td>6.497097</td>\n",
              "      <td>3.929032</td>\n",
              "      <td>8.283903</td>\n",
              "      <td>4.730968</td>\n",
              "      <td>127284</td>\n",
              "    </tr>\n",
              "    <tr>\n",
              "      <th>957</th>\n",
              "      <td>201812</td>\n",
              "      <td>12</td>\n",
              "      <td>4.087097</td>\n",
              "      <td>-0.867742</td>\n",
              "      <td>25.787097</td>\n",
              "      <td>45.601290</td>\n",
              "      <td>0.273333</td>\n",
              "      <td>1.817742</td>\n",
              "      <td>6.886774</td>\n",
              "      <td>4.161290</td>\n",
              "      <td>9.099645</td>\n",
              "      <td>2.165806</td>\n",
              "      <td>111858</td>\n",
              "    </tr>\n",
              "    <tr>\n",
              "      <th>958</th>\n",
              "      <td>201812</td>\n",
              "      <td>12</td>\n",
              "      <td>4.087097</td>\n",
              "      <td>-0.693548</td>\n",
              "      <td>26.251613</td>\n",
              "      <td>45.705806</td>\n",
              "      <td>1.913333</td>\n",
              "      <td>1.808065</td>\n",
              "      <td>6.594516</td>\n",
              "      <td>3.987097</td>\n",
              "      <td>8.487839</td>\n",
              "      <td>4.089677</td>\n",
              "      <td>123428</td>\n",
              "    </tr>\n",
              "    <tr>\n",
              "      <th>959</th>\n",
              "      <td>201812</td>\n",
              "      <td>12</td>\n",
              "      <td>4.087097</td>\n",
              "      <td>-0.751613</td>\n",
              "      <td>26.096774</td>\n",
              "      <td>45.670968</td>\n",
              "      <td>1.366667</td>\n",
              "      <td>1.811290</td>\n",
              "      <td>6.691935</td>\n",
              "      <td>4.045161</td>\n",
              "      <td>8.691774</td>\n",
              "      <td>3.448387</td>\n",
              "      <td>119571</td>\n",
              "    </tr>\n",
              "  </tbody>\n",
              "</table>\n",
              "<p>960 rows × 13 columns</p>\n",
              "</div>"
            ],
            "text/plain": [
              "       date month  최고 기온(°C)  ...  합계 일사량(MJ/m2)  0.5m 지중온도(°C)  target\n",
              "0    201101     1  -3.406452  ...       9.951290       1.541935   92135\n",
              "1    201101     1   4.937212  ...      10.740200       1.076694  128841\n",
              "2    201101     1   4.010138  ...      10.652544       1.128387  124763\n",
              "3    201101     1   3.083065  ...      10.564887       1.180081  120684\n",
              "4    201101     1   2.155991  ...      10.477230       1.231774  116606\n",
              "..      ...   ...        ...  ...            ...            ...     ...\n",
              "955  201812    12   4.087097  ...       8.385871       4.410323  125356\n",
              "956  201812    12   4.087097  ...       8.283903       4.730968  127284\n",
              "957  201812    12   4.087097  ...       9.099645       2.165806  111858\n",
              "958  201812    12   4.087097  ...       8.487839       4.089677  123428\n",
              "959  201812    12   4.087097  ...       8.691774       3.448387  119571\n",
              "\n",
              "[960 rows x 13 columns]"
            ]
          },
          "metadata": {
            "tags": []
          },
          "execution_count": 13
        }
      ]
    },
    {
      "cell_type": "code",
      "metadata": {
        "colab": {
          "base_uri": "https://localhost:8080/",
          "height": 414
        },
        "id": "rmNGSUJjvRCp",
        "outputId": "63662902-943a-4f93-dfb7-b5eeffef53ce"
      },
      "source": [
        "train_add = train_add.drop(['date', 'month'], axis = 1)\n",
        "train_add"
      ],
      "execution_count": 14,
      "outputs": [
        {
          "output_type": "execute_result",
          "data": {
            "text/html": [
              "<div>\n",
              "<style scoped>\n",
              "    .dataframe tbody tr th:only-of-type {\n",
              "        vertical-align: middle;\n",
              "    }\n",
              "\n",
              "    .dataframe tbody tr th {\n",
              "        vertical-align: top;\n",
              "    }\n",
              "\n",
              "    .dataframe thead th {\n",
              "        text-align: right;\n",
              "    }\n",
              "</style>\n",
              "<table border=\"1\" class=\"dataframe\">\n",
              "  <thead>\n",
              "    <tr style=\"text-align: right;\">\n",
              "      <th></th>\n",
              "      <th>최고 기온(°C)</th>\n",
              "      <th>평균 기온(°C)</th>\n",
              "      <th>최소 상대습도(%)</th>\n",
              "      <th>평균 상대습도(%)</th>\n",
              "      <th>일강수량(mm)</th>\n",
              "      <th>평균 풍속(m/s)</th>\n",
              "      <th>합계 일조 시간(hr)</th>\n",
              "      <th>최대 풍속(m/s)</th>\n",
              "      <th>합계 일사량(MJ/m2)</th>\n",
              "      <th>0.5m 지중온도(°C)</th>\n",
              "      <th>target</th>\n",
              "    </tr>\n",
              "  </thead>\n",
              "  <tbody>\n",
              "    <tr>\n",
              "      <th>0</th>\n",
              "      <td>-3.406452</td>\n",
              "      <td>-7.183871</td>\n",
              "      <td>35.129032</td>\n",
              "      <td>53.829032</td>\n",
              "      <td>1.112500</td>\n",
              "      <td>2.796774</td>\n",
              "      <td>7.048387</td>\n",
              "      <td>5.593548</td>\n",
              "      <td>9.951290</td>\n",
              "      <td>1.541935</td>\n",
              "      <td>92135</td>\n",
              "    </tr>\n",
              "    <tr>\n",
              "      <th>1</th>\n",
              "      <td>4.937212</td>\n",
              "      <td>0.380899</td>\n",
              "      <td>32.312903</td>\n",
              "      <td>55.088618</td>\n",
              "      <td>8.841250</td>\n",
              "      <td>2.577892</td>\n",
              "      <td>6.059839</td>\n",
              "      <td>5.274712</td>\n",
              "      <td>10.740200</td>\n",
              "      <td>1.076694</td>\n",
              "      <td>128841</td>\n",
              "    </tr>\n",
              "    <tr>\n",
              "      <th>2</th>\n",
              "      <td>4.010138</td>\n",
              "      <td>-0.459631</td>\n",
              "      <td>32.625806</td>\n",
              "      <td>54.948664</td>\n",
              "      <td>7.982500</td>\n",
              "      <td>2.602212</td>\n",
              "      <td>6.169677</td>\n",
              "      <td>5.310138</td>\n",
              "      <td>10.652544</td>\n",
              "      <td>1.128387</td>\n",
              "      <td>124763</td>\n",
              "    </tr>\n",
              "    <tr>\n",
              "      <th>3</th>\n",
              "      <td>3.083065</td>\n",
              "      <td>-1.300161</td>\n",
              "      <td>32.938710</td>\n",
              "      <td>54.808710</td>\n",
              "      <td>7.123750</td>\n",
              "      <td>2.626532</td>\n",
              "      <td>6.279516</td>\n",
              "      <td>5.345565</td>\n",
              "      <td>10.564887</td>\n",
              "      <td>1.180081</td>\n",
              "      <td>120684</td>\n",
              "    </tr>\n",
              "    <tr>\n",
              "      <th>4</th>\n",
              "      <td>2.155991</td>\n",
              "      <td>-2.140691</td>\n",
              "      <td>33.251613</td>\n",
              "      <td>54.668756</td>\n",
              "      <td>6.265000</td>\n",
              "      <td>2.650853</td>\n",
              "      <td>6.389355</td>\n",
              "      <td>5.380991</td>\n",
              "      <td>10.477230</td>\n",
              "      <td>1.231774</td>\n",
              "      <td>116606</td>\n",
              "    </tr>\n",
              "    <tr>\n",
              "      <th>...</th>\n",
              "      <td>...</td>\n",
              "      <td>...</td>\n",
              "      <td>...</td>\n",
              "      <td>...</td>\n",
              "      <td>...</td>\n",
              "      <td>...</td>\n",
              "      <td>...</td>\n",
              "      <td>...</td>\n",
              "      <td>...</td>\n",
              "      <td>...</td>\n",
              "      <td>...</td>\n",
              "    </tr>\n",
              "    <tr>\n",
              "      <th>955</th>\n",
              "      <td>4.087097</td>\n",
              "      <td>-0.664516</td>\n",
              "      <td>26.329032</td>\n",
              "      <td>45.723226</td>\n",
              "      <td>2.186667</td>\n",
              "      <td>1.806452</td>\n",
              "      <td>6.545806</td>\n",
              "      <td>3.958065</td>\n",
              "      <td>8.385871</td>\n",
              "      <td>4.410323</td>\n",
              "      <td>125356</td>\n",
              "    </tr>\n",
              "    <tr>\n",
              "      <th>956</th>\n",
              "      <td>4.087097</td>\n",
              "      <td>-0.635484</td>\n",
              "      <td>26.406452</td>\n",
              "      <td>45.740645</td>\n",
              "      <td>2.460000</td>\n",
              "      <td>1.804839</td>\n",
              "      <td>6.497097</td>\n",
              "      <td>3.929032</td>\n",
              "      <td>8.283903</td>\n",
              "      <td>4.730968</td>\n",
              "      <td>127284</td>\n",
              "    </tr>\n",
              "    <tr>\n",
              "      <th>957</th>\n",
              "      <td>4.087097</td>\n",
              "      <td>-0.867742</td>\n",
              "      <td>25.787097</td>\n",
              "      <td>45.601290</td>\n",
              "      <td>0.273333</td>\n",
              "      <td>1.817742</td>\n",
              "      <td>6.886774</td>\n",
              "      <td>4.161290</td>\n",
              "      <td>9.099645</td>\n",
              "      <td>2.165806</td>\n",
              "      <td>111858</td>\n",
              "    </tr>\n",
              "    <tr>\n",
              "      <th>958</th>\n",
              "      <td>4.087097</td>\n",
              "      <td>-0.693548</td>\n",
              "      <td>26.251613</td>\n",
              "      <td>45.705806</td>\n",
              "      <td>1.913333</td>\n",
              "      <td>1.808065</td>\n",
              "      <td>6.594516</td>\n",
              "      <td>3.987097</td>\n",
              "      <td>8.487839</td>\n",
              "      <td>4.089677</td>\n",
              "      <td>123428</td>\n",
              "    </tr>\n",
              "    <tr>\n",
              "      <th>959</th>\n",
              "      <td>4.087097</td>\n",
              "      <td>-0.751613</td>\n",
              "      <td>26.096774</td>\n",
              "      <td>45.670968</td>\n",
              "      <td>1.366667</td>\n",
              "      <td>1.811290</td>\n",
              "      <td>6.691935</td>\n",
              "      <td>4.045161</td>\n",
              "      <td>8.691774</td>\n",
              "      <td>3.448387</td>\n",
              "      <td>119571</td>\n",
              "    </tr>\n",
              "  </tbody>\n",
              "</table>\n",
              "<p>960 rows × 11 columns</p>\n",
              "</div>"
            ],
            "text/plain": [
              "     최고 기온(°C)  평균 기온(°C)  최소 상대습도(%)  ...  합계 일사량(MJ/m2)  0.5m 지중온도(°C)  target\n",
              "0    -3.406452  -7.183871   35.129032  ...       9.951290       1.541935   92135\n",
              "1     4.937212   0.380899   32.312903  ...      10.740200       1.076694  128841\n",
              "2     4.010138  -0.459631   32.625806  ...      10.652544       1.128387  124763\n",
              "3     3.083065  -1.300161   32.938710  ...      10.564887       1.180081  120684\n",
              "4     2.155991  -2.140691   33.251613  ...      10.477230       1.231774  116606\n",
              "..         ...        ...         ...  ...            ...            ...     ...\n",
              "955   4.087097  -0.664516   26.329032  ...       8.385871       4.410323  125356\n",
              "956   4.087097  -0.635484   26.406452  ...       8.283903       4.730968  127284\n",
              "957   4.087097  -0.867742   25.787097  ...       9.099645       2.165806  111858\n",
              "958   4.087097  -0.693548   26.251613  ...       8.487839       4.089677  123428\n",
              "959   4.087097  -0.751613   26.096774  ...       8.691774       3.448387  119571\n",
              "\n",
              "[960 rows x 11 columns]"
            ]
          },
          "metadata": {
            "tags": []
          },
          "execution_count": 14
        }
      ]
    },
    {
      "cell_type": "code",
      "metadata": {
        "id": "DntA22nLBMIA"
      },
      "source": [
        "def check_distribution(data, column_list) :\n",
        "  for i in column_list :\n",
        "    fig, ax = plt.subplots(figsize = (10,5))\n",
        "    sns.distplot(data[i])\n",
        "    plt.rc('font', family='NanumGothic') \n",
        "    plt.title(f'{i}에 대한 분포')"
      ],
      "execution_count": 15,
      "outputs": []
    },
    {
      "cell_type": "code",
      "metadata": {
        "colab": {
          "base_uri": "https://localhost:8080/",
          "height": 1000
        },
        "id": "hdTyogw-BnoM",
        "outputId": "1294dff4-71ae-4593-cb79-d09f7637814b"
      },
      "source": [
        "check_distribution(data = train_add, column_list = train_add.columns)"
      ],
      "execution_count": 16,
      "outputs": [
        {
          "output_type": "stream",
          "text": [
            "/usr/local/lib/python3.7/dist-packages/seaborn/distributions.py:2557: FutureWarning: `distplot` is a deprecated function and will be removed in a future version. Please adapt your code to use either `displot` (a figure-level function with similar flexibility) or `histplot` (an axes-level function for histograms).\n",
            "  warnings.warn(msg, FutureWarning)\n",
            "/usr/local/lib/python3.7/dist-packages/seaborn/distributions.py:2557: FutureWarning: `distplot` is a deprecated function and will be removed in a future version. Please adapt your code to use either `displot` (a figure-level function with similar flexibility) or `histplot` (an axes-level function for histograms).\n",
            "  warnings.warn(msg, FutureWarning)\n",
            "/usr/local/lib/python3.7/dist-packages/seaborn/distributions.py:2557: FutureWarning: `distplot` is a deprecated function and will be removed in a future version. Please adapt your code to use either `displot` (a figure-level function with similar flexibility) or `histplot` (an axes-level function for histograms).\n",
            "  warnings.warn(msg, FutureWarning)\n",
            "/usr/local/lib/python3.7/dist-packages/seaborn/distributions.py:2557: FutureWarning: `distplot` is a deprecated function and will be removed in a future version. Please adapt your code to use either `displot` (a figure-level function with similar flexibility) or `histplot` (an axes-level function for histograms).\n",
            "  warnings.warn(msg, FutureWarning)\n",
            "/usr/local/lib/python3.7/dist-packages/seaborn/distributions.py:2557: FutureWarning: `distplot` is a deprecated function and will be removed in a future version. Please adapt your code to use either `displot` (a figure-level function with similar flexibility) or `histplot` (an axes-level function for histograms).\n",
            "  warnings.warn(msg, FutureWarning)\n",
            "/usr/local/lib/python3.7/dist-packages/seaborn/distributions.py:2557: FutureWarning: `distplot` is a deprecated function and will be removed in a future version. Please adapt your code to use either `displot` (a figure-level function with similar flexibility) or `histplot` (an axes-level function for histograms).\n",
            "  warnings.warn(msg, FutureWarning)\n",
            "/usr/local/lib/python3.7/dist-packages/seaborn/distributions.py:2557: FutureWarning: `distplot` is a deprecated function and will be removed in a future version. Please adapt your code to use either `displot` (a figure-level function with similar flexibility) or `histplot` (an axes-level function for histograms).\n",
            "  warnings.warn(msg, FutureWarning)\n",
            "/usr/local/lib/python3.7/dist-packages/seaborn/distributions.py:2557: FutureWarning: `distplot` is a deprecated function and will be removed in a future version. Please adapt your code to use either `displot` (a figure-level function with similar flexibility) or `histplot` (an axes-level function for histograms).\n",
            "  warnings.warn(msg, FutureWarning)\n",
            "/usr/local/lib/python3.7/dist-packages/seaborn/distributions.py:2557: FutureWarning: `distplot` is a deprecated function and will be removed in a future version. Please adapt your code to use either `displot` (a figure-level function with similar flexibility) or `histplot` (an axes-level function for histograms).\n",
            "  warnings.warn(msg, FutureWarning)\n",
            "/usr/local/lib/python3.7/dist-packages/seaborn/distributions.py:2557: FutureWarning: `distplot` is a deprecated function and will be removed in a future version. Please adapt your code to use either `displot` (a figure-level function with similar flexibility) or `histplot` (an axes-level function for histograms).\n",
            "  warnings.warn(msg, FutureWarning)\n",
            "/usr/local/lib/python3.7/dist-packages/seaborn/distributions.py:2557: FutureWarning: `distplot` is a deprecated function and will be removed in a future version. Please adapt your code to use either `displot` (a figure-level function with similar flexibility) or `histplot` (an axes-level function for histograms).\n",
            "  warnings.warn(msg, FutureWarning)\n",
            "/usr/local/lib/python3.7/dist-packages/matplotlib/backends/backend_agg.py:214: RuntimeWarning: Glyph 52572 missing from current font.\n",
            "  font.set_text(s, 0.0, flags=flags)\n",
            "/usr/local/lib/python3.7/dist-packages/matplotlib/backends/backend_agg.py:214: RuntimeWarning: Glyph 44256 missing from current font.\n",
            "  font.set_text(s, 0.0, flags=flags)\n",
            "/usr/local/lib/python3.7/dist-packages/matplotlib/backends/backend_agg.py:214: RuntimeWarning: Glyph 44592 missing from current font.\n",
            "  font.set_text(s, 0.0, flags=flags)\n",
            "/usr/local/lib/python3.7/dist-packages/matplotlib/backends/backend_agg.py:214: RuntimeWarning: Glyph 50728 missing from current font.\n",
            "  font.set_text(s, 0.0, flags=flags)\n",
            "/usr/local/lib/python3.7/dist-packages/matplotlib/backends/backend_agg.py:214: RuntimeWarning: Glyph 50640 missing from current font.\n",
            "  font.set_text(s, 0.0, flags=flags)\n",
            "/usr/local/lib/python3.7/dist-packages/matplotlib/backends/backend_agg.py:214: RuntimeWarning: Glyph 45824 missing from current font.\n",
            "  font.set_text(s, 0.0, flags=flags)\n",
            "/usr/local/lib/python3.7/dist-packages/matplotlib/backends/backend_agg.py:214: RuntimeWarning: Glyph 54620 missing from current font.\n",
            "  font.set_text(s, 0.0, flags=flags)\n",
            "/usr/local/lib/python3.7/dist-packages/matplotlib/backends/backend_agg.py:214: RuntimeWarning: Glyph 48516 missing from current font.\n",
            "  font.set_text(s, 0.0, flags=flags)\n",
            "/usr/local/lib/python3.7/dist-packages/matplotlib/backends/backend_agg.py:214: RuntimeWarning: Glyph 54252 missing from current font.\n",
            "  font.set_text(s, 0.0, flags=flags)\n",
            "/usr/local/lib/python3.7/dist-packages/matplotlib/backends/backend_agg.py:183: RuntimeWarning: Glyph 52572 missing from current font.\n",
            "  font.set_text(s, 0, flags=flags)\n",
            "/usr/local/lib/python3.7/dist-packages/matplotlib/backends/backend_agg.py:183: RuntimeWarning: Glyph 44256 missing from current font.\n",
            "  font.set_text(s, 0, flags=flags)\n",
            "/usr/local/lib/python3.7/dist-packages/matplotlib/backends/backend_agg.py:183: RuntimeWarning: Glyph 44592 missing from current font.\n",
            "  font.set_text(s, 0, flags=flags)\n",
            "/usr/local/lib/python3.7/dist-packages/matplotlib/backends/backend_agg.py:183: RuntimeWarning: Glyph 50728 missing from current font.\n",
            "  font.set_text(s, 0, flags=flags)\n",
            "/usr/local/lib/python3.7/dist-packages/matplotlib/backends/backend_agg.py:183: RuntimeWarning: Glyph 50640 missing from current font.\n",
            "  font.set_text(s, 0, flags=flags)\n",
            "/usr/local/lib/python3.7/dist-packages/matplotlib/backends/backend_agg.py:183: RuntimeWarning: Glyph 45824 missing from current font.\n",
            "  font.set_text(s, 0, flags=flags)\n",
            "/usr/local/lib/python3.7/dist-packages/matplotlib/backends/backend_agg.py:183: RuntimeWarning: Glyph 54620 missing from current font.\n",
            "  font.set_text(s, 0, flags=flags)\n",
            "/usr/local/lib/python3.7/dist-packages/matplotlib/backends/backend_agg.py:183: RuntimeWarning: Glyph 48516 missing from current font.\n",
            "  font.set_text(s, 0, flags=flags)\n",
            "/usr/local/lib/python3.7/dist-packages/matplotlib/backends/backend_agg.py:183: RuntimeWarning: Glyph 54252 missing from current font.\n",
            "  font.set_text(s, 0, flags=flags)\n",
            "/usr/local/lib/python3.7/dist-packages/matplotlib/backends/backend_agg.py:214: RuntimeWarning: Glyph 8722 missing from current font.\n",
            "  font.set_text(s, 0.0, flags=flags)\n",
            "/usr/local/lib/python3.7/dist-packages/matplotlib/backends/backend_agg.py:183: RuntimeWarning: Glyph 8722 missing from current font.\n",
            "  font.set_text(s, 0, flags=flags)\n"
          ],
          "name": "stderr"
        },
        {
          "output_type": "display_data",
          "data": {
            "image/png": "[encoded data removed]",
            "text/plain": [
              "<Figure size 720x360 with 1 Axes>"
            ]
          },
          "metadata": {
            "tags": [],
            "needs_background": "light"
          }
        },
        {
          "output_type": "display_data",
          "data": {
            "image/png": "[encoded data removed]",
            "text/plain": [
              "<Figure size 720x360 with 1 Axes>"
            ]
          },
          "metadata": {
            "tags": [],
            "needs_background": "light"
          }
        },
        {
          "output_type": "display_data",
          "data": {
            "image/png": "[encoded data removed]",
            "text/plain": [
              "<Figure size 720x360 with 1 Axes>"
            ]
          },
          "metadata": {
            "tags": [],
            "needs_background": "light"
          }
        },
        {
          "output_type": "display_data",
          "data": {
            "image/png": "[encoded data removed]",
            "text/plain": [
              "<Figure size 720x360 with 1 Axes>"
            ]
          },
          "metadata": {
            "tags": [],
            "needs_background": "light"
          }
        },
        {
          "output_type": "display_data",
          "data": {
            "image/png": "[encoded data removed]",
            "text/plain": [
              "<Figure size 720x360 with 1 Axes>"
            ]
          },
          "metadata": {
            "tags": [],
            "needs_background": "light"
          }
        },
        {
          "output_type": "display_data",
          "data": {
            "image/png": "[encoded data removed]",
            "text/plain": [
              "<Figure size 720x360 with 1 Axes>"
            ]
          },
          "metadata": {
            "tags": [],
            "needs_background": "light"
          }
        },
        {
          "output_type": "display_data",
          "data": {
            "image/png": "[encoded data removed]",
            "text/plain": [
              "<Figure size 720x360 with 1 Axes>"
            ]
          },
          "metadata": {
            "tags": [],
            "needs_background": "light"
          }
        },
        {
          "output_type": "display_data",
          "data": {
            "image/png": "[encoded data removed]",
            "text/plain": [
              "<Figure size 720x360 with 1 Axes>"
            ]
          },
          "metadata": {
            "tags": [],
            "needs_background": "light"
          }
        },
        {
          "output_type": "display_data",
          "data": {
            "image/png": "[encoded data removed]",
            "text/plain": [
              "<Figure size 720x360 with 1 Axes>"
            ]
          },
          "metadata": {
            "tags": [],
            "needs_background": "light"
          }
        },
        {
          "output_type": "display_data",
          "data": {
            "image/png": "[encoded data removed]",
            "text/plain": [
              "<Figure size 720x360 with 1 Axes>"
            ]
          },
          "metadata": {
            "tags": [],
            "needs_background": "light"
          }
        },
        {
          "output_type": "display_data",
          "data": {
            "image/png": "[encoded data removed]",
            "text/plain": [
              "<Figure size 720x360 with 1 Axes>"
            ]
          },
          "metadata": {
            "tags": [],
            "needs_background": "light"
          }
        }
      ]
    },
    {
      "cell_type": "code",
      "metadata": {
        "id": "vl8bmSUOKXa6"
      },
      "source": [
        "train = train_add\n",
        "test = test.drop(['month', 'date'], axis = 1)\n",
        "X_train, y_train = train.drop('target', axis = 1), train['target']\n",
        "X_test, y_test = test.drop('target', axis = 1), test['target']"
      ],
      "execution_count": 17,
      "outputs": []
    },
    {
      "cell_type": "code",
      "metadata": {
        "colab": {
          "base_uri": "https://localhost:8080/"
        },
        "id": "FJ5AkJSBFNJh",
        "outputId": "1276f6f1-e3d9-4efe-9d15-07df275279b0"
      },
      "source": [
        "from xgboost import XGBRegressor\n",
        "from sklearn.metrics import mean_squared_error\n",
        "\n",
        "model = XGBRegressor()\n",
        "model.fit(X_train, y_train)\n",
        "y_pred = model.predict(X_test)\n",
        "\n",
        "rmse = np.sqrt(mean_squared_error(y_test, y_pred))\n",
        "r_2 = model.score(X_test, y_test)\n",
        "\n",
        "print('rmse : ', rmse)\n",
        "print('r2 : ', r_2)"
      ],
      "execution_count": 18,
      "outputs": [
        {
          "output_type": "stream",
          "text": [
            "[07:50:03] WARNING: /workspace/src/objective/regression_obj.cu:152: reg:linear is now deprecated in favor of reg:squarederror.\n",
            "rmse :  73140.35136305832\n",
            "r2 :  -0.7752423232782757\n"
          ],
          "name": "stdout"
        }
      ]
    },
    {
      "cell_type": "markdown",
      "metadata": {
        "id": "-e5jEzNWWOzi"
      },
      "source": [
        "#창덕궁"
      ]
    },
    {
      "cell_type": "code",
      "metadata": {
        "id": "2FGyTZjKFUqO"
      },
      "source": [
        "창덕궁 = pd.read_csv('/content/drive/MyDrive/Proj_WT/DataSets/Seoul/ChangDeokGung.csv')"
      ],
      "execution_count": 19,
      "outputs": []
    },
    {
      "cell_type": "code",
      "metadata": {
        "id": "WoGHBbEcW3qg"
      },
      "source": [
        "창덕궁 = 창덕궁.rename(columns = {'창덕궁' : 'target'})\n",
        "train = 창덕궁[창덕궁['date'] < 201901]\n",
        "test = 창덕궁[창덕궁['date'] >= 201901]"
      ],
      "execution_count": 20,
      "outputs": []
    },
    {
      "cell_type": "code",
      "metadata": {
        "id": "mOfoP9eVXAsL"
      },
      "source": [
        "train_add = interpolation(data = 창덕궁, n_split = 100)\n",
        "train_add = train_add[train_add['date'] < 201901]"
      ],
      "execution_count": 21,
      "outputs": []
    },
    {
      "cell_type": "code",
      "metadata": {
        "colab": {
          "base_uri": "https://localhost:8080/"
        },
        "id": "n8plGM0AXFBC",
        "outputId": "ccb8383f-6da0-4f0d-cb62-4406948237eb"
      },
      "source": [
        "train_add = train_add.drop(['date', 'month'], axis = 1).reset_index()\n",
        "train_add = train_add.drop('index', axis = 1)\n",
        "train_add['target'] = train_add['target'].apply(lambda x : int(x))\n",
        "\n",
        "train = train_add\n",
        "test = test.drop(['month', 'date'], axis = 1)\n",
        "X_train, y_train = train.drop('target', axis = 1), train['target']\n",
        "X_test, y_test = test.drop('target', axis = 1), test['target']\n",
        "\n",
        "from xgboost import XGBRegressor\n",
        "from sklearn.metrics import mean_squared_error\n",
        "\n",
        "model = XGBRegressor()\n",
        "model.fit(X_train, y_train)\n",
        "y_pred = model.predict(X_test)\n",
        "\n",
        "rmse = np.sqrt(mean_squared_error(y_test, y_pred))\n",
        "r_2 = model.score(X_test, y_test)\n",
        "\n",
        "print('rmse : ', rmse)\n",
        "print('r2 : ', r_2)"
      ],
      "execution_count": 22,
      "outputs": [
        {
          "output_type": "stream",
          "text": [
            "[07:50:43] WARNING: /workspace/src/objective/regression_obj.cu:152: reg:linear is now deprecated in favor of reg:squarederror.\n",
            "rmse :  29766.389094921313\n",
            "r2 :  0.6460802515788134\n"
          ],
          "name": "stdout"
        }
      ]
    },
    {
      "cell_type": "markdown",
      "metadata": {
        "id": "ni-KoVCRXdiK"
      },
      "source": [
        "#창경궁"
      ]
    },
    {
      "cell_type": "code",
      "metadata": {
        "colab": {
          "base_uri": "https://localhost:8080/"
        },
        "id": "-rI4uK7BXTQP",
        "outputId": "985be88b-7856-4da1-80a7-8f53b9ca24ac"
      },
      "source": [
        "창경궁 = pd.read_csv('/content/drive/MyDrive/Proj_WT/DataSets/Seoul/ChangGyeongGung.csv')\n",
        "창경궁 = 창경궁.rename(columns = {'창경궁' : 'target'})\n",
        "train = 창경궁[창경궁['date'] < 201901]\n",
        "test = 창경궁[창경궁['date'] >= 201901]\n",
        "\n",
        "train_add = interpolation(data = 창경궁, n_split = 100)\n",
        "train_add = train_add[train_add['date'] < 201901]\n",
        "\n",
        "train_add = train_add.drop(['date', 'month'], axis = 1).reset_index()\n",
        "train_add = train_add.drop('index', axis = 1)\n",
        "train_add['target'] = train_add['target'].apply(lambda x : int(x))\n",
        "\n",
        "train = train_add\n",
        "test = test.drop(['month', 'date'], axis = 1)\n",
        "X_train, y_train = train.drop('target', axis = 1), train['target']\n",
        "X_test, y_test = test.drop('target', axis = 1), test['target']\n",
        "\n",
        "from xgboost import XGBRegressor\n",
        "from sklearn.metrics import mean_squared_error\n",
        "\n",
        "model = XGBRegressor()\n",
        "model.fit(X_train, y_train)\n",
        "y_pred = model.predict(X_test)\n",
        "\n",
        "rmse = np.sqrt(mean_squared_error(y_test, y_pred))\n",
        "r_2 = model.score(X_test, y_test)\n",
        "\n",
        "print('rmse : ', rmse)\n",
        "print('r2 : ', r_2)"
      ],
      "execution_count": 23,
      "outputs": [
        {
          "output_type": "stream",
          "text": [
            "[07:51:24] WARNING: /workspace/src/objective/regression_obj.cu:152: reg:linear is now deprecated in favor of reg:squarederror.\n",
            "rmse :  18967.585899205915\n",
            "r2 :  0.46970841312691325\n"
          ],
          "name": "stdout"
        }
      ]
    },
    {
      "cell_type": "markdown",
      "metadata": {
        "id": "yPKzPeHsX-_1"
      },
      "source": [
        "# 경복궁"
      ]
    },
    {
      "cell_type": "code",
      "metadata": {
        "colab": {
          "base_uri": "https://localhost:8080/"
        },
        "id": "cp3gQ2kCXwRV",
        "outputId": "85d57d14-b978-4866-f124-e3c5809ff72b"
      },
      "source": [
        "df = pd.read_csv('/content/drive/MyDrive/Proj_WT/DataSets/Seoul/GyeongBokGung.csv')\n",
        "df = df.rename(columns = {'경복궁' : 'target'})\n",
        "train = df[df['date'] < 201901]\n",
        "test = df[df['date'] >= 201901]\n",
        "\n",
        "train_add = interpolation(data = df, n_split = 100)\n",
        "train_add = train_add[train_add['date'] < 201901]\n",
        "\n",
        "train_add = train_add.drop(['date', 'month'], axis = 1).reset_index()\n",
        "train_add = train_add.drop('index', axis = 1)\n",
        "train_add['target'] = train_add['target'].apply(lambda x : int(x))\n",
        "\n",
        "train = train_add\n",
        "test = test.drop(['month', 'date'], axis = 1)\n",
        "X_train, y_train = train.drop('target', axis = 1), train['target']\n",
        "X_test, y_test = test.drop('target', axis = 1), test['target']\n",
        "\n",
        "from xgboost import XGBRegressor\n",
        "from sklearn.metrics import mean_squared_error\n",
        "\n",
        "model = XGBRegressor()\n",
        "model.fit(X_train, y_train)\n",
        "y_pred = model.predict(X_test)\n",
        "\n",
        "rmse = np.sqrt(mean_squared_error(y_test, y_pred))\n",
        "r_2 = model.score(X_test, y_test)\n",
        "\n",
        "print('rmse : ', rmse)\n",
        "print('r2 : ', r_2)"
      ],
      "execution_count": 24,
      "outputs": [
        {
          "output_type": "stream",
          "text": [
            "[07:52:07] WARNING: /workspace/src/objective/regression_obj.cu:152: reg:linear is now deprecated in favor of reg:squarederror.\n",
            "rmse :  87783.11975434424\n",
            "r2 :  0.22124434489777856\n"
          ],
          "name": "stdout"
        }
      ]
    },
    {
      "cell_type": "markdown",
      "metadata": {
        "id": "N-R1H2_bam01"
      },
      "source": [
        "#헌릉인릉"
      ]
    },
    {
      "cell_type": "code",
      "metadata": {
        "colab": {
          "base_uri": "https://localhost:8080/"
        },
        "id": "o4E9Tx7ZYPlk",
        "outputId": "ac6ab571-067e-45d2-dd83-842e504ddb20"
      },
      "source": [
        "df = pd.read_csv('/content/drive/MyDrive/Proj_WT/DataSets/Seoul/HeonLeungInReung.csv')\n",
        "df = df.rename(columns = {df.columns[-1] : 'target'})\n",
        "train = df[df['date'] < 201901]\n",
        "test = df[df['date'] >= 201901]\n",
        "\n",
        "train_add = interpolation(data = df, n_split = 100)\n",
        "train_add = train_add[train_add['date'] < 201901]\n",
        "\n",
        "train_add = train_add.drop(['date', 'month'], axis = 1).reset_index()\n",
        "train_add = train_add.drop('index', axis = 1)\n",
        "train_add['target'] = train_add['target'].apply(lambda x : int(x))\n",
        "\n",
        "train = train_add\n",
        "test = test.drop(['month', 'date'], axis = 1)\n",
        "X_train, y_train = train.drop('target', axis = 1), train['target']\n",
        "X_test, y_test = test.drop('target', axis = 1), test['target']\n",
        "\n",
        "from xgboost import XGBRegressor\n",
        "from sklearn.metrics import mean_squared_error\n",
        "\n",
        "model = XGBRegressor()\n",
        "model.fit(X_train, y_train)\n",
        "y_pred = model.predict(X_test)\n",
        "\n",
        "rmse = np.sqrt(mean_squared_error(y_test, y_pred))\n",
        "r_2 = model.score(X_test, y_test)\n",
        "\n",
        "print('rmse : ', rmse)\n",
        "print('r2 : ', r_2)"
      ],
      "execution_count": 25,
      "outputs": [
        {
          "output_type": "stream",
          "text": [
            "[07:52:49] WARNING: /workspace/src/objective/regression_obj.cu:152: reg:linear is now deprecated in favor of reg:squarederror.\n",
            "rmse :  1523.5089431911497\n",
            "r2 :  0.4548286822490037\n"
          ],
          "name": "stdout"
        }
      ]
    },
    {
      "cell_type": "markdown",
      "metadata": {
        "id": "fIFblrRFa6O1"
      },
      "source": [
        "# 종묘"
      ]
    },
    {
      "cell_type": "code",
      "metadata": {
        "id": "lApu3Z7_a00S",
        "colab": {
          "base_uri": "https://localhost:8080/"
        },
        "outputId": "d560b538-e137-40b3-89f4-720e3270f852"
      },
      "source": [
        "df = pd.read_csv('/content/drive/MyDrive/Proj_WT/DataSets/Seoul/JongMyo.csv')\n",
        "df = df.rename(columns = {df.columns[-1] : 'target'})\n",
        "train = df[df['date'] < 201901]\n",
        "test = df[df['date'] >= 201901]\n",
        "\n",
        "train_add = interpolation(data = df, n_split = 100)\n",
        "train_add = train_add[train_add['date'] < 201901]\n",
        "\n",
        "train_add = train_add.drop(['date', 'month'], axis = 1).reset_index()\n",
        "train_add = train_add.drop('index', axis = 1)\n",
        "train_add['target'] = train_add['target'].apply(lambda x : int(x))\n",
        "\n",
        "train = train_add\n",
        "test = test.drop(['month', 'date'], axis = 1)\n",
        "X_train, y_train = train.drop('target', axis = 1), train['target']\n",
        "X_test, y_test = test.drop('target', axis = 1), test['target']\n",
        "\n",
        "from xgboost import XGBRegressor\n",
        "from sklearn.metrics import mean_squared_error\n",
        "\n",
        "model = XGBRegressor()\n",
        "model.fit(X_train, y_train)\n",
        "y_pred = model.predict(X_test)\n",
        "\n",
        "rmse = np.sqrt(mean_squared_error(y_test, y_pred))\n",
        "r_2 = model.score(X_test, y_test)\n",
        "\n",
        "print('rmse : ', rmse)\n",
        "print('r2 : ', r_2)"
      ],
      "execution_count": 26,
      "outputs": [
        {
          "output_type": "stream",
          "text": [
            "[07:53:30] WARNING: /workspace/src/objective/regression_obj.cu:152: reg:linear is now deprecated in favor of reg:squarederror.\n",
            "rmse :  11158.584645538685\n",
            "r2 :  -0.07573801010416137\n"
          ],
          "name": "stdout"
        }
      ]
    },
    {
      "cell_type": "markdown",
      "metadata": {
        "id": "jZblPMWbAvEZ"
      },
      "source": [
        "# 남산골 한옥마을"
      ]
    },
    {
      "cell_type": "code",
      "metadata": {
        "colab": {
          "base_uri": "https://localhost:8080/"
        },
        "id": "eG3izcShAmrf",
        "outputId": "00406200-005a-4899-b8f6-bc30e634e59e"
      },
      "source": [
        "df = pd.read_csv('/content/drive/MyDrive/Proj_WT/DataSets/Seoul/NamSanGolHanOkVillage.csv')\n",
        "df = df.rename(columns = {df.columns[-1] : 'target'})\n",
        "train = df[df['date'] < 201901]\n",
        "test = df[df['date'] >= 201901]\n",
        "\n",
        "train_add = interpolation(data = df, n_split = 100)\n",
        "train_add = train_add[train_add['date'] < 201901]\n",
        "\n",
        "train_add = train_add.drop(['date', 'month'], axis = 1).reset_index()\n",
        "train_add = train_add.drop('index', axis = 1)\n",
        "train_add['target'] = train_add['target'].apply(lambda x : int(x))\n",
        "\n",
        "train = train_add\n",
        "test = test.drop(['month', 'date'], axis = 1)\n",
        "X_train, y_train = train.drop('target', axis = 1), train['target']\n",
        "X_test, y_test = test.drop('target', axis = 1), test['target']\n",
        "\n",
        "from xgboost import XGBRegressor\n",
        "from sklearn.metrics import mean_squared_error\n",
        "\n",
        "model = XGBRegressor()\n",
        "model.fit(X_train, y_train)\n",
        "y_pred = model.predict(X_test)\n",
        "\n",
        "rmse = np.sqrt(mean_squared_error(y_test, y_pred))\n",
        "r_2 = model.score(X_test, y_test)\n",
        "\n",
        "print('rmse : ', rmse)\n",
        "print('r2 : ', r_2)"
      ],
      "execution_count": 27,
      "outputs": [
        {
          "output_type": "stream",
          "text": [
            "[07:54:11] WARNING: /workspace/src/objective/regression_obj.cu:152: reg:linear is now deprecated in favor of reg:squarederror.\n",
            "rmse :  28491.791034485635\n",
            "r2 :  0.37952430096905043\n"
          ],
          "name": "stdout"
        }
      ]
    },
    {
      "cell_type": "markdown",
      "metadata": {
        "id": "iOPphMnDFEZx"
      },
      "source": [
        ""
      ]
    },
    {
      "cell_type": "code",
      "metadata": {
        "id": "_Ii898HyBXn7"
      },
      "source": [
        ""
      ],
      "execution_count": 27,
      "outputs": []
    }
  ]
}