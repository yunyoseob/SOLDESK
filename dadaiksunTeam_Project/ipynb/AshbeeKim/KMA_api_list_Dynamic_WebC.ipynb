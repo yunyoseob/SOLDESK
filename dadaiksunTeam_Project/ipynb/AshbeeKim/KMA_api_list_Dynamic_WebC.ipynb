{
  "nbformat": 4,
  "nbformat_minor": 0,
  "metadata": {
    "colab": {
      "name": "KMA_api_list_Dynamic_WebC.ipynb",
      "provenance": [],
      "collapsed_sections": [],
      "toc_visible": true,
      "authorship_tag": "ABX9TyMgngXkkQeUCaZFxua2lG/f",
      "include_colab_link": true
    },
    "kernelspec": {
      "name": "python3",
      "display_name": "Python 3"
    },
    "language_info": {
      "name": "python"
    }
  },
  "cells": [
    {
      "cell_type": "markdown",
      "metadata": {
        "id": "view-in-github",
        "colab_type": "text"
      },
      "source": [
        "<a href=\"https://colab.research.google.com/github/AshbeeKim/dadaiksunTeamProject/blob/main/ipynb/AshbeeKim/KMA_api_list_Dynamic_WebC.ipynb\" target=\"_parent\"><img src=\"https://colab.research.google.com/assets/colab-badge.svg\" alt=\"Open In Colab\"/></a>"
      ]
    },
    {
      "cell_type": "markdown",
      "metadata": {
        "id": "_QNiRY_iP1dq"
      },
      "source": [
        "# Access to Google Drive for co-working"
      ]
    },
    {
      "cell_type": "markdown",
      "metadata": {
        "id": "XX_bLfBLP_xR"
      },
      "source": [
        "* Purpose : 목적에 맞는 기상청 api 자료를 확인"
      ]
    },
    {
      "cell_type": "markdown",
      "metadata": {
        "id": "MGG52w1JZtzv"
      },
      "source": [
        "[나중에 읽어볼 웹크롤링 관련 링크]https://velog.io/@mowinckel/%EC%9B%B9-%ED%81%AC%EB%A1%A4%EB%A7%81-I"
      ]
    },
    {
      "cell_type": "code",
      "metadata": {
        "colab": {
          "base_uri": "https://localhost:8080/"
        },
        "id": "4_XYTWh6P2nS",
        "outputId": "b9de13fb-acf5-4a4e-8761-4f092644d1c9"
      },
      "source": [
        "import os\n",
        "\n",
        "from google.colab import drive  \n",
        "# 구글 드라이브 접근\n",
        "ROOT = \"/content/drive\"\n",
        "drive.mount(ROOT)\n",
        "\n",
        "from os.path import join\n",
        "# 개인 폴더\n",
        "PROJECT = \"MyDrive/Task/Proj_WeatherGo\"\n",
        "PROJ_PATH = join(ROOT, PROJECT)\n",
        "\n",
        "CHK_PATH = join(PROJ_PATH, \"MINE\")\n",
        "\n",
        "# 공유 폴더\n",
        "CO_WORK = \"MyDrive/Proj_WT\"\n",
        "CW_PATH = join(ROOT, CO_WORK)\n",
        "\n",
        "# CODES = \"Codes\"     # 코드/마크다운 공유 및 에러 해결 목적\n",
        "# CODE_PATH = join(CW_PATH, CODES)\n",
        "# # !mkdir \"{CODE_PATH}\"\n",
        "\n",
        "PAPERS = \"Papers\"   # 논문 공유 폴더\n",
        "PAPER_PATH = join(CW_PATH, PAPERS)\n",
        "# !mkdir \"{PAPER_PATH}\"\n",
        "\n",
        "DATAS = \"DataSets\"  # 데이터 공유 폴더\n",
        "DATA_PATH = join(CW_PATH, DATAS)\n",
        "# !mkdir \"{DATA_PATH}\"\n",
        "\n",
        "DA = \"Analysis\"     # 분석 공유 폴더\n",
        "DA_PATH = join(CW_PATH, DA)\n",
        "# !mkdir \"{DA_PATH}\""
      ],
      "execution_count": null,
      "outputs": [
        {
          "output_type": "stream",
          "text": [
            "Mounted at /content/drive\n"
          ],
          "name": "stdout"
        }
      ]
    },
    {
      "cell_type": "markdown",
      "metadata": {
        "id": "zHX33LmnQKP8"
      },
      "source": [
        "# Baseline"
      ]
    },
    {
      "cell_type": "markdown",
      "metadata": {
        "id": "dnN6_fUAEECc"
      },
      "source": [
        "## install packages"
      ]
    },
    {
      "cell_type": "code",
      "metadata": {
        "colab": {
          "base_uri": "https://localhost:8080/"
        },
        "id": "dztB1FlyFhDe",
        "outputId": "595d4c03-5950-4e4d-a2b0-5fa8321682fb"
      },
      "source": [
        "#파이썬 위치\n",
        "!which python\n",
        "\n",
        "#파이썬 버전\n",
        "!python -V\n",
        "\n",
        "!which pip\n",
        "\n",
        "# colab에 기본적으로 깔려있는 프로그램\n",
        "# !ls /usr/lib/"
      ],
      "execution_count": null,
      "outputs": [
        {
          "output_type": "stream",
          "text": [
            "/usr/local/bin/python\n",
            "Python 3.7.10\n",
            "/usr/local/bin/pip\n"
          ],
          "name": "stdout"
        }
      ]
    },
    {
      "cell_type": "code",
      "metadata": {
        "id": "vebRLQ23EuUL",
        "colab": {
          "base_uri": "https://localhost:8080/"
        },
        "outputId": "aad12a20-4c9d-4815-d91e-00422534243a"
      },
      "source": [
        "# Base\n",
        "import sys\n",
        "import re\n",
        "\n",
        "if 'google.colab' in sys.modules:\n",
        "  !apt-get update\n",
        "  !apt install chromium-chromedriver\n",
        "  !cp /usr/lib/chromium-browser/chromedriver /usr/bin\n",
        "  !pip install selenium\n",
        "  !pip install xmltodict\n",
        "\n",
        "import time\n",
        "import random\n",
        "import math\n",
        "import ast\n",
        "from ast import literal_eval\n",
        "\n",
        "if 'ipykernel' in sys.modules:\n",
        "    from tqdm.notebook import tqdm\n",
        "else:\n",
        "    from tqdm import tqdm\n",
        "\n",
        "# DataFrame and Visualization\n",
        "import csv\n",
        "import numpy as np\n",
        "import pandas as pd\n",
        "\n",
        "import matplotlib.pyplot as plt\n",
        "%matplotlib inline\n",
        "from IPython.core.display import display, HTML\n",
        "\n",
        "# Web Scraping(Web Crawling)\n",
        "import json\n",
        "import requests\n",
        "from bs4 import BeautifulSoup as BS\n",
        "\n",
        "import urllib\n",
        "import urllib.request\n",
        "from urllib.request import urlopen\n",
        "from urllib.parse import urlencode, unquote, quote_plus\n",
        "from urllib.error import HTTPError, URLError\n",
        "\n",
        "import xmltodict\n",
        "import xml.dom.minidom\n",
        "from xml.etree.ElementTree import parse\n",
        "\n",
        "import selenium\n",
        "from selenium import webdriver\n",
        "from selenium.webdriver.common.by import By\n",
        "from selenium.webdriver.support.ui import WebDriverWait\n",
        "from selenium.webdriver.support import expected_conditions as EC\n",
        "from selenium.webdriver.common.keys import Keys"
      ],
      "execution_count": null,
      "outputs": [
        {
          "output_type": "stream",
          "text": [
            "Hit:1 https://cloud.r-project.org/bin/linux/ubuntu bionic-cran40/ InRelease\n",
            "Hit:2 http://security.ubuntu.com/ubuntu bionic-security InRelease\n",
            "Ign:3 https://developer.download.nvidia.com/compute/cuda/repos/ubuntu1804/x86_64  InRelease\n",
            "Ign:4 https://developer.download.nvidia.com/compute/machine-learning/repos/ubuntu1804/x86_64  InRelease\n",
            "Hit:5 https://developer.download.nvidia.com/compute/cuda/repos/ubuntu1804/x86_64  Release\n",
            "Hit:6 http://ppa.launchpad.net/c2d4u.team/c2d4u4.0+/ubuntu bionic InRelease\n",
            "Hit:7 https://developer.download.nvidia.com/compute/machine-learning/repos/ubuntu1804/x86_64  Release\n",
            "Hit:8 http://archive.ubuntu.com/ubuntu bionic InRelease\n",
            "Hit:9 http://archive.ubuntu.com/ubuntu bionic-updates InRelease\n",
            "Hit:10 http://ppa.launchpad.net/cran/libgit2/ubuntu bionic InRelease\n",
            "Hit:11 http://archive.ubuntu.com/ubuntu bionic-backports InRelease\n",
            "Hit:12 http://ppa.launchpad.net/deadsnakes/ppa/ubuntu bionic InRelease\n",
            "Hit:14 http://ppa.launchpad.net/graphics-drivers/ppa/ubuntu bionic InRelease\n",
            "Reading package lists... Done\n",
            "Reading package lists... Done\n",
            "Building dependency tree       \n",
            "Reading state information... Done\n",
            "chromium-chromedriver is already the newest version (91.0.4472.101-0ubuntu0.18.04.1).\n",
            "0 upgraded, 0 newly installed, 0 to remove and 81 not upgraded.\n",
            "cp: '/usr/lib/chromium-browser/chromedriver' and '/usr/bin/chromedriver' are the same file\n",
            "Requirement already satisfied: selenium in /usr/local/lib/python3.7/dist-packages (3.141.0)\n",
            "Requirement already satisfied: urllib3 in /usr/local/lib/python3.7/dist-packages (from selenium) (1.24.3)\n",
            "Collecting xmltodict\n",
            "  Downloading https://files.pythonhosted.org/packages/28/fd/30d5c1d3ac29ce229f6bdc40bbc20b28f716e8b363140c26eff19122d8a5/xmltodict-0.12.0-py2.py3-none-any.whl\n",
            "Installing collected packages: xmltodict\n",
            "Successfully installed xmltodict-0.12.0\n"
          ],
          "name": "stdout"
        }
      ]
    },
    {
      "cell_type": "markdown",
      "metadata": {
        "id": "0g0rU5CKPPSF"
      },
      "source": [
        "# KMA(한국기상청)_정적크롤링(requests, BeautifulSoup)"
      ]
    },
    {
      "cell_type": "markdown",
      "metadata": {
        "id": "_H-qeiL4UR6s"
      },
      "source": [
        "## Main Page"
      ]
    },
    {
      "cell_type": "markdown",
      "metadata": {
        "id": "C9QnqI6pSjhf"
      },
      "source": [
        "[link] https://www.weather.go.kr/w/index.do"
      ]
    },
    {
      "cell_type": "code",
      "metadata": {
        "id": "1JtmXRVfSyei"
      },
      "source": [
        "mainHP = \"https://www.weather.go.kr/w/index.do\""
      ],
      "execution_count": null,
      "outputs": []
    },
    {
      "cell_type": "markdown",
      "metadata": {
        "id": "jiPj2bVATlHB"
      },
      "source": [
        "데이터 품질 현황을 보면, 종관기상관측 데이터가 방재기상관측 데이터 대비 정확도율이 높음(거의 100%에 수렴함)"
      ]
    },
    {
      "cell_type": "markdown",
      "metadata": {
        "id": "-9PsdiWcUUgU"
      },
      "source": [
        "## Data Page"
      ]
    },
    {
      "cell_type": "code",
      "metadata": {
        "id": "_BtZLFnOUW7e"
      },
      "source": [
        "DataP = \"https://data.kma.go.kr/data/grnd/selectAsosRltmList.do?pgmNo=36\""
      ],
      "execution_count": null,
      "outputs": []
    },
    {
      "cell_type": "code",
      "metadata": {
        "id": "i9COZbd6Ua9O"
      },
      "source": [
        "req = requests.get(DataP).text"
      ],
      "execution_count": null,
      "outputs": []
    },
    {
      "cell_type": "code",
      "metadata": {
        "id": "qFP-goFmUmJm"
      },
      "source": [
        "soup = BS(req, \"html.parser\") #lxml"
      ],
      "execution_count": null,
      "outputs": []
    },
    {
      "cell_type": "markdown",
      "metadata": {
        "id": "ScYj6eFRWKJV"
      },
      "source": [
        "### Data Titles"
      ]
    },
    {
      "cell_type": "code",
      "metadata": {
        "id": "jirR5AeIUxp2"
      },
      "source": [
        "title = []\n",
        "titles = soup.find_all(\"a\", {\"class\":\"d1 ico_aft\"})\n",
        "for t in titles:\n",
        "  title.append(t.text)"
      ],
      "execution_count": null,
      "outputs": []
    },
    {
      "cell_type": "markdown",
      "metadata": {
        "id": "awRYO7GdWQU0"
      },
      "source": [
        "### initialize list and DF using Titles"
      ]
    },
    {
      "cell_type": "code",
      "metadata": {
        "id": "xbJ5h39QV91d"
      },
      "source": [
        "#List\n",
        "for t_lst in title:\n",
        "  locals()[f\"lst_{t_lst}\"] = []\n",
        "\n",
        "#DataFrame\n",
        "for t_df in title:\n",
        "  locals()[f\"df_{t_df}\"] = pd.DataFrame()"
      ],
      "execution_count": null,
      "outputs": []
    },
    {
      "cell_type": "markdown",
      "metadata": {
        "id": "vAiQZlpkWb8e"
      },
      "source": [
        "### Data List"
      ]
    },
    {
      "cell_type": "markdown",
      "metadata": {
        "id": "KbFyDHyQWg5B"
      },
      "source": [
        "우리가 사용하고자 하는 데이터는 예측값이 아닌 관측값으로 확인하는 것이기 때문에 우선 기상관측 데이터 목록만 불러옴"
      ]
    },
    {
      "cell_type": "code",
      "metadata": {
        "id": "iYEB5UL9c9cI"
      },
      "source": [
        "#기상관측 : 5개의 리스트\n",
        "\n",
        "for child in range(1, 6):\n",
        "  lst = soup.select_one(f\"#snb > nav > ul > li.it_d1.on > ul > li:nth-of-type({child}) > a.d2\").text\n",
        "  lst_기상관측.append(lst)\n",
        "\n",
        "# nth-child -> nth-of-type\n",
        "#snb > nav > ul > li.it_d1.on > ul > li:nth-child(1) > a.d2"
      ],
      "execution_count": null,
      "outputs": []
    },
    {
      "cell_type": "code",
      "metadata": {
        "colab": {
          "base_uri": "https://localhost:8080/"
        },
        "id": "BP8gGxzPeuyX",
        "outputId": "41d8d20c-2838-4831-d7b9-91faaa0fada4"
      },
      "source": [
        "lst_기상관측"
      ],
      "execution_count": null,
      "outputs": [
        {
          "output_type": "execute_result",
          "data": {
            "text/plain": [
              "['지상', '해양', '고층', '항공', '세계기상전문(GTS)']"
            ]
          },
          "metadata": {
            "tags": []
          },
          "execution_count": 50
        }
      ]
    },
    {
      "cell_type": "code",
      "metadata": {
        "colab": {
          "base_uri": "https://localhost:8080/"
        },
        "id": "f7eUfLGlf94A",
        "outputId": "8c2793a6-d2f5-4713-c299-e4200aba20e2"
      },
      "source": [
        "#List\n",
        "for idx, l_lst in enumerate(lst_기상관측):\n",
        "  locals()[f\"lst_{l_lst}\"] = []\n",
        "  lists_a = soup.select(f\"#snb > nav > ul > li.it_d1.on > ul > li:nth-of-type({idx+1}) > ul > li\")\n",
        "  for index in range(1, len(lists_a)+1):\n",
        "    lst = soup.select_one(f\"#snb > nav > ul > li.it_d1.on > ul > li:nth-of-type({idx+1}) > ul > li:nth-of-type({index}) > a\").text\n",
        "    # soup.select로만 하면 list의 형태로 입력받아서 .text로 안의 글자만 불러 올 수 없음\n",
        "    locals()[f\"lst_{l_lst}\"].append(lst)\n",
        "  print(f\"'{l_lst} 기상 데이터'의 종류로는\",locals()[f\"lst_{l_lst}\"],\"가 있습니다.\\n\")\n",
        "  print(\"=\"*200)\n",
        "\n",
        "#snb > nav > ul > li.it_d1.on > ul > li.it_d2.on > ul > li.on > a #지상 list에서 들어간 기상관측종류\n",
        "#snb > nav > ul > li.it_d1.on > ul > li.it_d2.hv > ul > li:nth-child(2) > a #해양 list에서 들어간 기상관측종류\n",
        "#snb > nav > ul > li.it_d1.on > ul > li:nth-child(2) > ul > li:nth-child(2) > a"
      ],
      "execution_count": null,
      "outputs": [
        {
          "output_type": "stream",
          "text": [
            "'지상 기상 데이터'의 종류로는 ['종관기상관측(ASOS)', '방재기상관측(AWS)', '농업기상관측(AAOS)', '북한기상관측', '공공기관 기상관측', '계절관측', '황사관측(PM10)', '낙뢰관측'] 가 있습니다.\n",
            "\n",
            "========================================================================================================================================================================================================\n",
            "'해양 기상 데이터'의 종류로는 ['해양기상부이', '등표기상관측', '파고부이'] 가 있습니다.\n",
            "\n",
            "========================================================================================================================================================================================================\n",
            "'고층 기상 데이터'의 종류로는 ['레윈존데', '연직바람관측'] 가 있습니다.\n",
            "\n",
            "========================================================================================================================================================================================================\n",
            "'항공 기상 데이터'의 종류로는 ['공항기상관측(AMOS)'] 가 있습니다.\n",
            "\n",
            "========================================================================================================================================================================================================\n",
            "'세계기상전문(GTS) 기상 데이터'의 종류로는 ['지상(SYNOP)', '부이(BUOY)', '고층(TEMP)', '태풍예보(TYP)', '위험기상정보(SIGMET)', '기후(CLIMAT)'] 가 있습니다.\n",
            "\n",
            "========================================================================================================================================================================================================\n"
          ],
          "name": "stdout"
        }
      ]
    },
    {
      "cell_type": "markdown",
      "metadata": {
        "id": "f68Sn--ylFbo"
      },
      "source": [
        "# KMA(한국기상청)_동적크롤링(selenium, json)"
      ]
    },
    {
      "cell_type": "markdown",
      "metadata": {
        "id": "NwnYFw95mGuB"
      },
      "source": [
        "## Colab WebC Setup"
      ]
    },
    {
      "cell_type": "code",
      "metadata": {
        "id": "UiIoM5GISiiH"
      },
      "source": [
        "c_options = webdriver.ChromeOptions ()\n",
        "c_options.add_argument ('--headless')\n",
        "c_options.add_argument ('--no-sandbox')\n",
        "c_options.add_argument ('--disable-dev-shm-usage')\n",
        "\n",
        "# wd = webdriver.Chrome('/content/chromedriver', options=c_options)\n",
        "# wd = webdriver.Chrome('/usr/bin/chromedriver', options=c_options)"
      ],
      "execution_count": null,
      "outputs": []
    },
    {
      "cell_type": "markdown",
      "metadata": {
        "id": "yMi1vOUelyuq"
      },
      "source": [
        "## Api List Page"
      ]
    },
    {
      "cell_type": "markdown",
      "metadata": {
        "id": "1GD0BzJ7k__-"
      },
      "source": [
        "api가 있다면 쉽게 활용하는 편이 훨씬 편하지 않을까?"
      ]
    },
    {
      "cell_type": "code",
      "metadata": {
        "id": "r0x1fQDFmS6T"
      },
      "source": [
        "wd = webdriver.Chrome('chromedriver', options=c_options)"
      ],
      "execution_count": null,
      "outputs": []
    },
    {
      "cell_type": "code",
      "metadata": {
        "id": "MW-MiYSMk_oN"
      },
      "source": [
        "kmaapiP = \"https://data.kma.go.kr/api/selectApiList.do\""
      ],
      "execution_count": null,
      "outputs": []
    },
    {
      "cell_type": "code",
      "metadata": {
        "colab": {
          "base_uri": "https://localhost:8080/"
        },
        "id": "p82332mnmZXc",
        "outputId": "fd369c79-1ccb-46fe-e6ff-b76a19a8e6cc"
      },
      "source": [
        "wd.get(kmaapiP)\n",
        "wd.implicitly_wait(random.randint(2,6)) #give some time sleep randomly 2 secs to 6secs\n",
        "soup = BS(wd.page_source, \"html.parser\")\n",
        "print(f\"Accessed URL : [{kmaapiP}]\")"
      ],
      "execution_count": null,
      "outputs": [
        {
          "output_type": "stream",
          "text": [
            "Accessed URL : [https://data.kma.go.kr/api/selectApiList.do]\n"
          ],
          "name": "stdout"
        }
      ]
    },
    {
      "cell_type": "code",
      "metadata": {
        "colab": {
          "base_uri": "https://localhost:8080/"
        },
        "id": "FKE9iczamscB",
        "outputId": "fd5d30fe-cde9-46bd-e1c2-6a58f7532459"
      },
      "source": [
        "#페이지에서 주석 보는뎈ㅋㅋㅋㅋ겁나 웃김\n",
        "  #\"<!--디자이너가 주다 말았네....-->\"에서 현웃 터짐ㅋㅋㅋㅋㅋ \n",
        "\n",
        "total_cnt = wd.find_element_by_css_selector(\"#schForm > div > div.total > b\").text.split(\" \")[1]\n",
        "print(f\"활용 가능한 전체 api의 수 : {total_cnt}\")\n",
        "wd.implicitly_wait(random.randint(2,6))"
      ],
      "execution_count": null,
      "outputs": [
        {
          "output_type": "stream",
          "text": [
            "활용 가능한 전체 api의 수 : 34건\n"
          ],
          "name": "stdout"
        }
      ]
    },
    {
      "cell_type": "code",
      "metadata": {
        "colab": {
          "base_uri": "https://localhost:8080/"
        },
        "id": "JyGlMkT4Ii4E",
        "outputId": "c510640e-3126-46a8-a4e8-4bd95fda4f0d"
      },
      "source": [
        "lst_pages = wd.find_element_by_css_selector(\"#wrap_content > div.wrap_itm.board > div.ft_lst > div > ul\").text.split('\\n')\n",
        "# 단, string 형태로 저장됨\n",
        "\n",
        "wd.implicitly_wait(random.randint(2,6))"
      ],
      "execution_count": null,
      "outputs": [
        {
          "output_type": "stream",
          "text": [
            "['1', '2', '3', '4'] <class 'str'>\n"
          ],
          "name": "stdout"
        }
      ]
    },
    {
      "cell_type": "code",
      "metadata": {
        "id": "lwSvtOmLKoGH"
      },
      "source": [
        "\n",
        "\n",
        "#wrap_content > div.wrap_itm.board > div.ft_lst > div > ul > li.on > span"
      ],
      "execution_count": null,
      "outputs": []
    },
    {
      "cell_type": "code",
      "metadata": {
        "colab": {
          "base_uri": "https://localhost:8080/"
        },
        "id": "Zz4pe8FvGYax",
        "outputId": "190372fb-658c-41e5-e9ad-57a942cee4b9"
      },
      "source": [
        "wd.close()\n",
        "print(f\"Closed URL : [{kmaapiP}]\")\n",
        "# Once closed URL page, should re-run \"webdriver.Chrome('chromedriver', options=c_options)\""
      ],
      "execution_count": null,
      "outputs": [
        {
          "output_type": "stream",
          "text": [
            "Closed URL : [https://data.kma.go.kr/api/selectApiList.do]\n"
          ],
          "name": "stdout"
        }
      ]
    },
    {
      "cell_type": "code",
      "metadata": {
        "id": "N4qchOKgU2Hr"
      },
      "source": [
        "def saveToFile(filename, df):\n",
        "  with open()"
      ],
      "execution_count": null,
      "outputs": []
    },
    {
      "cell_type": "markdown",
      "metadata": {
        "id": "S51ZFRjVX-bu"
      },
      "source": [
        "로컬로 크롤링 하는 것과는 다르게, 새창 혹은 새탭으로 열리지 않음.\n",
        "\n",
        "그래도 html.parser로 스크립트 보면서 id나 class 확인이 가능하고, 해당 사이트에서 x_path를 가져오는 방법도 있을 것임.\n",
        "\n",
        "방대한 데이터를 바로 드라이브에 저장하려면, colab에서 사용하는 게 나을텐데,,, input에 따라서 달라지는 결과나, 사이트 레이아웃 및 구조가 변경되는 경우를 생각하면 로컬에서 구동하는 게 나을 수도 있음"
      ]
    }
  ]
}