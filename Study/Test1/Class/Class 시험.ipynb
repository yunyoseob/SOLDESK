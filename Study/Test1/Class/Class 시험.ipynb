{
 "cells": [
  {
   "cell_type": "markdown",
   "metadata": {},
   "source": [
    "클래스시험\n",
    "--\n"
   ]
  },
  {
   "cell_type": "markdown",
   "metadata": {},
   "source": [
    "1번 문제 (하)class로 작성하시오.\n",
    "\n",
    "주사위 클래스 Dice를 설계하는데 메소드에는 roll()을 구현하여 주사위를 던져 나온 숫자를 화면에 출력하는 프로그램을 작성하시오. -단, 난수의 발생은 다음을 이용하라.\n",
    "\n",
    "face = random.randint(1, 6)"
   ]
  },
  {
   "cell_type": "code",
   "execution_count": 1,
   "metadata": {},
   "outputs": [],
   "source": [
    "import numpy as np\n",
    "\n",
    "class dice:\n",
    "    def set_number(throw):\n",
    "        self.throw=throw\n",
    "    def roll(throw):\n",
    "        print(\"주사위를 던져서 나온 결과\")\n",
    "        face=np.random.randint(1,6)\n",
    "        return face"
   ]
  },
  {
   "cell_type": "code",
   "execution_count": 2,
   "metadata": {},
   "outputs": [
    {
     "name": "stdout",
     "output_type": "stream",
     "text": [
      "주사위를 던져서 나온 결과\n"
     ]
    },
    {
     "data": {
      "text/plain": [
       "5"
      ]
     },
     "execution_count": 2,
     "metadata": {},
     "output_type": "execute_result"
    }
   ],
   "source": [
    "dice.roll(1)"
   ]
  },
  {
   "cell_type": "markdown",
   "metadata": {},
   "source": [
    "2번 문제\n",
    "--"
   ]
  },
  {
   "cell_type": "markdown",
   "metadata": {},
   "source": [
    "(상) 배스킨라빈스 31게임.\n",
    "\n",
    "게의 참여자들은 차례를 정해 1부터 31까지의 수를 순차적으로 부른다. 한번에 1~3개까지 수를 연달아 부를 수 있으며, 마지막 31을 부른 사람이 진다."
   ]
  },
  {
   "cell_type": "code",
   "execution_count": 3,
   "metadata": {},
   "outputs": [],
   "source": [
    "class baskinrobbins_31:\n",
    "    def start():\n",
    "        print(\"게임을 시작하고 싶다면 시작을 입력하세요.\")\n",
    "        print(\"게임 규칙: 31을 부르면 집니다. 최대 3개의 숫자까지 부를 수 있습니다. ex: 1,2,3\")\n",
    "        print(\"*경고* 컴퓨터: 만약 규칙을 안 지키시면 저는 에러를 뿜을 것 입니다.\")\n",
    "        start=input()\n",
    "        start=\"컴퓨터 먼저 시작합니다. 컴퓨터:\"\n",
    "        start_1=1\n",
    "        start_2=2\n",
    "        return start,start_1,start_2\n",
    "    \n",
    "    def game_start():\n",
    "        start_game=baskinrobbins_31.start()\n",
    "\n",
    "        for i in range(6,32,4):\n",
    "            print(\"귀엽고 깜찍하게 써리원~ 숫자를 최대 3개까지 입력하세요.\")\n",
    "            Number=input()\n",
    "            print(\"당신이 입력한 숫자: \", Number)\n",
    "            Num1=list(Number)\n",
    "            Num2=Num1[-2:]\n",
    "            if len(Num2)==1:\n",
    "                Num3=str(Num2[0])\n",
    "                Num4=int(Num3)\n",
    "                computer=list(range(Num4+1,i+1))\n",
    "                for j in computer:\n",
    "                    print(\"컴퓨터가 입력한 숫자: \", j)\n",
    "                \n",
    "            else:\n",
    "                Num3=str(Num2[0]+Num2[1])\n",
    "                Num4=Num3.replace(\",\",'')\n",
    "                Num5=int(Num4)\n",
    "                computer=list(range(Num5+1,i+1))\n",
    "                for j in computer:\n",
    "                    print(\"컴퓨터가 입력한 숫자: \", j)\n",
    "               \n",
    "        winner=\"컴퓨터 승리, 설마 절 이길 수 있을 것이라고 생각했습니까? 휴먼?\"\n",
    "        return winner"
   ]
  },
  {
   "cell_type": "code",
   "execution_count": 4,
   "metadata": {},
   "outputs": [
    {
     "name": "stdout",
     "output_type": "stream",
     "text": [
      "게임을 시작하고 싶다면 시작을 입력하세요.\n",
      "게임 규칙: 31을 부르면 집니다. 최대 3개의 숫자까지 부를 수 있습니다. ex: 1,2,3\n",
      "*경고* 컴퓨터: 만약 규칙을 안 지키시면 저는 에러를 뿜을 것 입니다.\n",
      "시작\n",
      "귀엽고 깜찍하게 써리원~ 숫자를 최대 3개까지 입력하세요.\n",
      "3,4,5\n",
      "당신이 입력한 숫자:  3,4,5\n",
      "컴퓨터가 입력한 숫자:  6\n",
      "귀엽고 깜찍하게 써리원~ 숫자를 최대 3개까지 입력하세요.\n",
      "7\n",
      "당신이 입력한 숫자:  7\n",
      "컴퓨터가 입력한 숫자:  8\n",
      "컴퓨터가 입력한 숫자:  9\n",
      "컴퓨터가 입력한 숫자:  10\n",
      "귀엽고 깜찍하게 써리원~ 숫자를 최대 3개까지 입력하세요.\n",
      "11,12\n",
      "당신이 입력한 숫자:  11,12\n",
      "컴퓨터가 입력한 숫자:  13\n",
      "컴퓨터가 입력한 숫자:  14\n",
      "귀엽고 깜찍하게 써리원~ 숫자를 최대 3개까지 입력하세요.\n",
      "15,16,17\n",
      "당신이 입력한 숫자:  15,16,17\n",
      "컴퓨터가 입력한 숫자:  18\n",
      "귀엽고 깜찍하게 써리원~ 숫자를 최대 3개까지 입력하세요.\n",
      "19\n",
      "당신이 입력한 숫자:  19\n",
      "컴퓨터가 입력한 숫자:  20\n",
      "컴퓨터가 입력한 숫자:  21\n",
      "컴퓨터가 입력한 숫자:  22\n",
      "귀엽고 깜찍하게 써리원~ 숫자를 최대 3개까지 입력하세요.\n",
      "23,24\n",
      "당신이 입력한 숫자:  23,24\n",
      "컴퓨터가 입력한 숫자:  25\n",
      "컴퓨터가 입력한 숫자:  26\n",
      "귀엽고 깜찍하게 써리원~ 숫자를 최대 3개까지 입력하세요.\n",
      "27\n",
      "당신이 입력한 숫자:  27\n",
      "컴퓨터가 입력한 숫자:  28\n",
      "컴퓨터가 입력한 숫자:  29\n",
      "컴퓨터가 입력한 숫자:  30\n"
     ]
    },
    {
     "data": {
      "text/plain": [
       "'컴퓨터 승리, 설마 절 이길 수 있을 것이라고 생각했습니까? 휴먼?'"
      ]
     },
     "execution_count": 4,
     "metadata": {},
     "output_type": "execute_result"
    }
   ],
   "source": [
    "baskinrobbins_31.game_start()"
   ]
  },
  {
   "cell_type": "markdown",
   "metadata": {},
   "source": [
    "3번 문제\n",
    "--"
   ]
  },
  {
   "cell_type": "markdown",
   "metadata": {},
   "source": [
    "(중) 내용에 맞게 코드를 작성하시오. 괄호 문자열(Parenthesis String, PS)은 두 개의 괄호 기호인 ‘(’ 와 ‘)’ 만으로 구성되어 있는 문자열이다. 그 중에서 괄호의 모양이 바르게 구성된 문자열을 올바른 괄호 문자열(Valid PS, VPS)이라고 부른다. 한 쌍의 괄호 기호로 된 “( )” 문자열은 기본 VPS 이라고 부른다. 만일 x 가 VPS 라면 이것을 하나의 괄호에 넣은 새로운 문자열 “(x)”도 VPS 가 된다. 그리고 두 VPS x 와 y를 접합(concatenation)시킨 새로운 문자열 xy도 VPS 가 된다. 예를 들어 “(())()”와 “((()))” 는 VPS 이지만 “(()(”, “(())()))” , 그리고 “(()” 는 모두 VPS 가 아닌 문자열이다. 여러분은 입력으로 주어진 괄호 문자열이 VPS 인지 아닌지를 판단해서 그 결과를 YES 와 NO 로 나타내어야 한다."
   ]
  },
  {
   "cell_type": "code",
   "execution_count": 5,
   "metadata": {},
   "outputs": [],
   "source": [
    "class vps_test:\n",
    "    def make_list(text):\n",
    "        text=text\n",
    "        a=[]\n",
    "        b=[]\n",
    "        for x in text:\n",
    "            if x=='(':\n",
    "                a.append('(')\n",
    "            elif x==')':\n",
    "                a.append(')')\n",
    "            else:\n",
    "                b.append('x')\n",
    "        a=str(a)\n",
    "        return a\n",
    "\n",
    "    def make_str(text):\n",
    "        sample=vps_test.make_list(text)\n",
    "        sample_1=sample.replace(\"[\",'')\n",
    "        sample_2=sample_1.replace(\"]\",'')\n",
    "        sample_3=sample_2.replace(\"'\",'')\n",
    "        sample_4=sample_3.replace(\",\",'')\n",
    "        return sample_4\n",
    "    \n",
    "    def vps_notvps(text):\n",
    "        test=vps_test.make_str(text)\n",
    "        if test[0]=='(':\n",
    "            if test[2]==')':\n",
    "                print('YES')\n",
    "            else:\n",
    "                print('NO')\n",
    "        else:\n",
    "            print('NO')"
   ]
  },
  {
   "cell_type": "code",
   "execution_count": 6,
   "metadata": {},
   "outputs": [
    {
     "name": "stdout",
     "output_type": "stream",
     "text": [
      "YES\n"
     ]
    }
   ],
   "source": [
    "vps_test.vps_notvps(\"(나랏말쌈이 듕귁에 달아)\")"
   ]
  },
  {
   "cell_type": "markdown",
   "metadata": {},
   "source": [
    "- 나랏말쌈이 듕귁에 달아를 제외하면 ()이므로 VPS가 YES로 출력된다."
   ]
  },
  {
   "cell_type": "code",
   "execution_count": 7,
   "metadata": {},
   "outputs": [
    {
     "name": "stdout",
     "output_type": "stream",
     "text": [
      "NO\n"
     ]
    }
   ],
   "source": [
    "vps_test.vps_notvps(\")문자와로 서르 사맛디 아니할쎄(\")"
   ]
  },
  {
   "cell_type": "markdown",
   "metadata": {},
   "source": [
    "-문자와로 서르 사맛디 아니할쎄를 제외하면 )(이므로 VPS가 NO로 출력된다."
   ]
  },
  {
   "cell_type": "markdown",
   "metadata": {},
   "source": [
    "4번 문제\n",
    "--"
   ]
  },
  {
   "cell_type": "markdown",
   "metadata": {},
   "source": [
    "사칙연산은 Class로 작성하시오. 주의) 내장함수를 사용하면 copy(0점)로 간주.\n",
    "\n",
    "생성자도 호출하시오."
   ]
  },
  {
   "cell_type": "code",
   "execution_count": 8,
   "metadata": {},
   "outputs": [],
   "source": [
    "class fourchickyeonmountain:\n",
    "    def setdata(self, a, b):\n",
    "        self.a=a\n",
    "        self.b=b\n",
    "    def add(self):\n",
    "        add=self.a+self.b\n",
    "        return add\n",
    "    def minus(self):\n",
    "        minus=self.a-self.b\n",
    "        return minus\n",
    "    def multiply(self):\n",
    "        multiply=self.a*self.b\n",
    "        return multiply\n",
    "    def division(self):\n",
    "        division=self.a/self.b\n",
    "        return division"
   ]
  },
  {
   "cell_type": "code",
   "execution_count": 9,
   "metadata": {},
   "outputs": [],
   "source": [
    "생성자=fourchickyeonmountain()"
   ]
  },
  {
   "cell_type": "code",
   "execution_count": 10,
   "metadata": {},
   "outputs": [],
   "source": [
    "생성자.setdata(3,4)"
   ]
  },
  {
   "cell_type": "code",
   "execution_count": 11,
   "metadata": {},
   "outputs": [
    {
     "data": {
      "text/plain": [
       "7"
      ]
     },
     "execution_count": 11,
     "metadata": {},
     "output_type": "execute_result"
    }
   ],
   "source": [
    "생성자.add()"
   ]
  },
  {
   "cell_type": "code",
   "execution_count": 12,
   "metadata": {},
   "outputs": [
    {
     "data": {
      "text/plain": [
       "-1"
      ]
     },
     "execution_count": 12,
     "metadata": {},
     "output_type": "execute_result"
    }
   ],
   "source": [
    "생성자.minus()"
   ]
  },
  {
   "cell_type": "code",
   "execution_count": 13,
   "metadata": {},
   "outputs": [
    {
     "data": {
      "text/plain": [
       "12"
      ]
     },
     "execution_count": 13,
     "metadata": {},
     "output_type": "execute_result"
    }
   ],
   "source": [
    "생성자.multiply()"
   ]
  },
  {
   "cell_type": "code",
   "execution_count": 14,
   "metadata": {},
   "outputs": [
    {
     "data": {
      "text/plain": [
       "0.75"
      ]
     },
     "execution_count": 14,
     "metadata": {},
     "output_type": "execute_result"
    }
   ],
   "source": [
    "생성자.division()"
   ]
  },
  {
   "cell_type": "markdown",
   "metadata": {},
   "source": [
    "5번 문제\n",
    "--"
   ]
  },
  {
   "cell_type": "markdown",
   "metadata": {},
   "source": [
    "[중] 업다운 게임을 작성하시오\n",
    "소주 병뚜껑에서 1-50까지의 숫자를 말하면 Up또는 Down을 알려주는 코드를 작성하시오.\n",
    "5번안에 맞추지 않으면 Game over도 출력하시오."
   ]
  },
  {
   "cell_type": "code",
   "execution_count": 16,
   "metadata": {},
   "outputs": [
    {
     "name": "stdout",
     "output_type": "stream",
     "text": [
      "1\n",
      "Up\n",
      "50\n",
      "Down\n",
      "10\n",
      "Up\n",
      "40\n",
      "Down\n",
      "30\n",
      "Game over\n"
     ]
    }
   ],
   "source": [
    "i=0\n",
    "\n",
    "while i <= 5:\n",
    "    Num=input()\n",
    "    Num=int(Num)\n",
    "    Val_Num=25\n",
    "\n",
    "    if 50>=Num>=1:\n",
    "        if Val_Num==Num:\n",
    "            print(\"정답입니다. 벌칙주를 드세요.\")\n",
    "            i+=10000000000000000\n",
    "        elif i==4:\n",
    "            print(\"Game over\")\n",
    "            i+=100000000000000000\n",
    "        elif Val_Num<Num:\n",
    "            print(\"Down\")\n",
    "            i+=1\n",
    "        elif Val_Num>Num:\n",
    "            print(\"Up\")\n",
    "            i+=1\n",
    "        else:\n",
    "            print(\"값 똑바로 넣으세요. 게임을 종료합니다.\")\n",
    "            i+=1\n",
    "    else:\n",
    "        print(\"값 똑바로 넣으세요. 게임을 종료합니다.\")\n",
    "        i+=1000000000000000000"
   ]
  }
 ],
 "metadata": {
  "kernelspec": {
   "display_name": "Python 3",
   "language": "python",
   "name": "python3"
  },
  "language_info": {
   "codemirror_mode": {
    "name": "ipython",
    "version": 3
   },
   "file_extension": ".py",
   "mimetype": "text/x-python",
   "name": "python",
   "nbconvert_exporter": "python",
   "pygments_lexer": "ipython3",
   "version": "3.8.5"
  }
 },
 "nbformat": 4,
 "nbformat_minor": 4
}
