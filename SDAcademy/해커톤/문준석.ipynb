{
  "nbformat": 4,
  "nbformat_minor": 0,
  "metadata": {
    "colab": {
      "name": "발표2",
      "provenance": [],
      "collapsed_sections": []
    },
    "kernelspec": {
      "name": "python3",
      "display_name": "Python 3"
    },
    "language_info": {
      "name": "python"
    }
  },
  "cells": [
    {
      "cell_type": "code",
      "metadata": {
        "id": "qviT7obfLwRx"
      },
      "source": [
        "import numpy as np\n",
        "import pandas as pd\n",
        "import matplotlib.pyplot as plt"
      ],
      "execution_count": null,
      "outputs": []
    },
    {
      "cell_type": "code",
      "metadata": {
        "id": "UzcFHCb8MSZg"
      },
      "source": [
        "data=pd.read_csv('/content/drive/MyDrive/성공적인 마케팅 train.csv')"
      ],
      "execution_count": null,
      "outputs": []
    },
    {
      "cell_type": "code",
      "metadata": {
        "id": "ZB5lW5aYMSwH"
      },
      "source": [
        "df=data.copy()"
      ],
      "execution_count": null,
      "outputs": []
    },
    {
      "cell_type": "code",
      "metadata": {
        "colab": {
          "base_uri": "https://localhost:8080/"
        },
        "id": "RXJx_0SiMUdp",
        "outputId": "dadf7a60-cebf-4b09-af09-d0a2dd0b0e3c"
      },
      "source": [
        "df.info()"
      ],
      "execution_count": null,
      "outputs": [
        {
          "output_type": "stream",
          "text": [
            "<class 'pandas.core.frame.DataFrame'>\n",
            "RangeIndex: 780502 entries, 0 to 780501\n",
            "Data columns (total 9 columns):\n",
            " #   Column       Non-Null Count   Dtype  \n",
            "---  ------       --------------   -----  \n",
            " 0   order_id     780502 non-null  object \n",
            " 1   product_id   780502 non-null  object \n",
            " 2   description  780502 non-null  object \n",
            " 3   quantity     780502 non-null  int64  \n",
            " 4   order_date   780502 non-null  object \n",
            " 5   price        780502 non-null  float64\n",
            " 6   customer_id  780502 non-null  int64  \n",
            " 7   country      780502 non-null  object \n",
            " 8   total        780502 non-null  float64\n",
            "dtypes: float64(2), int64(2), object(5)\n",
            "memory usage: 53.6+ MB\n"
          ],
          "name": "stdout"
        }
      ]
    },
    {
      "cell_type": "code",
      "metadata": {
        "colab": {
          "base_uri": "https://localhost:8080/"
        },
        "id": "aRKAPJXWeq5y",
        "outputId": "8def928b-a630-468e-cfa9-484ce1ea6f54"
      },
      "source": [
        "print(df.isna().sum())"
      ],
      "execution_count": null,
      "outputs": [
        {
          "output_type": "stream",
          "text": [
            "order_id       0\n",
            "product_id     0\n",
            "description    0\n",
            "quantity       0\n",
            "order_date     0\n",
            "price          0\n",
            "customer_id    0\n",
            "country        0\n",
            "total          0\n",
            "dtype: int64\n"
          ],
          "name": "stdout"
        }
      ]
    },
    {
      "cell_type": "code",
      "metadata": {
        "colab": {
          "base_uri": "https://localhost:8080/",
          "height": 287
        },
        "id": "Go6UJQbHeoqu",
        "outputId": "020745df-c71e-4826-daab-435eee642b80"
      },
      "source": [
        "df.describe()"
      ],
      "execution_count": null,
      "outputs": [
        {
          "output_type": "execute_result",
          "data": {
            "text/html": [
              "<div>\n",
              "<style scoped>\n",
              "    .dataframe tbody tr th:only-of-type {\n",
              "        vertical-align: middle;\n",
              "    }\n",
              "\n",
              "    .dataframe tbody tr th {\n",
              "        vertical-align: top;\n",
              "    }\n",
              "\n",
              "    .dataframe thead th {\n",
              "        text-align: right;\n",
              "    }\n",
              "</style>\n",
              "<table border=\"1\" class=\"dataframe\">\n",
              "  <thead>\n",
              "    <tr style=\"text-align: right;\">\n",
              "      <th></th>\n",
              "      <th>quantity</th>\n",
              "      <th>price</th>\n",
              "      <th>customer_id</th>\n",
              "      <th>total</th>\n",
              "    </tr>\n",
              "  </thead>\n",
              "  <tbody>\n",
              "    <tr>\n",
              "      <th>count</th>\n",
              "      <td>780502.000000</td>\n",
              "      <td>780502.000000</td>\n",
              "      <td>780502.000000</td>\n",
              "      <td>780502.000000</td>\n",
              "    </tr>\n",
              "    <tr>\n",
              "      <th>mean</th>\n",
              "      <td>12.623307</td>\n",
              "      <td>6.140931</td>\n",
              "      <td>15313.393466</td>\n",
              "      <td>33.715373</td>\n",
              "    </tr>\n",
              "    <tr>\n",
              "      <th>std</th>\n",
              "      <td>143.906302</td>\n",
              "      <td>119.042266</td>\n",
              "      <td>1695.765797</td>\n",
              "      <td>274.207403</td>\n",
              "    </tr>\n",
              "    <tr>\n",
              "      <th>min</th>\n",
              "      <td>-74215.000000</td>\n",
              "      <td>0.000000</td>\n",
              "      <td>12346.000000</td>\n",
              "      <td>-127352.940000</td>\n",
              "    </tr>\n",
              "    <tr>\n",
              "      <th>25%</th>\n",
              "      <td>2.000000</td>\n",
              "      <td>2.062500</td>\n",
              "      <td>13963.000000</td>\n",
              "      <td>7.260000</td>\n",
              "    </tr>\n",
              "    <tr>\n",
              "      <th>50%</th>\n",
              "      <td>5.000000</td>\n",
              "      <td>3.217500</td>\n",
              "      <td>15239.000000</td>\n",
              "      <td>19.470000</td>\n",
              "    </tr>\n",
              "    <tr>\n",
              "      <th>75%</th>\n",
              "      <td>12.000000</td>\n",
              "      <td>6.187500</td>\n",
              "      <td>16788.000000</td>\n",
              "      <td>32.175000</td>\n",
              "    </tr>\n",
              "    <tr>\n",
              "      <th>max</th>\n",
              "      <td>74215.000000</td>\n",
              "      <td>64300.500000</td>\n",
              "      <td>18287.000000</td>\n",
              "      <td>127352.940000</td>\n",
              "    </tr>\n",
              "  </tbody>\n",
              "</table>\n",
              "</div>"
            ],
            "text/plain": [
              "            quantity          price    customer_id          total\n",
              "count  780502.000000  780502.000000  780502.000000  780502.000000\n",
              "mean       12.623307       6.140931   15313.393466      33.715373\n",
              "std       143.906302     119.042266    1695.765797     274.207403\n",
              "min    -74215.000000       0.000000   12346.000000 -127352.940000\n",
              "25%         2.000000       2.062500   13963.000000       7.260000\n",
              "50%         5.000000       3.217500   15239.000000      19.470000\n",
              "75%        12.000000       6.187500   16788.000000      32.175000\n",
              "max     74215.000000   64300.500000   18287.000000  127352.940000"
            ]
          },
          "metadata": {
            "tags": []
          },
          "execution_count": 15
        }
      ]
    },
    {
      "cell_type": "markdown",
      "metadata": {
        "id": "5cWHc7AsMe7G"
      },
      "source": [
        "1. Customer_id 와 total, qunatity, price를 groupby하고 새로운 결과를 도출하시오. (코드 및 figure까지)"
      ]
    },
    {
      "cell_type": "markdown",
      "metadata": {
        "id": "TJuhYgzVR972"
      },
      "source": [
        "groupby() :집단, 그룹별로 데이터를 집계,요약하는 방법 "
      ]
    },
    {
      "cell_type": "code",
      "metadata": {
        "colab": {
          "base_uri": "https://localhost:8080/",
          "height": 406
        },
        "id": "mnydTPZYMVmv",
        "outputId": "07e4f712-254c-45a6-e6e6-f628c4930be4"
      },
      "source": [
        "df.groupby('customer_id').sum().reset_index()"
      ],
      "execution_count": null,
      "outputs": [
        {
          "output_type": "execute_result",
          "data": {
            "text/html": [
              "<div>\n",
              "<style scoped>\n",
              "    .dataframe tbody tr th:only-of-type {\n",
              "        vertical-align: middle;\n",
              "    }\n",
              "\n",
              "    .dataframe tbody tr th {\n",
              "        vertical-align: top;\n",
              "    }\n",
              "\n",
              "    .dataframe thead th {\n",
              "        text-align: right;\n",
              "    }\n",
              "</style>\n",
              "<table border=\"1\" class=\"dataframe\">\n",
              "  <thead>\n",
              "    <tr style=\"text-align: right;\">\n",
              "      <th></th>\n",
              "      <th>customer_id</th>\n",
              "      <th>quantity</th>\n",
              "      <th>price</th>\n",
              "      <th>total</th>\n",
              "    </tr>\n",
              "  </thead>\n",
              "  <tbody>\n",
              "    <tr>\n",
              "      <th>0</th>\n",
              "      <td>12346</td>\n",
              "      <td>53</td>\n",
              "      <td>936.3750</td>\n",
              "      <td>-85.3710</td>\n",
              "    </tr>\n",
              "    <tr>\n",
              "      <th>1</th>\n",
              "      <td>12347</td>\n",
              "      <td>2775</td>\n",
              "      <td>892.6995</td>\n",
              "      <td>7749.5715</td>\n",
              "    </tr>\n",
              "    <tr>\n",
              "      <th>2</th>\n",
              "      <td>12348</td>\n",
              "      <td>2714</td>\n",
              "      <td>318.6150</td>\n",
              "      <td>3332.0100</td>\n",
              "    </tr>\n",
              "    <tr>\n",
              "      <th>3</th>\n",
              "      <td>12349</td>\n",
              "      <td>1619</td>\n",
              "      <td>2482.5735</td>\n",
              "      <td>7267.4910</td>\n",
              "    </tr>\n",
              "    <tr>\n",
              "      <th>4</th>\n",
              "      <td>12350</td>\n",
              "      <td>197</td>\n",
              "      <td>107.7450</td>\n",
              "      <td>551.7600</td>\n",
              "    </tr>\n",
              "    <tr>\n",
              "      <th>...</th>\n",
              "      <td>...</td>\n",
              "      <td>...</td>\n",
              "      <td>...</td>\n",
              "      <td>...</td>\n",
              "    </tr>\n",
              "    <tr>\n",
              "      <th>5909</th>\n",
              "      <td>18283</td>\n",
              "      <td>1537</td>\n",
              "      <td>2617.2630</td>\n",
              "      <td>4053.8850</td>\n",
              "    </tr>\n",
              "    <tr>\n",
              "      <th>5910</th>\n",
              "      <td>18284</td>\n",
              "      <td>493</td>\n",
              "      <td>191.5485</td>\n",
              "      <td>720.5220</td>\n",
              "    </tr>\n",
              "    <tr>\n",
              "      <th>5911</th>\n",
              "      <td>18285</td>\n",
              "      <td>145</td>\n",
              "      <td>165.3300</td>\n",
              "      <td>704.5500</td>\n",
              "    </tr>\n",
              "    <tr>\n",
              "      <th>5912</th>\n",
              "      <td>18286</td>\n",
              "      <td>592</td>\n",
              "      <td>505.8075</td>\n",
              "      <td>1960.9095</td>\n",
              "    </tr>\n",
              "    <tr>\n",
              "      <th>5913</th>\n",
              "      <td>18287</td>\n",
              "      <td>3011</td>\n",
              "      <td>575.6685</td>\n",
              "      <td>6893.5185</td>\n",
              "    </tr>\n",
              "  </tbody>\n",
              "</table>\n",
              "<p>5914 rows × 4 columns</p>\n",
              "</div>"
            ],
            "text/plain": [
              "      customer_id  quantity      price      total\n",
              "0           12346        53   936.3750   -85.3710\n",
              "1           12347      2775   892.6995  7749.5715\n",
              "2           12348      2714   318.6150  3332.0100\n",
              "3           12349      1619  2482.5735  7267.4910\n",
              "4           12350       197   107.7450   551.7600\n",
              "...           ...       ...        ...        ...\n",
              "5909        18283      1537  2617.2630  4053.8850\n",
              "5910        18284       493   191.5485   720.5220\n",
              "5911        18285       145   165.3300   704.5500\n",
              "5912        18286       592   505.8075  1960.9095\n",
              "5913        18287      3011   575.6685  6893.5185\n",
              "\n",
              "[5914 rows x 4 columns]"
            ]
          },
          "metadata": {
            "tags": []
          },
          "execution_count": 7
        }
      ]
    },
    {
      "cell_type": "code",
      "metadata": {
        "id": "lGavLdygRFc4"
      },
      "source": [
        "import matplotlib.pyplot as plt\n",
        "from mlxtend.plotting import scatterplotmatrix"
      ],
      "execution_count": null,
      "outputs": []
    },
    {
      "cell_type": "code",
      "metadata": {
        "colab": {
          "base_uri": "https://localhost:8080/",
          "height": 585
        },
        "id": "XblIetsCTZuo",
        "outputId": "71142088-8db1-407f-dca7-191548fec806"
      },
      "source": [
        "# 4개의 변수들간의 산점도를 그렸습니다. 이상치를 확인 가능\n",
        "cols= ['customer_id','quantity','price','total']\n",
        "scatterplotmatrix(df[cols].values,figsize=(10,8),names=cols,alpha=0.5)\n",
        "plt.tight_layout()\n",
        "plt.show()"
      ],
      "execution_count": null,
      "outputs": [
        {
          "output_type": "display_data",
          "data": {
            "image/png": "[encoded data removed]",
            "text/plain": [
              "<Figure size 720x576 with 16 Axes>"
            ]
          },
          "metadata": {
            "tags": [],
            "needs_background": "light"
          }
        }
      ]
    },
    {
      "cell_type": "markdown",
      "metadata": {
        "id": "Eml6jRFpUW8G"
      },
      "source": [
        "2. 문자열에 대한 인코딩을 하여서 제출하시오.(코드 및 결과까지)"
      ]
    },
    {
      "cell_type": "code",
      "metadata": {
        "id": "GyotXWngT1Rx"
      },
      "source": [
        "from sklearn.preprocessing import LabelEncoder"
      ],
      "execution_count": null,
      "outputs": []
    },
    {
      "cell_type": "code",
      "metadata": {
        "id": "vRgpnHhzU1pY"
      },
      "source": [
        "# 문자열 데이터인 country, product_id, order_id, description 들을 라벨인코딩을 하였습니다.\n",
        "encoder = LabelEncoder()\n",
        "encoder.fit(df['country'])\n",
        "labels = encoder.transform(df['country'])\n",
        "df['country']= encoder.transform(df['country'])"
      ],
      "execution_count": null,
      "outputs": []
    },
    {
      "cell_type": "code",
      "metadata": {
        "id": "2DneORbnU6a-"
      },
      "source": [
        "encoder.fit(df['product_id'])\n",
        "labels = encoder.transform(df['product_id'])\n",
        "df['product_id']= encoder.transform(df['product_id'])"
      ],
      "execution_count": null,
      "outputs": []
    },
    {
      "cell_type": "code",
      "metadata": {
        "id": "3i_adDFhU8Ae"
      },
      "source": [
        "encoder.fit(df['order_id'])\n",
        "labels = encoder.transform(df['order_id'])\n",
        "df['order_id']= encoder.transform(df['order_id'])"
      ],
      "execution_count": null,
      "outputs": []
    },
    {
      "cell_type": "code",
      "metadata": {
        "id": "G8DyJFh-U9Op"
      },
      "source": [
        "encoder.fit(df['description'])\n",
        "labels = encoder.transform(df['description'])\n",
        "df['description']= encoder.transform(df['description'])"
      ],
      "execution_count": null,
      "outputs": []
    },
    {
      "cell_type": "code",
      "metadata": {
        "colab": {
          "base_uri": "https://localhost:8080/",
          "height": 402
        },
        "id": "YeDMS4ACU-Sn",
        "outputId": "d04b392e-fda4-4d9d-c515-21b376bbb22e"
      },
      "source": [
        "df"
      ],
      "execution_count": null,
      "outputs": [
        {
          "output_type": "execute_result",
          "data": {
            "text/html": [
              "<div>\n",
              "<style scoped>\n",
              "    .dataframe tbody tr th:only-of-type {\n",
              "        vertical-align: middle;\n",
              "    }\n",
              "\n",
              "    .dataframe tbody tr th {\n",
              "        vertical-align: top;\n",
              "    }\n",
              "\n",
              "    .dataframe thead th {\n",
              "        text-align: right;\n",
              "    }\n",
              "</style>\n",
              "<table border=\"1\" class=\"dataframe\">\n",
              "  <thead>\n",
              "    <tr style=\"text-align: right;\">\n",
              "      <th></th>\n",
              "      <th>order_id</th>\n",
              "      <th>product_id</th>\n",
              "      <th>description</th>\n",
              "      <th>quantity</th>\n",
              "      <th>order_date</th>\n",
              "      <th>price</th>\n",
              "      <th>customer_id</th>\n",
              "      <th>country</th>\n",
              "      <th>total</th>\n",
              "    </tr>\n",
              "  </thead>\n",
              "  <tbody>\n",
              "    <tr>\n",
              "      <th>0</th>\n",
              "      <td>0</td>\n",
              "      <td>4021</td>\n",
              "      <td>61</td>\n",
              "      <td>12</td>\n",
              "      <td>2009-12-01 07:45:00</td>\n",
              "      <td>11.4675</td>\n",
              "      <td>13085</td>\n",
              "      <td>38</td>\n",
              "      <td>137.6100</td>\n",
              "    </tr>\n",
              "    <tr>\n",
              "      <th>1</th>\n",
              "      <td>0</td>\n",
              "      <td>3336</td>\n",
              "      <td>3296</td>\n",
              "      <td>12</td>\n",
              "      <td>2009-12-01 07:45:00</td>\n",
              "      <td>11.1375</td>\n",
              "      <td>13085</td>\n",
              "      <td>38</td>\n",
              "      <td>133.6500</td>\n",
              "    </tr>\n",
              "    <tr>\n",
              "      <th>2</th>\n",
              "      <td>0</td>\n",
              "      <td>3338</td>\n",
              "      <td>36</td>\n",
              "      <td>12</td>\n",
              "      <td>2009-12-01 07:45:00</td>\n",
              "      <td>11.1375</td>\n",
              "      <td>13085</td>\n",
              "      <td>38</td>\n",
              "      <td>133.6500</td>\n",
              "    </tr>\n",
              "    <tr>\n",
              "      <th>3</th>\n",
              "      <td>0</td>\n",
              "      <td>1261</td>\n",
              "      <td>3627</td>\n",
              "      <td>48</td>\n",
              "      <td>2009-12-01 07:45:00</td>\n",
              "      <td>3.4650</td>\n",
              "      <td>13085</td>\n",
              "      <td>38</td>\n",
              "      <td>166.3200</td>\n",
              "    </tr>\n",
              "    <tr>\n",
              "      <th>4</th>\n",
              "      <td>0</td>\n",
              "      <td>620</td>\n",
              "      <td>4623</td>\n",
              "      <td>24</td>\n",
              "      <td>2009-12-01 07:45:00</td>\n",
              "      <td>2.0625</td>\n",
              "      <td>13085</td>\n",
              "      <td>38</td>\n",
              "      <td>49.5000</td>\n",
              "    </tr>\n",
              "    <tr>\n",
              "      <th>...</th>\n",
              "      <td>...</td>\n",
              "      <td>...</td>\n",
              "      <td>...</td>\n",
              "      <td>...</td>\n",
              "      <td>...</td>\n",
              "      <td>...</td>\n",
              "      <td>...</td>\n",
              "      <td>...</td>\n",
              "      <td>...</td>\n",
              "    </tr>\n",
              "    <tr>\n",
              "      <th>780497</th>\n",
              "      <td>43953</td>\n",
              "      <td>1413</td>\n",
              "      <td>3536</td>\n",
              "      <td>-1</td>\n",
              "      <td>2011-11-30 17:39:00</td>\n",
              "      <td>1.4025</td>\n",
              "      <td>15676</td>\n",
              "      <td>38</td>\n",
              "      <td>-1.4025</td>\n",
              "    </tr>\n",
              "    <tr>\n",
              "      <th>780498</th>\n",
              "      <td>43953</td>\n",
              "      <td>2312</td>\n",
              "      <td>4796</td>\n",
              "      <td>-1</td>\n",
              "      <td>2011-11-30 17:39:00</td>\n",
              "      <td>5.4285</td>\n",
              "      <td>15676</td>\n",
              "      <td>38</td>\n",
              "      <td>-5.4285</td>\n",
              "    </tr>\n",
              "    <tr>\n",
              "      <th>780499</th>\n",
              "      <td>43954</td>\n",
              "      <td>3898</td>\n",
              "      <td>260</td>\n",
              "      <td>-1</td>\n",
              "      <td>2011-11-30 17:42:00</td>\n",
              "      <td>2.0625</td>\n",
              "      <td>16717</td>\n",
              "      <td>38</td>\n",
              "      <td>-2.0625</td>\n",
              "    </tr>\n",
              "    <tr>\n",
              "      <th>780500</th>\n",
              "      <td>43954</td>\n",
              "      <td>4021</td>\n",
              "      <td>61</td>\n",
              "      <td>-1</td>\n",
              "      <td>2011-11-30 17:42:00</td>\n",
              "      <td>13.1175</td>\n",
              "      <td>16717</td>\n",
              "      <td>38</td>\n",
              "      <td>-13.1175</td>\n",
              "    </tr>\n",
              "    <tr>\n",
              "      <th>780501</th>\n",
              "      <td>43954</td>\n",
              "      <td>2631</td>\n",
              "      <td>4682</td>\n",
              "      <td>-3</td>\n",
              "      <td>2011-11-30 17:42:00</td>\n",
              "      <td>6.1875</td>\n",
              "      <td>16717</td>\n",
              "      <td>38</td>\n",
              "      <td>-18.5625</td>\n",
              "    </tr>\n",
              "  </tbody>\n",
              "</table>\n",
              "<p>780502 rows × 9 columns</p>\n",
              "</div>"
            ],
            "text/plain": [
              "        order_id  product_id  description  ...  customer_id country     total\n",
              "0              0        4021           61  ...        13085      38  137.6100\n",
              "1              0        3336         3296  ...        13085      38  133.6500\n",
              "2              0        3338           36  ...        13085      38  133.6500\n",
              "3              0        1261         3627  ...        13085      38  166.3200\n",
              "4              0         620         4623  ...        13085      38   49.5000\n",
              "...          ...         ...          ...  ...          ...     ...       ...\n",
              "780497     43953        1413         3536  ...        15676      38   -1.4025\n",
              "780498     43953        2312         4796  ...        15676      38   -5.4285\n",
              "780499     43954        3898          260  ...        16717      38   -2.0625\n",
              "780500     43954        4021           61  ...        16717      38  -13.1175\n",
              "780501     43954        2631         4682  ...        16717      38  -18.5625\n",
              "\n",
              "[780502 rows x 9 columns]"
            ]
          },
          "metadata": {
            "tags": []
          },
          "execution_count": 13
        }
      ]
    },
    {
      "cell_type": "markdown",
      "metadata": {
        "id": "xuTi2Oh5rprx"
      },
      "source": [
        "---------------------------"
      ]
    },
    {
      "cell_type": "markdown",
      "metadata": {
        "id": "9L-898cHYQEw"
      },
      "source": [
        "구매자 한 사람의 total을 합치는 법"
      ]
    },
    {
      "cell_type": "code",
      "metadata": {
        "id": "crs0azXirtE5"
      },
      "source": [
        "# order_date에서 년도-월 추출\n",
        "df['year_month'] = df['order_date'].str[:7]"
      ],
      "execution_count": null,
      "outputs": []
    },
    {
      "cell_type": "code",
      "metadata": {
        "id": "PjGWXK5MrtCn"
      },
      "source": [
        "df=df.drop(['order_id','product_id','description','quantity','order_date','price','country'],axis=1)"
      ],
      "execution_count": null,
      "outputs": []
    },
    {
      "cell_type": "code",
      "metadata": {
        "id": "plpn1voMrs6s"
      },
      "source": [
        "pivot = pd.pivot_table(df, values=\"total\", index=[\"customer_id\"], columns=[\"year_month\"], aggfunc=np.sum)"
      ],
      "execution_count": null,
      "outputs": []
    },
    {
      "cell_type": "code",
      "metadata": {
        "id": "nNaHyEqcrs4H"
      },
      "source": [
        "df= pivot.cumsum()"
      ],
      "execution_count": null,
      "outputs": []
    },
    {
      "cell_type": "code",
      "metadata": {
        "colab": {
          "base_uri": "https://localhost:8080/",
          "height": 473
        },
        "id": "qnFt8xjir9R0",
        "outputId": "38708af3-146f-48a9-dbeb-7ed47c3e73b5"
      },
      "source": [
        "df = df.fillna(0)\n",
        "df"
      ],
      "execution_count": null,
      "outputs": [
        {
          "output_type": "execute_result",
          "data": {
            "text/html": [
              "<div>\n",
              "<style scoped>\n",
              "    .dataframe tbody tr th:only-of-type {\n",
              "        vertical-align: middle;\n",
              "    }\n",
              "\n",
              "    .dataframe tbody tr th {\n",
              "        vertical-align: top;\n",
              "    }\n",
              "\n",
              "    .dataframe thead th {\n",
              "        text-align: right;\n",
              "    }\n",
              "</style>\n",
              "<table border=\"1\" class=\"dataframe\">\n",
              "  <thead>\n",
              "    <tr style=\"text-align: right;\">\n",
              "      <th>year_month</th>\n",
              "      <th>2009-12</th>\n",
              "      <th>2010-01</th>\n",
              "      <th>2010-02</th>\n",
              "      <th>2010-03</th>\n",
              "      <th>2010-04</th>\n",
              "      <th>2010-05</th>\n",
              "      <th>2010-06</th>\n",
              "      <th>2010-07</th>\n",
              "      <th>2010-08</th>\n",
              "      <th>2010-09</th>\n",
              "      <th>2010-10</th>\n",
              "      <th>2010-11</th>\n",
              "      <th>2010-12</th>\n",
              "      <th>2011-01</th>\n",
              "      <th>2011-02</th>\n",
              "      <th>2011-03</th>\n",
              "      <th>2011-04</th>\n",
              "      <th>2011-05</th>\n",
              "      <th>2011-06</th>\n",
              "      <th>2011-07</th>\n",
              "      <th>2011-08</th>\n",
              "      <th>2011-09</th>\n",
              "      <th>2011-10</th>\n",
              "      <th>2011-11</th>\n",
              "    </tr>\n",
              "    <tr>\n",
              "      <th>customer_id</th>\n",
              "      <th></th>\n",
              "      <th></th>\n",
              "      <th></th>\n",
              "      <th></th>\n",
              "      <th></th>\n",
              "      <th></th>\n",
              "      <th></th>\n",
              "      <th></th>\n",
              "      <th></th>\n",
              "      <th></th>\n",
              "      <th></th>\n",
              "      <th></th>\n",
              "      <th></th>\n",
              "      <th></th>\n",
              "      <th></th>\n",
              "      <th></th>\n",
              "      <th></th>\n",
              "      <th></th>\n",
              "      <th></th>\n",
              "      <th></th>\n",
              "      <th></th>\n",
              "      <th></th>\n",
              "      <th></th>\n",
              "      <th></th>\n",
              "    </tr>\n",
              "  </thead>\n",
              "  <tbody>\n",
              "    <tr>\n",
              "      <th>12346</th>\n",
              "      <td>1.872750e+02</td>\n",
              "      <td>-22.275</td>\n",
              "      <td>0.0000</td>\n",
              "      <td>4.463250e+01</td>\n",
              "      <td>0.000</td>\n",
              "      <td>0.0000</td>\n",
              "      <td>-285.9285</td>\n",
              "      <td>0.0</td>\n",
              "      <td>0.000</td>\n",
              "      <td>0.000000e+00</td>\n",
              "      <td>-9.075000e+00</td>\n",
              "      <td>0.000000e+00</td>\n",
              "      <td>0.0000</td>\n",
              "      <td>0.0000</td>\n",
              "      <td>0.0000</td>\n",
              "      <td>0.0</td>\n",
              "      <td>0.00000</td>\n",
              "      <td>0.000000e+00</td>\n",
              "      <td>0.000</td>\n",
              "      <td>0.00000</td>\n",
              "      <td>0.0000</td>\n",
              "      <td>0.000000e+00</td>\n",
              "      <td>0.000</td>\n",
              "      <td>0.000000e+00</td>\n",
              "    </tr>\n",
              "    <tr>\n",
              "      <th>12347</th>\n",
              "      <td>0.000000e+00</td>\n",
              "      <td>0.000</td>\n",
              "      <td>0.0000</td>\n",
              "      <td>0.000000e+00</td>\n",
              "      <td>0.000</td>\n",
              "      <td>0.0000</td>\n",
              "      <td>0.0000</td>\n",
              "      <td>0.0</td>\n",
              "      <td>0.000</td>\n",
              "      <td>0.000000e+00</td>\n",
              "      <td>9.999495e+02</td>\n",
              "      <td>0.000000e+00</td>\n",
              "      <td>1174.4535</td>\n",
              "      <td>784.3935</td>\n",
              "      <td>0.0000</td>\n",
              "      <td>0.0</td>\n",
              "      <td>1049.81250</td>\n",
              "      <td>0.000000e+00</td>\n",
              "      <td>631.158</td>\n",
              "      <td>0.00000</td>\n",
              "      <td>965.1015</td>\n",
              "      <td>0.000000e+00</td>\n",
              "      <td>2135.628</td>\n",
              "      <td>0.000000e+00</td>\n",
              "    </tr>\n",
              "    <tr>\n",
              "      <th>12348</th>\n",
              "      <td>0.000000e+00</td>\n",
              "      <td>0.000</td>\n",
              "      <td>0.0000</td>\n",
              "      <td>0.000000e+00</td>\n",
              "      <td>0.000</td>\n",
              "      <td>0.0000</td>\n",
              "      <td>0.0000</td>\n",
              "      <td>0.0</td>\n",
              "      <td>0.000</td>\n",
              "      <td>3.665640e+02</td>\n",
              "      <td>0.000000e+00</td>\n",
              "      <td>0.000000e+00</td>\n",
              "      <td>2647.5735</td>\n",
              "      <td>1159.6695</td>\n",
              "      <td>0.0000</td>\n",
              "      <td>0.0</td>\n",
              "      <td>1655.36250</td>\n",
              "      <td>0.000000e+00</td>\n",
              "      <td>0.000</td>\n",
              "      <td>0.00000</td>\n",
              "      <td>0.0000</td>\n",
              "      <td>5.115000e+02</td>\n",
              "      <td>0.000</td>\n",
              "      <td>0.000000e+00</td>\n",
              "    </tr>\n",
              "    <tr>\n",
              "      <th>12349</th>\n",
              "      <td>1.474275e+02</td>\n",
              "      <td>0.000</td>\n",
              "      <td>0.0000</td>\n",
              "      <td>0.000000e+00</td>\n",
              "      <td>1763.058</td>\n",
              "      <td>330.0000</td>\n",
              "      <td>0.0000</td>\n",
              "      <td>0.0</td>\n",
              "      <td>0.000</td>\n",
              "      <td>0.000000e+00</td>\n",
              "      <td>3.314272e+03</td>\n",
              "      <td>0.000000e+00</td>\n",
              "      <td>0.0000</td>\n",
              "      <td>0.0000</td>\n",
              "      <td>0.0000</td>\n",
              "      <td>0.0</td>\n",
              "      <td>0.00000</td>\n",
              "      <td>0.000000e+00</td>\n",
              "      <td>0.000</td>\n",
              "      <td>0.00000</td>\n",
              "      <td>0.0000</td>\n",
              "      <td>0.000000e+00</td>\n",
              "      <td>0.000</td>\n",
              "      <td>2.899958e+03</td>\n",
              "    </tr>\n",
              "    <tr>\n",
              "      <th>12350</th>\n",
              "      <td>0.000000e+00</td>\n",
              "      <td>0.000</td>\n",
              "      <td>0.0000</td>\n",
              "      <td>0.000000e+00</td>\n",
              "      <td>0.000</td>\n",
              "      <td>0.0000</td>\n",
              "      <td>0.0000</td>\n",
              "      <td>0.0</td>\n",
              "      <td>0.000</td>\n",
              "      <td>0.000000e+00</td>\n",
              "      <td>0.000000e+00</td>\n",
              "      <td>0.000000e+00</td>\n",
              "      <td>0.0000</td>\n",
              "      <td>0.0000</td>\n",
              "      <td>551.7600</td>\n",
              "      <td>0.0</td>\n",
              "      <td>0.00000</td>\n",
              "      <td>0.000000e+00</td>\n",
              "      <td>0.000</td>\n",
              "      <td>0.00000</td>\n",
              "      <td>0.0000</td>\n",
              "      <td>0.000000e+00</td>\n",
              "      <td>0.000</td>\n",
              "      <td>0.000000e+00</td>\n",
              "    </tr>\n",
              "    <tr>\n",
              "      <th>...</th>\n",
              "      <td>...</td>\n",
              "      <td>...</td>\n",
              "      <td>...</td>\n",
              "      <td>...</td>\n",
              "      <td>...</td>\n",
              "      <td>...</td>\n",
              "      <td>...</td>\n",
              "      <td>...</td>\n",
              "      <td>...</td>\n",
              "      <td>...</td>\n",
              "      <td>...</td>\n",
              "      <td>...</td>\n",
              "      <td>...</td>\n",
              "      <td>...</td>\n",
              "      <td>...</td>\n",
              "      <td>...</td>\n",
              "      <td>...</td>\n",
              "      <td>...</td>\n",
              "      <td>...</td>\n",
              "      <td>...</td>\n",
              "      <td>...</td>\n",
              "      <td>...</td>\n",
              "      <td>...</td>\n",
              "      <td>...</td>\n",
              "    </tr>\n",
              "    <tr>\n",
              "      <th>18283</th>\n",
              "      <td>0.000000e+00</td>\n",
              "      <td>0.000</td>\n",
              "      <td>803829.5529</td>\n",
              "      <td>1.045142e+06</td>\n",
              "      <td>0.000</td>\n",
              "      <td>0.0000</td>\n",
              "      <td>0.0000</td>\n",
              "      <td>0.0</td>\n",
              "      <td>964302.867</td>\n",
              "      <td>0.000000e+00</td>\n",
              "      <td>0.000000e+00</td>\n",
              "      <td>1.862262e+06</td>\n",
              "      <td>0.0000</td>\n",
              "      <td>781657.6350</td>\n",
              "      <td>718631.2155</td>\n",
              "      <td>0.0</td>\n",
              "      <td>701617.40715</td>\n",
              "      <td>1.066307e+06</td>\n",
              "      <td>1001323.158</td>\n",
              "      <td>945635.32965</td>\n",
              "      <td>0.0000</td>\n",
              "      <td>1.533438e+06</td>\n",
              "      <td>1604186.727</td>\n",
              "      <td>1.859245e+06</td>\n",
              "    </tr>\n",
              "    <tr>\n",
              "      <th>18284</th>\n",
              "      <td>0.000000e+00</td>\n",
              "      <td>0.000</td>\n",
              "      <td>0.0000</td>\n",
              "      <td>0.000000e+00</td>\n",
              "      <td>0.000</td>\n",
              "      <td>0.0000</td>\n",
              "      <td>0.0000</td>\n",
              "      <td>0.0</td>\n",
              "      <td>0.000</td>\n",
              "      <td>0.000000e+00</td>\n",
              "      <td>1.586509e+06</td>\n",
              "      <td>0.000000e+00</td>\n",
              "      <td>0.0000</td>\n",
              "      <td>0.0000</td>\n",
              "      <td>0.0000</td>\n",
              "      <td>0.0</td>\n",
              "      <td>0.00000</td>\n",
              "      <td>0.000000e+00</td>\n",
              "      <td>0.000</td>\n",
              "      <td>0.00000</td>\n",
              "      <td>0.0000</td>\n",
              "      <td>0.000000e+00</td>\n",
              "      <td>0.000</td>\n",
              "      <td>0.000000e+00</td>\n",
              "    </tr>\n",
              "    <tr>\n",
              "      <th>18285</th>\n",
              "      <td>0.000000e+00</td>\n",
              "      <td>0.000</td>\n",
              "      <td>804534.1029</td>\n",
              "      <td>0.000000e+00</td>\n",
              "      <td>0.000</td>\n",
              "      <td>0.0000</td>\n",
              "      <td>0.0000</td>\n",
              "      <td>0.0</td>\n",
              "      <td>0.000</td>\n",
              "      <td>0.000000e+00</td>\n",
              "      <td>0.000000e+00</td>\n",
              "      <td>0.000000e+00</td>\n",
              "      <td>0.0000</td>\n",
              "      <td>0.0000</td>\n",
              "      <td>0.0000</td>\n",
              "      <td>0.0</td>\n",
              "      <td>0.00000</td>\n",
              "      <td>0.000000e+00</td>\n",
              "      <td>0.000</td>\n",
              "      <td>0.00000</td>\n",
              "      <td>0.0000</td>\n",
              "      <td>0.000000e+00</td>\n",
              "      <td>0.000</td>\n",
              "      <td>0.000000e+00</td>\n",
              "    </tr>\n",
              "    <tr>\n",
              "      <th>18286</th>\n",
              "      <td>1.089215e+06</td>\n",
              "      <td>0.000</td>\n",
              "      <td>0.0000</td>\n",
              "      <td>0.000000e+00</td>\n",
              "      <td>0.000</td>\n",
              "      <td>0.0000</td>\n",
              "      <td>938494.5075</td>\n",
              "      <td>0.0</td>\n",
              "      <td>965678.109</td>\n",
              "      <td>0.000000e+00</td>\n",
              "      <td>0.000000e+00</td>\n",
              "      <td>0.000000e+00</td>\n",
              "      <td>0.0000</td>\n",
              "      <td>0.0000</td>\n",
              "      <td>0.0000</td>\n",
              "      <td>0.0</td>\n",
              "      <td>0.00000</td>\n",
              "      <td>0.000000e+00</td>\n",
              "      <td>0.000</td>\n",
              "      <td>0.00000</td>\n",
              "      <td>0.0000</td>\n",
              "      <td>0.000000e+00</td>\n",
              "      <td>0.000</td>\n",
              "      <td>0.000000e+00</td>\n",
              "    </tr>\n",
              "    <tr>\n",
              "      <th>18287</th>\n",
              "      <td>1.089206e+06</td>\n",
              "      <td>0.000</td>\n",
              "      <td>0.0000</td>\n",
              "      <td>0.000000e+00</td>\n",
              "      <td>0.000</td>\n",
              "      <td>920491.0935</td>\n",
              "      <td>0.0000</td>\n",
              "      <td>0.0</td>\n",
              "      <td>0.000</td>\n",
              "      <td>1.284558e+06</td>\n",
              "      <td>0.000000e+00</td>\n",
              "      <td>1.862892e+06</td>\n",
              "      <td>0.0000</td>\n",
              "      <td>0.0000</td>\n",
              "      <td>0.0000</td>\n",
              "      <td>0.0</td>\n",
              "      <td>0.00000</td>\n",
              "      <td>1.067569e+06</td>\n",
              "      <td>0.000</td>\n",
              "      <td>0.00000</td>\n",
              "      <td>0.0000</td>\n",
              "      <td>0.000000e+00</td>\n",
              "      <td>1605955.527</td>\n",
              "      <td>0.000000e+00</td>\n",
              "    </tr>\n",
              "  </tbody>\n",
              "</table>\n",
              "<p>5914 rows × 24 columns</p>\n",
              "</div>"
            ],
            "text/plain": [
              "year_month        2009-12  2010-01  ...      2011-10       2011-11\n",
              "customer_id                         ...                           \n",
              "12346        1.872750e+02  -22.275  ...        0.000  0.000000e+00\n",
              "12347        0.000000e+00    0.000  ...     2135.628  0.000000e+00\n",
              "12348        0.000000e+00    0.000  ...        0.000  0.000000e+00\n",
              "12349        1.474275e+02    0.000  ...        0.000  2.899958e+03\n",
              "12350        0.000000e+00    0.000  ...        0.000  0.000000e+00\n",
              "...                   ...      ...  ...          ...           ...\n",
              "18283        0.000000e+00    0.000  ...  1604186.727  1.859245e+06\n",
              "18284        0.000000e+00    0.000  ...        0.000  0.000000e+00\n",
              "18285        0.000000e+00    0.000  ...        0.000  0.000000e+00\n",
              "18286        1.089215e+06    0.000  ...        0.000  0.000000e+00\n",
              "18287        1.089206e+06    0.000  ...  1605955.527  0.000000e+00\n",
              "\n",
              "[5914 rows x 24 columns]"
            ]
          },
          "metadata": {
            "tags": []
          },
          "execution_count": 8
        }
      ]
    },
    {
      "cell_type": "code",
      "metadata": {
        "id": "z25oq9opS1PV"
      },
      "source": [
        "# total 값 범주화\n",
        "# total값이 300 이상이면 1, 300 미만이면 0\n",
        "\n",
        "df.loc[df['2009-12'] >= 300, '09-12'] = 1\n",
        "df.loc[df['2009-12'] < 300, '09-12'] = 0\n",
        "df.loc[df['2010-01'] >= 300, '10-01'] = 1\n",
        "df.loc[df['2010-01'] < 300, '10-01'] = 0\n",
        "df.loc[df['2010-02'] >= 300, '10-02'] = 1\n",
        "df.loc[df['2010-02'] < 300, '10-02'] = 0\n",
        "df.loc[df['2010-03'] >= 300, '10-03'] = 1\n",
        "df.loc[df['2010-03'] < 300, '10-03'] = 0\n",
        "df.loc[df['2010-04'] >= 300, '10-04'] = 1\n",
        "df.loc[df['2010-04'] < 300, '10-04'] = 0\n",
        "df.loc[df['2010-05'] >= 300, '10-05'] = 1\n",
        "df.loc[df['2010-05'] < 300, '10-05'] = 0\n",
        "df.loc[df['2010-06'] >= 300, '10-06'] = 1\n",
        "df.loc[df['2010-06'] < 300, '10-06'] = 0\n",
        "df.loc[df['2010-07'] >= 300, '10-07'] = 1\n",
        "df.loc[df['2010-07'] < 300, '10-07'] = 0\n",
        "df.loc[df['2010-08'] >= 300, '10-08'] = 1\n",
        "df.loc[df['2010-08'] < 300, '10-08'] = 0\n",
        "df.loc[df['2010-09'] >= 300, '10-09'] = 1\n",
        "df.loc[df['2010-09'] < 300, '10-09'] = 0\n",
        "df.loc[df['2010-10'] >= 300, '10-10'] = 1\n",
        "df.loc[df['2010-10'] < 300, '10-10'] = 0\n",
        "df.loc[df['2010-11'] >= 300, '10-11'] = 1\n",
        "df.loc[df['2010-11'] < 300, '10-11'] = 0\n",
        "df.loc[df['2010-12'] >= 300, '10-12'] = 1\n",
        "df.loc[df['2010-12'] < 300, '10-12'] = 0\n",
        "df.loc[df['2011-01'] >= 300, '11-01'] = 1\n",
        "df.loc[df['2011-01'] < 300, '11-01'] = 0\n",
        "df.loc[df['2011-02'] >= 300, '11-02'] = 1\n",
        "df.loc[df['2011-02'] < 300, '11-02'] = 0\n",
        "df.loc[df['2011-03'] >= 300, '11-03'] = 1\n",
        "df.loc[df['2011-03'] < 300, '11-03'] = 0\n",
        "df.loc[df['2011-04'] >= 300, '11-04'] = 1\n",
        "df.loc[df['2011-04'] < 300, '11-04'] = 0\n",
        "df.loc[df['2011-05'] >= 300, '11-05'] = 1\n",
        "df.loc[df['2011-05'] < 300, '11-05'] = 0\n",
        "df.loc[df['2011-06'] >= 300, '11-06'] = 1\n",
        "df.loc[df['2011-06'] < 300, '11-06'] = 0\n",
        "df.loc[df['2011-07'] >= 300, '11-07'] = 1\n",
        "df.loc[df['2011-07'] < 300, '11-07'] = 0\n",
        "df.loc[df['2011-08'] >= 300, '11-08'] = 1\n",
        "df.loc[df['2011-08'] < 300, '11-08'] = 0\n",
        "df.loc[df['2011-09'] >= 300, '11-09'] = 1\n",
        "df.loc[df['2011-09'] < 300, '11-09'] = 0\n",
        "df.loc[df['2011-10'] >= 300, '11-10'] = 1\n",
        "df.loc[df['2011-10'] < 300, '11-10'] = 0\n",
        "df.loc[df['2011-11'] >= 300, '11-11'] = 1\n",
        "df.loc[df['2011-11'] < 300, '11-11'] = 0\n"
      ],
      "execution_count": null,
      "outputs": []
    },
    {
      "cell_type": "code",
      "metadata": {
        "id": "9Cb1bc4DS1LU"
      },
      "source": [
        "# 범주화 전 변수들 삭제하였습니다.\n",
        "df=df.drop(['2009-12','2010-01','2010-02','2010-03','2010-04','2010-05','2010-06','2010-07','2010-08','2010-09','2010-10','2010-11','2010-12','2011-01','2011-02','2011-03','2011-04','2011-05','2011-06','2011-07','2011-08','2011-09','2011-10','2011-11'],axis=1)"
      ],
      "execution_count": null,
      "outputs": []
    },
    {
      "cell_type": "code",
      "metadata": {
        "colab": {
          "base_uri": "https://localhost:8080/",
          "height": 406
        },
        "id": "rKVNfjwcS1Ix",
        "outputId": "16f496f7-461c-408d-9720-f128ad6382f2"
      },
      "source": [
        "df= df.reset_index()\n",
        "df"
      ],
      "execution_count": null,
      "outputs": [
        {
          "output_type": "execute_result",
          "data": {
            "text/html": [
              "<div>\n",
              "<style scoped>\n",
              "    .dataframe tbody tr th:only-of-type {\n",
              "        vertical-align: middle;\n",
              "    }\n",
              "\n",
              "    .dataframe tbody tr th {\n",
              "        vertical-align: top;\n",
              "    }\n",
              "\n",
              "    .dataframe thead th {\n",
              "        text-align: right;\n",
              "    }\n",
              "</style>\n",
              "<table border=\"1\" class=\"dataframe\">\n",
              "  <thead>\n",
              "    <tr style=\"text-align: right;\">\n",
              "      <th>year_month</th>\n",
              "      <th>customer_id</th>\n",
              "      <th>09-12</th>\n",
              "      <th>10-01</th>\n",
              "      <th>10-02</th>\n",
              "      <th>10-03</th>\n",
              "      <th>10-04</th>\n",
              "      <th>10-05</th>\n",
              "      <th>10-06</th>\n",
              "      <th>10-07</th>\n",
              "      <th>10-08</th>\n",
              "      <th>10-09</th>\n",
              "      <th>10-10</th>\n",
              "      <th>10-11</th>\n",
              "      <th>10-12</th>\n",
              "      <th>11-01</th>\n",
              "      <th>11-02</th>\n",
              "      <th>11-03</th>\n",
              "      <th>11-04</th>\n",
              "      <th>11-05</th>\n",
              "      <th>11-06</th>\n",
              "      <th>11-07</th>\n",
              "      <th>11-08</th>\n",
              "      <th>11-09</th>\n",
              "      <th>11-10</th>\n",
              "      <th>11-11</th>\n",
              "    </tr>\n",
              "  </thead>\n",
              "  <tbody>\n",
              "    <tr>\n",
              "      <th>0</th>\n",
              "      <td>12346</td>\n",
              "      <td>0.0</td>\n",
              "      <td>0.0</td>\n",
              "      <td>0.0</td>\n",
              "      <td>0.0</td>\n",
              "      <td>0.0</td>\n",
              "      <td>0.0</td>\n",
              "      <td>0.0</td>\n",
              "      <td>0.0</td>\n",
              "      <td>0.0</td>\n",
              "      <td>0.0</td>\n",
              "      <td>0.0</td>\n",
              "      <td>0.0</td>\n",
              "      <td>0.0</td>\n",
              "      <td>0.0</td>\n",
              "      <td>0.0</td>\n",
              "      <td>0.0</td>\n",
              "      <td>0.0</td>\n",
              "      <td>0.0</td>\n",
              "      <td>0.0</td>\n",
              "      <td>0.0</td>\n",
              "      <td>0.0</td>\n",
              "      <td>0.0</td>\n",
              "      <td>0.0</td>\n",
              "      <td>0.0</td>\n",
              "    </tr>\n",
              "    <tr>\n",
              "      <th>1</th>\n",
              "      <td>12347</td>\n",
              "      <td>0.0</td>\n",
              "      <td>0.0</td>\n",
              "      <td>0.0</td>\n",
              "      <td>0.0</td>\n",
              "      <td>0.0</td>\n",
              "      <td>0.0</td>\n",
              "      <td>0.0</td>\n",
              "      <td>0.0</td>\n",
              "      <td>0.0</td>\n",
              "      <td>0.0</td>\n",
              "      <td>1.0</td>\n",
              "      <td>0.0</td>\n",
              "      <td>1.0</td>\n",
              "      <td>1.0</td>\n",
              "      <td>0.0</td>\n",
              "      <td>0.0</td>\n",
              "      <td>1.0</td>\n",
              "      <td>0.0</td>\n",
              "      <td>1.0</td>\n",
              "      <td>0.0</td>\n",
              "      <td>1.0</td>\n",
              "      <td>0.0</td>\n",
              "      <td>1.0</td>\n",
              "      <td>0.0</td>\n",
              "    </tr>\n",
              "    <tr>\n",
              "      <th>2</th>\n",
              "      <td>12348</td>\n",
              "      <td>0.0</td>\n",
              "      <td>0.0</td>\n",
              "      <td>0.0</td>\n",
              "      <td>0.0</td>\n",
              "      <td>0.0</td>\n",
              "      <td>0.0</td>\n",
              "      <td>0.0</td>\n",
              "      <td>0.0</td>\n",
              "      <td>0.0</td>\n",
              "      <td>1.0</td>\n",
              "      <td>0.0</td>\n",
              "      <td>0.0</td>\n",
              "      <td>1.0</td>\n",
              "      <td>1.0</td>\n",
              "      <td>0.0</td>\n",
              "      <td>0.0</td>\n",
              "      <td>1.0</td>\n",
              "      <td>0.0</td>\n",
              "      <td>0.0</td>\n",
              "      <td>0.0</td>\n",
              "      <td>0.0</td>\n",
              "      <td>1.0</td>\n",
              "      <td>0.0</td>\n",
              "      <td>0.0</td>\n",
              "    </tr>\n",
              "    <tr>\n",
              "      <th>3</th>\n",
              "      <td>12349</td>\n",
              "      <td>0.0</td>\n",
              "      <td>0.0</td>\n",
              "      <td>0.0</td>\n",
              "      <td>0.0</td>\n",
              "      <td>1.0</td>\n",
              "      <td>1.0</td>\n",
              "      <td>0.0</td>\n",
              "      <td>0.0</td>\n",
              "      <td>0.0</td>\n",
              "      <td>0.0</td>\n",
              "      <td>1.0</td>\n",
              "      <td>0.0</td>\n",
              "      <td>0.0</td>\n",
              "      <td>0.0</td>\n",
              "      <td>0.0</td>\n",
              "      <td>0.0</td>\n",
              "      <td>0.0</td>\n",
              "      <td>0.0</td>\n",
              "      <td>0.0</td>\n",
              "      <td>0.0</td>\n",
              "      <td>0.0</td>\n",
              "      <td>0.0</td>\n",
              "      <td>0.0</td>\n",
              "      <td>1.0</td>\n",
              "    </tr>\n",
              "    <tr>\n",
              "      <th>4</th>\n",
              "      <td>12350</td>\n",
              "      <td>0.0</td>\n",
              "      <td>0.0</td>\n",
              "      <td>0.0</td>\n",
              "      <td>0.0</td>\n",
              "      <td>0.0</td>\n",
              "      <td>0.0</td>\n",
              "      <td>0.0</td>\n",
              "      <td>0.0</td>\n",
              "      <td>0.0</td>\n",
              "      <td>0.0</td>\n",
              "      <td>0.0</td>\n",
              "      <td>0.0</td>\n",
              "      <td>0.0</td>\n",
              "      <td>0.0</td>\n",
              "      <td>1.0</td>\n",
              "      <td>0.0</td>\n",
              "      <td>0.0</td>\n",
              "      <td>0.0</td>\n",
              "      <td>0.0</td>\n",
              "      <td>0.0</td>\n",
              "      <td>0.0</td>\n",
              "      <td>0.0</td>\n",
              "      <td>0.0</td>\n",
              "      <td>0.0</td>\n",
              "    </tr>\n",
              "    <tr>\n",
              "      <th>...</th>\n",
              "      <td>...</td>\n",
              "      <td>...</td>\n",
              "      <td>...</td>\n",
              "      <td>...</td>\n",
              "      <td>...</td>\n",
              "      <td>...</td>\n",
              "      <td>...</td>\n",
              "      <td>...</td>\n",
              "      <td>...</td>\n",
              "      <td>...</td>\n",
              "      <td>...</td>\n",
              "      <td>...</td>\n",
              "      <td>...</td>\n",
              "      <td>...</td>\n",
              "      <td>...</td>\n",
              "      <td>...</td>\n",
              "      <td>...</td>\n",
              "      <td>...</td>\n",
              "      <td>...</td>\n",
              "      <td>...</td>\n",
              "      <td>...</td>\n",
              "      <td>...</td>\n",
              "      <td>...</td>\n",
              "      <td>...</td>\n",
              "      <td>...</td>\n",
              "    </tr>\n",
              "    <tr>\n",
              "      <th>5909</th>\n",
              "      <td>18283</td>\n",
              "      <td>0.0</td>\n",
              "      <td>0.0</td>\n",
              "      <td>1.0</td>\n",
              "      <td>1.0</td>\n",
              "      <td>0.0</td>\n",
              "      <td>0.0</td>\n",
              "      <td>0.0</td>\n",
              "      <td>0.0</td>\n",
              "      <td>1.0</td>\n",
              "      <td>0.0</td>\n",
              "      <td>0.0</td>\n",
              "      <td>1.0</td>\n",
              "      <td>0.0</td>\n",
              "      <td>1.0</td>\n",
              "      <td>1.0</td>\n",
              "      <td>0.0</td>\n",
              "      <td>1.0</td>\n",
              "      <td>1.0</td>\n",
              "      <td>1.0</td>\n",
              "      <td>1.0</td>\n",
              "      <td>0.0</td>\n",
              "      <td>1.0</td>\n",
              "      <td>1.0</td>\n",
              "      <td>1.0</td>\n",
              "    </tr>\n",
              "    <tr>\n",
              "      <th>5910</th>\n",
              "      <td>18284</td>\n",
              "      <td>0.0</td>\n",
              "      <td>0.0</td>\n",
              "      <td>0.0</td>\n",
              "      <td>0.0</td>\n",
              "      <td>0.0</td>\n",
              "      <td>0.0</td>\n",
              "      <td>0.0</td>\n",
              "      <td>0.0</td>\n",
              "      <td>0.0</td>\n",
              "      <td>0.0</td>\n",
              "      <td>1.0</td>\n",
              "      <td>0.0</td>\n",
              "      <td>0.0</td>\n",
              "      <td>0.0</td>\n",
              "      <td>0.0</td>\n",
              "      <td>0.0</td>\n",
              "      <td>0.0</td>\n",
              "      <td>0.0</td>\n",
              "      <td>0.0</td>\n",
              "      <td>0.0</td>\n",
              "      <td>0.0</td>\n",
              "      <td>0.0</td>\n",
              "      <td>0.0</td>\n",
              "      <td>0.0</td>\n",
              "    </tr>\n",
              "    <tr>\n",
              "      <th>5911</th>\n",
              "      <td>18285</td>\n",
              "      <td>0.0</td>\n",
              "      <td>0.0</td>\n",
              "      <td>1.0</td>\n",
              "      <td>0.0</td>\n",
              "      <td>0.0</td>\n",
              "      <td>0.0</td>\n",
              "      <td>0.0</td>\n",
              "      <td>0.0</td>\n",
              "      <td>0.0</td>\n",
              "      <td>0.0</td>\n",
              "      <td>0.0</td>\n",
              "      <td>0.0</td>\n",
              "      <td>0.0</td>\n",
              "      <td>0.0</td>\n",
              "      <td>0.0</td>\n",
              "      <td>0.0</td>\n",
              "      <td>0.0</td>\n",
              "      <td>0.0</td>\n",
              "      <td>0.0</td>\n",
              "      <td>0.0</td>\n",
              "      <td>0.0</td>\n",
              "      <td>0.0</td>\n",
              "      <td>0.0</td>\n",
              "      <td>0.0</td>\n",
              "    </tr>\n",
              "    <tr>\n",
              "      <th>5912</th>\n",
              "      <td>18286</td>\n",
              "      <td>1.0</td>\n",
              "      <td>0.0</td>\n",
              "      <td>0.0</td>\n",
              "      <td>0.0</td>\n",
              "      <td>0.0</td>\n",
              "      <td>0.0</td>\n",
              "      <td>1.0</td>\n",
              "      <td>0.0</td>\n",
              "      <td>1.0</td>\n",
              "      <td>0.0</td>\n",
              "      <td>0.0</td>\n",
              "      <td>0.0</td>\n",
              "      <td>0.0</td>\n",
              "      <td>0.0</td>\n",
              "      <td>0.0</td>\n",
              "      <td>0.0</td>\n",
              "      <td>0.0</td>\n",
              "      <td>0.0</td>\n",
              "      <td>0.0</td>\n",
              "      <td>0.0</td>\n",
              "      <td>0.0</td>\n",
              "      <td>0.0</td>\n",
              "      <td>0.0</td>\n",
              "      <td>0.0</td>\n",
              "    </tr>\n",
              "    <tr>\n",
              "      <th>5913</th>\n",
              "      <td>18287</td>\n",
              "      <td>1.0</td>\n",
              "      <td>0.0</td>\n",
              "      <td>0.0</td>\n",
              "      <td>0.0</td>\n",
              "      <td>0.0</td>\n",
              "      <td>1.0</td>\n",
              "      <td>0.0</td>\n",
              "      <td>0.0</td>\n",
              "      <td>0.0</td>\n",
              "      <td>1.0</td>\n",
              "      <td>0.0</td>\n",
              "      <td>1.0</td>\n",
              "      <td>0.0</td>\n",
              "      <td>0.0</td>\n",
              "      <td>0.0</td>\n",
              "      <td>0.0</td>\n",
              "      <td>0.0</td>\n",
              "      <td>1.0</td>\n",
              "      <td>0.0</td>\n",
              "      <td>0.0</td>\n",
              "      <td>0.0</td>\n",
              "      <td>0.0</td>\n",
              "      <td>1.0</td>\n",
              "      <td>0.0</td>\n",
              "    </tr>\n",
              "  </tbody>\n",
              "</table>\n",
              "<p>5914 rows × 25 columns</p>\n",
              "</div>"
            ],
            "text/plain": [
              "year_month  customer_id  09-12  10-01  10-02  ...  11-08  11-09  11-10  11-11\n",
              "0                 12346    0.0    0.0    0.0  ...    0.0    0.0    0.0    0.0\n",
              "1                 12347    0.0    0.0    0.0  ...    1.0    0.0    1.0    0.0\n",
              "2                 12348    0.0    0.0    0.0  ...    0.0    1.0    0.0    0.0\n",
              "3                 12349    0.0    0.0    0.0  ...    0.0    0.0    0.0    1.0\n",
              "4                 12350    0.0    0.0    0.0  ...    0.0    0.0    0.0    0.0\n",
              "...                 ...    ...    ...    ...  ...    ...    ...    ...    ...\n",
              "5909              18283    0.0    0.0    1.0  ...    0.0    1.0    1.0    1.0\n",
              "5910              18284    0.0    0.0    0.0  ...    0.0    0.0    0.0    0.0\n",
              "5911              18285    0.0    0.0    1.0  ...    0.0    0.0    0.0    0.0\n",
              "5912              18286    1.0    0.0    0.0  ...    0.0    0.0    0.0    0.0\n",
              "5913              18287    1.0    0.0    0.0  ...    0.0    0.0    1.0    0.0\n",
              "\n",
              "[5914 rows x 25 columns]"
            ]
          },
          "metadata": {
            "tags": []
          },
          "execution_count": 11
        }
      ]
    },
    {
      "cell_type": "markdown",
      "metadata": {
        "id": "_ooQPuBGsAto"
      },
      "source": [
        "--------------"
      ]
    },
    {
      "cell_type": "markdown",
      "metadata": {
        "id": "njKQICh4U1BH"
      },
      "source": [
        "위에 있는 연도,월 별 total값 사용하기 전 과정"
      ]
    },
    {
      "cell_type": "markdown",
      "metadata": {
        "id": "ZsYsboMnoxxh"
      },
      "source": [
        "3. 모델을 선택하여 학습을 하고, 정확도,recall,precision을 출력하여서 제출하시오."
      ]
    },
    {
      "cell_type": "code",
      "metadata": {
        "colab": {
          "base_uri": "https://localhost:8080/",
          "height": 402
        },
        "id": "yy-W2NKAaZN-",
        "outputId": "dc2d9530-e440-4955-d3eb-1b68328232e4"
      },
      "source": [
        "df"
      ],
      "execution_count": null,
      "outputs": [
        {
          "output_type": "execute_result",
          "data": {
            "text/html": [
              "<div>\n",
              "<style scoped>\n",
              "    .dataframe tbody tr th:only-of-type {\n",
              "        vertical-align: middle;\n",
              "    }\n",
              "\n",
              "    .dataframe tbody tr th {\n",
              "        vertical-align: top;\n",
              "    }\n",
              "\n",
              "    .dataframe thead th {\n",
              "        text-align: right;\n",
              "    }\n",
              "</style>\n",
              "<table border=\"1\" class=\"dataframe\">\n",
              "  <thead>\n",
              "    <tr style=\"text-align: right;\">\n",
              "      <th></th>\n",
              "      <th>order_id</th>\n",
              "      <th>product_id</th>\n",
              "      <th>description</th>\n",
              "      <th>quantity</th>\n",
              "      <th>order_date</th>\n",
              "      <th>price</th>\n",
              "      <th>customer_id</th>\n",
              "      <th>country</th>\n",
              "      <th>total_bin</th>\n",
              "    </tr>\n",
              "  </thead>\n",
              "  <tbody>\n",
              "    <tr>\n",
              "      <th>0</th>\n",
              "      <td>0</td>\n",
              "      <td>4021</td>\n",
              "      <td>61</td>\n",
              "      <td>12</td>\n",
              "      <td>2009-12-01 07:45:00</td>\n",
              "      <td>11.4675</td>\n",
              "      <td>13085</td>\n",
              "      <td>38</td>\n",
              "      <td>0.0</td>\n",
              "    </tr>\n",
              "    <tr>\n",
              "      <th>1</th>\n",
              "      <td>0</td>\n",
              "      <td>3336</td>\n",
              "      <td>3296</td>\n",
              "      <td>12</td>\n",
              "      <td>2009-12-01 07:45:00</td>\n",
              "      <td>11.1375</td>\n",
              "      <td>13085</td>\n",
              "      <td>38</td>\n",
              "      <td>0.0</td>\n",
              "    </tr>\n",
              "    <tr>\n",
              "      <th>2</th>\n",
              "      <td>0</td>\n",
              "      <td>3338</td>\n",
              "      <td>36</td>\n",
              "      <td>12</td>\n",
              "      <td>2009-12-01 07:45:00</td>\n",
              "      <td>11.1375</td>\n",
              "      <td>13085</td>\n",
              "      <td>38</td>\n",
              "      <td>0.0</td>\n",
              "    </tr>\n",
              "    <tr>\n",
              "      <th>3</th>\n",
              "      <td>0</td>\n",
              "      <td>1261</td>\n",
              "      <td>3627</td>\n",
              "      <td>48</td>\n",
              "      <td>2009-12-01 07:45:00</td>\n",
              "      <td>3.4650</td>\n",
              "      <td>13085</td>\n",
              "      <td>38</td>\n",
              "      <td>0.0</td>\n",
              "    </tr>\n",
              "    <tr>\n",
              "      <th>4</th>\n",
              "      <td>0</td>\n",
              "      <td>620</td>\n",
              "      <td>4623</td>\n",
              "      <td>24</td>\n",
              "      <td>2009-12-01 07:45:00</td>\n",
              "      <td>2.0625</td>\n",
              "      <td>13085</td>\n",
              "      <td>38</td>\n",
              "      <td>0.0</td>\n",
              "    </tr>\n",
              "    <tr>\n",
              "      <th>...</th>\n",
              "      <td>...</td>\n",
              "      <td>...</td>\n",
              "      <td>...</td>\n",
              "      <td>...</td>\n",
              "      <td>...</td>\n",
              "      <td>...</td>\n",
              "      <td>...</td>\n",
              "      <td>...</td>\n",
              "      <td>...</td>\n",
              "    </tr>\n",
              "    <tr>\n",
              "      <th>780497</th>\n",
              "      <td>43953</td>\n",
              "      <td>1413</td>\n",
              "      <td>3536</td>\n",
              "      <td>-1</td>\n",
              "      <td>2011-11-30 17:39:00</td>\n",
              "      <td>1.4025</td>\n",
              "      <td>15676</td>\n",
              "      <td>38</td>\n",
              "      <td>0.0</td>\n",
              "    </tr>\n",
              "    <tr>\n",
              "      <th>780498</th>\n",
              "      <td>43953</td>\n",
              "      <td>2312</td>\n",
              "      <td>4796</td>\n",
              "      <td>-1</td>\n",
              "      <td>2011-11-30 17:39:00</td>\n",
              "      <td>5.4285</td>\n",
              "      <td>15676</td>\n",
              "      <td>38</td>\n",
              "      <td>0.0</td>\n",
              "    </tr>\n",
              "    <tr>\n",
              "      <th>780499</th>\n",
              "      <td>43954</td>\n",
              "      <td>3898</td>\n",
              "      <td>260</td>\n",
              "      <td>-1</td>\n",
              "      <td>2011-11-30 17:42:00</td>\n",
              "      <td>2.0625</td>\n",
              "      <td>16717</td>\n",
              "      <td>38</td>\n",
              "      <td>0.0</td>\n",
              "    </tr>\n",
              "    <tr>\n",
              "      <th>780500</th>\n",
              "      <td>43954</td>\n",
              "      <td>4021</td>\n",
              "      <td>61</td>\n",
              "      <td>-1</td>\n",
              "      <td>2011-11-30 17:42:00</td>\n",
              "      <td>13.1175</td>\n",
              "      <td>16717</td>\n",
              "      <td>38</td>\n",
              "      <td>0.0</td>\n",
              "    </tr>\n",
              "    <tr>\n",
              "      <th>780501</th>\n",
              "      <td>43954</td>\n",
              "      <td>2631</td>\n",
              "      <td>4682</td>\n",
              "      <td>-3</td>\n",
              "      <td>2011-11-30 17:42:00</td>\n",
              "      <td>6.1875</td>\n",
              "      <td>16717</td>\n",
              "      <td>38</td>\n",
              "      <td>0.0</td>\n",
              "    </tr>\n",
              "  </tbody>\n",
              "</table>\n",
              "<p>780502 rows × 9 columns</p>\n",
              "</div>"
            ],
            "text/plain": [
              "        order_id  product_id  description  ...  customer_id country  total_bin\n",
              "0              0        4021           61  ...        13085      38        0.0\n",
              "1              0        3336         3296  ...        13085      38        0.0\n",
              "2              0        3338           36  ...        13085      38        0.0\n",
              "3              0        1261         3627  ...        13085      38        0.0\n",
              "4              0         620         4623  ...        13085      38        0.0\n",
              "...          ...         ...          ...  ...          ...     ...        ...\n",
              "780497     43953        1413         3536  ...        15676      38        0.0\n",
              "780498     43953        2312         4796  ...        15676      38        0.0\n",
              "780499     43954        3898          260  ...        16717      38        0.0\n",
              "780500     43954        4021           61  ...        16717      38        0.0\n",
              "780501     43954        2631         4682  ...        16717      38        0.0\n",
              "\n",
              "[780502 rows x 9 columns]"
            ]
          },
          "metadata": {
            "tags": []
          },
          "execution_count": 15
        }
      ]
    },
    {
      "cell_type": "code",
      "metadata": {
        "id": "fA8oHnCXksG3"
      },
      "source": [
        "df1=df.copy()"
      ],
      "execution_count": null,
      "outputs": []
    },
    {
      "cell_type": "code",
      "metadata": {
        "id": "DYY-ITpokyh2"
      },
      "source": [
        "df1=df1.drop('total_bin',axis=1)"
      ],
      "execution_count": null,
      "outputs": []
    },
    {
      "cell_type": "code",
      "metadata": {
        "id": "N1YNiP3cule3"
      },
      "source": [
        "# order_date를 year과 month 로 추출해줍니다.\n",
        "df1['year'] = pd.DatetimeIndex(df1['order_date']).year\n",
        "df1['month'] = pd.DatetimeIndex(df1['order_date']).month"
      ],
      "execution_count": null,
      "outputs": []
    },
    {
      "cell_type": "code",
      "metadata": {
        "id": "ivRoTXsduyR3"
      },
      "source": [
        "# order_date를 삭제해줍니다.\n",
        "df1=df1.drop('order_date',axis=1)"
      ],
      "execution_count": null,
      "outputs": []
    },
    {
      "cell_type": "code",
      "metadata": {
        "colab": {
          "base_uri": "https://localhost:8080/",
          "height": 402
        },
        "id": "e-4-f_yulqkH",
        "outputId": "9a9caac2-995d-4f57-b745-5ddeb29dd8f1"
      },
      "source": [
        "# 종속변수인 total을 제외한 나머지 변수들\n",
        "df1"
      ],
      "execution_count": null,
      "outputs": [
        {
          "output_type": "execute_result",
          "data": {
            "text/html": [
              "<div>\n",
              "<style scoped>\n",
              "    .dataframe tbody tr th:only-of-type {\n",
              "        vertical-align: middle;\n",
              "    }\n",
              "\n",
              "    .dataframe tbody tr th {\n",
              "        vertical-align: top;\n",
              "    }\n",
              "\n",
              "    .dataframe thead th {\n",
              "        text-align: right;\n",
              "    }\n",
              "</style>\n",
              "<table border=\"1\" class=\"dataframe\">\n",
              "  <thead>\n",
              "    <tr style=\"text-align: right;\">\n",
              "      <th></th>\n",
              "      <th>order_id</th>\n",
              "      <th>product_id</th>\n",
              "      <th>description</th>\n",
              "      <th>quantity</th>\n",
              "      <th>price</th>\n",
              "      <th>customer_id</th>\n",
              "      <th>country</th>\n",
              "      <th>year</th>\n",
              "      <th>month</th>\n",
              "    </tr>\n",
              "  </thead>\n",
              "  <tbody>\n",
              "    <tr>\n",
              "      <th>0</th>\n",
              "      <td>0</td>\n",
              "      <td>4021</td>\n",
              "      <td>61</td>\n",
              "      <td>12</td>\n",
              "      <td>11.4675</td>\n",
              "      <td>13085</td>\n",
              "      <td>38</td>\n",
              "      <td>2009</td>\n",
              "      <td>12</td>\n",
              "    </tr>\n",
              "    <tr>\n",
              "      <th>1</th>\n",
              "      <td>0</td>\n",
              "      <td>3336</td>\n",
              "      <td>3296</td>\n",
              "      <td>12</td>\n",
              "      <td>11.1375</td>\n",
              "      <td>13085</td>\n",
              "      <td>38</td>\n",
              "      <td>2009</td>\n",
              "      <td>12</td>\n",
              "    </tr>\n",
              "    <tr>\n",
              "      <th>2</th>\n",
              "      <td>0</td>\n",
              "      <td>3338</td>\n",
              "      <td>36</td>\n",
              "      <td>12</td>\n",
              "      <td>11.1375</td>\n",
              "      <td>13085</td>\n",
              "      <td>38</td>\n",
              "      <td>2009</td>\n",
              "      <td>12</td>\n",
              "    </tr>\n",
              "    <tr>\n",
              "      <th>3</th>\n",
              "      <td>0</td>\n",
              "      <td>1261</td>\n",
              "      <td>3627</td>\n",
              "      <td>48</td>\n",
              "      <td>3.4650</td>\n",
              "      <td>13085</td>\n",
              "      <td>38</td>\n",
              "      <td>2009</td>\n",
              "      <td>12</td>\n",
              "    </tr>\n",
              "    <tr>\n",
              "      <th>4</th>\n",
              "      <td>0</td>\n",
              "      <td>620</td>\n",
              "      <td>4623</td>\n",
              "      <td>24</td>\n",
              "      <td>2.0625</td>\n",
              "      <td>13085</td>\n",
              "      <td>38</td>\n",
              "      <td>2009</td>\n",
              "      <td>12</td>\n",
              "    </tr>\n",
              "    <tr>\n",
              "      <th>...</th>\n",
              "      <td>...</td>\n",
              "      <td>...</td>\n",
              "      <td>...</td>\n",
              "      <td>...</td>\n",
              "      <td>...</td>\n",
              "      <td>...</td>\n",
              "      <td>...</td>\n",
              "      <td>...</td>\n",
              "      <td>...</td>\n",
              "    </tr>\n",
              "    <tr>\n",
              "      <th>780497</th>\n",
              "      <td>43953</td>\n",
              "      <td>1413</td>\n",
              "      <td>3536</td>\n",
              "      <td>-1</td>\n",
              "      <td>1.4025</td>\n",
              "      <td>15676</td>\n",
              "      <td>38</td>\n",
              "      <td>2011</td>\n",
              "      <td>11</td>\n",
              "    </tr>\n",
              "    <tr>\n",
              "      <th>780498</th>\n",
              "      <td>43953</td>\n",
              "      <td>2312</td>\n",
              "      <td>4796</td>\n",
              "      <td>-1</td>\n",
              "      <td>5.4285</td>\n",
              "      <td>15676</td>\n",
              "      <td>38</td>\n",
              "      <td>2011</td>\n",
              "      <td>11</td>\n",
              "    </tr>\n",
              "    <tr>\n",
              "      <th>780499</th>\n",
              "      <td>43954</td>\n",
              "      <td>3898</td>\n",
              "      <td>260</td>\n",
              "      <td>-1</td>\n",
              "      <td>2.0625</td>\n",
              "      <td>16717</td>\n",
              "      <td>38</td>\n",
              "      <td>2011</td>\n",
              "      <td>11</td>\n",
              "    </tr>\n",
              "    <tr>\n",
              "      <th>780500</th>\n",
              "      <td>43954</td>\n",
              "      <td>4021</td>\n",
              "      <td>61</td>\n",
              "      <td>-1</td>\n",
              "      <td>13.1175</td>\n",
              "      <td>16717</td>\n",
              "      <td>38</td>\n",
              "      <td>2011</td>\n",
              "      <td>11</td>\n",
              "    </tr>\n",
              "    <tr>\n",
              "      <th>780501</th>\n",
              "      <td>43954</td>\n",
              "      <td>2631</td>\n",
              "      <td>4682</td>\n",
              "      <td>-3</td>\n",
              "      <td>6.1875</td>\n",
              "      <td>16717</td>\n",
              "      <td>38</td>\n",
              "      <td>2011</td>\n",
              "      <td>11</td>\n",
              "    </tr>\n",
              "  </tbody>\n",
              "</table>\n",
              "<p>780502 rows × 9 columns</p>\n",
              "</div>"
            ],
            "text/plain": [
              "        order_id  product_id  description  ...  country  year  month\n",
              "0              0        4021           61  ...       38  2009     12\n",
              "1              0        3336         3296  ...       38  2009     12\n",
              "2              0        3338           36  ...       38  2009     12\n",
              "3              0        1261         3627  ...       38  2009     12\n",
              "4              0         620         4623  ...       38  2009     12\n",
              "...          ...         ...          ...  ...      ...   ...    ...\n",
              "780497     43953        1413         3536  ...       38  2011     11\n",
              "780498     43953        2312         4796  ...       38  2011     11\n",
              "780499     43954        3898          260  ...       38  2011     11\n",
              "780500     43954        4021           61  ...       38  2011     11\n",
              "780501     43954        2631         4682  ...       38  2011     11\n",
              "\n",
              "[780502 rows x 9 columns]"
            ]
          },
          "metadata": {
            "tags": []
          },
          "execution_count": 20
        }
      ]
    },
    {
      "cell_type": "code",
      "metadata": {
        "id": "wVH1yb6Lkv4e"
      },
      "source": [
        "df2=df.copy()"
      ],
      "execution_count": null,
      "outputs": []
    },
    {
      "cell_type": "code",
      "metadata": {
        "id": "EDTwymyGk_uJ"
      },
      "source": [
        "df2=df2.drop(['order_id','product_id','description','quantity','order_date','price','customer_id','country'],axis=1)"
      ],
      "execution_count": null,
      "outputs": []
    },
    {
      "cell_type": "code",
      "metadata": {
        "colab": {
          "base_uri": "https://localhost:8080/",
          "height": 402
        },
        "id": "E22LEGIslsCm",
        "outputId": "f74df65a-36c7-43a8-92df-50af9b5d86e3"
      },
      "source": [
        "# 종속변수인 total만 있습니다.\n",
        "df2"
      ],
      "execution_count": null,
      "outputs": [
        {
          "output_type": "execute_result",
          "data": {
            "text/html": [
              "<div>\n",
              "<style scoped>\n",
              "    .dataframe tbody tr th:only-of-type {\n",
              "        vertical-align: middle;\n",
              "    }\n",
              "\n",
              "    .dataframe tbody tr th {\n",
              "        vertical-align: top;\n",
              "    }\n",
              "\n",
              "    .dataframe thead th {\n",
              "        text-align: right;\n",
              "    }\n",
              "</style>\n",
              "<table border=\"1\" class=\"dataframe\">\n",
              "  <thead>\n",
              "    <tr style=\"text-align: right;\">\n",
              "      <th></th>\n",
              "      <th>total_bin</th>\n",
              "    </tr>\n",
              "  </thead>\n",
              "  <tbody>\n",
              "    <tr>\n",
              "      <th>0</th>\n",
              "      <td>0.0</td>\n",
              "    </tr>\n",
              "    <tr>\n",
              "      <th>1</th>\n",
              "      <td>0.0</td>\n",
              "    </tr>\n",
              "    <tr>\n",
              "      <th>2</th>\n",
              "      <td>0.0</td>\n",
              "    </tr>\n",
              "    <tr>\n",
              "      <th>3</th>\n",
              "      <td>0.0</td>\n",
              "    </tr>\n",
              "    <tr>\n",
              "      <th>4</th>\n",
              "      <td>0.0</td>\n",
              "    </tr>\n",
              "    <tr>\n",
              "      <th>...</th>\n",
              "      <td>...</td>\n",
              "    </tr>\n",
              "    <tr>\n",
              "      <th>780497</th>\n",
              "      <td>0.0</td>\n",
              "    </tr>\n",
              "    <tr>\n",
              "      <th>780498</th>\n",
              "      <td>0.0</td>\n",
              "    </tr>\n",
              "    <tr>\n",
              "      <th>780499</th>\n",
              "      <td>0.0</td>\n",
              "    </tr>\n",
              "    <tr>\n",
              "      <th>780500</th>\n",
              "      <td>0.0</td>\n",
              "    </tr>\n",
              "    <tr>\n",
              "      <th>780501</th>\n",
              "      <td>0.0</td>\n",
              "    </tr>\n",
              "  </tbody>\n",
              "</table>\n",
              "<p>780502 rows × 1 columns</p>\n",
              "</div>"
            ],
            "text/plain": [
              "        total_bin\n",
              "0             0.0\n",
              "1             0.0\n",
              "2             0.0\n",
              "3             0.0\n",
              "4             0.0\n",
              "...           ...\n",
              "780497        0.0\n",
              "780498        0.0\n",
              "780499        0.0\n",
              "780500        0.0\n",
              "780501        0.0\n",
              "\n",
              "[780502 rows x 1 columns]"
            ]
          },
          "metadata": {
            "tags": []
          },
          "execution_count": 23
        }
      ]
    },
    {
      "cell_type": "code",
      "metadata": {
        "id": "2ex4kHNwWaH4"
      },
      "source": [
        "# KNN\n",
        "# train,test로 분류해줍니다.\n",
        "from sklearn.model_selection import train_test_split\n",
        "X_train,X_test,y_train, y_test = train_test_split(df1,df2,test_size=0.33, random_state=42)"
      ],
      "execution_count": null,
      "outputs": []
    },
    {
      "cell_type": "code",
      "metadata": {
        "colab": {
          "base_uri": "https://localhost:8080/"
        },
        "id": "8omph9W2nJ9X",
        "outputId": "1b637977-d90e-40f5-9c36-63309c7fab2d"
      },
      "source": [
        "print(X_train.shape)"
      ],
      "execution_count": null,
      "outputs": [
        {
          "output_type": "stream",
          "text": [
            "(522936, 9)\n"
          ],
          "name": "stdout"
        }
      ]
    },
    {
      "cell_type": "code",
      "metadata": {
        "colab": {
          "base_uri": "https://localhost:8080/"
        },
        "id": "6TKRcOpJOlHX",
        "outputId": "53fb0cc6-18fb-43bd-d83a-19a1b20d33cf"
      },
      "source": [
        "print(X_test.shape)"
      ],
      "execution_count": null,
      "outputs": [
        {
          "output_type": "stream",
          "text": [
            "(257566, 9)\n"
          ],
          "name": "stdout"
        }
      ]
    },
    {
      "cell_type": "code",
      "metadata": {
        "colab": {
          "base_uri": "https://localhost:8080/"
        },
        "id": "V96gfzOgnLiP",
        "outputId": "6975f058-168c-4291-d5e5-96c4ebff2c9c"
      },
      "source": [
        "print(y_train.shape)"
      ],
      "execution_count": null,
      "outputs": [
        {
          "output_type": "stream",
          "text": [
            "(522936, 1)\n"
          ],
          "name": "stdout"
        }
      ]
    },
    {
      "cell_type": "code",
      "metadata": {
        "colab": {
          "base_uri": "https://localhost:8080/"
        },
        "id": "_B9DgdxwOptQ",
        "outputId": "e924d13d-8133-46f7-c63f-ef76f32d5d94"
      },
      "source": [
        "print(y_test.shape)"
      ],
      "execution_count": null,
      "outputs": [
        {
          "output_type": "stream",
          "text": [
            "(257566, 1)\n"
          ],
          "name": "stdout"
        }
      ]
    },
    {
      "cell_type": "code",
      "metadata": {
        "colab": {
          "base_uri": "https://localhost:8080/"
        },
        "id": "TqVTH7xhnNJw",
        "outputId": "3e834f28-edd8-4a76-b780-1b84b3962552"
      },
      "source": [
        "#knn을 이용하여 테스트의 y값을 예측합니다.\n",
        "from sklearn.neighbors import KNeighborsClassifier\n",
        "classifier = KNeighborsClassifier(n_neighbors=5)\n",
        "classifier.fit(X_train, y_train)"
      ],
      "execution_count": null,
      "outputs": [
        {
          "output_type": "stream",
          "text": [
            "/usr/local/lib/python3.7/dist-packages/ipykernel_launcher.py:4: DataConversionWarning: A column-vector y was passed when a 1d array was expected. Please change the shape of y to (n_samples, ), for example using ravel().\n",
            "  after removing the cwd from sys.path.\n"
          ],
          "name": "stderr"
        },
        {
          "output_type": "execute_result",
          "data": {
            "text/plain": [
              "KNeighborsClassifier(algorithm='auto', leaf_size=30, metric='minkowski',\n",
              "                     metric_params=None, n_jobs=None, n_neighbors=5, p=2,\n",
              "                     weights='uniform')"
            ]
          },
          "metadata": {
            "tags": []
          },
          "execution_count": 29
        }
      ]
    },
    {
      "cell_type": "code",
      "metadata": {
        "colab": {
          "base_uri": "https://localhost:8080/"
        },
        "id": "_W6UTEtPskYf",
        "outputId": "e05486d8-6c21-4241-df3a-8c8a6fab7b2e"
      },
      "source": [
        "from sklearn.metrics import confusion_matrix, classification_report\n",
        "y_pred = classifier.predict(X_test)\n",
        "conf_matrix = confusion_matrix(y_test, y_pred)\n",
        "print(conf_matrix)\n",
        "\n",
        "#              positive라고 예측    negative라고 예측\n",
        "# 실제positive     254691                   90\n",
        "# 실제negative      2516                    269"
      ],
      "execution_count": null,
      "outputs": [
        {
          "output_type": "stream",
          "text": [
            "[[254691     90]\n",
            " [  2516    269]]\n"
          ],
          "name": "stdout"
        }
      ]
    },
    {
      "cell_type": "code",
      "metadata": {
        "colab": {
          "base_uri": "https://localhost:8080/"
        },
        "id": "vBMB6P4fwG3I",
        "outputId": "046985ea-eb39-4c6f-f646-793385a7b341"
      },
      "source": [
        "report = classification_report(y_test, y_pred)\n",
        "print(report)\n",
        "       \n",
        "# 0 이라고 예측한 데이터의 99%가 실제로 0이고\n",
        "# 1이라고 예측한 데이터의 75%만 실제로 1이다."
      ],
      "execution_count": null,
      "outputs": [
        {
          "output_type": "stream",
          "text": [
            "              precision    recall  f1-score   support\n",
            "\n",
            "         0.0       0.99      1.00      0.99    254781\n",
            "         1.0       0.75      0.10      0.17      2785\n",
            "\n",
            "    accuracy                           0.99    257566\n",
            "   macro avg       0.87      0.55      0.58    257566\n",
            "weighted avg       0.99      0.99      0.99    257566\n",
            "\n"
          ],
          "name": "stdout"
        }
      ]
    },
    {
      "cell_type": "code",
      "metadata": {
        "colab": {
          "base_uri": "https://localhost:8080/"
        },
        "id": "3CNd8pp1wIpo",
        "outputId": "c4a14976-d054-4c60-b187-0c132f6bc48f"
      },
      "source": [
        "print(\"테스트 세트 정확도 : {:.2f}\".format(classifier.score(X_test,y_test)))"
      ],
      "execution_count": null,
      "outputs": [
        {
          "output_type": "stream",
          "text": [
            "테스트 세트 정확도 : 0.99\n"
          ],
          "name": "stdout"
        }
      ]
    },
    {
      "cell_type": "markdown",
      "metadata": {
        "id": "Jy-HU41fRCxx"
      },
      "source": [
        "knn의 단점으로 feature의 값이 대부분 0인 데이터셋과는 매우 안좋은 성능을 내기 때문에 다른 모델을 활용해야 할 것 같다."
      ]
    },
    {
      "cell_type": "markdown",
      "metadata": {
        "id": "o5GmUZSqU_GZ"
      },
      "source": [
        "--------------"
      ]
    },
    {
      "cell_type": "markdown",
      "metadata": {
        "id": "JDi0EimmzzI8"
      },
      "source": [
        "4. Feature engineering을 이용하여서 학습을 진행한 후 좀 더 좋아졌다면 왜 좋아졌는지 혹은 안 좋아졌다면 왜 안좋아졌는지를 서술하시오."
      ]
    },
    {
      "cell_type": "markdown",
      "metadata": {
        "id": "SOhpHenCLNPB"
      },
      "source": [
        "5. 피쳐 중요도 플롯을 제출하시오."
      ]
    }
  ]
}