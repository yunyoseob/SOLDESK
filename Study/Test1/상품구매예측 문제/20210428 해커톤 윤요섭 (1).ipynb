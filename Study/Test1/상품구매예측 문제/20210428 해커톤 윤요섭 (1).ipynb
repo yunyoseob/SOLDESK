{
 "cells": [
  {
   "cell_type": "code",
   "execution_count": 1,
   "metadata": {},
   "outputs": [],
   "source": [
    "# 20210424 해커톤 윤요섭"
   ]
  },
  {
   "cell_type": "code",
   "execution_count": 2,
   "metadata": {},
   "outputs": [],
   "source": [
    "# 780,502개의 정보를 5914명의 고객별로 분류해서 각 인원이\n",
    "#한 달에 평균적으로 300을 넘게\n",
    "# 쓰는지, 안 쓰는 지 분류\n",
    "# 의사결정트리, 랜덤포레스트, 부스팅 계열을 통해 모델을\n",
    "# 학습 시켜서, 확인해볼 예정\n",
    "\n",
    "# 랜덤으로 추출해서 랜덤포레스트에 돌렸을 때,\n",
    "# 의사결정트리가 첫 번째로 year_month에 따라 24개의 달로 분류한 후에\n",
    "# 랜덤으로 추출된 각 달에 인원들이 각 의사결정트리에 따라 300이 넘는지\n",
    "# 그렇지 않은지 분류해서 카운트\n",
    "\n",
    "# 배깅을 통해 각 인원들이 300을 넘게 썻는지 확인\n",
    "# 배깅의 단점을 보완하기 위해 부스팅 계열 사용\n",
    "\n",
    "# 한 고객이 월 평균 300을 실제로 넘겼는데, 예측에서 300을 넘기지 못했다고\n",
    "# 판단하는 오류(FNR: FN/TP+FN), 한 고객이 월 평균을 300을 실제로 넘기지\n",
    "# 못했는데, 넘겼다고 판단해버리는 오류(FPR: FP/FP+TN)를 방지하기 위해\n",
    "#  Accuracy를 확인 (TP+TN/TP+TN+FP+FN)"
   ]
  },
  {
   "cell_type": "code",
   "execution_count": 3,
   "metadata": {},
   "outputs": [],
   "source": [
    "# 도구 불러오기\n",
    "import graphviz\n",
    "import matplotlib.pyplot as plt\n",
    "from sklearn.tree import DecisionTreeClassifier\n",
    "from sklearn.ensemble import RandomForestClassifier\n",
    "import pandas as pd\n",
    "import numpy as np\n",
    "from sklearn import tree\n",
    "import mglearn\n",
    "import os\n",
    "from sklearn import preprocessing\n",
    "import seaborn as sns0\n",
    "from sklearn.preprocessing import LabelEncoder, OneHotEncoder\n",
    "from sklearn.model_selection import train_test_split, StratifiedKFold, GridSearchCV, RandomizedSearchCV\n",
    "from sklearn.metrics import accuracy_score,confusion_matrix, classification_report\n",
    "from collections import Counter\n",
    "from sklearn.metrics import classification_report\n",
    "import statsmodels as sm\n",
    "import sklearn \n",
    "from sklearn.linear_model import LinearRegression\n",
    "from sklearn.linear_model import LogisticRegression\n",
    "from sklearn.model_selection import train_test_split, cross_val_score\n",
    "from sklearn.metrics import mean_squared_error\n",
    "from sklearn.preprocessing import PolynomialFeatures\n",
    "from sklearn.model_selection import train_test_split\n",
    "import statsmodels.api as sm\n",
    "from sklearn.neighbors import KNeighborsClassifier\n",
    "from sklearn import metrics\n",
    "from sklearn.naive_bayes import GaussianNB\n",
    "from sklearn.metrics import classification_report, confusion_matrix\n",
    "from sklearn import tree\n",
    "from sklearn.tree import DecisionTreeClassifier\n",
    "from sklearn.tree import export_graphviz\n",
    "from sklearn.metrics import mean_squared_error\n",
    "from sklearn.metrics import r2_score\n",
    "from sklearn.metrics import roc_curve, auc\n",
    "import matplotlib.pyplot as plt\n",
    "from sklearn.ensemble import RandomForestClassifier\n",
    "from sklearn.ensemble import AdaBoostClassifier\n",
    "from sklearn import datasets\n",
    "from sklearn.ensemble import GradientBoostingClassifier\n",
    "from lightgbm import LGBMClassifier\n",
    "from lightgbm import plot_importance\n",
    "from sklearn.metrics import accuracy_score\n",
    "from sklearn.model_selection import KFold\n",
    "%matplotlib inline"
   ]
  },
  {
   "cell_type": "code",
   "execution_count": 4,
   "metadata": {},
   "outputs": [],
   "source": [
    "# 파일 불러오기\n",
    "train=pd.read_csv('C:/Users/bella/Desktop/train.csv')\n",
    "sample_submission=pd.read_csv('C:/Users/bella/Desktop/sample_submission.csv')"
   ]
  },
  {
   "cell_type": "code",
   "execution_count": 5,
   "metadata": {},
   "outputs": [],
   "source": [
    "# 데이터 프레임으로 변환\n",
    "df_train=pd.DataFrame(train)\n",
    "df_sample_submission=pd.DataFrame(sample_submission)"
   ]
  },
  {
   "cell_type": "code",
   "execution_count": 6,
   "metadata": {},
   "outputs": [
    {
     "data": {
      "text/html": [
       "<div>\n",
       "<style scoped>\n",
       "    .dataframe tbody tr th:only-of-type {\n",
       "        vertical-align: middle;\n",
       "    }\n",
       "\n",
       "    .dataframe tbody tr th {\n",
       "        vertical-align: top;\n",
       "    }\n",
       "\n",
       "    .dataframe thead th {\n",
       "        text-align: right;\n",
       "    }\n",
       "</style>\n",
       "<table border=\"1\" class=\"dataframe\">\n",
       "  <thead>\n",
       "    <tr style=\"text-align: right;\">\n",
       "      <th></th>\n",
       "      <th>quantity</th>\n",
       "      <th>price</th>\n",
       "      <th>customer_id</th>\n",
       "      <th>total</th>\n",
       "    </tr>\n",
       "  </thead>\n",
       "  <tbody>\n",
       "    <tr>\n",
       "      <th>count</th>\n",
       "      <td>780502.000000</td>\n",
       "      <td>780502.000000</td>\n",
       "      <td>780502.000000</td>\n",
       "      <td>780502.000000</td>\n",
       "    </tr>\n",
       "    <tr>\n",
       "      <th>mean</th>\n",
       "      <td>12.623307</td>\n",
       "      <td>6.140931</td>\n",
       "      <td>15313.393466</td>\n",
       "      <td>33.715373</td>\n",
       "    </tr>\n",
       "    <tr>\n",
       "      <th>std</th>\n",
       "      <td>143.906302</td>\n",
       "      <td>119.042266</td>\n",
       "      <td>1695.765797</td>\n",
       "      <td>274.207403</td>\n",
       "    </tr>\n",
       "    <tr>\n",
       "      <th>min</th>\n",
       "      <td>-74215.000000</td>\n",
       "      <td>0.000000</td>\n",
       "      <td>12346.000000</td>\n",
       "      <td>-127352.940000</td>\n",
       "    </tr>\n",
       "    <tr>\n",
       "      <th>25%</th>\n",
       "      <td>2.000000</td>\n",
       "      <td>2.062500</td>\n",
       "      <td>13963.000000</td>\n",
       "      <td>7.260000</td>\n",
       "    </tr>\n",
       "    <tr>\n",
       "      <th>50%</th>\n",
       "      <td>5.000000</td>\n",
       "      <td>3.217500</td>\n",
       "      <td>15239.000000</td>\n",
       "      <td>19.470000</td>\n",
       "    </tr>\n",
       "    <tr>\n",
       "      <th>75%</th>\n",
       "      <td>12.000000</td>\n",
       "      <td>6.187500</td>\n",
       "      <td>16788.000000</td>\n",
       "      <td>32.175000</td>\n",
       "    </tr>\n",
       "    <tr>\n",
       "      <th>max</th>\n",
       "      <td>74215.000000</td>\n",
       "      <td>64300.500000</td>\n",
       "      <td>18287.000000</td>\n",
       "      <td>127352.940000</td>\n",
       "    </tr>\n",
       "  </tbody>\n",
       "</table>\n",
       "</div>"
      ],
      "text/plain": [
       "            quantity          price    customer_id          total\n",
       "count  780502.000000  780502.000000  780502.000000  780502.000000\n",
       "mean       12.623307       6.140931   15313.393466      33.715373\n",
       "std       143.906302     119.042266    1695.765797     274.207403\n",
       "min    -74215.000000       0.000000   12346.000000 -127352.940000\n",
       "25%         2.000000       2.062500   13963.000000       7.260000\n",
       "50%         5.000000       3.217500   15239.000000      19.470000\n",
       "75%        12.000000       6.187500   16788.000000      32.175000\n",
       "max     74215.000000   64300.500000   18287.000000  127352.940000"
      ]
     },
     "execution_count": 6,
     "metadata": {},
     "output_type": "execute_result"
    }
   ],
   "source": [
    "df_train.describe()"
   ]
  },
  {
   "cell_type": "code",
   "execution_count": 7,
   "metadata": {},
   "outputs": [
    {
     "data": {
      "text/html": [
       "<div>\n",
       "<style scoped>\n",
       "    .dataframe tbody tr th:only-of-type {\n",
       "        vertical-align: middle;\n",
       "    }\n",
       "\n",
       "    .dataframe tbody tr th {\n",
       "        vertical-align: top;\n",
       "    }\n",
       "\n",
       "    .dataframe thead th {\n",
       "        text-align: right;\n",
       "    }\n",
       "</style>\n",
       "<table border=\"1\" class=\"dataframe\">\n",
       "  <thead>\n",
       "    <tr style=\"text-align: right;\">\n",
       "      <th></th>\n",
       "      <th>order_id</th>\n",
       "      <th>product_id</th>\n",
       "      <th>description</th>\n",
       "      <th>quantity</th>\n",
       "      <th>order_date</th>\n",
       "      <th>price</th>\n",
       "      <th>customer_id</th>\n",
       "      <th>country</th>\n",
       "      <th>total</th>\n",
       "    </tr>\n",
       "  </thead>\n",
       "  <tbody>\n",
       "    <tr>\n",
       "      <th>0</th>\n",
       "      <td>489434</td>\n",
       "      <td>85048</td>\n",
       "      <td>15CM CHRISTMAS GLASS BALL 20 LIGHTS</td>\n",
       "      <td>12</td>\n",
       "      <td>2009-12-01 07:45:00</td>\n",
       "      <td>11.4675</td>\n",
       "      <td>13085</td>\n",
       "      <td>United Kingdom</td>\n",
       "      <td>137.61</td>\n",
       "    </tr>\n",
       "    <tr>\n",
       "      <th>1</th>\n",
       "      <td>489434</td>\n",
       "      <td>79323P</td>\n",
       "      <td>PINK CHERRY LIGHTS</td>\n",
       "      <td>12</td>\n",
       "      <td>2009-12-01 07:45:00</td>\n",
       "      <td>11.1375</td>\n",
       "      <td>13085</td>\n",
       "      <td>United Kingdom</td>\n",
       "      <td>133.65</td>\n",
       "    </tr>\n",
       "    <tr>\n",
       "      <th>2</th>\n",
       "      <td>489434</td>\n",
       "      <td>79323W</td>\n",
       "      <td>WHITE CHERRY LIGHTS</td>\n",
       "      <td>12</td>\n",
       "      <td>2009-12-01 07:45:00</td>\n",
       "      <td>11.1375</td>\n",
       "      <td>13085</td>\n",
       "      <td>United Kingdom</td>\n",
       "      <td>133.65</td>\n",
       "    </tr>\n",
       "    <tr>\n",
       "      <th>3</th>\n",
       "      <td>489434</td>\n",
       "      <td>22041</td>\n",
       "      <td>RECORD FRAME 7\" SINGLE SIZE</td>\n",
       "      <td>48</td>\n",
       "      <td>2009-12-01 07:45:00</td>\n",
       "      <td>3.4650</td>\n",
       "      <td>13085</td>\n",
       "      <td>United Kingdom</td>\n",
       "      <td>166.32</td>\n",
       "    </tr>\n",
       "    <tr>\n",
       "      <th>4</th>\n",
       "      <td>489434</td>\n",
       "      <td>21232</td>\n",
       "      <td>STRAWBERRY CERAMIC TRINKET BOX</td>\n",
       "      <td>24</td>\n",
       "      <td>2009-12-01 07:45:00</td>\n",
       "      <td>2.0625</td>\n",
       "      <td>13085</td>\n",
       "      <td>United Kingdom</td>\n",
       "      <td>49.50</td>\n",
       "    </tr>\n",
       "  </tbody>\n",
       "</table>\n",
       "</div>"
      ],
      "text/plain": [
       "  order_id product_id                          description  quantity  \\\n",
       "0   489434      85048  15CM CHRISTMAS GLASS BALL 20 LIGHTS        12   \n",
       "1   489434     79323P                   PINK CHERRY LIGHTS        12   \n",
       "2   489434     79323W                  WHITE CHERRY LIGHTS        12   \n",
       "3   489434      22041         RECORD FRAME 7\" SINGLE SIZE         48   \n",
       "4   489434      21232       STRAWBERRY CERAMIC TRINKET BOX        24   \n",
       "\n",
       "            order_date    price  customer_id         country   total  \n",
       "0  2009-12-01 07:45:00  11.4675        13085  United Kingdom  137.61  \n",
       "1  2009-12-01 07:45:00  11.1375        13085  United Kingdom  133.65  \n",
       "2  2009-12-01 07:45:00  11.1375        13085  United Kingdom  133.65  \n",
       "3  2009-12-01 07:45:00   3.4650        13085  United Kingdom  166.32  \n",
       "4  2009-12-01 07:45:00   2.0625        13085  United Kingdom   49.50  "
      ]
     },
     "execution_count": 7,
     "metadata": {},
     "output_type": "execute_result"
    }
   ],
   "source": [
    "df_train.head()"
   ]
  },
  {
   "cell_type": "code",
   "execution_count": 8,
   "metadata": {},
   "outputs": [
    {
     "name": "stdout",
     "output_type": "stream",
     "text": [
      "<class 'pandas.core.frame.DataFrame'>\n",
      "RangeIndex: 780502 entries, 0 to 780501\n",
      "Data columns (total 9 columns):\n",
      " #   Column       Non-Null Count   Dtype  \n",
      "---  ------       --------------   -----  \n",
      " 0   order_id     780502 non-null  object \n",
      " 1   product_id   780502 non-null  object \n",
      " 2   description  780502 non-null  object \n",
      " 3   quantity     780502 non-null  int64  \n",
      " 4   order_date   780502 non-null  object \n",
      " 5   price        780502 non-null  float64\n",
      " 6   customer_id  780502 non-null  int64  \n",
      " 7   country      780502 non-null  object \n",
      " 8   total        780502 non-null  float64\n",
      "dtypes: float64(2), int64(2), object(5)\n",
      "memory usage: 53.6+ MB\n"
     ]
    }
   ],
   "source": [
    "df_train.info()"
   ]
  },
  {
   "cell_type": "code",
   "execution_count": 9,
   "metadata": {},
   "outputs": [
    {
     "data": {
      "text/plain": [
       "pandas.core.series.Series"
      ]
     },
     "execution_count": 9,
     "metadata": {},
     "output_type": "execute_result"
    }
   ],
   "source": [
    "# label encoding\n",
    "from sklearn import preprocessing\n",
    "\n",
    "le=preprocessing.LabelEncoder()\n",
    "\n",
    "df_train_encoded_order_id=le.fit_transform(df_train['order_id'])\n",
    "np_order_id=df_train_encoded_order_id.reshape(-1,1)\n",
    "order_id_1=map(lambda x: x[0], np_order_id)\n",
    "order_id=pd.Series(order_id_1)\n",
    "type(order_id)\n",
    "\n",
    "df_train_encoded_product_id=le.fit_transform(df_train['product_id'])\n",
    "np_product_id=df_train_encoded_product_id.reshape(-1,1)\n",
    "product_id_1=map(lambda x: x[0], np_product_id)\n",
    "product_id=pd.Series(product_id_1)\n",
    "type(product_id)\n",
    "\n",
    "df_train_encoded_description=le.fit_transform(df_train['description'])\n",
    "np_description=df_train_encoded_description.reshape(-1,1)\n",
    "description_1=map(lambda x: x[0], np_description)\n",
    "description=pd.Series(description_1)\n",
    "type(description)\n",
    "\n",
    "df_train_encoded_country=le.fit_transform(df_train['country'])\n",
    "np_country=df_train_encoded_country.reshape(-1,1)\n",
    "country_1=map(lambda x: x[0], np_country)\n",
    "country=pd.Series(country_1)\n",
    "type(country)"
   ]
  },
  {
   "cell_type": "code",
   "execution_count": 10,
   "metadata": {},
   "outputs": [
    {
     "data": {
      "text/plain": [
       "0        2009-12-01 07:45:00\n",
       "1        2009-12-01 07:45:00\n",
       "2        2009-12-01 07:45:00\n",
       "3        2009-12-01 07:45:00\n",
       "4        2009-12-01 07:45:00\n",
       "                 ...        \n",
       "780497   2011-11-30 17:39:00\n",
       "780498   2011-11-30 17:39:00\n",
       "780499   2011-11-30 17:42:00\n",
       "780500   2011-11-30 17:42:00\n",
       "780501   2011-11-30 17:42:00\n",
       "Name: order_date, Length: 780502, dtype: datetime64[ns]"
      ]
     },
     "execution_count": 10,
     "metadata": {},
     "output_type": "execute_result"
    }
   ],
   "source": [
    "# datetime의 type을 datetime64[ns]으로 변환\n",
    "import datetime\n",
    "order_date_1=pd.to_datetime(df_train['order_date'])\n",
    "order_date_1\n",
    "type(order_date_1)\n",
    "df_train['order_date']=order_date_1\n",
    "df_train['order_date']"
   ]
  },
  {
   "cell_type": "code",
   "execution_count": 11,
   "metadata": {},
   "outputs": [
    {
     "data": {
      "text/html": [
       "<div>\n",
       "<style scoped>\n",
       "    .dataframe tbody tr th:only-of-type {\n",
       "        vertical-align: middle;\n",
       "    }\n",
       "\n",
       "    .dataframe tbody tr th {\n",
       "        vertical-align: top;\n",
       "    }\n",
       "\n",
       "    .dataframe thead th {\n",
       "        text-align: right;\n",
       "    }\n",
       "</style>\n",
       "<table border=\"1\" class=\"dataframe\">\n",
       "  <thead>\n",
       "    <tr style=\"text-align: right;\">\n",
       "      <th></th>\n",
       "      <th>order_id</th>\n",
       "      <th>product_id</th>\n",
       "      <th>description</th>\n",
       "      <th>quantity</th>\n",
       "      <th>order_date</th>\n",
       "      <th>price</th>\n",
       "      <th>customer_id</th>\n",
       "      <th>country</th>\n",
       "      <th>total</th>\n",
       "      <th>year</th>\n",
       "      <th>month</th>\n",
       "      <th>day</th>\n",
       "      <th>year_month</th>\n",
       "    </tr>\n",
       "  </thead>\n",
       "  <tbody>\n",
       "    <tr>\n",
       "      <th>0</th>\n",
       "      <td>0</td>\n",
       "      <td>4021</td>\n",
       "      <td>61</td>\n",
       "      <td>12</td>\n",
       "      <td>2009121</td>\n",
       "      <td>11.4675</td>\n",
       "      <td>13085</td>\n",
       "      <td>38</td>\n",
       "      <td>137.6100</td>\n",
       "      <td>2009</td>\n",
       "      <td>12</td>\n",
       "      <td>1</td>\n",
       "      <td>200912</td>\n",
       "    </tr>\n",
       "    <tr>\n",
       "      <th>1</th>\n",
       "      <td>0</td>\n",
       "      <td>3336</td>\n",
       "      <td>3296</td>\n",
       "      <td>12</td>\n",
       "      <td>2009121</td>\n",
       "      <td>11.1375</td>\n",
       "      <td>13085</td>\n",
       "      <td>38</td>\n",
       "      <td>133.6500</td>\n",
       "      <td>2009</td>\n",
       "      <td>12</td>\n",
       "      <td>1</td>\n",
       "      <td>200912</td>\n",
       "    </tr>\n",
       "    <tr>\n",
       "      <th>2</th>\n",
       "      <td>0</td>\n",
       "      <td>3338</td>\n",
       "      <td>36</td>\n",
       "      <td>12</td>\n",
       "      <td>2009121</td>\n",
       "      <td>11.1375</td>\n",
       "      <td>13085</td>\n",
       "      <td>38</td>\n",
       "      <td>133.6500</td>\n",
       "      <td>2009</td>\n",
       "      <td>12</td>\n",
       "      <td>1</td>\n",
       "      <td>200912</td>\n",
       "    </tr>\n",
       "    <tr>\n",
       "      <th>3</th>\n",
       "      <td>0</td>\n",
       "      <td>1261</td>\n",
       "      <td>3627</td>\n",
       "      <td>48</td>\n",
       "      <td>2009121</td>\n",
       "      <td>3.4650</td>\n",
       "      <td>13085</td>\n",
       "      <td>38</td>\n",
       "      <td>166.3200</td>\n",
       "      <td>2009</td>\n",
       "      <td>12</td>\n",
       "      <td>1</td>\n",
       "      <td>200912</td>\n",
       "    </tr>\n",
       "    <tr>\n",
       "      <th>4</th>\n",
       "      <td>0</td>\n",
       "      <td>620</td>\n",
       "      <td>4623</td>\n",
       "      <td>24</td>\n",
       "      <td>2009121</td>\n",
       "      <td>2.0625</td>\n",
       "      <td>13085</td>\n",
       "      <td>38</td>\n",
       "      <td>49.5000</td>\n",
       "      <td>2009</td>\n",
       "      <td>12</td>\n",
       "      <td>1</td>\n",
       "      <td>200912</td>\n",
       "    </tr>\n",
       "    <tr>\n",
       "      <th>...</th>\n",
       "      <td>...</td>\n",
       "      <td>...</td>\n",
       "      <td>...</td>\n",
       "      <td>...</td>\n",
       "      <td>...</td>\n",
       "      <td>...</td>\n",
       "      <td>...</td>\n",
       "      <td>...</td>\n",
       "      <td>...</td>\n",
       "      <td>...</td>\n",
       "      <td>...</td>\n",
       "      <td>...</td>\n",
       "      <td>...</td>\n",
       "    </tr>\n",
       "    <tr>\n",
       "      <th>780497</th>\n",
       "      <td>43953</td>\n",
       "      <td>1413</td>\n",
       "      <td>3536</td>\n",
       "      <td>-1</td>\n",
       "      <td>20111130</td>\n",
       "      <td>1.4025</td>\n",
       "      <td>15676</td>\n",
       "      <td>38</td>\n",
       "      <td>-1.4025</td>\n",
       "      <td>2011</td>\n",
       "      <td>11</td>\n",
       "      <td>30</td>\n",
       "      <td>201111</td>\n",
       "    </tr>\n",
       "    <tr>\n",
       "      <th>780498</th>\n",
       "      <td>43953</td>\n",
       "      <td>2312</td>\n",
       "      <td>4796</td>\n",
       "      <td>-1</td>\n",
       "      <td>20111130</td>\n",
       "      <td>5.4285</td>\n",
       "      <td>15676</td>\n",
       "      <td>38</td>\n",
       "      <td>-5.4285</td>\n",
       "      <td>2011</td>\n",
       "      <td>11</td>\n",
       "      <td>30</td>\n",
       "      <td>201111</td>\n",
       "    </tr>\n",
       "    <tr>\n",
       "      <th>780499</th>\n",
       "      <td>43954</td>\n",
       "      <td>3898</td>\n",
       "      <td>260</td>\n",
       "      <td>-1</td>\n",
       "      <td>20111130</td>\n",
       "      <td>2.0625</td>\n",
       "      <td>16717</td>\n",
       "      <td>38</td>\n",
       "      <td>-2.0625</td>\n",
       "      <td>2011</td>\n",
       "      <td>11</td>\n",
       "      <td>30</td>\n",
       "      <td>201111</td>\n",
       "    </tr>\n",
       "    <tr>\n",
       "      <th>780500</th>\n",
       "      <td>43954</td>\n",
       "      <td>4021</td>\n",
       "      <td>61</td>\n",
       "      <td>-1</td>\n",
       "      <td>20111130</td>\n",
       "      <td>13.1175</td>\n",
       "      <td>16717</td>\n",
       "      <td>38</td>\n",
       "      <td>-13.1175</td>\n",
       "      <td>2011</td>\n",
       "      <td>11</td>\n",
       "      <td>30</td>\n",
       "      <td>201111</td>\n",
       "    </tr>\n",
       "    <tr>\n",
       "      <th>780501</th>\n",
       "      <td>43954</td>\n",
       "      <td>2631</td>\n",
       "      <td>4682</td>\n",
       "      <td>-3</td>\n",
       "      <td>20111130</td>\n",
       "      <td>6.1875</td>\n",
       "      <td>16717</td>\n",
       "      <td>38</td>\n",
       "      <td>-18.5625</td>\n",
       "      <td>2011</td>\n",
       "      <td>11</td>\n",
       "      <td>30</td>\n",
       "      <td>201111</td>\n",
       "    </tr>\n",
       "  </tbody>\n",
       "</table>\n",
       "<p>780502 rows × 13 columns</p>\n",
       "</div>"
      ],
      "text/plain": [
       "        order_id  product_id  description  quantity  order_date    price  \\\n",
       "0              0        4021           61        12     2009121  11.4675   \n",
       "1              0        3336         3296        12     2009121  11.1375   \n",
       "2              0        3338           36        12     2009121  11.1375   \n",
       "3              0        1261         3627        48     2009121   3.4650   \n",
       "4              0         620         4623        24     2009121   2.0625   \n",
       "...          ...         ...          ...       ...         ...      ...   \n",
       "780497     43953        1413         3536        -1    20111130   1.4025   \n",
       "780498     43953        2312         4796        -1    20111130   5.4285   \n",
       "780499     43954        3898          260        -1    20111130   2.0625   \n",
       "780500     43954        4021           61        -1    20111130  13.1175   \n",
       "780501     43954        2631         4682        -3    20111130   6.1875   \n",
       "\n",
       "        customer_id  country     total  year  month  day  year_month  \n",
       "0             13085       38  137.6100  2009     12    1      200912  \n",
       "1             13085       38  133.6500  2009     12    1      200912  \n",
       "2             13085       38  133.6500  2009     12    1      200912  \n",
       "3             13085       38  166.3200  2009     12    1      200912  \n",
       "4             13085       38   49.5000  2009     12    1      200912  \n",
       "...             ...      ...       ...   ...    ...  ...         ...  \n",
       "780497        15676       38   -1.4025  2011     11   30      201111  \n",
       "780498        15676       38   -5.4285  2011     11   30      201111  \n",
       "780499        16717       38   -2.0625  2011     11   30      201111  \n",
       "780500        16717       38  -13.1175  2011     11   30      201111  \n",
       "780501        16717       38  -18.5625  2011     11   30      201111  \n",
       "\n",
       "[780502 rows x 13 columns]"
      ]
     },
     "execution_count": 11,
     "metadata": {},
     "output_type": "execute_result"
    }
   ],
   "source": [
    "# datetime64[ns]에서 str로 변환 후 int로 변환\n",
    "df_train['year']=df_train['order_date'].dt.year\n",
    "df_train['month']=df_train['order_date'].dt.month\n",
    "df_train['day']=df_train['order_date'].dt.day\n",
    "\n",
    "year=pd.Series(df_train['year'], dtype=str)\n",
    "month=pd.Series(df_train['month'], dtype=str)\n",
    "day=pd.Series(df_train['day'], dtype=str)\n",
    "\n",
    "df_train['year_month']=year+month\n",
    "df_train['order_date']=year+month+day\n",
    "\n",
    "df_train['order_date'].head()\n",
    "df_train['order_date']\n",
    "\n",
    "df_train['year']\n",
    "df_train['month']\n",
    "df_train['day']\n",
    "\n",
    "order_date=pd.Series(df_train['order_date'], dtype=int)\n",
    "year_month=pd.Series(df_train['year_month'], dtype=int)\n",
    "\n",
    "#label encoding 한 값들을 각 칼럼에 대입\n",
    "df_train['order_id']=order_id\n",
    "df_train['product_id']=product_id\n",
    "df_train['description']=description\n",
    "df_train['quantity']\n",
    "df_train['order_date']=order_date\n",
    "df_train['price']\n",
    "df_train['customer_id']\n",
    "df_train['country']=country\n",
    "df_train['total']\n",
    "df_train['year_month']=year_month\n",
    "df_train"
   ]
  },
  {
   "cell_type": "code",
   "execution_count": 12,
   "metadata": {},
   "outputs": [
    {
     "name": "stdout",
     "output_type": "stream",
     "text": [
      "<class 'pandas.core.frame.DataFrame'>\n",
      "RangeIndex: 780502 entries, 0 to 780501\n",
      "Data columns (total 13 columns):\n",
      " #   Column       Non-Null Count   Dtype\n",
      "---  ------       --------------   -----\n",
      " 0   order_id     780502 non-null  int64\n",
      " 1   product_id   780502 non-null  int64\n",
      " 2   description  780502 non-null  int64\n",
      " 3   quantity     780502 non-null  int64\n",
      " 4   order_date   780502 non-null  int32\n",
      " 5   price        780502 non-null  int32\n",
      " 6   customer_id  780502 non-null  int64\n",
      " 7   country      780502 non-null  int64\n",
      " 8   total        780502 non-null  int32\n",
      " 9   year         780502 non-null  int64\n",
      " 10  month        780502 non-null  int64\n",
      " 11  day          780502 non-null  int64\n",
      " 12  year_month   780502 non-null  int32\n",
      "dtypes: int32(4), int64(9)\n",
      "memory usage: 65.5 MB\n"
     ]
    }
   ],
   "source": [
    "# price와 total의 type을 float에서 int로 변환\n",
    "price=pd.Series(df_train['price'], dtype=int)\n",
    "total=pd.Series(df_train['total'], dtype=int)\n",
    "\n",
    "df_train['price']=price\n",
    "df_train['total']=total\n",
    "\n",
    "df_train.info()"
   ]
  },
  {
   "cell_type": "code",
   "execution_count": 13,
   "metadata": {},
   "outputs": [
    {
     "data": {
      "text/html": [
       "<div>\n",
       "<style scoped>\n",
       "    .dataframe tbody tr th:only-of-type {\n",
       "        vertical-align: middle;\n",
       "    }\n",
       "\n",
       "    .dataframe tbody tr th {\n",
       "        vertical-align: top;\n",
       "    }\n",
       "\n",
       "    .dataframe thead th {\n",
       "        text-align: right;\n",
       "    }\n",
       "</style>\n",
       "<table border=\"1\" class=\"dataframe\">\n",
       "  <thead>\n",
       "    <tr style=\"text-align: right;\">\n",
       "      <th></th>\n",
       "      <th>order_id</th>\n",
       "      <th>product_id</th>\n",
       "      <th>description</th>\n",
       "      <th>quantity</th>\n",
       "      <th>order_date</th>\n",
       "      <th>price</th>\n",
       "      <th>customer_id</th>\n",
       "      <th>country</th>\n",
       "      <th>total</th>\n",
       "      <th>year</th>\n",
       "      <th>month</th>\n",
       "      <th>day</th>\n",
       "      <th>year_month</th>\n",
       "    </tr>\n",
       "  </thead>\n",
       "  <tbody>\n",
       "    <tr>\n",
       "      <th>0</th>\n",
       "      <td>0</td>\n",
       "      <td>4021</td>\n",
       "      <td>61</td>\n",
       "      <td>12</td>\n",
       "      <td>2009121</td>\n",
       "      <td>11</td>\n",
       "      <td>13085</td>\n",
       "      <td>38</td>\n",
       "      <td>137</td>\n",
       "      <td>2009</td>\n",
       "      <td>12</td>\n",
       "      <td>1</td>\n",
       "      <td>200912</td>\n",
       "    </tr>\n",
       "    <tr>\n",
       "      <th>1</th>\n",
       "      <td>0</td>\n",
       "      <td>3336</td>\n",
       "      <td>3296</td>\n",
       "      <td>12</td>\n",
       "      <td>2009121</td>\n",
       "      <td>11</td>\n",
       "      <td>13085</td>\n",
       "      <td>38</td>\n",
       "      <td>133</td>\n",
       "      <td>2009</td>\n",
       "      <td>12</td>\n",
       "      <td>1</td>\n",
       "      <td>200912</td>\n",
       "    </tr>\n",
       "    <tr>\n",
       "      <th>2</th>\n",
       "      <td>0</td>\n",
       "      <td>3338</td>\n",
       "      <td>36</td>\n",
       "      <td>12</td>\n",
       "      <td>2009121</td>\n",
       "      <td>11</td>\n",
       "      <td>13085</td>\n",
       "      <td>38</td>\n",
       "      <td>133</td>\n",
       "      <td>2009</td>\n",
       "      <td>12</td>\n",
       "      <td>1</td>\n",
       "      <td>200912</td>\n",
       "    </tr>\n",
       "    <tr>\n",
       "      <th>3</th>\n",
       "      <td>0</td>\n",
       "      <td>1261</td>\n",
       "      <td>3627</td>\n",
       "      <td>48</td>\n",
       "      <td>2009121</td>\n",
       "      <td>3</td>\n",
       "      <td>13085</td>\n",
       "      <td>38</td>\n",
       "      <td>166</td>\n",
       "      <td>2009</td>\n",
       "      <td>12</td>\n",
       "      <td>1</td>\n",
       "      <td>200912</td>\n",
       "    </tr>\n",
       "    <tr>\n",
       "      <th>4</th>\n",
       "      <td>0</td>\n",
       "      <td>620</td>\n",
       "      <td>4623</td>\n",
       "      <td>24</td>\n",
       "      <td>2009121</td>\n",
       "      <td>2</td>\n",
       "      <td>13085</td>\n",
       "      <td>38</td>\n",
       "      <td>49</td>\n",
       "      <td>2009</td>\n",
       "      <td>12</td>\n",
       "      <td>1</td>\n",
       "      <td>200912</td>\n",
       "    </tr>\n",
       "  </tbody>\n",
       "</table>\n",
       "</div>"
      ],
      "text/plain": [
       "   order_id  product_id  description  quantity  order_date  price  \\\n",
       "0         0        4021           61        12     2009121     11   \n",
       "1         0        3336         3296        12     2009121     11   \n",
       "2         0        3338           36        12     2009121     11   \n",
       "3         0        1261         3627        48     2009121      3   \n",
       "4         0         620         4623        24     2009121      2   \n",
       "\n",
       "   customer_id  country  total  year  month  day  year_month  \n",
       "0        13085       38    137  2009     12    1      200912  \n",
       "1        13085       38    133  2009     12    1      200912  \n",
       "2        13085       38    133  2009     12    1      200912  \n",
       "3        13085       38    166  2009     12    1      200912  \n",
       "4        13085       38     49  2009     12    1      200912  "
      ]
     },
     "execution_count": 13,
     "metadata": {},
     "output_type": "execute_result"
    }
   ],
   "source": [
    "df_train.head()"
   ]
  },
  {
   "cell_type": "code",
   "execution_count": 14,
   "metadata": {},
   "outputs": [
    {
     "data": {
      "image/png": "[encoded data removed]",
      "text/plain": [
       "<Figure size 432x288 with 1 Axes>"
      ]
     },
     "metadata": {
      "needs_background": "light"
     },
     "output_type": "display_data"
    },
    {
     "data": {
      "image/png": "[encoded data removed]",
      "text/plain": [
       "<Figure size 432x288 with 1 Axes>"
      ]
     },
     "metadata": {
      "needs_background": "light"
     },
     "output_type": "display_data"
    },
    {
     "data": {
      "image/png": "[encoded data removed]",
      "text/plain": [
       "<Figure size 432x288 with 1 Axes>"
      ]
     },
     "metadata": {
      "needs_background": "light"
     },
     "output_type": "display_data"
    },
    {
     "data": {
      "image/png": "[encoded data removed]",
      "text/plain": [
       "<Figure size 432x288 with 1 Axes>"
      ]
     },
     "metadata": {
      "needs_background": "light"
     },
     "output_type": "display_data"
    }
   ],
   "source": [
    "# 년 별 매출\n",
    "from matplotlib import pyplot as plt\n",
    "df_train.year\n",
    "\n",
    "df_train['year'].unique()\n",
    "year_total=df_train.groupby('year')['total'].sum()\n",
    "year_total\n",
    "\n",
    "labels=['2009','2010','2011']\n",
    "\n",
    "\n",
    "fig, ax=plt.subplots()\n",
    "ax.bar(labels, year_total, color='y')\n",
    "plt.xlabel(\"year\")\n",
    "plt.ylabel(\"total\")\n",
    "plt.title(\"year-total\")\n",
    "plt.show()\n",
    "\n",
    "\n",
    "# 월 별로 매출을 봐보자. 어느 달에 가장 많이 팔렸을까?\n",
    "df_train['month'].unique()\n",
    "month_total=df_train.groupby('month')['total'].sum()\n",
    "month_total\n",
    "\n",
    "labels=['1','2','3','4','5','6','7','8','9','10','11','12']\n",
    "\n",
    "\n",
    "fig, ax=plt.subplots()\n",
    "plt.plot(labels, month_total, marker=\"o\", color='b')\n",
    "plt.xlabel(\"month\")\n",
    "plt.ylabel(\"total\")\n",
    "plt.title(\"month-total\")\n",
    "plt.show()\n",
    "# 11월이 가장 많이 팔림 #2월이 가장 안 팔림\n",
    "\n",
    "# 일 별로 매출을 보자.\n",
    "df_train['day'].unique()\n",
    "day_total=df_train.groupby('day')['total'].sum()\n",
    "day_total\n",
    "\n",
    "labels=['1','2','3','4','5','6','7','8','9','10','11','12','13',\n",
    "'14','15','16','17','18','19','20','21','22','23','24','25','26',\n",
    "'27','28','29','30','31']\n",
    "\n",
    "fig, ax=plt.subplots()\n",
    "plt.plot(labels, day_total, marker=\"o\", color='g')\n",
    "plt.xlabel(\"day\")\n",
    "plt.ylabel(\"total\")\n",
    "plt.title(\"day-total\")\n",
    "plt.show()\n",
    "\n",
    "# 2009.11월부터 2011년 11월까지 월별 순서대로 매출\n",
    "df_train['year_month'].unique()\n",
    "year_month_total=df_train.groupby('year_month')['total'].sum()\n",
    "year_month_total\n",
    "\n",
    "labels=['9.12','10.1','10.2','10.3','10.4','10.5','10.6','10.7','10.8','10.9','10.10','10.11','10.12',\n",
    "'11.1','11.2','11.3','11.4','11.5','11.6','11.7','11.8','11.9','11.10','11.11']\n",
    "\n",
    "fig, ax=plt.subplots()\n",
    "plt.plot(labels, year_month_total, marker=\"o\", color='r')\n",
    "plt.xlabel(\"year_month\")\n",
    "plt.ylabel(\"total\")\n",
    "plt.title(\"year_month-total\")\n",
    "plt.show()"
   ]
  },
  {
   "cell_type": "code",
   "execution_count": 15,
   "metadata": {},
   "outputs": [
    {
     "data": {
      "text/html": [
       "<div>\n",
       "<style scoped>\n",
       "    .dataframe tbody tr th:only-of-type {\n",
       "        vertical-align: middle;\n",
       "    }\n",
       "\n",
       "    .dataframe tbody tr th {\n",
       "        vertical-align: top;\n",
       "    }\n",
       "\n",
       "    .dataframe thead th {\n",
       "        text-align: right;\n",
       "    }\n",
       "</style>\n",
       "<table border=\"1\" class=\"dataframe\">\n",
       "  <thead>\n",
       "    <tr style=\"text-align: right;\">\n",
       "      <th></th>\n",
       "      <th>order_id</th>\n",
       "      <th>product_id</th>\n",
       "      <th>quantity</th>\n",
       "      <th>order_date</th>\n",
       "      <th>price</th>\n",
       "      <th>customer_id</th>\n",
       "      <th>country</th>\n",
       "      <th>total</th>\n",
       "      <th>year_month</th>\n",
       "    </tr>\n",
       "  </thead>\n",
       "  <tbody>\n",
       "    <tr>\n",
       "      <th>0</th>\n",
       "      <td>0</td>\n",
       "      <td>4021</td>\n",
       "      <td>12</td>\n",
       "      <td>2009121</td>\n",
       "      <td>11</td>\n",
       "      <td>13085</td>\n",
       "      <td>38</td>\n",
       "      <td>137</td>\n",
       "      <td>200912</td>\n",
       "    </tr>\n",
       "    <tr>\n",
       "      <th>1</th>\n",
       "      <td>0</td>\n",
       "      <td>3336</td>\n",
       "      <td>12</td>\n",
       "      <td>2009121</td>\n",
       "      <td>11</td>\n",
       "      <td>13085</td>\n",
       "      <td>38</td>\n",
       "      <td>133</td>\n",
       "      <td>200912</td>\n",
       "    </tr>\n",
       "    <tr>\n",
       "      <th>2</th>\n",
       "      <td>0</td>\n",
       "      <td>3338</td>\n",
       "      <td>12</td>\n",
       "      <td>2009121</td>\n",
       "      <td>11</td>\n",
       "      <td>13085</td>\n",
       "      <td>38</td>\n",
       "      <td>133</td>\n",
       "      <td>200912</td>\n",
       "    </tr>\n",
       "    <tr>\n",
       "      <th>3</th>\n",
       "      <td>0</td>\n",
       "      <td>1261</td>\n",
       "      <td>48</td>\n",
       "      <td>2009121</td>\n",
       "      <td>3</td>\n",
       "      <td>13085</td>\n",
       "      <td>38</td>\n",
       "      <td>166</td>\n",
       "      <td>200912</td>\n",
       "    </tr>\n",
       "    <tr>\n",
       "      <th>4</th>\n",
       "      <td>0</td>\n",
       "      <td>620</td>\n",
       "      <td>24</td>\n",
       "      <td>2009121</td>\n",
       "      <td>2</td>\n",
       "      <td>13085</td>\n",
       "      <td>38</td>\n",
       "      <td>49</td>\n",
       "      <td>200912</td>\n",
       "    </tr>\n",
       "    <tr>\n",
       "      <th>...</th>\n",
       "      <td>...</td>\n",
       "      <td>...</td>\n",
       "      <td>...</td>\n",
       "      <td>...</td>\n",
       "      <td>...</td>\n",
       "      <td>...</td>\n",
       "      <td>...</td>\n",
       "      <td>...</td>\n",
       "      <td>...</td>\n",
       "    </tr>\n",
       "    <tr>\n",
       "      <th>780497</th>\n",
       "      <td>43953</td>\n",
       "      <td>1413</td>\n",
       "      <td>-1</td>\n",
       "      <td>20111130</td>\n",
       "      <td>1</td>\n",
       "      <td>15676</td>\n",
       "      <td>38</td>\n",
       "      <td>-1</td>\n",
       "      <td>201111</td>\n",
       "    </tr>\n",
       "    <tr>\n",
       "      <th>780498</th>\n",
       "      <td>43953</td>\n",
       "      <td>2312</td>\n",
       "      <td>-1</td>\n",
       "      <td>20111130</td>\n",
       "      <td>5</td>\n",
       "      <td>15676</td>\n",
       "      <td>38</td>\n",
       "      <td>-5</td>\n",
       "      <td>201111</td>\n",
       "    </tr>\n",
       "    <tr>\n",
       "      <th>780499</th>\n",
       "      <td>43954</td>\n",
       "      <td>3898</td>\n",
       "      <td>-1</td>\n",
       "      <td>20111130</td>\n",
       "      <td>2</td>\n",
       "      <td>16717</td>\n",
       "      <td>38</td>\n",
       "      <td>-2</td>\n",
       "      <td>201111</td>\n",
       "    </tr>\n",
       "    <tr>\n",
       "      <th>780500</th>\n",
       "      <td>43954</td>\n",
       "      <td>4021</td>\n",
       "      <td>-1</td>\n",
       "      <td>20111130</td>\n",
       "      <td>13</td>\n",
       "      <td>16717</td>\n",
       "      <td>38</td>\n",
       "      <td>-13</td>\n",
       "      <td>201111</td>\n",
       "    </tr>\n",
       "    <tr>\n",
       "      <th>780501</th>\n",
       "      <td>43954</td>\n",
       "      <td>2631</td>\n",
       "      <td>-3</td>\n",
       "      <td>20111130</td>\n",
       "      <td>6</td>\n",
       "      <td>16717</td>\n",
       "      <td>38</td>\n",
       "      <td>-18</td>\n",
       "      <td>201111</td>\n",
       "    </tr>\n",
       "  </tbody>\n",
       "</table>\n",
       "<p>780502 rows × 9 columns</p>\n",
       "</div>"
      ],
      "text/plain": [
       "        order_id  product_id  quantity  order_date  price  customer_id  \\\n",
       "0              0        4021        12     2009121     11        13085   \n",
       "1              0        3336        12     2009121     11        13085   \n",
       "2              0        3338        12     2009121     11        13085   \n",
       "3              0        1261        48     2009121      3        13085   \n",
       "4              0         620        24     2009121      2        13085   \n",
       "...          ...         ...       ...         ...    ...          ...   \n",
       "780497     43953        1413        -1    20111130      1        15676   \n",
       "780498     43953        2312        -1    20111130      5        15676   \n",
       "780499     43954        3898        -1    20111130      2        16717   \n",
       "780500     43954        4021        -1    20111130     13        16717   \n",
       "780501     43954        2631        -3    20111130      6        16717   \n",
       "\n",
       "        country  total  year_month  \n",
       "0            38    137      200912  \n",
       "1            38    133      200912  \n",
       "2            38    133      200912  \n",
       "3            38    166      200912  \n",
       "4            38     49      200912  \n",
       "...         ...    ...         ...  \n",
       "780497       38     -1      201111  \n",
       "780498       38     -5      201111  \n",
       "780499       38     -2      201111  \n",
       "780500       38    -13      201111  \n",
       "780501       38    -18      201111  \n",
       "\n",
       "[780502 rows x 9 columns]"
      ]
     },
     "execution_count": 15,
     "metadata": {},
     "output_type": "execute_result"
    }
   ],
   "source": [
    "# 임의로 만들었던 year, month, day 제거\n",
    "df_train=df_train.drop(['year'], axis=1)\n",
    "df_train=df_train.drop(['month'], axis=1)\n",
    "df_train=df_train.drop(['day'], axis=1)\n",
    "#df_train=df_train.drop(['order_date'], axis=1)\n",
    "df_train=df_train.drop(['description'], axis=1)\n",
    "df_train"
   ]
  },
  {
   "cell_type": "code",
   "execution_count": 16,
   "metadata": {},
   "outputs": [
    {
     "data": {
      "image/png": "[encoded data removed]",
      "text/plain": [
       "<Figure size 1080x1080 with 2 Axes>"
      ]
     },
     "metadata": {
      "needs_background": "light"
     },
     "output_type": "display_data"
    }
   ],
   "source": [
    "# 상관관계 시각화\n",
    "# 히트맵\n",
    "import seaborn as sns\n",
    "\n",
    "df_train.corr()\n",
    "plt.figure(figsize=(15,15))\n",
    "sns.heatmap(data=df_train.corr(), annot=True, fmt ='.2f', linewidths=.5, cmap='Blues')\n",
    "plt.show()"
   ]
  },
  {
   "cell_type": "code",
   "execution_count": 17,
   "metadata": {},
   "outputs": [
    {
     "name": "stdout",
     "output_type": "stream",
     "text": [
      "[700309, 80185]\n"
     ]
    },
    {
     "data": {
      "image/png": "[encoded data removed]",
      "text/plain": [
       "<Figure size 432x288 with 1 Axes>"
      ]
     },
     "metadata": {
      "needs_background": "light"
     },
     "output_type": "display_data"
    }
   ],
   "source": [
    "# 국가에 따른 특성\n",
    "UK=len(df_train[df_train['country']==38].value_counts()) #700308 명\n",
    "Not_UK=len(df_train[df_train['country']!=38].value_counts()) #56,491명\n",
    "\n",
    "country=[UK, Not_UK]\n",
    "print(country)\n",
    "labels=['UK','Not_UK']\n",
    "\n",
    "fig, ax=plt.subplots()\n",
    "ax.bar(labels, country, color='c')\n",
    "plt.xlabel(\"country\")\n",
    "plt.ylabel(\"total\")\n",
    "plt.title(\"country-total\")\n",
    "plt.show()"
   ]
  },
  {
   "cell_type": "code",
   "execution_count": 18,
   "metadata": {},
   "outputs": [
    {
     "data": {
      "text/html": [
       "<div>\n",
       "<style scoped>\n",
       "    .dataframe tbody tr th:only-of-type {\n",
       "        vertical-align: middle;\n",
       "    }\n",
       "\n",
       "    .dataframe tbody tr th {\n",
       "        vertical-align: top;\n",
       "    }\n",
       "\n",
       "    .dataframe thead th {\n",
       "        text-align: right;\n",
       "    }\n",
       "</style>\n",
       "<table border=\"1\" class=\"dataframe\">\n",
       "  <thead>\n",
       "    <tr style=\"text-align: right;\">\n",
       "      <th></th>\n",
       "      <th>order_id</th>\n",
       "      <th>product_id</th>\n",
       "      <th>quantity</th>\n",
       "      <th>order_date</th>\n",
       "      <th>price</th>\n",
       "      <th>customer_id</th>\n",
       "      <th>country</th>\n",
       "      <th>total</th>\n",
       "      <th>year_month</th>\n",
       "    </tr>\n",
       "  </thead>\n",
       "  <tbody>\n",
       "    <tr>\n",
       "      <th>0</th>\n",
       "      <td>0</td>\n",
       "      <td>4021</td>\n",
       "      <td>12</td>\n",
       "      <td>2009121</td>\n",
       "      <td>11</td>\n",
       "      <td>13085</td>\n",
       "      <td>38</td>\n",
       "      <td>137</td>\n",
       "      <td>200912</td>\n",
       "    </tr>\n",
       "    <tr>\n",
       "      <th>1</th>\n",
       "      <td>0</td>\n",
       "      <td>3336</td>\n",
       "      <td>12</td>\n",
       "      <td>2009121</td>\n",
       "      <td>11</td>\n",
       "      <td>13085</td>\n",
       "      <td>38</td>\n",
       "      <td>133</td>\n",
       "      <td>200912</td>\n",
       "    </tr>\n",
       "    <tr>\n",
       "      <th>2</th>\n",
       "      <td>0</td>\n",
       "      <td>3338</td>\n",
       "      <td>12</td>\n",
       "      <td>2009121</td>\n",
       "      <td>11</td>\n",
       "      <td>13085</td>\n",
       "      <td>38</td>\n",
       "      <td>133</td>\n",
       "      <td>200912</td>\n",
       "    </tr>\n",
       "    <tr>\n",
       "      <th>3</th>\n",
       "      <td>0</td>\n",
       "      <td>1261</td>\n",
       "      <td>48</td>\n",
       "      <td>2009121</td>\n",
       "      <td>3</td>\n",
       "      <td>13085</td>\n",
       "      <td>38</td>\n",
       "      <td>166</td>\n",
       "      <td>200912</td>\n",
       "    </tr>\n",
       "    <tr>\n",
       "      <th>4</th>\n",
       "      <td>0</td>\n",
       "      <td>620</td>\n",
       "      <td>24</td>\n",
       "      <td>2009121</td>\n",
       "      <td>2</td>\n",
       "      <td>13085</td>\n",
       "      <td>38</td>\n",
       "      <td>49</td>\n",
       "      <td>200912</td>\n",
       "    </tr>\n",
       "    <tr>\n",
       "      <th>...</th>\n",
       "      <td>...</td>\n",
       "      <td>...</td>\n",
       "      <td>...</td>\n",
       "      <td>...</td>\n",
       "      <td>...</td>\n",
       "      <td>...</td>\n",
       "      <td>...</td>\n",
       "      <td>...</td>\n",
       "      <td>...</td>\n",
       "    </tr>\n",
       "    <tr>\n",
       "      <th>780497</th>\n",
       "      <td>43953</td>\n",
       "      <td>1413</td>\n",
       "      <td>-1</td>\n",
       "      <td>20111130</td>\n",
       "      <td>1</td>\n",
       "      <td>15676</td>\n",
       "      <td>38</td>\n",
       "      <td>-1</td>\n",
       "      <td>201111</td>\n",
       "    </tr>\n",
       "    <tr>\n",
       "      <th>780498</th>\n",
       "      <td>43953</td>\n",
       "      <td>2312</td>\n",
       "      <td>-1</td>\n",
       "      <td>20111130</td>\n",
       "      <td>5</td>\n",
       "      <td>15676</td>\n",
       "      <td>38</td>\n",
       "      <td>-5</td>\n",
       "      <td>201111</td>\n",
       "    </tr>\n",
       "    <tr>\n",
       "      <th>780499</th>\n",
       "      <td>43954</td>\n",
       "      <td>3898</td>\n",
       "      <td>-1</td>\n",
       "      <td>20111130</td>\n",
       "      <td>2</td>\n",
       "      <td>16717</td>\n",
       "      <td>38</td>\n",
       "      <td>-2</td>\n",
       "      <td>201111</td>\n",
       "    </tr>\n",
       "    <tr>\n",
       "      <th>780500</th>\n",
       "      <td>43954</td>\n",
       "      <td>4021</td>\n",
       "      <td>-1</td>\n",
       "      <td>20111130</td>\n",
       "      <td>13</td>\n",
       "      <td>16717</td>\n",
       "      <td>38</td>\n",
       "      <td>-13</td>\n",
       "      <td>201111</td>\n",
       "    </tr>\n",
       "    <tr>\n",
       "      <th>780501</th>\n",
       "      <td>43954</td>\n",
       "      <td>2631</td>\n",
       "      <td>-3</td>\n",
       "      <td>20111130</td>\n",
       "      <td>6</td>\n",
       "      <td>16717</td>\n",
       "      <td>38</td>\n",
       "      <td>-18</td>\n",
       "      <td>201111</td>\n",
       "    </tr>\n",
       "  </tbody>\n",
       "</table>\n",
       "<p>780502 rows × 9 columns</p>\n",
       "</div>"
      ],
      "text/plain": [
       "        order_id  product_id  quantity  order_date  price  customer_id  \\\n",
       "0              0        4021        12     2009121     11        13085   \n",
       "1              0        3336        12     2009121     11        13085   \n",
       "2              0        3338        12     2009121     11        13085   \n",
       "3              0        1261        48     2009121      3        13085   \n",
       "4              0         620        24     2009121      2        13085   \n",
       "...          ...         ...       ...         ...    ...          ...   \n",
       "780497     43953        1413        -1    20111130      1        15676   \n",
       "780498     43953        2312        -1    20111130      5        15676   \n",
       "780499     43954        3898        -1    20111130      2        16717   \n",
       "780500     43954        4021        -1    20111130     13        16717   \n",
       "780501     43954        2631        -3    20111130      6        16717   \n",
       "\n",
       "        country  total  year_month  \n",
       "0            38    137      200912  \n",
       "1            38    133      200912  \n",
       "2            38    133      200912  \n",
       "3            38    166      200912  \n",
       "4            38     49      200912  \n",
       "...         ...    ...         ...  \n",
       "780497       38     -1      201111  \n",
       "780498       38     -5      201111  \n",
       "780499       38     -2      201111  \n",
       "780500       38    -13      201111  \n",
       "780501       38    -18      201111  \n",
       "\n",
       "[780502 rows x 9 columns]"
      ]
     },
     "execution_count": 18,
     "metadata": {},
     "output_type": "execute_result"
    }
   ],
   "source": [
    "df_train"
   ]
  },
  {
   "cell_type": "code",
   "execution_count": 19,
   "metadata": {},
   "outputs": [
    {
     "name": "stderr",
     "output_type": "stream",
     "text": [
      "<ipython-input-19-c3b3aaec3348>:1: FutureWarning: Indexing with multiple keys (implicitly converted to a tuple of keys) will be deprecated, use a list instead.\n",
      "  df_2=df_train.groupby(['year_month','customer_id'])['price','quantity','total'].sum().reset_index()\n"
     ]
    },
    {
     "data": {
      "text/html": [
       "<div>\n",
       "<style scoped>\n",
       "    .dataframe tbody tr th:only-of-type {\n",
       "        vertical-align: middle;\n",
       "    }\n",
       "\n",
       "    .dataframe tbody tr th {\n",
       "        vertical-align: top;\n",
       "    }\n",
       "\n",
       "    .dataframe thead th {\n",
       "        text-align: right;\n",
       "    }\n",
       "</style>\n",
       "<table border=\"1\" class=\"dataframe\">\n",
       "  <thead>\n",
       "    <tr style=\"text-align: right;\">\n",
       "      <th></th>\n",
       "      <th>year_month</th>\n",
       "      <th>customer_id</th>\n",
       "      <th>price</th>\n",
       "      <th>quantity</th>\n",
       "      <th>total</th>\n",
       "    </tr>\n",
       "  </thead>\n",
       "  <tbody>\n",
       "    <tr>\n",
       "      <th>0</th>\n",
       "      <td>20101</td>\n",
       "      <td>12346</td>\n",
       "      <td>198</td>\n",
       "      <td>19</td>\n",
       "      <td>-22</td>\n",
       "    </tr>\n",
       "    <tr>\n",
       "      <th>1</th>\n",
       "      <td>20101</td>\n",
       "      <td>12361</td>\n",
       "      <td>44</td>\n",
       "      <td>45</td>\n",
       "      <td>178</td>\n",
       "    </tr>\n",
       "    <tr>\n",
       "      <th>2</th>\n",
       "      <td>20101</td>\n",
       "      <td>12382</td>\n",
       "      <td>30</td>\n",
       "      <td>-1</td>\n",
       "      <td>-30</td>\n",
       "    </tr>\n",
       "    <tr>\n",
       "      <th>3</th>\n",
       "      <td>20101</td>\n",
       "      <td>12404</td>\n",
       "      <td>104</td>\n",
       "      <td>1</td>\n",
       "      <td>104</td>\n",
       "    </tr>\n",
       "    <tr>\n",
       "      <th>4</th>\n",
       "      <td>20101</td>\n",
       "      <td>12406</td>\n",
       "      <td>90</td>\n",
       "      <td>452</td>\n",
       "      <td>1443</td>\n",
       "    </tr>\n",
       "    <tr>\n",
       "      <th>...</th>\n",
       "      <td>...</td>\n",
       "      <td>...</td>\n",
       "      <td>...</td>\n",
       "      <td>...</td>\n",
       "      <td>...</td>\n",
       "    </tr>\n",
       "    <tr>\n",
       "      <th>26302</th>\n",
       "      <td>201111</td>\n",
       "      <td>18263</td>\n",
       "      <td>27</td>\n",
       "      <td>419</td>\n",
       "      <td>654</td>\n",
       "    </tr>\n",
       "    <tr>\n",
       "      <th>26303</th>\n",
       "      <td>201111</td>\n",
       "      <td>18270</td>\n",
       "      <td>28</td>\n",
       "      <td>60</td>\n",
       "      <td>278</td>\n",
       "    </tr>\n",
       "    <tr>\n",
       "      <th>26304</th>\n",
       "      <td>201111</td>\n",
       "      <td>18274</td>\n",
       "      <td>128</td>\n",
       "      <td>0</td>\n",
       "      <td>0</td>\n",
       "    </tr>\n",
       "    <tr>\n",
       "      <th>26305</th>\n",
       "      <td>201111</td>\n",
       "      <td>18276</td>\n",
       "      <td>20</td>\n",
       "      <td>-2</td>\n",
       "      <td>-20</td>\n",
       "    </tr>\n",
       "    <tr>\n",
       "      <th>26306</th>\n",
       "      <td>201111</td>\n",
       "      <td>18283</td>\n",
       "      <td>396</td>\n",
       "      <td>435</td>\n",
       "      <td>938</td>\n",
       "    </tr>\n",
       "  </tbody>\n",
       "</table>\n",
       "<p>26307 rows × 5 columns</p>\n",
       "</div>"
      ],
      "text/plain": [
       "       year_month  customer_id  price  quantity  total\n",
       "0           20101        12346    198        19    -22\n",
       "1           20101        12361     44        45    178\n",
       "2           20101        12382     30        -1    -30\n",
       "3           20101        12404    104         1    104\n",
       "4           20101        12406     90       452   1443\n",
       "...           ...          ...    ...       ...    ...\n",
       "26302      201111        18263     27       419    654\n",
       "26303      201111        18270     28        60    278\n",
       "26304      201111        18274    128         0      0\n",
       "26305      201111        18276     20        -2    -20\n",
       "26306      201111        18283    396       435    938\n",
       "\n",
       "[26307 rows x 5 columns]"
      ]
     },
     "execution_count": 19,
     "metadata": {},
     "output_type": "execute_result"
    }
   ],
   "source": [
    "df_2=df_train.groupby(['year_month','customer_id'])['price','quantity','total'].sum().reset_index()\n",
    "df_2"
   ]
  },
  {
   "cell_type": "code",
   "execution_count": 20,
   "metadata": {},
   "outputs": [],
   "source": [
    "customer_id_total=df_2.total"
   ]
  },
  {
   "cell_type": "code",
   "execution_count": 21,
   "metadata": {},
   "outputs": [
    {
     "data": {
      "text/plain": [
       "0         -22\n",
       "1         178\n",
       "2         -30\n",
       "3         104\n",
       "4        1443\n",
       "         ... \n",
       "26302     654\n",
       "26303     278\n",
       "26304       0\n",
       "26305     -20\n",
       "26306     938\n",
       "Name: total, Length: 26307, dtype: int32"
      ]
     },
     "execution_count": 21,
     "metadata": {},
     "output_type": "execute_result"
    }
   ],
   "source": [
    "customer_id_total"
   ]
  },
  {
   "cell_type": "code",
   "execution_count": 22,
   "metadata": {},
   "outputs": [],
   "source": [
    "j=0\n",
    "\n",
    "total_300=[]\n",
    "for i in range(0,26307):\n",
    "    if customer_id_total[j]>=300:\n",
    "        total_300.append(1)\n",
    "    else:\n",
    "        total_300.append(0)\n",
    "    j+=1\n",
    "\n",
    "total_300=pd.Series(total_300)\n"
   ]
  },
  {
   "cell_type": "code",
   "execution_count": 23,
   "metadata": {},
   "outputs": [
    {
     "data": {
      "text/plain": [
       "0        0\n",
       "1        0\n",
       "2        0\n",
       "3        0\n",
       "4        1\n",
       "        ..\n",
       "26302    1\n",
       "26303    0\n",
       "26304    0\n",
       "26305    0\n",
       "26306    1\n",
       "Length: 26307, dtype: int64"
      ]
     },
     "execution_count": 23,
     "metadata": {},
     "output_type": "execute_result"
    }
   ],
   "source": [
    "total_300"
   ]
  },
  {
   "cell_type": "code",
   "execution_count": 24,
   "metadata": {},
   "outputs": [],
   "source": [
    "df_2['total_300']=total_300"
   ]
  },
  {
   "cell_type": "code",
   "execution_count": 25,
   "metadata": {},
   "outputs": [
    {
     "data": {
      "text/html": [
       "<div>\n",
       "<style scoped>\n",
       "    .dataframe tbody tr th:only-of-type {\n",
       "        vertical-align: middle;\n",
       "    }\n",
       "\n",
       "    .dataframe tbody tr th {\n",
       "        vertical-align: top;\n",
       "    }\n",
       "\n",
       "    .dataframe thead th {\n",
       "        text-align: right;\n",
       "    }\n",
       "</style>\n",
       "<table border=\"1\" class=\"dataframe\">\n",
       "  <thead>\n",
       "    <tr style=\"text-align: right;\">\n",
       "      <th></th>\n",
       "      <th>year_month</th>\n",
       "      <th>customer_id</th>\n",
       "      <th>price</th>\n",
       "      <th>quantity</th>\n",
       "      <th>total</th>\n",
       "      <th>total_300</th>\n",
       "    </tr>\n",
       "  </thead>\n",
       "  <tbody>\n",
       "    <tr>\n",
       "      <th>0</th>\n",
       "      <td>20101</td>\n",
       "      <td>12346</td>\n",
       "      <td>198</td>\n",
       "      <td>19</td>\n",
       "      <td>-22</td>\n",
       "      <td>0</td>\n",
       "    </tr>\n",
       "    <tr>\n",
       "      <th>1</th>\n",
       "      <td>20101</td>\n",
       "      <td>12361</td>\n",
       "      <td>44</td>\n",
       "      <td>45</td>\n",
       "      <td>178</td>\n",
       "      <td>0</td>\n",
       "    </tr>\n",
       "    <tr>\n",
       "      <th>2</th>\n",
       "      <td>20101</td>\n",
       "      <td>12382</td>\n",
       "      <td>30</td>\n",
       "      <td>-1</td>\n",
       "      <td>-30</td>\n",
       "      <td>0</td>\n",
       "    </tr>\n",
       "    <tr>\n",
       "      <th>3</th>\n",
       "      <td>20101</td>\n",
       "      <td>12404</td>\n",
       "      <td>104</td>\n",
       "      <td>1</td>\n",
       "      <td>104</td>\n",
       "      <td>0</td>\n",
       "    </tr>\n",
       "    <tr>\n",
       "      <th>4</th>\n",
       "      <td>20101</td>\n",
       "      <td>12406</td>\n",
       "      <td>90</td>\n",
       "      <td>452</td>\n",
       "      <td>1443</td>\n",
       "      <td>1</td>\n",
       "    </tr>\n",
       "    <tr>\n",
       "      <th>...</th>\n",
       "      <td>...</td>\n",
       "      <td>...</td>\n",
       "      <td>...</td>\n",
       "      <td>...</td>\n",
       "      <td>...</td>\n",
       "      <td>...</td>\n",
       "    </tr>\n",
       "    <tr>\n",
       "      <th>26302</th>\n",
       "      <td>201111</td>\n",
       "      <td>18263</td>\n",
       "      <td>27</td>\n",
       "      <td>419</td>\n",
       "      <td>654</td>\n",
       "      <td>1</td>\n",
       "    </tr>\n",
       "    <tr>\n",
       "      <th>26303</th>\n",
       "      <td>201111</td>\n",
       "      <td>18270</td>\n",
       "      <td>28</td>\n",
       "      <td>60</td>\n",
       "      <td>278</td>\n",
       "      <td>0</td>\n",
       "    </tr>\n",
       "    <tr>\n",
       "      <th>26304</th>\n",
       "      <td>201111</td>\n",
       "      <td>18274</td>\n",
       "      <td>128</td>\n",
       "      <td>0</td>\n",
       "      <td>0</td>\n",
       "      <td>0</td>\n",
       "    </tr>\n",
       "    <tr>\n",
       "      <th>26305</th>\n",
       "      <td>201111</td>\n",
       "      <td>18276</td>\n",
       "      <td>20</td>\n",
       "      <td>-2</td>\n",
       "      <td>-20</td>\n",
       "      <td>0</td>\n",
       "    </tr>\n",
       "    <tr>\n",
       "      <th>26306</th>\n",
       "      <td>201111</td>\n",
       "      <td>18283</td>\n",
       "      <td>396</td>\n",
       "      <td>435</td>\n",
       "      <td>938</td>\n",
       "      <td>1</td>\n",
       "    </tr>\n",
       "  </tbody>\n",
       "</table>\n",
       "<p>26307 rows × 6 columns</p>\n",
       "</div>"
      ],
      "text/plain": [
       "       year_month  customer_id  price  quantity  total  total_300\n",
       "0           20101        12346    198        19    -22          0\n",
       "1           20101        12361     44        45    178          0\n",
       "2           20101        12382     30        -1    -30          0\n",
       "3           20101        12404    104         1    104          0\n",
       "4           20101        12406     90       452   1443          1\n",
       "...           ...          ...    ...       ...    ...        ...\n",
       "26302      201111        18263     27       419    654          1\n",
       "26303      201111        18270     28        60    278          0\n",
       "26304      201111        18274    128         0      0          0\n",
       "26305      201111        18276     20        -2    -20          0\n",
       "26306      201111        18283    396       435    938          1\n",
       "\n",
       "[26307 rows x 6 columns]"
      ]
     },
     "execution_count": 25,
     "metadata": {},
     "output_type": "execute_result"
    }
   ],
   "source": [
    "df_2"
   ]
  },
  {
   "cell_type": "code",
   "execution_count": 61,
   "metadata": {},
   "outputs": [
    {
     "data": {
      "text/plain": [
       "(array([  34.,  114., 1887., 6495., 6953., 3637., 2188., 1317.,  830.,\n",
       "         589.]),\n",
       " array([-692. , -427.6, -163.2,  101.2,  365.6,  630. ,  894.4, 1158.8,\n",
       "        1423.2, 1687.6, 1952. ]),\n",
       " <BarContainer object of 10 artists>)"
      ]
     },
     "execution_count": 61,
     "metadata": {},
     "output_type": "execute_result"
    },
    {
     "data": {
      "image/png": "[encoded data removed]",
      "text/plain": [
       "<Figure size 432x288 with 1 Axes>"
      ]
     },
     "metadata": {
      "needs_background": "light"
     },
     "output_type": "display_data"
    }
   ],
   "source": [
    "plt.hist(df_2['total'])"
   ]
  },
  {
   "cell_type": "code",
   "execution_count": 27,
   "metadata": {},
   "outputs": [
    {
     "data": {
      "text/plain": [
       "[Text(0, 0.5, 'Count'), Text(0.5, 1.0, 'total')]"
      ]
     },
     "execution_count": 27,
     "metadata": {},
     "output_type": "execute_result"
    },
    {
     "data": {
      "image/png": "[encoded data removed]",
      "text/plain": [
       "<Figure size 1440x864 with 1 Axes>"
      ]
     },
     "metadata": {
      "needs_background": "light"
     },
     "output_type": "display_data"
    }
   ],
   "source": [
    "figure, ax2 =plt.subplots(nrows=1,ncols=1)\n",
    "figure.set_size_inches(20,12)\n",
    "\n",
    "sns.barplot(data=df_2, x=\"year_month\", y=\"total\", ax=ax2)\n",
    "\n",
    "ax2.set(ylabel='Count', title=\"total\")"
   ]
  },
  {
   "cell_type": "code",
   "execution_count": 63,
   "metadata": {},
   "outputs": [
    {
     "data": {
      "text/plain": [
       "[Text(0, 0.5, 'Count'), Text(0.5, 1.0, 'total')]"
      ]
     },
     "execution_count": 63,
     "metadata": {},
     "output_type": "execute_result"
    },
    {
     "data": {
      "image/png": "[encoded data removed]",
      "text/plain": [
       "<Figure size 1440x864 with 1 Axes>"
      ]
     },
     "metadata": {
      "needs_background": "light"
     },
     "output_type": "display_data"
    }
   ],
   "source": [
    "figure, ax3 =plt.subplots(nrows=1,ncols=1)\n",
    "figure.set_size_inches(20,12)\n",
    "\n",
    "sns.barplot(data=df_2, x=\"total_300\", y=\"customer_id\", ax=ax3)\n",
    "\n",
    "ax3.set(ylabel='Count', title=\"total\")"
   ]
  },
  {
   "cell_type": "code",
   "execution_count": 29,
   "metadata": {},
   "outputs": [
    {
     "data": {
      "text/plain": [
       "<AxesSubplot:xlabel='year_month', ylabel='total_300'>"
      ]
     },
     "execution_count": 29,
     "metadata": {},
     "output_type": "execute_result"
    },
    {
     "data": {
      "image/png": "[encoded data removed]",
      "text/plain": [
       "<Figure size 1296x720 with 1 Axes>"
      ]
     },
     "metadata": {
      "needs_background": "light"
     },
     "output_type": "display_data"
    }
   ],
   "source": [
    "fig, ax1 =plt.subplots(nrows=1)\n",
    "fig.set_size_inches(18,10)\n",
    "\n",
    "sns.pointplot(data=df_2, x=\"year_month\",y=\"total_300\",ax=ax1)"
   ]
  },
  {
   "cell_type": "code",
   "execution_count": 30,
   "metadata": {},
   "outputs": [
    {
     "name": "stdout",
     "output_type": "stream",
     "text": [
      "2263\n",
      "(24044, 6)\n",
      "       year_month  customer_id  price  quantity  total  total_300\n",
      "0           20101        12346    198        19    -22          0\n",
      "1           20101        12361     44        45    178          0\n",
      "2           20101        12382     30        -1    -30          0\n",
      "3           20101        12404    104         1    104          0\n",
      "4           20101        12406     90       452   1443          1\n",
      "...           ...          ...    ...       ...    ...        ...\n",
      "26302      201111        18263     27       419    654          1\n",
      "26303      201111        18270     28        60    278          0\n",
      "26304      201111        18274    128         0      0          0\n",
      "26305      201111        18276     20        -2    -20          0\n",
      "26306      201111        18283    396       435    938          1\n",
      "\n",
      "[24044 rows x 6 columns]\n"
     ]
    }
   ],
   "source": [
    "# IQR\n",
    "def remove_outlier_test(d_cp, column):\n",
    "    fraud_column_data=d_cp[column]\n",
    "    quan_25=np.percentile(fraud_column_data.values, 25)\n",
    "    quan_75=np.percentile(fraud_column_data.values, 75)\n",
    "\n",
    "    iqr=quan_75-quan_25\n",
    "    iqr=iqr*1.5\n",
    "    lowest=quan_25-iqr\n",
    "    highest=quan_75+iqr\n",
    "    outlier_index=fraud_column_data[(fraud_column_data<lowest)|(fraud_column_data>highest)].index\n",
    "    print(len(outlier_index))\n",
    "    d_cp.drop(outlier_index, axis=0, inplace=True)\n",
    "    print(d_cp.shape)\n",
    "    return d_cp\n",
    "\n",
    "df_2=remove_outlier_test(df_2, 'total')\n",
    "print(df_2)"
   ]
  },
  {
   "cell_type": "code",
   "execution_count": 31,
   "metadata": {},
   "outputs": [
    {
     "data": {
      "text/plain": [
       "(24044, 5)"
      ]
     },
     "execution_count": 31,
     "metadata": {},
     "output_type": "execute_result"
    }
   ],
   "source": [
    "X=df_2.drop('total_300',axis=1)\n",
    "# X=X.to_numpy()\n",
    "X.shape"
   ]
  },
  {
   "cell_type": "code",
   "execution_count": 32,
   "metadata": {},
   "outputs": [
    {
     "data": {
      "text/plain": [
       "(24044,)"
      ]
     },
     "execution_count": 32,
     "metadata": {},
     "output_type": "execute_result"
    }
   ],
   "source": [
    "y=df_2['total_300'].reindex_like(df_2.total)\n",
    "# y=y.to_numpy()\n",
    "y.shape"
   ]
  },
  {
   "cell_type": "code",
   "execution_count": 33,
   "metadata": {},
   "outputs": [
    {
     "name": "stdout",
     "output_type": "stream",
     "text": [
      "       year_month  customer_id  price  quantity  total\n",
      "2981        20104        14006     31       760    635\n",
      "10920       20113        14189     53       223    503\n",
      "9270        20111        14092     80       205    515\n",
      "11324       20113        16517     74        96    259\n",
      "16576       20118        17988    124         8     92\n",
      "...           ...          ...    ...       ...    ...\n",
      "23599      201110        14099    134       379    941\n",
      "5884        20107        12529      7        -2     -7\n",
      "934         20102        13491     36       159    395\n",
      "17172       20119        14713    121       111    327\n",
      "25891      201111        16880    251       141    642\n",
      "\n",
      "[19235 rows x 5 columns]\n",
      "       year_month  customer_id  price  quantity  total\n",
      "25803      201111        16560    212       325    783\n",
      "15348       20117        16571     31       -36    -60\n",
      "18781      200912        17290     12       123     92\n",
      "7088        20108        13945    127       329    833\n",
      "14246       20116        15976    190       150    336\n",
      "...           ...          ...    ...       ...    ...\n",
      "23896      201110        15286     21        55    396\n",
      "23907      201110        15306    122       298    838\n",
      "8579        20109        16105     44       421    990\n",
      "3819        20105        13051     33        12    132\n",
      "7720        20108        17713     43       284    500\n",
      "\n",
      "[4809 rows x 5 columns]\n",
      "2981     1\n",
      "10920    1\n",
      "9270     1\n",
      "11324    0\n",
      "16576    0\n",
      "        ..\n",
      "23599    1\n",
      "5884     0\n",
      "934      1\n",
      "17172    1\n",
      "25891    1\n",
      "Name: total_300, Length: 19235, dtype: int64\n",
      "25803    1\n",
      "15348    0\n",
      "18781    0\n",
      "7088     1\n",
      "14246    1\n",
      "        ..\n",
      "23896    1\n",
      "23907    1\n",
      "8579     1\n",
      "3819     0\n",
      "7720     1\n",
      "Name: total_300, Length: 4809, dtype: int64\n"
     ]
    }
   ],
   "source": [
    "# 랜덤으로 행을 하나 추출했을 때, X는 customer_id_total를 제외한 데이터,\n",
    "# y는 customer_id_total로 나누어서 학습을 시켜보자.\n",
    "\n",
    "from sklearn.model_selection import train_test_split\n",
    "X_train,X_test,y_train,y_test = train_test_split(X, y, test_size = 0.2,random_state = 42)\n",
    "print(X_train)\n",
    "print(X_test)\n",
    "print(y_train)\n",
    "print(y_test)"
   ]
  },
  {
   "cell_type": "code",
   "execution_count": 34,
   "metadata": {},
   "outputs": [
    {
     "name": "stdout",
     "output_type": "stream",
     "text": [
      "(19235, 5)\n",
      "(4809, 5)\n",
      "(19235,)\n",
      "(4809,)\n"
     ]
    }
   ],
   "source": [
    "print(X_train.shape)\n",
    "print(X_test.shape)\n",
    "print(y_train.shape)\n",
    "print(y_test.shape)"
   ]
  },
  {
   "cell_type": "code",
   "execution_count": 35,
   "metadata": {},
   "outputs": [
    {
     "name": "stdout",
     "output_type": "stream",
     "text": [
      " 5 folds 의 개별 Negative MSE scores:  [-0.12 -0.12 -0.12 -0.12 -0.12]\n",
      " 5 folds 의 개별 RMSE scores :  [0.35 0.35 0.35 0.34 0.35]\n",
      " 5 folds 의 평균 RMSE : 0.346 \n"
     ]
    }
   ],
   "source": [
    "# k-fold \n",
    "\n",
    "from sklearn.model_selection import cross_val_score\n",
    "\n",
    "\n",
    "lr = LinearRegression()\n",
    "\n",
    "# K-Fold cross validaition 설명 및 그림 붙이기(02/19)?\n",
    "# cross_val_score( )로 5 Fold 셋으로 MSE 를 구한 뒤 이를 기반으로 다시  RMSE 구함. \n",
    "neg_mse_scores = cross_val_score(lr, X, y, scoring=\"neg_mean_squared_error\", cv = 5)\n",
    "rmse_scores  = np.sqrt(-1 * neg_mse_scores)\n",
    "avg_rmse = np.mean(rmse_scores)\n",
    "\n",
    "\n",
    "# 왜 음수로 코딩(02/19)?\n",
    "# cross_val_score(scoring=\"neg_mean_squared_error\")로 반환된 값은 모두 음수\n",
    "# 회귀의 값은 작아지면 좋으니깐 마이너스를 취하면 작으면 작아지는게 좋음 (사람마다 다를듯) \n",
    "print(' 5 folds 의 개별 Negative MSE scores: ', np.round(neg_mse_scores, 2))\n",
    "print(' 5 folds 의 개별 RMSE scores : ', np.round(rmse_scores, 2))\n",
    "print(' 5 folds 의 평균 RMSE : {0:.3f} '.format(avg_rmse))"
   ]
  },
  {
   "cell_type": "code",
   "execution_count": 36,
   "metadata": {},
   "outputs": [
    {
     "name": "stdout",
     "output_type": "stream",
     "text": [
      "Accuracy on training set: 1.000\n",
      "Accuracy on test set: 1.000\n"
     ]
    }
   ],
   "source": [
    "# stratify : target:\n",
    "tree = DecisionTreeClassifier(random_state=0)\n",
    "tree.fit(X_train, y_train)\n",
    "print(\"Accuracy on training set: {:.3f}\".format(tree.score(X_train, y_train)))\n",
    "print(\"Accuracy on test set: {:.3f}\".format(tree.score(X_test, y_test)))"
   ]
  },
  {
   "cell_type": "code",
   "execution_count": 37,
   "metadata": {},
   "outputs": [
    {
     "name": "stdout",
     "output_type": "stream",
     "text": [
      "Accuracy on training set: 1.000\n",
      "Accuracy on test set: 1.000\n"
     ]
    }
   ],
   "source": [
    "# Decision Tree\n",
    "from sklearn.metrics import classification_report, confusion_matrix\n",
    "from sklearn import tree\n",
    "from sklearn.tree import DecisionTreeClassifier\n",
    "import os\n",
    "\n",
    "traintree = DecisionTreeClassifier(random_state=42)\n",
    "traintree.fit(X_train, y_train)\n",
    "print(\"Accuracy on training set: {:.3f}\".format(traintree.score(X_train, y_train)))\n",
    "# accuracy on training set: 1.000\n",
    "print(\"Accuracy on test set: {:.3f}\".format(traintree.score(X_test, y_test)))\n",
    "# accuracy on test set: 1.000\n",
    "\n",
    "traintree_predict=traintree.predict(X_test)"
   ]
  },
  {
   "cell_type": "code",
   "execution_count": 38,
   "metadata": {},
   "outputs": [],
   "source": [
    "from sklearn.tree import export_graphviz\n",
    "import graphviz\n",
    "\n",
    "import pydotplus\n",
    "from pydotplus import graph_from_dot_data\n",
    "from sklearn.tree import export_graphviz\n",
    "import graphviz"
   ]
  },
  {
   "cell_type": "code",
   "execution_count": 39,
   "metadata": {},
   "outputs": [
    {
     "data": {
      "text/plain": [
       "Index(['year_month', 'customer_id', 'price', 'quantity'], dtype='object')"
      ]
     },
     "execution_count": 39,
     "metadata": {},
     "output_type": "execute_result"
    }
   ],
   "source": [
    "df_2.columns[0:4]"
   ]
  },
  {
   "cell_type": "code",
   "execution_count": 40,
   "metadata": {},
   "outputs": [
    {
     "ename": "TypeError",
     "evalue": "object of type 'NoneType' has no len()",
     "output_type": "error",
     "traceback": [
      "\u001b[1;31m---------------------------------------------------------------------------\u001b[0m",
      "\u001b[1;31mTypeError\u001b[0m                                 Traceback (most recent call last)",
      "\u001b[1;32m<ipython-input-40-5106e665003b>\u001b[0m in \u001b[0;36m<module>\u001b[1;34m\u001b[0m\n\u001b[0;32m     13\u001b[0m  feature_names=feature_names, class_names= target_name, filled=True, rounded= True, special_characters= True)\n\u001b[0;32m     14\u001b[0m \u001b[1;33m\u001b[0m\u001b[0m\n\u001b[1;32m---> 15\u001b[1;33m \u001b[0mdt_graph\u001b[0m \u001b[1;33m=\u001b[0m \u001b[0mpydotplus\u001b[0m\u001b[1;33m.\u001b[0m\u001b[0mgraph_from_dot_data\u001b[0m\u001b[1;33m(\u001b[0m\u001b[0mdt_dot_data\u001b[0m\u001b[1;33m)\u001b[0m\u001b[1;33m\u001b[0m\u001b[1;33m\u001b[0m\u001b[0m\n\u001b[0m\u001b[0;32m     16\u001b[0m \u001b[1;33m\u001b[0m\u001b[0m\n\u001b[0;32m     17\u001b[0m \u001b[1;32mimport\u001b[0m \u001b[0mpydotplus\u001b[0m\u001b[1;33m\u001b[0m\u001b[1;33m\u001b[0m\u001b[0m\n",
      "\u001b[1;32mC:\\ProgramData\\Anaconda3\\lib\\site-packages\\pydotplus\\graphviz.py\u001b[0m in \u001b[0;36mgraph_from_dot_data\u001b[1;34m(data)\u001b[0m\n\u001b[0;32m    300\u001b[0m     \"\"\"\n\u001b[0;32m    301\u001b[0m \u001b[1;33m\u001b[0m\u001b[0m\n\u001b[1;32m--> 302\u001b[1;33m     \u001b[1;32mreturn\u001b[0m \u001b[0mparser\u001b[0m\u001b[1;33m.\u001b[0m\u001b[0mparse_dot_data\u001b[0m\u001b[1;33m(\u001b[0m\u001b[0mdata\u001b[0m\u001b[1;33m)\u001b[0m\u001b[1;33m\u001b[0m\u001b[1;33m\u001b[0m\u001b[0m\n\u001b[0m\u001b[0;32m    303\u001b[0m \u001b[1;33m\u001b[0m\u001b[0m\n\u001b[0;32m    304\u001b[0m \u001b[1;33m\u001b[0m\u001b[0m\n",
      "\u001b[1;32mC:\\ProgramData\\Anaconda3\\lib\\site-packages\\pydotplus\\parser.py\u001b[0m in \u001b[0;36mparse_dot_data\u001b[1;34m(data)\u001b[0m\n\u001b[0;32m    556\u001b[0m             \u001b[0mgraphparser\u001b[0m\u001b[1;33m.\u001b[0m\u001b[0mparseWithTabs\u001b[0m\u001b[1;33m(\u001b[0m\u001b[1;33m)\u001b[0m\u001b[1;33m\u001b[0m\u001b[1;33m\u001b[0m\u001b[0m\n\u001b[0;32m    557\u001b[0m \u001b[1;33m\u001b[0m\u001b[0m\n\u001b[1;32m--> 558\u001b[1;33m         \u001b[0mtokens\u001b[0m \u001b[1;33m=\u001b[0m \u001b[0mgraphparser\u001b[0m\u001b[1;33m.\u001b[0m\u001b[0mparseString\u001b[0m\u001b[1;33m(\u001b[0m\u001b[0mdata\u001b[0m\u001b[1;33m)\u001b[0m\u001b[1;33m\u001b[0m\u001b[1;33m\u001b[0m\u001b[0m\n\u001b[0m\u001b[0;32m    559\u001b[0m \u001b[1;33m\u001b[0m\u001b[0m\n\u001b[0;32m    560\u001b[0m         \u001b[1;32mif\u001b[0m \u001b[0mlen\u001b[0m\u001b[1;33m(\u001b[0m\u001b[0mtokens\u001b[0m\u001b[1;33m)\u001b[0m \u001b[1;33m==\u001b[0m \u001b[1;36m1\u001b[0m\u001b[1;33m:\u001b[0m\u001b[1;33m\u001b[0m\u001b[1;33m\u001b[0m\u001b[0m\n",
      "\u001b[1;32mC:\\ProgramData\\Anaconda3\\lib\\site-packages\\pyparsing.py\u001b[0m in \u001b[0;36mparseString\u001b[1;34m(self, instring, parseAll)\u001b[0m\n\u001b[0;32m   1941\u001b[0m             \u001b[0minstring\u001b[0m \u001b[1;33m=\u001b[0m \u001b[0minstring\u001b[0m\u001b[1;33m.\u001b[0m\u001b[0mexpandtabs\u001b[0m\u001b[1;33m(\u001b[0m\u001b[1;33m)\u001b[0m\u001b[1;33m\u001b[0m\u001b[1;33m\u001b[0m\u001b[0m\n\u001b[0;32m   1942\u001b[0m         \u001b[1;32mtry\u001b[0m\u001b[1;33m:\u001b[0m\u001b[1;33m\u001b[0m\u001b[1;33m\u001b[0m\u001b[0m\n\u001b[1;32m-> 1943\u001b[1;33m             \u001b[0mloc\u001b[0m\u001b[1;33m,\u001b[0m \u001b[0mtokens\u001b[0m \u001b[1;33m=\u001b[0m \u001b[0mself\u001b[0m\u001b[1;33m.\u001b[0m\u001b[0m_parse\u001b[0m\u001b[1;33m(\u001b[0m\u001b[0minstring\u001b[0m\u001b[1;33m,\u001b[0m \u001b[1;36m0\u001b[0m\u001b[1;33m)\u001b[0m\u001b[1;33m\u001b[0m\u001b[1;33m\u001b[0m\u001b[0m\n\u001b[0m\u001b[0;32m   1944\u001b[0m             \u001b[1;32mif\u001b[0m \u001b[0mparseAll\u001b[0m\u001b[1;33m:\u001b[0m\u001b[1;33m\u001b[0m\u001b[1;33m\u001b[0m\u001b[0m\n\u001b[0;32m   1945\u001b[0m                 \u001b[0mloc\u001b[0m \u001b[1;33m=\u001b[0m \u001b[0mself\u001b[0m\u001b[1;33m.\u001b[0m\u001b[0mpreParse\u001b[0m\u001b[1;33m(\u001b[0m\u001b[0minstring\u001b[0m\u001b[1;33m,\u001b[0m \u001b[0mloc\u001b[0m\u001b[1;33m)\u001b[0m\u001b[1;33m\u001b[0m\u001b[1;33m\u001b[0m\u001b[0m\n",
      "\u001b[1;32mC:\\ProgramData\\Anaconda3\\lib\\site-packages\\pyparsing.py\u001b[0m in \u001b[0;36m_parseCache\u001b[1;34m(self, instring, loc, doActions, callPreParse)\u001b[0m\n\u001b[0;32m   1842\u001b[0m                 \u001b[0mParserElement\u001b[0m\u001b[1;33m.\u001b[0m\u001b[0mpackrat_cache_stats\u001b[0m\u001b[1;33m[\u001b[0m\u001b[0mMISS\u001b[0m\u001b[1;33m]\u001b[0m \u001b[1;33m+=\u001b[0m \u001b[1;36m1\u001b[0m\u001b[1;33m\u001b[0m\u001b[1;33m\u001b[0m\u001b[0m\n\u001b[0;32m   1843\u001b[0m                 \u001b[1;32mtry\u001b[0m\u001b[1;33m:\u001b[0m\u001b[1;33m\u001b[0m\u001b[1;33m\u001b[0m\u001b[0m\n\u001b[1;32m-> 1844\u001b[1;33m                     \u001b[0mvalue\u001b[0m \u001b[1;33m=\u001b[0m \u001b[0mself\u001b[0m\u001b[1;33m.\u001b[0m\u001b[0m_parseNoCache\u001b[0m\u001b[1;33m(\u001b[0m\u001b[0minstring\u001b[0m\u001b[1;33m,\u001b[0m \u001b[0mloc\u001b[0m\u001b[1;33m,\u001b[0m \u001b[0mdoActions\u001b[0m\u001b[1;33m,\u001b[0m \u001b[0mcallPreParse\u001b[0m\u001b[1;33m)\u001b[0m\u001b[1;33m\u001b[0m\u001b[1;33m\u001b[0m\u001b[0m\n\u001b[0m\u001b[0;32m   1845\u001b[0m                 \u001b[1;32mexcept\u001b[0m \u001b[0mParseBaseException\u001b[0m \u001b[1;32mas\u001b[0m \u001b[0mpe\u001b[0m\u001b[1;33m:\u001b[0m\u001b[1;33m\u001b[0m\u001b[1;33m\u001b[0m\u001b[0m\n\u001b[0;32m   1846\u001b[0m                     \u001b[1;31m# cache a copy of the exception, without the traceback\u001b[0m\u001b[1;33m\u001b[0m\u001b[1;33m\u001b[0m\u001b[1;33m\u001b[0m\u001b[0m\n",
      "\u001b[1;32mC:\\ProgramData\\Anaconda3\\lib\\site-packages\\pyparsing.py\u001b[0m in \u001b[0;36m_parseNoCache\u001b[1;34m(self, instring, loc, doActions, callPreParse)\u001b[0m\n\u001b[0;32m   1675\u001b[0m         \u001b[1;32melse\u001b[0m\u001b[1;33m:\u001b[0m\u001b[1;33m\u001b[0m\u001b[1;33m\u001b[0m\u001b[0m\n\u001b[0;32m   1676\u001b[0m             \u001b[1;32mif\u001b[0m \u001b[0mcallPreParse\u001b[0m \u001b[1;32mand\u001b[0m \u001b[0mself\u001b[0m\u001b[1;33m.\u001b[0m\u001b[0mcallPreparse\u001b[0m\u001b[1;33m:\u001b[0m\u001b[1;33m\u001b[0m\u001b[1;33m\u001b[0m\u001b[0m\n\u001b[1;32m-> 1677\u001b[1;33m                 \u001b[0mpreloc\u001b[0m \u001b[1;33m=\u001b[0m \u001b[0mself\u001b[0m\u001b[1;33m.\u001b[0m\u001b[0mpreParse\u001b[0m\u001b[1;33m(\u001b[0m\u001b[0minstring\u001b[0m\u001b[1;33m,\u001b[0m \u001b[0mloc\u001b[0m\u001b[1;33m)\u001b[0m\u001b[1;33m\u001b[0m\u001b[1;33m\u001b[0m\u001b[0m\n\u001b[0m\u001b[0;32m   1678\u001b[0m             \u001b[1;32melse\u001b[0m\u001b[1;33m:\u001b[0m\u001b[1;33m\u001b[0m\u001b[1;33m\u001b[0m\u001b[0m\n\u001b[0;32m   1679\u001b[0m                 \u001b[0mpreloc\u001b[0m \u001b[1;33m=\u001b[0m \u001b[0mloc\u001b[0m\u001b[1;33m\u001b[0m\u001b[1;33m\u001b[0m\u001b[0m\n",
      "\u001b[1;32mC:\\ProgramData\\Anaconda3\\lib\\site-packages\\pyparsing.py\u001b[0m in \u001b[0;36mpreParse\u001b[1;34m(self, instring, loc)\u001b[0m\n\u001b[0;32m   1628\u001b[0m     \u001b[1;32mdef\u001b[0m \u001b[0mpreParse\u001b[0m\u001b[1;33m(\u001b[0m\u001b[0mself\u001b[0m\u001b[1;33m,\u001b[0m \u001b[0minstring\u001b[0m\u001b[1;33m,\u001b[0m \u001b[0mloc\u001b[0m\u001b[1;33m)\u001b[0m\u001b[1;33m:\u001b[0m\u001b[1;33m\u001b[0m\u001b[1;33m\u001b[0m\u001b[0m\n\u001b[0;32m   1629\u001b[0m         \u001b[1;32mif\u001b[0m \u001b[0mself\u001b[0m\u001b[1;33m.\u001b[0m\u001b[0mignoreExprs\u001b[0m\u001b[1;33m:\u001b[0m\u001b[1;33m\u001b[0m\u001b[1;33m\u001b[0m\u001b[0m\n\u001b[1;32m-> 1630\u001b[1;33m             \u001b[0mloc\u001b[0m \u001b[1;33m=\u001b[0m \u001b[0mself\u001b[0m\u001b[1;33m.\u001b[0m\u001b[0m_skipIgnorables\u001b[0m\u001b[1;33m(\u001b[0m\u001b[0minstring\u001b[0m\u001b[1;33m,\u001b[0m \u001b[0mloc\u001b[0m\u001b[1;33m)\u001b[0m\u001b[1;33m\u001b[0m\u001b[1;33m\u001b[0m\u001b[0m\n\u001b[0m\u001b[0;32m   1631\u001b[0m \u001b[1;33m\u001b[0m\u001b[0m\n\u001b[0;32m   1632\u001b[0m         \u001b[1;32mif\u001b[0m \u001b[0mself\u001b[0m\u001b[1;33m.\u001b[0m\u001b[0mskipWhitespace\u001b[0m\u001b[1;33m:\u001b[0m\u001b[1;33m\u001b[0m\u001b[1;33m\u001b[0m\u001b[0m\n",
      "\u001b[1;32mC:\\ProgramData\\Anaconda3\\lib\\site-packages\\pyparsing.py\u001b[0m in \u001b[0;36m_skipIgnorables\u001b[1;34m(self, instring, loc)\u001b[0m\n\u001b[0;32m   1620\u001b[0m                 \u001b[1;32mtry\u001b[0m\u001b[1;33m:\u001b[0m\u001b[1;33m\u001b[0m\u001b[1;33m\u001b[0m\u001b[0m\n\u001b[0;32m   1621\u001b[0m                     \u001b[1;32mwhile\u001b[0m \u001b[1;36m1\u001b[0m\u001b[1;33m:\u001b[0m\u001b[1;33m\u001b[0m\u001b[1;33m\u001b[0m\u001b[0m\n\u001b[1;32m-> 1622\u001b[1;33m                         \u001b[0mloc\u001b[0m\u001b[1;33m,\u001b[0m \u001b[0mdummy\u001b[0m \u001b[1;33m=\u001b[0m \u001b[0me\u001b[0m\u001b[1;33m.\u001b[0m\u001b[0m_parse\u001b[0m\u001b[1;33m(\u001b[0m\u001b[0minstring\u001b[0m\u001b[1;33m,\u001b[0m \u001b[0mloc\u001b[0m\u001b[1;33m)\u001b[0m\u001b[1;33m\u001b[0m\u001b[1;33m\u001b[0m\u001b[0m\n\u001b[0m\u001b[0;32m   1623\u001b[0m                         \u001b[0mexprsFound\u001b[0m \u001b[1;33m=\u001b[0m \u001b[1;32mTrue\u001b[0m\u001b[1;33m\u001b[0m\u001b[1;33m\u001b[0m\u001b[0m\n\u001b[0;32m   1624\u001b[0m                 \u001b[1;32mexcept\u001b[0m \u001b[0mParseException\u001b[0m\u001b[1;33m:\u001b[0m\u001b[1;33m\u001b[0m\u001b[1;33m\u001b[0m\u001b[0m\n",
      "\u001b[1;32mC:\\ProgramData\\Anaconda3\\lib\\site-packages\\pyparsing.py\u001b[0m in \u001b[0;36m_parseCache\u001b[1;34m(self, instring, loc, doActions, callPreParse)\u001b[0m\n\u001b[0;32m   1842\u001b[0m                 \u001b[0mParserElement\u001b[0m\u001b[1;33m.\u001b[0m\u001b[0mpackrat_cache_stats\u001b[0m\u001b[1;33m[\u001b[0m\u001b[0mMISS\u001b[0m\u001b[1;33m]\u001b[0m \u001b[1;33m+=\u001b[0m \u001b[1;36m1\u001b[0m\u001b[1;33m\u001b[0m\u001b[1;33m\u001b[0m\u001b[0m\n\u001b[0;32m   1843\u001b[0m                 \u001b[1;32mtry\u001b[0m\u001b[1;33m:\u001b[0m\u001b[1;33m\u001b[0m\u001b[1;33m\u001b[0m\u001b[0m\n\u001b[1;32m-> 1844\u001b[1;33m                     \u001b[0mvalue\u001b[0m \u001b[1;33m=\u001b[0m \u001b[0mself\u001b[0m\u001b[1;33m.\u001b[0m\u001b[0m_parseNoCache\u001b[0m\u001b[1;33m(\u001b[0m\u001b[0minstring\u001b[0m\u001b[1;33m,\u001b[0m \u001b[0mloc\u001b[0m\u001b[1;33m,\u001b[0m \u001b[0mdoActions\u001b[0m\u001b[1;33m,\u001b[0m \u001b[0mcallPreParse\u001b[0m\u001b[1;33m)\u001b[0m\u001b[1;33m\u001b[0m\u001b[1;33m\u001b[0m\u001b[0m\n\u001b[0m\u001b[0;32m   1845\u001b[0m                 \u001b[1;32mexcept\u001b[0m \u001b[0mParseBaseException\u001b[0m \u001b[1;32mas\u001b[0m \u001b[0mpe\u001b[0m\u001b[1;33m:\u001b[0m\u001b[1;33m\u001b[0m\u001b[1;33m\u001b[0m\u001b[0m\n\u001b[0;32m   1846\u001b[0m                     \u001b[1;31m# cache a copy of the exception, without the traceback\u001b[0m\u001b[1;33m\u001b[0m\u001b[1;33m\u001b[0m\u001b[1;33m\u001b[0m\u001b[0m\n",
      "\u001b[1;32mC:\\ProgramData\\Anaconda3\\lib\\site-packages\\pyparsing.py\u001b[0m in \u001b[0;36m_parseNoCache\u001b[1;34m(self, instring, loc, doActions, callPreParse)\u001b[0m\n\u001b[0;32m   1681\u001b[0m             \u001b[1;32mif\u001b[0m \u001b[0mself\u001b[0m\u001b[1;33m.\u001b[0m\u001b[0mmayIndexError\u001b[0m \u001b[1;32mor\u001b[0m \u001b[0mpreloc\u001b[0m \u001b[1;33m>=\u001b[0m \u001b[0mlen\u001b[0m\u001b[1;33m(\u001b[0m\u001b[0minstring\u001b[0m\u001b[1;33m)\u001b[0m\u001b[1;33m:\u001b[0m\u001b[1;33m\u001b[0m\u001b[1;33m\u001b[0m\u001b[0m\n\u001b[0;32m   1682\u001b[0m                 \u001b[1;32mtry\u001b[0m\u001b[1;33m:\u001b[0m\u001b[1;33m\u001b[0m\u001b[1;33m\u001b[0m\u001b[0m\n\u001b[1;32m-> 1683\u001b[1;33m                     \u001b[0mloc\u001b[0m\u001b[1;33m,\u001b[0m \u001b[0mtokens\u001b[0m \u001b[1;33m=\u001b[0m \u001b[0mself\u001b[0m\u001b[1;33m.\u001b[0m\u001b[0mparseImpl\u001b[0m\u001b[1;33m(\u001b[0m\u001b[0minstring\u001b[0m\u001b[1;33m,\u001b[0m \u001b[0mpreloc\u001b[0m\u001b[1;33m,\u001b[0m \u001b[0mdoActions\u001b[0m\u001b[1;33m)\u001b[0m\u001b[1;33m\u001b[0m\u001b[1;33m\u001b[0m\u001b[0m\n\u001b[0m\u001b[0;32m   1684\u001b[0m                 \u001b[1;32mexcept\u001b[0m \u001b[0mIndexError\u001b[0m\u001b[1;33m:\u001b[0m\u001b[1;33m\u001b[0m\u001b[1;33m\u001b[0m\u001b[0m\n\u001b[0;32m   1685\u001b[0m                     \u001b[1;32mraise\u001b[0m \u001b[0mParseException\u001b[0m\u001b[1;33m(\u001b[0m\u001b[0minstring\u001b[0m\u001b[1;33m,\u001b[0m \u001b[0mlen\u001b[0m\u001b[1;33m(\u001b[0m\u001b[0minstring\u001b[0m\u001b[1;33m)\u001b[0m\u001b[1;33m,\u001b[0m \u001b[0mself\u001b[0m\u001b[1;33m.\u001b[0m\u001b[0merrmsg\u001b[0m\u001b[1;33m,\u001b[0m \u001b[0mself\u001b[0m\u001b[1;33m)\u001b[0m\u001b[1;33m\u001b[0m\u001b[1;33m\u001b[0m\u001b[0m\n",
      "\u001b[1;32mC:\\ProgramData\\Anaconda3\\lib\\site-packages\\pyparsing.py\u001b[0m in \u001b[0;36mparseImpl\u001b[1;34m(self, instring, loc, doActions)\u001b[0m\n\u001b[0;32m   4460\u001b[0m     \u001b[1;32mdef\u001b[0m \u001b[0mparseImpl\u001b[0m\u001b[1;33m(\u001b[0m\u001b[0mself\u001b[0m\u001b[1;33m,\u001b[0m \u001b[0minstring\u001b[0m\u001b[1;33m,\u001b[0m \u001b[0mloc\u001b[0m\u001b[1;33m,\u001b[0m \u001b[0mdoActions\u001b[0m\u001b[1;33m=\u001b[0m\u001b[1;32mTrue\u001b[0m\u001b[1;33m)\u001b[0m\u001b[1;33m:\u001b[0m\u001b[1;33m\u001b[0m\u001b[1;33m\u001b[0m\u001b[0m\n\u001b[0;32m   4461\u001b[0m         \u001b[1;32mif\u001b[0m \u001b[0mself\u001b[0m\u001b[1;33m.\u001b[0m\u001b[0mexpr\u001b[0m \u001b[1;32mis\u001b[0m \u001b[1;32mnot\u001b[0m \u001b[1;32mNone\u001b[0m\u001b[1;33m:\u001b[0m\u001b[1;33m\u001b[0m\u001b[1;33m\u001b[0m\u001b[0m\n\u001b[1;32m-> 4462\u001b[1;33m             \u001b[1;32mreturn\u001b[0m \u001b[0mself\u001b[0m\u001b[1;33m.\u001b[0m\u001b[0mexpr\u001b[0m\u001b[1;33m.\u001b[0m\u001b[0m_parse\u001b[0m\u001b[1;33m(\u001b[0m\u001b[0minstring\u001b[0m\u001b[1;33m,\u001b[0m \u001b[0mloc\u001b[0m\u001b[1;33m,\u001b[0m \u001b[0mdoActions\u001b[0m\u001b[1;33m,\u001b[0m \u001b[0mcallPreParse\u001b[0m\u001b[1;33m=\u001b[0m\u001b[1;32mFalse\u001b[0m\u001b[1;33m)\u001b[0m\u001b[1;33m\u001b[0m\u001b[1;33m\u001b[0m\u001b[0m\n\u001b[0m\u001b[0;32m   4463\u001b[0m         \u001b[1;32melse\u001b[0m\u001b[1;33m:\u001b[0m\u001b[1;33m\u001b[0m\u001b[1;33m\u001b[0m\u001b[0m\n\u001b[0;32m   4464\u001b[0m             \u001b[1;32mraise\u001b[0m \u001b[0mParseException\u001b[0m\u001b[1;33m(\u001b[0m\u001b[1;34m\"\"\u001b[0m\u001b[1;33m,\u001b[0m \u001b[0mloc\u001b[0m\u001b[1;33m,\u001b[0m \u001b[0mself\u001b[0m\u001b[1;33m.\u001b[0m\u001b[0merrmsg\u001b[0m\u001b[1;33m,\u001b[0m \u001b[0mself\u001b[0m\u001b[1;33m)\u001b[0m\u001b[1;33m\u001b[0m\u001b[1;33m\u001b[0m\u001b[0m\n",
      "\u001b[1;32mC:\\ProgramData\\Anaconda3\\lib\\site-packages\\pyparsing.py\u001b[0m in \u001b[0;36m_parseCache\u001b[1;34m(self, instring, loc, doActions, callPreParse)\u001b[0m\n\u001b[0;32m   1842\u001b[0m                 \u001b[0mParserElement\u001b[0m\u001b[1;33m.\u001b[0m\u001b[0mpackrat_cache_stats\u001b[0m\u001b[1;33m[\u001b[0m\u001b[0mMISS\u001b[0m\u001b[1;33m]\u001b[0m \u001b[1;33m+=\u001b[0m \u001b[1;36m1\u001b[0m\u001b[1;33m\u001b[0m\u001b[1;33m\u001b[0m\u001b[0m\n\u001b[0;32m   1843\u001b[0m                 \u001b[1;32mtry\u001b[0m\u001b[1;33m:\u001b[0m\u001b[1;33m\u001b[0m\u001b[1;33m\u001b[0m\u001b[0m\n\u001b[1;32m-> 1844\u001b[1;33m                     \u001b[0mvalue\u001b[0m \u001b[1;33m=\u001b[0m \u001b[0mself\u001b[0m\u001b[1;33m.\u001b[0m\u001b[0m_parseNoCache\u001b[0m\u001b[1;33m(\u001b[0m\u001b[0minstring\u001b[0m\u001b[1;33m,\u001b[0m \u001b[0mloc\u001b[0m\u001b[1;33m,\u001b[0m \u001b[0mdoActions\u001b[0m\u001b[1;33m,\u001b[0m \u001b[0mcallPreParse\u001b[0m\u001b[1;33m)\u001b[0m\u001b[1;33m\u001b[0m\u001b[1;33m\u001b[0m\u001b[0m\n\u001b[0m\u001b[0;32m   1845\u001b[0m                 \u001b[1;32mexcept\u001b[0m \u001b[0mParseBaseException\u001b[0m \u001b[1;32mas\u001b[0m \u001b[0mpe\u001b[0m\u001b[1;33m:\u001b[0m\u001b[1;33m\u001b[0m\u001b[1;33m\u001b[0m\u001b[0m\n\u001b[0;32m   1846\u001b[0m                     \u001b[1;31m# cache a copy of the exception, without the traceback\u001b[0m\u001b[1;33m\u001b[0m\u001b[1;33m\u001b[0m\u001b[1;33m\u001b[0m\u001b[0m\n",
      "\u001b[1;32mC:\\ProgramData\\Anaconda3\\lib\\site-packages\\pyparsing.py\u001b[0m in \u001b[0;36m_parseNoCache\u001b[1;34m(self, instring, loc, doActions, callPreParse)\u001b[0m\n\u001b[0;32m   1681\u001b[0m             \u001b[1;32mif\u001b[0m \u001b[0mself\u001b[0m\u001b[1;33m.\u001b[0m\u001b[0mmayIndexError\u001b[0m \u001b[1;32mor\u001b[0m \u001b[0mpreloc\u001b[0m \u001b[1;33m>=\u001b[0m \u001b[0mlen\u001b[0m\u001b[1;33m(\u001b[0m\u001b[0minstring\u001b[0m\u001b[1;33m)\u001b[0m\u001b[1;33m:\u001b[0m\u001b[1;33m\u001b[0m\u001b[1;33m\u001b[0m\u001b[0m\n\u001b[0;32m   1682\u001b[0m                 \u001b[1;32mtry\u001b[0m\u001b[1;33m:\u001b[0m\u001b[1;33m\u001b[0m\u001b[1;33m\u001b[0m\u001b[0m\n\u001b[1;32m-> 1683\u001b[1;33m                     \u001b[0mloc\u001b[0m\u001b[1;33m,\u001b[0m \u001b[0mtokens\u001b[0m \u001b[1;33m=\u001b[0m \u001b[0mself\u001b[0m\u001b[1;33m.\u001b[0m\u001b[0mparseImpl\u001b[0m\u001b[1;33m(\u001b[0m\u001b[0minstring\u001b[0m\u001b[1;33m,\u001b[0m \u001b[0mpreloc\u001b[0m\u001b[1;33m,\u001b[0m \u001b[0mdoActions\u001b[0m\u001b[1;33m)\u001b[0m\u001b[1;33m\u001b[0m\u001b[1;33m\u001b[0m\u001b[0m\n\u001b[0m\u001b[0;32m   1684\u001b[0m                 \u001b[1;32mexcept\u001b[0m \u001b[0mIndexError\u001b[0m\u001b[1;33m:\u001b[0m\u001b[1;33m\u001b[0m\u001b[1;33m\u001b[0m\u001b[0m\n\u001b[0;32m   1685\u001b[0m                     \u001b[1;32mraise\u001b[0m \u001b[0mParseException\u001b[0m\u001b[1;33m(\u001b[0m\u001b[0minstring\u001b[0m\u001b[1;33m,\u001b[0m \u001b[0mlen\u001b[0m\u001b[1;33m(\u001b[0m\u001b[0minstring\u001b[0m\u001b[1;33m)\u001b[0m\u001b[1;33m,\u001b[0m \u001b[0mself\u001b[0m\u001b[1;33m.\u001b[0m\u001b[0merrmsg\u001b[0m\u001b[1;33m,\u001b[0m \u001b[0mself\u001b[0m\u001b[1;33m)\u001b[0m\u001b[1;33m\u001b[0m\u001b[1;33m\u001b[0m\u001b[0m\n",
      "\u001b[1;32mC:\\ProgramData\\Anaconda3\\lib\\site-packages\\pyparsing.py\u001b[0m in \u001b[0;36mparseImpl\u001b[1;34m(self, instring, loc, doActions)\u001b[0m\n\u001b[0;32m   4252\u001b[0m         \u001b[1;32mfor\u001b[0m \u001b[0me\u001b[0m \u001b[1;32min\u001b[0m \u001b[0mself\u001b[0m\u001b[1;33m.\u001b[0m\u001b[0mexprs\u001b[0m\u001b[1;33m:\u001b[0m\u001b[1;33m\u001b[0m\u001b[1;33m\u001b[0m\u001b[0m\n\u001b[0;32m   4253\u001b[0m             \u001b[1;32mtry\u001b[0m\u001b[1;33m:\u001b[0m\u001b[1;33m\u001b[0m\u001b[1;33m\u001b[0m\u001b[0m\n\u001b[1;32m-> 4254\u001b[1;33m                 \u001b[0mret\u001b[0m \u001b[1;33m=\u001b[0m \u001b[0me\u001b[0m\u001b[1;33m.\u001b[0m\u001b[0m_parse\u001b[0m\u001b[1;33m(\u001b[0m\u001b[0minstring\u001b[0m\u001b[1;33m,\u001b[0m \u001b[0mloc\u001b[0m\u001b[1;33m,\u001b[0m \u001b[0mdoActions\u001b[0m\u001b[1;33m)\u001b[0m\u001b[1;33m\u001b[0m\u001b[1;33m\u001b[0m\u001b[0m\n\u001b[0m\u001b[0;32m   4255\u001b[0m                 \u001b[1;32mreturn\u001b[0m \u001b[0mret\u001b[0m\u001b[1;33m\u001b[0m\u001b[1;33m\u001b[0m\u001b[0m\n\u001b[0;32m   4256\u001b[0m             \u001b[1;32mexcept\u001b[0m \u001b[0mParseException\u001b[0m \u001b[1;32mas\u001b[0m \u001b[0merr\u001b[0m\u001b[1;33m:\u001b[0m\u001b[1;33m\u001b[0m\u001b[1;33m\u001b[0m\u001b[0m\n",
      "\u001b[1;32mC:\\ProgramData\\Anaconda3\\lib\\site-packages\\pyparsing.py\u001b[0m in \u001b[0;36m_parseCache\u001b[1;34m(self, instring, loc, doActions, callPreParse)\u001b[0m\n\u001b[0;32m   1842\u001b[0m                 \u001b[0mParserElement\u001b[0m\u001b[1;33m.\u001b[0m\u001b[0mpackrat_cache_stats\u001b[0m\u001b[1;33m[\u001b[0m\u001b[0mMISS\u001b[0m\u001b[1;33m]\u001b[0m \u001b[1;33m+=\u001b[0m \u001b[1;36m1\u001b[0m\u001b[1;33m\u001b[0m\u001b[1;33m\u001b[0m\u001b[0m\n\u001b[0;32m   1843\u001b[0m                 \u001b[1;32mtry\u001b[0m\u001b[1;33m:\u001b[0m\u001b[1;33m\u001b[0m\u001b[1;33m\u001b[0m\u001b[0m\n\u001b[1;32m-> 1844\u001b[1;33m                     \u001b[0mvalue\u001b[0m \u001b[1;33m=\u001b[0m \u001b[0mself\u001b[0m\u001b[1;33m.\u001b[0m\u001b[0m_parseNoCache\u001b[0m\u001b[1;33m(\u001b[0m\u001b[0minstring\u001b[0m\u001b[1;33m,\u001b[0m \u001b[0mloc\u001b[0m\u001b[1;33m,\u001b[0m \u001b[0mdoActions\u001b[0m\u001b[1;33m,\u001b[0m \u001b[0mcallPreParse\u001b[0m\u001b[1;33m)\u001b[0m\u001b[1;33m\u001b[0m\u001b[1;33m\u001b[0m\u001b[0m\n\u001b[0m\u001b[0;32m   1845\u001b[0m                 \u001b[1;32mexcept\u001b[0m \u001b[0mParseBaseException\u001b[0m \u001b[1;32mas\u001b[0m \u001b[0mpe\u001b[0m\u001b[1;33m:\u001b[0m\u001b[1;33m\u001b[0m\u001b[1;33m\u001b[0m\u001b[0m\n\u001b[0;32m   1846\u001b[0m                     \u001b[1;31m# cache a copy of the exception, without the traceback\u001b[0m\u001b[1;33m\u001b[0m\u001b[1;33m\u001b[0m\u001b[1;33m\u001b[0m\u001b[0m\n",
      "\u001b[1;32mC:\\ProgramData\\Anaconda3\\lib\\site-packages\\pyparsing.py\u001b[0m in \u001b[0;36m_parseNoCache\u001b[1;34m(self, instring, loc, doActions, callPreParse)\u001b[0m\n\u001b[0;32m   1675\u001b[0m         \u001b[1;32melse\u001b[0m\u001b[1;33m:\u001b[0m\u001b[1;33m\u001b[0m\u001b[1;33m\u001b[0m\u001b[0m\n\u001b[0;32m   1676\u001b[0m             \u001b[1;32mif\u001b[0m \u001b[0mcallPreParse\u001b[0m \u001b[1;32mand\u001b[0m \u001b[0mself\u001b[0m\u001b[1;33m.\u001b[0m\u001b[0mcallPreparse\u001b[0m\u001b[1;33m:\u001b[0m\u001b[1;33m\u001b[0m\u001b[1;33m\u001b[0m\u001b[0m\n\u001b[1;32m-> 1677\u001b[1;33m                 \u001b[0mpreloc\u001b[0m \u001b[1;33m=\u001b[0m \u001b[0mself\u001b[0m\u001b[1;33m.\u001b[0m\u001b[0mpreParse\u001b[0m\u001b[1;33m(\u001b[0m\u001b[0minstring\u001b[0m\u001b[1;33m,\u001b[0m \u001b[0mloc\u001b[0m\u001b[1;33m)\u001b[0m\u001b[1;33m\u001b[0m\u001b[1;33m\u001b[0m\u001b[0m\n\u001b[0m\u001b[0;32m   1678\u001b[0m             \u001b[1;32melse\u001b[0m\u001b[1;33m:\u001b[0m\u001b[1;33m\u001b[0m\u001b[1;33m\u001b[0m\u001b[0m\n\u001b[0;32m   1679\u001b[0m                 \u001b[0mpreloc\u001b[0m \u001b[1;33m=\u001b[0m \u001b[0mloc\u001b[0m\u001b[1;33m\u001b[0m\u001b[1;33m\u001b[0m\u001b[0m\n",
      "\u001b[1;32mC:\\ProgramData\\Anaconda3\\lib\\site-packages\\pyparsing.py\u001b[0m in \u001b[0;36mpreParse\u001b[1;34m(self, instring, loc)\u001b[0m\n\u001b[0;32m   1632\u001b[0m         \u001b[1;32mif\u001b[0m \u001b[0mself\u001b[0m\u001b[1;33m.\u001b[0m\u001b[0mskipWhitespace\u001b[0m\u001b[1;33m:\u001b[0m\u001b[1;33m\u001b[0m\u001b[1;33m\u001b[0m\u001b[0m\n\u001b[0;32m   1633\u001b[0m             \u001b[0mwt\u001b[0m \u001b[1;33m=\u001b[0m \u001b[0mself\u001b[0m\u001b[1;33m.\u001b[0m\u001b[0mwhiteChars\u001b[0m\u001b[1;33m\u001b[0m\u001b[1;33m\u001b[0m\u001b[0m\n\u001b[1;32m-> 1634\u001b[1;33m             \u001b[0minstrlen\u001b[0m \u001b[1;33m=\u001b[0m \u001b[0mlen\u001b[0m\u001b[1;33m(\u001b[0m\u001b[0minstring\u001b[0m\u001b[1;33m)\u001b[0m\u001b[1;33m\u001b[0m\u001b[1;33m\u001b[0m\u001b[0m\n\u001b[0m\u001b[0;32m   1635\u001b[0m             \u001b[1;32mwhile\u001b[0m \u001b[0mloc\u001b[0m \u001b[1;33m<\u001b[0m \u001b[0minstrlen\u001b[0m \u001b[1;32mand\u001b[0m \u001b[0minstring\u001b[0m\u001b[1;33m[\u001b[0m\u001b[0mloc\u001b[0m\u001b[1;33m]\u001b[0m \u001b[1;32min\u001b[0m \u001b[0mwt\u001b[0m\u001b[1;33m:\u001b[0m\u001b[1;33m\u001b[0m\u001b[1;33m\u001b[0m\u001b[0m\n\u001b[0;32m   1636\u001b[0m                 \u001b[0mloc\u001b[0m \u001b[1;33m+=\u001b[0m \u001b[1;36m1\u001b[0m\u001b[1;33m\u001b[0m\u001b[1;33m\u001b[0m\u001b[0m\n",
      "\u001b[1;31mTypeError\u001b[0m: object of type 'NoneType' has no len()"
     ]
    }
   ],
   "source": [
    "# DecisionTreeClassifier 시각화 \n",
    "from sklearn.tree import export_graphviz\n",
    "import graphviz\n",
    "\n",
    "#feature_names=df_2.columns.tolist()\n",
    "\n",
    "feature_names=df_2.columns[0:5]\n",
    "feature_names\n",
    "target_name=df_2.columns[5]\n",
    "target_name\n",
    "\n",
    "dt_dot_data=tree.export_graphviz(traintree, out_file=\"tree.dot\",\n",
    " feature_names=feature_names, class_names= target_name, filled=True, rounded= True, special_characters= True)\n",
    "\n",
    "dt_graph = pydotplus.graph_from_dot_data(dt_dot_data)\n",
    "\n",
    "import pydotplus\n",
    "from pydotplus import graph_from_dot_data\n",
    "from sklearn.tree import export_graphviz\n",
    "import graphviz\n",
    "\n",
    "export_graphviz(traintree, out_file=\"tree.dot\", class_names=target_name,\n",
    "                feature_names=feature_names, impurity=False, filled=True)\n",
    "\n",
    "\n",
    "with open(\"tree.dot\") as f:\n",
    "    dot_graph = f.read()\n",
    "graphviz.Source(dot_graph)\n"
   ]
  },
  {
   "cell_type": "code",
   "execution_count": 45,
   "metadata": {},
   "outputs": [
    {
     "name": "stdout",
     "output_type": "stream",
     "text": [
      "[1 1 1 ... 1 1 1]\n",
      "[1 0 0 ... 1 0 1]\n",
      "[1 1 1 ... 1 1 1]\n",
      "[1 0 0 ... 1 0 1]\n",
      "\n",
      "\n",
      "MSE train: 0.000, test: 0.000\n",
      "\n",
      "\n",
      "R^2 train: 1.000, test: 1.000\n",
      "\n",
      "\n",
      "MSE train: 0.000, test: 0.000\n",
      "\n",
      "\n",
      "R^2 train: 1.000, test: 1.000\n"
     ]
    }
   ],
   "source": [
    "# random forest\n",
    "from sklearn.metrics import mean_squared_error\n",
    "from sklearn.metrics import r2_score\n",
    "from sklearn.ensemble import RandomForestClassifier\n",
    "from sklearn.tree import DecisionTreeClassifier\n",
    "\n",
    "traintree = DecisionTreeClassifier()\n",
    "Randomforest = RandomForestClassifier(bootstrap=False)\n",
    "Randomforest.fit(X_train, y_train)\n",
    "traintree.fit(X_train,y_train)\n",
    "y_train_pred_Deci = traintree.predict(X_train)\n",
    "y_test_pred_Deci = traintree.predict(X_test)\n",
    "y_train_pred = Randomforest.predict(X_train)\n",
    "y_test_pred = Randomforest.predict(X_test)\n",
    "print(y_train_pred_Deci)\n",
    "print(y_test_pred_Deci)\n",
    "print(y_train_pred)\n",
    "print(y_test_pred)\n",
    "print('\\n')\n",
    "print('MSE train: %.3f, test: %.3f' % (mean_squared_error(y_train, y_train_pred),mean_squared_error(y_test, y_test_pred)))\n",
    "print('\\n')\n",
    "print('R^2 train: %.3f, test: %.3f' % (r2_score(y_train, y_train_pred),r2_score(y_test, y_test_pred)))\n",
    "print('\\n')\n",
    "print('MSE train: %.3f, test: %.3f' % (mean_squared_error(y_train, y_train_pred_Deci),mean_squared_error(y_test, y_test_pred_Deci)))\n",
    "print('\\n')\n",
    "print('R^2 train: %.3f, test: %.3f' % (r2_score(y_train, y_train_pred_Deci),r2_score(y_test, y_test_pred_Deci)))"
   ]
  },
  {
   "cell_type": "code",
   "execution_count": 46,
   "metadata": {},
   "outputs": [
    {
     "data": {
      "text/plain": [
       "1.0"
      ]
     },
     "execution_count": 46,
     "metadata": {},
     "output_type": "execute_result"
    }
   ],
   "source": [
    "#Randomforest 점수보기\n",
    "\n",
    "Randomforest.score(X_train, y_train)"
   ]
  },
  {
   "cell_type": "code",
   "execution_count": 47,
   "metadata": {},
   "outputs": [
    {
     "data": {
      "text/plain": [
       "1.0"
      ]
     },
     "execution_count": 47,
     "metadata": {},
     "output_type": "execute_result"
    }
   ],
   "source": [
    "#Randomforest 점수보기\n",
    "Randomforest.score(X_test, y_test)"
   ]
  },
  {
   "cell_type": "code",
   "execution_count": 48,
   "metadata": {},
   "outputs": [
    {
     "data": {
      "text/html": [
       "<table class=\"simpletable\">\n",
       "<caption>OLS Regression Results</caption>\n",
       "<tr>\n",
       "  <th>Dep. Variable:</th>        <td>total_300</td>    <th>  R-squared:         </th> <td>   0.408</td> \n",
       "</tr>\n",
       "<tr>\n",
       "  <th>Model:</th>                   <td>OLS</td>       <th>  Adj. R-squared:    </th> <td>   0.408</td> \n",
       "</tr>\n",
       "<tr>\n",
       "  <th>Method:</th>             <td>Least Squares</td>  <th>  F-statistic:       </th> <td>   3319.</td> \n",
       "</tr>\n",
       "<tr>\n",
       "  <th>Date:</th>             <td>Wed, 28 Apr 2021</td> <th>  Prob (F-statistic):</th>  <td>  0.00</td>  \n",
       "</tr>\n",
       "<tr>\n",
       "  <th>Time:</th>                 <td>23:33:35</td>     <th>  Log-Likelihood:    </th> <td> -8619.1</td> \n",
       "</tr>\n",
       "<tr>\n",
       "  <th>No. Observations:</th>      <td> 24044</td>      <th>  AIC:               </th> <td>1.725e+04</td>\n",
       "</tr>\n",
       "<tr>\n",
       "  <th>Df Residuals:</th>          <td> 24038</td>      <th>  BIC:               </th> <td>1.730e+04</td>\n",
       "</tr>\n",
       "<tr>\n",
       "  <th>Df Model:</th>              <td>     5</td>      <th>                     </th>     <td> </td>    \n",
       "</tr>\n",
       "<tr>\n",
       "  <th>Covariance Type:</th>      <td>nonrobust</td>    <th>                     </th>     <td> </td>    \n",
       "</tr>\n",
       "</table>\n",
       "<table class=\"simpletable\">\n",
       "<tr>\n",
       "       <td></td>          <th>coef</th>     <th>std err</th>      <th>t</th>      <th>P>|t|</th>  <th>[0.025</th>    <th>0.975]</th>  \n",
       "</tr>\n",
       "<tr>\n",
       "  <th>const</th>       <td>    0.3240</td> <td>    0.021</td> <td>   15.572</td> <td> 0.000</td> <td>    0.283</td> <td>    0.365</td>\n",
       "</tr>\n",
       "<tr>\n",
       "  <th>year_month</th>  <td>  2.12e-08</td> <td> 2.66e-08</td> <td>    0.797</td> <td> 0.425</td> <td>-3.09e-08</td> <td> 7.33e-08</td>\n",
       "</tr>\n",
       "<tr>\n",
       "  <th>customer_id</th> <td> 2.924e-07</td> <td> 1.32e-06</td> <td>    0.222</td> <td> 0.824</td> <td>-2.29e-06</td> <td> 2.88e-06</td>\n",
       "</tr>\n",
       "<tr>\n",
       "  <th>price</th>       <td>-1.623e-06</td> <td> 4.05e-06</td> <td>   -0.401</td> <td> 0.688</td> <td>-9.56e-06</td> <td> 6.31e-06</td>\n",
       "</tr>\n",
       "<tr>\n",
       "  <th>quantity</th>    <td> 3.077e-05</td> <td> 1.29e-05</td> <td>    2.384</td> <td> 0.017</td> <td> 5.47e-06</td> <td> 5.61e-05</td>\n",
       "</tr>\n",
       "<tr>\n",
       "  <th>total</th>       <td>    0.0007</td> <td> 6.88e-06</td> <td>   95.214</td> <td> 0.000</td> <td>    0.001</td> <td>    0.001</td>\n",
       "</tr>\n",
       "</table>\n",
       "<table class=\"simpletable\">\n",
       "<tr>\n",
       "  <th>Omnibus:</th>       <td>140727.625</td> <th>  Durbin-Watson:     </th> <td>   1.986</td>\n",
       "</tr>\n",
       "<tr>\n",
       "  <th>Prob(Omnibus):</th>   <td> 0.000</td>   <th>  Jarque-Bera (JB):  </th> <td>2567.555</td>\n",
       "</tr>\n",
       "<tr>\n",
       "  <th>Skew:</th>            <td>-0.261</td>   <th>  Prob(JB):          </th> <td>    0.00</td>\n",
       "</tr>\n",
       "<tr>\n",
       "  <th>Kurtosis:</th>        <td> 1.487</td>   <th>  Cond. No.          </th> <td>1.07e+06</td>\n",
       "</tr>\n",
       "</table><br/><br/>Notes:<br/>[1] Standard Errors assume that the covariance matrix of the errors is correctly specified.<br/>[2] The condition number is large, 1.07e+06. This might indicate that there are<br/>strong multicollinearity or other numerical problems."
      ],
      "text/plain": [
       "<class 'statsmodels.iolib.summary.Summary'>\n",
       "\"\"\"\n",
       "                            OLS Regression Results                            \n",
       "==============================================================================\n",
       "Dep. Variable:              total_300   R-squared:                       0.408\n",
       "Model:                            OLS   Adj. R-squared:                  0.408\n",
       "Method:                 Least Squares   F-statistic:                     3319.\n",
       "Date:                Wed, 28 Apr 2021   Prob (F-statistic):               0.00\n",
       "Time:                        23:33:35   Log-Likelihood:                -8619.1\n",
       "No. Observations:               24044   AIC:                         1.725e+04\n",
       "Df Residuals:                   24038   BIC:                         1.730e+04\n",
       "Df Model:                           5                                         \n",
       "Covariance Type:            nonrobust                                         \n",
       "===============================================================================\n",
       "                  coef    std err          t      P>|t|      [0.025      0.975]\n",
       "-------------------------------------------------------------------------------\n",
       "const           0.3240      0.021     15.572      0.000       0.283       0.365\n",
       "year_month    2.12e-08   2.66e-08      0.797      0.425   -3.09e-08    7.33e-08\n",
       "customer_id  2.924e-07   1.32e-06      0.222      0.824   -2.29e-06    2.88e-06\n",
       "price       -1.623e-06   4.05e-06     -0.401      0.688   -9.56e-06    6.31e-06\n",
       "quantity     3.077e-05   1.29e-05      2.384      0.017    5.47e-06    5.61e-05\n",
       "total           0.0007   6.88e-06     95.214      0.000       0.001       0.001\n",
       "==============================================================================\n",
       "Omnibus:                   140727.625   Durbin-Watson:                   1.986\n",
       "Prob(Omnibus):                  0.000   Jarque-Bera (JB):             2567.555\n",
       "Skew:                          -0.261   Prob(JB):                         0.00\n",
       "Kurtosis:                       1.487   Cond. No.                     1.07e+06\n",
       "==============================================================================\n",
       "\n",
       "Notes:\n",
       "[1] Standard Errors assume that the covariance matrix of the errors is correctly specified.\n",
       "[2] The condition number is large, 1.07e+06. This might indicate that there are\n",
       "strong multicollinearity or other numerical problems.\n",
       "\"\"\""
      ]
     },
     "execution_count": 48,
     "metadata": {},
     "output_type": "execute_result"
    }
   ],
   "source": [
    "import statsmodels.api as sm\n",
    "X_constant=sm.add_constant(X)\n",
    "\n",
    "model_1=sm.OLS(y,X_constant)\n",
    "lin_reg=model_1.fit()\n",
    "\n",
    "lin_reg.summary()"
   ]
  },
  {
   "cell_type": "code",
   "execution_count": 49,
   "metadata": {},
   "outputs": [
    {
     "name": "stdout",
     "output_type": "stream",
     "text": [
      "Accuracy on training set: 1.000\n",
      "Accuracy on test set: 1.000\n"
     ]
    }
   ],
   "source": [
    "# max_depth 조절 \n",
    "tree = DecisionTreeClassifier(max_depth=1, random_state=42)\n",
    "tree.fit(X_train, y_train)\n",
    "\n",
    "print(\"Accuracy on training set: {:.3f}\".format(tree.score(X_train, y_train)))\n",
    "print(\"Accuracy on test set: {:.3f}\".format(tree.score(X_test, y_test)))"
   ]
  },
  {
   "cell_type": "code",
   "execution_count": 50,
   "metadata": {},
   "outputs": [
    {
     "name": "stdout",
     "output_type": "stream",
     "text": [
      "[[1321    0]\n",
      " [   0 3488]]\n"
     ]
    }
   ],
   "source": [
    "#Randomforest\n",
    "from sklearn import metrics\n",
    "confusion_matrix=metrics.confusion_matrix(y_test,y_test_pred)\n",
    "print(confusion_matrix)"
   ]
  },
  {
   "cell_type": "code",
   "execution_count": 51,
   "metadata": {},
   "outputs": [
    {
     "data": {
      "text/plain": [
       "1.0"
      ]
     },
     "execution_count": 51,
     "metadata": {},
     "output_type": "execute_result"
    }
   ],
   "source": [
    "y_prob = Randomforest.predict_proba(X_test)[:,1] # This will give you positive class prediction probabilities  \n",
    "random_y_pred = np.where(y_prob > 0.5, 1, 0) # This will threshold the probabilities to give class predictions.\n",
    "Randomforest.score(X_test, random_y_pred)"
   ]
  },
  {
   "cell_type": "code",
   "execution_count": 52,
   "metadata": {},
   "outputs": [
    {
     "name": "stdout",
     "output_type": "stream",
     "text": [
      "              precision    recall  f1-score   support\n",
      "\n",
      "           0       1.00      1.00      1.00      1321\n",
      "           1       1.00      1.00      1.00      3488\n",
      "\n",
      "    accuracy                           1.00      4809\n",
      "   macro avg       1.00      1.00      1.00      4809\n",
      "weighted avg       1.00      1.00      1.00      4809\n",
      "\n"
     ]
    }
   ],
   "source": [
    "from sklearn.metrics import roc_curve, auc\n",
    "auc_roc=metrics.classification_report(y_test,random_y_pred)\n",
    "print(auc_roc)"
   ]
  },
  {
   "cell_type": "code",
   "execution_count": 53,
   "metadata": {},
   "outputs": [
    {
     "name": "stderr",
     "output_type": "stream",
     "text": [
      "C:\\ProgramData\\Anaconda3\\lib\\site-packages\\sklearn\\utils\\validation.py:67: FutureWarning: Pass pos_label=25803    1\n",
      "15348    0\n",
      "18781    0\n",
      "7088     1\n",
      "14246    1\n",
      "        ..\n",
      "23896    1\n",
      "23907    1\n",
      "8579     1\n",
      "3819     0\n",
      "7720     1\n",
      "Name: total_300, Length: 4809, dtype: int64 as keyword args. From version 0.25 passing these as positional arguments will result in an error\n",
      "  warnings.warn(\"Pass {} as keyword args. From version 0.25 \"\n"
     ]
    },
    {
     "ename": "ValueError",
     "evalue": "Expected array-like (array or non-string sequence), got <bound method Series.reindex of 25803    1\n15348    0\n18781    0\n7088     1\n14246    1\n        ..\n23896    1\n23907    1\n8579     1\n3819     0\n7720     1\nName: total_300, Length: 4809, dtype: int64>",
     "output_type": "error",
     "traceback": [
      "\u001b[1;31m---------------------------------------------------------------------------\u001b[0m",
      "\u001b[1;31mValueError\u001b[0m                                Traceback (most recent call last)",
      "\u001b[1;32m<ipython-input-53-7b76ec8bd676>\u001b[0m in \u001b[0;36m<module>\u001b[1;34m\u001b[0m\n\u001b[1;32m----> 1\u001b[1;33m \u001b[0mfalse_positive_rate\u001b[0m\u001b[1;33m,\u001b[0m \u001b[0mtrue_positive_rate\u001b[0m\u001b[1;33m,\u001b[0m \u001b[0mthresholds\u001b[0m \u001b[1;33m=\u001b[0m \u001b[0mroc_curve\u001b[0m\u001b[1;33m(\u001b[0m\u001b[0my_test\u001b[0m\u001b[1;33m.\u001b[0m\u001b[0mreindex\u001b[0m\u001b[1;33m,\u001b[0m \u001b[0my_prob\u001b[0m\u001b[1;33m,\u001b[0m \u001b[0my_test\u001b[0m\u001b[1;33m,\u001b[0m \u001b[0mpos_label\u001b[0m\u001b[1;33m=\u001b[0m\u001b[1;34m'T'\u001b[0m\u001b[1;33m)\u001b[0m\u001b[1;33m\u001b[0m\u001b[1;33m\u001b[0m\u001b[0m\n\u001b[0m\u001b[0;32m      2\u001b[0m \u001b[0mroc_auc\u001b[0m \u001b[1;33m=\u001b[0m \u001b[0mauc\u001b[0m\u001b[1;33m(\u001b[0m\u001b[0mfalse_positive_rate\u001b[0m\u001b[1;33m,\u001b[0m \u001b[0mtrue_positive_rate\u001b[0m\u001b[1;33m)\u001b[0m\u001b[1;33m\u001b[0m\u001b[1;33m\u001b[0m\u001b[0m\n\u001b[0;32m      3\u001b[0m \u001b[0mprint\u001b[0m\u001b[1;33m(\u001b[0m\u001b[0mroc_auc\u001b[0m\u001b[1;33m)\u001b[0m\u001b[1;33m\u001b[0m\u001b[1;33m\u001b[0m\u001b[0m\n",
      "\u001b[1;32mC:\\ProgramData\\Anaconda3\\lib\\site-packages\\sklearn\\utils\\validation.py\u001b[0m in \u001b[0;36minner_f\u001b[1;34m(*args, **kwargs)\u001b[0m\n\u001b[0;32m     70\u001b[0m                           FutureWarning)\n\u001b[0;32m     71\u001b[0m         \u001b[0mkwargs\u001b[0m\u001b[1;33m.\u001b[0m\u001b[0mupdate\u001b[0m\u001b[1;33m(\u001b[0m\u001b[1;33m{\u001b[0m\u001b[0mk\u001b[0m\u001b[1;33m:\u001b[0m \u001b[0marg\u001b[0m \u001b[1;32mfor\u001b[0m \u001b[0mk\u001b[0m\u001b[1;33m,\u001b[0m \u001b[0marg\u001b[0m \u001b[1;32min\u001b[0m \u001b[0mzip\u001b[0m\u001b[1;33m(\u001b[0m\u001b[0msig\u001b[0m\u001b[1;33m.\u001b[0m\u001b[0mparameters\u001b[0m\u001b[1;33m,\u001b[0m \u001b[0margs\u001b[0m\u001b[1;33m)\u001b[0m\u001b[1;33m}\u001b[0m\u001b[1;33m)\u001b[0m\u001b[1;33m\u001b[0m\u001b[1;33m\u001b[0m\u001b[0m\n\u001b[1;32m---> 72\u001b[1;33m         \u001b[1;32mreturn\u001b[0m \u001b[0mf\u001b[0m\u001b[1;33m(\u001b[0m\u001b[1;33m**\u001b[0m\u001b[0mkwargs\u001b[0m\u001b[1;33m)\u001b[0m\u001b[1;33m\u001b[0m\u001b[1;33m\u001b[0m\u001b[0m\n\u001b[0m\u001b[0;32m     73\u001b[0m     \u001b[1;32mreturn\u001b[0m \u001b[0minner_f\u001b[0m\u001b[1;33m\u001b[0m\u001b[1;33m\u001b[0m\u001b[0m\n\u001b[0;32m     74\u001b[0m \u001b[1;33m\u001b[0m\u001b[0m\n",
      "\u001b[1;32mC:\\ProgramData\\Anaconda3\\lib\\site-packages\\sklearn\\metrics\\_ranking.py\u001b[0m in \u001b[0;36mroc_curve\u001b[1;34m(y_true, y_score, pos_label, sample_weight, drop_intermediate)\u001b[0m\n\u001b[0;32m    773\u001b[0m \u001b[1;33m\u001b[0m\u001b[0m\n\u001b[0;32m    774\u001b[0m     \"\"\"\n\u001b[1;32m--> 775\u001b[1;33m     fps, tps, thresholds = _binary_clf_curve(\n\u001b[0m\u001b[0;32m    776\u001b[0m         y_true, y_score, pos_label=pos_label, sample_weight=sample_weight)\n\u001b[0;32m    777\u001b[0m \u001b[1;33m\u001b[0m\u001b[0m\n",
      "\u001b[1;32mC:\\ProgramData\\Anaconda3\\lib\\site-packages\\sklearn\\metrics\\_ranking.py\u001b[0m in \u001b[0;36m_binary_clf_curve\u001b[1;34m(y_true, y_score, pos_label, sample_weight)\u001b[0m\n\u001b[0;32m    534\u001b[0m     \"\"\"\n\u001b[0;32m    535\u001b[0m     \u001b[1;31m# Check to make sure y_true is valid\u001b[0m\u001b[1;33m\u001b[0m\u001b[1;33m\u001b[0m\u001b[1;33m\u001b[0m\u001b[0m\n\u001b[1;32m--> 536\u001b[1;33m     \u001b[0my_type\u001b[0m \u001b[1;33m=\u001b[0m \u001b[0mtype_of_target\u001b[0m\u001b[1;33m(\u001b[0m\u001b[0my_true\u001b[0m\u001b[1;33m)\u001b[0m\u001b[1;33m\u001b[0m\u001b[1;33m\u001b[0m\u001b[0m\n\u001b[0m\u001b[0;32m    537\u001b[0m     if not (y_type == \"binary\" or\n\u001b[0;32m    538\u001b[0m             (y_type == \"multiclass\" and pos_label is not None)):\n",
      "\u001b[1;32mC:\\ProgramData\\Anaconda3\\lib\\site-packages\\sklearn\\utils\\multiclass.py\u001b[0m in \u001b[0;36mtype_of_target\u001b[1;34m(y)\u001b[0m\n\u001b[0;32m    241\u001b[0m \u001b[1;33m\u001b[0m\u001b[0m\n\u001b[0;32m    242\u001b[0m     \u001b[1;32mif\u001b[0m \u001b[1;32mnot\u001b[0m \u001b[0mvalid\u001b[0m\u001b[1;33m:\u001b[0m\u001b[1;33m\u001b[0m\u001b[1;33m\u001b[0m\u001b[0m\n\u001b[1;32m--> 243\u001b[1;33m         raise ValueError('Expected array-like (array or non-string sequence), '\n\u001b[0m\u001b[0;32m    244\u001b[0m                          'got %r' % y)\n\u001b[0;32m    245\u001b[0m \u001b[1;33m\u001b[0m\u001b[0m\n",
      "\u001b[1;31mValueError\u001b[0m: Expected array-like (array or non-string sequence), got <bound method Series.reindex of 25803    1\n15348    0\n18781    0\n7088     1\n14246    1\n        ..\n23896    1\n23907    1\n8579     1\n3819     0\n7720     1\nName: total_300, Length: 4809, dtype: int64>"
     ]
    }
   ],
   "source": [
    "false_positive_rate, true_positive_rate, thresholds = roc_curve(y_test.reindex, y_prob, y_test, pos_label='T')\n",
    "roc_auc = auc(false_positive_rate, true_positive_rate)\n",
    "print(roc_auc)"
   ]
  },
  {
   "cell_type": "code",
   "execution_count": 54,
   "metadata": {},
   "outputs": [
    {
     "name": "stdout",
     "output_type": "stream",
     "text": [
      "Accuracy: 1.0\n"
     ]
    }
   ],
   "source": [
    "# Ada boosting \n",
    "from sklearn.ensemble import AdaBoostClassifier\n",
    "from sklearn import datasets\n",
    "from sklearn.model_selection import train_test_split\n",
    "from sklearn import metrics\n",
    "\n",
    "# Create adaboost classifer object\n",
    "abc = AdaBoostClassifier(n_estimators=100,\n",
    "                         learning_rate=1,random_state = 42)\n",
    "# Train Adaboost Classifer\n",
    "model = abc.fit(X_train, y_train)\n",
    "\n",
    "# Predict the response for test dataset\n",
    "y_pred = model.predict(X_test)\n",
    " \n",
    "# Model Accuracy, how often is the classifier correct?\n",
    "print(\"Accuracy:\",metrics.accuracy_score(y_test, y_pred))"
   ]
  },
  {
   "cell_type": "code",
   "execution_count": 55,
   "metadata": {},
   "outputs": [
    {
     "name": "stdout",
     "output_type": "stream",
     "text": [
      "1.000\n",
      "1.000\n"
     ]
    }
   ],
   "source": [
    "# Graidient Boosting\n",
    "from sklearn.ensemble import GradientBoostingClassifier\n",
    "from sklearn.model_selection import train_test_split\n",
    "\n",
    "gbc = GradientBoostingClassifier(random_state=42) # 기본값: max_depth=3, learning_rate=0.1\n",
    "\n",
    "gbc.fit(X_train, y_train) \n",
    "\n",
    "score_train = gbc.score(X_train, y_train) # train set 정확도\n",
    "print('{:.3f}'.format(score_train))\n",
    "\n",
    "score_test = gbc.score(X_test, y_test) # 일반화 정확도\n",
    "print('{:.3f}'.format(score_test))"
   ]
  },
  {
   "cell_type": "code",
   "execution_count": 56,
   "metadata": {},
   "outputs": [
    {
     "name": "stdout",
     "output_type": "stream",
     "text": [
      "[1]\tvalid_0's binary_logloss: 0.49561\n",
      "Training until validation scores don't improve for 100 rounds\n",
      "[2]\tvalid_0's binary_logloss: 0.425932\n",
      "[3]\tvalid_0's binary_logloss: 0.370336\n",
      "[4]\tvalid_0's binary_logloss: 0.324542\n",
      "[5]\tvalid_0's binary_logloss: 0.286044\n",
      "[6]\tvalid_0's binary_logloss: 0.253222\n",
      "[7]\tvalid_0's binary_logloss: 0.224958\n",
      "[8]\tvalid_0's binary_logloss: 0.200436\n",
      "[9]\tvalid_0's binary_logloss: 0.179013\n",
      "[10]\tvalid_0's binary_logloss: 0.160215\n",
      "[11]\tvalid_0's binary_logloss: 0.143605\n",
      "[12]\tvalid_0's binary_logloss: 0.128955\n",
      "[13]\tvalid_0's binary_logloss: 0.115992\n",
      "[14]\tvalid_0's binary_logloss: 0.104456\n",
      "[15]\tvalid_0's binary_logloss: 0.0941332\n",
      "[16]\tvalid_0's binary_logloss: 0.0849567\n",
      "[17]\tvalid_0's binary_logloss: 0.0767679\n",
      "[18]\tvalid_0's binary_logloss: 0.069414\n",
      "[19]\tvalid_0's binary_logloss: 0.0628546\n",
      "[20]\tvalid_0's binary_logloss: 0.0569492\n",
      "[21]\tvalid_0's binary_logloss: 0.0516729\n",
      "[22]\tvalid_0's binary_logloss: 0.0469319\n",
      "[23]\tvalid_0's binary_logloss: 0.0426237\n",
      "[24]\tvalid_0's binary_logloss: 0.0387372\n",
      "[25]\tvalid_0's binary_logloss: 0.0353058\n",
      "[26]\tvalid_0's binary_logloss: 0.0321753\n",
      "[27]\tvalid_0's binary_logloss: 0.0293319\n",
      "[28]\tvalid_0's binary_logloss: 0.0268122\n",
      "[29]\tvalid_0's binary_logloss: 0.0245122\n",
      "[30]\tvalid_0's binary_logloss: 0.0224905\n",
      "[31]\tvalid_0's binary_logloss: 0.0206176\n",
      "[32]\tvalid_0's binary_logloss: 0.0189708\n",
      "[33]\tvalid_0's binary_logloss: 0.017436\n",
      "[34]\tvalid_0's binary_logloss: 0.0160734\n",
      "[35]\tvalid_0's binary_logloss: 0.0148596\n",
      "[36]\tvalid_0's binary_logloss: 0.0137329\n",
      "[37]\tvalid_0's binary_logloss: 0.0127562\n",
      "[38]\tvalid_0's binary_logloss: 0.0118643\n",
      "[39]\tvalid_0's binary_logloss: 0.0110184\n",
      "[40]\tvalid_0's binary_logloss: 0.0103043\n",
      "[41]\tvalid_0's binary_logloss: 0.00965009\n",
      "[42]\tvalid_0's binary_logloss: 0.00906496\n",
      "[43]\tvalid_0's binary_logloss: 0.00849841\n",
      "[44]\tvalid_0's binary_logloss: 0.00799008\n",
      "[45]\tvalid_0's binary_logloss: 0.00753175\n",
      "[46]\tvalid_0's binary_logloss: 0.00711659\n",
      "[47]\tvalid_0's binary_logloss: 0.00676696\n",
      "[48]\tvalid_0's binary_logloss: 0.00642711\n",
      "[49]\tvalid_0's binary_logloss: 0.00613607\n",
      "[50]\tvalid_0's binary_logloss: 0.00586756\n",
      "[51]\tvalid_0's binary_logloss: 0.0056391\n",
      "[52]\tvalid_0's binary_logloss: 0.00544579\n",
      "[53]\tvalid_0's binary_logloss: 0.00526709\n",
      "[54]\tvalid_0's binary_logloss: 0.00511311\n",
      "[55]\tvalid_0's binary_logloss: 0.00493365\n",
      "[56]\tvalid_0's binary_logloss: 0.00479082\n",
      "[57]\tvalid_0's binary_logloss: 0.00465267\n",
      "[58]\tvalid_0's binary_logloss: 0.00456183\n",
      "[59]\tvalid_0's binary_logloss: 0.00446974\n",
      "[60]\tvalid_0's binary_logloss: 0.00439828\n",
      "[61]\tvalid_0's binary_logloss: 0.00433518\n",
      "[62]\tvalid_0's binary_logloss: 0.00427774\n",
      "[63]\tvalid_0's binary_logloss: 0.0041983\n",
      "[64]\tvalid_0's binary_logloss: 0.0041237\n",
      "[65]\tvalid_0's binary_logloss: 0.00408171\n",
      "[66]\tvalid_0's binary_logloss: 0.00404979\n",
      "[67]\tvalid_0's binary_logloss: 0.00402375\n",
      "[68]\tvalid_0's binary_logloss: 0.00399785\n",
      "[69]\tvalid_0's binary_logloss: 0.00395892\n",
      "[70]\tvalid_0's binary_logloss: 0.00393843\n",
      "[71]\tvalid_0's binary_logloss: 0.00389268\n",
      "[72]\tvalid_0's binary_logloss: 0.00388258\n",
      "[73]\tvalid_0's binary_logloss: 0.00395433\n",
      "[74]\tvalid_0's binary_logloss: 0.00394442\n",
      "[75]\tvalid_0's binary_logloss: 0.00399457\n",
      "[76]\tvalid_0's binary_logloss: 0.00398745\n",
      "[77]\tvalid_0's binary_logloss: 0.004071\n",
      "[78]\tvalid_0's binary_logloss: 0.00408719\n",
      "[79]\tvalid_0's binary_logloss: 0.0041674\n",
      "[80]\tvalid_0's binary_logloss: 0.0041632\n",
      "[81]\tvalid_0's binary_logloss: 0.0041526\n",
      "[82]\tvalid_0's binary_logloss: 0.00418451\n",
      "[83]\tvalid_0's binary_logloss: 0.00425874\n",
      "[84]\tvalid_0's binary_logloss: 0.00425264\n",
      "[85]\tvalid_0's binary_logloss: 0.00430887\n",
      "[86]\tvalid_0's binary_logloss: 0.0043206\n",
      "[87]\tvalid_0's binary_logloss: 0.00434462\n",
      "[88]\tvalid_0's binary_logloss: 0.00435053\n",
      "[89]\tvalid_0's binary_logloss: 0.00439273\n",
      "[90]\tvalid_0's binary_logloss: 0.00428895\n",
      "[91]\tvalid_0's binary_logloss: 0.00428615\n",
      "[92]\tvalid_0's binary_logloss: 0.00434306\n",
      "[93]\tvalid_0's binary_logloss: 0.00427681\n",
      "[94]\tvalid_0's binary_logloss: 0.00428371\n",
      "[95]\tvalid_0's binary_logloss: 0.00435118\n",
      "[96]\tvalid_0's binary_logloss: 0.00436138\n",
      "[97]\tvalid_0's binary_logloss: 0.00433931\n",
      "[98]\tvalid_0's binary_logloss: 0.00435459\n",
      "[99]\tvalid_0's binary_logloss: 0.0043585\n",
      "[100]\tvalid_0's binary_logloss: 0.00436679\n",
      "[101]\tvalid_0's binary_logloss: 0.00450266\n",
      "[102]\tvalid_0's binary_logloss: 0.00449808\n",
      "[103]\tvalid_0's binary_logloss: 0.0045218\n",
      "[104]\tvalid_0's binary_logloss: 0.00452931\n",
      "[105]\tvalid_0's binary_logloss: 0.00455385\n",
      "[106]\tvalid_0's binary_logloss: 0.00460594\n",
      "[107]\tvalid_0's binary_logloss: 0.0046594\n",
      "[108]\tvalid_0's binary_logloss: 0.0046927\n",
      "[109]\tvalid_0's binary_logloss: 0.0047288\n",
      "[110]\tvalid_0's binary_logloss: 0.00474462\n",
      "[111]\tvalid_0's binary_logloss: 0.0047802\n",
      "[112]\tvalid_0's binary_logloss: 0.00476627\n",
      "[113]\tvalid_0's binary_logloss: 0.00477695\n",
      "[114]\tvalid_0's binary_logloss: 0.00481589\n",
      "[115]\tvalid_0's binary_logloss: 0.00474574\n",
      "[116]\tvalid_0's binary_logloss: 0.00475914\n",
      "[117]\tvalid_0's binary_logloss: 0.00480268\n",
      "[118]\tvalid_0's binary_logloss: 0.00480303\n",
      "[119]\tvalid_0's binary_logloss: 0.00481523\n",
      "[120]\tvalid_0's binary_logloss: 0.004927\n",
      "[121]\tvalid_0's binary_logloss: 0.00486397\n",
      "[122]\tvalid_0's binary_logloss: 0.00487714\n",
      "[123]\tvalid_0's binary_logloss: 0.0048024\n",
      "[124]\tvalid_0's binary_logloss: 0.00494485\n",
      "[125]\tvalid_0's binary_logloss: 0.00508305\n",
      "[126]\tvalid_0's binary_logloss: 0.0050852\n",
      "[127]\tvalid_0's binary_logloss: 0.00508766\n",
      "[128]\tvalid_0's binary_logloss: 0.00512151\n",
      "[129]\tvalid_0's binary_logloss: 0.00513878\n",
      "[130]\tvalid_0's binary_logloss: 0.00514042\n",
      "[131]\tvalid_0's binary_logloss: 0.00517526\n",
      "[132]\tvalid_0's binary_logloss: 0.0051854\n",
      "[133]\tvalid_0's binary_logloss: 0.00523543\n",
      "[134]\tvalid_0's binary_logloss: 0.00526424\n",
      "[135]\tvalid_0's binary_logloss: 0.00530951\n",
      "[136]\tvalid_0's binary_logloss: 0.0053319\n",
      "[137]\tvalid_0's binary_logloss: 0.00543597\n",
      "[138]\tvalid_0's binary_logloss: 0.00536422\n",
      "[139]\tvalid_0's binary_logloss: 0.00541514\n",
      "[140]\tvalid_0's binary_logloss: 0.00543627\n",
      "[141]\tvalid_0's binary_logloss: 0.00544258\n",
      "[142]\tvalid_0's binary_logloss: 0.00543069\n",
      "[143]\tvalid_0's binary_logloss: 0.00540776\n",
      "[144]\tvalid_0's binary_logloss: 0.00542204\n",
      "[145]\tvalid_0's binary_logloss: 0.00549415\n",
      "[146]\tvalid_0's binary_logloss: 0.00556247\n",
      "[147]\tvalid_0's binary_logloss: 0.00557677\n",
      "[148]\tvalid_0's binary_logloss: 0.00564976\n",
      "[149]\tvalid_0's binary_logloss: 0.00575936\n",
      "[150]\tvalid_0's binary_logloss: 0.00587255\n",
      "[151]\tvalid_0's binary_logloss: 0.00596663\n",
      "[152]\tvalid_0's binary_logloss: 0.00599275\n",
      "[153]\tvalid_0's binary_logloss: 0.00606432\n",
      "[154]\tvalid_0's binary_logloss: 0.00603889\n",
      "[155]\tvalid_0's binary_logloss: 0.0060568\n",
      "[156]\tvalid_0's binary_logloss: 0.00608179\n",
      "[157]\tvalid_0's binary_logloss: 0.00605493\n",
      "[158]\tvalid_0's binary_logloss: 0.00601661\n",
      "[159]\tvalid_0's binary_logloss: 0.00601752\n",
      "[160]\tvalid_0's binary_logloss: 0.00612431\n",
      "[161]\tvalid_0's binary_logloss: 0.00620005\n",
      "[162]\tvalid_0's binary_logloss: 0.0062614\n",
      "[163]\tvalid_0's binary_logloss: 0.00629071\n",
      "[164]\tvalid_0's binary_logloss: 0.00631697\n",
      "[165]\tvalid_0's binary_logloss: 0.00638242\n",
      "[166]\tvalid_0's binary_logloss: 0.00638418\n",
      "[167]\tvalid_0's binary_logloss: 0.00641497\n",
      "[168]\tvalid_0's binary_logloss: 0.00640326\n",
      "[169]\tvalid_0's binary_logloss: 0.00651921\n",
      "[170]\tvalid_0's binary_logloss: 0.00664198\n",
      "[171]\tvalid_0's binary_logloss: 0.00666838\n",
      "[172]\tvalid_0's binary_logloss: 0.00669739\n",
      "Early stopping, best iteration is:\n",
      "[72]\tvalid_0's binary_logloss: 0.00388258\n"
     ]
    },
    {
     "data": {
      "image/png": "[encoded data removed]",
      "text/plain": [
       "<Figure size 720x864 with 1 Axes>"
      ]
     },
     "metadata": {
      "needs_background": "light"
     },
     "output_type": "display_data"
    }
   ],
   "source": [
    "# LightGBM\n",
    "from lightgbm import LGBMClassifier\n",
    "import pandas as pd\n",
    "import numpy as np\n",
    "from sklearn.model_selection import train_test_split\n",
    "from lightgbm import plot_importance\n",
    "import matplotlib.pyplot as plt\n",
    "\n",
    "lgbm_wrapper = LGBMClassifier(n_estimators=400)\n",
    "evals = [(X_test, y_test)]\n",
    "lgbm_wrapper.fit(X_train, y_train, early_stopping_rounds=100, eval_metric='logloss', eval_set=evals, verbose=True)\n",
    "pred = lgbm_wrapper.predict(X_test)\n",
    "pred_proba = lgbm_wrapper.predict_proba(X_test)[:1]\n",
    "\n",
    "fig, ax = plt.subplots(figsize=(10,12))\n",
    "plot_importance(lgbm_wrapper, ax=ax)\n",
    "plt.show()"
   ]
  },
  {
   "cell_type": "code",
   "execution_count": 57,
   "metadata": {},
   "outputs": [
    {
     "name": "stdout",
     "output_type": "stream",
     "text": [
      "0.9700561447286338\n"
     ]
    }
   ],
   "source": [
    "# 로지스틱 회귀분석\n",
    "model=LogisticRegression()\n",
    "model.fit(X_train, y_train)\n",
    "score=model.score(X_test, y_test)\n",
    "print(score)"
   ]
  },
  {
   "cell_type": "code",
   "execution_count": 58,
   "metadata": {},
   "outputs": [
    {
     "name": "stdout",
     "output_type": "stream",
     "text": [
      "accuracy : 0.98\n"
     ]
    }
   ],
   "source": [
    "# KNN 스코어 보기 \n",
    "from sklearn.neighbors import KNeighborsClassifier\n",
    "from sklearn import metrics\n",
    "knn = KNeighborsClassifier(n_neighbors = 3)\n",
    "knn.fit(X_train,y_train)\n",
    "print('accuracy : {:.2f}'.format(knn.score(X_test,y_test)))"
   ]
  },
  {
   "cell_type": "code",
   "execution_count": 59,
   "metadata": {},
   "outputs": [
    {
     "name": "stdout",
     "output_type": "stream",
     "text": [
      "Accuracy: 0.9609066333957164\n"
     ]
    }
   ],
   "source": [
    "# 나이브 베이즈\n",
    "from sklearn.model_selection import train_test_split\n",
    "from sklearn.naive_bayes import GaussianNB\n",
    "from sklearn import metrics\n",
    "\n",
    "#Create a Gaussian Classifier\n",
    "gnb = GaussianNB()\n",
    "gnb.fit(X_train, y_train)\n",
    "y_pred = gnb.predict(X_test)\n",
    "\n",
    "# 나이브 베이즈 스코어 보기 \n",
    "print(\"Accuracy:\", metrics.accuracy_score(y_test, y_pred))"
   ]
  },
  {
   "cell_type": "code",
   "execution_count": 60,
   "metadata": {},
   "outputs": [
    {
     "name": "stdout",
     "output_type": "stream",
     "text": [
      "1.000\n",
      "1.000\n",
      "1.000\n",
      "1.000\n"
     ]
    }
   ],
   "source": [
    "# 하이퍼 파라미터 수정을 통해 모델 정확도 다시 확인 하기\n",
    "\n",
    "#Overfitting을 막기 위해 트리의 깊이를 줄여 pre-pruning을 강하게 함.\n",
    "gbc = GradientBoostingClassifier(random_state=0, max_depth=1)\n",
    "\n",
    "gbc.fit(X_train, y_train)\n",
    "\n",
    "score_train_pre = gbc.score(X_train, y_train) # train set 정확도\n",
    "print('{:.3f}'.format(score_train_pre))\n",
    "\n",
    "score_test_pre = gbc.score(X_test, y_test) # 일반화 정확도\n",
    "print('{:.3f}'.format(score_test_pre))\n",
    "\n",
    "# learning_rate를 조절\n",
    "gbc = GradientBoostingClassifier(random_state=0, max_depth=3, learning_rate=0.01) # 기본값 0.1\n",
    "\n",
    "gbc.fit(X_train, y_train)\n",
    "\n",
    "score_train_lr = gbc.score(X_train, y_train)\n",
    "print('{:.3f}'.format(score_train_lr))\n",
    "\n",
    "score_test_lr = gbc.score(X_test, y_test) \n",
    "print('{:.3f}'.format(score_test_lr))"
   ]
  },
  {
   "cell_type": "code",
   "execution_count": 55,
   "metadata": {},
   "outputs": [],
   "source": [
    "# 평가지표 출력 함수 정의\n",
    "def print_score(label, pred, prob_thres=0.5):\n",
    "    print('Precision: {:.5f}'.format(precision_score(label, pred>prob_thres)))\n",
    "    print('Recall: {:.5f}'.format(recall_score(label, pred>prob_thres)))\n",
    "    print('F1 Score: {:.5f}'.format(f1_score(label, pred>prob_thres)))\n",
    "    print('ROC AUC Score: {:.5f}'.format(roc_auc_score(label, pred)))"
   ]
  },
  {
   "cell_type": "code",
   "execution_count": null,
   "metadata": {},
   "outputs": [],
   "source": []
  }
 ],
 "metadata": {
  "kernelspec": {
   "display_name": "Python 3",
   "language": "python",
   "name": "python3"
  },
  "language_info": {
   "codemirror_mode": {
    "name": "ipython",
    "version": 3
   },
   "file_extension": ".py",
   "mimetype": "text/x-python",
   "name": "python",
   "nbconvert_exporter": "python",
   "pygments_lexer": "ipython3",
   "version": "3.8.5"
  }
 },
 "nbformat": 4,
 "nbformat_minor": 4
}
