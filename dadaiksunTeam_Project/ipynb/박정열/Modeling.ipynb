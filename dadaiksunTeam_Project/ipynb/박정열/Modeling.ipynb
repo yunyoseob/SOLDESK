{
  "nbformat": 4,
  "nbformat_minor": 0,
  "metadata": {
    "colab": {
      "name": "Modeling.ipynb",
      "provenance": [],
      "collapsed_sections": [
        "jh1zabyiqGV4",
        "HMeRJUcVCSSI",
        "c8j9BBhpnP8d",
        "UCrOuX7JwdiB"
      ],
      "mount_file_id": "13OUq9_veXAhz_axWidZ2YtXHZrLeGfx5",
      "authorship_tag": "ABX9TyNHZVyzUc8UgTzRlRX3TMOQ",
      "include_colab_link": true
    },
    "kernelspec": {
      "name": "python3",
      "display_name": "Python 3"
    },
    "language_info": {
      "name": "python"
    },
    "accelerator": "GPU"
  },
  "cells": [
    {
      "cell_type": "markdown",
      "metadata": {
        "id": "view-in-github",
        "colab_type": "text"
      },
      "source": [
        "<a href=\"https://colab.research.google.com/github/qkrwjdduf159/dadaiksunTeamProject/blob/main/ipynb/%EB%B0%95%EC%A0%95%EC%97%B4/Modeling.ipynb\" target=\"_parent\"><img src=\"https://colab.research.google.com/assets/colab-badge.svg\" alt=\"Open In Colab\"/></a>"
      ]
    },
    {
      "cell_type": "code",
      "metadata": {
        "id": "HoigO5LNdQgc"
      },
      "source": [
        "# # /content/drive/MyDrive/Proj_WT/DataSets/박정열/덕수궁_가을.csv\n",
        "# import os\n",
        "# from google.colab import drive\n",
        "# # 구글 드라이브 접근\n",
        "# ROOT = \"/content/drive\"\n",
        "# drive.mount(ROOT)\n",
        "# from os.path import join\n",
        "# # 공유 폴더\n",
        "# CO_WORK = \"MyDrive/Proj_WT\"\n",
        "# CW_PATH = join(ROOT, CO_WORK)\n",
        "# DATAS = \"DataSets/박정열/\"  # EDA 끝낸 데이터\n",
        "# DATA_PATH = join(CW_PATH, DATAS)\n",
        "# import numpy as np\n",
        "# import pandas as pd\n",
        "# tour_lst = ['덕수궁', '서대문자연사박물관', '서울시립미술관', '선릉정릉',\n",
        "#             '종묘', '창경궁', '창덕궁', '태릉강릉', '헌릉인릉']\n",
        "# season_lst = ['봄', '여름', '가을', '겨울']\n",
        "# def load_csv2(path=None, tour_list=None, season_list=None):\n",
        "#   dfname_list = []\n",
        "#   for df in tour_list:\n",
        "#     for ss in season_list:\n",
        "#       dfname_list.append(df+\"_\"+ss)\n",
        "#   for fname in dfname_list:\n",
        "#     try:  # 인코딩 에러 피하기 위한 방법\n",
        "#       globals()[f\"DF_{fname}\"] = pd.read_csv(f\"{path}/{fname}.csv\", encoding='euc-kr')\n",
        "#       globals()[f\"DF_{fname}\"] = globals()[f\"DF_{fname}\"].loc[:, [chk for chk in globals()[f\"DF_{fname}\"] if \"Unnamed\" not in chk]] #혹시 index도 같이 저장되었으면 없애줌\n",
        "#     except:\n",
        "#       try:\n",
        "#         globals()[f\"DF_{fname}\"] = pd.read_csv(f\"{path}/{fname}.csv\", encoding='cp949')\n",
        "#         globals()[f\"DF_{fname}\"] = globals()[f\"DF_{fname}\"].loc[:, [chk for chk in globals()[f\"DF_{fname}\"] if \"Unnamed\" not in chk]]\n",
        "#       except:\n",
        "#         globals()[f\"DF_{fname}\"] = pd.read_csv(f\"{path}/{fname}.csv\", encoding='utf-8')\n",
        "#         globals()[f\"DF_{fname}\"] = globals()[f\"DF_{fname}\"].loc[:, [chk for chk in globals()[f\"DF_{fname}\"] if \"Unnamed\" not in chk]]\n",
        "#   dfname_list = [\"DF_\"+fname for fname in dfname_list]  #모델 반복문 돌릴 때 필요한 변수(list형태)\n",
        "#   return dfname_list\n",
        "# path = DATA_PATH\n",
        "# dflst = load_csv2(path, tour_lst, season_lst)\n",
        "\n",
        "#################################################################################################\n",
        "# 덕수궁 = []\n",
        "# 서대문자연사박물관 = []\n",
        "\n",
        "# 관광지 = []\n",
        "# for i in tour_lst:\n",
        "#   관광지.append(i)\n",
        "#   for j in season_lst:\n",
        "#     data = pd.read_csv(DATA_PATH + i + '_' + j + '.csv')\n",
        "#     덕수궁.append(data)\n",
        "\n",
        "# import os\n",
        "# from google.colab import drive\n",
        "# # 구글 드라이브 접근\n",
        "# ROOT = \"/content/drive\"\n",
        "# drive.mount(ROOT)\n",
        "# from os.path import join\n",
        "# # 공유 폴더\n",
        "# CO_WORK = \"MyDrive/Proj_WT\"\n",
        "# CW_PATH = join(ROOT, CO_WORK)\n",
        "# DATAS = \"DataSets/박정열\"  # EDA 끝낸 데이터\n",
        "# DATA_PATH = join(CW_PATH, DATAS)\n",
        "# import numpy as np\n",
        "# import pandas as pd\n",
        "# def load_csv(path=None):\n",
        "#   file_list = os.listdir(path)\n",
        "#   file_list = [fpath for fpath in file_list if '(' not in fpath]\n",
        "#   dfname_list = []\n",
        "#   for fpath in file_list:\n",
        "#     fname = fpath.split('.')[0]\n",
        "#     dfname_list.append(\"DF_\"+fname) #모델 반복문 돌릴 때 필요한 데이터프레임 변수명 리스트\n",
        "#     try:  # 인코딩 에러 피하기 위한 방법\n",
        "#       globals()[f\"DF_{fname}\"] = pd.read_csv(f\"{path}/{fpath}\", encoding='euc-kr')\n",
        "#       globals()[f\"DF_{fname}\"] = globals()[f\"DF_{fname}\"].loc[:, [chk for chk in globals()[f\"DF_{fname}\"] if \"Unnamed\" not in chk]] #혹시 index도 같이 저장되었으면 없애줌\n",
        "#     except:\n",
        "#       try:\n",
        "#         globals()[f\"DF_{fname}\"] = pd.read_csv(f\"{path}/{fpath}\", encoding='cp949')\n",
        "#         globals()[f\"DF_{fname}\"] = globals()[f\"DF_{fname}\"].loc[:, [chk for chk in globals()[f\"DF_{fname}\"] if \"Unnamed\" not in chk]]\n",
        "#       except:\n",
        "#         globals()[f\"DF_{fname}\"] = pd.read_csv(f\"{path}/{fpath}\", encoding='utf-8')\n",
        "#         globals()[f\"DF_{fname}\"] = globals()[f\"DF_{fname}\"].loc[:, [chk for chk in globals()[f\"DF_{fname}\"] if \"Unnamed\" not in chk]]\n",
        "#   return dfname_list\n",
        "# path = DATA_PATH\n",
        "# dflst = load_csv(path)"
      ],
      "execution_count": null,
      "outputs": []
    },
    {
      "cell_type": "code",
      "metadata": {
        "colab": {
          "base_uri": "https://localhost:8080/"
        },
        "id": "lTs_oz2o-dtJ",
        "outputId": "c2c8e752-3a75-41b7-e4be-dbd9e424e150"
      },
      "source": [
        "# class에 필요한 모든 모듈 불러오기\n",
        "!pip install vecstack\n",
        "!pip install catboost\n",
        "import numpy as np\n",
        "import pandas as pd\n",
        "from sklearn.linear_model import LinearRegression, Lasso, Ridge\n",
        "from xgboost import XGBRegressor\n",
        "from lightgbm import LGBMRegressor\n",
        "from catboost import CatBoostRegressor\n",
        "from sklearn.ensemble import AdaBoostRegressor\n",
        "from sklearn.ensemble import RandomForestRegressor\n",
        "from sklearn.metrics import mean_squared_error\n",
        "from vecstack import stacking\n",
        "from sklearn.ensemble import VotingRegressor\n",
        "from sklearn.ensemble import GradientBoostingRegressor\n",
        "import warnings\n",
        "warnings.filterwarnings('ignore')"
      ],
      "execution_count": null,
      "outputs": [
        {
          "output_type": "stream",
          "text": [
            "Requirement already satisfied: vecstack in /usr/local/lib/python3.7/dist-packages (0.4.0)\n",
            "Requirement already satisfied: scipy in /usr/local/lib/python3.7/dist-packages (from vecstack) (1.4.1)\n",
            "Requirement already satisfied: scikit-learn>=0.18 in /usr/local/lib/python3.7/dist-packages (from vecstack) (0.22.2.post1)\n",
            "Requirement already satisfied: numpy in /usr/local/lib/python3.7/dist-packages (from vecstack) (1.19.5)\n",
            "Requirement already satisfied: joblib>=0.11 in /usr/local/lib/python3.7/dist-packages (from scikit-learn>=0.18->vecstack) (1.0.1)\n",
            "Requirement already satisfied: catboost in /usr/local/lib/python3.7/dist-packages (0.26)\n",
            "Requirement already satisfied: graphviz in /usr/local/lib/python3.7/dist-packages (from catboost) (0.10.1)\n",
            "Requirement already satisfied: numpy>=1.16.0 in /usr/local/lib/python3.7/dist-packages (from catboost) (1.19.5)\n",
            "Requirement already satisfied: pandas>=0.24.0 in /usr/local/lib/python3.7/dist-packages (from catboost) (1.1.5)\n",
            "Requirement already satisfied: scipy in /usr/local/lib/python3.7/dist-packages (from catboost) (1.4.1)\n",
            "Requirement already satisfied: matplotlib in /usr/local/lib/python3.7/dist-packages (from catboost) (3.2.2)\n",
            "Requirement already satisfied: six in /usr/local/lib/python3.7/dist-packages (from catboost) (1.15.0)\n",
            "Requirement already satisfied: plotly in /usr/local/lib/python3.7/dist-packages (from catboost) (4.4.1)\n",
            "Requirement already satisfied: pytz>=2017.2 in /usr/local/lib/python3.7/dist-packages (from pandas>=0.24.0->catboost) (2018.9)\n",
            "Requirement already satisfied: python-dateutil>=2.7.3 in /usr/local/lib/python3.7/dist-packages (from pandas>=0.24.0->catboost) (2.8.1)\n",
            "Requirement already satisfied: cycler>=0.10 in /usr/local/lib/python3.7/dist-packages (from matplotlib->catboost) (0.10.0)\n",
            "Requirement already satisfied: pyparsing!=2.0.4,!=2.1.2,!=2.1.6,>=2.0.1 in /usr/local/lib/python3.7/dist-packages (from matplotlib->catboost) (2.4.7)\n",
            "Requirement already satisfied: kiwisolver>=1.0.1 in /usr/local/lib/python3.7/dist-packages (from matplotlib->catboost) (1.3.1)\n",
            "Requirement already satisfied: retrying>=1.3.3 in /usr/local/lib/python3.7/dist-packages (from plotly->catboost) (1.3.3)\n"
          ],
          "name": "stdout"
        }
      ]
    },
    {
      "cell_type": "code",
      "metadata": {
        "id": "XbHZaBkNoyC-"
      },
      "source": [
        "# 전체 데이터를 불러오는 class 만들기\n",
        "class data_bring:\n",
        "  def data_bring():\n",
        "    # 관광지를 dict형태로 저장한다.\n",
        "    target_map = ['ChangDeokGung', 'ChangGyeongGung', 'DuckSooGung', 'GyeongBokGung', 'HeonLeungInReung', 'JongMyo',\n",
        "                  'SeoDaeMunNaturalHistoryMuseum', 'SeoulMuseumOfArt', 'SunReungJungReung', 'TaeReungGangNeung', 'TrickEyeMuseum',\n",
        "                  'SeoDaeMunPrisonHistoryMuseum', 'NamSanGolHanOkVillage', 'NationalMuseumOfKorea']\n",
        "\n",
        "    # colab path를 찾는다.\n",
        "    PATH = '/content/drive/MyDrive/Proj_WT/DataSets/박정열/'\n",
        "    # dict로 담아놓을 공간을 만든다.\n",
        "    bucket = {}\n",
        "    # items를 사용하여 각 key와 value를 받는다.\n",
        "    for i in target_map:\n",
        "      # 불러올 데이터의 path를 지정한다.\n",
        "      final_path = PATH + i + '.csv'\n",
        "      # 데이터를 불러온다.\n",
        "      data = pd.read_csv(final_path)\n",
        "      # 관광지에 데이터를 담는다.\n",
        "      bucket[f'{i}'] = data\n",
        "\n",
        "    return bucket\n",
        "\n",
        "# 전처리와 각 모델들을 저장할 class를 만든다.\n",
        "class modeling:\n",
        "  # train과 test로 나누기\n",
        "  def train_test_split(data = None):\n",
        "    # 2017년 12월 이전을 train\n",
        "    train = data[data['date'] <= 201812]\n",
        "    # 2017년 12월 이후를 test\n",
        "    test = data[data['date'] > 201812]\n",
        "    # 경복궁 데이터는 최고기온이 없기 때문에 try except구문을 사용하여 빼준다.\n",
        "    # try:\n",
        "    #   train.drop(['date','최고 기온(°C)','평균 기온(°C)'], axis = 1, inplace = True)\n",
        "    #   test.drop(['date','최고 기온(°C)','평균 기온(°C)'], axis = 1, inplace = True)\n",
        "    # except:\n",
        "    #   train.drop(['date','평균 기온(°C)'], axis = 1, inplace = True)\n",
        "    #   test.drop(['date','평균 기온(°C)'], axis = 1, inplace = True)\n",
        "\n",
        "    # train을 X_train, y_train으로 나눈다.z\n",
        "    X_train, y_train = train.drop('target', axis = 1), train['target']\n",
        "    # test를 X_test, y_test로 나눈다.\n",
        "    X_test, y_test = test.drop('target', axis = 1), test['target']\n",
        "    X_test.reset_index(drop = True, inplace = True)\n",
        "\n",
        "    return X_train, X_test, y_train, y_test\n",
        "\n",
        "  # linear regression 돌리기\n",
        "  def lr():\n",
        "    model = LinearRegression()\n",
        "    \n",
        "    return model\n",
        "  # xgboost 돌리기\n",
        "  def xgb():\n",
        "    model = XGBRegressor(random_state = 42,tree_method = 'gpu_hist')\n",
        "\n",
        "    return model\n",
        "  # lightgbm\n",
        "  def lgb():\n",
        "    model = LGBMRegressor(random_state = 42)\n",
        "\n",
        "    return model\n",
        "  # catboost\n",
        "  def cat():\n",
        "    model = CatBoostRegressor(random_state = 42,task_type = 'GPU')\n",
        "    return model\n",
        "  # ridge\n",
        "  def ridge():\n",
        "    model = Ridge(random_state = 42)\n",
        "    return model\n",
        "  \n",
        "  # lasso\n",
        "  def lasso():\n",
        "    model = Lasso()\n",
        "\n",
        "    return model\n",
        "\n",
        "  # adaboost\n",
        "  def ada():\n",
        "    model = AdaBoostRegressor(random_state = 42)\n",
        "\n",
        "    return model\n",
        "\n",
        "  # randomforest\n",
        "  def rfg():\n",
        "    model = RandomForestRegressor(random_state = 42)\n",
        "    \n",
        "    return model\n",
        "\n",
        "  def gb():\n",
        "    model = GradientBoostingRegressor(random_state = 42)\n",
        "    return model\n",
        "\n",
        "  # rmse가 가장 낮은 것을 데이터 프레임으로 rmse함수를 만든다.\n",
        "  def rmse(y_test, y_pred):\n",
        "    RMSE = mean_squared_error(y_test, y_pred)**0.5\n",
        "\n",
        "    return RMSE\n",
        "\n",
        "  def smape(true, pred):\n",
        "    v = 2 * abs(pred - true) / (abs(pred) + abs(true))\n",
        "    output = np.mean(v) * 100\n",
        "    return output\n",
        "\n",
        "\n",
        "# 모델 전부 한번씩 돌려보기\n",
        "class class_all_model:\n",
        "  # 각 모델을 돌리기 위해서 dict로 쌓아준다.\n",
        "  def models():\n",
        "    models = {'lr':modeling.lr(), 'lgb':modeling.lgb(), 'xgb':modeling.xgb(), 'lasso':modeling.lasso(),'ridge':modeling.ridge(),'ada':modeling.ada(), 'rfg':modeling.rfg(), 'gb':modeling.gb()}\n",
        "    return models\n",
        "  \n",
        "  # 모델을 하나씩 돌려서 keys = 모델명, value = 모델의 rmse를 쌓아준다.\n",
        "  def run(data = None):\n",
        "    models = class_all_model.models()\n",
        "    # 모델별로 rmse를 넣는다.\n",
        "    final_rmse = {}\n",
        "    # 모델별로 score를 넣는다.\n",
        "    model_score = {}\n",
        "    # 모델의 파라미터를 저장한다. \n",
        "    model_store = {}\n",
        "    # 모델별로 smape을 넣는다.\n",
        "    model_smape = {}\n",
        "\n",
        "    # 데이터를 train과 test로 나눈다.\n",
        "    X_train, X_test, y_train, y_test = modeling.train_test_split(data = data)\n",
        "    # dict로 쌓아놓은 데이터를 전부 가져온다.\n",
        "    for i, j in models.items():\n",
        "      # 각 모델의 y_pred를 구한다.\n",
        "      model = j\n",
        "      model.fit(X_train, y_train)\n",
        "      y_pred = model.predict(X_test)\n",
        "      \n",
        "      # 전체 모델을 돌려서 각 모델별로 rmse, score,model을 저장한다.\n",
        "      final_rmse[i] = modeling.rmse(y_test, y_pred)\n",
        "      model_score[i] = model.score(X_test, y_test)\n",
        "      model_store[i] = model\n",
        "      model_smape[i] = modeling.smape(y_test, y_pred)\n",
        "\n",
        "    return final_rmse, model_score, model_store, model_smape\n",
        "\n",
        "# LMM(Linear Mixture Model)\n",
        "class lmm:\n",
        "  def linearmodel(data = None):\n",
        "    X_train, X_test, y_train, y_test = modeling.train_test_split(data)\n",
        "    model = modeling.lr()\n",
        "    model.fit(X_train,y_train)\n",
        "    train_y_pred = model.predict(X_train)\n",
        "    test_y_pred = model.predict(X_test)\n",
        "\n",
        "    train_y_pred = pd.DataFrame(train_y_pred, columns = ['target_pred'])\n",
        "    test_y_pred = pd.DataFrame(test_y_pred, columns = ['target_pred'])\n",
        "\n",
        "    return train_y_pred, test_y_pred\n",
        "\n",
        "  def run(data = None):\n",
        "    X_train, X_test, y_train, y_test = modeling.train_test_split(data = data)\n",
        "    train_y_pred, test_y_pred = lmm.linearmodel(data = data)\n",
        "    X_train = pd.concat([X_train, train_y_pred], axis = 1)\n",
        "    X_test = pd.concat([X_test, test_y_pred], axis = 1)\n",
        "    model = modeling.lr()\n",
        "    model.fit(X_train, y_train)\n",
        "    y_pred = model.predict(X_test)\n",
        "\n",
        "    score = model.score(X_test, y_test)\n",
        "    rmse = modeling.rmse(y_test, y_pred)\n",
        "    smape = modeling.smape(y_test, y_pred)\n",
        "\n",
        "    return rmse, score, model, smape\n",
        "\n",
        "# dict로 쌓여있는 모델을 돌린다.\n",
        "class final_model:\n",
        "  def run(data = None):\n",
        "    # 위의 class에서 모델을 돌려서 rmse, score, model을 불러온다.\n",
        "    final_rmse , model_score, model, model_smape = class_all_model.run(data = data)\n",
        "    lmm_rmse, lmm_score, lmm_model,lmm_smape = lmm.run(data = data)\n",
        "    model_smape['lmm'] = lmm_smape\n",
        "    final_rmse['lmm'] = lmm_rmse\n",
        "    model_score['lmm'] = lmm_score\n",
        "    model['lmm'] = lmm_model\n",
        "    # model_score의 key = 모델 , value = 모델의 score를 받는다.\n",
        "    for i, j in model_score.items():\n",
        "      # score가 가장 높은 모델을 찾아낸다.\n",
        "      if j == max(model_score.values()):\n",
        "        # score가 가장 높은 모델을 dataframe의 형태로 만들기 위한 작업을 한다.\n",
        "        model = model[i]\n",
        "        final_rmse = final_rmse[i]\n",
        "        model_score = model_score[i]\n",
        "        model_smape = model_smape[i]\n",
        "\n",
        "        break\n",
        "\n",
        "    # 가장 score가 높은 모델의 모델, rmse, score를 데이터 프레임 형태로 저장한다.\n",
        "    score = pd.DataFrame([[model, final_rmse, model_score, model_smape]], columns = ['model','final_rmse','model_score','model_smape'], index = [i])\n",
        "\n",
        "    return score\n",
        "\n",
        "# 각 관광지의 데이터를 하나의 데이터 프레임에 보기 위해서 class 를 생성한다.\n",
        "class data_concat:\n",
        "  def final_run():\n",
        "    # 관광지별 데이터를 전부 불러온다.\n",
        "    final_dict = data_bring.data_bring()\n",
        "    # 각 관광지별 rmse, model, score를 저장할 데이터 프레임을 만든다.\n",
        "    final_dataframe = pd.DataFrame([])\n",
        "    # 각 관광지별 데이터를 가져온다.\n",
        "    for i, j in final_dict.items():\n",
        "      # 각 관광지별 데이터를 위에 선언된 class로 모델을 돌린다.\n",
        "      dataframe = final_model.run(data = j)\n",
        "      # 관광지라는 변수를 지정해준다.\n",
        "      # 왜 이렇게 하는가? index에 바로 안들어가기 때문이다.\n",
        "      dataframe['TourSpot'] = i\n",
        "      # 관광지를 concat으로 쌓는다.\n",
        "      final_dataframe =  pd.concat([final_dataframe,dataframe], axis = 0)\n",
        "    # 최종 데이터 프레임이 만들어지면 관광지를 index로 변경해준다.\n",
        "    final_dataframe.index = final_dataframe['TourSpot']\n",
        "    # 관광지라는 컬럼을 제거한다.\n",
        "    final_dataframe.drop('TourSpot', axis = 1, inplace = True)\n",
        "\n",
        "    return final_dataframe"
      ],
      "execution_count": null,
      "outputs": []
    },
    {
      "cell_type": "code",
      "metadata": {
        "colab": {
          "base_uri": "https://localhost:8080/",
          "height": 766
        },
        "id": "L6DwYjG-vnYn",
        "outputId": "e712294c-a7c6-40f5-fbae-951bfeb9047b"
      },
      "source": [
        "data_concat.final_run()"
      ],
      "execution_count": null,
      "outputs": [
        {
          "output_type": "stream",
          "text": [
            "[07:39:54] WARNING: /workspace/src/objective/regression_obj.cu:152: reg:linear is now deprecated in favor of reg:squarederror.\n",
            "[07:39:54] WARNING: /workspace/src/objective/regression_obj.cu:152: reg:linear is now deprecated in favor of reg:squarederror.\n",
            "[07:39:55] WARNING: /workspace/src/objective/regression_obj.cu:152: reg:linear is now deprecated in favor of reg:squarederror.\n",
            "[07:39:56] WARNING: /workspace/src/objective/regression_obj.cu:152: reg:linear is now deprecated in favor of reg:squarederror.\n",
            "[07:39:56] WARNING: /workspace/src/objective/regression_obj.cu:152: reg:linear is now deprecated in favor of reg:squarederror.\n",
            "[07:39:57] WARNING: /workspace/src/objective/regression_obj.cu:152: reg:linear is now deprecated in favor of reg:squarederror.\n",
            "[07:39:58] WARNING: /workspace/src/objective/regression_obj.cu:152: reg:linear is now deprecated in favor of reg:squarederror.\n",
            "[07:39:58] WARNING: /workspace/src/objective/regression_obj.cu:152: reg:linear is now deprecated in favor of reg:squarederror.\n",
            "[07:39:59] WARNING: /workspace/src/objective/regression_obj.cu:152: reg:linear is now deprecated in favor of reg:squarederror.\n",
            "[07:40:00] WARNING: /workspace/src/objective/regression_obj.cu:152: reg:linear is now deprecated in favor of reg:squarederror.\n",
            "[07:40:00] WARNING: /workspace/src/objective/regression_obj.cu:152: reg:linear is now deprecated in favor of reg:squarederror.\n",
            "[07:40:01] WARNING: /workspace/src/objective/regression_obj.cu:152: reg:linear is now deprecated in favor of reg:squarederror.\n",
            "[07:40:02] WARNING: /workspace/src/objective/regression_obj.cu:152: reg:linear is now deprecated in favor of reg:squarederror.\n",
            "[07:40:03] WARNING: /workspace/src/objective/regression_obj.cu:152: reg:linear is now deprecated in favor of reg:squarederror.\n"
          ],
          "name": "stdout"
        },
        {
          "output_type": "execute_result",
          "data": {
            "text/html": [
              "<div>\n",
              "<style scoped>\n",
              "    .dataframe tbody tr th:only-of-type {\n",
              "        vertical-align: middle;\n",
              "    }\n",
              "\n",
              "    .dataframe tbody tr th {\n",
              "        vertical-align: top;\n",
              "    }\n",
              "\n",
              "    .dataframe thead th {\n",
              "        text-align: right;\n",
              "    }\n",
              "</style>\n",
              "<table border=\"1\" class=\"dataframe\">\n",
              "  <thead>\n",
              "    <tr style=\"text-align: right;\">\n",
              "      <th></th>\n",
              "      <th>model</th>\n",
              "      <th>final_rmse</th>\n",
              "      <th>model_score</th>\n",
              "      <th>model_smape</th>\n",
              "    </tr>\n",
              "    <tr>\n",
              "      <th>TourSpot</th>\n",
              "      <th></th>\n",
              "      <th></th>\n",
              "      <th></th>\n",
              "      <th></th>\n",
              "    </tr>\n",
              "  </thead>\n",
              "  <tbody>\n",
              "    <tr>\n",
              "      <th>ChangDeokGung</th>\n",
              "      <td>([DecisionTreeRegressor(ccp_alpha=0.0, criteri...</td>\n",
              "      <td>29173.841432</td>\n",
              "      <td>0.660031</td>\n",
              "      <td>27.562270</td>\n",
              "    </tr>\n",
              "    <tr>\n",
              "      <th>ChangGyeongGung</th>\n",
              "      <td>LGBMRegressor(boosting_type='gbdt', class_weig...</td>\n",
              "      <td>18035.543599</td>\n",
              "      <td>0.520544</td>\n",
              "      <td>26.067941</td>\n",
              "    </tr>\n",
              "    <tr>\n",
              "      <th>DuckSooGung</th>\n",
              "      <td>LGBMRegressor(boosting_type='gbdt', class_weig...</td>\n",
              "      <td>56722.117742</td>\n",
              "      <td>-0.067698</td>\n",
              "      <td>29.816470</td>\n",
              "    </tr>\n",
              "    <tr>\n",
              "      <th>GyeongBokGung</th>\n",
              "      <td>([DecisionTreeRegressor(ccp_alpha=0.0, criteri...</td>\n",
              "      <td>70227.060666</td>\n",
              "      <td>0.501588</td>\n",
              "      <td>18.926708</td>\n",
              "    </tr>\n",
              "    <tr>\n",
              "      <th>HeonLeungInReung</th>\n",
              "      <td>([DecisionTreeRegressor(ccp_alpha=0.0, criteri...</td>\n",
              "      <td>1390.756021</td>\n",
              "      <td>0.545698</td>\n",
              "      <td>29.358556</td>\n",
              "    </tr>\n",
              "    <tr>\n",
              "      <th>JongMyo</th>\n",
              "      <td>LGBMRegressor(boosting_type='gbdt', class_weig...</td>\n",
              "      <td>11863.997007</td>\n",
              "      <td>-0.216047</td>\n",
              "      <td>35.306201</td>\n",
              "    </tr>\n",
              "    <tr>\n",
              "      <th>SeoDaeMunNaturalHistoryMuseum</th>\n",
              "      <td>LGBMRegressor(boosting_type='gbdt', class_weig...</td>\n",
              "      <td>5858.504572</td>\n",
              "      <td>-0.033791</td>\n",
              "      <td>18.397336</td>\n",
              "    </tr>\n",
              "    <tr>\n",
              "      <th>SeoulMuseumOfArt</th>\n",
              "      <td>(DecisionTreeRegressor(ccp_alpha=0.0, criterio...</td>\n",
              "      <td>70860.783957</td>\n",
              "      <td>0.058191</td>\n",
              "      <td>32.025876</td>\n",
              "    </tr>\n",
              "    <tr>\n",
              "      <th>SunReungJungReung</th>\n",
              "      <td>([DecisionTreeRegressor(ccp_alpha=0.0, criteri...</td>\n",
              "      <td>5251.652421</td>\n",
              "      <td>0.844424</td>\n",
              "      <td>12.146138</td>\n",
              "    </tr>\n",
              "    <tr>\n",
              "      <th>TaeReungGangNeung</th>\n",
              "      <td>LGBMRegressor(boosting_type='gbdt', class_weig...</td>\n",
              "      <td>3824.662138</td>\n",
              "      <td>0.688886</td>\n",
              "      <td>29.574000</td>\n",
              "    </tr>\n",
              "    <tr>\n",
              "      <th>TrickEyeMuseum</th>\n",
              "      <td>XGBRegressor(base_score=0.5, booster='gbtree',...</td>\n",
              "      <td>2073.201198</td>\n",
              "      <td>-0.961530</td>\n",
              "      <td>36.247401</td>\n",
              "    </tr>\n",
              "    <tr>\n",
              "      <th>SeoDaeMunPrisonHistoryMuseum</th>\n",
              "      <td>LGBMRegressor(boosting_type='gbdt', class_weig...</td>\n",
              "      <td>33597.282205</td>\n",
              "      <td>0.053757</td>\n",
              "      <td>34.849551</td>\n",
              "    </tr>\n",
              "    <tr>\n",
              "      <th>NamSanGolHanOkVillage</th>\n",
              "      <td>([DecisionTreeRegressor(ccp_alpha=0.0, criteri...</td>\n",
              "      <td>15582.631199</td>\n",
              "      <td>0.814405</td>\n",
              "      <td>11.221623</td>\n",
              "    </tr>\n",
              "    <tr>\n",
              "      <th>NationalMuseumOfKorea</th>\n",
              "      <td>XGBRegressor(base_score=0.5, booster='gbtree',...</td>\n",
              "      <td>24914.467660</td>\n",
              "      <td>0.908897</td>\n",
              "      <td>8.252022</td>\n",
              "    </tr>\n",
              "  </tbody>\n",
              "</table>\n",
              "</div>"
            ],
            "text/plain": [
              "                                                                           model  ...  model_smape\n",
              "TourSpot                                                                          ...             \n",
              "ChangDeokGung                  ([DecisionTreeRegressor(ccp_alpha=0.0, criteri...  ...    27.562270\n",
              "ChangGyeongGung                LGBMRegressor(boosting_type='gbdt', class_weig...  ...    26.067941\n",
              "DuckSooGung                    LGBMRegressor(boosting_type='gbdt', class_weig...  ...    29.816470\n",
              "GyeongBokGung                  ([DecisionTreeRegressor(ccp_alpha=0.0, criteri...  ...    18.926708\n",
              "HeonLeungInReung               ([DecisionTreeRegressor(ccp_alpha=0.0, criteri...  ...    29.358556\n",
              "JongMyo                        LGBMRegressor(boosting_type='gbdt', class_weig...  ...    35.306201\n",
              "SeoDaeMunNaturalHistoryMuseum  LGBMRegressor(boosting_type='gbdt', class_weig...  ...    18.397336\n",
              "SeoulMuseumOfArt               (DecisionTreeRegressor(ccp_alpha=0.0, criterio...  ...    32.025876\n",
              "SunReungJungReung              ([DecisionTreeRegressor(ccp_alpha=0.0, criteri...  ...    12.146138\n",
              "TaeReungGangNeung              LGBMRegressor(boosting_type='gbdt', class_weig...  ...    29.574000\n",
              "TrickEyeMuseum                 XGBRegressor(base_score=0.5, booster='gbtree',...  ...    36.247401\n",
              "SeoDaeMunPrisonHistoryMuseum   LGBMRegressor(boosting_type='gbdt', class_weig...  ...    34.849551\n",
              "NamSanGolHanOkVillage          ([DecisionTreeRegressor(ccp_alpha=0.0, criteri...  ...    11.221623\n",
              "NationalMuseumOfKorea          XGBRegressor(base_score=0.5, booster='gbtree',...  ...     8.252022\n",
              "\n",
              "[14 rows x 4 columns]"
            ]
          },
          "metadata": {
            "tags": []
          },
          "execution_count": 55
        }
      ]
    },
    {
      "cell_type": "code",
      "metadata": {
        "id": "DT_xa64-moUG"
      },
      "source": [
        "# # 데이터를 dict형태로 쌓아서 각 관광지를 key 관광지의 계절을 value로 받게 만들었다.\n",
        "# class data_bring:\n",
        "#   def data_bring():\n",
        "#     target_map = {'ChangDeokGung' : '창덕궁', 'ChangGyeongGung' : '창경궁', 'DuckSooGung' : '덕수궁', 'GyeongBokGung' : '경복궁', 'HeonLeungInReung' : '헌릉인릉', 'JongMyo' : '종묘', 'SeoDaeMunNaturalHistoryMuseum' : '서대문자연사박물관', 'SeoulMuseumOfArt' : '서울시립미술관', 'SunReungJungReung' : '선릉정릉', 'TaeReungGangNeung' : '태릉강릉', 'TrickEyeMuseum' : '트릭아이미술관', 'SeoDaeMunPrisonHistoryMuseum' : '서대문형무소역사관', 'NamSanGolHanOkVillage' : '남산골한옥마을', 'NationalMuseumOfKorea' : '국립중앙박물관'}\n",
        "#     # season_map = ['','Spring','Summer','Fall','Winter']\n",
        "#     PATH = '/content/drive/MyDrive/Proj_WT/DataSets/박정열/'\n",
        "#     담아놓기 = {}\n",
        "#     for i, j in target_map.items():\n",
        "#       final_path = PATH + i + '.csv'\n",
        "#       data = pd.read_csv(final_path)\n",
        "#       담아놓기[f'{i}'] = data\n",
        "\n",
        "#     return 담아놓기\n",
        "\n",
        "# class modeling:\n",
        "#   # train과 test로 나누기\n",
        "#   # 전처리에서 했어야할 drop을 여기서 해주네... 뭐 그냥 그렇다구요\n",
        "#   def train_test_split(data = None):\n",
        "#     train = data[data['date'] <= 201712]\n",
        "#     test = data[data['date'] > 201712]\n",
        "\n",
        "#     try:\n",
        "#       train.drop(['date','최고 기온(°C)','평균 기온(°C)'], axis = 1, inplace = True)\n",
        "#       test.drop(['date','최고 기온(°C)','평균 기온(°C)'], axis = 1, inplace = True)\n",
        "#     except:\n",
        "#       train.drop(['date','평균 기온(°C)'], axis = 1, inplace = True)\n",
        "#       test.drop(['date','평균 기온(°C)'], axis = 1, inplace = True)\n",
        "\n",
        "#     X_train, y_train = train.drop('target', axis = 1), train['target']\n",
        "#     X_test, y_test = test.drop('target', axis = 1), test['target']\n",
        "\n",
        "#     return X_train, X_test, y_train, y_test\n",
        "\n",
        "#   # linear regression 돌리기\n",
        "#   def lr():\n",
        "#     model = LinearRegression()\n",
        "    \n",
        "#     return model\n",
        "\n",
        "#   # xgboost 돌리기\n",
        "#   def xgb():\n",
        "#     model = XGBRegressor(random_state = 42,tree_method = 'gpu_hist')\n",
        "\n",
        "#     return model\n",
        "\n",
        "#   # lightgbm\n",
        "#   def lgb():\n",
        "#     model = LGBMRegressor(random_state = 42)\n",
        "\n",
        "#     return model\n",
        "\n",
        "#   # catboost\n",
        "#   def cat():\n",
        "#     model = CatBoostRegressor(random_state = 42,task_type = 'GPU')\n",
        "\n",
        "#     return model\n",
        "\n",
        "#   # ridge\n",
        "#   def ridge():\n",
        "#     model = Ridge(random_state = 42)\n",
        "    \n",
        "#     return model\n",
        "  \n",
        "#   # lasso\n",
        "#   def lasso():\n",
        "#     model = Lasso()\n",
        "\n",
        "#     return model\n",
        "\n",
        "#   # adaboost\n",
        "#   def ada():\n",
        "#     model = AdaBoostRegressor(random_state = 42)\n",
        "\n",
        "#     return model\n",
        "\n",
        "#   # randomforest\n",
        "#   def rfg():\n",
        "#     model = RandomForestRegressor(random_state = 42)\n",
        "\n",
        "#     return model\n",
        "\n",
        "#   # rmse가 가장 낮은 것을 데이터 프레임으로 rmse함수를 만든다.\n",
        "#   def rmse(y_test, y_pred):\n",
        "#     RMSE = mean_squared_error(y_test, y_pred)**0.5\n",
        "\n",
        "#     return RMSE\n",
        "\n",
        "# # 모델 전부 한번씩 돌려보기\n",
        "# class class_all_model:\n",
        "#   # 각 모델을 돌리기 위해서 dict로 쌓아준다.\n",
        "#   def models():\n",
        "#     models = {'lr':modeling.lr(), 'lgb':modeling.lgb(), 'xgb':modeling.xgb(), 'lasso':modeling.lasso(),'ridge':modeling.ridge(),'ada':modeling.ada(), 'rfg':modeling.rfg()}\n",
        "#     return models\n",
        "  \n",
        "#   # 모델을 하나씩 돌려서 keys = 모델명, value = 모델의 rmse를 쌓아준다.\n",
        "#   def run(data = None):\n",
        "#     models = class_all_model.models()\n",
        "#     final_models = {}\n",
        "#     model_score = {}\n",
        "#     model_binning = {}\n",
        "#     X_train, X_test, y_train, y_test = modeling.train_test_split(data = data)\n",
        "#     # dict로 쌓아놓은 데이터를 전부 가져온다.\n",
        "#     for i, j in models.items():\n",
        "#       model = j\n",
        "#       model.fit(X_train, y_train)\n",
        "#       y_pred = model.predict(X_test)\n",
        "      \n",
        "#       # 전체 모델을 돌려서 rmse가 가장 낮은 데이터를 찾아온다.\n",
        "#       final_models[i] = modeling.rmse(y_test, y_pred)\n",
        "#       model_score[i] = model.score(X_test, y_test)\n",
        "#       model_binning[i] = model\n",
        "\n",
        "#     return final_models, model_score, model_binning\n",
        "\n",
        "# # stacking ensemble\n",
        "# # class class_stack:\n",
        "# #   # stacking에 사용할 모델들을 stacking에 바로 넣을 수 있게 만들어준다.\n",
        "# #   def model_stack():\n",
        "# #       models = [modeling.lgb(), modeling.cat(), modeling.lr(), modeling.xgb(), modeling.lasso(), modeling.ada(), modeling.rfg(),modeling.ridge()]\n",
        "# #       return models\n",
        "# #   # stacking모듈을 사용\n",
        "# #   def stack(data = None):\n",
        "# #     X_train, X_test, y_train, y_test = modeling.train_test_split(data = data)\n",
        "\n",
        "# #     S_train, S_test = stacking(class_stack.model_stack(), X_train, y_train, X_test, regression = True, metric = ['acc'], n_folds = 3)\n",
        "# #     model = modeling.lgb()\n",
        "# #     model.fit(S_train, y_train)\n",
        "# #     y_pred = model.predict(S_test)\n",
        "# #     model_score = model.score(S_test, y_test)\n",
        "\n",
        "#     # return modeling.rmse(y_test, y_pred), model_score, model\n",
        "# # voting ensemble\n",
        "# # class class_voting:\n",
        "# #   # 모델들을 voting에 맞게 모아준다.\n",
        "# #   def collect_model():\n",
        "# #     models= [('xgb',modeling.xgb()),('lgb',modeling.lgb()),('rfg',modeling.rfg()),('ada',modeling.ada()),('lr',modeling.lr()),('ridge',modeling.ridge()),('lasso',modeling.lasso()),('cat',modeling.cat())]\n",
        "    \n",
        "# #     return models\n",
        "\n",
        "#   # VotingRegressor를 돌려준다.\n",
        "#   # def voting(data = None):\n",
        "#   #   X_train, X_test, y_train, y_test = modeling.train_test_split(data = data)\n",
        "#   #   model = VotingRegressor(class_voting.collect_model(), )\n",
        "#   #   model.fit(X_train, y_train)\n",
        "#   #   y_pred = model.predict(X_test)\n",
        "#   #   model_score = model.score(X_test, y_test)\n",
        "#   #   return modeling.rmse(y_test, y_pred), model_score, model\n",
        "\n",
        "# # class로 짠 모델들을 전부 돌려준다.\n",
        "# class final_model:\n",
        "#   def run(data = None):\n",
        "#     final_rmse , model_score, model = class_all_model.run(data = data)\n",
        "#     # final_rmse['stack'], model_score['stack'], model['stack'] = class_stack.stack(data = data)\n",
        "#     # final_rmse['voting'], model_score['voting'], model['voting'] = class_voting.voting(data = data)\n",
        "\n",
        "#     for i, j in model_score.items():\n",
        "#       if j == max(model_score.values()):\n",
        "#         model = model[i]\n",
        "#         final_rmse = final_rmse[i]\n",
        "#         model_score = model_score[i]\n",
        "#         break\n",
        "\n",
        "#     score = pd.DataFrame([[model, final_rmse, model_score]], columns = ['model','final_rmse','model_score'], index = [i])\n",
        "\n",
        "#     return score\n",
        "\n",
        "# # 계절별로 데이터 프레임 만들기\n",
        "# class data_concat:\n",
        "#   def data_concat(data = [None]):\n",
        "#     final_data = pd.DataFrame([], columns = ['model','final_rmse','model_score'])\n",
        "#     a = final_model.run(data = data)\n",
        "#     final_data = pd.concat([final_data, a], axis = 0)\n",
        "\n",
        "#     return final_data\n",
        "\n",
        "#   def final_run():\n",
        "#     final_dict = data_bring.data_bring()\n",
        "#     final_dataframe = pd.DataFrame([])\n",
        "#     for i, j in final_dict.items():\n",
        "#       dataframe = data_concat.data_concat(data = j)\n",
        "#       dataframe['관광지'] = i\n",
        "#       final_dataframe =  pd.concat([final_dataframe,dataframe], axis = 0)\n",
        "#     return final_dataframe\n",
        "\n",
        "#   # def \n",
        "#     print('------ 끝 --------------------------------------------------')"
      ],
      "execution_count": null,
      "outputs": []
    },
    {
      "cell_type": "code",
      "metadata": {
        "id": "N6CE-mJmhOvd"
      },
      "source": [
        "# 학습된 모델 저장하기\n",
        "# import pickle\n",
        "# import joblib\n",
        "\n",
        "# final_Df = data_concat.final_run()\n",
        "# for i in final_Df.index:\n",
        "#   model = final_Df.loc[i, 'model']\n",
        "#   save_model = pickle.dumps(model)\n",
        "#   joblib,dump(save_model, f'/content/drive/MyDrive/Proj_WT/ModelScore/{i}의 모델.pkl')"
      ],
      "execution_count": null,
      "outputs": []
    },
    {
      "cell_type": "code",
      "metadata": {
        "id": "s4q2BuePjh6O"
      },
      "source": [
        "# class를 이용해서 모든 모델을 돌려준다.\n",
        "######## base line ############################\n",
        "# final_rmse, model_score, model = final_model.run(data = data)\n",
        "# print(final_rmse, model_score, model)"
      ],
      "execution_count": null,
      "outputs": []
    },
    {
      "cell_type": "code",
      "metadata": {
        "id": "XeRKTxhfqZNu"
      },
      "source": [
        "# 더미화, "
      ],
      "execution_count": null,
      "outputs": []
    },
    {
      "cell_type": "code",
      "metadata": {
        "id": "24GTZ8c0hLGu"
      },
      "source": [
        "# class visualizer_class:"
      ],
      "execution_count": null,
      "outputs": []
    },
    {
      "cell_type": "code",
      "metadata": {
        "id": "B5aeYqy1gwHw"
      },
      "source": [
        "# import statsmodels.api as sm\n",
        "\n",
        "# train = data[data['date'] <= 201712]\n",
        "# test = data[data['date'] > 201712]\n",
        "\n",
        "\n",
        "\n",
        "\n",
        "# X_train, y_train = train.drop('target', axis = 1), train['target']\n",
        "# X_test, y_test = test.drop('target', axis = 1), test['target']\n",
        "\n",
        "\n",
        "# model = sm.OLS(y_train, X_train)\n",
        "# result = model.fit()\n",
        "# result.summary()"
      ],
      "execution_count": null,
      "outputs": []
    },
    {
      "cell_type": "code",
      "metadata": {
        "id": "mrStWiuHCuPE"
      },
      "source": [
        "# y_test"
      ],
      "execution_count": null,
      "outputs": []
    },
    {
      "cell_type": "code",
      "metadata": {
        "id": "aD8BlsEhNwbY"
      },
      "source": [
        "# 데이터를 dict형태로 쌓아서 각 관광지를 key 관광지의 계절을 value로 받게 만들었다.\n",
        "# import pandas as pd\n",
        "# target_map = {'ChangDeokGung' : '창덕궁', 'ChangGyeongGung' : '창경궁', 'DuckSooGung' : '덕수궁', 'GyeongBokGung' : '경복궁', 'HeonLeungInReung' : '헌릉인릉', 'JongMyo' : '종묘', 'SeoDaeMunNaturalHistoryMuseum' : '서대문자연사박물관', 'SeoulMuseumOfArt' : '서울시립미술관', 'SunReungJungReung' : '선릉정릉', 'TaeReungGangNeung' : '태릉강릉', 'TrickEyeMuseum' : '트릭아이미술관', 'SeoDaeMunPrisonHistoryMuseum' : '서대문형무소역사관', 'NamSanGolHanOkVillage' : '남산골한옥마을', 'NationalMuseumOfKorea' : '국립중앙박물관'}\n",
        "# season_map = ['','Spring','Summer','Fall','Winter']\n",
        "\n",
        "# PATH = '/content/drive/MyDrive/Proj_WT/DataSets/박정열/'\n",
        "# 담아놓기 = {}\n",
        "# for i, j in target_map.items():\n",
        "#   데이터 = []\n",
        "#   for k in season_map:\n",
        "#     try:\n",
        "#       final_path = PATH + i + '_' + k + '.csv'\n",
        "#       data = pd.read_csv(final_path)\n",
        "#       데이터.append(data)\n",
        "#     except:\n",
        "#       final_path = PATH + i + '.csv'\n",
        "#       data = pd.read_csv(final_path)\n",
        "#       데이터.append(data)\n",
        "#   담아놓기[j] = 데이터"
      ],
      "execution_count": null,
      "outputs": []
    },
    {
      "cell_type": "code",
      "metadata": {
        "id": "oWMgcD520ubC"
      },
      "source": [
        "# final_data = data_bring.data_bring()\n",
        "# len(final_data['창덕궁'])"
      ],
      "execution_count": null,
      "outputs": []
    },
    {
      "cell_type": "code",
      "metadata": {
        "id": "NYq-q5cO8pus"
      },
      "source": [
        "# final_data.keys()"
      ],
      "execution_count": null,
      "outputs": []
    },
    {
      "cell_type": "markdown",
      "metadata": {
        "id": "JPM54_5Un0hF"
      },
      "source": [
        "# 딥러닝으로 비교해보기"
      ]
    },
    {
      "cell_type": "code",
      "metadata": {
        "id": "TjqudmVwfOGl"
      },
      "source": [
        "import numpy as np\n",
        "import pandas as pd\n",
        "import matplotlib.pyplot as plt\n",
        "import seaborn as sns\n",
        "import warnings\n",
        "warnings.filterwarnings('ignore')"
      ],
      "execution_count": null,
      "outputs": []
    },
    {
      "cell_type": "code",
      "metadata": {
        "id": "tVGfyNWVn7ry"
      },
      "source": [
        "data = pd.read_csv('/content/drive/MyDrive/Proj_WT/DataSets/박정열/DuckSooGung.csv')"
      ],
      "execution_count": null,
      "outputs": []
    },
    {
      "cell_type": "code",
      "metadata": {
        "colab": {
          "base_uri": "https://localhost:8080/",
          "height": 221
        },
        "id": "7IA5-Q9Sn8Yj",
        "outputId": "5a47d2aa-34a1-4a84-ef74-d52d1e86fb46"
      },
      "source": [
        "data.head()"
      ],
      "execution_count": null,
      "outputs": [
        {
          "output_type": "execute_result",
          "data": {
            "text/html": [
              "<div>\n",
              "<style scoped>\n",
              "    .dataframe tbody tr th:only-of-type {\n",
              "        vertical-align: middle;\n",
              "    }\n",
              "\n",
              "    .dataframe tbody tr th {\n",
              "        vertical-align: top;\n",
              "    }\n",
              "\n",
              "    .dataframe thead th {\n",
              "        text-align: right;\n",
              "    }\n",
              "</style>\n",
              "<table border=\"1\" class=\"dataframe\">\n",
              "  <thead>\n",
              "    <tr style=\"text-align: right;\">\n",
              "      <th></th>\n",
              "      <th>date</th>\n",
              "      <th>month</th>\n",
              "      <th>최고 기온(°C)</th>\n",
              "      <th>최소 상대습도(%)</th>\n",
              "      <th>평균 기온(°C)</th>\n",
              "      <th>평균 상대습도(%)</th>\n",
              "      <th>일강수량(mm)</th>\n",
              "      <th>평균 풍속(m/s)</th>\n",
              "      <th>합계 일조 시간(hr)</th>\n",
              "      <th>0.5m 지중온도(°C)</th>\n",
              "      <th>최대 풍속(m/s)</th>\n",
              "      <th>합계 일사량(MJ/m2)</th>\n",
              "      <th>target</th>\n",
              "      <th>season</th>\n",
              "      <th>tp_1_0</th>\n",
              "      <th>tp_1_1</th>\n",
              "      <th>tp_1_2</th>\n",
              "      <th>tp_1_3</th>\n",
              "      <th>tp_2_0</th>\n",
              "      <th>tp_2_1</th>\n",
              "      <th>tp_2_2</th>\n",
              "      <th>tp_2_3</th>\n",
              "    </tr>\n",
              "  </thead>\n",
              "  <tbody>\n",
              "    <tr>\n",
              "      <th>0</th>\n",
              "      <td>201101</td>\n",
              "      <td>1</td>\n",
              "      <td>-3.406452</td>\n",
              "      <td>35.129032</td>\n",
              "      <td>-7.183871</td>\n",
              "      <td>53.829032</td>\n",
              "      <td>1.112500</td>\n",
              "      <td>2.796774</td>\n",
              "      <td>7.048387</td>\n",
              "      <td>1.541935</td>\n",
              "      <td>5.593548</td>\n",
              "      <td>9.951290</td>\n",
              "      <td>92135</td>\n",
              "      <td>4.0</td>\n",
              "      <td>1</td>\n",
              "      <td>0</td>\n",
              "      <td>0</td>\n",
              "      <td>0</td>\n",
              "      <td>1</td>\n",
              "      <td>0</td>\n",
              "      <td>0</td>\n",
              "      <td>0</td>\n",
              "    </tr>\n",
              "    <tr>\n",
              "      <th>1</th>\n",
              "      <td>201102</td>\n",
              "      <td>2</td>\n",
              "      <td>5.864286</td>\n",
              "      <td>32.000000</td>\n",
              "      <td>1.221429</td>\n",
              "      <td>55.228571</td>\n",
              "      <td>9.700000</td>\n",
              "      <td>2.553571</td>\n",
              "      <td>5.950000</td>\n",
              "      <td>1.025000</td>\n",
              "      <td>5.239286</td>\n",
              "      <td>10.827857</td>\n",
              "      <td>132920</td>\n",
              "      <td>4.0</td>\n",
              "      <td>1</td>\n",
              "      <td>0</td>\n",
              "      <td>0</td>\n",
              "      <td>0</td>\n",
              "      <td>1</td>\n",
              "      <td>0</td>\n",
              "      <td>0</td>\n",
              "      <td>0</td>\n",
              "    </tr>\n",
              "    <tr>\n",
              "      <th>2</th>\n",
              "      <td>201103</td>\n",
              "      <td>3</td>\n",
              "      <td>8.345161</td>\n",
              "      <td>25.258065</td>\n",
              "      <td>3.616129</td>\n",
              "      <td>51.112903</td>\n",
              "      <td>2.085714</td>\n",
              "      <td>3.406452</td>\n",
              "      <td>7.748387</td>\n",
              "      <td>5.158065</td>\n",
              "      <td>6.877419</td>\n",
              "      <td>16.342258</td>\n",
              "      <td>64869</td>\n",
              "      <td>1.0</td>\n",
              "      <td>0</td>\n",
              "      <td>1</td>\n",
              "      <td>0</td>\n",
              "      <td>0</td>\n",
              "      <td>0</td>\n",
              "      <td>1</td>\n",
              "      <td>0</td>\n",
              "      <td>0</td>\n",
              "    </tr>\n",
              "    <tr>\n",
              "      <th>3</th>\n",
              "      <td>201104</td>\n",
              "      <td>4</td>\n",
              "      <td>15.596667</td>\n",
              "      <td>28.666667</td>\n",
              "      <td>10.720000</td>\n",
              "      <td>54.240000</td>\n",
              "      <td>10.009091</td>\n",
              "      <td>3.243333</td>\n",
              "      <td>6.736667</td>\n",
              "      <td>10.736667</td>\n",
              "      <td>6.650000</td>\n",
              "      <td>16.832333</td>\n",
              "      <td>85548</td>\n",
              "      <td>1.0</td>\n",
              "      <td>0</td>\n",
              "      <td>1</td>\n",
              "      <td>0</td>\n",
              "      <td>0</td>\n",
              "      <td>0</td>\n",
              "      <td>1</td>\n",
              "      <td>0</td>\n",
              "      <td>0</td>\n",
              "    </tr>\n",
              "    <tr>\n",
              "      <th>4</th>\n",
              "      <td>201105</td>\n",
              "      <td>5</td>\n",
              "      <td>22.983871</td>\n",
              "      <td>32.161290</td>\n",
              "      <td>17.925806</td>\n",
              "      <td>56.416129</td>\n",
              "      <td>4.107692</td>\n",
              "      <td>2.832258</td>\n",
              "      <td>5.819355</td>\n",
              "      <td>16.303226</td>\n",
              "      <td>6.235484</td>\n",
              "      <td>17.091935</td>\n",
              "      <td>103100</td>\n",
              "      <td>1.0</td>\n",
              "      <td>0</td>\n",
              "      <td>0</td>\n",
              "      <td>1</td>\n",
              "      <td>0</td>\n",
              "      <td>0</td>\n",
              "      <td>0</td>\n",
              "      <td>1</td>\n",
              "      <td>0</td>\n",
              "    </tr>\n",
              "  </tbody>\n",
              "</table>\n",
              "</div>"
            ],
            "text/plain": [
              "     date  month  최고 기온(°C)  최소 상대습도(%)  ...  tp_2_0  tp_2_1  tp_2_2  tp_2_3\n",
              "0  201101      1  -3.406452   35.129032  ...       1       0       0       0\n",
              "1  201102      2   5.864286   32.000000  ...       1       0       0       0\n",
              "2  201103      3   8.345161   25.258065  ...       0       1       0       0\n",
              "3  201104      4  15.596667   28.666667  ...       0       1       0       0\n",
              "4  201105      5  22.983871   32.161290  ...       0       0       1       0\n",
              "\n",
              "[5 rows x 22 columns]"
            ]
          },
          "metadata": {
            "tags": []
          },
          "execution_count": 21
        }
      ]
    },
    {
      "cell_type": "code",
      "metadata": {
        "colab": {
          "base_uri": "https://localhost:8080/",
          "height": 322
        },
        "id": "jCnWFfnTpIHR",
        "outputId": "e5dc13b8-8a67-4d76-f9bf-432073a68ffe"
      },
      "source": [
        "lmm.run(data = data)"
      ],
      "execution_count": null,
      "outputs": [
        {
          "output_type": "error",
          "ename": "ValueError",
          "evalue": "ignored",
          "traceback": [
            "\u001b[0;31m---------------------------------------------------------------------------\u001b[0m",
            "\u001b[0;31mValueError\u001b[0m                                Traceback (most recent call last)",
            "\u001b[0;32m<ipython-input-22-f7d9a0f386b2>\u001b[0m in \u001b[0;36m<module>\u001b[0;34m()\u001b[0m\n\u001b[0;32m----> 1\u001b[0;31m \u001b[0mlmm\u001b[0m\u001b[0;34m.\u001b[0m\u001b[0mrun\u001b[0m\u001b[0;34m(\u001b[0m\u001b[0mdata\u001b[0m \u001b[0;34m=\u001b[0m \u001b[0mdata\u001b[0m\u001b[0;34m)\u001b[0m\u001b[0;34m\u001b[0m\u001b[0;34m\u001b[0m\u001b[0m\n\u001b[0m",
            "\u001b[0;32m<ipython-input-16-03dffa38a130>\u001b[0m in \u001b[0;36mrun\u001b[0;34m(data)\u001b[0m\n\u001b[1;32m    151\u001b[0m     \u001b[0mmodel\u001b[0m \u001b[0;34m=\u001b[0m \u001b[0mmodeling\u001b[0m\u001b[0;34m.\u001b[0m\u001b[0mlr\u001b[0m\u001b[0;34m(\u001b[0m\u001b[0;34m)\u001b[0m\u001b[0;34m\u001b[0m\u001b[0;34m\u001b[0m\u001b[0m\n\u001b[1;32m    152\u001b[0m     \u001b[0mmodel\u001b[0m\u001b[0;34m.\u001b[0m\u001b[0mfit\u001b[0m\u001b[0;34m(\u001b[0m\u001b[0mX_train\u001b[0m\u001b[0;34m,\u001b[0m \u001b[0my_train\u001b[0m\u001b[0;34m)\u001b[0m\u001b[0;34m\u001b[0m\u001b[0;34m\u001b[0m\u001b[0m\n\u001b[0;32m--> 153\u001b[0;31m     \u001b[0my_pred\u001b[0m \u001b[0;34m=\u001b[0m \u001b[0mmodel\u001b[0m\u001b[0;34m.\u001b[0m\u001b[0mpredict\u001b[0m\u001b[0;34m(\u001b[0m\u001b[0mX_test\u001b[0m\u001b[0;34m)\u001b[0m\u001b[0;34m\u001b[0m\u001b[0;34m\u001b[0m\u001b[0m\n\u001b[0m\u001b[1;32m    154\u001b[0m \u001b[0;34m\u001b[0m\u001b[0m\n\u001b[1;32m    155\u001b[0m     \u001b[0mscore\u001b[0m \u001b[0;34m=\u001b[0m \u001b[0mmodel\u001b[0m\u001b[0;34m.\u001b[0m\u001b[0mscore\u001b[0m\u001b[0;34m(\u001b[0m\u001b[0mX_test\u001b[0m\u001b[0;34m)\u001b[0m\u001b[0;34m\u001b[0m\u001b[0;34m\u001b[0m\u001b[0m\n",
            "\u001b[0;32m/usr/local/lib/python3.7/dist-packages/sklearn/linear_model/_base.py\u001b[0m in \u001b[0;36mpredict\u001b[0;34m(self, X)\u001b[0m\n\u001b[1;32m    223\u001b[0m             \u001b[0mReturns\u001b[0m \u001b[0mpredicted\u001b[0m \u001b[0mvalues\u001b[0m\u001b[0;34m.\u001b[0m\u001b[0;34m\u001b[0m\u001b[0;34m\u001b[0m\u001b[0m\n\u001b[1;32m    224\u001b[0m         \"\"\"\n\u001b[0;32m--> 225\u001b[0;31m         \u001b[0;32mreturn\u001b[0m \u001b[0mself\u001b[0m\u001b[0;34m.\u001b[0m\u001b[0m_decision_function\u001b[0m\u001b[0;34m(\u001b[0m\u001b[0mX\u001b[0m\u001b[0;34m)\u001b[0m\u001b[0;34m\u001b[0m\u001b[0;34m\u001b[0m\u001b[0m\n\u001b[0m\u001b[1;32m    226\u001b[0m \u001b[0;34m\u001b[0m\u001b[0m\n\u001b[1;32m    227\u001b[0m     \u001b[0m_preprocess_data\u001b[0m \u001b[0;34m=\u001b[0m \u001b[0mstaticmethod\u001b[0m\u001b[0;34m(\u001b[0m\u001b[0m_preprocess_data\u001b[0m\u001b[0;34m)\u001b[0m\u001b[0;34m\u001b[0m\u001b[0;34m\u001b[0m\u001b[0m\n",
            "\u001b[0;32m/usr/local/lib/python3.7/dist-packages/sklearn/linear_model/_base.py\u001b[0m in \u001b[0;36m_decision_function\u001b[0;34m(self, X)\u001b[0m\n\u001b[1;32m    205\u001b[0m         \u001b[0mcheck_is_fitted\u001b[0m\u001b[0;34m(\u001b[0m\u001b[0mself\u001b[0m\u001b[0;34m)\u001b[0m\u001b[0;34m\u001b[0m\u001b[0;34m\u001b[0m\u001b[0m\n\u001b[1;32m    206\u001b[0m \u001b[0;34m\u001b[0m\u001b[0m\n\u001b[0;32m--> 207\u001b[0;31m         \u001b[0mX\u001b[0m \u001b[0;34m=\u001b[0m \u001b[0mcheck_array\u001b[0m\u001b[0;34m(\u001b[0m\u001b[0mX\u001b[0m\u001b[0;34m,\u001b[0m \u001b[0maccept_sparse\u001b[0m\u001b[0;34m=\u001b[0m\u001b[0;34m[\u001b[0m\u001b[0;34m'csr'\u001b[0m\u001b[0;34m,\u001b[0m \u001b[0;34m'csc'\u001b[0m\u001b[0;34m,\u001b[0m \u001b[0;34m'coo'\u001b[0m\u001b[0;34m]\u001b[0m\u001b[0;34m)\u001b[0m\u001b[0;34m\u001b[0m\u001b[0;34m\u001b[0m\u001b[0m\n\u001b[0m\u001b[1;32m    208\u001b[0m         return safe_sparse_dot(X, self.coef_.T,\n\u001b[1;32m    209\u001b[0m                                dense_output=True) + self.intercept_\n",
            "\u001b[0;32m/usr/local/lib/python3.7/dist-packages/sklearn/utils/validation.py\u001b[0m in \u001b[0;36mcheck_array\u001b[0;34m(array, accept_sparse, accept_large_sparse, dtype, order, copy, force_all_finite, ensure_2d, allow_nd, ensure_min_samples, ensure_min_features, warn_on_dtype, estimator)\u001b[0m\n\u001b[1;32m    576\u001b[0m         \u001b[0;32mif\u001b[0m \u001b[0mforce_all_finite\u001b[0m\u001b[0;34m:\u001b[0m\u001b[0;34m\u001b[0m\u001b[0;34m\u001b[0m\u001b[0m\n\u001b[1;32m    577\u001b[0m             _assert_all_finite(array,\n\u001b[0;32m--> 578\u001b[0;31m                                allow_nan=force_all_finite == 'allow-nan')\n\u001b[0m\u001b[1;32m    579\u001b[0m \u001b[0;34m\u001b[0m\u001b[0m\n\u001b[1;32m    580\u001b[0m     \u001b[0;32mif\u001b[0m \u001b[0mensure_min_samples\u001b[0m \u001b[0;34m>\u001b[0m \u001b[0;36m0\u001b[0m\u001b[0;34m:\u001b[0m\u001b[0;34m\u001b[0m\u001b[0;34m\u001b[0m\u001b[0m\n",
            "\u001b[0;32m/usr/local/lib/python3.7/dist-packages/sklearn/utils/validation.py\u001b[0m in \u001b[0;36m_assert_all_finite\u001b[0;34m(X, allow_nan, msg_dtype)\u001b[0m\n\u001b[1;32m     58\u001b[0m                     \u001b[0mmsg_err\u001b[0m\u001b[0;34m.\u001b[0m\u001b[0mformat\u001b[0m\u001b[0;34m\u001b[0m\u001b[0;34m\u001b[0m\u001b[0m\n\u001b[1;32m     59\u001b[0m                     (type_err,\n\u001b[0;32m---> 60\u001b[0;31m                      msg_dtype if msg_dtype is not None else X.dtype)\n\u001b[0m\u001b[1;32m     61\u001b[0m             )\n\u001b[1;32m     62\u001b[0m     \u001b[0;31m# for object dtype data, we only check for NaNs (GH-13254)\u001b[0m\u001b[0;34m\u001b[0m\u001b[0;34m\u001b[0m\u001b[0;34m\u001b[0m\u001b[0m\n",
            "\u001b[0;31mValueError\u001b[0m: Input contains NaN, infinity or a value too large for dtype('float64')."
          ]
        }
      ]
    },
    {
      "cell_type": "code",
      "metadata": {
        "id": "sO4nWqABFEKZ"
      },
      "source": [
        "# class Generator(nn.Module):\n",
        "#   def __init__(self, in_channels = 3, z_dim = 100):\n"
      ],
      "execution_count": null,
      "outputs": []
    },
    {
      "cell_type": "code",
      "metadata": {
        "id": "tVW7AAKaoMBp"
      },
      "source": [
        "train = data[data['date'] <= 201712]\n",
        "test = data[data['date'] > 201712]\n",
        "train.drop(['date','최고 기온(°C)','평균 기온(°C)'], axis = 1, inplace = True)\n",
        "test.drop(['date','최고 기온(°C)','평균 기온(°C)'], axis = 1, inplace = True)\n",
        "X_train, y_train = train.drop('target', axis = 1), train['target']\n",
        "X_test, y_test = test.drop('target', axis = 1), test['target']\n",
        "\n",
        "from sklearn.preprocessing import RobustScaler\n",
        "# robust 스케일러를 사용하여 데이터를 처리 해준다.\n",
        "transform = RobustScaler().fit(X_train)\n",
        "X_train = transform.transform(X_train)\n",
        "transform = RobustScaler().fit(X_test)\n",
        "X_test = transform.transform(X_test)"
      ],
      "execution_count": null,
      "outputs": []
    },
    {
      "cell_type": "code",
      "metadata": {
        "colab": {
          "base_uri": "https://localhost:8080/"
        },
        "id": "E_SBCTKNpZzG",
        "outputId": "c16fd7f6-46bf-4492-d158-0b90506246e3"
      },
      "source": [
        "from tensorflow.keras.models import Sequential\n",
        "from tensorflow.keras.layers import Dense, LSTM, Dropout, Flatten, BatchNormalization\n",
        "import tensorflow as tf\n",
        "\n",
        "def rmse(true, pred):\n",
        "  RMSE = mean_squared_error(true, pred)** 0.5\n",
        "  return RMSE\n",
        "\n",
        "# shape 맞춰주기\n",
        "X_train_t = X_train.reshape(X_train.shape[0], 18,1 )\n",
        "X_test_t = X_test.reshape(X_test.shape[0], 18,1 )\n",
        "print(X_train_t.shape, X_test_t.shape, y_train.shape, y_test.shape)\n",
        "y_train = y_train.values\n",
        "y_test = y_test.values\n",
        "\n",
        "# LSTM 사용하기\n",
        "model = Sequential()\n",
        "model.add(LSTM(1024, activation = 'relu', input_shape = (X_train_t.shape[1], X_train_t.shape[2], ), return_sequences = True))\n",
        "model.add(LSTM(512, activation = 'relu', return_sequences = True))\n",
        "model.add(Dropout(0.1))\n",
        "model.add(LSTM(256, activation = 'relu', return_sequences = True))\n",
        "model.add(Dropout(0.2))\n",
        "model.add(LSTM(128, activation = 'relu', return_sequences = True))\n",
        "model.add(Dropout(0.3))\n",
        "BatchNormalization()\n",
        "model.add(Dense(1024, activation = 'relu'))\n",
        "model.add(Dense(512, activation = 'relu'))\n",
        "model.add(Dense(256, activation = 'relu'))\n",
        "model.add(Dense(128, activation = 'relu'))\n",
        "model.add(Dropout(0.2))\n",
        "model.add(Dense(64, activation = 'relu'))\n",
        "model.add(Dense(16, activation = 'relu'))\n",
        "\n",
        "model.add(Flatten())\n",
        "model.add(Dense(1))\n",
        "\n",
        "model.compile(loss = 'mae', optimizer = 'adam', metrics = ['mean_squared_error'])\n",
        "print(model.summary())\n",
        "\n",
        "model.fit(X_train_t, y_train, epochs = 50, batch_size = 1, validation_data = (X_test_t, y_test))\n",
        "y_pred = model.predict(X_test_t)"
      ],
      "execution_count": null,
      "outputs": [
        {
          "output_type": "stream",
          "text": [
            "(84, 18, 1) (24, 18, 1) (84,) (24,)\n",
            "WARNING:tensorflow:Layer lstm_4 will not use cuDNN kernels since it doesn't meet the criteria. It will use a generic GPU kernel as fallback when running on GPU.\n",
            "WARNING:tensorflow:Layer lstm_5 will not use cuDNN kernels since it doesn't meet the criteria. It will use a generic GPU kernel as fallback when running on GPU.\n",
            "WARNING:tensorflow:Layer lstm_6 will not use cuDNN kernels since it doesn't meet the criteria. It will use a generic GPU kernel as fallback when running on GPU.\n",
            "WARNING:tensorflow:Layer lstm_7 will not use cuDNN kernels since it doesn't meet the criteria. It will use a generic GPU kernel as fallback when running on GPU.\n",
            "Model: \"sequential_1\"\n",
            "_________________________________________________________________\n",
            "Layer (type)                 Output Shape              Param #   \n",
            "=================================================================\n",
            "lstm_4 (LSTM)                (None, 18, 1024)          4202496   \n",
            "_________________________________________________________________\n",
            "lstm_5 (LSTM)                (None, 18, 512)           3147776   \n",
            "_________________________________________________________________\n",
            "dropout_4 (Dropout)          (None, 18, 512)           0         \n",
            "_________________________________________________________________\n",
            "lstm_6 (LSTM)                (None, 18, 256)           787456    \n",
            "_________________________________________________________________\n",
            "dropout_5 (Dropout)          (None, 18, 256)           0         \n",
            "_________________________________________________________________\n",
            "lstm_7 (LSTM)                (None, 18, 128)           197120    \n",
            "_________________________________________________________________\n",
            "dropout_6 (Dropout)          (None, 18, 128)           0         \n",
            "_________________________________________________________________\n",
            "dense_6 (Dense)              (None, 18, 1024)          132096    \n",
            "_________________________________________________________________\n",
            "dense_7 (Dense)              (None, 18, 512)           524800    \n",
            "_________________________________________________________________\n",
            "dense_8 (Dense)              (None, 18, 256)           131328    \n",
            "_________________________________________________________________\n",
            "dense_9 (Dense)              (None, 18, 128)           32896     \n",
            "_________________________________________________________________\n",
            "dropout_7 (Dropout)          (None, 18, 128)           0         \n",
            "_________________________________________________________________\n",
            "dense_10 (Dense)             (None, 18, 64)            8256      \n",
            "_________________________________________________________________\n",
            "dense_11 (Dense)             (None, 18, 16)            1040      \n",
            "_________________________________________________________________\n",
            "flatten_1 (Flatten)          (None, 288)               0         \n",
            "_________________________________________________________________\n",
            "dense_12 (Dense)             (None, 1)                 289       \n",
            "=================================================================\n",
            "Total params: 9,165,553\n",
            "Trainable params: 9,165,553\n",
            "Non-trainable params: 0\n",
            "_________________________________________________________________\n",
            "None\n",
            "Epoch 1/50\n",
            "84/84 [==============================] - 9s 73ms/step - loss: 106135.1641 - mean_squared_error: 39998287872.0000 - val_loss: 140048.7656 - val_mean_squared_error: 22855133184.0000\n",
            "Epoch 2/50\n",
            "84/84 [==============================] - 6s 70ms/step - loss: 104027.6875 - mean_squared_error: 24498374656.0000 - val_loss: 140841.6719 - val_mean_squared_error: 23126736896.0000\n",
            "Epoch 3/50\n",
            "84/84 [==============================] - 6s 70ms/step - loss: 99463.8594 - mean_squared_error: 17176517632.0000 - val_loss: 142270.9844 - val_mean_squared_error: 23447504896.0000\n",
            "Epoch 4/50\n",
            "84/84 [==============================] - 6s 69ms/step - loss: 75428.1094 - mean_squared_error: 9420123136.0000 - val_loss: 75758.0312 - val_mean_squared_error: 8771288064.0000\n",
            "Epoch 5/50\n",
            "84/84 [==============================] - 6s 69ms/step - loss: 37902.9375 - mean_squared_error: 4344688640.0000 - val_loss: 84272.6094 - val_mean_squared_error: 10220825600.0000\n",
            "Epoch 6/50\n",
            "84/84 [==============================] - 6s 66ms/step - loss: 39277.9102 - mean_squared_error: 3722956288.0000 - val_loss: 51102.2812 - val_mean_squared_error: 4493239296.0000\n",
            "Epoch 7/50\n",
            "84/84 [==============================] - 5s 64ms/step - loss: 35067.2188 - mean_squared_error: 3400353792.0000 - val_loss: 50767.4844 - val_mean_squared_error: 4391629312.0000\n",
            "Epoch 8/50\n",
            "84/84 [==============================] - 5s 64ms/step - loss: 41565.1562 - mean_squared_error: 3650518272.0000 - val_loss: 74945.2109 - val_mean_squared_error: 8537356800.0000\n",
            "Epoch 9/50\n",
            "84/84 [==============================] - 5s 64ms/step - loss: 33138.1406 - mean_squared_error: 3226060800.0000 - val_loss: 54327.9648 - val_mean_squared_error: 5015643136.0000\n",
            "Epoch 10/50\n",
            "84/84 [==============================] - 5s 64ms/step - loss: 34468.2070 - mean_squared_error: 3542328064.0000 - val_loss: 54083.4805 - val_mean_squared_error: 4973465088.0000\n",
            "Epoch 11/50\n",
            "84/84 [==============================] - 5s 65ms/step - loss: 38908.1172 - mean_squared_error: 3134421504.0000 - val_loss: 78059.2891 - val_mean_squared_error: 9005066240.0000\n",
            "Epoch 12/50\n",
            "84/84 [==============================] - 5s 64ms/step - loss: 32654.0117 - mean_squared_error: 3273639168.0000 - val_loss: 43692.8633 - val_mean_squared_error: 3060845568.0000\n",
            "Epoch 13/50\n",
            "84/84 [==============================] - 5s 65ms/step - loss: 36556.5078 - mean_squared_error: 3401592576.0000 - val_loss: 61214.7500 - val_mean_squared_error: 5951454720.0000\n",
            "Epoch 14/50\n",
            "84/84 [==============================] - 6s 71ms/step - loss: 35365.7031 - mean_squared_error: 3856995328.0000 - val_loss: 79080.7031 - val_mean_squared_error: 9060803584.0000\n",
            "Epoch 15/50\n",
            "84/84 [==============================] - 6s 72ms/step - loss: 33236.2109 - mean_squared_error: 3159908096.0000 - val_loss: 82350.5234 - val_mean_squared_error: 9672210432.0000\n",
            "Epoch 16/50\n",
            "84/84 [==============================] - 6s 70ms/step - loss: 35288.3125 - mean_squared_error: 3738267136.0000 - val_loss: 56370.7539 - val_mean_squared_error: 5248663040.0000\n",
            "Epoch 17/50\n",
            "84/84 [==============================] - 6s 71ms/step - loss: 36759.0352 - mean_squared_error: 3865485312.0000 - val_loss: 73240.4219 - val_mean_squared_error: 7896784384.0000\n",
            "Epoch 18/50\n",
            "84/84 [==============================] - 6s 66ms/step - loss: 30985.4844 - mean_squared_error: 2816970240.0000 - val_loss: 49081.9844 - val_mean_squared_error: 3998308608.0000\n",
            "Epoch 19/50\n",
            "84/84 [==============================] - 5s 65ms/step - loss: 33800.2188 - mean_squared_error: 2942371072.0000 - val_loss: 53329.2383 - val_mean_squared_error: 4767181312.0000\n",
            "Epoch 20/50\n",
            "84/84 [==============================] - 6s 66ms/step - loss: 32658.1465 - mean_squared_error: 2942157824.0000 - val_loss: 72076.0156 - val_mean_squared_error: 7590711808.0000\n",
            "Epoch 21/50\n",
            "84/84 [==============================] - 5s 64ms/step - loss: 33285.0625 - mean_squared_error: 3290490880.0000 - val_loss: 52912.0742 - val_mean_squared_error: 4708177408.0000\n",
            "Epoch 22/50\n",
            "84/84 [==============================] - 6s 66ms/step - loss: 32113.3633 - mean_squared_error: 3310178816.0000 - val_loss: 47136.2695 - val_mean_squared_error: 3790421760.0000\n",
            "Epoch 23/50\n",
            "84/84 [==============================] - 5s 64ms/step - loss: 32891.9570 - mean_squared_error: 2846051072.0000 - val_loss: 65385.8281 - val_mean_squared_error: 6478709248.0000\n",
            "Epoch 24/50\n",
            "84/84 [==============================] - 5s 64ms/step - loss: 33001.1211 - mean_squared_error: 2852792320.0000 - val_loss: 67823.1719 - val_mean_squared_error: 6875318784.0000\n",
            "Epoch 25/50\n",
            "84/84 [==============================] - 6s 67ms/step - loss: 30922.1992 - mean_squared_error: 2916285952.0000 - val_loss: 56786.3281 - val_mean_squared_error: 5216072704.0000\n",
            "Epoch 26/50\n",
            "84/84 [==============================] - 6s 70ms/step - loss: 35223.6484 - mean_squared_error: 3302845184.0000 - val_loss: 69756.6328 - val_mean_squared_error: 7314723328.0000\n",
            "Epoch 27/50\n",
            "84/84 [==============================] - 6s 70ms/step - loss: 32595.9316 - mean_squared_error: 3326924032.0000 - val_loss: 66727.5781 - val_mean_squared_error: 6701145600.0000\n",
            "Epoch 28/50\n",
            "84/84 [==============================] - 6s 70ms/step - loss: 31924.9258 - mean_squared_error: 2577405440.0000 - val_loss: 54122.0469 - val_mean_squared_error: 4739660288.0000\n",
            "Epoch 29/50\n",
            "84/84 [==============================] - 6s 69ms/step - loss: 30793.6836 - mean_squared_error: 3036485632.0000 - val_loss: 40905.2852 - val_mean_squared_error: 2948895744.0000\n",
            "Epoch 30/50\n",
            "84/84 [==============================] - 6s 66ms/step - loss: 31340.4082 - mean_squared_error: 3225374208.0000 - val_loss: 63972.3281 - val_mean_squared_error: 6265385472.0000\n",
            "Epoch 31/50\n",
            "84/84 [==============================] - 6s 66ms/step - loss: 29331.3984 - mean_squared_error: 2814814208.0000 - val_loss: 40695.2148 - val_mean_squared_error: 3020538624.0000\n",
            "Epoch 32/50\n",
            "84/84 [==============================] - 5s 64ms/step - loss: 29639.8418 - mean_squared_error: 2751431936.0000 - val_loss: 49923.9570 - val_mean_squared_error: 3993820416.0000\n",
            "Epoch 33/50\n",
            "84/84 [==============================] - 6s 66ms/step - loss: 28986.6719 - mean_squared_error: 2772645120.0000 - val_loss: 47811.3438 - val_mean_squared_error: 3627744256.0000\n",
            "Epoch 34/50\n",
            "84/84 [==============================] - 5s 64ms/step - loss: 33945.3984 - mean_squared_error: 3166151936.0000 - val_loss: 74256.5938 - val_mean_squared_error: 7834912768.0000\n",
            "Epoch 35/50\n",
            "84/84 [==============================] - 5s 65ms/step - loss: 30663.7207 - mean_squared_error: 3022939904.0000 - val_loss: 52939.0156 - val_mean_squared_error: 4610134528.0000\n",
            "Epoch 36/50\n",
            "84/84 [==============================] - 5s 64ms/step - loss: 28864.9551 - mean_squared_error: 2736297472.0000 - val_loss: 47890.9688 - val_mean_squared_error: 3734863616.0000\n",
            "Epoch 37/50\n",
            "84/84 [==============================] - 6s 69ms/step - loss: 29648.5977 - mean_squared_error: 2677563136.0000 - val_loss: 59983.7461 - val_mean_squared_error: 5522540032.0000\n",
            "Epoch 38/50\n",
            "84/84 [==============================] - 6s 70ms/step - loss: 38582.9336 - mean_squared_error: 10123021312.0000 - val_loss: 66836.1562 - val_mean_squared_error: 6882692608.0000\n",
            "Epoch 39/50\n",
            "84/84 [==============================] - 6s 70ms/step - loss: 35180.7070 - mean_squared_error: 3193596672.0000 - val_loss: 93982.0234 - val_mean_squared_error: 11658832896.0000\n",
            "Epoch 40/50\n",
            "84/84 [==============================] - 6s 69ms/step - loss: 33809.9961 - mean_squared_error: 3469854720.0000 - val_loss: 43230.1367 - val_mean_squared_error: 3156656128.0000\n",
            "Epoch 41/50\n",
            "84/84 [==============================] - 6s 70ms/step - loss: 34062.8867 - mean_squared_error: 3269886464.0000 - val_loss: 65648.5234 - val_mean_squared_error: 6606399488.0000\n",
            "Epoch 42/50\n",
            "84/84 [==============================] - 5s 65ms/step - loss: 33070.4453 - mean_squared_error: 3098858752.0000 - val_loss: 76453.6250 - val_mean_squared_error: 8348580352.0000\n",
            "Epoch 43/50\n",
            "84/84 [==============================] - 6s 67ms/step - loss: 34221.6484 - mean_squared_error: 3300712448.0000 - val_loss: 60948.5117 - val_mean_squared_error: 5819161088.0000\n",
            "Epoch 44/50\n",
            "84/84 [==============================] - 6s 67ms/step - loss: 31731.3691 - mean_squared_error: 3181106176.0000 - val_loss: 50923.8633 - val_mean_squared_error: 4320284672.0000\n",
            "Epoch 45/50\n",
            "84/84 [==============================] - 6s 67ms/step - loss: 31172.3066 - mean_squared_error: 2590938368.0000 - val_loss: 44242.6055 - val_mean_squared_error: 3427131136.0000\n",
            "Epoch 46/50\n",
            "84/84 [==============================] - 5s 66ms/step - loss: 34102.1602 - mean_squared_error: 2767365376.0000 - val_loss: 66414.7422 - val_mean_squared_error: 6690907648.0000\n",
            "Epoch 47/50\n",
            "84/84 [==============================] - 6s 67ms/step - loss: 31359.8574 - mean_squared_error: 3135500800.0000 - val_loss: 59778.6094 - val_mean_squared_error: 5593094656.0000\n",
            "Epoch 48/50\n",
            "84/84 [==============================] - 5s 66ms/step - loss: 31666.9277 - mean_squared_error: 3218291712.0000 - val_loss: 47622.3945 - val_mean_squared_error: 3937191168.0000\n",
            "Epoch 49/50\n",
            "84/84 [==============================] - 6s 71ms/step - loss: 32421.7227 - mean_squared_error: 2934338304.0000 - val_loss: 59231.8320 - val_mean_squared_error: 5612404224.0000\n",
            "Epoch 50/50\n",
            "84/84 [==============================] - 6s 71ms/step - loss: 30140.2344 - mean_squared_error: 3014649088.0000 - val_loss: 62764.8242 - val_mean_squared_error: 6057953792.0000\n"
          ],
          "name": "stdout"
        }
      ]
    },
    {
      "cell_type": "code",
      "metadata": {
        "id": "91BkUI3yqhdX"
      },
      "source": [
        "y_pred = model.predict(X_test_t)"
      ],
      "execution_count": null,
      "outputs": []
    },
    {
      "cell_type": "code",
      "metadata": {
        "colab": {
          "base_uri": "https://localhost:8080/"
        },
        "id": "oM5kwCoProCV",
        "outputId": "daa482a1-e0af-4cd4-cbf1-66d412e7320d"
      },
      "source": [
        "modeling.rmse(y_test, y_pred)"
      ],
      "execution_count": null,
      "outputs": [
        {
          "output_type": "execute_result",
          "data": {
            "text/plain": [
              "77832.86031008865"
            ]
          },
          "metadata": {
            "tags": []
          },
          "execution_count": 19
        }
      ]
    },
    {
      "cell_type": "code",
      "metadata": {
        "id": "Ql600rs8ro1e"
      },
      "source": [
        "y_test"
      ],
      "execution_count": null,
      "outputs": []
    },
    {
      "cell_type": "code",
      "metadata": {
        "id": "spHiNjq1YnEt"
      },
      "source": [
        "import numpy as np\n",
        "import pandas as pd\n",
        "import matplotlib.pyplot as plt\n",
        "import seaborn as sns"
      ],
      "execution_count": null,
      "outputs": []
    },
    {
      "cell_type": "code",
      "metadata": {
        "id": "2m-LIzqNsCWd"
      },
      "source": [
        "data = pd.read_csv('/content/drive/MyDrive/Proj_WT/DataSets/박정열/DuckSooGung.csv')\n",
        "minmax = pd.read_csv('/content/drive/MyDrive/sd솔데스크/팀 프로젝트/DuckSooGung_minmax.csv')\n",
        "robust = pd.read_csv('/content/drive/MyDrive/sd솔데스크/팀 프로젝트/DuckSooGung_robust.csv')\n",
        "standard = pd.read_csv('/content/drive/MyDrive/sd솔데스크/팀 프로젝트/DuckSooGung_standard.csv')"
      ],
      "execution_count": null,
      "outputs": []
    },
    {
      "cell_type": "code",
      "metadata": {
        "id": "V-u7EJKQ8lGM"
      },
      "source": [
        "final_model.run(data)"
      ],
      "execution_count": null,
      "outputs": []
    },
    {
      "cell_type": "code",
      "metadata": {
        "id": "N1E2TtMX9b8P"
      },
      "source": [
        "final_model.run(minmax)"
      ],
      "execution_count": null,
      "outputs": []
    },
    {
      "cell_type": "code",
      "metadata": {
        "id": "UzujvtyC9jq_"
      },
      "source": [
        "final_model.run(robust)"
      ],
      "execution_count": null,
      "outputs": []
    },
    {
      "cell_type": "code",
      "metadata": {
        "id": "gG2yU1KM9nke"
      },
      "source": [
        "final_model.run(standard)"
      ],
      "execution_count": null,
      "outputs": []
    },
    {
      "cell_type": "markdown",
      "metadata": {
        "id": "jh1zabyiqGV4"
      },
      "source": [
        "# 덕수궁"
      ]
    },
    {
      "cell_type": "code",
      "metadata": {
        "id": "LOlGlxQ89r7K"
      },
      "source": [
        "import numpy as np\n",
        "import pandas as pd\n",
        "import matplotlib.pyplot as plt\n",
        "import seaborn as sns\n",
        "import warnings\n",
        "warnings.filterwarnings('ignore')\n",
        "\n",
        "data = pd.read_csv('/content/drive/MyDrive/Proj_WT/DataSets/Seoul/DuckSooGung.csv')\n",
        "data = data.rename(columns = {'덕수궁': 'target'})"
      ],
      "execution_count": null,
      "outputs": []
    },
    {
      "cell_type": "code",
      "metadata": {
        "colab": {
          "base_uri": "https://localhost:8080/"
        },
        "id": "inYgxkFnqbSA",
        "outputId": "a7db5868-5125-4f25-d7b7-753da9d0eae2"
      },
      "source": [
        "class_all_model.run(data)"
      ],
      "execution_count": null,
      "outputs": [
        {
          "output_type": "stream",
          "text": [
            "[16:17:21] WARNING: /workspace/src/objective/regression_obj.cu:152: reg:linear is now deprecated in favor of reg:squarederror.\n"
          ],
          "name": "stdout"
        },
        {
          "output_type": "execute_result",
          "data": {
            "text/plain": [
              "({'ada': 224585.722496841,\n",
              "  'gb': 77063.6067796669,\n",
              "  'lasso': 70501.39790144832,\n",
              "  'lgb': 51185.51714162037,\n",
              "  'lr': 74242.29232787085,\n",
              "  'rfg': 141060.59677013435,\n",
              "  'ridge': 71322.55389608078,\n",
              "  'xgb': 183519.7032949889},\n",
              " {'ada': -14.730353456857591,\n",
              "  'gb': -0.8521359293379394,\n",
              "  'lasso': -0.5501354584667435,\n",
              "  'lgb': 0.18291284173092925,\n",
              "  'lr': -0.7190042077287433,\n",
              "  'rfg': -5.2056264248762165,\n",
              "  'ridge': -0.5864557598997424,\n",
              "  'xgb': -9.50363425623923},\n",
              " {'ada': AdaBoostRegressor(base_estimator=None, learning_rate=1.0, loss='linear',\n",
              "                    n_estimators=50, random_state=42),\n",
              "  'gb': GradientBoostingRegressor(alpha=0.9, ccp_alpha=0.0, criterion='friedman_mse',\n",
              "                            init=None, learning_rate=0.1, loss='ls', max_depth=3,\n",
              "                            max_features=None, max_leaf_nodes=None,\n",
              "                            min_impurity_decrease=0.0, min_impurity_split=None,\n",
              "                            min_samples_leaf=1, min_samples_split=2,\n",
              "                            min_weight_fraction_leaf=0.0, n_estimators=100,\n",
              "                            n_iter_no_change=None, presort='deprecated',\n",
              "                            random_state=42, subsample=1.0, tol=0.0001,\n",
              "                            validation_fraction=0.1, verbose=0, warm_start=False),\n",
              "  'lasso': Lasso(alpha=1.0, copy_X=True, fit_intercept=True, max_iter=1000,\n",
              "        normalize=False, positive=False, precompute=False, random_state=None,\n",
              "        selection='cyclic', tol=0.0001, warm_start=False),\n",
              "  'lgb': LGBMRegressor(boosting_type='gbdt', class_weight=None, colsample_bytree=1.0,\n",
              "                importance_type='split', learning_rate=0.1, max_depth=-1,\n",
              "                min_child_samples=20, min_child_weight=0.001, min_split_gain=0.0,\n",
              "                n_estimators=100, n_jobs=-1, num_leaves=31, objective=None,\n",
              "                random_state=42, reg_alpha=0.0, reg_lambda=0.0, silent=True,\n",
              "                subsample=1.0, subsample_for_bin=200000, subsample_freq=0),\n",
              "  'lr': LinearRegression(copy_X=True, fit_intercept=True, n_jobs=None, normalize=False),\n",
              "  'rfg': RandomForestRegressor(bootstrap=True, ccp_alpha=0.0, criterion='mse',\n",
              "                        max_depth=None, max_features='auto', max_leaf_nodes=None,\n",
              "                        max_samples=None, min_impurity_decrease=0.0,\n",
              "                        min_impurity_split=None, min_samples_leaf=1,\n",
              "                        min_samples_split=2, min_weight_fraction_leaf=0.0,\n",
              "                        n_estimators=100, n_jobs=None, oob_score=False,\n",
              "                        random_state=42, verbose=0, warm_start=False),\n",
              "  'ridge': Ridge(alpha=1.0, copy_X=True, fit_intercept=True, max_iter=None,\n",
              "        normalize=False, random_state=42, solver='auto', tol=0.001),\n",
              "  'xgb': XGBRegressor(base_score=0.5, booster='gbtree', colsample_bylevel=1,\n",
              "               colsample_bynode=1, colsample_bytree=1, gamma=0,\n",
              "               importance_type='gain', learning_rate=0.1, max_delta_step=0,\n",
              "               max_depth=3, min_child_weight=1, missing=None, n_estimators=100,\n",
              "               n_jobs=1, nthread=None, objective='reg:linear', random_state=42,\n",
              "               reg_alpha=0, reg_lambda=1, scale_pos_weight=1, seed=None,\n",
              "               silent=None, subsample=1, tree_method='gpu_hist', verbosity=1)})"
            ]
          },
          "metadata": {
            "tags": []
          },
          "execution_count": 110
        }
      ]
    },
    {
      "cell_type": "code",
      "metadata": {
        "colab": {
          "base_uri": "https://localhost:8080/"
        },
        "id": "KBr3goPqil1u",
        "outputId": "972ccd46-78b4-4b75-b4c1-d10d6995fb39"
      },
      "source": [
        "!pip install smogn"
      ],
      "execution_count": null,
      "outputs": [
        {
          "output_type": "stream",
          "text": [
            "Requirement already satisfied: smogn in /usr/local/lib/python3.7/dist-packages (0.1.2)\n",
            "Requirement already satisfied: numpy in /usr/local/lib/python3.7/dist-packages (from smogn) (1.19.5)\n",
            "Requirement already satisfied: pandas in /usr/local/lib/python3.7/dist-packages (from smogn) (1.1.5)\n",
            "Requirement already satisfied: tqdm in /usr/local/lib/python3.7/dist-packages (from smogn) (4.41.1)\n",
            "Requirement already satisfied: pytz>=2017.2 in /usr/local/lib/python3.7/dist-packages (from pandas->smogn) (2018.9)\n",
            "Requirement already satisfied: python-dateutil>=2.7.3 in /usr/local/lib/python3.7/dist-packages (from pandas->smogn) (2.8.1)\n",
            "Requirement already satisfied: six>=1.5 in /usr/local/lib/python3.7/dist-packages (from python-dateutil>=2.7.3->pandas->smogn) (1.15.0)\n"
          ],
          "name": "stdout"
        }
      ]
    },
    {
      "cell_type": "code",
      "metadata": {
        "id": "Qf3EFjCDhq_6"
      },
      "source": [
        "import smogn\n",
        "\n",
        "train = data[data['date'] < 201901]\n",
        "test = data[data['date'] >= 201901]\n",
        "train = train.drop(['month','date'], axis = 1)\n",
        "test = test.drop(['month','date'], axis = 1)\n",
        "X_train ,y_train = train.drop('target', axis = 1), train['target']\n",
        "X_test, y_test = test.drop('target', axis = 1), test['target']"
      ],
      "execution_count": null,
      "outputs": []
    },
    {
      "cell_type": "code",
      "metadata": {
        "colab": {
          "base_uri": "https://localhost:8080/"
        },
        "id": "DrYW5L-q54LD",
        "outputId": "9d096c21-8b06-43f9-bdae-6f074a7a8f82"
      },
      "source": [
        "models = class_all_model.models()\n",
        "\n",
        "model_rmse = {}\n",
        "model_score = {}\n",
        "for i, j in models.items():\n",
        "  # 각 모델의 y_pred를 구한다.\n",
        "  model = j\n",
        "  model.fit(X_train, y_train)\n",
        "  y_pred = model.predict(X_test)\n",
        "  \n",
        "  # 전체 모델을 돌려서 각 모델별로 rmse, score,model을 저장한다.\n",
        "  model_rmse[i] = mean_squared_error(y_test, y_pred)** 0.5\n",
        "  model_score[i] = model.score(X_test, y_test)\n",
        "  \n",
        "print('model_rmse :', model_rmse)\n",
        "print('model_score :', model_score)"
      ],
      "execution_count": null,
      "outputs": [
        {
          "output_type": "stream",
          "text": [
            "[16:17:26] WARNING: /workspace/src/objective/regression_obj.cu:152: reg:linear is now deprecated in favor of reg:squarederror.\n",
            "model_rmse : {'lr': 74160.00019264375, 'lgb': 61057.23322236646, 'xgb': 66278.76019361427, 'lasso': 75045.11085195819, 'ridge': 74389.146065587, 'ada': 74795.60547318045, 'rfg': 65733.30726960927, 'gb': 70187.26446845564}\n",
            "model_score : {'lr': -0.8250846109029204, 'lgb': -0.23713701109674679, 'xgb': -0.4577810837277827, 'lasso': -0.8689099040519177, 'ridge': -0.8363806388590809, 'ada': -0.856503288875875, 'rfg': -0.43388567488821095, 'gb': -0.6347832943427236}\n"
          ],
          "name": "stdout"
        }
      ]
    },
    {
      "cell_type": "code",
      "metadata": {
        "colab": {
          "base_uri": "https://localhost:8080/"
        },
        "id": "oSreAdLYiidk",
        "outputId": "e75a57c7-1012-4d3d-d8b1-f8fc6b213a04"
      },
      "source": [
        "## SMOTE를 사용해서 해주기\n",
        "덕수궁_data = smogn.smoter(data = train, y = 'target', k = 10, samp_method = 'extreme', rel_thres = 0.70, rel_method = 'auto', rel_xtrm_type = 'high', rel_coef = 3)"
      ],
      "execution_count": null,
      "outputs": [
        {
          "output_type": "stream",
          "text": [
            "dist_matrix: 100%|##########| 7/7 [00:00<00:00, 193.08it/s]\n",
            "synth_matrix: 100%|##########| 7/7 [00:00<00:00, 24.46it/s]\n",
            "r_index: 100%|##########| 4/4 [00:00<00:00, 227.80it/s]\n"
          ],
          "name": "stderr"
        }
      ]
    },
    {
      "cell_type": "code",
      "metadata": {
        "colab": {
          "base_uri": "https://localhost:8080/",
          "height": 408
        },
        "id": "AS3axsjasRQo",
        "outputId": "8228377d-7679-48b7-def6-3f23d3595c7b"
      },
      "source": [
        "덕수궁_data"
      ],
      "execution_count": null,
      "outputs": [
        {
          "output_type": "execute_result",
          "data": {
            "text/html": [
              "<div>\n",
              "<style scoped>\n",
              "    .dataframe tbody tr th:only-of-type {\n",
              "        vertical-align: middle;\n",
              "    }\n",
              "\n",
              "    .dataframe tbody tr th {\n",
              "        vertical-align: top;\n",
              "    }\n",
              "\n",
              "    .dataframe thead th {\n",
              "        text-align: right;\n",
              "    }\n",
              "</style>\n",
              "<table border=\"1\" class=\"dataframe\">\n",
              "  <thead>\n",
              "    <tr style=\"text-align: right;\">\n",
              "      <th></th>\n",
              "      <th>최고 기온(°C)</th>\n",
              "      <th>평균 기온(°C)</th>\n",
              "      <th>최소 상대습도(%)</th>\n",
              "      <th>평균 상대습도(%)</th>\n",
              "      <th>일강수량(mm)</th>\n",
              "      <th>평균 풍속(m/s)</th>\n",
              "      <th>합계 일조 시간(hr)</th>\n",
              "      <th>최대 풍속(m/s)</th>\n",
              "      <th>합계 일사량(MJ/m2)</th>\n",
              "      <th>0.5m 지중온도(°C)</th>\n",
              "      <th>target</th>\n",
              "    </tr>\n",
              "  </thead>\n",
              "  <tbody>\n",
              "    <tr>\n",
              "      <th>0</th>\n",
              "      <td>22.356044</td>\n",
              "      <td>16.585903</td>\n",
              "      <td>32.527937</td>\n",
              "      <td>56.655448</td>\n",
              "      <td>11.966790</td>\n",
              "      <td>2.449521</td>\n",
              "      <td>8.421721</td>\n",
              "      <td>5.266968</td>\n",
              "      <td>16.655951</td>\n",
              "      <td>17.018869</td>\n",
              "      <td>163876</td>\n",
              "    </tr>\n",
              "    <tr>\n",
              "      <th>1</th>\n",
              "      <td>25.630284</td>\n",
              "      <td>19.497720</td>\n",
              "      <td>31.241502</td>\n",
              "      <td>56.216743</td>\n",
              "      <td>14.567704</td>\n",
              "      <td>2.379419</td>\n",
              "      <td>9.069953</td>\n",
              "      <td>5.137819</td>\n",
              "      <td>19.165195</td>\n",
              "      <td>18.672576</td>\n",
              "      <td>163122</td>\n",
              "    </tr>\n",
              "    <tr>\n",
              "      <th>2</th>\n",
              "      <td>25.595532</td>\n",
              "      <td>19.577032</td>\n",
              "      <td>31.298650</td>\n",
              "      <td>56.286808</td>\n",
              "      <td>14.612368</td>\n",
              "      <td>2.364609</td>\n",
              "      <td>9.066910</td>\n",
              "      <td>5.146405</td>\n",
              "      <td>19.232720</td>\n",
              "      <td>18.806395</td>\n",
              "      <td>163450</td>\n",
              "    </tr>\n",
              "    <tr>\n",
              "      <th>3</th>\n",
              "      <td>25.845810</td>\n",
              "      <td>19.555478</td>\n",
              "      <td>31.310623</td>\n",
              "      <td>56.209844</td>\n",
              "      <td>14.554236</td>\n",
              "      <td>2.370855</td>\n",
              "      <td>9.052139</td>\n",
              "      <td>5.139776</td>\n",
              "      <td>19.195267</td>\n",
              "      <td>18.735464</td>\n",
              "      <td>164776</td>\n",
              "    </tr>\n",
              "    <tr>\n",
              "      <th>4</th>\n",
              "      <td>25.756218</td>\n",
              "      <td>19.752679</td>\n",
              "      <td>31.188856</td>\n",
              "      <td>56.279086</td>\n",
              "      <td>14.534488</td>\n",
              "      <td>2.366888</td>\n",
              "      <td>9.057407</td>\n",
              "      <td>5.157907</td>\n",
              "      <td>19.082977</td>\n",
              "      <td>18.686121</td>\n",
              "      <td>158103</td>\n",
              "    </tr>\n",
              "    <tr>\n",
              "      <th>...</th>\n",
              "      <td>...</td>\n",
              "      <td>...</td>\n",
              "      <td>...</td>\n",
              "      <td>...</td>\n",
              "      <td>...</td>\n",
              "      <td>...</td>\n",
              "      <td>...</td>\n",
              "      <td>...</td>\n",
              "      <td>...</td>\n",
              "      <td>...</td>\n",
              "      <td>...</td>\n",
              "    </tr>\n",
              "    <tr>\n",
              "      <th>91</th>\n",
              "      <td>33.303226</td>\n",
              "      <td>28.761290</td>\n",
              "      <td>45.161290</td>\n",
              "      <td>64.719355</td>\n",
              "      <td>12.662500</td>\n",
              "      <td>1.690323</td>\n",
              "      <td>7.500000</td>\n",
              "      <td>4.006452</td>\n",
              "      <td>16.682581</td>\n",
              "      <td>28.416129</td>\n",
              "      <td>69297</td>\n",
              "    </tr>\n",
              "    <tr>\n",
              "      <th>92</th>\n",
              "      <td>26.040000</td>\n",
              "      <td>21.496667</td>\n",
              "      <td>38.900000</td>\n",
              "      <td>60.660000</td>\n",
              "      <td>5.708333</td>\n",
              "      <td>1.563333</td>\n",
              "      <td>7.290000</td>\n",
              "      <td>3.450000</td>\n",
              "      <td>15.698667</td>\n",
              "      <td>24.016667</td>\n",
              "      <td>184077</td>\n",
              "    </tr>\n",
              "    <tr>\n",
              "      <th>93</th>\n",
              "      <td>18.612903</td>\n",
              "      <td>13.054839</td>\n",
              "      <td>34.354839</td>\n",
              "      <td>59.348387</td>\n",
              "      <td>10.954545</td>\n",
              "      <td>1.545161</td>\n",
              "      <td>7.803226</td>\n",
              "      <td>3.829032</td>\n",
              "      <td>13.010968</td>\n",
              "      <td>17.600000</td>\n",
              "      <td>179495</td>\n",
              "    </tr>\n",
              "    <tr>\n",
              "      <th>94</th>\n",
              "      <td>13.153333</td>\n",
              "      <td>7.793333</td>\n",
              "      <td>32.733333</td>\n",
              "      <td>57.480000</td>\n",
              "      <td>8.788889</td>\n",
              "      <td>1.396667</td>\n",
              "      <td>5.920000</td>\n",
              "      <td>3.496667</td>\n",
              "      <td>8.845000</td>\n",
              "      <td>11.693333</td>\n",
              "      <td>141650</td>\n",
              "    </tr>\n",
              "    <tr>\n",
              "      <th>95</th>\n",
              "      <td>4.087097</td>\n",
              "      <td>-0.606452</td>\n",
              "      <td>26.483871</td>\n",
              "      <td>45.758065</td>\n",
              "      <td>2.733333</td>\n",
              "      <td>1.803226</td>\n",
              "      <td>6.448387</td>\n",
              "      <td>3.900000</td>\n",
              "      <td>8.181935</td>\n",
              "      <td>5.051613</td>\n",
              "      <td>129213</td>\n",
              "    </tr>\n",
              "  </tbody>\n",
              "</table>\n",
              "<p>169 rows × 11 columns</p>\n",
              "</div>"
            ],
            "text/plain": [
              "    최고 기온(°C)  평균 기온(°C)  최소 상대습도(%)  ...  합계 일사량(MJ/m2)  0.5m 지중온도(°C)  target\n",
              "0   22.356044  16.585903   32.527937  ...      16.655951      17.018869  163876\n",
              "1   25.630284  19.497720   31.241502  ...      19.165195      18.672576  163122\n",
              "2   25.595532  19.577032   31.298650  ...      19.232720      18.806395  163450\n",
              "3   25.845810  19.555478   31.310623  ...      19.195267      18.735464  164776\n",
              "4   25.756218  19.752679   31.188856  ...      19.082977      18.686121  158103\n",
              "..        ...        ...         ...  ...            ...            ...     ...\n",
              "91  33.303226  28.761290   45.161290  ...      16.682581      28.416129   69297\n",
              "92  26.040000  21.496667   38.900000  ...      15.698667      24.016667  184077\n",
              "93  18.612903  13.054839   34.354839  ...      13.010968      17.600000  179495\n",
              "94  13.153333   7.793333   32.733333  ...       8.845000      11.693333  141650\n",
              "95   4.087097  -0.606452   26.483871  ...       8.181935       5.051613  129213\n",
              "\n",
              "[169 rows x 11 columns]"
            ]
          },
          "metadata": {
            "tags": []
          },
          "execution_count": 126
        }
      ]
    },
    {
      "cell_type": "code",
      "metadata": {
        "colab": {
          "base_uri": "https://localhost:8080/"
        },
        "id": "52R9Zp95i7XO",
        "outputId": "9852157a-064d-4383-bad8-52413fc8c783"
      },
      "source": [
        "X_train , y_train = 덕수궁_data.drop('target', axis = 1), 덕수궁_data['target']\n",
        "\n",
        "models = class_all_model.models()\n",
        "\n",
        "model_rmse = {}\n",
        "model_score = {}\n",
        "for i, j in models.items():\n",
        "  # 각 모델의 y_pred를 구한다.\n",
        "  model = j\n",
        "  model.fit(X_train, y_train)\n",
        "  y_pred = model.predict(X_test)\n",
        "  \n",
        "  # 전체 모델을 돌려서 각 모델별로 rmse, score,model을 저장한다.\n",
        "  model_rmse[i] = mean_squared_error(y_test, y_pred)** 0.5\n",
        "  model_score[i] = model.score(X_test, y_test)\n",
        "  \n",
        "print('model_rmse :', model_rmse)\n",
        "print('model_score :', model_score)"
      ],
      "execution_count": null,
      "outputs": [
        {
          "output_type": "stream",
          "text": [
            "[16:18:48] WARNING: /workspace/src/objective/regression_obj.cu:152: reg:linear is now deprecated in favor of reg:squarederror.\n",
            "model_rmse : {'lr': 54944.17555566142, 'lgb': 64415.05119181698, 'xgb': 67445.72865591424, 'lasso': 57706.800975326325, 'ridge': 54773.176520593595, 'ada': 70598.26190525935, 'rfg': 71104.28279485994, 'gb': 70020.03075601942}\n",
            "model_score : {'lr': -0.0018135025668910565, 'lgb': -0.37695031951477387, 'xgb': -0.5095672336619534, 'lasso': -0.10508976751182031, 'ridge': 0.004412546458634314, 'ada': -0.6539850385910821, 'rfg': -0.6777802547207312, 'gb': -0.6270022480211994}\n"
          ],
          "name": "stdout"
        }
      ]
    },
    {
      "cell_type": "code",
      "metadata": {
        "colab": {
          "base_uri": "https://localhost:8080/",
          "height": 313
        },
        "id": "5nU4EuM_qd37",
        "outputId": "8f0bc03d-69f6-425f-ff50-739893ae5908"
      },
      "source": [
        "sns.distplot(data['target'])\n",
        "plt.title('target')"
      ],
      "execution_count": null,
      "outputs": [
        {
          "output_type": "execute_result",
          "data": {
            "text/plain": [
              "Text(0.5, 1.0, 'target')"
            ]
          },
          "metadata": {
            "tags": []
          },
          "execution_count": 127
        },
        {
          "output_type": "display_data",
          "data": {
            "image/png": "[encoded data removed]",
            "text/plain": [
              "<Figure size 432x288 with 1 Axes>"
            ]
          },
          "metadata": {
            "tags": [],
            "needs_background": "light"
          }
        }
      ]
    },
    {
      "cell_type": "code",
      "metadata": {
        "colab": {
          "base_uri": "https://localhost:8080/",
          "height": 297
        },
        "id": "O6VYWeIfsN0v",
        "outputId": "0066b497-58ba-4d42-f584-6932857a9673"
      },
      "source": [
        "sns.boxenplot(data['target'])"
      ],
      "execution_count": null,
      "outputs": [
        {
          "output_type": "execute_result",
          "data": {
            "text/plain": [
              "<matplotlib.axes._subplots.AxesSubplot at 0x7f56a5477d50>"
            ]
          },
          "metadata": {
            "tags": []
          },
          "execution_count": 133
        },
        {
          "output_type": "display_data",
          "data": {
            "image/png": "[encoded data removed]",
            "text/plain": [
              "<Figure size 432x288 with 1 Axes>"
            ]
          },
          "metadata": {
            "tags": [],
            "needs_background": "light"
          }
        }
      ]
    },
    {
      "cell_type": "code",
      "metadata": {
        "colab": {
          "base_uri": "https://localhost:8080/"
        },
        "id": "YqlsiF6IwjDY",
        "outputId": "8df183b7-4bc2-46e7-9dcf-c898e9254666"
      },
      "source": [
        "!pip install smogn"
      ],
      "execution_count": null,
      "outputs": [
        {
          "output_type": "stream",
          "text": [
            "Collecting smogn\n",
            "  Downloading smogn-0.1.2-py3-none-any.whl (30 kB)\n",
            "Requirement already satisfied: numpy in /usr/local/lib/python3.7/dist-packages (from smogn) (1.19.5)\n",
            "Requirement already satisfied: pandas in /usr/local/lib/python3.7/dist-packages (from smogn) (1.1.5)\n",
            "Requirement already satisfied: tqdm in /usr/local/lib/python3.7/dist-packages (from smogn) (4.41.1)\n",
            "Requirement already satisfied: pytz>=2017.2 in /usr/local/lib/python3.7/dist-packages (from pandas->smogn) (2018.9)\n",
            "Requirement already satisfied: python-dateutil>=2.7.3 in /usr/local/lib/python3.7/dist-packages (from pandas->smogn) (2.8.1)\n",
            "Requirement already satisfied: six>=1.5 in /usr/local/lib/python3.7/dist-packages (from python-dateutil>=2.7.3->pandas->smogn) (1.15.0)\n",
            "Installing collected packages: smogn\n",
            "Successfully installed smogn-0.1.2\n"
          ],
          "name": "stdout"
        }
      ]
    },
    {
      "cell_type": "code",
      "metadata": {
        "id": "GaJm5YljwF3g"
      },
      "source": [
        "import smogn\n",
        "덕수궁_data = smogn.smoter(data = data, y = 'target', k = 9, samp_method = 'extreme', rel_thres = 0.70, rel_method = 'auto', rel_xtrm_type = 'high', rel_coef = 3)"
      ],
      "execution_count": null,
      "outputs": []
    },
    {
      "cell_type": "code",
      "metadata": {
        "colab": {
          "base_uri": "https://localhost:8080/"
        },
        "id": "9FYKiW0SwiHs",
        "outputId": "839c95a3-1dcc-487d-c8d6-a1c4f7a35f0a"
      },
      "source": [
        "print(덕수궁_data.columns, data.columns)"
      ],
      "execution_count": null,
      "outputs": [
        {
          "output_type": "stream",
          "text": [
            "Index(['date', 'month', '최고 기온(°C)', '평균 기온(°C)', '최소 상대습도(%)', '평균 상대습도(%)',\n",
            "       '일강수량(mm)', '평균 풍속(m/s)', '합계 일조 시간(hr)', '최대 풍속(m/s)', '합계 일사량(MJ/m2)',\n",
            "       '0.5m 지중온도(°C)', 'target'],\n",
            "      dtype='object') Index(['date', 'month', '최고 기온(°C)', '평균 기온(°C)', '최소 상대습도(%)', '평균 상대습도(%)',\n",
            "       '일강수량(mm)', '평균 풍속(m/s)', '합계 일조 시간(hr)', '최대 풍속(m/s)', '합계 일사량(MJ/m2)',\n",
            "       '0.5m 지중온도(°C)', 'target'],\n",
            "      dtype='object')\n"
          ],
          "name": "stdout"
        }
      ]
    },
    {
      "cell_type": "code",
      "metadata": {
        "id": "N66PAM23w1Gp"
      },
      "source": [
        "smote_data = 덕수궁_data.drop(['date','month'], axis = 1)\n",
        "data = data.drop(['date','month'], axis = 1)"
      ],
      "execution_count": null,
      "outputs": []
    },
    {
      "cell_type": "code",
      "metadata": {
        "colab": {
          "base_uri": "https://localhost:8080/"
        },
        "id": "_3NQDa83zl-j",
        "outputId": "3f0112fd-8219-4903-f718-c340130e8487"
      },
      "source": [
        "from sklearn.model_selection import train_test_split\n",
        "\n",
        "X_train, X_test, y_train, y_test = train_test_split(data.drop('target', axis = 1), data['target'], test_size = 0.2, random_state = 42)\n",
        "models = class_all_model.models()\n",
        "\n",
        "model_rmse = {}\n",
        "model_score = {}\n",
        "for i, j in models.items():\n",
        "  # 각 모델의 y_pred를 구한다.\n",
        "  model = j\n",
        "  model.fit(X_train, y_train)\n",
        "  y_pred = model.predict(X_test)\n",
        "  \n",
        "  # 전체 모델을 돌려서 각 모델별로 rmse, score,model을 저장한다.\n",
        "  model_rmse[i] = mean_squared_error(y_test, y_pred)** 0.5\n",
        "  model_score[i] = model.score(X_test, y_test)\n",
        "  \n",
        "print('model_rmse :', model_rmse)\n",
        "print('model_score :', model_score)"
      ],
      "execution_count": null,
      "outputs": [
        {
          "output_type": "stream",
          "text": [
            "[08:32:19] WARNING: /workspace/src/objective/regression_obj.cu:152: reg:linear is now deprecated in favor of reg:squarederror.\n",
            "model_rmse : {'lr': 79300.66804903092, 'lgb': 80968.60870346827, 'xgb': 73455.44681995378, 'lasso': 81249.32036725024, 'ridge': 79933.77961976793, 'ada': 78369.53155930391, 'rfg': 76764.38330608635}\n",
            "model_score : {'lr': 0.26421035309247476, 'lgb': 0.23293293811343685, 'xgb': 0.36868226386151876, 'lasso': 0.2276049985255012, 'ridge': 0.2524148285822103, 'ada': 0.2813879712492471, 'rfg': 0.31052343153634154}\n"
          ],
          "name": "stdout"
        }
      ]
    },
    {
      "cell_type": "code",
      "metadata": {
        "colab": {
          "base_uri": "https://localhost:8080/"
        },
        "id": "FYRcVk6-zx05",
        "outputId": "5bbab85c-aba2-4fe3-af51-ae09e74a56bb"
      },
      "source": [
        "from sklearn.model_selection import train_test_split\n",
        "\n",
        "X_train, X_test, y_train, y_test = train_test_split(smote_data.drop('target', axis = 1), smote_data['target'], test_size = 0.2, random_state = 42)\n",
        "models = class_all_model.models()\n",
        "\n",
        "model_rmse = {}\n",
        "model_score = {}\n",
        "for i, j in models.items():\n",
        "  # 각 모델의 y_pred를 구한다.\n",
        "  model = j\n",
        "  model.fit(X_train, y_train)\n",
        "  y_pred = model.predict(X_test)\n",
        "  \n",
        "  # 전체 모델을 돌려서 각 모델별로 rmse, score,model을 저장한다.\n",
        "  model_rmse[i] = mean_squared_error(y_test, y_pred)** 0.5\n",
        "  model_score[i] = model.score(X_test, y_test)\n",
        "  \n",
        "print('model_rmse :', model_rmse)\n",
        "print('model_score :', model_score)"
      ],
      "execution_count": null,
      "outputs": [
        {
          "output_type": "stream",
          "text": [
            "[08:32:27] WARNING: /workspace/src/objective/regression_obj.cu:152: reg:linear is now deprecated in favor of reg:squarederror.\n",
            "model_rmse : {'lr': 68034.33828752104, 'lgb': 35624.69545478687, 'xgb': 63182.06585008357, 'lasso': 68551.0885325801, 'ridge': 65516.28248361572, 'ada': 37628.51850506677, 'rfg': 47581.73238033091}\n",
            "model_score : {'lr': 0.7619087176564602, 'lgb': 0.9347185962364397, 'xgb': 0.7946594090651985, 'lasso': 0.7582781693535003, 'ridge': 0.7792068185315907, 'ada': 0.9271681396315093, 'rfg': 0.8835424460969743}\n"
          ],
          "name": "stdout"
        }
      ]
    },
    {
      "cell_type": "code",
      "metadata": {
        "colab": {
          "base_uri": "https://localhost:8080/",
          "height": 526
        },
        "id": "RlPv3EaDz2ST",
        "outputId": "d14c8516-f0c3-47d9-fbc5-7d2ba3b1d0e5"
      },
      "source": [
        "# target변수를 분포로 살펴보기\n",
        "fig, ax = plt.subplots(ncols = 2, figsize = (16,8))\n",
        "sns.distplot(smote_data['target'], ax = ax[0])\n",
        "sns.distplot(data['target'], ax = ax[1])"
      ],
      "execution_count": null,
      "outputs": [
        {
          "output_type": "execute_result",
          "data": {
            "text/plain": [
              "<matplotlib.axes._subplots.AxesSubplot at 0x7f56a435fa90>"
            ]
          },
          "metadata": {
            "tags": []
          },
          "execution_count": 143
        },
        {
          "output_type": "display_data",
          "data": {
            "image/png": "[encoded data removed]",
            "text/plain": [
              "<Figure size 1152x576 with 2 Axes>"
            ]
          },
          "metadata": {
            "tags": [],
            "needs_background": "light"
          }
        }
      ]
    },
    {
      "cell_type": "markdown",
      "metadata": {
        "id": "HMeRJUcVCSSI"
      },
      "source": [
        "# 서울시립미술관"
      ]
    },
    {
      "cell_type": "code",
      "metadata": {
        "id": "RRSMf6Q13lUq"
      },
      "source": [
        "import pandas as pd\n",
        "import smogn\n",
        "data = pd.read_csv('/content/drive/MyDrive/Proj_WT/DataSets/Seoul/SeoulMuseumOfArt.csv')\n",
        "data = data.rename(columns = {'서울시립미술관 본관': 'target'})"
      ],
      "execution_count": null,
      "outputs": []
    },
    {
      "cell_type": "code",
      "metadata": {
        "colab": {
          "base_uri": "https://localhost:8080/",
          "height": 216
        },
        "id": "-_VLNpGzDZc6",
        "outputId": "52906a72-6d2c-41be-a58e-4faddf707da8"
      },
      "source": [
        "data.head()"
      ],
      "execution_count": null,
      "outputs": [
        {
          "output_type": "execute_result",
          "data": {
            "text/html": [
              "<div>\n",
              "<style scoped>\n",
              "    .dataframe tbody tr th:only-of-type {\n",
              "        vertical-align: middle;\n",
              "    }\n",
              "\n",
              "    .dataframe tbody tr th {\n",
              "        vertical-align: top;\n",
              "    }\n",
              "\n",
              "    .dataframe thead th {\n",
              "        text-align: right;\n",
              "    }\n",
              "</style>\n",
              "<table border=\"1\" class=\"dataframe\">\n",
              "  <thead>\n",
              "    <tr style=\"text-align: right;\">\n",
              "      <th></th>\n",
              "      <th>date</th>\n",
              "      <th>month</th>\n",
              "      <th>최고 기온(°C)</th>\n",
              "      <th>평균 기온(°C)</th>\n",
              "      <th>최소 상대습도(%)</th>\n",
              "      <th>평균 상대습도(%)</th>\n",
              "      <th>일강수량(mm)</th>\n",
              "      <th>평균 풍속(m/s)</th>\n",
              "      <th>합계 일조 시간(hr)</th>\n",
              "      <th>최저 기온(°C)</th>\n",
              "      <th>최대 풍속(m/s)</th>\n",
              "      <th>평균 해면기압(hPa)</th>\n",
              "      <th>1시간 최다 일사량(MJ/m2)</th>\n",
              "      <th>최저 초상온도(°C)</th>\n",
              "      <th>평균 5cm 지중온도(°C)</th>\n",
              "      <th>평균 30cm 지중온도(°C)</th>\n",
              "      <th>5.0cm 지중온도(°C)</th>\n",
              "      <th>9-9강수(mm)</th>\n",
              "      <th>target</th>\n",
              "    </tr>\n",
              "  </thead>\n",
              "  <tbody>\n",
              "    <tr>\n",
              "      <th>0</th>\n",
              "      <td>201101</td>\n",
              "      <td>1</td>\n",
              "      <td>-3.406452</td>\n",
              "      <td>-7.183871</td>\n",
              "      <td>35.129032</td>\n",
              "      <td>53.829032</td>\n",
              "      <td>1.112500</td>\n",
              "      <td>2.796774</td>\n",
              "      <td>7.048387</td>\n",
              "      <td>-10.522581</td>\n",
              "      <td>5.593548</td>\n",
              "      <td>1027.322581</td>\n",
              "      <td>1.791935</td>\n",
              "      <td>-16.083871</td>\n",
              "      <td>-3.261290</td>\n",
              "      <td>-1.077419</td>\n",
              "      <td>17.183871</td>\n",
              "      <td>0.741667</td>\n",
              "      <td>234587</td>\n",
              "    </tr>\n",
              "    <tr>\n",
              "      <th>1</th>\n",
              "      <td>201102</td>\n",
              "      <td>2</td>\n",
              "      <td>5.864286</td>\n",
              "      <td>1.221429</td>\n",
              "      <td>32.000000</td>\n",
              "      <td>55.228571</td>\n",
              "      <td>9.700000</td>\n",
              "      <td>2.553571</td>\n",
              "      <td>5.950000</td>\n",
              "      <td>-2.460714</td>\n",
              "      <td>5.239286</td>\n",
              "      <td>1022.085714</td>\n",
              "      <td>1.841786</td>\n",
              "      <td>-9.564286</td>\n",
              "      <td>0.578571</td>\n",
              "      <td>0.350000</td>\n",
              "      <td>15.900000</td>\n",
              "      <td>7.850000</td>\n",
              "      <td>171376</td>\n",
              "    </tr>\n",
              "    <tr>\n",
              "      <th>2</th>\n",
              "      <td>201103</td>\n",
              "      <td>3</td>\n",
              "      <td>8.345161</td>\n",
              "      <td>3.616129</td>\n",
              "      <td>25.258065</td>\n",
              "      <td>51.112903</td>\n",
              "      <td>2.085714</td>\n",
              "      <td>3.406452</td>\n",
              "      <td>7.748387</td>\n",
              "      <td>-0.119355</td>\n",
              "      <td>6.877419</td>\n",
              "      <td>1021.383871</td>\n",
              "      <td>2.541290</td>\n",
              "      <td>-5.006452</td>\n",
              "      <td>5.216129</td>\n",
              "      <td>5.422581</td>\n",
              "      <td>14.677419</td>\n",
              "      <td>1.537500</td>\n",
              "      <td>260687</td>\n",
              "    </tr>\n",
              "    <tr>\n",
              "      <th>3</th>\n",
              "      <td>201104</td>\n",
              "      <td>4</td>\n",
              "      <td>15.596667</td>\n",
              "      <td>10.720000</td>\n",
              "      <td>28.666667</td>\n",
              "      <td>54.240000</td>\n",
              "      <td>10.009091</td>\n",
              "      <td>3.243333</td>\n",
              "      <td>6.736667</td>\n",
              "      <td>6.773333</td>\n",
              "      <td>6.650000</td>\n",
              "      <td>1014.123333</td>\n",
              "      <td>2.452333</td>\n",
              "      <td>1.116667</td>\n",
              "      <td>12.206667</td>\n",
              "      <td>11.726667</td>\n",
              "      <td>13.470000</td>\n",
              "      <td>7.346667</td>\n",
              "      <td>56024</td>\n",
              "    </tr>\n",
              "    <tr>\n",
              "      <th>4</th>\n",
              "      <td>201105</td>\n",
              "      <td>5</td>\n",
              "      <td>22.983871</td>\n",
              "      <td>17.925806</td>\n",
              "      <td>32.161290</td>\n",
              "      <td>56.416129</td>\n",
              "      <td>4.107692</td>\n",
              "      <td>2.832258</td>\n",
              "      <td>5.819355</td>\n",
              "      <td>13.570968</td>\n",
              "      <td>6.235484</td>\n",
              "      <td>1010.735484</td>\n",
              "      <td>2.402258</td>\n",
              "      <td>8.935484</td>\n",
              "      <td>19.396774</td>\n",
              "      <td>18.174194</td>\n",
              "      <td>13.241935</td>\n",
              "      <td>5.278571</td>\n",
              "      <td>279310</td>\n",
              "    </tr>\n",
              "  </tbody>\n",
              "</table>\n",
              "</div>"
            ],
            "text/plain": [
              "     date  month  최고 기온(°C)  ...  5.0cm 지중온도(°C)  9-9강수(mm)  target\n",
              "0  201101      1  -3.406452  ...       17.183871   0.741667  234587\n",
              "1  201102      2   5.864286  ...       15.900000   7.850000  171376\n",
              "2  201103      3   8.345161  ...       14.677419   1.537500  260687\n",
              "3  201104      4  15.596667  ...       13.470000   7.346667   56024\n",
              "4  201105      5  22.983871  ...       13.241935   5.278571  279310\n",
              "\n",
              "[5 rows x 19 columns]"
            ]
          },
          "metadata": {
            "tags": []
          },
          "execution_count": 134
        }
      ]
    },
    {
      "cell_type": "code",
      "metadata": {
        "id": "XJbtUo5JDwM-"
      },
      "source": [
        "train = data[data['date'] < 201901]\n",
        "test = data[data['date'] >= 201901]\n",
        "train = train.drop(['month','date'], axis = 1)\n",
        "test = test.drop(['month','date'], axis = 1)\n",
        "X_train ,y_train = train.drop('target', axis = 1), train['target']\n",
        "X_test, y_test = test.drop('target', axis = 1), test['target']"
      ],
      "execution_count": null,
      "outputs": []
    },
    {
      "cell_type": "code",
      "metadata": {
        "id": "h6-Trt7aMvjV",
        "colab": {
          "base_uri": "https://localhost:8080/"
        },
        "outputId": "825bc26d-6628-4b4c-e29f-81d790c7c5ec"
      },
      "source": [
        "models = class_all_model.models()\n",
        "\n",
        "model_rmse = {}\n",
        "model_score = {}\n",
        "for i, j in models.items():\n",
        "  # 각 모델의 y_pred를 구한다.\n",
        "  model = j\n",
        "  model.fit(X_train, y_train)\n",
        "  y_pred = model.predict(X_test)\n",
        "  \n",
        "  # 전체 모델을 돌려서 각 모델별로 rmse, score,model을 저장한다.\n",
        "  model_rmse[i] = mean_squared_error(y_test, y_pred)** 0.5\n",
        "  model_score[i] = model.score(X_test, y_test)\n",
        "  \n",
        "print('model_rmse :', model_rmse)\n",
        "print('model_score :', model_score)"
      ],
      "execution_count": null,
      "outputs": [
        {
          "output_type": "stream",
          "text": [
            "[16:19:41] WARNING: /workspace/src/objective/regression_obj.cu:152: reg:linear is now deprecated in favor of reg:squarederror.\n",
            "model_rmse : {'lr': 78325.09827240679, 'lgb': 75797.89955561589, 'xgb': 81680.24470263226, 'lasso': 78750.1097076197, 'ridge': 78184.71111877357, 'ada': 76621.93861409236, 'rfg': 72377.93977676617, 'gb': 80910.46144019102}\n",
            "model_score : {'lr': -0.150674833387618, 'lgb': -0.07761855277210472, 'xgb': -0.25136723095120317, 'lasso': -0.16319640888495338, 'ridge': -0.14655367174470535, 'ada': -0.10117663922297715, 'rfg': 0.017430788675574904, 'gb': -0.22789172836122829}\n"
          ],
          "name": "stdout"
        }
      ]
    },
    {
      "cell_type": "code",
      "metadata": {
        "id": "kfEKcnnCMvhR",
        "colab": {
          "base_uri": "https://localhost:8080/"
        },
        "outputId": "2a56b4ee-cda2-4116-97f2-4550c630158a"
      },
      "source": [
        "## SMOTE를 사용해서 해주기\n",
        "서울시립미술관_data = smogn.smoter(data = train, y = 'target', k = 10, samp_method = 'extreme', rel_thres = 0.80, rel_method = 'auto', rel_xtrm_type = 'high', rel_coef = 1.5)"
      ],
      "execution_count": null,
      "outputs": [
        {
          "output_type": "stream",
          "text": [
            "dist_matrix: 100%|##########| 7/7 [00:00<00:00, 204.03it/s]\n",
            "synth_matrix: 100%|##########| 7/7 [00:00<00:00, 16.04it/s]\n",
            "r_index: 100%|##########| 4/4 [00:00<00:00, 151.94it/s]\n"
          ],
          "name": "stderr"
        }
      ]
    },
    {
      "cell_type": "code",
      "metadata": {
        "colab": {
          "base_uri": "https://localhost:8080/"
        },
        "id": "-pFadqJXoAur",
        "outputId": "7a2fccb5-b73f-47cc-8670-258c861ec166"
      },
      "source": [
        "len(서울시립미술관_data)"
      ],
      "execution_count": null,
      "outputs": [
        {
          "output_type": "execute_result",
          "data": {
            "text/plain": [
              "169"
            ]
          },
          "metadata": {
            "tags": []
          },
          "execution_count": 141
        }
      ]
    },
    {
      "cell_type": "code",
      "metadata": {
        "id": "iNNN_srs463y"
      },
      "source": [
        "X_train,y_train = 서울시립미술관_data.drop('target', axis = 1),서울시립미술관_data['target']"
      ],
      "execution_count": null,
      "outputs": []
    },
    {
      "cell_type": "code",
      "metadata": {
        "id": "jSub__QcoSTY"
      },
      "source": [
        ""
      ],
      "execution_count": null,
      "outputs": []
    },
    {
      "cell_type": "code",
      "metadata": {
        "id": "S9yYb8xXDRIe",
        "colab": {
          "base_uri": "https://localhost:8080/"
        },
        "outputId": "bea9234c-2bd9-4ad6-8fc2-bfc1dafbb3ff"
      },
      "source": [
        "models = class_all_model.models()\n",
        "\n",
        "model_rmse = {}\n",
        "model_score = {}\n",
        "for i, j in models.items():\n",
        "  # 각 모델의 y_pred를 구한다.\n",
        "  model = j\n",
        "  model.fit(X_train, y_train)\n",
        "  y_pred = model.predict(X_test)\n",
        "  \n",
        "  # 전체 모델을 돌려서 각 모델별로 rmse, score,model을 저장한다.\n",
        "  model_rmse[i] = mean_squared_error(y_test, y_pred)** 0.5\n",
        "  model_score[i] = model.score(X_test, y_test)\n",
        "  \n",
        "print('model_rmse :', model_rmse)\n",
        "print('model_score :', model_score)"
      ],
      "execution_count": null,
      "outputs": [
        {
          "output_type": "stream",
          "text": [
            "[16:19:57] WARNING: /workspace/src/objective/regression_obj.cu:152: reg:linear is now deprecated in favor of reg:squarederror.\n",
            "model_rmse : {'lr': 83253.47239947671, 'lgb': 80834.97292681097, 'xgb': 79390.60248636309, 'lasso': 85893.88748581575, 'ridge': 83149.61125778813, 'ada': 73685.25865121876, 'rfg': 67120.98889430737, 'gb': 79200.49851589596}\n",
            "model_score : {'lr': -0.30003615533273686, 'lgb': -0.22560157998310393, 'xgb': -0.18219444223567183, 'lasso': -0.383806084224797, 'ridge': -0.2967945123665001, 'ada': -0.01838487931667587, 'rfg': 0.15497917804063546, 'gb': -0.17653959705203115}\n"
          ],
          "name": "stdout"
        }
      ]
    },
    {
      "cell_type": "markdown",
      "metadata": {
        "id": "c8j9BBhpnP8d"
      },
      "source": [
        "# 경복궁"
      ]
    },
    {
      "cell_type": "code",
      "metadata": {
        "id": "89gZfc8Ym09I"
      },
      "source": [
        "data = pd.read_csv('/content/drive/MyDrive/Proj_WT/DataSets/Seoul/GyeongBokGung.csv')\n",
        "data = data.rename(columns = {'경복궁': 'target'})"
      ],
      "execution_count": null,
      "outputs": []
    },
    {
      "cell_type": "code",
      "metadata": {
        "id": "wbqNGm75nz8f"
      },
      "source": [
        "train = data[data['date'] < 201901]\n",
        "test = data[data['date'] >= 201901]\n",
        "train = train.drop(['month','date'], axis = 1)\n",
        "test = test.drop(['month','date'], axis = 1)\n",
        "X_train ,y_train = train.drop('target', axis = 1), train['target']\n",
        "X_test, y_test = test.drop('target', axis = 1), test['target']"
      ],
      "execution_count": null,
      "outputs": []
    },
    {
      "cell_type": "code",
      "metadata": {
        "colab": {
          "base_uri": "https://localhost:8080/"
        },
        "id": "BYm-I_HzqG9S",
        "outputId": "5d3b58ed-0cce-4c7e-f33a-91e22b4e4f7d"
      },
      "source": [
        "models = class_all_model.models()\n",
        "\n",
        "model_rmse = {}\n",
        "model_score = {}\n",
        "for i, j in models.items():\n",
        "  # 각 모델의 y_pred를 구한다.\n",
        "  model = j\n",
        "  model.fit(X_train, y_train)\n",
        "  y_pred = model.predict(X_test)\n",
        "  \n",
        "  # 전체 모델을 돌려서 각 모델별로 rmse, score,model을 저장한다.\n",
        "  model_rmse[i] = mean_squared_error(y_test, y_pred)** 0.5\n",
        "  model_score[i] = model.score(X_test, y_test)\n",
        "  \n",
        "print('model_rmse :', model_rmse)\n",
        "print('model_score :', model_score)"
      ],
      "execution_count": null,
      "outputs": [
        {
          "output_type": "stream",
          "text": [
            "[16:20:28] WARNING: /workspace/src/objective/regression_obj.cu:152: reg:linear is now deprecated in favor of reg:squarederror.\n",
            "model_rmse : {'lr': 113466.05981809794, 'lgb': 72864.56654139927, 'xgb': 62668.28873539363, 'lasso': 106193.02728398898, 'ridge': 108698.3800747375, 'ada': 72342.57191211899, 'rfg': 65222.95697591882, 'gb': 76287.11312130559}\n",
            "model_score : {'lr': -0.3011013835798064, 'lgb': 0.46344782194693956, 'xgb': 0.6031056996846185, 'lasso': -0.13964921028689448, 'ridge': -0.1940577575923188, 'ada': 0.47110789995540664, 'rfg': 0.5700874142747832, 'gb': 0.4118588698025424}\n"
          ],
          "name": "stdout"
        }
      ]
    },
    {
      "cell_type": "code",
      "metadata": {
        "colab": {
          "base_uri": "https://localhost:8080/"
        },
        "id": "1LH0B-jErOmp",
        "outputId": "e36e082b-7598-4c07-b74f-f28b912fd320"
      },
      "source": [
        "# SMOTE 사용하기\n",
        "경복궁_data = smogn.smoter(data = train, y = 'target', k = 10, samp_method = 'extreme', rel_thres = 0.80, rel_method = 'auto', rel_xtrm_type = 'high', rel_coef = 2.8)"
      ],
      "execution_count": null,
      "outputs": [
        {
          "output_type": "stream",
          "text": [
            "dist_matrix: 100%|##########| 10/10 [00:00<00:00, 140.26it/s]\n",
            "synth_matrix: 100%|##########| 10/10 [00:00<00:00, 24.17it/s]\n",
            "r_index: 100%|##########| 5/5 [00:00<00:00, 167.14it/s]\n"
          ],
          "name": "stderr"
        }
      ]
    },
    {
      "cell_type": "code",
      "metadata": {
        "id": "9pee-w2rrXY3"
      },
      "source": [
        "X_train, y_train = 경복궁_data.drop('target', axis = 1), 경복궁_data['target']"
      ],
      "execution_count": null,
      "outputs": []
    },
    {
      "cell_type": "code",
      "metadata": {
        "colab": {
          "base_uri": "https://localhost:8080/"
        },
        "id": "Gk-h02l-raBy",
        "outputId": "ae83024d-d454-4881-968e-b9663b33cf2d"
      },
      "source": [
        "models = class_all_model.models()\n",
        "\n",
        "model_rmse = {}\n",
        "model_score = {}\n",
        "for i, j in models.items():\n",
        "  # 각 모델의 y_pred를 구한다.\n",
        "  model = j\n",
        "  model.fit(X_train, y_train)\n",
        "  y_pred = model.predict(X_test)\n",
        "  \n",
        "  # 전체 모델을 돌려서 각 모델별로 rmse, score,model을 저장한다.\n",
        "  model_rmse[i] = mean_squared_error(y_test, y_pred)** 0.5\n",
        "  model_score[i] = model.score(X_test, y_test)\n",
        "  \n",
        "print('model_rmse :', model_rmse)\n",
        "print('model_score :', model_score)"
      ],
      "execution_count": null,
      "outputs": [
        {
          "output_type": "stream",
          "text": [
            "[16:20:51] WARNING: /workspace/src/objective/regression_obj.cu:152: reg:linear is now deprecated in favor of reg:squarederror.\n",
            "model_rmse : {'lr': 90026.53575988422, 'lgb': 88389.10815244715, 'xgb': 75116.17925164873, 'lasso': 77919.644863906, 'ridge': 82938.8636391086, 'ada': 70529.92006662916, 'rfg': 76463.87560731353, 'gb': 75944.55936822902}\n",
            "model_score : {'lr': 0.18093141667156754, 'lgb': 0.210455351016531, 'xgb': 0.42977511008663505, 'lasso': 0.3864172808386567, 'ridge': 0.30482306852602037, 'ada': 0.49728021913626064, 'rfg': 0.4091301853166584, 'gb': 0.41712889800831504}\n"
          ],
          "name": "stdout"
        }
      ]
    },
    {
      "cell_type": "markdown",
      "metadata": {
        "id": "UCrOuX7JwdiB"
      },
      "source": [
        "# TSAUG (Time Series Data Augmentation)\n",
        "\n"
      ]
    },
    {
      "cell_type": "code",
      "metadata": {
        "id": "zzekFW4TwuHE"
      },
      "source": [
        "# !pip install tsaug"
      ],
      "execution_count": null,
      "outputs": []
    },
    {
      "cell_type": "code",
      "metadata": {
        "id": "qhvxhBxkryvc",
        "colab": {
          "base_uri": "https://localhost:8080/",
          "height": 133
        },
        "outputId": "839f66ce-9950-46ba-bad7-60dab31e12e2"
      },
      "source": [
        "# import numpy as np\n",
        "# import pandas as pd\n",
        "# import matplotlib.pyplot as plt\n",
        "# import seaborn as sns\n",
        "\n",
        "# from tsaug import TimeWarp, Crop, Quantize, Drift, Reverse\n",
        "# my_augmenter = (\n",
        "#     TimeWarp() * 5 # random time warping 5 times in parallel\n",
        "#     +Crop(size = 300) # random crop subsequences with Length 300\n",
        "#     +Quantize(n_levels = [10,20,30]) # random quantize to 10-, 20-, or 30- Level sets\n",
        "#     +Drift(max_drift = (0.1,0.5)) @ 0.8 # with 80% probability, random drift the signal up to 10%\n",
        "#     +Reverse()@0.5 # with 50% probability, reverse the sequence\n",
        ")"
      ],
      "execution_count": null,
      "outputs": [
        {
          "output_type": "error",
          "ename": "SyntaxError",
          "evalue": "ignored",
          "traceback": [
            "\u001b[0;36m  File \u001b[0;32m\"<ipython-input-29-b270051c4e40>\"\u001b[0;36m, line \u001b[0;32m13\u001b[0m\n\u001b[0;31m    )\u001b[0m\n\u001b[0m    ^\u001b[0m\n\u001b[0;31mSyntaxError\u001b[0m\u001b[0;31m:\u001b[0m invalid syntax\n"
          ]
        }
      ]
    },
    {
      "cell_type": "code",
      "metadata": {
        "id": "DLOFMfd1Z5As"
      },
      "source": [
        "# 경복궁 데이터로 시험해보기\n",
        "# data.head()"
      ],
      "execution_count": null,
      "outputs": []
    },
    {
      "cell_type": "code",
      "metadata": {
        "id": "UrT8jBOFjKIm"
      },
      "source": [
        "# !git clone https://github.com/arundo/tsaug.git\n",
        "# !cd tsaug/\n",
        "# !git checkout develop\n",
        "# !pip install ./"
      ],
      "execution_count": null,
      "outputs": []
    },
    {
      "cell_type": "code",
      "metadata": {
        "id": "qy2JCjcziI3F"
      },
      "source": [
        "# train = data[data['date'] < 201901]\n",
        "# test = data[data['date'] >= 201901]\n",
        "# train = train.drop(['date'], axis = 1)\n",
        "# test = test.drop(['date'], axis = 1)\n",
        "# X_train ,y_train = train.drop('target', axis = 1), train['target']\n",
        "# X_test, y_test = test.drop('target', axis = 1), test['target']"
      ],
      "execution_count": null,
      "outputs": []
    },
    {
      "cell_type": "code",
      "metadata": {
        "id": "7c7ndfaxiums"
      },
      "source": [
        "# X_train = X_train.values\n",
        "# y_train = y_train.values"
      ],
      "execution_count": null,
      "outputs": []
    },
    {
      "cell_type": "code",
      "metadata": {
        "id": "lxzvNgaNi5Nl"
      },
      "source": [
        "# print(X_train.shape,y_train.shape)"
      ],
      "execution_count": null,
      "outputs": []
    },
    {
      "cell_type": "code",
      "metadata": {
        "id": "7sC76wQUiUfj"
      },
      "source": [
        "# 실패.... 변수를 하나만 받아야 하기 때문이다."
      ],
      "execution_count": null,
      "outputs": []
    },
    {
      "cell_type": "code",
      "metadata": {
        "id": "GKR9YrtwiXvW"
      },
      "source": [
        ""
      ],
      "execution_count": null,
      "outputs": []
    }
  ]
}