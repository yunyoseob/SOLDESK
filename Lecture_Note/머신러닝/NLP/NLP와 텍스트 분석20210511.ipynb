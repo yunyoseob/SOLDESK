{
 "cells": [
  {
   "cell_type": "markdown",
   "metadata": {},
   "source": [
    "NLP와 텍스트 분석\n",
    "--"
   ]
  },
  {
   "cell_type": "markdown",
   "metadata": {},
   "source": [
    "NLP\n",
    "--\n",
    "인간의 언어를 이해하고 해석하는데 저 중점을 두고 기술이 발전 해 옴.\n",
    "NLP 기술의 발전으로 텍스트 분석도 더욱 정교하게 발전\n",
    "\n",
    "Text analysis\n",
    "--\n",
    "머신러닝, 언어 이해, 통계 등을 활용해 모델을 수립하고 정보를 추출해 Business Intelligence)나 예측 분석 등의 분석 작업을 주로 수행.\n",
    "참고 : https://kerneler.tistory.com/142\n",
    "\n",
    "텍스트 마이닝은 비,반 전형 텍스트 데이터를 자연어 처리 기술에 기반하여 유용한 정보를 추출하여 가공하는 것을 목적으로 하는 기술.\n",
    "\n",
    "기술을 통하여 방대한 텍스트 뭉치에서 의미있는 정보를 추출해 내고, 다른 정보와의 연계성을 파악하며, 텍스트가 가진 카테고리를 찾아내는 등 단순한 정보 검색 그 이상의 결과를 얻어 낼 수 있다. 텍스트 마이닝 과정은 다음과 같은 단계를 거친다\n",
    "\n",
    "텍스트 문서-> 전처리 ->의미정보 변환 -> 의미정보 추출 -> 패터 및 경향 분석 -> 정보 교환 및 평가\n",
    "텍스트 분석에는 구조화 과정이 필요한데, 구조화된 데이터(ex. 수치)는 컴퓨터가 직접적으로 처리 할 수 있지만, 텍스트 데이터는 구조화된 수치 데이터와 달리 자연어로 구성되어 있기 때문에 비 구조적 데이터. 그리하여 텍스트 데이터(문서-문단-문장-단어)를 바로 처리 할 수 없다. 텍스트를 분석하려면, 데이터는 컴퓨터가 처리 할 수 있는 구조로 표현해 주어야 함.\n",
    "\n",
    "텍스트 데이터는 '구조화 시키는 과정'이 필수적.\n",
    "\n",
    "텍스트 마이닝 응용 분야\n",
    "분류(Categorization)\n",
    "주어진 텍스트의 내용을 분석 해, 사전에 정의된 범주를 적절히 부여하는 과정\n",
    "ex)뉴스 기사 분석->정치/사회/생활/스포츠/IT/연예 등의 범주로 자동 분류\n",
    "\n",
    "다량의 문서는 내용들을 직접 일일이 파악하고, 분류하기에는 많은 시간이 소요, 또한 전문적인 내용의 경우 세부 분류는 전문가만이 수행이 가능함. ->이럴때 텍스트 마이닝을 쓰는게 적절함.\n",
    "\n",
    "분류 기법 : 문서 유사도, 패턴 인식, 정보 검색 기반\n",
    "\n",
    "감성 분석(Sentiment Analysis) : 텍스트에서 나타나는 감정/판단/믿음/의견/기분 등의 주관적인 요소를 분석하는 기법. 소셜 미디어 감정 분석, 영화나 제품에 대한 긍정 또는 리뷰, 여론조사 의견 분석 등의 다양한 영역에서 활용 됨.\n",
    "\n",
    "요약(Summarization)\n",
    "\n",
    "문서의 전체 내용을 대표할 수 있는 내용을 추출하는 과정 / 다량/대용량 문서의 내용 파악을 도와 필요한 문서에 접근하는 시간을 단축 해 줄 수 있음.\n",
    "-요약 기법 : 토픽 모델링, 표면 수준접근(surface level approach), 개체 수준 접근(entiry level approach), 화법수준접근(discourse level approach)\n",
    "\n",
    "군집화(Clustering)\n",
    "텍스트 집단을 내용의 유사도에 따라 여러 개의 소집단으로 분할하는 과정\n",
    "군집화를 통해 텍스트 분류의 예비 작업(범주체계 정의, 표본 텍스트 관리)을 자동화시켜줄 수 있다.\n",
    "Text문서를 Feature Vectorization을 해야 되는데 대표적인 두 방법이다.\n",
    "파이썬 기반의 NLP, 텍스트 분석만을 위한 패키지\n",
    "NLTK(National Language Toolkit for python) : 파이썬의 가장 대표적인 NLP 패키지. 방대한 데이터 세트와 서브 모듈을 가지고 있으며 NLP의 거의 모든 영역을 커버하고 있음. 많은 NLP 패키지가 NLTK의 영향을 받아 작성되고 있음. 수행속도 측면에서 아쉬운 부분이 있어서 실제 대량의 데이터 기반에서는 제대로 활용되지 못하고 있음.\n",
    "\n",
    "Gensim : 토픽 모델링 분야 에서 가장 두각을 나타내는 패키지. 오래전부터 토픽 모델링을 쉽게 구현할 수 있는 기능을 제공해왔으며, Word2Vec 구현 등의 다양한 신기능도 제공. SpaCy와 함께 가장 많이 사용되는 NLP 패키지.\n",
    "\n",
    "SpaCy : 뛰어난 수행 성능으로 최근 가장 주목을 받는 NLP 패키지. 많은 NLP 애플리케이션에서 SpaCy를 사용하는 사례가 늘고 있음.\n",
    "\n",
    "Word Colud : '핵심 단어'시각화 하는 기법. 문서의 키워드, 개념 등을 직관적으로 파악할 수 있도록 핵심 단어를 시각적으로 돋보이게 하는 기법.\n",
    "\n",
    "텍스트 전처리 - 텍스트 정규화\n",
    "Cleansing : 텍스트에서 분석에 오히려 방해가 되는 불필요한 문자, 기호 등을 사전에 제거하는 작업. 예를 들어 HTML, XML 태크나 특정 기호 등을 사전에 제거\n",
    "\n",
    "Tokenization : 문장 토큰화, 단어 코튼화, N-gram\n",
    "\n",
    "핕터링 /스톱 워드 제거 / 철자 수정 : 불필요한 단어나 분석에 큰 의미가 없는 단어(a, the, is, will등) 그리고 잘못된 철자 수정\n",
    "\n",
    "Stemming / Lemmatization : 어근(단어 원형) 추출, Lemmatization이 Stemming보다 정교하고 의미론적 기반에서 단어원형을 찾아줌.\n",
    "\n",
    "N-gram\n",
    "문장을 개별 단어 별로 하나씩 토큰화 할 경우 문맥적인 의미는 무시 될 수 밖에 없음. 이러한 문제를 조금이라도 해결해보자->N-garm 도입\n",
    "\n",
    "N-gram은 연속된 n개의 단어를 하나의 토큰화 단위로 분리하는 것. n개 단어 크기 윈도우를 만들어 문장의 처음부터 오른쪽으로 움직이면서 토큰화 수행.\n",
    "\n",
    "ex) 'Here is a dog'라는 문장을 문자 절단 단위의 \"Her\", \"ere\", \"re_\", \"e_i\", \"is\", \"is\", \"s_a\", \"a\", \"a_d\", \"_do\", \"dog\" 로 만들 수 있다. 같은 작업을 단어 단위의 2-gram으로 만든다면, \"Here is\", \"is a\", \"a dog\" 가 된다.\n",
    "\n",
    "토큰화에서 고려해야할 사항.\n",
    "토큰화 작업은 단순하게 코퍼스에서 구두점을 제외하고 공백 기준으로 잘라내는 작업이라고 간주할 수 없음. 섬세하게 알고리즘이 필요함.\n",
    "\n",
    "구두점이나 특수문자를 단순 제외해서는 안됨.\n",
    "코퍼스에서 단어들을 걸러낼떄, 구두점이나 특수 문자를 단순히 제외하는 것은 옳지 않음."
   ]
  },
  {
   "cell_type": "code",
   "execution_count": 1,
   "metadata": {},
   "outputs": [],
   "source": [
    "# !pip install nltk"
   ]
  },
  {
   "cell_type": "markdown",
   "metadata": {},
   "source": [
    "- CNN1D가 자연어와 음성에 유리\n",
    "- 요즘엔 NLP에서 Vision으로 옮겨서 사용한다."
   ]
  },
  {
   "cell_type": "code",
   "execution_count": 1,
   "metadata": {},
   "outputs": [],
   "source": [
    "from nltk.tokenize import TreebankWordTokenizer\n",
    "import warnings\n",
    "warnings.filterwarnings('ignore')"
   ]
  },
  {
   "cell_type": "code",
   "execution_count": 2,
   "metadata": {},
   "outputs": [],
   "source": [
    "tokenizer=TreebankWordTokenizer()"
   ]
  },
  {
   "cell_type": "code",
   "execution_count": 3,
   "metadata": {},
   "outputs": [],
   "source": [
    "text='안녕하세요. 하하하'"
   ]
  },
  {
   "cell_type": "code",
   "execution_count": 4,
   "metadata": {},
   "outputs": [
    {
     "name": "stdout",
     "output_type": "stream",
     "text": [
      "['안녕하세요.', '하하하']\n"
     ]
    }
   ],
   "source": [
    "print(tokenizer.tokenize(text))"
   ]
  },
  {
   "cell_type": "code",
   "execution_count": 5,
   "metadata": {},
   "outputs": [],
   "source": [
    "from nltk import sent_tokenize"
   ]
  },
  {
   "cell_type": "code",
   "execution_count": 6,
   "metadata": {},
   "outputs": [],
   "source": [
    "import nltk\n",
    "import warnings\n",
    "warnings.filterwarnings('ignore')"
   ]
  },
  {
   "cell_type": "code",
   "execution_count": 7,
   "metadata": {},
   "outputs": [
    {
     "name": "stderr",
     "output_type": "stream",
     "text": [
      "[nltk_data] Downloading package punkt to\n",
      "[nltk_data]     C:\\Users\\sundooedu\\AppData\\Roaming\\nltk_data...\n",
      "[nltk_data]   Package punkt is already up-to-date!\n"
     ]
    },
    {
     "data": {
      "text/plain": [
       "True"
      ]
     },
     "execution_count": 7,
     "metadata": {},
     "output_type": "execute_result"
    }
   ],
   "source": [
    "nltk.download('punkt')"
   ]
  },
  {
   "cell_type": "code",
   "execution_count": 8,
   "metadata": {},
   "outputs": [],
   "source": [
    "a='가나다라. 마바사. 아자차카. 파타하. 세종대왕. 만만세'"
   ]
  },
  {
   "cell_type": "code",
   "execution_count": 9,
   "metadata": {},
   "outputs": [],
   "source": [
    "sentences = sent_tokenize(text=a)"
   ]
  },
  {
   "cell_type": "code",
   "execution_count": 10,
   "metadata": {},
   "outputs": [
    {
     "name": "stdout",
     "output_type": "stream",
     "text": [
      "<class 'list'> 6\n"
     ]
    }
   ],
   "source": [
    "print(type(sentences), len(sentences))"
   ]
  },
  {
   "cell_type": "markdown",
   "metadata": {},
   "source": [
    "- 온점 으로 문장을 구분"
   ]
  },
  {
   "cell_type": "code",
   "execution_count": 11,
   "metadata": {},
   "outputs": [
    {
     "data": {
      "text/plain": [
       "['가나다라.', '마바사.', '아자차카.', '파타하.', '세종대왕.', '만만세']"
      ]
     },
     "execution_count": 11,
     "metadata": {},
     "output_type": "execute_result"
    }
   ],
   "source": [
    "sentences"
   ]
  },
  {
   "cell_type": "code",
   "execution_count": 12,
   "metadata": {},
   "outputs": [],
   "source": [
    "from nltk import word_tokenize, sent_tokenize"
   ]
  },
  {
   "cell_type": "code",
   "execution_count": 13,
   "metadata": {},
   "outputs": [],
   "source": [
    "b=\"Today is Thursday. Tomorrow is Friday.\""
   ]
  },
  {
   "cell_type": "code",
   "execution_count": 14,
   "metadata": {},
   "outputs": [
    {
     "data": {
      "text/plain": [
       "['Today', 'is', 'Thursday', '.', 'Tomorrow', 'is', 'Friday', '.']"
      ]
     },
     "execution_count": 14,
     "metadata": {},
     "output_type": "execute_result"
    }
   ],
   "source": [
    "word=word_tokenize(b)\n",
    "word"
   ]
  },
  {
   "cell_type": "code",
   "execution_count": 15,
   "metadata": {},
   "outputs": [],
   "source": [
    "def tokenize_text(text):\n",
    "    #데이터를 문장별로 tokenize\n",
    "    sentence=sent_tokenize(text)\n",
    "    # 문장 -> 단어별로\n",
    "    word_token=[word_tokenize(sentence) for sentence in sentence]\n",
    "    return word_token"
   ]
  },
  {
   "cell_type": "code",
   "execution_count": 16,
   "metadata": {},
   "outputs": [
    {
     "data": {
      "text/plain": [
       "[['Today', 'is', 'Thursday', '.'], ['Tomorrow', 'is', 'Friday', '.']]"
      ]
     },
     "execution_count": 16,
     "metadata": {},
     "output_type": "execute_result"
    }
   ],
   "source": [
    "tokenize_text(b)"
   ]
  },
  {
   "cell_type": "code",
   "execution_count": 17,
   "metadata": {},
   "outputs": [
    {
     "data": {
      "text/plain": [
       "[['가나다라', '.'],\n",
       " ['마바사', '.'],\n",
       " ['아자차카', '.'],\n",
       " ['파타하', '.'],\n",
       " ['세종대왕', '.'],\n",
       " ['만만세']]"
      ]
     },
     "execution_count": 17,
     "metadata": {},
     "output_type": "execute_result"
    }
   ],
   "source": [
    "tokenize_text(a)"
   ]
  },
  {
   "cell_type": "code",
   "execution_count": 18,
   "metadata": {},
   "outputs": [
    {
     "name": "stderr",
     "output_type": "stream",
     "text": [
      "[nltk_data] Downloading package stopwords to\n",
      "[nltk_data]     C:\\Users\\sundooedu\\AppData\\Roaming\\nltk_data...\n",
      "[nltk_data]   Package stopwords is already up-to-date!\n"
     ]
    },
    {
     "data": {
      "text/plain": [
       "True"
      ]
     },
     "execution_count": 18,
     "metadata": {},
     "output_type": "execute_result"
    }
   ],
   "source": [
    "import nltk\n",
    "nltk.download('stopwords')"
   ]
  },
  {
   "cell_type": "code",
   "execution_count": 19,
   "metadata": {},
   "outputs": [
    {
     "name": "stdout",
     "output_type": "stream",
     "text": [
      "영어의 bool용어 stop words 갯수:  179\n"
     ]
    }
   ],
   "source": [
    "print('영어의 bool용어 stop words 갯수: ', len(nltk.corpus.stopwords.words('english')))"
   ]
  },
  {
   "cell_type": "code",
   "execution_count": 20,
   "metadata": {},
   "outputs": [
    {
     "name": "stdout",
     "output_type": "stream",
     "text": [
      "['i', 'me', 'my', 'myself', 'we', 'our', 'ours', 'ourselves', 'you', \"you're\", \"you've\", \"you'll\", \"you'd\", 'your', 'yours', 'yourself', 'yourselves', 'he', 'him', 'his']\n"
     ]
    }
   ],
   "source": [
    "print(nltk.corpus.stopwords.words('english')[:20])"
   ]
  },
  {
   "cell_type": "code",
   "execution_count": 21,
   "metadata": {},
   "outputs": [],
   "source": [
    "stopwords=nltk.corpus.stopwords.words('english')"
   ]
  },
  {
   "cell_type": "code",
   "execution_count": 22,
   "metadata": {},
   "outputs": [],
   "source": [
    "all_token=[]"
   ]
  },
  {
   "cell_type": "code",
   "execution_count": 23,
   "metadata": {},
   "outputs": [],
   "source": [
    "# stemming(어간 추출) / Lemmatiztion(표제어 추출)"
   ]
  },
  {
   "cell_type": "code",
   "execution_count": 24,
   "metadata": {},
   "outputs": [],
   "source": [
    "from nltk.stem import LancasterStemmer"
   ]
  },
  {
   "cell_type": "code",
   "execution_count": 25,
   "metadata": {},
   "outputs": [],
   "source": [
    "stemmer=LancasterStemmer()"
   ]
  },
  {
   "cell_type": "code",
   "execution_count": 26,
   "metadata": {},
   "outputs": [
    {
     "name": "stdout",
     "output_type": "stream",
     "text": [
      "work work work\n"
     ]
    }
   ],
   "source": [
    "print(stemmer.stem('working'), stemmer.stem('works'), stemmer.stem('worked'))"
   ]
  },
  {
   "cell_type": "code",
   "execution_count": 27,
   "metadata": {},
   "outputs": [
    {
     "name": "stdout",
     "output_type": "stream",
     "text": [
      "amus amus amus\n"
     ]
    }
   ],
   "source": [
    "print(stemmer.stem('amusing'), stemmer.stem('amuses'), stemmer.stem('amused'))"
   ]
  },
  {
   "cell_type": "code",
   "execution_count": 28,
   "metadata": {},
   "outputs": [
    {
     "name": "stdout",
     "output_type": "stream",
     "text": [
      "happy happiest\n"
     ]
    }
   ],
   "source": [
    "print(stemmer.stem('happy'), stemmer.stem('happiest'))"
   ]
  },
  {
   "cell_type": "code",
   "execution_count": 29,
   "metadata": {},
   "outputs": [
    {
     "name": "stdout",
     "output_type": "stream",
     "text": [
      "fant fanciest\n"
     ]
    }
   ],
   "source": [
    "print(stemmer.stem('fancier'), stemmer.stem('fanciest'))"
   ]
  },
  {
   "cell_type": "code",
   "execution_count": 30,
   "metadata": {},
   "outputs": [],
   "source": [
    "from nltk.stem import WordNetLemmatizer"
   ]
  },
  {
   "cell_type": "code",
   "execution_count": 31,
   "metadata": {},
   "outputs": [],
   "source": [
    "import nltk"
   ]
  },
  {
   "cell_type": "code",
   "execution_count": 32,
   "metadata": {},
   "outputs": [
    {
     "name": "stderr",
     "output_type": "stream",
     "text": [
      "[nltk_data] Downloading package wordnet to\n",
      "[nltk_data]     C:\\Users\\sundooedu\\AppData\\Roaming\\nltk_data...\n",
      "[nltk_data]   Package wordnet is already up-to-date!\n"
     ]
    },
    {
     "data": {
      "text/plain": [
       "True"
      ]
     },
     "execution_count": 32,
     "metadata": {},
     "output_type": "execute_result"
    }
   ],
   "source": [
    "nltk.download('wordnet')"
   ]
  },
  {
   "cell_type": "code",
   "execution_count": 33,
   "metadata": {},
   "outputs": [],
   "source": [
    "lemma=WordNetLemmatizer()"
   ]
  },
  {
   "cell_type": "code",
   "execution_count": 34,
   "metadata": {},
   "outputs": [
    {
     "name": "stdout",
     "output_type": "stream",
     "text": [
      "amuse amuse amuse\n"
     ]
    }
   ],
   "source": [
    "print(lemma.lemmatize('amusing','v'), lemma.lemmatize('amuses','v'), lemma.lemmatize('amused','v'))"
   ]
  },
  {
   "cell_type": "markdown",
   "metadata": {},
   "source": [
    "- 동사만 추출(verb)"
   ]
  },
  {
   "cell_type": "markdown",
   "metadata": {},
   "source": [
    "hidden Markov Process\n",
    "--\n",
    "\n",
    "URL:  https://ko.wikipedia.org/wiki/%EC%9D%80%EB%8B%89_%EB%A7%88%EB%A5%B4%EC%BD%94%ED%94%84_%EB%AA%A8%ED%98%95\n",
    "\n",
    "금융권에서 많이 쓰임"
   ]
  },
  {
   "cell_type": "code",
   "execution_count": 35,
   "metadata": {},
   "outputs": [],
   "source": [
    "from nltk import bigrams, word_tokenize\n",
    "from nltk import ngrams\n",
    "\n",
    "sentence= 'I am a boy'\n",
    "token= word_tokenize(sentence)\n",
    "\n",
    "bigram = bigrams(token) # 2개로 쪼갠다.\n",
    "trigram= ngrams(token, 3) # 3개로 쪼갠다."
   ]
  },
  {
   "cell_type": "code",
   "execution_count": 36,
   "metadata": {},
   "outputs": [
    {
     "name": "stdout",
     "output_type": "stream",
     "text": [
      "('SS', 'I')\n",
      "('I', 'am')\n",
      "('am', 'a')\n",
      "('a', 'boy')\n",
      "('boy', 'SE')\n"
     ]
    }
   ],
   "source": [
    "bigram1=ngrams(token, 2, pad_left=True, pad_right=True, left_pad_symbol='SS'\n",
    "              , right_pad_symbol = 'SE')\n",
    "for t in bigram1:\n",
    "    print(t)"
   ]
  },
  {
   "cell_type": "markdown",
   "metadata": {},
   "source": [
    "각 문맥별 단어 빈도를 측정한 후에 conditionalProbDist 클래스를 사용하면 조건부 확률을 추정한다.\n",
    "--"
   ]
  },
  {
   "cell_type": "code",
   "execution_count": 37,
   "metadata": {},
   "outputs": [
    {
     "name": "stdout",
     "output_type": "stream",
     "text": [
      "['SS', 'I', 'am', 'a', 'boy']\n",
      "['I']\n"
     ]
    }
   ],
   "source": [
    "from nltk import ConditionalFreqDist\n",
    "from nltk import word_tokenize\n",
    "from nltk.util import ngrams\n",
    "\n",
    "sentence= 'I am a boy'\n",
    "tokens=word_tokenize(sentence)\n",
    "bigram=ngrams(tokens,2,pad_left=True, pad_right=True, left_pad_symbol='SS', right_pad_symbol='SE')\n",
    "\n",
    "cfd=ConditionalFreqDist( [(t[0], t[1]) for t in bigram])\n",
    "\n",
    "print(cfd.conditions())\n",
    "print(list(cfd['SS'])) #조건부 확률로 추정"
   ]
  },
  {
   "cell_type": "markdown",
   "metadata": {},
   "source": [
    "Movie_reviews 예제"
   ]
  },
  {
   "cell_type": "code",
   "execution_count": 38,
   "metadata": {},
   "outputs": [
    {
     "name": "stderr",
     "output_type": "stream",
     "text": [
      "[nltk_data] Downloading package movie_reviews to\n",
      "[nltk_data]     C:\\Users\\sundooedu\\AppData\\Roaming\\nltk_data...\n",
      "[nltk_data]   Package movie_reviews is already up-to-date!\n",
      "[nltk_data] Downloading package punkt to\n",
      "[nltk_data]     C:\\Users\\sundooedu\\AppData\\Roaming\\nltk_data...\n",
      "[nltk_data]   Package punkt is already up-to-date!\n"
     ]
    },
    {
     "data": {
      "text/plain": [
       "True"
      ]
     },
     "execution_count": 38,
     "metadata": {},
     "output_type": "execute_result"
    }
   ],
   "source": [
    "# Movie_reviews 예제를 해보겠습니다.\n",
    "import nltk\n",
    "nltk.download(\"movie_reviews\")\n",
    "nltk.download(\"punkt\")"
   ]
  },
  {
   "cell_type": "code",
   "execution_count": 39,
   "metadata": {},
   "outputs": [
    {
     "name": "stdout",
     "output_type": "stream",
     "text": [
      "[('SS', 'I'), ('I', 'am'), ('am', 'a'), ('a', 'boy'), ('boy', 'SE'), ('SS', 'I'), ('I', 'am'), ('am', 'a'), ('a', 'boy'), ('boy', 'SE'), ('SS', 'I'), ('I', 'am'), ('am', 'a'), ('a', 'boy'), ('boy', 'SE'), ('SS', 'I'), ('I', 'am'), ('am', 'a'), ('a', 'boy'), ('boy', 'SE')]\n"
     ]
    }
   ],
   "source": [
    "from nltk.corpus import movie_reviews #nltk.corpus: dataset\n",
    "\n",
    "sentences=[]\n",
    "for tokens in movie_reviews.sents():\n",
    "    bigram=ngrams(token, 2, pad_left=True, pad_right=True, left_pad_symbol='SS',\n",
    "                 right_pad_symbol='SE')\n",
    "    sentences +=[t for t in bigram]\n",
    "\n",
    "print(sentences[:20])"
   ]
  },
  {
   "cell_type": "markdown",
   "metadata": {},
   "source": [
    "문장의 처음(SS문맥) i라는 단어 다음, 마침표 다음에 나오는 단어의 빈도"
   ]
  },
  {
   "cell_type": "code",
   "execution_count": 40,
   "metadata": {},
   "outputs": [
    {
     "name": "stdout",
     "output_type": "stream",
     "text": [
      "[('I', 71532)]\n"
     ]
    }
   ],
   "source": [
    "cfd=ConditionalFreqDist(sentences)\n",
    "\n",
    "print(list(cfd['SS'].most_common(5)))"
   ]
  },
  {
   "cell_type": "code",
   "execution_count": 41,
   "metadata": {},
   "outputs": [
    {
     "data": {
      "image/png": "[encoded data removed]",
      "text/plain": [
       "<Figure size 432x288 with 1 Axes>"
      ]
     },
     "metadata": {
      "needs_background": "light"
     },
     "output_type": "display_data"
    },
    {
     "data": {
      "image/png": "[encoded data removed]",
      "text/plain": [
       "<Figure size 432x288 with 1 Axes>"
      ]
     },
     "metadata": {
      "needs_background": "light"
     },
     "output_type": "display_data"
    },
    {
     "data": {
      "image/png": "[encoded data removed]",
      "text/plain": [
       "<Figure size 432x288 with 1 Axes>"
      ]
     },
     "metadata": {
      "needs_background": "light"
     },
     "output_type": "display_data"
    },
    {
     "data": {
      "text/plain": [
       "<AxesSubplot:title={'center':'. next word'}, xlabel='Samples', ylabel='Counts'>"
      ]
     },
     "execution_count": 41,
     "metadata": {},
     "output_type": "execute_result"
    }
   ],
   "source": [
    "import matplotlib.pyplot as plt\n",
    "plt.subplot(311)\n",
    "cfd['SS'].plot(5, title=\"first word distribution in sentences\")\n",
    "plt.subplot(312)\n",
    "cfd['i'].plot(5, title=\"i next word\")\n",
    "plt.subplot(313)\n",
    "cfd[\".\"].plot(5, title='. next word')"
   ]
  },
  {
   "cell_type": "markdown",
   "metadata": {},
   "source": [
    "2021-05-07\n",
    "--"
   ]
  },
  {
   "cell_type": "code",
   "execution_count": 42,
   "metadata": {},
   "outputs": [],
   "source": [
    "stopwords=nltk.corpus.stopwords.words('english')\n",
    "all_tokens=[]"
   ]
  },
  {
   "cell_type": "code",
   "execution_count": 43,
   "metadata": {},
   "outputs": [
    {
     "ename": "TypeError",
     "evalue": "argument of type 'WordListCorpusReader' is not iterable",
     "output_type": "error",
     "traceback": [
      "\u001b[1;31m---------------------------------------------------------------------------\u001b[0m",
      "\u001b[1;31mTypeError\u001b[0m                                 Traceback (most recent call last)",
      "\u001b[1;32m<ipython-input-43-a861f2c6905d>\u001b[0m in \u001b[0;36m<module>\u001b[1;34m\u001b[0m\n\u001b[0;32m     16\u001b[0m         \u001b[1;31m# tokenize 된 개별 word가 stop words 들의 단어에 포함되지 않으면\u001b[0m\u001b[1;33m\u001b[0m\u001b[1;33m\u001b[0m\u001b[1;33m\u001b[0m\u001b[0m\n\u001b[0;32m     17\u001b[0m         \u001b[1;31m# word_tokens에 추가\u001b[0m\u001b[1;33m\u001b[0m\u001b[1;33m\u001b[0m\u001b[1;33m\u001b[0m\u001b[0m\n\u001b[1;32m---> 18\u001b[1;33m         \u001b[1;32mif\u001b[0m \u001b[0mword\u001b[0m \u001b[1;32mnot\u001b[0m \u001b[1;32min\u001b[0m \u001b[0mstopwords\u001b[0m\u001b[1;33m:\u001b[0m\u001b[1;33m\u001b[0m\u001b[1;33m\u001b[0m\u001b[0m\n\u001b[0m\u001b[0;32m     19\u001b[0m             \u001b[0mfiltered_words\u001b[0m\u001b[1;33m.\u001b[0m\u001b[0mappend\u001b[0m\u001b[1;33m(\u001b[0m\u001b[0mword\u001b[0m\u001b[1;33m)\u001b[0m\u001b[1;33m\u001b[0m\u001b[1;33m\u001b[0m\u001b[0m\n\u001b[0;32m     20\u001b[0m         \u001b[0mall_tokens\u001b[0m\u001b[1;33m.\u001b[0m\u001b[0mappend\u001b[0m\u001b[1;33m(\u001b[0m\u001b[0mfiltered_words\u001b[0m\u001b[1;33m)\u001b[0m\u001b[1;33m\u001b[0m\u001b[1;33m\u001b[0m\u001b[0m\n",
      "\u001b[1;31mTypeError\u001b[0m: argument of type 'WordListCorpusReader' is not iterable"
     ]
    }
   ],
   "source": [
    "from nltk.corpus import stopwords\n",
    "import nltk\n",
    "from nltk.corpus import stopwords\n",
    "from nltk.tokenize import word_tokenize \n",
    "import gc\n",
    "\n",
    "word_tokens='you data on internet ways work'\n",
    "sentences='Are you fascinated by the amount of text data available on the internet? Are you looking for ways to work with this text data but aren’t sure where to begin? Machines, after all, recognize numbers, not the letters of our language. And that can be a tricky landscape to navigate in machine learning.'\n",
    "\n",
    "for sentence in word_tokens:\n",
    "    filtered_words=[] # 필터링 한 word 출력\n",
    "    # 개별 문장별로 tokenize된 sentence list에 대해 stop word 세기 Loop\n",
    "    for word in sentence:\n",
    "        #소문자로 모두 변환합니다.\n",
    "        word=word.lower()\n",
    "        # tokenize 된 개별 word가 stop words 들의 단어에 포함되지 않으면\n",
    "        # word_tokens에 추가\n",
    "        if word not in stopwords:\n",
    "            filtered_words.append(word)\n",
    "        all_tokens.append(filtered_words)"
   ]
  },
  {
   "cell_type": "markdown",
   "metadata": {},
   "source": [
    "2021-05-10\n",
    "--"
   ]
  },
  {
   "cell_type": "code",
   "execution_count": 45,
   "metadata": {},
   "outputs": [
    {
     "name": "stderr",
     "output_type": "stream",
     "text": [
      "[nltk_data] Downloading package averaged_perceptron_tagger to\n",
      "[nltk_data]     C:\\Users\\sundooedu\\AppData\\Roaming\\nltk_data...\n",
      "[nltk_data]   Package averaged_perceptron_tagger is already up-to-\n",
      "[nltk_data]       date!\n"
     ]
    },
    {
     "name": "stdout",
     "output_type": "stream",
     "text": [
      "[('Today', 'NN'), ('is', 'VBZ'), ('monday', 'JJ'), (',', ','), ('I', 'PRP'), ('am', 'VBP'), ('so', 'RB'), ('tired', 'JJ'), ('now', 'RB'), ('.', '.')]\n"
     ]
    }
   ],
   "source": [
    "import nltk\n",
    "nltk.download('averaged_perceptron_tagger')\n",
    "from nltk.tag import pos_tag\n",
    "\n",
    "text='Today is monday, I am so tired now.'\n",
    "\n",
    "x=word_tokenize(text)\n",
    "\n",
    "print(pos_tag(x)) # 어떤 품사를 쓰였는지 구분하기 위해서\n"
   ]
  },
  {
   "cell_type": "code",
   "execution_count": 46,
   "metadata": {},
   "outputs": [
    {
     "name": "stdout",
     "output_type": "stream",
     "text": [
      "['polici', 'do', 'organ', 'have', 'go', 'love']\n"
     ]
    }
   ],
   "source": [
    "from nltk.stem import PorterStemmer\n",
    "from nltk.tokenize import word_tokenize\n",
    "# 어간 추출 속도 -> 표제어 추출 속도\n",
    "# porterStemmer 정밀 설계가 되어 있음. 정확도 높으나 속도는 약간 느림\n",
    "\n",
    "# 기본 어원으로 분석하는 것. -> corups를 줄이는 것\n",
    "s=PorterStemmer()\n",
    "words=['policy','doing','organization','have','going','love']\n",
    "\n",
    "print([s.stem(w) for w in words])"
   ]
  },
  {
   "cell_type": "code",
   "execution_count": 47,
   "metadata": {},
   "outputs": [
    {
     "name": "stderr",
     "output_type": "stream",
     "text": [
      "[nltk_data] Downloading package stopwords to\n",
      "[nltk_data]     C:\\Users\\sundooedu\\AppData\\Roaming\\nltk_data...\n",
      "[nltk_data]   Package stopwords is already up-to-date!\n"
     ]
    },
    {
     "data": {
      "text/plain": [
       "True"
      ]
     },
     "execution_count": 47,
     "metadata": {},
     "output_type": "execute_result"
    }
   ],
   "source": [
    "import nltk\n",
    "nltk.download('stopwords')"
   ]
  },
  {
   "cell_type": "code",
   "execution_count": 48,
   "metadata": {},
   "outputs": [
    {
     "name": "stdout",
     "output_type": "stream",
     "text": [
      "['고기를', '아무렇게나', '구우려고', '하면', '안', '돼', '.', '고기라고', '다', '같은', '것이', '아니거든', '.', '예컨대', '삼겹살을', '구울', '때는', '중요한', '게', '있지', '.']\n",
      "['고기를', '구우려고', '안', '돼', '.', '고기라고', '다', '같은', '것이', '.', '삼겹살을', '구울', '때는', '중요한', '게', '있지', '.']\n"
     ]
    }
   ],
   "source": [
    "from nltk.corpus import stopwords\n",
    "from nltk.tokenize import word_tokenize\n",
    "\n",
    "example=\"고기를 아무렇게나 구우려고 하면 안 돼.\\\n",
    "        고기라고 다 같은 것이 아니거든.\\\n",
    "        예컨대 삼겹살을 구울 때는 중요한 게 있지.\"\n",
    "stop_words=\"아무거나 아무렇게나 어찌하려든지 같다 비슷하다\\\n",
    "            예컨대 이럴정도로 하면 아니거든\"\n",
    "# 위의 불용어는 명사가 아닌 단어 중에서 저자가 임의로 선정한 것으로 실제 의미\n",
    "\n",
    "stop_words=stop_words.split(\" \")\n",
    "word_tokens=word_tokenize(example)\n",
    "\n",
    "result=[]\n",
    "for w in word_tokens:\n",
    "    if w not in stop_words:\n",
    "        result.append(w)\n",
    "\n",
    "# result=[word for word in word_tokens if not word in stop_words]\n",
    "\n",
    "print(word_tokens)\n",
    "print(result)"
   ]
  },
  {
   "cell_type": "code",
   "execution_count": 49,
   "metadata": {},
   "outputs": [],
   "source": [
    "from nltk.stem import WordNetLemmatizer"
   ]
  },
  {
   "cell_type": "code",
   "execution_count": 50,
   "metadata": {},
   "outputs": [
    {
     "name": "stdout",
     "output_type": "stream",
     "text": [
      "None\n"
     ]
    }
   ],
   "source": [
    "import re\n",
    "\n",
    "r= re.compile('a.c')\n",
    "print(r.search('kkk'))"
   ]
  },
  {
   "cell_type": "code",
   "execution_count": 51,
   "metadata": {},
   "outputs": [
    {
     "name": "stdout",
     "output_type": "stream",
     "text": [
      "<re.Match object; span=(0, 3), match='abc'>\n"
     ]
    }
   ],
   "source": [
    "print(r.search('abc'))"
   ]
  },
  {
   "cell_type": "code",
   "execution_count": 52,
   "metadata": {},
   "outputs": [
    {
     "name": "stdout",
     "output_type": "stream",
     "text": [
      "<re.Match object; span=(0, 5), match='abbbc'>\n"
     ]
    }
   ],
   "source": [
    "r2=re.compile('ab*c')\n",
    "print(r2.search('abbbc')) # wht? b가 최소 한 개는 들어가야 함."
   ]
  },
  {
   "cell_type": "code",
   "execution_count": 53,
   "metadata": {},
   "outputs": [],
   "source": [
    "# +기호: *와 비슷하다. 앞의 문자가 최소 1개 이상. ab+c -> ac 하고는 매칭이 안 됨."
   ]
  },
  {
   "cell_type": "code",
   "execution_count": 54,
   "metadata": {},
   "outputs": [
    {
     "name": "stdout",
     "output_type": "stream",
     "text": [
      "<re.Match object; span=(0, 3), match='abc'>\n"
     ]
    }
   ],
   "source": [
    "r=re.compile('ab+c')\n",
    "print(r.search('abc'))"
   ]
  },
  {
   "cell_type": "code",
   "execution_count": 55,
   "metadata": {},
   "outputs": [],
   "source": [
    "# ^기호: 시작하는 글자를 지정. ^a -> a로 시작되는 문자열만 찾아냄.\n",
    "# 문자에 해당 기호 붙이면, 해당 문자를 숫자만큼 반복하는 것을 나타냄."
   ]
  },
  {
   "cell_type": "code",
   "execution_count": 56,
   "metadata": {},
   "outputs": [
    {
     "name": "stdout",
     "output_type": "stream",
     "text": [
      "<re.Match object; span=(0, 7), match='abbbbbc'>\n"
     ]
    }
   ],
   "source": [
    "r=re.compile('ab{5}c')\n",
    "print(r.search('abbbbbc'))"
   ]
  },
  {
   "cell_type": "code",
   "execution_count": 57,
   "metadata": {},
   "outputs": [
    {
     "name": "stdout",
     "output_type": "stream",
     "text": [
      "<re.Match object; span=(0, 4), match='abbc'>\n"
     ]
    }
   ],
   "source": [
    "r=re.compile('ab{2,8}c')\n",
    "print(r.search('abbc')) # 2이상 8이하 만큼 반복."
   ]
  },
  {
   "cell_type": "code",
   "execution_count": 58,
   "metadata": {},
   "outputs": [],
   "source": [
    "# {숫자,} 기호\n",
    "# 해당 문자만큼 반복\n",
    "# r= re.compile('a{2,}bc')\n",
    "# print(r.search('aabc'))"
   ]
  },
  {
   "cell_type": "code",
   "execution_count": 59,
   "metadata": {},
   "outputs": [
    {
     "name": "stdout",
     "output_type": "stream",
     "text": [
      "<re.Match object; span=(0, 1), match='a'>\n"
     ]
    }
   ],
   "source": [
    "# []\n",
    "r= re.compile('[a-zA-Z]')\n",
    "print(r.search('aabc'))"
   ]
  },
  {
   "cell_type": "code",
   "execution_count": 60,
   "metadata": {},
   "outputs": [],
   "source": [
    "# re.match() VS re.search()\n",
    "# search(): 전체에 대해서 문자열 매칭\n",
    "# match(): 첫 부분 부터 정규표현식이 맞는지?"
   ]
  },
  {
   "cell_type": "code",
   "execution_count": 61,
   "metadata": {},
   "outputs": [
    {
     "name": "stdout",
     "output_type": "stream",
     "text": [
      "<re.Match object; span=(3, 6), match='abc'>\n"
     ]
    }
   ],
   "source": [
    "r= re.compile('ab.')\n",
    "print(r.search('kkkabc'))"
   ]
  },
  {
   "cell_type": "code",
   "execution_count": 62,
   "metadata": {},
   "outputs": [
    {
     "name": "stdout",
     "output_type": "stream",
     "text": [
      "None\n"
     ]
    }
   ],
   "source": [
    "print(r.match('kkkabc')) # match가 안 됨."
   ]
  },
  {
   "cell_type": "code",
   "execution_count": 63,
   "metadata": {},
   "outputs": [],
   "source": [
    "# findall: 정규표현식하고 매치되는 모든 문자열들을 리스트로 리턴.\n",
    "# 매치되는 게 없다 -> 빈 리스트 리턴"
   ]
  },
  {
   "cell_type": "code",
   "execution_count": 64,
   "metadata": {},
   "outputs": [
    {
     "name": "stdout",
     "output_type": "stream",
     "text": [
      "['010', '1234', '1234', '30']\n"
     ]
    }
   ],
   "source": [
    "text=\"\"\"이름: 김철수\n",
    "전화번호: 010-1234-1234\n",
    "나이: 30\n",
    "성별: 남\"\"\"\n",
    "\n",
    "print(re.findall(\"\\d+\", text)) # \\d: 숫자를 한글자씩 찾는다. \n",
    "# +: 연결하라는 것.\n",
    "# findall -> 숫자를 찾고 뒤에 있으면 계속 연결하시오."
   ]
  },
  {
   "cell_type": "code",
   "execution_count": 65,
   "metadata": {},
   "outputs": [],
   "source": [
    "# # \\d -> 0 -> 1 -> 0 -> - X -> 1 -> 2"
   ]
  },
  {
   "cell_type": "code",
   "execution_count": 66,
   "metadata": {},
   "outputs": [
    {
     "name": "stdout",
     "output_type": "stream",
     "text": [
      "Regular expression  A regular expression  regex or regexp     sometimes called a rational expression       is  in theoretical computer  science and formal language theory  a sequence of characters that define a search pattern \n"
     ]
    }
   ],
   "source": [
    "# re.sub(): 정규 표현식 패턴과 일치하는 문자열을 찾는 것,\n",
    "# 다른 문자열을 대체\n",
    "\n",
    "text=\"\"\"Regular expression: A regular expression, regex or regexp[1]\n",
    "(sometimes called a rational expression[2][3] is, in theoretical computer \n",
    "science and formal language theory, a sequence of characters that\n",
    "define a search pattern.\"\"\"\n",
    "\n",
    "print(re.sub('[^a-zA-Z]',' ',text)) # 특수 문자가 날라감.\n",
    "# replace하고 비슷함 특수문자를 강제로 없애버림."
   ]
  },
  {
   "cell_type": "code",
   "execution_count": 67,
   "metadata": {},
   "outputs": [
    {
     "name": "stdout",
     "output_type": "stream",
     "text": [
      "['100', 'John', 'PROF', '101', 'James', 'STUD', '102', 'Mac', 'STUD']\n",
      "['100', '101', '102']\n",
      "['J', 'P', 'R', 'O', 'F', 'J', 'S', 'T', 'U', 'D', 'M', 'S', 'T', 'U', 'D']\n"
     ]
    }
   ],
   "source": [
    "import re\n",
    "\n",
    "text=\"\"\"100 John PROF\n",
    "101 James STUD\n",
    "102 Mac STUD\"\"\"\n",
    "\n",
    "print(re.split('\\s+',text))\n",
    "# \\s+: 공백 여러 개를 기준으로 split\n",
    "\n",
    "print(re.findall('\\d+', text))\n",
    "print(re.findall('[A-Z]', text))"
   ]
  },
  {
   "cell_type": "code",
   "execution_count": 68,
   "metadata": {},
   "outputs": [
    {
     "name": "stdout",
     "output_type": "stream",
     "text": [
      "['John', 'James', 'Mac']\n"
     ]
    }
   ],
   "source": [
    "print(re.findall('[A-Z][a-z]+', text))"
   ]
  },
  {
   "cell_type": "code",
   "execution_count": 69,
   "metadata": {},
   "outputs": [
    {
     "name": "stdout",
     "output_type": "stream",
     "text": [
      "JohnPROFJamesSTUDMacSTUD\n"
     ]
    }
   ],
   "source": [
    "letters_only=re.sub('[^a-zA-Z]','',text)\n",
    "print(letters_only)"
   ]
  },
  {
   "cell_type": "code",
   "execution_count": 70,
   "metadata": {},
   "outputs": [],
   "source": [
    "# 정규 표현식을 이용한 토큰화"
   ]
  },
  {
   "cell_type": "code",
   "execution_count": 71,
   "metadata": {},
   "outputs": [
    {
     "name": "stdout",
     "output_type": "stream",
     "text": [
      "[\"Don't\", 'be', 'fooled', 'by', 'the', 'dark', 'sounding', 'name']\n"
     ]
    }
   ],
   "source": [
    "import nltk\n",
    "from nltk.tokenize import RegexpTokenizer\n",
    "# 정규 표현식 + token\n",
    "#tokenizer = RegexpTokenizer(\"[\\w]+\")\n",
    "# \\w \\+ : 문자 또는 숫자가 1개 이상인 경우 인식하는 코드\n",
    "#print(tokenizer.tokenize(\"Don't be fooled by the dark sounding name\"))\n",
    "\n",
    "tokenizer=RegexpTokenizer(\"[\\s]+\", gaps=True)\n",
    "print(tokenizer.tokenize(\"Don't be fooled by the dark sounding name\"))"
   ]
  },
  {
   "cell_type": "code",
   "execution_count": 72,
   "metadata": {},
   "outputs": [
    {
     "name": "stdout",
     "output_type": "stream",
     "text": [
      "['the', 'barber', 'went', 'up', 'a', 'huge', 'mountain', ['barber', 'went', 'huge', 'mountain']]\n"
     ]
    }
   ],
   "source": [
    "# 문장 토큰화\n",
    "from nltk.tokenize import sent_tokenize, word_tokenize\n",
    "from nltk import FreqDist\n",
    "from nltk.corpus import stopwords\n",
    "\n",
    "text=\"the barber went up a huge mountain\"\n",
    "text = sent_tokenize(text) #문장 토큰화\n",
    "# 정제 직접 + 단어 토큰화\n",
    "vocab= {} # 파이썬의 dictionary\n",
    "sentences=[]\n",
    "stop_words = set(stopwords.words('english'))\n",
    "\n",
    "stop_words = set(stopwords.words('english'))\n",
    "# dict: key, value 존재 -> 접근 key / set: value -> 순서가 없음.\n",
    "# dict -> key의 중복은 불가 value 중복가능(set, dict)\n",
    "for i in text:\n",
    "    sentences = word_tokenize(i) #문장으로 corpus ->word_tokenize    \n",
    "    result=[]\n",
    "    \n",
    "    for word in sentences: #단어로 토큰화\n",
    "        word=word.lower() # 소문자로 처리하겠다. -> 단어의 개수를 줄이기 위해\n",
    "        if word not in stop_words: #불용어 처리\n",
    "            if len(word)>2: # 단어 길이가 2이하인 경우에 대해서 추가로 단어를 제거.\n",
    "                result.append(word)\n",
    "            if word not in vocab:\n",
    "                    vocab[word]=0\n",
    "            vocab[word] +=1\n",
    "    sentences.append(result)\n",
    "                                \n",
    "vocab_sorted = sorted(vocab.items(), key= lambda x:x[1], reverse=True)\n",
    "print(sentences)"
   ]
  },
  {
   "cell_type": "code",
   "execution_count": 73,
   "metadata": {},
   "outputs": [
    {
     "name": "stdout",
     "output_type": "stream",
     "text": [
      "[]\n"
     ]
    }
   ],
   "source": [
    "sentences=[]\n",
    "word_to_index={}\n",
    "\n",
    "#OOV(out of vocabulary)\n",
    "word_to_index['OOV']=len(word_to_index)+1\n",
    "\n",
    "encoded=[]\n",
    "for s in sentences:\n",
    "    temp=[]\n",
    "    for w in s:\n",
    "        try:\n",
    "            temp.append(word_to_index[w])\n",
    "        except keyError:\n",
    "            temp.append(word_to_index['OOV'])\n",
    "    encoded.append(temp)\n",
    "\n",
    "print(encoded)"
   ]
  },
  {
   "cell_type": "code",
   "execution_count": 74,
   "metadata": {},
   "outputs": [],
   "source": [
    "# print(encoded)\n",
    "from collections import Counter\n",
    "# print(sentences)\n",
    "# 단어 집합(Vocab)을 만들기 위해서\n",
    "# sentences에서 문장의 경계인 곳을[,] 를 제거하고 하나의 리스트를 만듬"
   ]
  },
  {
   "cell_type": "code",
   "execution_count": 75,
   "metadata": {},
   "outputs": [],
   "source": [
    "words=sum(sentences, []) #numpy ->hstack으로도 수행가능"
   ]
  },
  {
   "cell_type": "code",
   "execution_count": 76,
   "metadata": {},
   "outputs": [],
   "source": [
    "vocab=Counter(words)\n",
    "# print(vocab)"
   ]
  },
  {
   "cell_type": "code",
   "execution_count": 77,
   "metadata": {},
   "outputs": [
    {
     "ename": "ValueError",
     "evalue": "need at least one array to concatenate",
     "output_type": "error",
     "traceback": [
      "\u001b[1;31m---------------------------------------------------------------------------\u001b[0m",
      "\u001b[1;31mValueError\u001b[0m                                Traceback (most recent call last)",
      "\u001b[1;32m<ipython-input-77-48a8e1d83f1e>\u001b[0m in \u001b[0;36m<module>\u001b[1;34m\u001b[0m\n\u001b[0;32m      3\u001b[0m \u001b[1;32mimport\u001b[0m \u001b[0mnumpy\u001b[0m \u001b[1;32mas\u001b[0m \u001b[0mnp\u001b[0m\u001b[1;33m\u001b[0m\u001b[1;33m\u001b[0m\u001b[0m\n\u001b[0;32m      4\u001b[0m \u001b[1;33m\u001b[0m\u001b[0m\n\u001b[1;32m----> 5\u001b[1;33m \u001b[0mvocab1\u001b[0m\u001b[1;33m=\u001b[0m\u001b[0mFreqDist\u001b[0m\u001b[1;33m(\u001b[0m\u001b[0mnp\u001b[0m\u001b[1;33m.\u001b[0m\u001b[0mhstack\u001b[0m\u001b[1;33m(\u001b[0m\u001b[0msentences\u001b[0m\u001b[1;33m)\u001b[0m\u001b[1;33m)\u001b[0m\u001b[1;33m\u001b[0m\u001b[1;33m\u001b[0m\u001b[0m\n\u001b[0m\u001b[0;32m      6\u001b[0m \u001b[0mvocab_size\u001b[0m\u001b[1;33m=\u001b[0m\u001b[1;36m5\u001b[0m \u001b[1;31m# 빈도수가 높은 상위 5개의 단어만 저장\u001b[0m\u001b[1;33m\u001b[0m\u001b[1;33m\u001b[0m\u001b[0m\n\u001b[0;32m      7\u001b[0m \u001b[1;33m\u001b[0m\u001b[0m\n",
      "\u001b[1;32m<__array_function__ internals>\u001b[0m in \u001b[0;36mhstack\u001b[1;34m(*args, **kwargs)\u001b[0m\n",
      "\u001b[1;32mC:\\ProgramData\\Anaconda3\\lib\\site-packages\\numpy\\core\\shape_base.py\u001b[0m in \u001b[0;36mhstack\u001b[1;34m(tup)\u001b[0m\n\u001b[0;32m    344\u001b[0m         \u001b[1;32mreturn\u001b[0m \u001b[0m_nx\u001b[0m\u001b[1;33m.\u001b[0m\u001b[0mconcatenate\u001b[0m\u001b[1;33m(\u001b[0m\u001b[0marrs\u001b[0m\u001b[1;33m,\u001b[0m \u001b[1;36m0\u001b[0m\u001b[1;33m)\u001b[0m\u001b[1;33m\u001b[0m\u001b[1;33m\u001b[0m\u001b[0m\n\u001b[0;32m    345\u001b[0m     \u001b[1;32melse\u001b[0m\u001b[1;33m:\u001b[0m\u001b[1;33m\u001b[0m\u001b[1;33m\u001b[0m\u001b[0m\n\u001b[1;32m--> 346\u001b[1;33m         \u001b[1;32mreturn\u001b[0m \u001b[0m_nx\u001b[0m\u001b[1;33m.\u001b[0m\u001b[0mconcatenate\u001b[0m\u001b[1;33m(\u001b[0m\u001b[0marrs\u001b[0m\u001b[1;33m,\u001b[0m \u001b[1;36m1\u001b[0m\u001b[1;33m)\u001b[0m\u001b[1;33m\u001b[0m\u001b[1;33m\u001b[0m\u001b[0m\n\u001b[0m\u001b[0;32m    347\u001b[0m \u001b[1;33m\u001b[0m\u001b[0m\n\u001b[0;32m    348\u001b[0m \u001b[1;33m\u001b[0m\u001b[0m\n",
      "\u001b[1;32m<__array_function__ internals>\u001b[0m in \u001b[0;36mconcatenate\u001b[1;34m(*args, **kwargs)\u001b[0m\n",
      "\u001b[1;31mValueError\u001b[0m: need at least one array to concatenate"
     ]
    }
   ],
   "source": [
    "# 3. FreqDist 사용하기\n",
    "from nltk import FreqDist\n",
    "import numpy as np\n",
    "\n",
    "vocab1=FreqDist(np.hstack(sentences))\n",
    "vocab_size=5 # 빈도수가 높은 상위 5개의 단어만 저장\n",
    "\n",
    "vocab2=vocab1.most_common(vocab_size)\n",
    "print(vocab2)"
   ]
  },
  {
   "cell_type": "markdown",
   "metadata": {},
   "source": [
    "2021-05-11\n",
    "--"
   ]
  },
  {
   "cell_type": "markdown",
   "metadata": {},
   "source": [
    "정규 표현식\n",
    "--"
   ]
  },
  {
   "cell_type": "code",
   "execution_count": 78,
   "metadata": {},
   "outputs": [
    {
     "name": "stderr",
     "output_type": "stream",
     "text": [
      "'pyton'은(는) 내부 또는 외부 명령, 실행할 수 있는 프로그램, 또는\n",
      "배치 파일이 아닙니다.\n"
     ]
    }
   ],
   "source": [
    "!pyton pykos.py"
   ]
  },
  {
   "cell_type": "code",
   "execution_count": 79,
   "metadata": {},
   "outputs": [
    {
     "name": "stderr",
     "output_type": "stream",
     "text": [
      "ERROR: Could not open requirements file: [Errno 2] No such file or directory: '.\\\\requrements.txt'\n"
     ]
    }
   ],
   "source": [
    "!pip install -r.\\requrements.txt"
   ]
  },
  {
   "cell_type": "code",
   "execution_count": 80,
   "metadata": {},
   "outputs": [],
   "source": [
    "from nltk import ConditionalFreqDist"
   ]
  },
  {
   "cell_type": "code",
   "execution_count": 81,
   "metadata": {},
   "outputs": [],
   "source": [
    "from nltk.util import ngrams\n",
    "\n",
    "sentence='I am a boy'\n",
    "tokens=word_tokenize(sentence)\n",
    "biggram=ngrams(tokens, 2, pad_left=True,\n",
    "               pad_right=True,\n",
    "               left_pad_symbol='SS',\n",
    "               right_pad_symbol=\"SE\")"
   ]
  },
  {
   "cell_type": "code",
   "execution_count": 82,
   "metadata": {},
   "outputs": [],
   "source": [
    "# 조건부 확률을 추정하려면 None? -> I / None -> padding(SS) boy -> None SE(padding)"
   ]
  },
  {
   "cell_type": "code",
   "execution_count": 83,
   "metadata": {},
   "outputs": [],
   "source": [
    "cfd=ConditionalFreqDist([t[0],t[1]] for t in bigram)\n",
    "# 조건부 확률을 사용"
   ]
  },
  {
   "cell_type": "code",
   "execution_count": 84,
   "metadata": {},
   "outputs": [
    {
     "name": "stdout",
     "output_type": "stream",
     "text": [
      "[]\n"
     ]
    }
   ],
   "source": [
    "print(list(cfd.conditions()))\n",
    "#['[SS','I','am','a','boy']]"
   ]
  },
  {
   "cell_type": "code",
   "execution_count": 85,
   "metadata": {},
   "outputs": [
    {
     "name": "stderr",
     "output_type": "stream",
     "text": [
      "[nltk_data] Downloading package movie_reviews to\n",
      "[nltk_data]     C:\\Users\\sundooedu\\AppData\\Roaming\\nltk_data...\n",
      "[nltk_data]   Package movie_reviews is already up-to-date!\n",
      "[nltk_data] Downloading package punkt to\n",
      "[nltk_data]     C:\\Users\\sundooedu\\AppData\\Roaming\\nltk_data...\n",
      "[nltk_data]   Package punkt is already up-to-date!\n"
     ]
    },
    {
     "name": "stdout",
     "output_type": "stream",
     "text": [
      "[('the', 8071), ('.', 3173), ('it', 3136), ('i', 2471), ('but', 1814)]\n"
     ]
    }
   ],
   "source": [
    "import nltk\n",
    "nltk.download('movie_reviews')\n",
    "nltk.download('punkt')\n",
    "from nltk.corpus import movie_reviews\n",
    "from nltk import ConditionalFreqDist\n",
    "# 조건부 확률 추정 방법\n",
    "from nltk import word_tokenize\n",
    "from nltk.util import bigrams,ngrams\n",
    "\n",
    "sentences=[]\n",
    "for tokens in movie_reviews.sents():\n",
    "    bigram=ngrams(tokens, 2, pad_left=True, pad_right=True,\n",
    "                  left_pad_symbol='SS', right_pad_symbol='SE')\n",
    "    sentences += [t for t in bigram]\n",
    "\n",
    "cfd=ConditionalFreqDist(sentences)\n",
    "print(list(cfd['SS'].most_common(5))) # SS -> 가장 많이 등장하는 5개"
   ]
  },
  {
   "cell_type": "code",
   "execution_count": 86,
   "metadata": {},
   "outputs": [
    {
     "data": {
      "image/png": "[encoded data removed]",
      "text/plain": [
       "<Figure size 432x288 with 1 Axes>"
      ]
     },
     "metadata": {
      "needs_background": "light"
     },
     "output_type": "display_data"
    },
    {
     "data": {
      "image/png": "[encoded data removed]",
      "text/plain": [
       "<Figure size 432x288 with 1 Axes>"
      ]
     },
     "metadata": {
      "needs_background": "light"
     },
     "output_type": "display_data"
    },
    {
     "data": {
      "image/png": "[encoded data removed]",
      "text/plain": [
       "<Figure size 432x288 with 1 Axes>"
      ]
     },
     "metadata": {
      "needs_background": "light"
     },
     "output_type": "display_data"
    },
    {
     "data": {
      "text/plain": [
       "<AxesSubplot:title={'center':'Third word distribution'}, xlabel='Samples', ylabel='Counts'>"
      ]
     },
     "execution_count": 86,
     "metadata": {},
     "output_type": "execute_result"
    }
   ],
   "source": [
    "import matplotlib.pyplot as plt\n",
    "\n",
    "plt.subplot(331)\n",
    "cfd['SS'].plot(5, title= 'first word distribution')\n",
    "plt.subplot(332)\n",
    "cfd['i'].plot(5, title='Second word distribution')\n",
    "plt.subplot(333)\n",
    "cfd['.'].plot(5, title='Third word distribution')"
   ]
  },
  {
   "cell_type": "code",
   "execution_count": 87,
   "metadata": {},
   "outputs": [
    {
     "ename": "TypeError",
     "evalue": "'float' object is not iterable",
     "output_type": "error",
     "traceback": [
      "\u001b[1;31m---------------------------------------------------------------------------\u001b[0m",
      "\u001b[1;31mTypeError\u001b[0m                                 Traceback (most recent call last)",
      "\u001b[1;32m<ipython-input-87-a1833629af02>\u001b[0m in \u001b[0;36m<module>\u001b[1;34m\u001b[0m\n\u001b[0;32m      3\u001b[0m \u001b[1;33m\u001b[0m\u001b[0m\n\u001b[0;32m      4\u001b[0m \u001b[0mcpd\u001b[0m\u001b[1;33m=\u001b[0m\u001b[0mConditionalProbDist\u001b[0m\u001b[1;33m(\u001b[0m\u001b[0mcfd\u001b[0m\u001b[1;33m,\u001b[0m \u001b[0mMLEProbDist\u001b[0m\u001b[1;33m)\u001b[0m\u001b[1;33m\u001b[0m\u001b[1;33m\u001b[0m\u001b[0m\n\u001b[1;32m----> 5\u001b[1;33m \u001b[0mprint\u001b[0m\u001b[1;33m(\u001b[0m\u001b[0mlist\u001b[0m\u001b[1;33m(\u001b[0m\u001b[0mcpd\u001b[0m\u001b[1;33m[\u001b[0m\u001b[1;34m'we'\u001b[0m\u001b[1;33m]\u001b[0m\u001b[1;33m.\u001b[0m\u001b[0mprob\u001b[0m\u001b[1;33m(\u001b[0m\u001b[1;34m'are'\u001b[0m\u001b[1;33m)\u001b[0m\u001b[1;33m)\u001b[0m\u001b[1;33m)\u001b[0m\u001b[1;33m\u001b[0m\u001b[1;33m\u001b[0m\u001b[0m\n\u001b[0m",
      "\u001b[1;31mTypeError\u001b[0m: 'float' object is not iterable"
     ]
    }
   ],
   "source": [
    "from nltk.probability import ConditionalFreqDist, MLEProbDist, ConditionalProbDist\n",
    "# maxium Likelihood estimation\n",
    "\n",
    "cpd=ConditionalProbDist(cfd, MLEProbDist)\n",
    "print(list(cpd['we'].prob('are')))"
   ]
  },
  {
   "cell_type": "code",
   "execution_count": 88,
   "metadata": {},
   "outputs": [
    {
     "name": "stdout",
     "output_type": "stream",
     "text": [
      "['i', 'like', 'the', 'movie', '.']\n"
     ]
    }
   ],
   "source": [
    "# 문장(단어 리스트)의 리스트를 만듬\n",
    "\n",
    "def sentence_score(s):\n",
    "    p=0.0\n",
    "    for i in range(len(s)-1):\n",
    "        c=s[i]\n",
    "        w=s[i+1]\n",
    "        p+=np.log(cpd[c].prob(w)\n",
    "                 +np.finfo(float).eps)\n",
    "        #overflow 방지\n",
    "        return np.exp(p)\n",
    "test_sentence=['i','like','the','movie','.']\n",
    "print(test_sentence)"
   ]
  },
  {
   "cell_type": "code",
   "execution_count": 96,
   "metadata": {},
   "outputs": [
    {
     "ename": "TypeError",
     "evalue": "__init__() missing 1 required positional argument: 'probdist_factory'",
     "output_type": "error",
     "traceback": [
      "\u001b[1;31m---------------------------------------------------------------------------\u001b[0m",
      "\u001b[1;31mTypeError\u001b[0m                                 Traceback (most recent call last)",
      "\u001b[1;32m<ipython-input-96-80d9dd9594f2>\u001b[0m in \u001b[0;36m<module>\u001b[1;34m\u001b[0m\n\u001b[0;32m      1\u001b[0m \u001b[1;32mfrom\u001b[0m \u001b[0mnltk\u001b[0m\u001b[1;33m.\u001b[0m\u001b[0mprobability\u001b[0m \u001b[1;32mimport\u001b[0m \u001b[0mConditionalFreqDist\u001b[0m\u001b[1;33m,\u001b[0m \u001b[0mMLEProbDist\u001b[0m\u001b[1;33m,\u001b[0m \u001b[0mConditionalProbDist\u001b[0m\u001b[1;33m\u001b[0m\u001b[1;33m\u001b[0m\u001b[0m\n\u001b[0;32m      2\u001b[0m \u001b[1;33m\u001b[0m\u001b[0m\n\u001b[1;32m----> 3\u001b[1;33m \u001b[0mcpd\u001b[0m\u001b[1;33m=\u001b[0m\u001b[0mConditionalProbDist\u001b[0m\u001b[1;33m(\u001b[0m\u001b[0msentence\u001b[0m\u001b[1;33m)\u001b[0m\u001b[1;33m\u001b[0m\u001b[1;33m\u001b[0m\u001b[0m\n\u001b[0m\u001b[0;32m      4\u001b[0m \u001b[1;33m\u001b[0m\u001b[0m\n\u001b[0;32m      5\u001b[0m \u001b[1;31m# 랜덤하게 문장 생성\u001b[0m\u001b[1;33m\u001b[0m\u001b[1;33m\u001b[0m\u001b[1;33m\u001b[0m\u001b[0m\n",
      "\u001b[1;31mTypeError\u001b[0m: __init__() missing 1 required positional argument: 'probdist_factory'"
     ]
    }
   ],
   "source": [
    "from nltk.probability import ConditionalFreqDist, MLEProbDist, ConditionalProbDist\n",
    "\n",
    "cpd=ConditionalProbDist(sentence)\n",
    "\n",
    "# 랜덤하게 문장 생성\n",
    "def generate_sentence(seed=None):\n",
    "    if seed is not None:\n",
    "        import random\n",
    "        random.seed(seed)\n",
    "    c='SS'\n",
    "    sentence=[]\n",
    "    \n",
    "    while True:\n",
    "        if c not in cpd:\n",
    "            break\n",
    "        w=cpd[c].generate() #NLTK\n",
    "        \n",
    "        if w =='SE': #first_padding\n",
    "            break\n",
    "        elif w in ['i','ii','iii']:\n",
    "            w2=w.upper()\n",
    "        elif w in [\"mr\",\"luc\",\"i\",\"robin\",\"williams\",\"cindy\",\"crawfo\"]:\n",
    "            w2=w.title()\n",
    "        else:\n",
    "            w2=w\n",
    "        if c=='SS':\n",
    "            sentence.append(w2.title(w2))\n",
    "        elif c in [\"'\",\"\\ \",\"'\",\"(\",'\\\\']:\n",
    "            sentence.append9(w2.title(w2))\n",
    "        else:\n",
    "            sentence.append(''+w2)\n",
    "        c=w\n",
    "    return \"\".join(sentence)\n",
    "\n",
    "print(generate_sentence(6))"
   ]
  },
  {
   "cell_type": "code",
   "execution_count": null,
   "metadata": {},
   "outputs": [],
   "source": []
  },
  {
   "cell_type": "code",
   "execution_count": null,
   "metadata": {},
   "outputs": [],
   "source": []
  },
  {
   "cell_type": "code",
   "execution_count": null,
   "metadata": {},
   "outputs": [],
   "source": []
  },
  {
   "cell_type": "code",
   "execution_count": null,
   "metadata": {},
   "outputs": [],
   "source": []
  },
  {
   "cell_type": "code",
   "execution_count": null,
   "metadata": {},
   "outputs": [],
   "source": []
  },
  {
   "cell_type": "code",
   "execution_count": null,
   "metadata": {},
   "outputs": [],
   "source": []
  },
  {
   "cell_type": "code",
   "execution_count": null,
   "metadata": {},
   "outputs": [],
   "source": []
  },
  {
   "cell_type": "code",
   "execution_count": null,
   "metadata": {},
   "outputs": [],
   "source": []
  },
  {
   "cell_type": "code",
   "execution_count": null,
   "metadata": {},
   "outputs": [],
   "source": []
  },
  {
   "cell_type": "code",
   "execution_count": null,
   "metadata": {},
   "outputs": [],
   "source": []
  },
  {
   "cell_type": "code",
   "execution_count": null,
   "metadata": {},
   "outputs": [],
   "source": []
  },
  {
   "cell_type": "code",
   "execution_count": null,
   "metadata": {},
   "outputs": [],
   "source": []
  },
  {
   "cell_type": "code",
   "execution_count": null,
   "metadata": {},
   "outputs": [],
   "source": []
  },
  {
   "cell_type": "code",
   "execution_count": null,
   "metadata": {},
   "outputs": [],
   "source": []
  },
  {
   "cell_type": "code",
   "execution_count": null,
   "metadata": {},
   "outputs": [],
   "source": []
  },
  {
   "cell_type": "code",
   "execution_count": null,
   "metadata": {},
   "outputs": [],
   "source": []
  },
  {
   "cell_type": "code",
   "execution_count": null,
   "metadata": {},
   "outputs": [],
   "source": []
  },
  {
   "cell_type": "code",
   "execution_count": null,
   "metadata": {},
   "outputs": [],
   "source": []
  },
  {
   "cell_type": "markdown",
   "metadata": {},
   "source": [
    "구매예측 문제 상품설명에 적용\n",
    "--"
   ]
  },
  {
   "cell_type": "code",
   "execution_count": 295,
   "metadata": {},
   "outputs": [],
   "source": [
    "import pandas as pd\n",
    "train=pd.read_csv('C:/Users/sundooedu/Desktop/빅데이터분석수업자료/구매예측 문제/train.csv',  parse_dates=['order_date'])"
   ]
  },
  {
   "cell_type": "code",
   "execution_count": 296,
   "metadata": {},
   "outputs": [],
   "source": [
    "df_train=pd.DataFrame(train)"
   ]
  },
  {
   "cell_type": "code",
   "execution_count": 297,
   "metadata": {},
   "outputs": [
    {
     "data": {
      "text/plain": [
       "0         15CM CHRISTMAS GLASS BALL 20 LIGHTS\n",
       "1                          PINK CHERRY LIGHTS\n",
       "2                         WHITE CHERRY LIGHTS\n",
       "3                RECORD FRAME 7\" SINGLE SIZE \n",
       "4              STRAWBERRY CERAMIC TRINKET BOX\n",
       "                         ...                 \n",
       "780497                         POPCORN HOLDER\n",
       "780498         TRIPLE HOOK ANTIQUE IVORY ROSE\n",
       "780499           ANTIQUE SILVER T-LIGHT GLASS\n",
       "780500    15CM CHRISTMAS GLASS BALL 20 LIGHTS\n",
       "780501       T-LIGHT HOLDER HANGING LOVE BIRD\n",
       "Name: description, Length: 780502, dtype: object"
      ]
     },
     "execution_count": 297,
     "metadata": {},
     "output_type": "execute_result"
    }
   ],
   "source": [
    "df_train.description"
   ]
  },
  {
   "cell_type": "markdown",
   "metadata": {},
   "source": [
    "- 단어별로 나누어 보기"
   ]
  },
  {
   "cell_type": "code",
   "execution_count": 298,
   "metadata": {},
   "outputs": [
    {
     "data": {
      "text/plain": [
       "[['15CM', 'CHRISTMAS', 'GLASS', 'BALL', '20', 'LIGHTS']]"
      ]
     },
     "execution_count": 298,
     "metadata": {},
     "output_type": "execute_result"
    }
   ],
   "source": [
    "from nltk.tokenize import TreebankWordTokenizer\n",
    "tokenize_text(df_train.description[0])"
   ]
  },
  {
   "cell_type": "markdown",
   "metadata": {},
   "source": [
    "- 문장별로 나누어 보기"
   ]
  },
  {
   "cell_type": "code",
   "execution_count": 299,
   "metadata": {},
   "outputs": [],
   "source": [
    "from nltk import sent_tokenize\n",
    "sentences = sent_tokenize(text=df_train.description[0])"
   ]
  },
  {
   "cell_type": "code",
   "execution_count": 300,
   "metadata": {},
   "outputs": [
    {
     "data": {
      "text/plain": [
       "['15CM CHRISTMAS GLASS BALL 20 LIGHTS']"
      ]
     },
     "execution_count": 300,
     "metadata": {},
     "output_type": "execute_result"
    }
   ],
   "source": [
    "sentences"
   ]
  },
  {
   "cell_type": "code",
   "execution_count": 301,
   "metadata": {},
   "outputs": [
    {
     "name": "stdout",
     "output_type": "stream",
     "text": [
      "<class 'list'> 1\n"
     ]
    }
   ],
   "source": [
    "print(type(sentences), len(sentences))"
   ]
  },
  {
   "cell_type": "markdown",
   "metadata": {},
   "source": [
    "단어별로 나누어서 보는 것보다는 상품 설명 한 문장으로 접근하는 것이 상품 설명 언급횟수를 보기에 더 적절해 보인다.\n",
    "--\n",
    "\n",
    "- 상품 설명 보기"
   ]
  },
  {
   "cell_type": "code",
   "execution_count": 302,
   "metadata": {},
   "outputs": [
    {
     "data": {
      "text/plain": [
       "0         15CM CHRISTMAS GLASS BALL 20 LIGHTS\n",
       "1                          PINK CHERRY LIGHTS\n",
       "2                         WHITE CHERRY LIGHTS\n",
       "3                RECORD FRAME 7\" SINGLE SIZE \n",
       "4              STRAWBERRY CERAMIC TRINKET BOX\n",
       "                         ...                 \n",
       "780497                         POPCORN HOLDER\n",
       "780498         TRIPLE HOOK ANTIQUE IVORY ROSE\n",
       "780499           ANTIQUE SILVER T-LIGHT GLASS\n",
       "780500    15CM CHRISTMAS GLASS BALL 20 LIGHTS\n",
       "780501       T-LIGHT HOLDER HANGING LOVE BIRD\n",
       "Name: description, Length: 780502, dtype: object"
      ]
     },
     "execution_count": 302,
     "metadata": {},
     "output_type": "execute_result"
    }
   ],
   "source": [
    "df_train.description"
   ]
  },
  {
   "cell_type": "markdown",
   "metadata": {},
   "source": [
    "구매자 고객 집단과 환불 고객 집단으로 나누어서 보기\n",
    "--"
   ]
  },
  {
   "cell_type": "code",
   "execution_count": 303,
   "metadata": {},
   "outputs": [
    {
     "data": {
      "text/html": [
       "<div>\n",
       "<style scoped>\n",
       "    .dataframe tbody tr th:only-of-type {\n",
       "        vertical-align: middle;\n",
       "    }\n",
       "\n",
       "    .dataframe tbody tr th {\n",
       "        vertical-align: top;\n",
       "    }\n",
       "\n",
       "    .dataframe thead th {\n",
       "        text-align: right;\n",
       "    }\n",
       "</style>\n",
       "<table border=\"1\" class=\"dataframe\">\n",
       "  <thead>\n",
       "    <tr style=\"text-align: right;\">\n",
       "      <th></th>\n",
       "      <th>order_id</th>\n",
       "      <th>product_id</th>\n",
       "      <th>description</th>\n",
       "      <th>quantity</th>\n",
       "      <th>order_date</th>\n",
       "      <th>price</th>\n",
       "      <th>customer_id</th>\n",
       "      <th>country</th>\n",
       "      <th>total</th>\n",
       "    </tr>\n",
       "  </thead>\n",
       "  <tbody>\n",
       "    <tr>\n",
       "      <th>0</th>\n",
       "      <td>489434</td>\n",
       "      <td>85048</td>\n",
       "      <td>15CM CHRISTMAS GLASS BALL 20 LIGHTS</td>\n",
       "      <td>12</td>\n",
       "      <td>2009-12-01 07:45:00</td>\n",
       "      <td>11.4675</td>\n",
       "      <td>13085</td>\n",
       "      <td>United Kingdom</td>\n",
       "      <td>137.6100</td>\n",
       "    </tr>\n",
       "    <tr>\n",
       "      <th>1</th>\n",
       "      <td>489434</td>\n",
       "      <td>79323P</td>\n",
       "      <td>PINK CHERRY LIGHTS</td>\n",
       "      <td>12</td>\n",
       "      <td>2009-12-01 07:45:00</td>\n",
       "      <td>11.1375</td>\n",
       "      <td>13085</td>\n",
       "      <td>United Kingdom</td>\n",
       "      <td>133.6500</td>\n",
       "    </tr>\n",
       "    <tr>\n",
       "      <th>2</th>\n",
       "      <td>489434</td>\n",
       "      <td>79323W</td>\n",
       "      <td>WHITE CHERRY LIGHTS</td>\n",
       "      <td>12</td>\n",
       "      <td>2009-12-01 07:45:00</td>\n",
       "      <td>11.1375</td>\n",
       "      <td>13085</td>\n",
       "      <td>United Kingdom</td>\n",
       "      <td>133.6500</td>\n",
       "    </tr>\n",
       "    <tr>\n",
       "      <th>3</th>\n",
       "      <td>489434</td>\n",
       "      <td>22041</td>\n",
       "      <td>RECORD FRAME 7\" SINGLE SIZE</td>\n",
       "      <td>48</td>\n",
       "      <td>2009-12-01 07:45:00</td>\n",
       "      <td>3.4650</td>\n",
       "      <td>13085</td>\n",
       "      <td>United Kingdom</td>\n",
       "      <td>166.3200</td>\n",
       "    </tr>\n",
       "    <tr>\n",
       "      <th>4</th>\n",
       "      <td>489434</td>\n",
       "      <td>21232</td>\n",
       "      <td>STRAWBERRY CERAMIC TRINKET BOX</td>\n",
       "      <td>24</td>\n",
       "      <td>2009-12-01 07:45:00</td>\n",
       "      <td>2.0625</td>\n",
       "      <td>13085</td>\n",
       "      <td>United Kingdom</td>\n",
       "      <td>49.5000</td>\n",
       "    </tr>\n",
       "    <tr>\n",
       "      <th>...</th>\n",
       "      <td>...</td>\n",
       "      <td>...</td>\n",
       "      <td>...</td>\n",
       "      <td>...</td>\n",
       "      <td>...</td>\n",
       "      <td>...</td>\n",
       "      <td>...</td>\n",
       "      <td>...</td>\n",
       "      <td>...</td>\n",
       "    </tr>\n",
       "    <tr>\n",
       "      <th>780497</th>\n",
       "      <td>C579886</td>\n",
       "      <td>22197</td>\n",
       "      <td>POPCORN HOLDER</td>\n",
       "      <td>-1</td>\n",
       "      <td>2011-11-30 17:39:00</td>\n",
       "      <td>1.4025</td>\n",
       "      <td>15676</td>\n",
       "      <td>United Kingdom</td>\n",
       "      <td>-1.4025</td>\n",
       "    </tr>\n",
       "    <tr>\n",
       "      <th>780498</th>\n",
       "      <td>C579886</td>\n",
       "      <td>23146</td>\n",
       "      <td>TRIPLE HOOK ANTIQUE IVORY ROSE</td>\n",
       "      <td>-1</td>\n",
       "      <td>2011-11-30 17:39:00</td>\n",
       "      <td>5.4285</td>\n",
       "      <td>15676</td>\n",
       "      <td>United Kingdom</td>\n",
       "      <td>-5.4285</td>\n",
       "    </tr>\n",
       "    <tr>\n",
       "      <th>780499</th>\n",
       "      <td>C579887</td>\n",
       "      <td>84946</td>\n",
       "      <td>ANTIQUE SILVER T-LIGHT GLASS</td>\n",
       "      <td>-1</td>\n",
       "      <td>2011-11-30 17:42:00</td>\n",
       "      <td>2.0625</td>\n",
       "      <td>16717</td>\n",
       "      <td>United Kingdom</td>\n",
       "      <td>-2.0625</td>\n",
       "    </tr>\n",
       "    <tr>\n",
       "      <th>780500</th>\n",
       "      <td>C579887</td>\n",
       "      <td>85048</td>\n",
       "      <td>15CM CHRISTMAS GLASS BALL 20 LIGHTS</td>\n",
       "      <td>-1</td>\n",
       "      <td>2011-11-30 17:42:00</td>\n",
       "      <td>13.1175</td>\n",
       "      <td>16717</td>\n",
       "      <td>United Kingdom</td>\n",
       "      <td>-13.1175</td>\n",
       "    </tr>\n",
       "    <tr>\n",
       "      <th>780501</th>\n",
       "      <td>C579887</td>\n",
       "      <td>23490</td>\n",
       "      <td>T-LIGHT HOLDER HANGING LOVE BIRD</td>\n",
       "      <td>-3</td>\n",
       "      <td>2011-11-30 17:42:00</td>\n",
       "      <td>6.1875</td>\n",
       "      <td>16717</td>\n",
       "      <td>United Kingdom</td>\n",
       "      <td>-18.5625</td>\n",
       "    </tr>\n",
       "  </tbody>\n",
       "</table>\n",
       "<p>780502 rows × 9 columns</p>\n",
       "</div>"
      ],
      "text/plain": [
       "       order_id product_id                          description  quantity  \\\n",
       "0        489434      85048  15CM CHRISTMAS GLASS BALL 20 LIGHTS        12   \n",
       "1        489434     79323P                   PINK CHERRY LIGHTS        12   \n",
       "2        489434     79323W                  WHITE CHERRY LIGHTS        12   \n",
       "3        489434      22041         RECORD FRAME 7\" SINGLE SIZE         48   \n",
       "4        489434      21232       STRAWBERRY CERAMIC TRINKET BOX        24   \n",
       "...         ...        ...                                  ...       ...   \n",
       "780497  C579886      22197                       POPCORN HOLDER        -1   \n",
       "780498  C579886      23146       TRIPLE HOOK ANTIQUE IVORY ROSE        -1   \n",
       "780499  C579887      84946         ANTIQUE SILVER T-LIGHT GLASS        -1   \n",
       "780500  C579887      85048  15CM CHRISTMAS GLASS BALL 20 LIGHTS        -1   \n",
       "780501  C579887      23490     T-LIGHT HOLDER HANGING LOVE BIRD        -3   \n",
       "\n",
       "                order_date    price  customer_id         country     total  \n",
       "0      2009-12-01 07:45:00  11.4675        13085  United Kingdom  137.6100  \n",
       "1      2009-12-01 07:45:00  11.1375        13085  United Kingdom  133.6500  \n",
       "2      2009-12-01 07:45:00  11.1375        13085  United Kingdom  133.6500  \n",
       "3      2009-12-01 07:45:00   3.4650        13085  United Kingdom  166.3200  \n",
       "4      2009-12-01 07:45:00   2.0625        13085  United Kingdom   49.5000  \n",
       "...                    ...      ...          ...             ...       ...  \n",
       "780497 2011-11-30 17:39:00   1.4025        15676  United Kingdom   -1.4025  \n",
       "780498 2011-11-30 17:39:00   5.4285        15676  United Kingdom   -5.4285  \n",
       "780499 2011-11-30 17:42:00   2.0625        16717  United Kingdom   -2.0625  \n",
       "780500 2011-11-30 17:42:00  13.1175        16717  United Kingdom  -13.1175  \n",
       "780501 2011-11-30 17:42:00   6.1875        16717  United Kingdom  -18.5625  \n",
       "\n",
       "[780502 rows x 9 columns]"
      ]
     },
     "execution_count": 303,
     "metadata": {},
     "output_type": "execute_result"
    }
   ],
   "source": [
    "df_train"
   ]
  },
  {
   "cell_type": "code",
   "execution_count": 304,
   "metadata": {},
   "outputs": [],
   "source": [
    "i=0\n",
    "purchase=[]\n",
    "refund=[]\n",
    "\n",
    "for i in range(0, 780502):\n",
    "    if df_train.quantity[i]>=0:\n",
    "        purchase.append(i)\n",
    "    else:\n",
    "        refund.append(i)\n",
    "    i+=1"
   ]
  },
  {
   "cell_type": "code",
   "execution_count": 305,
   "metadata": {},
   "outputs": [
    {
     "data": {
      "text/plain": [
       "780486"
      ]
     },
     "execution_count": 305,
     "metadata": {},
     "output_type": "execute_result"
    }
   ],
   "source": [
    "purchase[-1]"
   ]
  },
  {
   "cell_type": "code",
   "execution_count": 306,
   "metadata": {},
   "outputs": [
    {
     "data": {
      "text/plain": [
       "order_id                                C579886\n",
       "product_id                                22163\n",
       "description    HEART STRING MEMO HOLDER HANGING\n",
       "quantity                                     -1\n",
       "order_date                  2011-11-30 17:39:00\n",
       "price                                    1.3035\n",
       "customer_id                               15676\n",
       "country                          United Kingdom\n",
       "total                                   -1.3035\n",
       "Name: 780487, dtype: object"
      ]
     },
     "execution_count": 306,
     "metadata": {},
     "output_type": "execute_result"
    }
   ],
   "source": [
    "df_train.iloc[780487]"
   ]
  },
  {
   "cell_type": "code",
   "execution_count": 307,
   "metadata": {},
   "outputs": [
    {
     "data": {
      "text/html": [
       "<div>\n",
       "<style scoped>\n",
       "    .dataframe tbody tr th:only-of-type {\n",
       "        vertical-align: middle;\n",
       "    }\n",
       "\n",
       "    .dataframe tbody tr th {\n",
       "        vertical-align: top;\n",
       "    }\n",
       "\n",
       "    .dataframe thead th {\n",
       "        text-align: right;\n",
       "    }\n",
       "</style>\n",
       "<table border=\"1\" class=\"dataframe\">\n",
       "  <thead>\n",
       "    <tr style=\"text-align: right;\">\n",
       "      <th></th>\n",
       "      <th>order_id</th>\n",
       "      <th>product_id</th>\n",
       "      <th>description</th>\n",
       "      <th>quantity</th>\n",
       "      <th>order_date</th>\n",
       "      <th>price</th>\n",
       "      <th>customer_id</th>\n",
       "      <th>country</th>\n",
       "      <th>total</th>\n",
       "    </tr>\n",
       "  </thead>\n",
       "  <tbody>\n",
       "    <tr>\n",
       "      <th>0</th>\n",
       "      <td>489434</td>\n",
       "      <td>85048</td>\n",
       "      <td>15CM CHRISTMAS GLASS BALL 20 LIGHTS</td>\n",
       "      <td>12</td>\n",
       "      <td>2009-12-01 07:45:00</td>\n",
       "      <td>11.4675</td>\n",
       "      <td>13085</td>\n",
       "      <td>United Kingdom</td>\n",
       "      <td>137.6100</td>\n",
       "    </tr>\n",
       "    <tr>\n",
       "      <th>1</th>\n",
       "      <td>489434</td>\n",
       "      <td>79323P</td>\n",
       "      <td>PINK CHERRY LIGHTS</td>\n",
       "      <td>12</td>\n",
       "      <td>2009-12-01 07:45:00</td>\n",
       "      <td>11.1375</td>\n",
       "      <td>13085</td>\n",
       "      <td>United Kingdom</td>\n",
       "      <td>133.6500</td>\n",
       "    </tr>\n",
       "    <tr>\n",
       "      <th>2</th>\n",
       "      <td>489434</td>\n",
       "      <td>79323W</td>\n",
       "      <td>WHITE CHERRY LIGHTS</td>\n",
       "      <td>12</td>\n",
       "      <td>2009-12-01 07:45:00</td>\n",
       "      <td>11.1375</td>\n",
       "      <td>13085</td>\n",
       "      <td>United Kingdom</td>\n",
       "      <td>133.6500</td>\n",
       "    </tr>\n",
       "    <tr>\n",
       "      <th>3</th>\n",
       "      <td>489434</td>\n",
       "      <td>22041</td>\n",
       "      <td>RECORD FRAME 7\" SINGLE SIZE</td>\n",
       "      <td>48</td>\n",
       "      <td>2009-12-01 07:45:00</td>\n",
       "      <td>3.4650</td>\n",
       "      <td>13085</td>\n",
       "      <td>United Kingdom</td>\n",
       "      <td>166.3200</td>\n",
       "    </tr>\n",
       "    <tr>\n",
       "      <th>4</th>\n",
       "      <td>489434</td>\n",
       "      <td>21232</td>\n",
       "      <td>STRAWBERRY CERAMIC TRINKET BOX</td>\n",
       "      <td>24</td>\n",
       "      <td>2009-12-01 07:45:00</td>\n",
       "      <td>2.0625</td>\n",
       "      <td>13085</td>\n",
       "      <td>United Kingdom</td>\n",
       "      <td>49.5000</td>\n",
       "    </tr>\n",
       "    <tr>\n",
       "      <th>...</th>\n",
       "      <td>...</td>\n",
       "      <td>...</td>\n",
       "      <td>...</td>\n",
       "      <td>...</td>\n",
       "      <td>...</td>\n",
       "      <td>...</td>\n",
       "      <td>...</td>\n",
       "      <td>...</td>\n",
       "      <td>...</td>\n",
       "    </tr>\n",
       "    <tr>\n",
       "      <th>780482</th>\n",
       "      <td>579885</td>\n",
       "      <td>85034C</td>\n",
       "      <td>3 ROSE MORRIS BOXED CANDLES</td>\n",
       "      <td>4</td>\n",
       "      <td>2011-11-30 17:37:00</td>\n",
       "      <td>2.0625</td>\n",
       "      <td>15444</td>\n",
       "      <td>United Kingdom</td>\n",
       "      <td>8.2500</td>\n",
       "    </tr>\n",
       "    <tr>\n",
       "      <th>780483</th>\n",
       "      <td>579885</td>\n",
       "      <td>21742</td>\n",
       "      <td>LARGE ROUND WICKER PLATTER</td>\n",
       "      <td>2</td>\n",
       "      <td>2011-11-30 17:37:00</td>\n",
       "      <td>9.8175</td>\n",
       "      <td>15444</td>\n",
       "      <td>United Kingdom</td>\n",
       "      <td>19.6350</td>\n",
       "    </tr>\n",
       "    <tr>\n",
       "      <th>780484</th>\n",
       "      <td>579885</td>\n",
       "      <td>23084</td>\n",
       "      <td>RABBIT NIGHT LIGHT</td>\n",
       "      <td>6</td>\n",
       "      <td>2011-11-30 17:37:00</td>\n",
       "      <td>3.4320</td>\n",
       "      <td>15444</td>\n",
       "      <td>United Kingdom</td>\n",
       "      <td>20.5920</td>\n",
       "    </tr>\n",
       "    <tr>\n",
       "      <th>780485</th>\n",
       "      <td>579885</td>\n",
       "      <td>21257</td>\n",
       "      <td>VICTORIAN SEWING BOX MEDIUM</td>\n",
       "      <td>1</td>\n",
       "      <td>2011-11-30 17:37:00</td>\n",
       "      <td>13.1175</td>\n",
       "      <td>15444</td>\n",
       "      <td>United Kingdom</td>\n",
       "      <td>13.1175</td>\n",
       "    </tr>\n",
       "    <tr>\n",
       "      <th>780486</th>\n",
       "      <td>579885</td>\n",
       "      <td>21259</td>\n",
       "      <td>VICTORIAN SEWING BOX SMALL</td>\n",
       "      <td>1</td>\n",
       "      <td>2011-11-30 17:37:00</td>\n",
       "      <td>9.8175</td>\n",
       "      <td>15444</td>\n",
       "      <td>United Kingdom</td>\n",
       "      <td>9.8175</td>\n",
       "    </tr>\n",
       "  </tbody>\n",
       "</table>\n",
       "<p>780487 rows × 9 columns</p>\n",
       "</div>"
      ],
      "text/plain": [
       "       order_id product_id                          description  quantity  \\\n",
       "0        489434      85048  15CM CHRISTMAS GLASS BALL 20 LIGHTS        12   \n",
       "1        489434     79323P                   PINK CHERRY LIGHTS        12   \n",
       "2        489434     79323W                  WHITE CHERRY LIGHTS        12   \n",
       "3        489434      22041         RECORD FRAME 7\" SINGLE SIZE         48   \n",
       "4        489434      21232       STRAWBERRY CERAMIC TRINKET BOX        24   \n",
       "...         ...        ...                                  ...       ...   \n",
       "780482   579885     85034C          3 ROSE MORRIS BOXED CANDLES         4   \n",
       "780483   579885      21742          LARGE ROUND WICKER PLATTER          2   \n",
       "780484   579885      23084                   RABBIT NIGHT LIGHT         6   \n",
       "780485   579885      21257          VICTORIAN SEWING BOX MEDIUM         1   \n",
       "780486   579885      21259          VICTORIAN SEWING BOX SMALL          1   \n",
       "\n",
       "                order_date    price  customer_id         country     total  \n",
       "0      2009-12-01 07:45:00  11.4675        13085  United Kingdom  137.6100  \n",
       "1      2009-12-01 07:45:00  11.1375        13085  United Kingdom  133.6500  \n",
       "2      2009-12-01 07:45:00  11.1375        13085  United Kingdom  133.6500  \n",
       "3      2009-12-01 07:45:00   3.4650        13085  United Kingdom  166.3200  \n",
       "4      2009-12-01 07:45:00   2.0625        13085  United Kingdom   49.5000  \n",
       "...                    ...      ...          ...             ...       ...  \n",
       "780482 2011-11-30 17:37:00   2.0625        15444  United Kingdom    8.2500  \n",
       "780483 2011-11-30 17:37:00   9.8175        15444  United Kingdom   19.6350  \n",
       "780484 2011-11-30 17:37:00   3.4320        15444  United Kingdom   20.5920  \n",
       "780485 2011-11-30 17:37:00  13.1175        15444  United Kingdom   13.1175  \n",
       "780486 2011-11-30 17:37:00   9.8175        15444  United Kingdom    9.8175  \n",
       "\n",
       "[780487 rows x 9 columns]"
      ]
     },
     "execution_count": 307,
     "metadata": {},
     "output_type": "execute_result"
    }
   ],
   "source": [
    "df_purchase=df_train.iloc[0:780487]\n",
    "df_purchase"
   ]
  },
  {
   "cell_type": "code",
   "execution_count": 308,
   "metadata": {},
   "outputs": [
    {
     "data": {
      "text/html": [
       "<div>\n",
       "<style scoped>\n",
       "    .dataframe tbody tr th:only-of-type {\n",
       "        vertical-align: middle;\n",
       "    }\n",
       "\n",
       "    .dataframe tbody tr th {\n",
       "        vertical-align: top;\n",
       "    }\n",
       "\n",
       "    .dataframe thead th {\n",
       "        text-align: right;\n",
       "    }\n",
       "</style>\n",
       "<table border=\"1\" class=\"dataframe\">\n",
       "  <thead>\n",
       "    <tr style=\"text-align: right;\">\n",
       "      <th></th>\n",
       "      <th>order_id</th>\n",
       "      <th>product_id</th>\n",
       "      <th>description</th>\n",
       "      <th>quantity</th>\n",
       "      <th>order_date</th>\n",
       "      <th>price</th>\n",
       "      <th>customer_id</th>\n",
       "      <th>country</th>\n",
       "      <th>total</th>\n",
       "    </tr>\n",
       "  </thead>\n",
       "  <tbody>\n",
       "    <tr>\n",
       "      <th>780487</th>\n",
       "      <td>C579886</td>\n",
       "      <td>22163</td>\n",
       "      <td>HEART STRING MEMO HOLDER HANGING</td>\n",
       "      <td>-1</td>\n",
       "      <td>2011-11-30 17:39:00</td>\n",
       "      <td>1.3035</td>\n",
       "      <td>15676</td>\n",
       "      <td>United Kingdom</td>\n",
       "      <td>-1.3035</td>\n",
       "    </tr>\n",
       "    <tr>\n",
       "      <th>780488</th>\n",
       "      <td>C579886</td>\n",
       "      <td>22578</td>\n",
       "      <td>WOODEN STAR CHRISTMAS SCANDINAVIAN</td>\n",
       "      <td>-1</td>\n",
       "      <td>2011-11-30 17:39:00</td>\n",
       "      <td>0.4785</td>\n",
       "      <td>15676</td>\n",
       "      <td>United Kingdom</td>\n",
       "      <td>-0.4785</td>\n",
       "    </tr>\n",
       "    <tr>\n",
       "      <th>780489</th>\n",
       "      <td>C579886</td>\n",
       "      <td>23370</td>\n",
       "      <td>SET 36 COLOURING PENCILS DOILY</td>\n",
       "      <td>-1</td>\n",
       "      <td>2011-11-30 17:39:00</td>\n",
       "      <td>2.0625</td>\n",
       "      <td>15676</td>\n",
       "      <td>United Kingdom</td>\n",
       "      <td>-2.0625</td>\n",
       "    </tr>\n",
       "    <tr>\n",
       "      <th>780490</th>\n",
       "      <td>C579886</td>\n",
       "      <td>22594</td>\n",
       "      <td>CHRISTMAS GINGHAM TREE</td>\n",
       "      <td>-1</td>\n",
       "      <td>2011-11-30 17:39:00</td>\n",
       "      <td>1.4025</td>\n",
       "      <td>15676</td>\n",
       "      <td>United Kingdom</td>\n",
       "      <td>-1.4025</td>\n",
       "    </tr>\n",
       "    <tr>\n",
       "      <th>780491</th>\n",
       "      <td>C579886</td>\n",
       "      <td>21172</td>\n",
       "      <td>PARTY METAL SIGN</td>\n",
       "      <td>-1</td>\n",
       "      <td>2011-11-30 17:39:00</td>\n",
       "      <td>2.3925</td>\n",
       "      <td>15676</td>\n",
       "      <td>United Kingdom</td>\n",
       "      <td>-2.3925</td>\n",
       "    </tr>\n",
       "    <tr>\n",
       "      <th>780492</th>\n",
       "      <td>C579886</td>\n",
       "      <td>23491</td>\n",
       "      <td>VINTAGE JINGLE BELLS HEART</td>\n",
       "      <td>-1</td>\n",
       "      <td>2011-11-30 17:39:00</td>\n",
       "      <td>13.6125</td>\n",
       "      <td>15676</td>\n",
       "      <td>United Kingdom</td>\n",
       "      <td>-13.6125</td>\n",
       "    </tr>\n",
       "    <tr>\n",
       "      <th>780493</th>\n",
       "      <td>C579886</td>\n",
       "      <td>85088</td>\n",
       "      <td>CANDY SPOT HAND BAG</td>\n",
       "      <td>-2</td>\n",
       "      <td>2011-11-30 17:39:00</td>\n",
       "      <td>3.4650</td>\n",
       "      <td>15676</td>\n",
       "      <td>United Kingdom</td>\n",
       "      <td>-6.9300</td>\n",
       "    </tr>\n",
       "    <tr>\n",
       "      <th>780494</th>\n",
       "      <td>C579886</td>\n",
       "      <td>23460</td>\n",
       "      <td>SWEETHEART WALL TIDY</td>\n",
       "      <td>-2</td>\n",
       "      <td>2011-11-30 17:39:00</td>\n",
       "      <td>16.4175</td>\n",
       "      <td>15676</td>\n",
       "      <td>United Kingdom</td>\n",
       "      <td>-32.8350</td>\n",
       "    </tr>\n",
       "    <tr>\n",
       "      <th>780495</th>\n",
       "      <td>C579886</td>\n",
       "      <td>23458</td>\n",
       "      <td>DOLLY CABINET 3 DRAWERS</td>\n",
       "      <td>-2</td>\n",
       "      <td>2011-11-30 17:39:00</td>\n",
       "      <td>24.6675</td>\n",
       "      <td>15676</td>\n",
       "      <td>United Kingdom</td>\n",
       "      <td>-49.3350</td>\n",
       "    </tr>\n",
       "    <tr>\n",
       "      <th>780496</th>\n",
       "      <td>C579886</td>\n",
       "      <td>22170</td>\n",
       "      <td>PICTURE FRAME WOOD TRIPLE PORTRAIT</td>\n",
       "      <td>-3</td>\n",
       "      <td>2011-11-30 17:39:00</td>\n",
       "      <td>11.1375</td>\n",
       "      <td>15676</td>\n",
       "      <td>United Kingdom</td>\n",
       "      <td>-33.4125</td>\n",
       "    </tr>\n",
       "    <tr>\n",
       "      <th>780497</th>\n",
       "      <td>C579886</td>\n",
       "      <td>22197</td>\n",
       "      <td>POPCORN HOLDER</td>\n",
       "      <td>-1</td>\n",
       "      <td>2011-11-30 17:39:00</td>\n",
       "      <td>1.4025</td>\n",
       "      <td>15676</td>\n",
       "      <td>United Kingdom</td>\n",
       "      <td>-1.4025</td>\n",
       "    </tr>\n",
       "    <tr>\n",
       "      <th>780498</th>\n",
       "      <td>C579886</td>\n",
       "      <td>23146</td>\n",
       "      <td>TRIPLE HOOK ANTIQUE IVORY ROSE</td>\n",
       "      <td>-1</td>\n",
       "      <td>2011-11-30 17:39:00</td>\n",
       "      <td>5.4285</td>\n",
       "      <td>15676</td>\n",
       "      <td>United Kingdom</td>\n",
       "      <td>-5.4285</td>\n",
       "    </tr>\n",
       "    <tr>\n",
       "      <th>780499</th>\n",
       "      <td>C579887</td>\n",
       "      <td>84946</td>\n",
       "      <td>ANTIQUE SILVER T-LIGHT GLASS</td>\n",
       "      <td>-1</td>\n",
       "      <td>2011-11-30 17:42:00</td>\n",
       "      <td>2.0625</td>\n",
       "      <td>16717</td>\n",
       "      <td>United Kingdom</td>\n",
       "      <td>-2.0625</td>\n",
       "    </tr>\n",
       "    <tr>\n",
       "      <th>780500</th>\n",
       "      <td>C579887</td>\n",
       "      <td>85048</td>\n",
       "      <td>15CM CHRISTMAS GLASS BALL 20 LIGHTS</td>\n",
       "      <td>-1</td>\n",
       "      <td>2011-11-30 17:42:00</td>\n",
       "      <td>13.1175</td>\n",
       "      <td>16717</td>\n",
       "      <td>United Kingdom</td>\n",
       "      <td>-13.1175</td>\n",
       "    </tr>\n",
       "    <tr>\n",
       "      <th>780501</th>\n",
       "      <td>C579887</td>\n",
       "      <td>23490</td>\n",
       "      <td>T-LIGHT HOLDER HANGING LOVE BIRD</td>\n",
       "      <td>-3</td>\n",
       "      <td>2011-11-30 17:42:00</td>\n",
       "      <td>6.1875</td>\n",
       "      <td>16717</td>\n",
       "      <td>United Kingdom</td>\n",
       "      <td>-18.5625</td>\n",
       "    </tr>\n",
       "  </tbody>\n",
       "</table>\n",
       "</div>"
      ],
      "text/plain": [
       "       order_id product_id                          description  quantity  \\\n",
       "780487  C579886      22163     HEART STRING MEMO HOLDER HANGING        -1   \n",
       "780488  C579886      22578   WOODEN STAR CHRISTMAS SCANDINAVIAN        -1   \n",
       "780489  C579886      23370       SET 36 COLOURING PENCILS DOILY        -1   \n",
       "780490  C579886      22594               CHRISTMAS GINGHAM TREE        -1   \n",
       "780491  C579886      21172                    PARTY METAL SIGN         -1   \n",
       "780492  C579886      23491           VINTAGE JINGLE BELLS HEART        -1   \n",
       "780493  C579886      85088                  CANDY SPOT HAND BAG        -2   \n",
       "780494  C579886      23460                SWEETHEART WALL TIDY         -2   \n",
       "780495  C579886      23458             DOLLY CABINET 3 DRAWERS         -2   \n",
       "780496  C579886      22170   PICTURE FRAME WOOD TRIPLE PORTRAIT        -3   \n",
       "780497  C579886      22197                       POPCORN HOLDER        -1   \n",
       "780498  C579886      23146       TRIPLE HOOK ANTIQUE IVORY ROSE        -1   \n",
       "780499  C579887      84946         ANTIQUE SILVER T-LIGHT GLASS        -1   \n",
       "780500  C579887      85048  15CM CHRISTMAS GLASS BALL 20 LIGHTS        -1   \n",
       "780501  C579887      23490     T-LIGHT HOLDER HANGING LOVE BIRD        -3   \n",
       "\n",
       "                order_date    price  customer_id         country    total  \n",
       "780487 2011-11-30 17:39:00   1.3035        15676  United Kingdom  -1.3035  \n",
       "780488 2011-11-30 17:39:00   0.4785        15676  United Kingdom  -0.4785  \n",
       "780489 2011-11-30 17:39:00   2.0625        15676  United Kingdom  -2.0625  \n",
       "780490 2011-11-30 17:39:00   1.4025        15676  United Kingdom  -1.4025  \n",
       "780491 2011-11-30 17:39:00   2.3925        15676  United Kingdom  -2.3925  \n",
       "780492 2011-11-30 17:39:00  13.6125        15676  United Kingdom -13.6125  \n",
       "780493 2011-11-30 17:39:00   3.4650        15676  United Kingdom  -6.9300  \n",
       "780494 2011-11-30 17:39:00  16.4175        15676  United Kingdom -32.8350  \n",
       "780495 2011-11-30 17:39:00  24.6675        15676  United Kingdom -49.3350  \n",
       "780496 2011-11-30 17:39:00  11.1375        15676  United Kingdom -33.4125  \n",
       "780497 2011-11-30 17:39:00   1.4025        15676  United Kingdom  -1.4025  \n",
       "780498 2011-11-30 17:39:00   5.4285        15676  United Kingdom  -5.4285  \n",
       "780499 2011-11-30 17:42:00   2.0625        16717  United Kingdom  -2.0625  \n",
       "780500 2011-11-30 17:42:00  13.1175        16717  United Kingdom -13.1175  \n",
       "780501 2011-11-30 17:42:00   6.1875        16717  United Kingdom -18.5625  "
      ]
     },
     "execution_count": 308,
     "metadata": {},
     "output_type": "execute_result"
    }
   ],
   "source": [
    "df_refund=df_train.iloc[780487:780502]\n",
    "df_refund"
   ]
  },
  {
   "cell_type": "markdown",
   "metadata": {},
   "source": [
    " 구매자 집단에서 가장 많이 언급된 상품설명 보기\n",
    "--"
   ]
  },
  {
   "cell_type": "code",
   "execution_count": 309,
   "metadata": {},
   "outputs": [],
   "source": [
    "from nltk import word_tokenize, sent_tokenize\n",
    "\n",
    "i=0\n",
    "sent_purchase=[]\n",
    "\n",
    "for i in range(0,780487):\n",
    "    sentence = sent_tokenize(df_purchase.description[i])\n",
    "    sent_purchase.append(sentence)\n",
    "    i+=1"
   ]
  },
  {
   "cell_type": "code",
   "execution_count": 310,
   "metadata": {},
   "outputs": [],
   "source": [
    "sent_purchase=tuple( tuple(x) for x in sent_purchase)"
   ]
  },
  {
   "cell_type": "code",
   "execution_count": 311,
   "metadata": {},
   "outputs": [
    {
     "name": "stdout",
     "output_type": "stream",
     "text": [
      "<class 'collections.Counter'>\n",
      "구매자 중에 가장 많이 언급된 상품설명은 [(('WHITE HANGING HEART T-LIGHT HOLDER',), 5096)] 으로 선정되었습니다.\n"
     ]
    }
   ],
   "source": [
    "count_list_purchase=Counter(sent_purchase)\n",
    "print(type(count_list_purchase))\n",
    "common_purchase=count_list_purchase.most_common(1) # top1\n",
    "print('구매자 중에 가장 많이 언급된 상품설명은', format(common_purchase), '으로 선정되었습니다.')"
   ]
  },
  {
   "cell_type": "markdown",
   "metadata": {},
   "source": [
    " 환불 한 집단에서 가장 많이 언급된 상품설명 보기\n",
    "  --"
   ]
  },
  {
   "cell_type": "code",
   "execution_count": 312,
   "metadata": {},
   "outputs": [],
   "source": [
    "from nltk import word_tokenize, sent_tokenize\n",
    "\n",
    "i=780487\n",
    "sent_refund=[]\n",
    "\n",
    "for i in range(780487,780502):\n",
    "    sentence = sent_tokenize(df_refund.description[i])\n",
    "    sent_refund.append(sentence)\n",
    "    i+=1"
   ]
  },
  {
   "cell_type": "code",
   "execution_count": 313,
   "metadata": {},
   "outputs": [],
   "source": [
    "sent_refund=tuple( tuple(x) for x in sent_refund)"
   ]
  },
  {
   "cell_type": "code",
   "execution_count": 314,
   "metadata": {},
   "outputs": [
    {
     "name": "stdout",
     "output_type": "stream",
     "text": [
      "<class 'collections.Counter'>\n"
     ]
    },
    {
     "data": {
      "text/plain": [
       "[(('HEART STRING MEMO HOLDER HANGING',), 1),\n",
       " (('WOODEN STAR CHRISTMAS SCANDINAVIAN',), 1),\n",
       " (('SET 36 COLOURING PENCILS DOILY',), 1),\n",
       " (('CHRISTMAS GINGHAM TREE',), 1),\n",
       " (('PARTY METAL SIGN',), 1),\n",
       " (('VINTAGE JINGLE BELLS HEART',), 1),\n",
       " (('CANDY SPOT HAND BAG',), 1),\n",
       " (('SWEETHEART WALL TIDY',), 1),\n",
       " (('DOLLY CABINET 3 DRAWERS',), 1),\n",
       " (('PICTURE FRAME WOOD TRIPLE PORTRAIT',), 1),\n",
       " (('POPCORN HOLDER',), 1),\n",
       " (('TRIPLE HOOK ANTIQUE IVORY ROSE',), 1),\n",
       " (('ANTIQUE SILVER T-LIGHT GLASS',), 1),\n",
       " (('15CM CHRISTMAS GLASS BALL 20 LIGHTS',), 1),\n",
       " (('T-LIGHT HOLDER HANGING LOVE BIRD',), 1)]"
      ]
     },
     "execution_count": 314,
     "metadata": {},
     "output_type": "execute_result"
    }
   ],
   "source": [
    "count_list_refund=Counter(sent_refund)\n",
    "print(type(count_list_refund))\n",
    "common_refund=count_list_refund.most_common(16) # top1\n",
    "common_refund"
   ]
  },
  {
   "cell_type": "markdown",
   "metadata": {},
   "source": [
    "- 환불 상품들은 전부 한 번씩만 언급되었다."
   ]
  },
  {
   "cell_type": "markdown",
   "metadata": {},
   "source": [
    "날짜, 시간대별로 언급된 구매상품 설명 횟수와 환불상품 설명 횟수 보기\n",
    "--"
   ]
  },
  {
   "cell_type": "markdown",
   "metadata": {},
   "source": [
    "- 구매 데이터 프레임에 날짜와 시간별 데이터 생성하기"
   ]
  },
  {
   "cell_type": "code",
   "execution_count": 315,
   "metadata": {},
   "outputs": [],
   "source": [
    "# year_month에 해당하는 label 데이터 생성\n",
    "import datetime\n",
    "df_purchase['year_month'] = df_purchase['order_date'].dt.strftime('%Y%m')\n",
    "df_purchase['year']=df_purchase['order_date'].dt.strftime('%Y')\n",
    "df_purchase['month']=df_purchase['order_date'].dt.strftime('%m')\n",
    "df_purchase['date']=df_purchase['order_date'].dt.strftime('%d')\n",
    "df_purchase['hour']=df_purchase['order_date'].dt.strftime('%H')\n",
    "df_purchase['day']=df_purchase['order_date'].dt.strftime('%A')\n",
    "df_purchase.reset_index(drop=True, inplace=True)"
   ]
  },
  {
   "cell_type": "code",
   "execution_count": 334,
   "metadata": {},
   "outputs": [],
   "source": [
    "df_purchase['year_month']=pd.Series(df_purchase['year_month'], dtype=int)\n",
    "df_purchase['year']=pd.Series(df_purchase['year'], dtype=int)\n",
    "df_purchase['month']=pd.Series(df_purchase['month'], dtype=int)\n",
    "df_purchase['date']=pd.Series(df_purchase['date'], dtype=int)\n",
    "df_purchase['hour']=pd.Series(df_purchase['hour'], dtype=int)"
   ]
  },
  {
   "cell_type": "markdown",
   "metadata": {},
   "source": [
    "- 환불 데이터 프레임에 날짜와 시간별 데이터 생성하기"
   ]
  },
  {
   "cell_type": "code",
   "execution_count": 316,
   "metadata": {},
   "outputs": [],
   "source": [
    "df_refund['year_month'] = df_refund['order_date'].dt.strftime('%Y%m')\n",
    "df_refund['year']=df_refund['order_date'].dt.strftime('%Y')\n",
    "df_refund['month']=df_refund['order_date'].dt.strftime('%m')\n",
    "df_refund['date']=df_refund['order_date'].dt.strftime('%d')\n",
    "df_refund['hour']=df_refund['order_date'].dt.strftime('%H')\n",
    "df_refund['day']=df_refund['order_date'].dt.strftime('%A')\n",
    "df_refund.reset_index(drop=True, inplace=True)"
   ]
  },
  {
   "cell_type": "code",
   "execution_count": 335,
   "metadata": {},
   "outputs": [],
   "source": [
    "df_refund['year_month']=pd.Series(df_refund['year_month'], dtype=int)\n",
    "df_refund['year']=pd.Series(df_refund['year'], dtype=int)\n",
    "df_refund['month']=pd.Series(df_refund['month'], dtype=int)\n",
    "df_refund['date']=pd.Series(df_refund['date'], dtype=int)\n",
    "df_refund['hour']=pd.Series(df_refund['hour'], dtype=int)"
   ]
  },
  {
   "cell_type": "markdown",
   "metadata": {},
   "source": [
    "- year_month별로 구매 데이터 프레임의 상품 설명 정리"
   ]
  },
  {
   "cell_type": "code",
   "execution_count": 336,
   "metadata": {},
   "outputs": [],
   "source": [
    "df_purchase=df_purchase.sort_values(by='year_month', ascending=True)"
   ]
  },
  {
   "cell_type": "code",
   "execution_count": 337,
   "metadata": {},
   "outputs": [
    {
     "data": {
      "text/html": [
       "<div>\n",
       "<style scoped>\n",
       "    .dataframe tbody tr th:only-of-type {\n",
       "        vertical-align: middle;\n",
       "    }\n",
       "\n",
       "    .dataframe tbody tr th {\n",
       "        vertical-align: top;\n",
       "    }\n",
       "\n",
       "    .dataframe thead th {\n",
       "        text-align: right;\n",
       "    }\n",
       "</style>\n",
       "<table border=\"1\" class=\"dataframe\">\n",
       "  <thead>\n",
       "    <tr style=\"text-align: right;\">\n",
       "      <th></th>\n",
       "      <th>order_id</th>\n",
       "      <th>product_id</th>\n",
       "      <th>description</th>\n",
       "      <th>quantity</th>\n",
       "      <th>order_date</th>\n",
       "      <th>price</th>\n",
       "      <th>customer_id</th>\n",
       "      <th>country</th>\n",
       "      <th>total</th>\n",
       "      <th>year_month</th>\n",
       "      <th>year</th>\n",
       "      <th>month</th>\n",
       "      <th>date</th>\n",
       "      <th>hour</th>\n",
       "      <th>day</th>\n",
       "    </tr>\n",
       "  </thead>\n",
       "  <tbody>\n",
       "    <tr>\n",
       "      <th>0</th>\n",
       "      <td>489434</td>\n",
       "      <td>85048</td>\n",
       "      <td>15CM CHRISTMAS GLASS BALL 20 LIGHTS</td>\n",
       "      <td>12</td>\n",
       "      <td>2009-12-01 07:45:00</td>\n",
       "      <td>11.4675</td>\n",
       "      <td>13085</td>\n",
       "      <td>United Kingdom</td>\n",
       "      <td>137.6100</td>\n",
       "      <td>200912</td>\n",
       "      <td>2009</td>\n",
       "      <td>12</td>\n",
       "      <td>1</td>\n",
       "      <td>7</td>\n",
       "      <td>Tuesday</td>\n",
       "    </tr>\n",
       "    <tr>\n",
       "      <th>1</th>\n",
       "      <td>489434</td>\n",
       "      <td>79323P</td>\n",
       "      <td>PINK CHERRY LIGHTS</td>\n",
       "      <td>12</td>\n",
       "      <td>2009-12-01 07:45:00</td>\n",
       "      <td>11.1375</td>\n",
       "      <td>13085</td>\n",
       "      <td>United Kingdom</td>\n",
       "      <td>133.6500</td>\n",
       "      <td>200912</td>\n",
       "      <td>2009</td>\n",
       "      <td>12</td>\n",
       "      <td>1</td>\n",
       "      <td>7</td>\n",
       "      <td>Tuesday</td>\n",
       "    </tr>\n",
       "    <tr>\n",
       "      <th>2</th>\n",
       "      <td>489434</td>\n",
       "      <td>79323W</td>\n",
       "      <td>WHITE CHERRY LIGHTS</td>\n",
       "      <td>12</td>\n",
       "      <td>2009-12-01 07:45:00</td>\n",
       "      <td>11.1375</td>\n",
       "      <td>13085</td>\n",
       "      <td>United Kingdom</td>\n",
       "      <td>133.6500</td>\n",
       "      <td>200912</td>\n",
       "      <td>2009</td>\n",
       "      <td>12</td>\n",
       "      <td>1</td>\n",
       "      <td>7</td>\n",
       "      <td>Tuesday</td>\n",
       "    </tr>\n",
       "    <tr>\n",
       "      <th>3</th>\n",
       "      <td>489434</td>\n",
       "      <td>22041</td>\n",
       "      <td>RECORD FRAME 7\" SINGLE SIZE</td>\n",
       "      <td>48</td>\n",
       "      <td>2009-12-01 07:45:00</td>\n",
       "      <td>3.4650</td>\n",
       "      <td>13085</td>\n",
       "      <td>United Kingdom</td>\n",
       "      <td>166.3200</td>\n",
       "      <td>200912</td>\n",
       "      <td>2009</td>\n",
       "      <td>12</td>\n",
       "      <td>1</td>\n",
       "      <td>7</td>\n",
       "      <td>Tuesday</td>\n",
       "    </tr>\n",
       "    <tr>\n",
       "      <th>4</th>\n",
       "      <td>489434</td>\n",
       "      <td>21232</td>\n",
       "      <td>STRAWBERRY CERAMIC TRINKET BOX</td>\n",
       "      <td>24</td>\n",
       "      <td>2009-12-01 07:45:00</td>\n",
       "      <td>2.0625</td>\n",
       "      <td>13085</td>\n",
       "      <td>United Kingdom</td>\n",
       "      <td>49.5000</td>\n",
       "      <td>200912</td>\n",
       "      <td>2009</td>\n",
       "      <td>12</td>\n",
       "      <td>1</td>\n",
       "      <td>7</td>\n",
       "      <td>Tuesday</td>\n",
       "    </tr>\n",
       "    <tr>\n",
       "      <th>...</th>\n",
       "      <td>...</td>\n",
       "      <td>...</td>\n",
       "      <td>...</td>\n",
       "      <td>...</td>\n",
       "      <td>...</td>\n",
       "      <td>...</td>\n",
       "      <td>...</td>\n",
       "      <td>...</td>\n",
       "      <td>...</td>\n",
       "      <td>...</td>\n",
       "      <td>...</td>\n",
       "      <td>...</td>\n",
       "      <td>...</td>\n",
       "      <td>...</td>\n",
       "      <td>...</td>\n",
       "    </tr>\n",
       "    <tr>\n",
       "      <th>780456</th>\n",
       "      <td>579885</td>\n",
       "      <td>82494L</td>\n",
       "      <td>WOODEN FRAME ANTIQUE WHITE</td>\n",
       "      <td>1</td>\n",
       "      <td>2011-11-30 17:37:00</td>\n",
       "      <td>4.8675</td>\n",
       "      <td>15444</td>\n",
       "      <td>United Kingdom</td>\n",
       "      <td>4.8675</td>\n",
       "      <td>201111</td>\n",
       "      <td>2011</td>\n",
       "      <td>11</td>\n",
       "      <td>30</td>\n",
       "      <td>17</td>\n",
       "      <td>Wednesday</td>\n",
       "    </tr>\n",
       "    <tr>\n",
       "      <th>780455</th>\n",
       "      <td>579885</td>\n",
       "      <td>22186</td>\n",
       "      <td>RED STAR CARD HOLDER</td>\n",
       "      <td>2</td>\n",
       "      <td>2011-11-30 17:37:00</td>\n",
       "      <td>3.2175</td>\n",
       "      <td>15444</td>\n",
       "      <td>United Kingdom</td>\n",
       "      <td>6.4350</td>\n",
       "      <td>201111</td>\n",
       "      <td>2011</td>\n",
       "      <td>11</td>\n",
       "      <td>30</td>\n",
       "      <td>17</td>\n",
       "      <td>Wednesday</td>\n",
       "    </tr>\n",
       "    <tr>\n",
       "      <th>780454</th>\n",
       "      <td>579885</td>\n",
       "      <td>23402</td>\n",
       "      <td>HOME SWEET HOME 3 PEG HANGER</td>\n",
       "      <td>1</td>\n",
       "      <td>2011-11-30 17:37:00</td>\n",
       "      <td>6.1875</td>\n",
       "      <td>15444</td>\n",
       "      <td>United Kingdom</td>\n",
       "      <td>6.1875</td>\n",
       "      <td>201111</td>\n",
       "      <td>2011</td>\n",
       "      <td>11</td>\n",
       "      <td>30</td>\n",
       "      <td>17</td>\n",
       "      <td>Wednesday</td>\n",
       "    </tr>\n",
       "    <tr>\n",
       "      <th>780475</th>\n",
       "      <td>579885</td>\n",
       "      <td>22170</td>\n",
       "      <td>PICTURE FRAME WOOD TRIPLE PORTRAIT</td>\n",
       "      <td>1</td>\n",
       "      <td>2011-11-30 17:37:00</td>\n",
       "      <td>11.1375</td>\n",
       "      <td>15444</td>\n",
       "      <td>United Kingdom</td>\n",
       "      <td>11.1375</td>\n",
       "      <td>201111</td>\n",
       "      <td>2011</td>\n",
       "      <td>11</td>\n",
       "      <td>30</td>\n",
       "      <td>17</td>\n",
       "      <td>Wednesday</td>\n",
       "    </tr>\n",
       "    <tr>\n",
       "      <th>780486</th>\n",
       "      <td>579885</td>\n",
       "      <td>21259</td>\n",
       "      <td>VICTORIAN SEWING BOX SMALL</td>\n",
       "      <td>1</td>\n",
       "      <td>2011-11-30 17:37:00</td>\n",
       "      <td>9.8175</td>\n",
       "      <td>15444</td>\n",
       "      <td>United Kingdom</td>\n",
       "      <td>9.8175</td>\n",
       "      <td>201111</td>\n",
       "      <td>2011</td>\n",
       "      <td>11</td>\n",
       "      <td>30</td>\n",
       "      <td>17</td>\n",
       "      <td>Wednesday</td>\n",
       "    </tr>\n",
       "  </tbody>\n",
       "</table>\n",
       "<p>780487 rows × 15 columns</p>\n",
       "</div>"
      ],
      "text/plain": [
       "       order_id product_id                          description  quantity  \\\n",
       "0        489434      85048  15CM CHRISTMAS GLASS BALL 20 LIGHTS        12   \n",
       "1        489434     79323P                   PINK CHERRY LIGHTS        12   \n",
       "2        489434     79323W                  WHITE CHERRY LIGHTS        12   \n",
       "3        489434      22041         RECORD FRAME 7\" SINGLE SIZE         48   \n",
       "4        489434      21232       STRAWBERRY CERAMIC TRINKET BOX        24   \n",
       "...         ...        ...                                  ...       ...   \n",
       "780456   579885     82494L          WOODEN FRAME ANTIQUE WHITE          1   \n",
       "780455   579885      22186                 RED STAR CARD HOLDER         2   \n",
       "780454   579885      23402        HOME SWEET HOME 3 PEG HANGER          1   \n",
       "780475   579885      22170   PICTURE FRAME WOOD TRIPLE PORTRAIT         1   \n",
       "780486   579885      21259          VICTORIAN SEWING BOX SMALL          1   \n",
       "\n",
       "                order_date    price  customer_id         country     total  \\\n",
       "0      2009-12-01 07:45:00  11.4675        13085  United Kingdom  137.6100   \n",
       "1      2009-12-01 07:45:00  11.1375        13085  United Kingdom  133.6500   \n",
       "2      2009-12-01 07:45:00  11.1375        13085  United Kingdom  133.6500   \n",
       "3      2009-12-01 07:45:00   3.4650        13085  United Kingdom  166.3200   \n",
       "4      2009-12-01 07:45:00   2.0625        13085  United Kingdom   49.5000   \n",
       "...                    ...      ...          ...             ...       ...   \n",
       "780456 2011-11-30 17:37:00   4.8675        15444  United Kingdom    4.8675   \n",
       "780455 2011-11-30 17:37:00   3.2175        15444  United Kingdom    6.4350   \n",
       "780454 2011-11-30 17:37:00   6.1875        15444  United Kingdom    6.1875   \n",
       "780475 2011-11-30 17:37:00  11.1375        15444  United Kingdom   11.1375   \n",
       "780486 2011-11-30 17:37:00   9.8175        15444  United Kingdom    9.8175   \n",
       "\n",
       "        year_month  year  month  date  hour        day  \n",
       "0           200912  2009     12     1     7    Tuesday  \n",
       "1           200912  2009     12     1     7    Tuesday  \n",
       "2           200912  2009     12     1     7    Tuesday  \n",
       "3           200912  2009     12     1     7    Tuesday  \n",
       "4           200912  2009     12     1     7    Tuesday  \n",
       "...            ...   ...    ...   ...   ...        ...  \n",
       "780456      201111  2011     11    30    17  Wednesday  \n",
       "780455      201111  2011     11    30    17  Wednesday  \n",
       "780454      201111  2011     11    30    17  Wednesday  \n",
       "780475      201111  2011     11    30    17  Wednesday  \n",
       "780486      201111  2011     11    30    17  Wednesday  \n",
       "\n",
       "[780487 rows x 15 columns]"
      ]
     },
     "execution_count": 337,
     "metadata": {},
     "output_type": "execute_result"
    }
   ],
   "source": [
    "df_purchase"
   ]
  },
  {
   "cell_type": "markdown",
   "metadata": {},
   "source": [
    "2009년 12월 부터 2011년 11월까지 달별로 데이터프레임 24개 만들기\n",
    "--"
   ]
  },
  {
   "cell_type": "code",
   "execution_count": 363,
   "metadata": {},
   "outputs": [],
   "source": [
    "i=0\n",
    "p200912=[]\n",
    "p201001=[]\n",
    "p201002=[]\n",
    "p201003=[]\n",
    "p201004=[]\n",
    "p201005=[]\n",
    "p201006=[]\n",
    "p201007=[]\n",
    "p201008=[]\n",
    "p201009=[]\n",
    "p201010=[]\n",
    "p201011=[]\n",
    "p201012=[]\n",
    "p201101=[]\n",
    "p201102=[]\n",
    "p201103=[]\n",
    "p201104=[]\n",
    "p201105=[]\n",
    "p201106=[]\n",
    "p201107=[]\n",
    "p201108=[]\n",
    "p201109=[]\n",
    "p201110=[]\n",
    "p201111=[]\n",
    "\n",
    "for i in range(0, 780487):\n",
    "    if df_purchase.year_month[i]==200912:\n",
    "        p200912.append(i)\n",
    "    elif df_purchase.year_month[i]==201001:\n",
    "        p201001.append(i)\n",
    "    elif df_purchase.year_month[i]==201002:\n",
    "        p201002.append(i)\n",
    "    elif df_purchase.year_month[i]==201003:\n",
    "        p201003.append(i)\n",
    "    elif df_purchase.year_month[i]==201004:\n",
    "        p201004.append(i)\n",
    "    elif df_purchase.year_month[i]==201005:\n",
    "        p201005.append(i)\n",
    "    elif df_purchase.year_month[i]==201006:\n",
    "        p201006.append(i)\n",
    "    elif df_purchase.year_month[i]==201007:\n",
    "        p201007.append(i)\n",
    "    elif df_purchase.year_month[i]==201008:\n",
    "        p201008.append(i)\n",
    "    elif df_purchase.year_month[i]==201009:\n",
    "        p201009.append(i)\n",
    "    elif df_purchase.year_month[i]==201010:\n",
    "        p201010.append(i)\n",
    "    elif df_purchase.year_month[i]==201011:\n",
    "        p201011.append(i)\n",
    "    elif df_purchase.year_month[i]==201012:\n",
    "        p201012.append(i)\n",
    "    elif df_purchase.year_month[i]==201101:\n",
    "        p201101.append(i)\n",
    "    elif df_purchase.year_month[i]==201102:\n",
    "        p201102.append(i)\n",
    "    elif df_purchase.year_month[i]==201103:\n",
    "        p201103.append(i)\n",
    "    elif df_purchase.year_month[i]==201104:\n",
    "        p201104.append(i)\n",
    "    elif df_purchase.year_month[i]==201105:\n",
    "        p201105.append(i)\n",
    "    elif df_purchase.year_month[i]==201106:\n",
    "        p201106.append(i)\n",
    "    elif df_purchase.year_month[i]==201107:\n",
    "        p201107.append(i)\n",
    "    elif df_purchase.year_month[i]==201108:\n",
    "        p201108.append(i)\n",
    "    elif df_purchase.year_month[i]==201109:\n",
    "        p201109.append(i)\n",
    "    elif df_purchase.year_month[i]==201110:\n",
    "        p201110.append(i)\n",
    "    else:\n",
    "        p201111.append(i)\n",
    "        \n",
    "    i+=1"
   ]
  },
  {
   "cell_type": "code",
   "execution_count": 388,
   "metadata": {},
   "outputs": [],
   "source": [
    "df_200912=df_purchase.iloc[0:31276]\n",
    "df_201001=df_purchase.iloc[31276:53398]\n",
    "df_201002=df_purchase.iloc[53398:76976]\n",
    "df_201003=df_purchase.iloc[76976:109568]\n",
    "df_201004=df_purchase.iloc[109568:136997]\n",
    "df_201005=df_purchase.iloc[136997:166188]\n",
    "df_201006=df_purchase.iloc[166188:197635]\n",
    "df_201007=df_purchase.iloc[197635:224992]\n",
    "df_201008=df_purchase.iloc[224992:251569]\n",
    "df_201009=df_purchase.iloc[251569:286480]\n",
    "df_201010=df_purchase.iloc[286480:336199]\n",
    "df_201011=df_purchase.iloc[336199:396280]\n",
    "df_201012=df_purchase.iloc[396280:422634]\n",
    "df_201101=df_purchase.iloc[422634:444304]\n",
    "df_201102=df_purchase.iloc[444304:464442]\n",
    "df_201103=df_purchase.iloc[464442:491958]\n",
    "df_201104=df_purchase.iloc[491958:514946]\n",
    "df_201105=df_purchase.iloc[514946:543607]\n",
    "df_201106=df_purchase.iloc[543607:571183]\n",
    "df_201107=df_purchase.iloc[571183:598439]\n",
    "df_201108=df_purchase.iloc[598439:625883]\n",
    "df_201109=df_purchase.iloc[625883:666342]\n",
    "df_201110=df_purchase.iloc[666342:716270]\n",
    "df_201111=df_purchase.iloc[716270:-1]"
   ]
  },
  {
   "cell_type": "markdown",
   "metadata": {},
   "source": [
    "2009년 12월부터 2011년 11월 까지 구매자집단중에 가장 많이 언급된 단어\n",
    "--"
   ]
  },
  {
   "cell_type": "code",
   "execution_count": 417,
   "metadata": {},
   "outputs": [
    {
     "name": "stdout",
     "output_type": "stream",
     "text": [
      "2019년 12월 추천 상품설명:  [(('WHITE HANGING HEART T-LIGHT HOLDER',), 291), (('SCOTTIE DOG HOT WATER BOTTLE',), 197), (('HOT WATER BOTTLE TEA AND SYMPATHY',), 168)]\n",
      "\n",
      "\n",
      "2010년 1월 추천 상품설명:  [(('WHITE HANGING HEART T-LIGHT HOLDER',), 252), (('RED HANGING HEART T-LIGHT HOLDER',), 125), (('RED WOOLLY HOTTIE WHITE HEART.',), 111)]\n",
      "\n",
      "\n",
      "2010년 2월 추천 상품설명:  [(('WHITE HANGING HEART T-LIGHT HOLDER',), 203), (('JUMBO BAG RED WHITE SPOTTY',), 108), (('DOOR MAT UNION FLAG',), 104)]\n",
      "\n",
      "\n",
      "2010년 3월 추천 상품설명:  [(('WHITE HANGING HEART T-LIGHT HOLDER',), 267), (('JUMBO BAG RED WHITE SPOTTY',), 137), (('STRAWBERRY CERAMIC TRINKET BOX',), 134)]\n",
      "\n",
      "\n",
      "2010년 4월 추천 상품설명:  [(('WHITE HANGING HEART T-LIGHT HOLDER',), 227), (('REGENCY CAKESTAND 3 TIER',), 204), (('DOOR MAT UNION FLAG',), 119)]\n",
      "\n",
      "\n",
      "2010년 5월 추천 상품설명:  [(('WHITE HANGING HEART T-LIGHT HOLDER',), 241), (('PARTY BUNTING',), 140), (('PACK OF 72 RETRO SPOT CAKE CASES',), 131)]\n",
      "\n",
      "\n",
      "2010년 6월 추천 상품설명:  [(('WHITE HANGING HEART T-LIGHT HOLDER',), 240), (('REGENCY CAKESTAND 3 TIER',), 197), (('JUMBO BAG RED RETROSPOT',), 169)]\n",
      "\n",
      "\n",
      "2010년 7월 추천 상품설명:  [(('WHITE HANGING HEART T-LIGHT HOLDER',), 226), (('REGENCY CAKESTAND 3 TIER',), 208), (('STRAWBERRY CERAMIC TRINKET BOX',), 137)]\n",
      "\n",
      "\n",
      "2010년 8월 추천 상품설명:  [(('WHITE HANGING HEART T-LIGHT HOLDER',), 235), (('REGENCY CAKESTAND 3 TIER',), 172), (('LUNCH BAG RED SPOTTY',), 143)]\n",
      "\n",
      "\n",
      "2010년 9월 추천 상품설명:  [(('WHITE HANGING HEART T-LIGHT HOLDER',), 235), (('REGENCY CAKESTAND 3 TIER',), 232), (('JUMBO BAG RED RETROSPOT',), 183)]\n",
      "\n",
      "\n",
      "2010년 10월 추천 상품설명:  [(('WHITE HANGING HEART T-LIGHT HOLDER',), 286), (('REGENCY CAKESTAND 3 TIER',), 271), (('PAPER CHAIN KIT VINTAGE CHRISTMAS',), 188)]\n",
      "\n",
      "\n",
      "2010년 11월 추천 상품설명:  [(('WHITE HANGING HEART T-LIGHT HOLDER',), 388), (('HAND WARMER OWL DESIGN',), 305), ((\"PAPER CHAIN KIT 50'S CHRISTMAS\",), 301)]\n",
      "\n",
      "\n",
      "2010년 12월 추천 상품설명:  [(('WHITE HANGING HEART T-LIGHT HOLDER',), 213), (('REGENCY CAKESTAND 3 TIER',), 153), (('HAND WARMER BABUSHKA DESIGN',), 141)]\n",
      "\n",
      "\n",
      "2011년 1월 추천 상품설명:  [(('WHITE HANGING HEART T-LIGHT HOLDER',), 164), (('SET OF 3 CAKE TINS PANTRY DESIGN',), 137), (('REGENCY CAKESTAND 3 TIER',), 132)]\n",
      "\n",
      "\n",
      "2011년 2월 추천 상품설명:  [(('WHITE HANGING HEART T-LIGHT HOLDER',), 130), (('REGENCY CAKESTAND 3 TIER',), 129), (('SET OF 3 CAKE TINS PANTRY DESIGN',), 129)]\n",
      "\n",
      "\n",
      "2011년 3월 추천 상품설명:  [(('REGENCY CAKESTAND 3 TIER',), 197), (('WHITE HANGING HEART T-LIGHT HOLDER',), 174), (('SET OF 3 CAKE TINS PANTRY DESIGN',), 169)]\n",
      "\n",
      "\n",
      "2011년 4월 추천 상품설명:  [(('REGENCY CAKESTAND 3 TIER',), 173), (('PARTY BUNTING',), 165), (('WHITE HANGING HEART T-LIGHT HOLDER',), 160)]\n",
      "\n",
      "\n",
      "2011년 5월 추천 상품설명:  [(('SPOTTY BUNTING',), 211), (('PARTY BUNTING',), 210), (('WHITE HANGING HEART T-LIGHT HOLDER',), 201)]\n",
      "\n",
      "\n",
      "2011년 6월 추천 상품설명:  [(('PARTY BUNTING',), 181), (('SPOTTY BUNTING',), 155), (('LUNCH BAG DOILEY PATTERN',), 137)]\n",
      "\n",
      "\n",
      "2011년 7월 추천 상품설명:  [(('PARTY BUNTING',), 158), (('SPOTTY BUNTING',), 154), (('LUNCH BAG DOILEY PATTERN',), 147)]\n",
      "\n",
      "\n",
      "2011년 8월 추천 상품설명:  [(('JUMBO BAG RED RETROSPOT',), 159), (('SPOTTY BUNTING',), 150), (('LUNCH BAG RED RETROSPOT',), 138)]\n",
      "\n",
      "\n",
      "2011년 9월 추천 상품설명:  [(('HOT WATER BOTTLE KEEP CALM',), 193), (('JUMBO BAG RED RETROSPOT',), 192), (('JUMBO BAG VINTAGE DOILY',), 173)]\n",
      "\n",
      "\n",
      "2011년 10월 추천 상품설명:  [((\"PAPER CHAIN KIT 50'S CHRISTMAS\",), 208), (('HOT WATER BOTTLE KEEP CALM',), 182), (('JUMBO BAG RED RETROSPOT',), 177)]\n",
      "\n",
      "\n",
      "2011년 11월 추천 상품설명:  [(('RABBIT NIGHT LIGHT',), 458), ((\"PAPER CHAIN KIT 50'S CHRISTMAS\",), 356), (('HOT WATER BOTTLE KEEP CALM',), 266)]\n"
     ]
    }
   ],
   "source": [
    "from nltk import word_tokenize, sent_tokenize\n",
    "\n",
    "i=0\n",
    "sent_purchase200912=[]\n",
    "sent_purchase201001=[]\n",
    "sent_purchase201002=[]\n",
    "sent_purchase201003=[]\n",
    "sent_purchase201004=[]\n",
    "sent_purchase201005=[]\n",
    "sent_purchase201006=[]\n",
    "sent_purchase201007=[]\n",
    "sent_purchase201008=[]\n",
    "sent_purchase201009=[]\n",
    "sent_purchase201010=[]\n",
    "sent_purchase201011=[]\n",
    "sent_purchase201012=[]\n",
    "sent_purchase201101=[]\n",
    "sent_purchase201102=[]\n",
    "sent_purchase201103=[]\n",
    "sent_purchase201104=[]\n",
    "sent_purchase201105=[]\n",
    "sent_purchase201106=[]\n",
    "sent_purchase201107=[]\n",
    "sent_purchase201108=[]\n",
    "sent_purchase201109=[]\n",
    "sent_purchase201110=[]\n",
    "sent_purchase201111=[]\n",
    "\n",
    "for i in range(0,31276):\n",
    "    sentence = sent_tokenize(df_200912.description[i])\n",
    "    sent_purchase200912.append(sentence)\n",
    "    i+=1    \n",
    "sent_purchase=tuple( tuple(x) for x in sent_purchase200912)\n",
    "count_list_purchase=Counter(sent_purchase)\n",
    "common_purchase200912=count_list_purchase.most_common(3) # top3\n",
    "print('2019년 12월 추천 상품설명: ', format(common_purchase200912))\n",
    "print('\\n')\n",
    "for i in range(31276,53398):\n",
    "    sentence = sent_tokenize(df_201001.description[i])\n",
    "    sent_purchase201001.append(sentence)\n",
    "    i+=1    \n",
    "sent_purchase=tuple( tuple(x) for x in sent_purchase201001)\n",
    "count_list_purchase=Counter(sent_purchase)\n",
    "common_purchase201001=count_list_purchase.most_common(3) \n",
    "print('2010년 1월 추천 상품설명: ', format(common_purchase201001))\n",
    "print('\\n')\n",
    "for i in range(53398,76976):\n",
    "    sentence = sent_tokenize(df_201002.description[i])\n",
    "    sent_purchase201002.append(sentence)\n",
    "    i+=1    \n",
    "sent_purchase=tuple( tuple(x) for x in sent_purchase201002)\n",
    "count_list_purchase=Counter(sent_purchase)\n",
    "common_purchase201002=count_list_purchase.most_common(3)\n",
    "print('2010년 2월 추천 상품설명: ', format(common_purchase201002))\n",
    "print('\\n')\n",
    "for i in range(76976,109568):\n",
    "    sentence = sent_tokenize(df_201003.description[i])\n",
    "    sent_purchase201003.append(sentence)\n",
    "    i+=1    \n",
    "sent_purchase=tuple( tuple(x) for x in sent_purchase201003)\n",
    "count_list_purchase=Counter(sent_purchase)\n",
    "common_purchase201003=count_list_purchase.most_common(3) \n",
    "print('2010년 3월 추천 상품설명: ', format(common_purchase201003))\n",
    "print('\\n')\n",
    "for i in range(109568,136997):\n",
    "    sentence = sent_tokenize(df_201004.description[i])\n",
    "    sent_purchase201004.append(sentence)\n",
    "    i+=1    \n",
    "sent_purchase=tuple( tuple(x) for x in sent_purchase201004)\n",
    "count_list_purchase=Counter(sent_purchase)\n",
    "common_purchase201004=count_list_purchase.most_common(3) \n",
    "print('2010년 4월 추천 상품설명: ', format(common_purchase201004))\n",
    "print('\\n')\n",
    "for i in range(136997,166188):\n",
    "    sentence = sent_tokenize(df_201005.description[i])\n",
    "    sent_purchase201005.append(sentence)\n",
    "    i+=1    \n",
    "sent_purchase=tuple( tuple(x) for x in sent_purchase201005)\n",
    "count_list_purchase=Counter(sent_purchase)\n",
    "common_purchase201005=count_list_purchase.most_common(3) \n",
    "print('2010년 5월 추천 상품설명: ', format(common_purchase201005))\n",
    "print('\\n')\n",
    "for i in range(166188,197635):\n",
    "    sentence = sent_tokenize(df_201006.description[i])\n",
    "    sent_purchase201006.append(sentence)\n",
    "    i+=1    \n",
    "sent_purchase=tuple( tuple(x) for x in sent_purchase201006)\n",
    "count_list_purchase=Counter(sent_purchase)\n",
    "common_purchase201006=count_list_purchase.most_common(3)\n",
    "print('2010년 6월 추천 상품설명: ', format(common_purchase201006))\n",
    "print('\\n')\n",
    "for i in range(197635,224992):\n",
    "    sentence = sent_tokenize(df_201007.description[i])\n",
    "    sent_purchase201007.append(sentence)\n",
    "    i+=1    \n",
    "sent_purchase=tuple( tuple(x) for x in sent_purchase201007)\n",
    "count_list_purchase=Counter(sent_purchase)\n",
    "common_purchase201007=count_list_purchase.most_common(3) \n",
    "print('2010년 7월 추천 상품설명: ', format(common_purchase201007))\n",
    "print('\\n')\n",
    "for i in range(224992,251569):\n",
    "    sentence = sent_tokenize(df_201008.description[i])\n",
    "    sent_purchase201008.append(sentence)\n",
    "    i+=1    \n",
    "sent_purchase=tuple( tuple(x) for x in sent_purchase201008)\n",
    "count_list_purchase=Counter(sent_purchase)\n",
    "common_purchase201008=count_list_purchase.most_common(3) \n",
    "print('2010년 8월 추천 상품설명: ', format(common_purchase201008))\n",
    "print('\\n')\n",
    "for i in range(251569,286480):\n",
    "    sentence = sent_tokenize(df_201009.description[i])\n",
    "    sent_purchase201009.append(sentence)\n",
    "    i+=1    \n",
    "sent_purchase=tuple( tuple(x) for x in sent_purchase201009)\n",
    "count_list_purchase=Counter(sent_purchase)\n",
    "common_purchase201009=count_list_purchase.most_common(3) \n",
    "print('2010년 9월 추천 상품설명: ', format(common_purchase201009))\n",
    "print('\\n')\n",
    "for i in range(286480,336199):\n",
    "    sentence = sent_tokenize(df_201010.description[i])\n",
    "    sent_purchase201010.append(sentence)\n",
    "    i+=1    \n",
    "sent_purchase=tuple( tuple(x) for x in sent_purchase201010)\n",
    "count_list_purchase=Counter(sent_purchase)\n",
    "common_purchase201010=count_list_purchase.most_common(3) \n",
    "print('2010년 10월 추천 상품설명: ', format(common_purchase201010))\n",
    "print('\\n')\n",
    "for i in range(336199,396280):\n",
    "    sentence = sent_tokenize(df_201011.description[i])\n",
    "    sent_purchase201011.append(sentence)\n",
    "    i+=1    \n",
    "sent_purchase=tuple( tuple(x) for x in sent_purchase201011)\n",
    "count_list_purchase=Counter(sent_purchase)\n",
    "common_purchase201011=count_list_purchase.most_common(3)\n",
    "print('2010년 11월 추천 상품설명: ', format(common_purchase201011))\n",
    "print('\\n')\n",
    "for i in range(396280,422634):\n",
    "    sentence = sent_tokenize(df_201012.description[i])\n",
    "    sent_purchase201012.append(sentence)\n",
    "    i+=1    \n",
    "sent_purchase=tuple( tuple(x) for x in sent_purchase201012)\n",
    "count_list_purchase=Counter(sent_purchase)\n",
    "common_purchase201012=count_list_purchase.most_common(3) \n",
    "print('2010년 12월 추천 상품설명: ', format(common_purchase201012))\n",
    "print('\\n')\n",
    "for i in range(422634,444304):\n",
    "    sentence = sent_tokenize(df_201101.description[i])\n",
    "    sent_purchase201101.append(sentence)\n",
    "    i+=1\n",
    "sent_purchase=tuple( tuple(x) for x in sent_purchase201101)\n",
    "count_list_purchase=Counter(sent_purchase)\n",
    "common_purchase201101=count_list_purchase.most_common(3) \n",
    "print('2011년 1월 추천 상품설명: ', format(common_purchase201101))\n",
    "print('\\n')\n",
    "for i in range(444304,464442):\n",
    "    sentence = sent_tokenize(df_201102.description[i])\n",
    "    sent_purchase201102.append(sentence)\n",
    "    i+=1    \n",
    "sent_purchase=tuple( tuple(x) for x in sent_purchase201102)\n",
    "count_list_purchase=Counter(sent_purchase)\n",
    "common_purchase201102=count_list_purchase.most_common(3) \n",
    "print('2011년 2월 추천 상품설명: ', format(common_purchase201102))\n",
    "print('\\n')\n",
    "for i in range(464442,491958):\n",
    "    sentence = sent_tokenize(df_201103.description[i])\n",
    "    sent_purchase201103.append(sentence)\n",
    "    i+=1    \n",
    "sent_purchase=tuple( tuple(x) for x in sent_purchase201103)\n",
    "count_list_purchase=Counter(sent_purchase)\n",
    "common_purchase201103=count_list_purchase.most_common(3)\n",
    "print('2011년 3월 추천 상품설명: ', format(common_purchase201103))\n",
    "print('\\n')\n",
    "for i in range(491958,514946):\n",
    "    sentence = sent_tokenize(df_201104.description[i])\n",
    "    sent_purchase201104.append(sentence)\n",
    "    i+=1    \n",
    "sent_purchase=tuple( tuple(x) for x in sent_purchase201104)\n",
    "count_list_purchase=Counter(sent_purchase)\n",
    "common_purchase201104=count_list_purchase.most_common(3)\n",
    "print('2011년 4월 추천 상품설명: ', format(common_purchase201104))\n",
    "print('\\n')\n",
    "for i in range(514946,543607):\n",
    "    sentence = sent_tokenize(df_201105.description[i])\n",
    "    sent_purchase201105.append(sentence)\n",
    "    i+=1    \n",
    "sent_purchase=tuple( tuple(x) for x in sent_purchase201105)\n",
    "count_list_purchase=Counter(sent_purchase)\n",
    "common_purchase201105=count_list_purchase.most_common(3) \n",
    "print('2011년 5월 추천 상품설명: ', format(common_purchase201105))\n",
    "print('\\n')\n",
    "for i in range(543607,571183):\n",
    "    sentence = sent_tokenize(df_201106.description[i])\n",
    "    sent_purchase201106.append(sentence)\n",
    "    i+=1    \n",
    "sent_purchase=tuple( tuple(x) for x in sent_purchase201106)\n",
    "count_list_purchase=Counter(sent_purchase)\n",
    "common_purchase201106=count_list_purchase.most_common(3) \n",
    "print('2011년 6월 추천 상품설명: ', format(common_purchase201106))\n",
    "print('\\n')\n",
    "for i in range(571183,598439):\n",
    "    sentence = sent_tokenize(df_201107.description[i])\n",
    "    sent_purchase201107.append(sentence)\n",
    "    i+=1    \n",
    "sent_purchase=tuple( tuple(x) for x in sent_purchase201107)\n",
    "count_list_purchase=Counter(sent_purchase)\n",
    "common_purchase201107=count_list_purchase.most_common(3) \n",
    "print('2011년 7월 추천 상품설명: ', format(common_purchase201107))\n",
    "print('\\n')\n",
    "for i in range(598439,625883):\n",
    "    sentence = sent_tokenize(df_201108.description[i])\n",
    "    sent_purchase201108.append(sentence)\n",
    "    i+=1    \n",
    "sent_purchase=tuple( tuple(x) for x in sent_purchase201108)\n",
    "count_list_purchase=Counter(sent_purchase)\n",
    "common_purchase201108=count_list_purchase.most_common(3) \n",
    "print('2011년 8월 추천 상품설명: ', format(common_purchase201108))\n",
    "print('\\n')\n",
    "for i in range(625883,666342):\n",
    "    sentence = sent_tokenize(df_201109.description[i])\n",
    "    sent_purchase201109.append(sentence)\n",
    "    i+=1    \n",
    "sent_purchase=tuple( tuple(x) for x in sent_purchase201109)\n",
    "count_list_purchase=Counter(sent_purchase)\n",
    "common_purchase201109=count_list_purchase.most_common(3) \n",
    "print('2011년 9월 추천 상품설명: ', format(common_purchase201109))\n",
    "print('\\n')\n",
    "for i in range(666342,716270):\n",
    "    sentence = sent_tokenize(df_201110.description[i])\n",
    "    sent_purchase201110.append(sentence)\n",
    "    i+=1    \n",
    "sent_purchase=tuple( tuple(x) for x in sent_purchase201110)\n",
    "count_list_purchase=Counter(sent_purchase)\n",
    "common_purchase201110=count_list_purchase.most_common(3) \n",
    "print('2011년 10월 추천 상품설명: ', format(common_purchase201110))\n",
    "print('\\n')\n",
    "for i in range(716270,780486):\n",
    "    sentence = sent_tokenize(df_201111.description[i])\n",
    "    sent_purchase201111.append(sentence)\n",
    "    i+=1    \n",
    "sent_purchase=tuple( tuple(x) for x in sent_purchase201111)\n",
    "count_list_purchase=Counter(sent_purchase)\n",
    "common_purchase201111=count_list_purchase.most_common(3) \n",
    "print('2011년 11월 추천 상품설명: ', format(common_purchase201111))\n"
   ]
  },
  {
   "cell_type": "markdown",
   "metadata": {},
   "source": [
    "2009년 12월부터 2011년 11월까지 달 별 추천 상품 설명 데이터프레임 만들기\n",
    "--"
   ]
  },
  {
   "cell_type": "code",
   "execution_count": 483,
   "metadata": {},
   "outputs": [],
   "source": [
    "common_all=[common_purchase200912, common_purchase201001,common_purchase201002,common_purchase201003,\n",
    "            common_purchase201004,common_purchase201005,common_purchase201006,common_purchase201007,\n",
    "            common_purchase201008,common_purchase201009,common_purchase201010,common_purchase201011,\n",
    "            common_purchase201012,common_purchase201101, common_purchase201102, common_purchase201103, \n",
    "            common_purchase201104,common_purchase201105, common_purchase201106,common_purchase201107, \n",
    "            common_purchase201108, common_purchase201109, common_purchase201110, common_purchase201111]"
   ]
  },
  {
   "cell_type": "code",
   "execution_count": 484,
   "metadata": {},
   "outputs": [],
   "source": [
    "index=['200912','201001','201002','201003','201004','201005','201006','201007',\n",
    "      '201008','201009','201010','201011','201012','201101','201102','201103','201104',\n",
    "      '201105','201106','201107','201108','201109','201110','201111']\n",
    "columns=['first','second','third']"
   ]
  },
  {
   "cell_type": "code",
   "execution_count": 485,
   "metadata": {},
   "outputs": [
    {
     "data": {
      "text/html": [
       "<div>\n",
       "<style scoped>\n",
       "    .dataframe tbody tr th:only-of-type {\n",
       "        vertical-align: middle;\n",
       "    }\n",
       "\n",
       "    .dataframe tbody tr th {\n",
       "        vertical-align: top;\n",
       "    }\n",
       "\n",
       "    .dataframe thead th {\n",
       "        text-align: right;\n",
       "    }\n",
       "</style>\n",
       "<table border=\"1\" class=\"dataframe\">\n",
       "  <thead>\n",
       "    <tr style=\"text-align: right;\">\n",
       "      <th></th>\n",
       "      <th>first</th>\n",
       "      <th>second</th>\n",
       "      <th>third</th>\n",
       "    </tr>\n",
       "  </thead>\n",
       "  <tbody>\n",
       "    <tr>\n",
       "      <th>200912</th>\n",
       "      <td>((WHITE HANGING HEART T-LIGHT HOLDER,), 291)</td>\n",
       "      <td>((SCOTTIE DOG HOT WATER BOTTLE,), 197)</td>\n",
       "      <td>((HOT WATER BOTTLE TEA AND SYMPATHY,), 168)</td>\n",
       "    </tr>\n",
       "    <tr>\n",
       "      <th>201001</th>\n",
       "      <td>((WHITE HANGING HEART T-LIGHT HOLDER,), 252)</td>\n",
       "      <td>((RED HANGING HEART T-LIGHT HOLDER,), 125)</td>\n",
       "      <td>((RED WOOLLY HOTTIE WHITE HEART.,), 111)</td>\n",
       "    </tr>\n",
       "    <tr>\n",
       "      <th>201002</th>\n",
       "      <td>((WHITE HANGING HEART T-LIGHT HOLDER,), 203)</td>\n",
       "      <td>((JUMBO BAG RED WHITE SPOTTY,), 108)</td>\n",
       "      <td>((DOOR MAT UNION FLAG,), 104)</td>\n",
       "    </tr>\n",
       "    <tr>\n",
       "      <th>201003</th>\n",
       "      <td>((WHITE HANGING HEART T-LIGHT HOLDER,), 267)</td>\n",
       "      <td>((JUMBO BAG RED WHITE SPOTTY,), 137)</td>\n",
       "      <td>((STRAWBERRY CERAMIC TRINKET BOX,), 134)</td>\n",
       "    </tr>\n",
       "    <tr>\n",
       "      <th>201004</th>\n",
       "      <td>((WHITE HANGING HEART T-LIGHT HOLDER,), 227)</td>\n",
       "      <td>((REGENCY CAKESTAND 3 TIER,), 204)</td>\n",
       "      <td>((DOOR MAT UNION FLAG,), 119)</td>\n",
       "    </tr>\n",
       "    <tr>\n",
       "      <th>201005</th>\n",
       "      <td>((WHITE HANGING HEART T-LIGHT HOLDER,), 241)</td>\n",
       "      <td>((PARTY BUNTING,), 140)</td>\n",
       "      <td>((PACK OF 72 RETRO SPOT CAKE CASES,), 131)</td>\n",
       "    </tr>\n",
       "    <tr>\n",
       "      <th>201006</th>\n",
       "      <td>((WHITE HANGING HEART T-LIGHT HOLDER,), 240)</td>\n",
       "      <td>((REGENCY CAKESTAND 3 TIER,), 197)</td>\n",
       "      <td>((JUMBO BAG RED RETROSPOT,), 169)</td>\n",
       "    </tr>\n",
       "    <tr>\n",
       "      <th>201007</th>\n",
       "      <td>((WHITE HANGING HEART T-LIGHT HOLDER,), 226)</td>\n",
       "      <td>((REGENCY CAKESTAND 3 TIER,), 208)</td>\n",
       "      <td>((STRAWBERRY CERAMIC TRINKET BOX,), 137)</td>\n",
       "    </tr>\n",
       "    <tr>\n",
       "      <th>201008</th>\n",
       "      <td>((WHITE HANGING HEART T-LIGHT HOLDER,), 235)</td>\n",
       "      <td>((REGENCY CAKESTAND 3 TIER,), 172)</td>\n",
       "      <td>((LUNCH BAG RED SPOTTY,), 143)</td>\n",
       "    </tr>\n",
       "    <tr>\n",
       "      <th>201009</th>\n",
       "      <td>((WHITE HANGING HEART T-LIGHT HOLDER,), 235)</td>\n",
       "      <td>((REGENCY CAKESTAND 3 TIER,), 232)</td>\n",
       "      <td>((JUMBO BAG RED RETROSPOT,), 183)</td>\n",
       "    </tr>\n",
       "    <tr>\n",
       "      <th>201010</th>\n",
       "      <td>((WHITE HANGING HEART T-LIGHT HOLDER,), 286)</td>\n",
       "      <td>((REGENCY CAKESTAND 3 TIER,), 271)</td>\n",
       "      <td>((PAPER CHAIN KIT VINTAGE CHRISTMAS,), 188)</td>\n",
       "    </tr>\n",
       "    <tr>\n",
       "      <th>201011</th>\n",
       "      <td>((WHITE HANGING HEART T-LIGHT HOLDER,), 388)</td>\n",
       "      <td>((HAND WARMER OWL DESIGN,), 305)</td>\n",
       "      <td>((PAPER CHAIN KIT 50'S CHRISTMAS,), 301)</td>\n",
       "    </tr>\n",
       "    <tr>\n",
       "      <th>201012</th>\n",
       "      <td>((WHITE HANGING HEART T-LIGHT HOLDER,), 213)</td>\n",
       "      <td>((REGENCY CAKESTAND 3 TIER,), 153)</td>\n",
       "      <td>((HAND WARMER BABUSHKA DESIGN,), 141)</td>\n",
       "    </tr>\n",
       "    <tr>\n",
       "      <th>201101</th>\n",
       "      <td>((WHITE HANGING HEART T-LIGHT HOLDER,), 164)</td>\n",
       "      <td>((SET OF 3 CAKE TINS PANTRY DESIGN,), 137)</td>\n",
       "      <td>((REGENCY CAKESTAND 3 TIER,), 132)</td>\n",
       "    </tr>\n",
       "    <tr>\n",
       "      <th>201102</th>\n",
       "      <td>((WHITE HANGING HEART T-LIGHT HOLDER,), 130)</td>\n",
       "      <td>((REGENCY CAKESTAND 3 TIER,), 129)</td>\n",
       "      <td>((SET OF 3 CAKE TINS PANTRY DESIGN,), 129)</td>\n",
       "    </tr>\n",
       "    <tr>\n",
       "      <th>201103</th>\n",
       "      <td>((REGENCY CAKESTAND 3 TIER,), 197)</td>\n",
       "      <td>((WHITE HANGING HEART T-LIGHT HOLDER,), 174)</td>\n",
       "      <td>((SET OF 3 CAKE TINS PANTRY DESIGN,), 169)</td>\n",
       "    </tr>\n",
       "    <tr>\n",
       "      <th>201104</th>\n",
       "      <td>((REGENCY CAKESTAND 3 TIER,), 173)</td>\n",
       "      <td>((PARTY BUNTING,), 165)</td>\n",
       "      <td>((WHITE HANGING HEART T-LIGHT HOLDER,), 160)</td>\n",
       "    </tr>\n",
       "    <tr>\n",
       "      <th>201105</th>\n",
       "      <td>((SPOTTY BUNTING,), 211)</td>\n",
       "      <td>((PARTY BUNTING,), 210)</td>\n",
       "      <td>((WHITE HANGING HEART T-LIGHT HOLDER,), 201)</td>\n",
       "    </tr>\n",
       "    <tr>\n",
       "      <th>201106</th>\n",
       "      <td>((PARTY BUNTING,), 181)</td>\n",
       "      <td>((SPOTTY BUNTING,), 155)</td>\n",
       "      <td>((LUNCH BAG DOILEY PATTERN,), 137)</td>\n",
       "    </tr>\n",
       "    <tr>\n",
       "      <th>201107</th>\n",
       "      <td>((PARTY BUNTING,), 158)</td>\n",
       "      <td>((SPOTTY BUNTING,), 154)</td>\n",
       "      <td>((LUNCH BAG DOILEY PATTERN,), 147)</td>\n",
       "    </tr>\n",
       "    <tr>\n",
       "      <th>201108</th>\n",
       "      <td>((JUMBO BAG RED RETROSPOT,), 159)</td>\n",
       "      <td>((SPOTTY BUNTING,), 150)</td>\n",
       "      <td>((LUNCH BAG RED RETROSPOT,), 138)</td>\n",
       "    </tr>\n",
       "    <tr>\n",
       "      <th>201109</th>\n",
       "      <td>((HOT WATER BOTTLE KEEP CALM,), 193)</td>\n",
       "      <td>((JUMBO BAG RED RETROSPOT,), 192)</td>\n",
       "      <td>((JUMBO BAG VINTAGE DOILY,), 173)</td>\n",
       "    </tr>\n",
       "    <tr>\n",
       "      <th>201110</th>\n",
       "      <td>((PAPER CHAIN KIT 50'S CHRISTMAS,), 208)</td>\n",
       "      <td>((HOT WATER BOTTLE KEEP CALM,), 182)</td>\n",
       "      <td>((JUMBO BAG RED RETROSPOT,), 177)</td>\n",
       "    </tr>\n",
       "    <tr>\n",
       "      <th>201111</th>\n",
       "      <td>((RABBIT NIGHT LIGHT,), 458)</td>\n",
       "      <td>((PAPER CHAIN KIT 50'S CHRISTMAS,), 356)</td>\n",
       "      <td>((HOT WATER BOTTLE KEEP CALM,), 266)</td>\n",
       "    </tr>\n",
       "  </tbody>\n",
       "</table>\n",
       "</div>"
      ],
      "text/plain": [
       "                                               first  \\\n",
       "200912  ((WHITE HANGING HEART T-LIGHT HOLDER,), 291)   \n",
       "201001  ((WHITE HANGING HEART T-LIGHT HOLDER,), 252)   \n",
       "201002  ((WHITE HANGING HEART T-LIGHT HOLDER,), 203)   \n",
       "201003  ((WHITE HANGING HEART T-LIGHT HOLDER,), 267)   \n",
       "201004  ((WHITE HANGING HEART T-LIGHT HOLDER,), 227)   \n",
       "201005  ((WHITE HANGING HEART T-LIGHT HOLDER,), 241)   \n",
       "201006  ((WHITE HANGING HEART T-LIGHT HOLDER,), 240)   \n",
       "201007  ((WHITE HANGING HEART T-LIGHT HOLDER,), 226)   \n",
       "201008  ((WHITE HANGING HEART T-LIGHT HOLDER,), 235)   \n",
       "201009  ((WHITE HANGING HEART T-LIGHT HOLDER,), 235)   \n",
       "201010  ((WHITE HANGING HEART T-LIGHT HOLDER,), 286)   \n",
       "201011  ((WHITE HANGING HEART T-LIGHT HOLDER,), 388)   \n",
       "201012  ((WHITE HANGING HEART T-LIGHT HOLDER,), 213)   \n",
       "201101  ((WHITE HANGING HEART T-LIGHT HOLDER,), 164)   \n",
       "201102  ((WHITE HANGING HEART T-LIGHT HOLDER,), 130)   \n",
       "201103            ((REGENCY CAKESTAND 3 TIER,), 197)   \n",
       "201104            ((REGENCY CAKESTAND 3 TIER,), 173)   \n",
       "201105                      ((SPOTTY BUNTING,), 211)   \n",
       "201106                       ((PARTY BUNTING,), 181)   \n",
       "201107                       ((PARTY BUNTING,), 158)   \n",
       "201108             ((JUMBO BAG RED RETROSPOT,), 159)   \n",
       "201109          ((HOT WATER BOTTLE KEEP CALM,), 193)   \n",
       "201110      ((PAPER CHAIN KIT 50'S CHRISTMAS,), 208)   \n",
       "201111                  ((RABBIT NIGHT LIGHT,), 458)   \n",
       "\n",
       "                                              second  \\\n",
       "200912        ((SCOTTIE DOG HOT WATER BOTTLE,), 197)   \n",
       "201001    ((RED HANGING HEART T-LIGHT HOLDER,), 125)   \n",
       "201002          ((JUMBO BAG RED WHITE SPOTTY,), 108)   \n",
       "201003          ((JUMBO BAG RED WHITE SPOTTY,), 137)   \n",
       "201004            ((REGENCY CAKESTAND 3 TIER,), 204)   \n",
       "201005                       ((PARTY BUNTING,), 140)   \n",
       "201006            ((REGENCY CAKESTAND 3 TIER,), 197)   \n",
       "201007            ((REGENCY CAKESTAND 3 TIER,), 208)   \n",
       "201008            ((REGENCY CAKESTAND 3 TIER,), 172)   \n",
       "201009            ((REGENCY CAKESTAND 3 TIER,), 232)   \n",
       "201010            ((REGENCY CAKESTAND 3 TIER,), 271)   \n",
       "201011              ((HAND WARMER OWL DESIGN,), 305)   \n",
       "201012            ((REGENCY CAKESTAND 3 TIER,), 153)   \n",
       "201101    ((SET OF 3 CAKE TINS PANTRY DESIGN,), 137)   \n",
       "201102            ((REGENCY CAKESTAND 3 TIER,), 129)   \n",
       "201103  ((WHITE HANGING HEART T-LIGHT HOLDER,), 174)   \n",
       "201104                       ((PARTY BUNTING,), 165)   \n",
       "201105                       ((PARTY BUNTING,), 210)   \n",
       "201106                      ((SPOTTY BUNTING,), 155)   \n",
       "201107                      ((SPOTTY BUNTING,), 154)   \n",
       "201108                      ((SPOTTY BUNTING,), 150)   \n",
       "201109             ((JUMBO BAG RED RETROSPOT,), 192)   \n",
       "201110          ((HOT WATER BOTTLE KEEP CALM,), 182)   \n",
       "201111      ((PAPER CHAIN KIT 50'S CHRISTMAS,), 356)   \n",
       "\n",
       "                                               third  \n",
       "200912   ((HOT WATER BOTTLE TEA AND SYMPATHY,), 168)  \n",
       "201001      ((RED WOOLLY HOTTIE WHITE HEART.,), 111)  \n",
       "201002                 ((DOOR MAT UNION FLAG,), 104)  \n",
       "201003      ((STRAWBERRY CERAMIC TRINKET BOX,), 134)  \n",
       "201004                 ((DOOR MAT UNION FLAG,), 119)  \n",
       "201005    ((PACK OF 72 RETRO SPOT CAKE CASES,), 131)  \n",
       "201006             ((JUMBO BAG RED RETROSPOT,), 169)  \n",
       "201007      ((STRAWBERRY CERAMIC TRINKET BOX,), 137)  \n",
       "201008                ((LUNCH BAG RED SPOTTY,), 143)  \n",
       "201009             ((JUMBO BAG RED RETROSPOT,), 183)  \n",
       "201010   ((PAPER CHAIN KIT VINTAGE CHRISTMAS,), 188)  \n",
       "201011      ((PAPER CHAIN KIT 50'S CHRISTMAS,), 301)  \n",
       "201012         ((HAND WARMER BABUSHKA DESIGN,), 141)  \n",
       "201101            ((REGENCY CAKESTAND 3 TIER,), 132)  \n",
       "201102    ((SET OF 3 CAKE TINS PANTRY DESIGN,), 129)  \n",
       "201103    ((SET OF 3 CAKE TINS PANTRY DESIGN,), 169)  \n",
       "201104  ((WHITE HANGING HEART T-LIGHT HOLDER,), 160)  \n",
       "201105  ((WHITE HANGING HEART T-LIGHT HOLDER,), 201)  \n",
       "201106            ((LUNCH BAG DOILEY PATTERN,), 137)  \n",
       "201107            ((LUNCH BAG DOILEY PATTERN,), 147)  \n",
       "201108             ((LUNCH BAG RED RETROSPOT,), 138)  \n",
       "201109             ((JUMBO BAG VINTAGE DOILY,), 173)  \n",
       "201110             ((JUMBO BAG RED RETROSPOT,), 177)  \n",
       "201111          ((HOT WATER BOTTLE KEEP CALM,), 266)  "
      ]
     },
     "execution_count": 485,
     "metadata": {},
     "output_type": "execute_result"
    }
   ],
   "source": [
    "common_all=pd.DataFrame(common_all, index=index, columns=columns)\n",
    "common_all"
   ]
  },
  {
   "cell_type": "markdown",
   "metadata": {},
   "source": [
    "- 각 데이터별 글자는 상품명, 숫자는 언급 횟수"
   ]
  },
  {
   "cell_type": "code",
   "execution_count": 515,
   "metadata": {},
   "outputs": [],
   "source": [
    "common_all=common_all.transpose()"
   ]
  },
  {
   "cell_type": "code",
   "execution_count": 516,
   "metadata": {},
   "outputs": [
    {
     "data": {
      "text/html": [
       "<div>\n",
       "<style scoped>\n",
       "    .dataframe tbody tr th:only-of-type {\n",
       "        vertical-align: middle;\n",
       "    }\n",
       "\n",
       "    .dataframe tbody tr th {\n",
       "        vertical-align: top;\n",
       "    }\n",
       "\n",
       "    .dataframe thead th {\n",
       "        text-align: right;\n",
       "    }\n",
       "</style>\n",
       "<table border=\"1\" class=\"dataframe\">\n",
       "  <thead>\n",
       "    <tr style=\"text-align: right;\">\n",
       "      <th></th>\n",
       "      <th>200912</th>\n",
       "      <th>201001</th>\n",
       "      <th>201002</th>\n",
       "      <th>201003</th>\n",
       "      <th>201004</th>\n",
       "      <th>201005</th>\n",
       "      <th>201006</th>\n",
       "      <th>201007</th>\n",
       "      <th>201008</th>\n",
       "      <th>201009</th>\n",
       "      <th>...</th>\n",
       "      <th>201102</th>\n",
       "      <th>201103</th>\n",
       "      <th>201104</th>\n",
       "      <th>201105</th>\n",
       "      <th>201106</th>\n",
       "      <th>201107</th>\n",
       "      <th>201108</th>\n",
       "      <th>201109</th>\n",
       "      <th>201110</th>\n",
       "      <th>201111</th>\n",
       "    </tr>\n",
       "  </thead>\n",
       "  <tbody>\n",
       "    <tr>\n",
       "      <th>first</th>\n",
       "      <td>((WHITE HANGING HEART T-LIGHT HOLDER,), 291)</td>\n",
       "      <td>((WHITE HANGING HEART T-LIGHT HOLDER,), 252)</td>\n",
       "      <td>((WHITE HANGING HEART T-LIGHT HOLDER,), 203)</td>\n",
       "      <td>((WHITE HANGING HEART T-LIGHT HOLDER,), 267)</td>\n",
       "      <td>((WHITE HANGING HEART T-LIGHT HOLDER,), 227)</td>\n",
       "      <td>((WHITE HANGING HEART T-LIGHT HOLDER,), 241)</td>\n",
       "      <td>((WHITE HANGING HEART T-LIGHT HOLDER,), 240)</td>\n",
       "      <td>((WHITE HANGING HEART T-LIGHT HOLDER,), 226)</td>\n",
       "      <td>((WHITE HANGING HEART T-LIGHT HOLDER,), 235)</td>\n",
       "      <td>((WHITE HANGING HEART T-LIGHT HOLDER,), 235)</td>\n",
       "      <td>...</td>\n",
       "      <td>((WHITE HANGING HEART T-LIGHT HOLDER,), 130)</td>\n",
       "      <td>((REGENCY CAKESTAND 3 TIER,), 197)</td>\n",
       "      <td>((REGENCY CAKESTAND 3 TIER,), 173)</td>\n",
       "      <td>((SPOTTY BUNTING,), 211)</td>\n",
       "      <td>((PARTY BUNTING,), 181)</td>\n",
       "      <td>((PARTY BUNTING,), 158)</td>\n",
       "      <td>((JUMBO BAG RED RETROSPOT,), 159)</td>\n",
       "      <td>((HOT WATER BOTTLE KEEP CALM,), 193)</td>\n",
       "      <td>((PAPER CHAIN KIT 50'S CHRISTMAS,), 208)</td>\n",
       "      <td>((RABBIT NIGHT LIGHT,), 458)</td>\n",
       "    </tr>\n",
       "    <tr>\n",
       "      <th>second</th>\n",
       "      <td>((SCOTTIE DOG HOT WATER BOTTLE,), 197)</td>\n",
       "      <td>((RED HANGING HEART T-LIGHT HOLDER,), 125)</td>\n",
       "      <td>((JUMBO BAG RED WHITE SPOTTY,), 108)</td>\n",
       "      <td>((JUMBO BAG RED WHITE SPOTTY,), 137)</td>\n",
       "      <td>((REGENCY CAKESTAND 3 TIER,), 204)</td>\n",
       "      <td>((PARTY BUNTING,), 140)</td>\n",
       "      <td>((REGENCY CAKESTAND 3 TIER,), 197)</td>\n",
       "      <td>((REGENCY CAKESTAND 3 TIER,), 208)</td>\n",
       "      <td>((REGENCY CAKESTAND 3 TIER,), 172)</td>\n",
       "      <td>((REGENCY CAKESTAND 3 TIER,), 232)</td>\n",
       "      <td>...</td>\n",
       "      <td>((REGENCY CAKESTAND 3 TIER,), 129)</td>\n",
       "      <td>((WHITE HANGING HEART T-LIGHT HOLDER,), 174)</td>\n",
       "      <td>((PARTY BUNTING,), 165)</td>\n",
       "      <td>((PARTY BUNTING,), 210)</td>\n",
       "      <td>((SPOTTY BUNTING,), 155)</td>\n",
       "      <td>((SPOTTY BUNTING,), 154)</td>\n",
       "      <td>((SPOTTY BUNTING,), 150)</td>\n",
       "      <td>((JUMBO BAG RED RETROSPOT,), 192)</td>\n",
       "      <td>((HOT WATER BOTTLE KEEP CALM,), 182)</td>\n",
       "      <td>((PAPER CHAIN KIT 50'S CHRISTMAS,), 356)</td>\n",
       "    </tr>\n",
       "    <tr>\n",
       "      <th>third</th>\n",
       "      <td>((HOT WATER BOTTLE TEA AND SYMPATHY,), 168)</td>\n",
       "      <td>((RED WOOLLY HOTTIE WHITE HEART.,), 111)</td>\n",
       "      <td>((DOOR MAT UNION FLAG,), 104)</td>\n",
       "      <td>((STRAWBERRY CERAMIC TRINKET BOX,), 134)</td>\n",
       "      <td>((DOOR MAT UNION FLAG,), 119)</td>\n",
       "      <td>((PACK OF 72 RETRO SPOT CAKE CASES,), 131)</td>\n",
       "      <td>((JUMBO BAG RED RETROSPOT,), 169)</td>\n",
       "      <td>((STRAWBERRY CERAMIC TRINKET BOX,), 137)</td>\n",
       "      <td>((LUNCH BAG RED SPOTTY,), 143)</td>\n",
       "      <td>((JUMBO BAG RED RETROSPOT,), 183)</td>\n",
       "      <td>...</td>\n",
       "      <td>((SET OF 3 CAKE TINS PANTRY DESIGN,), 129)</td>\n",
       "      <td>((SET OF 3 CAKE TINS PANTRY DESIGN,), 169)</td>\n",
       "      <td>((WHITE HANGING HEART T-LIGHT HOLDER,), 160)</td>\n",
       "      <td>((WHITE HANGING HEART T-LIGHT HOLDER,), 201)</td>\n",
       "      <td>((LUNCH BAG DOILEY PATTERN,), 137)</td>\n",
       "      <td>((LUNCH BAG DOILEY PATTERN,), 147)</td>\n",
       "      <td>((LUNCH BAG RED RETROSPOT,), 138)</td>\n",
       "      <td>((JUMBO BAG VINTAGE DOILY,), 173)</td>\n",
       "      <td>((JUMBO BAG RED RETROSPOT,), 177)</td>\n",
       "      <td>((HOT WATER BOTTLE KEEP CALM,), 266)</td>\n",
       "    </tr>\n",
       "  </tbody>\n",
       "</table>\n",
       "<p>3 rows × 24 columns</p>\n",
       "</div>"
      ],
      "text/plain": [
       "                                              200912  \\\n",
       "first   ((WHITE HANGING HEART T-LIGHT HOLDER,), 291)   \n",
       "second        ((SCOTTIE DOG HOT WATER BOTTLE,), 197)   \n",
       "third    ((HOT WATER BOTTLE TEA AND SYMPATHY,), 168)   \n",
       "\n",
       "                                              201001  \\\n",
       "first   ((WHITE HANGING HEART T-LIGHT HOLDER,), 252)   \n",
       "second    ((RED HANGING HEART T-LIGHT HOLDER,), 125)   \n",
       "third       ((RED WOOLLY HOTTIE WHITE HEART.,), 111)   \n",
       "\n",
       "                                              201002  \\\n",
       "first   ((WHITE HANGING HEART T-LIGHT HOLDER,), 203)   \n",
       "second          ((JUMBO BAG RED WHITE SPOTTY,), 108)   \n",
       "third                  ((DOOR MAT UNION FLAG,), 104)   \n",
       "\n",
       "                                              201003  \\\n",
       "first   ((WHITE HANGING HEART T-LIGHT HOLDER,), 267)   \n",
       "second          ((JUMBO BAG RED WHITE SPOTTY,), 137)   \n",
       "third       ((STRAWBERRY CERAMIC TRINKET BOX,), 134)   \n",
       "\n",
       "                                              201004  \\\n",
       "first   ((WHITE HANGING HEART T-LIGHT HOLDER,), 227)   \n",
       "second            ((REGENCY CAKESTAND 3 TIER,), 204)   \n",
       "third                  ((DOOR MAT UNION FLAG,), 119)   \n",
       "\n",
       "                                              201005  \\\n",
       "first   ((WHITE HANGING HEART T-LIGHT HOLDER,), 241)   \n",
       "second                       ((PARTY BUNTING,), 140)   \n",
       "third     ((PACK OF 72 RETRO SPOT CAKE CASES,), 131)   \n",
       "\n",
       "                                              201006  \\\n",
       "first   ((WHITE HANGING HEART T-LIGHT HOLDER,), 240)   \n",
       "second            ((REGENCY CAKESTAND 3 TIER,), 197)   \n",
       "third              ((JUMBO BAG RED RETROSPOT,), 169)   \n",
       "\n",
       "                                              201007  \\\n",
       "first   ((WHITE HANGING HEART T-LIGHT HOLDER,), 226)   \n",
       "second            ((REGENCY CAKESTAND 3 TIER,), 208)   \n",
       "third       ((STRAWBERRY CERAMIC TRINKET BOX,), 137)   \n",
       "\n",
       "                                              201008  \\\n",
       "first   ((WHITE HANGING HEART T-LIGHT HOLDER,), 235)   \n",
       "second            ((REGENCY CAKESTAND 3 TIER,), 172)   \n",
       "third                 ((LUNCH BAG RED SPOTTY,), 143)   \n",
       "\n",
       "                                              201009  ...  \\\n",
       "first   ((WHITE HANGING HEART T-LIGHT HOLDER,), 235)  ...   \n",
       "second            ((REGENCY CAKESTAND 3 TIER,), 232)  ...   \n",
       "third              ((JUMBO BAG RED RETROSPOT,), 183)  ...   \n",
       "\n",
       "                                              201102  \\\n",
       "first   ((WHITE HANGING HEART T-LIGHT HOLDER,), 130)   \n",
       "second            ((REGENCY CAKESTAND 3 TIER,), 129)   \n",
       "third     ((SET OF 3 CAKE TINS PANTRY DESIGN,), 129)   \n",
       "\n",
       "                                              201103  \\\n",
       "first             ((REGENCY CAKESTAND 3 TIER,), 197)   \n",
       "second  ((WHITE HANGING HEART T-LIGHT HOLDER,), 174)   \n",
       "third     ((SET OF 3 CAKE TINS PANTRY DESIGN,), 169)   \n",
       "\n",
       "                                              201104  \\\n",
       "first             ((REGENCY CAKESTAND 3 TIER,), 173)   \n",
       "second                       ((PARTY BUNTING,), 165)   \n",
       "third   ((WHITE HANGING HEART T-LIGHT HOLDER,), 160)   \n",
       "\n",
       "                                              201105  \\\n",
       "first                       ((SPOTTY BUNTING,), 211)   \n",
       "second                       ((PARTY BUNTING,), 210)   \n",
       "third   ((WHITE HANGING HEART T-LIGHT HOLDER,), 201)   \n",
       "\n",
       "                                    201106  \\\n",
       "first              ((PARTY BUNTING,), 181)   \n",
       "second            ((SPOTTY BUNTING,), 155)   \n",
       "third   ((LUNCH BAG DOILEY PATTERN,), 137)   \n",
       "\n",
       "                                    201107                             201108  \\\n",
       "first              ((PARTY BUNTING,), 158)  ((JUMBO BAG RED RETROSPOT,), 159)   \n",
       "second            ((SPOTTY BUNTING,), 154)           ((SPOTTY BUNTING,), 150)   \n",
       "third   ((LUNCH BAG DOILEY PATTERN,), 147)  ((LUNCH BAG RED RETROSPOT,), 138)   \n",
       "\n",
       "                                      201109  \\\n",
       "first   ((HOT WATER BOTTLE KEEP CALM,), 193)   \n",
       "second     ((JUMBO BAG RED RETROSPOT,), 192)   \n",
       "third      ((JUMBO BAG VINTAGE DOILY,), 173)   \n",
       "\n",
       "                                          201110  \\\n",
       "first   ((PAPER CHAIN KIT 50'S CHRISTMAS,), 208)   \n",
       "second      ((HOT WATER BOTTLE KEEP CALM,), 182)   \n",
       "third          ((JUMBO BAG RED RETROSPOT,), 177)   \n",
       "\n",
       "                                          201111  \n",
       "first               ((RABBIT NIGHT LIGHT,), 458)  \n",
       "second  ((PAPER CHAIN KIT 50'S CHRISTMAS,), 356)  \n",
       "third       ((HOT WATER BOTTLE KEEP CALM,), 266)  \n",
       "\n",
       "[3 rows x 24 columns]"
      ]
     },
     "execution_count": 516,
     "metadata": {},
     "output_type": "execute_result"
    }
   ],
   "source": [
    "common_all"
   ]
  },
  {
   "cell_type": "markdown",
   "metadata": {},
   "source": [
    "- 각 데이터별 글자는 상품설명, 숫자는 언급 횟수\n",
    "- 환불 명단에 있는 사람들은 제외"
   ]
  }
 ],
 "metadata": {
  "kernelspec": {
   "display_name": "Python 3",
   "language": "python",
   "name": "python3"
  },
  "language_info": {
   "codemirror_mode": {
    "name": "ipython",
    "version": 3
   },
   "file_extension": ".py",
   "mimetype": "text/x-python",
   "name": "python",
   "nbconvert_exporter": "python",
   "pygments_lexer": "ipython3",
   "version": "3.8.5"
  }
 },
 "nbformat": 4,
 "nbformat_minor": 4
}
